{
  "nbformat": 4,
  "nbformat_minor": 0,
  "metadata": {
    "colab": {
      "provenance": [],
      "authorship_tag": "ABX9TyMpvi6Kg4NGzwd/KUrSDWdD",
      "include_colab_link": true
    },
    "kernelspec": {
      "name": "python3",
      "display_name": "Python 3"
    },
    "language_info": {
      "name": "python"
    }
  },
  "cells": [
    {
      "cell_type": "markdown",
      "metadata": {
        "id": "view-in-github",
        "colab_type": "text"
      },
      "source": [
        "<a href=\"https://colab.research.google.com/github/daisysong76/AI--Machine--learning/blob/main/Data_Radlab.ipynb\" target=\"_parent\"><img src=\"https://colab.research.google.com/assets/colab-badge.svg\" alt=\"Open In Colab\"/></a>"
      ]
    },
    {
      "cell_type": "code",
      "source": [
        "import requests\n",
        "import pandas as pd\n",
        "\n",
        "# Construct the full URL and parameters\n",
        "api_url = \"https://visualization.osdr.nasa.gov/radlab/api/\"\n",
        "params = {\n",
        "    \"spacecraft\": \"ISS\",\n",
        "    \"instrument\": \"DosTel\",\n",
        "    \"timestamp>\": \"2010-04-01T23:00\",\n",
        "    \"timestamp<\": \"2022-04-02T01:05\",\n",
        "    \"absorbed_dose_rate>2\": \"\",\n",
        "    \"flux\": \"\",\n",
        "    \"latitude\": \"\",\n",
        "    \"longitude\": \"\",\n",
        "    \"altitude\": \"\",\n",
        "    \"b\": \"\",\n",
        "    \"l\": \"\",\n",
        "    \"trajectory\":\"BLEO\",\n",
        "    \"format\": \"json\"\n",
        "}\n",
        "\n",
        "# Send the GET request\n",
        "response = requests.get(api_url, params=params)\n",
        "\n",
        "# Check if the request was successful\n",
        "if response.status_code == 200:\n",
        "    # Parse the JSON content\n",
        "    data = response.json()\n",
        "\n",
        "    # Extract columns and data\n",
        "    columns = data['columns']\n",
        "    rows = data['data']\n",
        "\n",
        "    # Convert to a pandas DataFrame for easier analysis\n",
        "    df = pd.DataFrame(rows, columns=columns)\n",
        "    print(df.head())\n",
        "else:\n",
        "    print(f\"Failed to retrieve data. HTTP Status code: {response.status_code}\")\n",
        "    print(\"Response content:\", response.content)\n"
      ],
      "metadata": {
        "colab": {
          "base_uri": "https://localhost:8080/"
        },
        "id": "q3uO5D31l0FL",
        "outputId": "b0e75b91-cb7a-4dcb-a2e3-b4c7f36f4d55"
      },
      "execution_count": 1,
      "outputs": [
        {
          "output_type": "stream",
          "name": "stdout",
          "text": [
            "             timestamp instrument_id  absorbed_dose_rate    altitude        b  \\\n",
            "0  2020-01-19T00:00:00       DosTel2            3.395331  417.134463  38084.5   \n",
            "1  2020-01-19T00:15:00       DosTel2            2.183942  417.906681  34672.0   \n",
            "2  2020-01-19T00:20:00       DosTel2            4.024880  423.157462  41570.8   \n",
            "3  2020-01-19T00:25:00       DosTel2            9.647752  429.419351  47893.5   \n",
            "4  2020-01-19T00:30:00       DosTel2           13.559169  434.787300  52304.4   \n",
            "\n",
            "       flux instrument        l   latitude   longitude spacecraft  \n",
            "0  0.180721    DosTel2  1.40473  35.253606   39.926648        ISS  \n",
            "1  0.135199    DosTel2  1.07977  -8.722937   76.841958        ISS  \n",
            "2  0.252703    DosTel2  1.45416 -23.555180   88.699821        ISS  \n",
            "3  0.500914    DosTel2  2.36507 -36.978566  103.701411        ISS  \n",
            "4  0.654270    DosTel2  4.20406 -47.301796  124.614114        ISS  \n"
          ]
        }
      ]
    },
    {
      "cell_type": "markdown",
      "source": [
        "https://visualization.osdr.nasa.gov/radlab/api/?instrument=DosTel&spacecraft=ISS&timestamp%3E=2022-04-01T23%3A00&timestamp%3C2022-04-02T01%3A05&absorbed_dose_rate%3E2&flux&latitude&longitude&altitude&b&l&format=html"
      ],
      "metadata": {
        "id": "Lyqbp7Z7pSxO"
      }
    },
    {
      "cell_type": "code",
      "source": [
        "import requests\n",
        "import pandas as pd\n",
        "\n",
        "# Construct the full URL and parameters\n",
        "api_url = \"https://visualization.osdr.nasa.gov/radlab/api/\"\n",
        "params = {\n",
        "    \"spacecraft\": \"ISS\",\n",
        "    \"instrument\": \"DosTel\",\n",
        "    \"timestamp>\": \"2021-04-01T23:00\",\n",
        "    \"timestamp<\": \"2021-04-02T01:05\",\n",
        "    \"absorbed_dose_rate>2\": \"\",\n",
        "    \"flux\": \"\",\n",
        "    \"latitude\": \"\",\n",
        "    \"longitude\": \"\",\n",
        "    \"altitude\": \"\",\n",
        "    \"b\": \"\",\n",
        "    \"l\": \"\",\n",
        "    \"trajectory\":\"BLEO\",\n",
        "    \"format\": \"json\"\n",
        "}\n",
        "\n",
        "# Send the GET request\n",
        "response = requests.get(api_url, params=params)\n",
        "\n",
        "# Check if the request was successful\n",
        "if response.status_code == 200:\n",
        "    # Parse the JSON content\n",
        "    data = response.json()\n",
        "\n",
        "    # Extract columns and data\n",
        "    columns = data['columns']\n",
        "    rows = data['data']\n",
        "\n",
        "    # Convert to a pandas DataFrame for easier analysis\n",
        "    df = pd.DataFrame(rows, columns=columns)\n",
        "    print(df.head())\n",
        "else:\n",
        "    print(f\"Failed to retrieve data. HTTP Status code: {response.status_code}\")\n",
        "    print(\"Response content:\", response.content)"
      ],
      "metadata": {
        "colab": {
          "base_uri": "https://localhost:8080/"
        },
        "id": "8ELBHrAGpa7_",
        "outputId": "ea6ff0f1-1d61-4fe9-f152-7feab4f4853c"
      },
      "execution_count": null,
      "outputs": [
        {
          "output_type": "stream",
          "name": "stdout",
          "text": [
            "             timestamp instrument_id  absorbed_dose_rate    altitude        b  \\\n",
            "0  2021-04-01T23:00:00       DosTel1            2.444926  421.523335  27541.6   \n",
            "1  2021-04-01T23:00:00       DosTel2            2.419611  421.523335  27541.6   \n",
            "2  2021-04-01T23:05:00       DosTel1            3.710799  422.537297  32457.3   \n",
            "3  2021-04-01T23:05:00       DosTel2            3.903620  422.537297  32457.3   \n",
            "4  2021-04-01T23:10:00       DosTel1            8.375758  424.317713  39920.8   \n",
            "\n",
            "       flux instrument        l   latitude   longitude spacecraft  \n",
            "0  0.130793    DosTel1  1.11256  15.457514 -163.201562        ISS  \n",
            "1  0.150090    DosTel2  1.11256  15.457514 -163.201562        ISS  \n",
            "2  0.197632    DosTel1  1.40747  29.814610 -150.237941        ISS  \n",
            "3  0.221295    DosTel2  1.40747  29.814610 -150.237941        ISS  \n",
            "4  0.404324    DosTel1  2.13359  42.144923 -132.904273        ISS  \n"
          ]
        }
      ]
    },
    {
      "cell_type": "code",
      "source": [
        "len(df)"
      ],
      "metadata": {
        "colab": {
          "base_uri": "https://localhost:8080/"
        },
        "id": "_k85zC_TpKx2",
        "outputId": "b775f1e2-5ee5-44ab-fb7d-e179601e553b"
      },
      "execution_count": null,
      "outputs": [
        {
          "output_type": "execute_result",
          "data": {
            "text/plain": [
              "45"
            ]
          },
          "metadata": {},
          "execution_count": 6
        }
      ]
    },
    {
      "cell_type": "code",
      "source": [
        "import requests\n",
        "import pandas as pd\n",
        "\n",
        "# Construct the full URL and parameters\n",
        "api_url = \"https://visualization.osdr.nasa.gov/radlab/api/\"\n",
        "params = {\n",
        "    \"spacecraft\": \"ISS\",\n",
        "    \"instrument\": \"DosTel\",\n",
        "    \"timestamp>\": \"2020-04-01T23:00\",\n",
        "    \"timestamp<\": \"2020-04-02T01:05\",\n",
        "    \"absorbed_dose_rate>2\": \"\",\n",
        "    \"flux\": \"\",\n",
        "    \"latitude\": \"\",\n",
        "    \"longitude\": \"\",\n",
        "    \"altitude\": \"\",\n",
        "    \"b\": \"\",\n",
        "    \"l\": \"\",\n",
        "    \"trajectory\":\"BLEO\",\n",
        "    \"format\": \"json\"\n",
        "}\n",
        "\n",
        "# Send the GET request\n",
        "response = requests.get(api_url, params=params)\n",
        "\n",
        "# Check if the request was successful\n",
        "if response.status_code == 200:\n",
        "    # Parse the JSON content\n",
        "    data = response.json()\n",
        "\n",
        "    # Extract columns and data\n",
        "    columns = data['columns']\n",
        "    rows = data['data']\n",
        "\n",
        "    # Convert to a pandas DataFrame for easier analysis\n",
        "    df = pd.DataFrame(rows, columns=columns)\n",
        "    print(df.head())\n",
        "else:\n",
        "    print(f\"Failed to retrieve data. HTTP Status code: {response.status_code}\")\n",
        "    print(\"Response content:\", response.content)"
      ],
      "metadata": {
        "colab": {
          "base_uri": "https://localhost:8080/"
        },
        "id": "J1scchjHlN_e",
        "outputId": "673ee4c5-b68a-4416-8b01-534339c24afa"
      },
      "execution_count": null,
      "outputs": [
        {
          "output_type": "stream",
          "name": "stdout",
          "text": [
            "             timestamp instrument_id  absorbed_dose_rate    altitude        b  \\\n",
            "0  2020-04-01T23:00:00       DosTel2            7.357271  434.365730  47840.2   \n",
            "1  2020-04-01T23:05:00       DosTel2            2.958924  428.232170  39639.2   \n",
            "2  2020-04-01T23:10:00       DosTel2            2.150575  422.640079  31042.5   \n",
            "3  2020-04-01T23:15:00       DosTel2            2.242172  419.091816  26807.6   \n",
            "4  2020-04-01T23:20:00       DosTel2            2.913459  418.132946  28767.5   \n",
            "\n",
            "       flux instrument        l   latitude   longitude spacecraft  \n",
            "0  0.426748    DosTel2  2.28967 -38.089304  151.820965        ISS  \n",
            "1  0.189644    DosTel2  1.42525 -24.880663  167.226851        ISS  \n",
            "2  0.137933    DosTel2  1.09525 -10.149507  179.262024        ISS  \n",
            "3  0.141207    DosTel2  1.03810   5.098753 -169.884508        ISS  \n",
            "4  0.172243    DosTel2  1.17959  20.114299 -158.432131        ISS  \n"
          ]
        }
      ]
    }
  ]
}