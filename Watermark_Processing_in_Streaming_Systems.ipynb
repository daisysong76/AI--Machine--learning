{
  "nbformat": 4,
  "nbformat_minor": 0,
  "metadata": {
    "colab": {
      "provenance": [],
      "authorship_tag": "ABX9TyP42Xm2ZEp8MToYvwKB1nk7",
      "include_colab_link": true
    },
    "kernelspec": {
      "name": "python3",
      "display_name": "Python 3"
    },
    "language_info": {
      "name": "python"
    }
  },
  "cells": [
    {
      "cell_type": "markdown",
      "metadata": {
        "id": "view-in-github",
        "colab_type": "text"
      },
      "source": [
        "<a href=\"https://colab.research.google.com/github/daisysong76/AI--Machine--learning/blob/main/Watermark_Processing_in_Streaming_Systems.ipynb\" target=\"_parent\"><img src=\"https://colab.research.google.com/assets/colab-badge.svg\" alt=\"Open In Colab\"/></a>"
      ]
    },
    {
      "cell_type": "markdown",
      "source": [
        "Watermark Processing in Streaming Systems"
      ],
      "metadata": {
        "id": "vqHg4qiqtB8r"
      }
    },
    {
      "cell_type": "markdown",
      "source": [
        "Scenario:\n",
        "Imagine you are processing a real-time stream of sensor data from a weather monitoring system. Each event contains a timestamp indicating when the measurement was taken. Due to network latency or device issues, some events may arrive late, out of order, or significantly delayed.\n",
        "\n",
        "Your goal is to calculate the average temperature for every 5-minute window while ensuring that late events are included without delaying the computation indefinitely.\n",
        "\n",
        "Solution: Using Watermarks\n",
        "\n",
        "Watermark Definition:\n",
        "A watermark in a streaming system is a marker indicating that all events with timestamps earlier than the watermark's value have likely been received.\n",
        "For example, if the watermark is set to T - 5 seconds, it signals that the system assumes all events up to 5 seconds before time T have been received.\n",
        "\n",
        "Handling Late Events:\n",
        "When an event arrives after its corresponding window has already been processed, it is considered late. Watermarks allow us to balance between waiting for late events and ensuring timely computations.\n",
        "\n"
      ],
      "metadata": {
        "id": "b7wj-FCptKFx"
      }
    },
    {
      "cell_type": "markdown",
      "source": [
        "Event(timestamp=12:00:01, temperature=22.5)\n",
        "Event(timestamp=12:00:03, temperature=23.0)\n",
        "Event(timestamp=12:00:02, temperature=22.8)  # Out of order\n"
      ],
      "metadata": {
        "id": "XVZHosPXtNOQ"
      }
    },
    {
      "cell_type": "markdown",
      "source": [
        "Windowing Logic: Divide data into 5-minute windows (e.g., 12:00:00–12:05:00).\n",
        "\n",
        "Watermark Generation:\n",
        "Watermark is set to CurrentEventTime - 2 seconds. This means the system assumes no more events earlier than 2 seconds before the current processing time will arrive.\n",
        "\n",
        "Late Event Handling:\n",
        "If an event arrives late but before the watermark, it is included in the computation. If it arrives after the watermark, it may be discarded or handled in a special \"late events\" pipeline."
      ],
      "metadata": {
        "id": "uHWq3HLgtQvh"
      }
    },
    {
      "cell_type": "code",
      "execution_count": null,
      "metadata": {
        "id": "S8NS74THtBW4"
      },
      "outputs": [],
      "source": [
        "from pyflink.datastream import StreamExecutionEnvironment\n",
        "from pyflink.datastream.time_characteristic import TimeCharacteristic\n",
        "from pyflink.datastream.watermark_strategy import WatermarkStrategy\n",
        "from pyflink.datastream.window import TimeWindow\n",
        "\n",
        "from datetime import timedelta\n",
        "\n",
        "\n",
        "def process_temperature_stream():\n",
        "    # Set up the environment\n",
        "    env = StreamExecutionEnvironment.get_execution_environment()\n",
        "    env.set_stream_time_characteristic(TimeCharacteristic.EventTime)\n",
        "\n",
        "    # Define the data source\n",
        "    events = env.from_collection(\n",
        "        [\n",
        "            {\"timestamp\": 1672531201000, \"temperature\": 22.5},  # 12:00:01\n",
        "            {\"timestamp\": 1672531203000, \"temperature\": 23.0},  # 12:00:03\n",
        "            {\"timestamp\": 1672531202000, \"temperature\": 22.8},  # 12:00:02\n",
        "        ],\n",
        "        type_info={\"timestamp\": int, \"temperature\": float}\n",
        "    )\n",
        "\n",
        "    # Assign timestamps and watermarks\n",
        "    watermark_strategy = (\n",
        "        WatermarkStrategy.for_bounded_out_of_orderness(timedelta(seconds=2))\n",
        "        .with_timestamp_assigner(lambda event, _: event[\"timestamp\"])\n",
        "    )\n",
        "    events = events.assign_timestamps_and_watermarks(watermark_strategy)\n",
        "\n",
        "    # Apply a window function to calculate the average temperature\n",
        "    result = (\n",
        "        events\n",
        "        .key_by(lambda event: \"temperature\")  # Single key for simplicity\n",
        "        .window(TimeWindow.of(timedelta(minutes=5)))\n",
        "        .reduce(\n",
        "            lambda event1, event2: {\n",
        "                \"timestamp\": event1[\"timestamp\"],\n",
        "                \"temperature\": (event1[\"temperature\"] + event2[\"temperature\"]) / 2,\n",
        "            }\n",
        "        )\n",
        "    )\n",
        "\n",
        "    # Print the results\n",
        "    result.print()\n",
        "\n",
        "    # Execute the environment\n",
        "    env.execute(\"Temperature Streaming with Watermarks\")\n",
        "\n",
        "\n",
        "if __name__ == \"__main__\":\n",
        "    process_temperature_stream()\n"
      ]
    },
    {
      "cell_type": "markdown",
      "source": [
        "Key Concepts\n",
        "WatermarkStrategy:\n",
        "\n",
        "for_bounded_out_of_orderness: Configures the watermark to allow for out-of-order events with a delay of 2 seconds.\n",
        "with_timestamp_assigner: Extracts the timestamp from each event for ordering.\n",
        "Windowing:\n",
        "\n",
        "Data is grouped into 5-minute time windows for aggregation.\n",
        "Late Events Handling:\n",
        "\n",
        "Events arriving after the watermark are discarded or sent to a side-output for special processing.\n",
        "Reduce Function:\n",
        "\n",
        "Aggregates temperatures within each window to calculate the average.\n"
      ],
      "metadata": {
        "id": "PebhDlL1tZ1H"
      }
    },
    {
      "cell_type": "markdown",
      "source": [
        "How Watermarks Handle Late Events\n",
        "On-Time Events: Processed normally within their corresponding window.\n",
        "Late Events (Within Watermark Delay): Included in the current window computation.\n",
        "Late Events (Beyond Watermark): Either discarded or sent to a separate stream for analysis."
      ],
      "metadata": {
        "id": "XXIq6blythdF"
      }
    },
    {
      "cell_type": "markdown",
      "source": [
        "# radiation dose sensor data"
      ],
      "metadata": {
        "id": "qQVdtX1Dty-m"
      }
    },
    {
      "cell_type": "markdown",
      "source": [
        "Adapting the Workflow\n",
        "Here’s how the watermark processing concept can be tailored for radiation dose data:\n",
        "\n",
        "Streaming Data Source:\n",
        "\n",
        "Radiation dose readings are streamed in real-time, each with a timestamp and dose value.\n",
        "Example: {\"timestamp\": 1672531201000, \"dose\": 0.05} (Timestamp in milliseconds since epoch).\n",
        "Windowing Logic:\n",
        "\n",
        "Define a time-based window (e.g., 5-minute rolling windows) to aggregate or compute statistics like average dose or max dose.\n",
        "Watermark Strategy:\n",
        "\n",
        "Use watermarks to handle out-of-order or late-arriving data. For example, allow a bounded delay of 2 seconds, meaning data arriving within 2 seconds of the window end is still included.\n",
        "Processing Goals:\n",
        "\n",
        "Timely Results: Ensure results are computed without waiting indefinitely for late events.\n",
        "Late Event Handling: Include late events within the watermark delay, but log or analyze events arriving too late.\n"
      ],
      "metadata": {
        "id": "VFLxs6R5tfKY"
      }
    },
    {
      "cell_type": "markdown",
      "source": [],
      "metadata": {
        "id": "9568VInht4VC"
      }
    },
    {
      "cell_type": "code",
      "source": [
        "from pyflink.datastream import StreamExecutionEnvironment\n",
        "from pyflink.datastream.time_characteristic import TimeCharacteristic\n",
        "from pyflink.datastream.watermark_strategy import WatermarkStrategy\n",
        "from pyflink.datastream.window import TimeWindow\n",
        "from datetime import timedelta\n",
        "\n",
        "\n",
        "def process_radiation_stream():\n",
        "    # Set up the Flink environment\n",
        "    env = StreamExecutionEnvironment.get_execution_environment()\n",
        "    env.set_stream_time_characteristic(TimeCharacteristic.EventTime)\n",
        "\n",
        "    # Simulated radiation dose sensor data\n",
        "    radiation_data = env.from_collection(\n",
        "        [\n",
        "            {\"timestamp\": 1672531201000, \"dose\": 0.05},  # 12:00:01\n",
        "            {\"timestamp\": 1672531203000, \"dose\": 0.06},  # 12:00:03\n",
        "            {\"timestamp\": 1672531202000, \"dose\": 0.07},  # 12:00:02\n",
        "            {\"timestamp\": 1672531230000, \"dose\": 0.08},  # 12:00:30\n",
        "        ],\n",
        "        type_info={\"timestamp\": int, \"dose\": float}\n",
        "    )\n",
        "\n",
        "    # Assign watermarks to handle late events\n",
        "    watermark_strategy = (\n",
        "        WatermarkStrategy.for_bounded_out_of_orderness(timedelta(seconds=2))\n",
        "        .with_timestamp_assigner(lambda event, _: event[\"timestamp\"])\n",
        "    )\n",
        "    radiation_data = radiation_data.assign_timestamps_and_watermarks(watermark_strategy)\n",
        "\n",
        "    # Apply windowed aggregation to compute average radiation dose\n",
        "    average_dose = (\n",
        "        radiation_data\n",
        "        .key_by(lambda _: \"dose\")  # Single key for simplicity\n",
        "        .window(TimeWindow.of(timedelta(minutes=5)))\n",
        "        .reduce(\n",
        "            lambda event1, event2: {\n",
        "                \"timestamp\": event1[\"timestamp\"],\n",
        "                \"dose\": (event1[\"dose\"] + event2[\"dose\"]) / 2\n",
        "            }\n",
        "        )\n",
        "    )\n",
        "\n",
        "    # Print the results\n",
        "    average_dose.print()\n",
        "\n",
        "    # Execute the Flink pipeline\n",
        "    env.execute(\"Radiation Dose Streaming with Watermarks\")\n",
        "\n",
        "\n",
        "if __name__ == \"__main__\":\n",
        "    process_radiation_stream()\n"
      ],
      "metadata": {
        "id": "vSuF_XYGt45L"
      },
      "execution_count": null,
      "outputs": []
    },
    {
      "cell_type": "markdown",
      "source": [
        "Enhancements for Radiation-Specific Applications\n",
        "To make the workflow more effective for radiation dose data, consider the following:\n",
        "\n",
        "Threshold Alerts:\n",
        "\n",
        "Add a filter to trigger alerts if the average dose exceeds a safety threshold.\n",
        "Example:\n",
        "python\n",
        "Copy code\n",
        "if avg_dose > threshold:\n",
        "    send_alert(avg_dose)\n",
        "Late Event Analysis:\n",
        "\n",
        "Store late events in a separate stream for post-hoc analysis.\n",
        "This helps understand patterns in delayed sensor data.\n",
        "Data Visualization:\n",
        "\n",
        "Integrate the pipeline with visualization tools like Grafana or Matplotlib for monitoring.\n",
        "Anomaly Detection:\n",
        "\n",
        "Use machine learning models to detect anomalies in the radiation dose data stream.\n",
        "Scalability:\n",
        "\n",
        "If handling data from multiple sensors, extend the pipeline to include sensor-specific keys and aggregation."
      ],
      "metadata": {
        "id": "8XTLMaJLuKol"
      }
    }
  ]
}