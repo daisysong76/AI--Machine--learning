{
  "metadata": {
    "kernelspec": {
      "name": "python3",
      "display_name": "Python 3",
      "language": "python"
    },
    "language_info": {
      "name": "python",
      "version": "3.10.14",
      "mimetype": "text/x-python",
      "codemirror_mode": {
        "name": "ipython",
        "version": 3
      },
      "pygments_lexer": "ipython3",
      "nbconvert_exporter": "python",
      "file_extension": ".py"
    },
    "colab": {
      "name": "Day 4 - Google Search grounding",
      "provenance": [],
      "include_colab_link": true
    },
    "kaggle": {
      "accelerator": "none",
      "dataSources": [],
      "dockerImageVersionId": 30786,
      "isInternetEnabled": true,
      "language": "python",
      "sourceType": "notebook",
      "isGpuEnabled": false
    }
  },
  "nbformat_minor": 0,
  "nbformat": 4,
  "cells": [
    {
      "cell_type": "markdown",
      "metadata": {
        "id": "view-in-github",
        "colab_type": "text"
      },
      "source": [
        "<a href=\"https://colab.research.google.com/github/daisysong76/AI--Machine--learning/blob/main/Day_4_Google_Search_grounding.ipynb\" target=\"_parent\"><img src=\"https://colab.research.google.com/assets/colab-badge.svg\" alt=\"Open In Colab\"/></a>"
      ]
    },
    {
      "cell_type": "markdown",
      "source": [
        "##### Copyright 2024 Google LLC."
      ],
      "metadata": {
        "id": "kokPyXQaY3xI"
      }
    },
    {
      "cell_type": "code",
      "source": [
        "# @title Licensed under the Apache License, Version 2.0 (the \"License\");\n",
        "# you may not use this file except in compliance with the License.\n",
        "# You may obtain a copy of the License at\n",
        "#\n",
        "# https://www.apache.org/licenses/LICENSE-2.0\n",
        "#\n",
        "# Unless required by applicable law or agreed to in writing, software\n",
        "# distributed under the License is distributed on an \"AS IS\" BASIS,\n",
        "# WITHOUT WARRANTIES OR CONDITIONS OF ANY KIND, either express or implied.\n",
        "# See the License for the specific language governing permissions and\n",
        "# limitations under the License."
      ],
      "metadata": {
        "cellView": "form",
        "id": "StB_cTIkY1ZG",
        "jupyter": {
          "source_hidden": true
        },
        "trusted": true,
        "execution": {
          "iopub.status.busy": "2024-11-14T03:07:13.107488Z",
          "iopub.execute_input": "2024-11-14T03:07:13.107931Z",
          "iopub.status.idle": "2024-11-14T03:07:13.131652Z",
          "shell.execute_reply.started": "2024-11-14T03:07:13.107883Z",
          "shell.execute_reply": "2024-11-14T03:07:13.130149Z"
        }
      },
      "outputs": [],
      "execution_count": null
    },
    {
      "cell_type": "markdown",
      "source": [
        "# Day 4 - Google Search grounding with the Gemini API\n",
        "\n",
        "Welcome back to the Kaggle 5-day Generative AI course!\n",
        "\n",
        "In this optional notebook, you will use [Google Search](https://google.com/) results with the Gemini API in a technique called grounding, where the model is connected to verifiable sources of information. Using search grounding is similar to using the RAG system you implemented earlier in the week, but the Gemini API automates a lot of it for you. The model generates Google Search queries and invokes the searches automatically, retrieving relevant data from Google's index of the web and providing links to search suggestions that support the query, so your users can verify the sources.\n",
        "\n",
        "## Enable billing or use AI Studio\n",
        "\n",
        "**Important!**\n",
        "\n",
        "There are two ways to complete this codelab. Either through Google AI Studio, or through the API.\n",
        "\n",
        "Grounding with Google Search is only available through the API for **\"pay-as-you-go\"** accounts. However, you can try the feature for **no charge** in [Google AI Studio](https://aistudio.google.com/). **You are not required to enable billing to complete this course.**\n",
        "\n",
        "Continue on with this guide from the `API: Get set up` section if you have enabled billing for your API key, or continue to `No charge: Use Google AI Studio` to try out the feature free of charge.\n",
        "\n",
        "Note that Grounding with Google Search has been released as a limited launch and is not available in all locations. The EEA, UK, and CH regions will be supported at a later date. Running this notebook is **optional** and not required for the 5-day GenAI course.\n",
        "\n",
        "Check out the following links related to billing:\n",
        "\n",
        "* Learn how to [enable billing](https://ai.google.dev/gemini-api/docs/billing#enable-cloud-billing)\n",
        "* Learn about Google Cloud's [$300 credit for new customers](https://cloud.google.com/free/docs/free-cloud-features) and [other no-cost options](https://cloud.google.com/free)\n",
        "* View the [pricing page](https://ai.google.dev/pricing)"
      ],
      "metadata": {
        "id": "q-mcOl0JY8Xg"
      }
    },
    {
      "cell_type": "markdown",
      "source": [
        "## No charge: Use Google AI Studio\n",
        "\n",
        "If you wish to try out grounding with Google Search without enabling billing, you can use AI Studio. There are `Open in AI Studio` links in this codelab, or you can follow this short section to learn how to enable and use the feature for your own queries.\n",
        "\n",
        "### Open AI Studio\n",
        "\n",
        "Start by going to [AI Studio](https://aistudio.google.com/prompts/new_chat). You should be in the \"New chat\" interface.\n",
        "\n",
        "Search Grounding requires a **002** model, so be sure to select one, such as `Gemini Flash 002`.\n",
        "\n",
        "![New chat in AI Studio](https://storage.googleapis.com/generativeai-downloads/kaggle/ais-newchat.png)\n",
        "\n",
        "### Ask a question\n",
        "\n",
        "Now enter a prompt into the chat interface. Try asking something that is timely and might require recent information to answer, like a recent sport score. For this query, grounding will be **disabled** by default.\n",
        "\n",
        "This screenshow shows the response for `What were the top halloween costumes this year?`. Every execution will be different but typically the model talks about 2023, and hedges its responses saying it doesn't have access to specific information resulting in a general comment, rather than specific answers.\n",
        "\n",
        "![Sample question-answer pair without grounding](https://storage.googleapis.com/generativeai-downloads/kaggle/halloween-ungrounded.png)\n",
        "\n",
        "### Enable grounding\n",
        "\n",
        "On the right-hand sidebar, under the `Tools` section. Find and enable the `Grounding` option.\n",
        "\n",
        "![Enable grounding button](https://storage.googleapis.com/generativeai-downloads/kaggle/enable-grounding.png)\n",
        "\n",
        "Now re-run your question by hovering over the Use prompt in the chat history, and pressing the `Edit` button that appears in the upper corner.\n",
        "\n",
        "![Edit prompt button](https://storage.googleapis.com/generativeai-downloads/kaggle/edit-button.png)\n",
        "\n",
        "The `Edit` button will turn into the Gemini ✨ icon that you can press to re-run your prompt.\n",
        "\n",
        "![Re-run prompt button](https://storage.googleapis.com/generativeai-downloads/kaggle/re-run-button.png)\n",
        "\n",
        "You should now see a response generated that references sources from Google Search.\n",
        "\n",
        "![Response with grounded sources from Google!](https://storage.googleapis.com/generativeai-downloads/kaggle/halloween-grounded.png)\n",
        "\n",
        "For an explanation of `Dynamic retrieval` you can see the `Dynamic grounding` section at the end of this notebook.\n",
        "\n",
        "\n",
        "### Try your own queries\n",
        "\n",
        "Explore this interface and try some other queries. Share what works well in the [Discord](https://discord.com/channels/1101210829807956100/1303438361117069363)! You can start from [this blank template](https://aistudio.google.com/app/prompts/1FZtxKLFZIJ1p_0rICu8K2CNIF1tkAnf4) that has search grounding enabled.\n",
        "\n",
        "The remaining steps require an API key with billing enabled. They are not required to complete this course; if you have tried grounding in AI Studio you are done for this notebook."
      ],
      "metadata": {
        "id": "07Fn0T4t8fM3"
      }
    },
    {
      "cell_type": "markdown",
      "source": [
        "## API: Get set up\n",
        "\n",
        "This section requires an API key with billing enabled. Start by installing and importing the Gemini API Python SDK."
      ],
      "metadata": {
        "id": "Qcyq976Gbwpo"
      }
    },
    {
      "cell_type": "code",
      "source": [
        "%pip install -q -U 'google-generativeai>=0.8.3'"
      ],
      "metadata": {
        "id": "1ZLC4ORSbqme",
        "trusted": true,
        "execution": {
          "iopub.status.busy": "2024-11-16T03:03:57.230051Z",
          "iopub.execute_input": "2024-11-16T03:03:57.230799Z",
          "iopub.status.idle": "2024-11-16T03:04:34.558306Z",
          "shell.execute_reply.started": "2024-11-16T03:03:57.230707Z",
          "shell.execute_reply": "2024-11-16T03:04:34.556792Z"
        },
        "outputId": "d1b05903-e785-4fcf-a27b-5501ca7ae51e"
      },
      "outputs": [
        {
          "name": "stdout",
          "text": "Note: you may need to restart the kernel to use updated packages.\n",
          "output_type": "stream"
        }
      ],
      "execution_count": null
    },
    {
      "cell_type": "markdown",
      "source": [
        "You do not need to restart the kernel."
      ],
      "metadata": {
        "id": "_8Xhouzm8fM5"
      }
    },
    {
      "cell_type": "code",
      "source": [
        "import google.generativeai as genai\n",
        "from IPython.display import Markdown, HTML, display"
      ],
      "metadata": {
        "id": "FNkHtOAmbt2B",
        "trusted": true,
        "execution": {
          "iopub.status.busy": "2024-11-16T03:04:41.264143Z",
          "iopub.execute_input": "2024-11-16T03:04:41.264671Z",
          "iopub.status.idle": "2024-11-16T03:04:42.72539Z",
          "shell.execute_reply.started": "2024-11-16T03:04:41.264602Z",
          "shell.execute_reply": "2024-11-16T03:04:42.724036Z"
        }
      },
      "outputs": [],
      "execution_count": null
    },
    {
      "cell_type": "markdown",
      "source": [
        "### Set up your API key\n",
        "\n",
        "To run the following cell, your API key must be stored it in a [Kaggle secret](https://www.kaggle.com/discussions/product-feedback/114053) named `GOOGLE_API_KEY`.\n",
        "\n",
        "If you don't already have an API key, you can grab one from [AI Studio](https://aistudio.google.com/app/apikey). You can find [detailed instructions in the docs](https://ai.google.dev/gemini-api/docs/api-key).\n",
        "\n",
        "To make the key available through Kaggle secrets, choose `Secrets` from the `Add-ons` menu and follow the instructions to add your key or enable it for this notebook."
      ],
      "metadata": {
        "id": "_NO9cdffb4KR"
      }
    },
    {
      "cell_type": "code",
      "source": [
        "from kaggle_secrets import UserSecretsClient\n",
        "\n",
        "GOOGLE_API_KEY = UserSecretsClient().get_secret(\"GOOGLE_API_KEY\")\n",
        "genai.configure(api_key=GOOGLE_API_KEY)"
      ],
      "metadata": {
        "id": "8NAmACYHb5DK",
        "trusted": true,
        "execution": {
          "iopub.status.busy": "2024-11-16T03:05:45.249365Z",
          "iopub.execute_input": "2024-11-16T03:05:45.250943Z",
          "iopub.status.idle": "2024-11-16T03:05:45.442787Z",
          "shell.execute_reply.started": "2024-11-16T03:05:45.250884Z",
          "shell.execute_reply": "2024-11-16T03:05:45.441163Z"
        }
      },
      "outputs": [],
      "execution_count": null
    },
    {
      "cell_type": "markdown",
      "source": [
        "If you received an error response along the lines of `No user secrets exist for kernel id ...`, then you need to add your API key via `Add-ons`, `Secrets` **and** enable it.\n",
        "\n",
        "![Screenshot of the checkbox to enable GOOGLE_API_KEY secret](https://storage.googleapis.com/kaggle-media/Images/5gdai_sc_3.png)"
      ],
      "metadata": {
        "id": "cfb5d41c4a03"
      }
    },
    {
      "cell_type": "markdown",
      "source": [
        "### Explore available models\n",
        "\n",
        "Search grounding is a tool available in the `-002` series of models. Find a model that supports it through the [`models.list`](https://ai.google.dev/api/models#method:-models.list) endpoint. You can also find more information about different model capabilities on [the models page](https://ai.google.dev/gemini-api/docs/models/gemini)."
      ],
      "metadata": {
        "id": "Rvre6fOrcHi2"
      }
    },
    {
      "cell_type": "code",
      "source": [
        "for model in genai.list_models():\n",
        "    if \"002\" in model.name:\n",
        "        print(model.name)"
      ],
      "metadata": {
        "id": "p6G2H6N4dT02",
        "trusted": true,
        "execution": {
          "iopub.status.busy": "2024-11-16T03:05:55.196788Z",
          "iopub.execute_input": "2024-11-16T03:05:55.197268Z",
          "iopub.status.idle": "2024-11-16T03:05:55.760549Z",
          "shell.execute_reply.started": "2024-11-16T03:05:55.197221Z",
          "shell.execute_reply": "2024-11-16T03:05:55.758932Z"
        },
        "outputId": "0711e442-e750-4a28-9345-aeaf7f410ca8"
      },
      "outputs": [
        {
          "name": "stdout",
          "text": "models/gemini-1.5-pro-002\nmodels/gemini-1.5-flash-002\n",
          "output_type": "stream"
        }
      ],
      "execution_count": null
    },
    {
      "cell_type": "markdown",
      "source": [
        "## Use search grounding\n",
        "\n",
        "To enable search grounding, you specify it as a tool: `google_search_retrieval`. Like other tools, this can be supplied as a parameter to the model (to use on all chat turns or calls to `generate_content`), or it can be supplied per-turn to `chat.send_message`.\n",
        "\n",
        "\n",
        "<table align=left>\n",
        "  <td>\n",
        "    <a target=\"_blank\" href=\"https://aistudio.google.com/app/prompts/1GTkO-gH4vd6G7LpBJ6Ay7U1OaJer7yDD\"><img src=\"https://ai.google.dev/site-assets/images/marketing/home/icon-ais.png\" style=\"height: 24px\" height=24/> Open in AI Studio</a>\n",
        "  </td>\n",
        "</table>"
      ],
      "metadata": {
        "id": "HW5RVNUierrQ"
      }
    },
    {
      "cell_type": "code",
      "source": [
        "# Ask for information without search grounding.\n",
        "model = genai.GenerativeModel(\"gemini-1.5-flash-002\")\n",
        "\n",
        "response = model.generate_content(\"When and where is Taylor Swift's next concert?\")\n",
        "\n",
        "Markdown(response.text)"
      ],
      "metadata": {
        "id": "JZmdaOlVfCgd",
        "trusted": true,
        "execution": {
          "iopub.status.busy": "2024-11-16T03:06:11.758701Z",
          "iopub.execute_input": "2024-11-16T03:06:11.759169Z",
          "iopub.status.idle": "2024-11-16T03:06:13.336971Z",
          "shell.execute_reply.started": "2024-11-16T03:06:11.759118Z",
          "shell.execute_reply": "2024-11-16T03:06:13.33504Z"
        },
        "outputId": "beea4987-570d-40c8-81a2-d480ccd9192d"
      },
      "outputs": [
        {
          "execution_count": 5,
          "output_type": "execute_result",
          "data": {
            "text/plain": "<IPython.core.display.Markdown object>",
            "text/markdown": "I do not have access to real-time information, including constantly updating schedules for events like concert tours.  To find the date and location of Taylor Swift's next concert, you should check these resources:\n\n* **Taylor Swift's Official Website:** This is the best place to find official tour dates.\n* **Ticketmaster or other Ticket Retailers:** Search these sites for Taylor Swift tickets; available dates will be listed.\n* **Social Media:** Follow Taylor Swift's official social media accounts (Twitter, Instagram, etc.) for announcements.\n\nKeep in mind that tour dates can change, so checking frequently is recommended.\n"
          },
          "metadata": {}
        }
      ],
      "execution_count": null
    },
    {
      "cell_type": "markdown",
      "source": [
        "Now try with grounding enabled.\n",
        "\n",
        "<table align=left>\n",
        "  <td>\n",
        "    <a target=\"_blank\" href=\"https://aistudio.google.com/prompts/14lDR0VjSni6BEUCZUBqj5PzTn3J194Th\"><img src=\"https://ai.google.dev/site-assets/images/marketing/home/icon-ais.png\" style=\"height: 24px\" height=24/> Open in AI Studio</a>\n",
        "  </td>\n",
        "</table>"
      ],
      "metadata": {
        "id": "oi9g6gRM8fM8"
      }
    },
    {
      "cell_type": "code",
      "source": [
        "# And now re-run the same query with search grounding enabled.\n",
        "model = genai.GenerativeModel(\n",
        "    \"gemini-1.5-flash-002\",\n",
        "    tools=\"google_search_retrieval\")\n",
        "\n",
        "response = model.generate_content(\"When and where is Taylor Swift's next concert?\")\n",
        "rc = response.candidates[0]\n",
        "\n",
        "Markdown(rc.content.parts[0].text)"
      ],
      "metadata": {
        "id": "i7jqG3nww6kU",
        "trusted": true,
        "execution": {
          "iopub.status.busy": "2024-11-16T03:06:26.325419Z",
          "iopub.execute_input": "2024-11-16T03:06:26.326621Z",
          "iopub.status.idle": "2024-11-16T03:06:29.36763Z",
          "shell.execute_reply.started": "2024-11-16T03:06:26.326518Z",
          "shell.execute_reply": "2024-11-16T03:06:29.366268Z"
        },
        "outputId": "56c0b326-69da-4b0d-c3ba-9d3f50256c05"
      },
      "outputs": [
        {
          "execution_count": 6,
          "output_type": "execute_result",
          "data": {
            "text/plain": "<IPython.core.display.Markdown object>",
            "text/markdown": "Based on the provided text, Taylor Swift's next concert is part of her Eras Tour.  Here's what I can tell you about upcoming dates and locations:\n\n* **North American Leg:** The tour resumes in North America in October 2024.  One confirmed date is October 18th, 2024, at Hard Rock Stadium.  Other dates and locations are mentioned, but aren't fully specified beyond the general timeframe.\n\n* **Toronto, Canada:**  Multiple dates in November 2024 are listed for Toronto at the Rogers Centre. These include November 15th, 16th, 21st, 22nd, and 23rd.\n\n* **Vancouver, Canada:**  Concerts are scheduled for December 6th, 7th, and 8th, 2024, at BC Place.\n\n* **Australia:**  Taylor Swift will be touring Australia in 2024, with Sabrina Carpenter as a special guest.  Specific dates and venues are not detailed in the given sources.\n\nPlease note that this information is current as of November 16th, 2024.  For the most up-to-date and complete schedule, I recommend checking Taylor Swift's official website or Ticketmaster.\n"
          },
          "metadata": {}
        }
      ],
      "execution_count": null
    },
    {
      "cell_type": "markdown",
      "source": [
        "If you receive a `429 Resource has been exhausted` error, you are likely using a free tier API key. You can choose to enable billing (but this will incur charges), or you can try the queries in Google AI Studio by following the `Open in AI Studio` links above."
      ],
      "metadata": {
        "id": "SJc_0FFBgoiJ"
      }
    },
    {
      "cell_type": "markdown",
      "source": [
        "### Response metadata\n",
        "\n",
        "When search grounding is used, the model returns extra metadata that includes links to search suggestions, supporting documents and information on how the supporting documents were used.\n",
        "\n",
        "Each \"grounding chunk\" represents information retrieved from Google Search that was used in the grounded generation request. Following the URI will take you to the source."
      ],
      "metadata": {
        "id": "Sxgmixr78fM9"
      }
    },
    {
      "cell_type": "code",
      "source": [
        "chunks = rc.grounding_metadata.grounding_chunks\n",
        "for chunk in chunks:\n",
        "    print(chunk)"
      ],
      "metadata": {
        "id": "2P7IYMcvxtcy",
        "trusted": true,
        "execution": {
          "iopub.status.busy": "2024-11-16T03:06:37.950176Z",
          "iopub.execute_input": "2024-11-16T03:06:37.95066Z",
          "iopub.status.idle": "2024-11-16T03:06:37.95772Z",
          "shell.execute_reply.started": "2024-11-16T03:06:37.950601Z",
          "shell.execute_reply": "2024-11-16T03:06:37.956317Z"
        },
        "outputId": "be17b68c-ae6e-44e4-afa7-405561b47908"
      },
      "outputs": [
        {
          "name": "stdout",
          "text": "web {\n  uri: \"https://vertexaisearch.cloud.google.com/grounding-api-redirect/AZnLMfyXOD63oCVCsAvZJZ20vQcjfc_VwSgptIaSm5-pkwwa2_cjndedazcMEGakvgdFJR_CymNdgw1jvi7CasqRg4u7URTF6WVrxSCN1ADUpZkkfPy48tfTYRyjWwCLYiBo-0mVE46W56OeKkl-_f3Adm59ffMlynFS2aiyskSbiZS-SdEX_q-a_aJgeNNR1AzNZzXLbwnRiNROMPOcbVO4Fnu-h8XJQeseXgLFWqoDDK0zuHRQ7xF-M2g99tMY21enXgTR5OvAtxsfiNM=\"\n  title: \"hindustantimes.com\"\n}\n\nweb {\n  uri: \"https://vertexaisearch.cloud.google.com/grounding-api-redirect/AZnLMfyVca84wKyh4kfSxYtYE4Syin5PToWsp2wu_EAfnUI5FDypj2vOjsjKiqNpZW2-n84MBhByA6xo-fnqXjX6Dnsqi2uQftf0nUv70KW8cqNX61imFT9OeRxulIK5PcI1kvB9bpK1M4mAQDLnD55SM96qJmWfocL7f5zknlij\"\n  title: \"hardrockstadium.com\"\n}\n\nweb {\n  uri: \"https://vertexaisearch.cloud.google.com/grounding-api-redirect/AZnLMfzF6aUrldEX22O6eZdBqmudOuzdoBo3-z0IbGZ_JZkSZH_cu7Jl0EzyKpByT28NyX25x7HT9aIiWRNANn1SalBd8OAFGCo97ttU4HHmr1BDD7b7UxGX0uFqn15X\"\n  title: \"taylorswift.com\"\n}\n\nweb {\n  uri: \"https://vertexaisearch.cloud.google.com/grounding-api-redirect/AZnLMfzOfsILshnI751yGIUYdCMOcElkXZSaAl3vfSQPeWkzgkXNF6Vj8DcsRVX-DbBfX7tK0nuiJlnkd1W5TZ-Cjsvkn9wYenSGRjudx21bE6m_V6A1r5YwsJZqNGLD5XdqjnSPkwzLtg==\"\n  title: \"frontiertouring.com\"\n}\n\nweb {\n  uri: \"https://vertexaisearch.cloud.google.com/grounding-api-redirect/AZnLMfxriVw_qeFHsLtEWRue_tbKAYy1vJMBtnfz8WAFRwZLRGFf39N_7wkCMptAdCPYVw_auUrE0TngDkFPVpd20DqpnefgqQUyTJlvkkSlOmodl_zSfEmS8pFtgFRW_htInRLY1FrZozdMUDZm_9yFtginalbBIq8ZIb1-\"\n  title: \"ticketmaster.ca\"\n}\n\n",
          "output_type": "stream"
        }
      ],
      "execution_count": null
    },
    {
      "cell_type": "markdown",
      "source": [
        "As part of the response, there is a standalone styled HTML content block that you use to link back to relevant search suggestions related to the generation."
      ],
      "metadata": {
        "id": "ziYb2Fkjzwwx"
      }
    },
    {
      "cell_type": "code",
      "source": [
        "HTML(rc.grounding_metadata.search_entry_point.rendered_content)"
      ],
      "metadata": {
        "id": "DQAgIGJmfxqC",
        "trusted": true,
        "execution": {
          "iopub.status.busy": "2024-11-16T03:06:59.457198Z",
          "iopub.execute_input": "2024-11-16T03:06:59.457662Z",
          "iopub.status.idle": "2024-11-16T03:06:59.465688Z",
          "shell.execute_reply.started": "2024-11-16T03:06:59.457599Z",
          "shell.execute_reply": "2024-11-16T03:06:59.464618Z"
        },
        "outputId": "af08fa27-2b02-43c4-addf-8b3259144714"
      },
      "outputs": [
        {
          "execution_count": 8,
          "output_type": "execute_result",
          "data": {
            "text/plain": "<IPython.core.display.HTML object>",
            "text/html": "<style>\n.container {\n  align-items: center;\n  border-radius: 8px;\n  display: flex;\n  font-family: Google Sans, Roboto, sans-serif;\n  font-size: 14px;\n  line-height: 20px;\n  padding: 8px 12px;\n}\n.chip {\n  display: inline-block;\n  border: solid 1px;\n  border-radius: 16px;\n  min-width: 14px;\n  padding: 5px 16px;\n  text-align: center;\n  user-select: none;\n  margin: 0 8px;\n  -webkit-tap-highlight-color: transparent;\n}\n.carousel {\n  overflow: auto;\n  scrollbar-width: none;\n  white-space: nowrap;\n  margin-right: -12px;\n}\n.headline {\n  display: flex;\n  margin-right: 4px;\n}\n.gradient-container {\n  position: relative;\n}\n.gradient {\n  position: absolute;\n  transform: translate(3px, -9px);\n  height: 36px;\n  width: 9px;\n}\n@media (prefers-color-scheme: light) {\n  .container {\n    background-color: #fafafa;\n    box-shadow: 0 0 0 1px #0000000f;\n  }\n  .headline-label {\n    color: #1f1f1f;\n  }\n  .chip {\n    background-color: #ffffff;\n    border-color: #d2d2d2;\n    color: #5e5e5e;\n    text-decoration: none;\n  }\n  .chip:hover {\n    background-color: #f2f2f2;\n  }\n  .chip:focus {\n    background-color: #f2f2f2;\n  }\n  .chip:active {\n    background-color: #d8d8d8;\n    border-color: #b6b6b6;\n  }\n  .logo-dark {\n    display: none;\n  }\n  .gradient {\n    background: linear-gradient(90deg, #fafafa 15%, #fafafa00 100%);\n  }\n}\n@media (prefers-color-scheme: dark) {\n  .container {\n    background-color: #1f1f1f;\n    box-shadow: 0 0 0 1px #ffffff26;\n  }\n  .headline-label {\n    color: #fff;\n  }\n  .chip {\n    background-color: #2c2c2c;\n    border-color: #3c4043;\n    color: #fff;\n    text-decoration: none;\n  }\n  .chip:hover {\n    background-color: #353536;\n  }\n  .chip:focus {\n    background-color: #353536;\n  }\n  .chip:active {\n    background-color: #464849;\n    border-color: #53575b;\n  }\n  .logo-light {\n    display: none;\n  }\n  .gradient {\n    background: linear-gradient(90deg, #1f1f1f 15%, #1f1f1f00 100%);\n  }\n}\n</style>\n<div class=\"container\">\n  <div class=\"headline\">\n    <svg class=\"logo-light\" width=\"18\" height=\"18\" viewBox=\"9 9 35 35\" fill=\"none\" xmlns=\"http://www.w3.org/2000/svg\">\n      <path fill-rule=\"evenodd\" clip-rule=\"evenodd\" d=\"M42.8622 27.0064C42.8622 25.7839 42.7525 24.6084 42.5487 23.4799H26.3109V30.1568H35.5897C35.1821 32.3041 33.9596 34.1222 32.1258 35.3448V39.6864H37.7213C40.9814 36.677 42.8622 32.2571 42.8622 27.0064V27.0064Z\" fill=\"#4285F4\"/>\n      <path fill-rule=\"evenodd\" clip-rule=\"evenodd\" d=\"M26.3109 43.8555C30.9659 43.8555 34.8687 42.3195 37.7213 39.6863L32.1258 35.3447C30.5898 36.3792 28.6306 37.0061 26.3109 37.0061C21.8282 37.0061 18.0195 33.9811 16.6559 29.906H10.9194V34.3573C13.7563 39.9841 19.5712 43.8555 26.3109 43.8555V43.8555Z\" fill=\"#34A853\"/>\n      <path fill-rule=\"evenodd\" clip-rule=\"evenodd\" d=\"M16.6559 29.8904C16.3111 28.8559 16.1074 27.7588 16.1074 26.6146C16.1074 25.4704 16.3111 24.3733 16.6559 23.3388V18.8875H10.9194C9.74388 21.2072 9.06992 23.8247 9.06992 26.6146C9.06992 29.4045 9.74388 32.022 10.9194 34.3417L15.3864 30.8621L16.6559 29.8904V29.8904Z\" fill=\"#FBBC05\"/>\n      <path fill-rule=\"evenodd\" clip-rule=\"evenodd\" d=\"M26.3109 16.2386C28.85 16.2386 31.107 17.1164 32.9095 18.8091L37.8466 13.8719C34.853 11.082 30.9659 9.3736 26.3109 9.3736C19.5712 9.3736 13.7563 13.245 10.9194 18.8875L16.6559 23.3388C18.0195 19.2636 21.8282 16.2386 26.3109 16.2386V16.2386Z\" fill=\"#EA4335\"/>\n    </svg>\n    <svg class=\"logo-dark\" width=\"18\" height=\"18\" viewBox=\"0 0 48 48\" xmlns=\"http://www.w3.org/2000/svg\">\n      <circle cx=\"24\" cy=\"23\" fill=\"#FFF\" r=\"22\"/>\n      <path d=\"M33.76 34.26c2.75-2.56 4.49-6.37 4.49-11.26 0-.89-.08-1.84-.29-3H24.01v5.99h8.03c-.4 2.02-1.5 3.56-3.07 4.56v.75l3.91 2.97h.88z\" fill=\"#4285F4\"/>\n      <path d=\"M15.58 25.77A8.845 8.845 0 0 0 24 31.86c1.92 0 3.62-.46 4.97-1.31l4.79 3.71C31.14 36.7 27.65 38 24 38c-5.93 0-11.01-3.4-13.45-8.36l.17-1.01 4.06-2.85h.8z\" fill=\"#34A853\"/>\n      <path d=\"M15.59 20.21a8.864 8.864 0 0 0 0 5.58l-5.03 3.86c-.98-2-1.53-4.25-1.53-6.64 0-2.39.55-4.64 1.53-6.64l1-.22 3.81 2.98.22 1.08z\" fill=\"#FBBC05\"/>\n      <path d=\"M24 14.14c2.11 0 4.02.75 5.52 1.98l4.36-4.36C31.22 9.43 27.81 8 24 8c-5.93 0-11.01 3.4-13.45 8.36l5.03 3.85A8.86 8.86 0 0 1 24 14.14z\" fill=\"#EA4335\"/>\n    </svg>\n    <div class=\"gradient-container\"><div class=\"gradient\"></div></div>\n  </div>\n  <div class=\"carousel\">\n    <a class=\"chip\" href=\"https://vertexaisearch.cloud.google.com/grounding-api-redirect/AZnLMfxjvC34gbnV-B7IwPSv_GAnv95mzAJDRig9fMlaG_E0mRRKgVsOGYLTzETbZ9BdGWaLALBJhwncfxUXo5EcM3D5BkNHwKia2FMllFTei5V6UUWvvGw_J7fT_ST7R20ou1FuT3Uu_BZRgBECWOfBUE2eyCEHO-jIn_MNo1_R4JU0qg4JyeYOZY31bjQutqmj7WtEWjLtfnepD8UjIBYpZB7qYymLjoN-u6weyQ==\">When is Taylor Swift&#39;s next concert?</a>\n  </div>\n</div>\n"
          },
          "metadata": {}
        }
      ],
      "execution_count": null
    },
    {
      "cell_type": "markdown",
      "source": [
        "The `grounding_supports` in the metadata provide a way for you to correlate the grounding chunks used to the generated output text."
      ],
      "metadata": {
        "id": "pJpqJopp0H0M"
      }
    },
    {
      "cell_type": "code",
      "source": [
        "supports = rc.grounding_metadata.grounding_supports\n",
        "for support in supports:\n",
        "    print(support)"
      ],
      "metadata": {
        "id": "sHg9Yq9U0r89",
        "trusted": true,
        "execution": {
          "iopub.status.busy": "2024-11-16T03:07:06.336652Z",
          "iopub.execute_input": "2024-11-16T03:07:06.337113Z",
          "iopub.status.idle": "2024-11-16T03:07:06.345103Z",
          "shell.execute_reply.started": "2024-11-16T03:07:06.33707Z",
          "shell.execute_reply": "2024-11-16T03:07:06.34317Z"
        },
        "outputId": "dc344859-e34a-4a10-d895-5136ba9b754f"
      },
      "outputs": [
        {
          "name": "stdout",
          "text": "segment {\n  end_index: 81\n  text: \"Based on the provided text, Taylor Swift\\'s next concert is part of her Eras Tour.\"\n}\ngrounding_chunk_indices: 0\nconfidence_scores: 0.7301493287086487\n\nsegment {\n  start_index: 225\n  end_index: 288\n  text: \"One confirmed date is October 18th, 2024, at Hard Rock Stadium.\"\n}\ngrounding_chunk_indices: 1\nconfidence_scores: 0.8246746063232422\n\nsegment {\n  start_index: 389\n  end_index: 489\n  text: \"* **Toronto, Canada:**  Multiple dates in November 2024 are listed for Toronto at the Rogers Centre.\"\n}\ngrounding_chunk_indices: 2\nconfidence_scores: 0.7525309324264526\n\nsegment {\n  start_index: 649\n  end_index: 757\n  text: \"* **Australia:**  Taylor Swift will be touring Australia in 2024, with Sabrina Carpenter as a special guest.\"\n}\ngrounding_chunk_indices: 3\ngrounding_chunk_indices: 4\nconfidence_scores: 0.9680579304695129\nconfidence_scores: 0.6134918928146362\n\n",
          "output_type": "stream"
        }
      ],
      "execution_count": null
    },
    {
      "cell_type": "markdown",
      "source": [
        "These supports can be used to highlight text in the response, or build tables of footnotes."
      ],
      "metadata": {
        "id": "wkQAGyi87FGn"
      }
    },
    {
      "cell_type": "code",
      "source": [
        "import io\n",
        "\n",
        "markdown_buffer = io.StringIO()\n",
        "\n",
        "# Print the text with footnote markers.\n",
        "markdown_buffer.write(\"Supported text:\\n\\n\")\n",
        "for support in supports:\n",
        "    markdown_buffer.write(\" * \")\n",
        "    markdown_buffer.write(\n",
        "        response.text[support.segment.start_index : support.segment.end_index]\n",
        "    )\n",
        "\n",
        "    for i in support.grounding_chunk_indices:\n",
        "        chunk = chunks[i].web\n",
        "        markdown_buffer.write(f\"<sup>[{i+1}]</sup>\")\n",
        "\n",
        "    markdown_buffer.write(\"\\n\\n\")\n",
        "\n",
        "\n",
        "# And print the footnotes.\n",
        "markdown_buffer.write(\"Citations:\\n\\n\")\n",
        "for i, chunk in enumerate(chunks, start=1):\n",
        "    markdown_buffer.write(f\"* {i}: [{chunk.web.title}]({chunk.web.uri})\\n\")\n",
        "\n",
        "\n",
        "Markdown(markdown_buffer.getvalue())"
      ],
      "metadata": {
        "id": "9_dEINt43C62",
        "trusted": true,
        "execution": {
          "iopub.status.busy": "2024-11-16T03:07:13.852999Z",
          "iopub.execute_input": "2024-11-16T03:07:13.853439Z",
          "iopub.status.idle": "2024-11-16T03:07:13.868701Z",
          "shell.execute_reply.started": "2024-11-16T03:07:13.853391Z",
          "shell.execute_reply": "2024-11-16T03:07:13.867481Z"
        },
        "outputId": "ca4ecb2e-cc7c-49d5-d5a7-b8849e6f0680"
      },
      "outputs": [
        {
          "execution_count": 10,
          "output_type": "execute_result",
          "data": {
            "text/plain": "<IPython.core.display.Markdown object>",
            "text/markdown": "Supported text:\n\n * Based on the provided text, Taylor Swift's next concert is part of her Eras Tour.<sup>[1]</sup>\n\n * One confirmed date is October 18th, 2024, at Hard Rock Stadium.<sup>[2]</sup>\n\n * * **Toronto, Canada:**  Multiple dates in November 2024 are listed for Toronto at the Rogers Centre.<sup>[3]</sup>\n\n * * **Australia:**  Taylor Swift will be touring Australia in 2024, with Sabrina Carpenter as a special guest.<sup>[4]</sup><sup>[5]</sup>\n\nCitations:\n\n* 1: [hindustantimes.com](https://vertexaisearch.cloud.google.com/grounding-api-redirect/AZnLMfyXOD63oCVCsAvZJZ20vQcjfc_VwSgptIaSm5-pkwwa2_cjndedazcMEGakvgdFJR_CymNdgw1jvi7CasqRg4u7URTF6WVrxSCN1ADUpZkkfPy48tfTYRyjWwCLYiBo-0mVE46W56OeKkl-_f3Adm59ffMlynFS2aiyskSbiZS-SdEX_q-a_aJgeNNR1AzNZzXLbwnRiNROMPOcbVO4Fnu-h8XJQeseXgLFWqoDDK0zuHRQ7xF-M2g99tMY21enXgTR5OvAtxsfiNM=)\n* 2: [hardrockstadium.com](https://vertexaisearch.cloud.google.com/grounding-api-redirect/AZnLMfyVca84wKyh4kfSxYtYE4Syin5PToWsp2wu_EAfnUI5FDypj2vOjsjKiqNpZW2-n84MBhByA6xo-fnqXjX6Dnsqi2uQftf0nUv70KW8cqNX61imFT9OeRxulIK5PcI1kvB9bpK1M4mAQDLnD55SM96qJmWfocL7f5zknlij)\n* 3: [taylorswift.com](https://vertexaisearch.cloud.google.com/grounding-api-redirect/AZnLMfzF6aUrldEX22O6eZdBqmudOuzdoBo3-z0IbGZ_JZkSZH_cu7Jl0EzyKpByT28NyX25x7HT9aIiWRNANn1SalBd8OAFGCo97ttU4HHmr1BDD7b7UxGX0uFqn15X)\n* 4: [frontiertouring.com](https://vertexaisearch.cloud.google.com/grounding-api-redirect/AZnLMfzOfsILshnI751yGIUYdCMOcElkXZSaAl3vfSQPeWkzgkXNF6Vj8DcsRVX-DbBfX7tK0nuiJlnkd1W5TZ-Cjsvkn9wYenSGRjudx21bE6m_V6A1r5YwsJZqNGLD5XdqjnSPkwzLtg==)\n* 5: [ticketmaster.ca](https://vertexaisearch.cloud.google.com/grounding-api-redirect/AZnLMfxriVw_qeFHsLtEWRue_tbKAYy1vJMBtnfz8WAFRwZLRGFf39N_7wkCMptAdCPYVw_auUrE0TngDkFPVpd20DqpnefgqQUyTJlvkkSlOmodl_zSfEmS8pFtgFRW_htInRLY1FrZozdMUDZm_9yFtginalbBIq8ZIb1-)\n"
          },
          "metadata": {}
        }
      ],
      "execution_count": null
    },
    {
      "cell_type": "markdown",
      "source": [
        "### Dynamic grounding\n",
        "\n",
        "In a context where you may not know in advance whether to enable search grounding or not, you can provide the model with a threshold over which it will use search grounding. This is helpful in conversational contexts, where not every turn of conversation requires search data to support a response.\n",
        "\n",
        "If you know whether to enable Search for any given chat turn, you can provide the tool explicitly.\n",
        "\n",
        "\n",
        "<table align=left>\n",
        "  <td>\n",
        "    <a target=\"_blank\" href=\"https://aistudio.google.com/prompts/1VBx_R16kNWa8g7lpLxQPx_08sFtd7tcd\"><img src=\"https://ai.google.dev/site-assets/images/marketing/home/icon-ais.png\" style=\"height: 24px\" height=24/> Open in AI Studio</a>\n",
        "  </td>\n",
        "</table>"
      ],
      "metadata": {
        "id": "suX0M2By8LIN"
      }
    },
    {
      "cell_type": "code",
      "source": [
        "nosearch_model = genai.GenerativeModel(\"gemini-1.5-flash-002\")\n",
        "chat = nosearch_model.start_chat()\n",
        "\n",
        "# No search grounding.\n",
        "r = chat.send_message(\"Hello friendly chatbot!\")\n",
        "\n",
        "# Enable search for just this turn.\n",
        "r = chat.send_message(\n",
        "    \"Who took home the 2023 cricket world cup?\", tools=\"google_search_retrieval\"\n",
        ")\n",
        "\n",
        "Markdown(r.text)"
      ],
      "metadata": {
        "id": "6FLf92417p_4",
        "trusted": true,
        "execution": {
          "iopub.status.busy": "2024-11-16T03:07:45.454752Z",
          "iopub.execute_input": "2024-11-16T03:07:45.455205Z",
          "iopub.status.idle": "2024-11-16T03:07:48.113939Z",
          "shell.execute_reply.started": "2024-11-16T03:07:45.45516Z",
          "shell.execute_reply": "2024-11-16T03:07:48.112669Z"
        },
        "outputId": "d29bef17-0cbb-44dd-84d6-b48d17266485"
      },
      "outputs": [
        {
          "execution_count": 11,
          "output_type": "execute_result",
          "data": {
            "text/plain": "<IPython.core.display.Markdown object>",
            "text/markdown": "Australia won the 2023 Cricket World Cup.  They defeated India in the final by six wickets, securing their sixth World Cup title.  The final match took place on November 19th at the Narendra Modi Stadium in Ahmedabad.\n"
          },
          "metadata": {}
        }
      ],
      "execution_count": null
    },
    {
      "cell_type": "code",
      "source": [
        "HTML(r.candidates[0].grounding_metadata.search_entry_point.rendered_content)"
      ],
      "metadata": {
        "trusted": true,
        "execution": {
          "iopub.status.busy": "2024-11-16T03:07:53.365766Z",
          "iopub.execute_input": "2024-11-16T03:07:53.366676Z",
          "iopub.status.idle": "2024-11-16T03:07:53.376194Z",
          "shell.execute_reply.started": "2024-11-16T03:07:53.36659Z",
          "shell.execute_reply": "2024-11-16T03:07:53.37471Z"
        },
        "id": "y5vFtjYb8fM_",
        "outputId": "24fffcf3-9ee0-4154-fac9-c69ed2e20f8b"
      },
      "outputs": [
        {
          "execution_count": 12,
          "output_type": "execute_result",
          "data": {
            "text/plain": "<IPython.core.display.HTML object>",
            "text/html": "<style>\n.container {\n  align-items: center;\n  border-radius: 8px;\n  display: flex;\n  font-family: Google Sans, Roboto, sans-serif;\n  font-size: 14px;\n  line-height: 20px;\n  padding: 8px 12px;\n}\n.chip {\n  display: inline-block;\n  border: solid 1px;\n  border-radius: 16px;\n  min-width: 14px;\n  padding: 5px 16px;\n  text-align: center;\n  user-select: none;\n  margin: 0 8px;\n  -webkit-tap-highlight-color: transparent;\n}\n.carousel {\n  overflow: auto;\n  scrollbar-width: none;\n  white-space: nowrap;\n  margin-right: -12px;\n}\n.headline {\n  display: flex;\n  margin-right: 4px;\n}\n.gradient-container {\n  position: relative;\n}\n.gradient {\n  position: absolute;\n  transform: translate(3px, -9px);\n  height: 36px;\n  width: 9px;\n}\n@media (prefers-color-scheme: light) {\n  .container {\n    background-color: #fafafa;\n    box-shadow: 0 0 0 1px #0000000f;\n  }\n  .headline-label {\n    color: #1f1f1f;\n  }\n  .chip {\n    background-color: #ffffff;\n    border-color: #d2d2d2;\n    color: #5e5e5e;\n    text-decoration: none;\n  }\n  .chip:hover {\n    background-color: #f2f2f2;\n  }\n  .chip:focus {\n    background-color: #f2f2f2;\n  }\n  .chip:active {\n    background-color: #d8d8d8;\n    border-color: #b6b6b6;\n  }\n  .logo-dark {\n    display: none;\n  }\n  .gradient {\n    background: linear-gradient(90deg, #fafafa 15%, #fafafa00 100%);\n  }\n}\n@media (prefers-color-scheme: dark) {\n  .container {\n    background-color: #1f1f1f;\n    box-shadow: 0 0 0 1px #ffffff26;\n  }\n  .headline-label {\n    color: #fff;\n  }\n  .chip {\n    background-color: #2c2c2c;\n    border-color: #3c4043;\n    color: #fff;\n    text-decoration: none;\n  }\n  .chip:hover {\n    background-color: #353536;\n  }\n  .chip:focus {\n    background-color: #353536;\n  }\n  .chip:active {\n    background-color: #464849;\n    border-color: #53575b;\n  }\n  .logo-light {\n    display: none;\n  }\n  .gradient {\n    background: linear-gradient(90deg, #1f1f1f 15%, #1f1f1f00 100%);\n  }\n}\n</style>\n<div class=\"container\">\n  <div class=\"headline\">\n    <svg class=\"logo-light\" width=\"18\" height=\"18\" viewBox=\"9 9 35 35\" fill=\"none\" xmlns=\"http://www.w3.org/2000/svg\">\n      <path fill-rule=\"evenodd\" clip-rule=\"evenodd\" d=\"M42.8622 27.0064C42.8622 25.7839 42.7525 24.6084 42.5487 23.4799H26.3109V30.1568H35.5897C35.1821 32.3041 33.9596 34.1222 32.1258 35.3448V39.6864H37.7213C40.9814 36.677 42.8622 32.2571 42.8622 27.0064V27.0064Z\" fill=\"#4285F4\"/>\n      <path fill-rule=\"evenodd\" clip-rule=\"evenodd\" d=\"M26.3109 43.8555C30.9659 43.8555 34.8687 42.3195 37.7213 39.6863L32.1258 35.3447C30.5898 36.3792 28.6306 37.0061 26.3109 37.0061C21.8282 37.0061 18.0195 33.9811 16.6559 29.906H10.9194V34.3573C13.7563 39.9841 19.5712 43.8555 26.3109 43.8555V43.8555Z\" fill=\"#34A853\"/>\n      <path fill-rule=\"evenodd\" clip-rule=\"evenodd\" d=\"M16.6559 29.8904C16.3111 28.8559 16.1074 27.7588 16.1074 26.6146C16.1074 25.4704 16.3111 24.3733 16.6559 23.3388V18.8875H10.9194C9.74388 21.2072 9.06992 23.8247 9.06992 26.6146C9.06992 29.4045 9.74388 32.022 10.9194 34.3417L15.3864 30.8621L16.6559 29.8904V29.8904Z\" fill=\"#FBBC05\"/>\n      <path fill-rule=\"evenodd\" clip-rule=\"evenodd\" d=\"M26.3109 16.2386C28.85 16.2386 31.107 17.1164 32.9095 18.8091L37.8466 13.8719C34.853 11.082 30.9659 9.3736 26.3109 9.3736C19.5712 9.3736 13.7563 13.245 10.9194 18.8875L16.6559 23.3388C18.0195 19.2636 21.8282 16.2386 26.3109 16.2386V16.2386Z\" fill=\"#EA4335\"/>\n    </svg>\n    <svg class=\"logo-dark\" width=\"18\" height=\"18\" viewBox=\"0 0 48 48\" xmlns=\"http://www.w3.org/2000/svg\">\n      <circle cx=\"24\" cy=\"23\" fill=\"#FFF\" r=\"22\"/>\n      <path d=\"M33.76 34.26c2.75-2.56 4.49-6.37 4.49-11.26 0-.89-.08-1.84-.29-3H24.01v5.99h8.03c-.4 2.02-1.5 3.56-3.07 4.56v.75l3.91 2.97h.88z\" fill=\"#4285F4\"/>\n      <path d=\"M15.58 25.77A8.845 8.845 0 0 0 24 31.86c1.92 0 3.62-.46 4.97-1.31l4.79 3.71C31.14 36.7 27.65 38 24 38c-5.93 0-11.01-3.4-13.45-8.36l.17-1.01 4.06-2.85h.8z\" fill=\"#34A853\"/>\n      <path d=\"M15.59 20.21a8.864 8.864 0 0 0 0 5.58l-5.03 3.86c-.98-2-1.53-4.25-1.53-6.64 0-2.39.55-4.64 1.53-6.64l1-.22 3.81 2.98.22 1.08z\" fill=\"#FBBC05\"/>\n      <path d=\"M24 14.14c2.11 0 4.02.75 5.52 1.98l4.36-4.36C31.22 9.43 27.81 8 24 8c-5.93 0-11.01 3.4-13.45 8.36l5.03 3.85A8.86 8.86 0 0 1 24 14.14z\" fill=\"#EA4335\"/>\n    </svg>\n    <div class=\"gradient-container\"><div class=\"gradient\"></div></div>\n  </div>\n  <div class=\"carousel\">\n    <a class=\"chip\" href=\"https://vertexaisearch.cloud.google.com/grounding-api-redirect/AZnLMfyUvBdO0Lm2rsLZxg32qpO8GUR_0vnAyrSMOWfRMCmFc52bbWvKu5eviiYYqY5vD0EsyeIVZWGQNgKSRioWxwQokxr1Y9_28uth7QsuKLvmsI5K2inGlgbDy0iKSQrbU5Rl_2gfjtOb5y9fq_l9CMie6i1xySYYb-ja42ZUA5C3FUeDG5vBdbawp467bxd5BwcpFk-LjPOlErZUEPi6M7DECtjnP58=\">who won the 2023 cricket world cup</a>\n  </div>\n</div>\n"
          },
          "metadata": {}
        }
      ],
      "execution_count": null
    },
    {
      "cell_type": "markdown",
      "source": [
        "Or you can let the Gemini API calculate a likelihood that the response needs search backing, and define the threshold to use."
      ],
      "metadata": {
        "id": "6nSCaNfL9wSL"
      }
    },
    {
      "cell_type": "code",
      "source": [
        "# The dynamic retrieval score is a probability, so the threshold\n",
        "# must also be bound by [0, 1].\n",
        "search_config = {\n",
        "    \"dynamic_retrieval_config\": {\"mode\": \"MODE_DYNAMIC\", \"dynamic_threshold\": 0.5}\n",
        "}\n",
        "\n",
        "maybe_search_model = genai.GenerativeModel(\n",
        "    \"gemini-1.5-flash-002\", tools={\"google_search_retrieval\": search_config}\n",
        ")\n",
        "\n",
        "chat = maybe_search_model.start_chat()\n",
        "\n",
        "r = chat.send_message(\"Hello friendly chatbot!\")\n",
        "rc = r.candidates[0]\n",
        "score = rc.grounding_metadata.retrieval_metadata.google_search_dynamic_retrieval_score\n",
        "print(f\"First turn: {score=}\")\n",
        "\n",
        "r = chat.send_message(\"Who took home the 2023 cricket world cup?\")\n",
        "rc = r.candidates[0]\n",
        "score = rc.grounding_metadata.retrieval_metadata.google_search_dynamic_retrieval_score\n",
        "print(f\"Second turn: {score=}\")\n",
        "print()\n",
        "\n",
        "display(Markdown(r.text))"
      ],
      "metadata": {
        "id": "WdqdYOND98M4",
        "trusted": true,
        "execution": {
          "iopub.status.busy": "2024-11-16T03:08:00.638813Z",
          "iopub.execute_input": "2024-11-16T03:08:00.639254Z",
          "iopub.status.idle": "2024-11-16T03:08:02.591494Z",
          "shell.execute_reply.started": "2024-11-16T03:08:00.63921Z",
          "shell.execute_reply": "2024-11-16T03:08:02.590081Z"
        },
        "outputId": "86a73e29-a012-4b98-d0a5-a31e0766387d"
      },
      "outputs": [
        {
          "name": "stdout",
          "text": "First turn: score=0.400390625\nSecond turn: score=0.69140625\n\n",
          "output_type": "stream"
        },
        {
          "output_type": "display_data",
          "data": {
            "text/plain": "<IPython.core.display.Markdown object>",
            "text/markdown": "Australia won the 2023 Cricket World Cup.  They defeated India in the final by six wickets, securing their sixth World Cup title.  The final match took place on November 19th, 2023, at the Narendra Modi Stadium in Ahmedabad.\n"
          },
          "metadata": {}
        }
      ],
      "execution_count": null
    },
    {
      "cell_type": "code",
      "source": [
        "HTML(rc.grounding_metadata.search_entry_point.rendered_content)"
      ],
      "metadata": {
        "trusted": true,
        "execution": {
          "iopub.status.busy": "2024-11-16T03:08:16.103763Z",
          "iopub.execute_input": "2024-11-16T03:08:16.104239Z",
          "iopub.status.idle": "2024-11-16T03:08:16.115624Z",
          "shell.execute_reply.started": "2024-11-16T03:08:16.104193Z",
          "shell.execute_reply": "2024-11-16T03:08:16.11419Z"
        },
        "id": "WLHVAh2Y8fM_",
        "outputId": "371b610b-fc06-4830-c1b2-dec01ad734c4"
      },
      "outputs": [
        {
          "execution_count": 14,
          "output_type": "execute_result",
          "data": {
            "text/plain": "<IPython.core.display.HTML object>",
            "text/html": "<style>\n.container {\n  align-items: center;\n  border-radius: 8px;\n  display: flex;\n  font-family: Google Sans, Roboto, sans-serif;\n  font-size: 14px;\n  line-height: 20px;\n  padding: 8px 12px;\n}\n.chip {\n  display: inline-block;\n  border: solid 1px;\n  border-radius: 16px;\n  min-width: 14px;\n  padding: 5px 16px;\n  text-align: center;\n  user-select: none;\n  margin: 0 8px;\n  -webkit-tap-highlight-color: transparent;\n}\n.carousel {\n  overflow: auto;\n  scrollbar-width: none;\n  white-space: nowrap;\n  margin-right: -12px;\n}\n.headline {\n  display: flex;\n  margin-right: 4px;\n}\n.gradient-container {\n  position: relative;\n}\n.gradient {\n  position: absolute;\n  transform: translate(3px, -9px);\n  height: 36px;\n  width: 9px;\n}\n@media (prefers-color-scheme: light) {\n  .container {\n    background-color: #fafafa;\n    box-shadow: 0 0 0 1px #0000000f;\n  }\n  .headline-label {\n    color: #1f1f1f;\n  }\n  .chip {\n    background-color: #ffffff;\n    border-color: #d2d2d2;\n    color: #5e5e5e;\n    text-decoration: none;\n  }\n  .chip:hover {\n    background-color: #f2f2f2;\n  }\n  .chip:focus {\n    background-color: #f2f2f2;\n  }\n  .chip:active {\n    background-color: #d8d8d8;\n    border-color: #b6b6b6;\n  }\n  .logo-dark {\n    display: none;\n  }\n  .gradient {\n    background: linear-gradient(90deg, #fafafa 15%, #fafafa00 100%);\n  }\n}\n@media (prefers-color-scheme: dark) {\n  .container {\n    background-color: #1f1f1f;\n    box-shadow: 0 0 0 1px #ffffff26;\n  }\n  .headline-label {\n    color: #fff;\n  }\n  .chip {\n    background-color: #2c2c2c;\n    border-color: #3c4043;\n    color: #fff;\n    text-decoration: none;\n  }\n  .chip:hover {\n    background-color: #353536;\n  }\n  .chip:focus {\n    background-color: #353536;\n  }\n  .chip:active {\n    background-color: #464849;\n    border-color: #53575b;\n  }\n  .logo-light {\n    display: none;\n  }\n  .gradient {\n    background: linear-gradient(90deg, #1f1f1f 15%, #1f1f1f00 100%);\n  }\n}\n</style>\n<div class=\"container\">\n  <div class=\"headline\">\n    <svg class=\"logo-light\" width=\"18\" height=\"18\" viewBox=\"9 9 35 35\" fill=\"none\" xmlns=\"http://www.w3.org/2000/svg\">\n      <path fill-rule=\"evenodd\" clip-rule=\"evenodd\" d=\"M42.8622 27.0064C42.8622 25.7839 42.7525 24.6084 42.5487 23.4799H26.3109V30.1568H35.5897C35.1821 32.3041 33.9596 34.1222 32.1258 35.3448V39.6864H37.7213C40.9814 36.677 42.8622 32.2571 42.8622 27.0064V27.0064Z\" fill=\"#4285F4\"/>\n      <path fill-rule=\"evenodd\" clip-rule=\"evenodd\" d=\"M26.3109 43.8555C30.9659 43.8555 34.8687 42.3195 37.7213 39.6863L32.1258 35.3447C30.5898 36.3792 28.6306 37.0061 26.3109 37.0061C21.8282 37.0061 18.0195 33.9811 16.6559 29.906H10.9194V34.3573C13.7563 39.9841 19.5712 43.8555 26.3109 43.8555V43.8555Z\" fill=\"#34A853\"/>\n      <path fill-rule=\"evenodd\" clip-rule=\"evenodd\" d=\"M16.6559 29.8904C16.3111 28.8559 16.1074 27.7588 16.1074 26.6146C16.1074 25.4704 16.3111 24.3733 16.6559 23.3388V18.8875H10.9194C9.74388 21.2072 9.06992 23.8247 9.06992 26.6146C9.06992 29.4045 9.74388 32.022 10.9194 34.3417L15.3864 30.8621L16.6559 29.8904V29.8904Z\" fill=\"#FBBC05\"/>\n      <path fill-rule=\"evenodd\" clip-rule=\"evenodd\" d=\"M26.3109 16.2386C28.85 16.2386 31.107 17.1164 32.9095 18.8091L37.8466 13.8719C34.853 11.082 30.9659 9.3736 26.3109 9.3736C19.5712 9.3736 13.7563 13.245 10.9194 18.8875L16.6559 23.3388C18.0195 19.2636 21.8282 16.2386 26.3109 16.2386V16.2386Z\" fill=\"#EA4335\"/>\n    </svg>\n    <svg class=\"logo-dark\" width=\"18\" height=\"18\" viewBox=\"0 0 48 48\" xmlns=\"http://www.w3.org/2000/svg\">\n      <circle cx=\"24\" cy=\"23\" fill=\"#FFF\" r=\"22\"/>\n      <path d=\"M33.76 34.26c2.75-2.56 4.49-6.37 4.49-11.26 0-.89-.08-1.84-.29-3H24.01v5.99h8.03c-.4 2.02-1.5 3.56-3.07 4.56v.75l3.91 2.97h.88z\" fill=\"#4285F4\"/>\n      <path d=\"M15.58 25.77A8.845 8.845 0 0 0 24 31.86c1.92 0 3.62-.46 4.97-1.31l4.79 3.71C31.14 36.7 27.65 38 24 38c-5.93 0-11.01-3.4-13.45-8.36l.17-1.01 4.06-2.85h.8z\" fill=\"#34A853\"/>\n      <path d=\"M15.59 20.21a8.864 8.864 0 0 0 0 5.58l-5.03 3.86c-.98-2-1.53-4.25-1.53-6.64 0-2.39.55-4.64 1.53-6.64l1-.22 3.81 2.98.22 1.08z\" fill=\"#FBBC05\"/>\n      <path d=\"M24 14.14c2.11 0 4.02.75 5.52 1.98l4.36-4.36C31.22 9.43 27.81 8 24 8c-5.93 0-11.01 3.4-13.45 8.36l5.03 3.85A8.86 8.86 0 0 1 24 14.14z\" fill=\"#EA4335\"/>\n    </svg>\n    <div class=\"gradient-container\"><div class=\"gradient\"></div></div>\n  </div>\n  <div class=\"carousel\">\n    <a class=\"chip\" href=\"https://vertexaisearch.cloud.google.com/grounding-api-redirect/AZnLMfzsIT5ESh8Okq-opxDIxB9lQ-MRgH0yK1fTzJLZmTlHEFZQfmbpcScrX6BIY6oz79LqyZut_XoWnfns9GlFsoZoUTmbb5C_LM3ajaIp6d4RzyaDSJID2GhNjae-QefK0FiUR_HegCc_CwNTW0yyBOY4xTlQQ7UzlQX5p-ILezbfl5lLG_cDueWrJqtZGmYlB9iuJU-K42uGnzSNZjLC1QbOIASlnTk=\">who won the 2023 cricket world cup</a>\n  </div>\n</div>\n"
          },
          "metadata": {}
        }
      ],
      "execution_count": null
    },
    {
      "cell_type": "markdown",
      "source": [
        "## Further reading\n",
        "\n",
        "When using search grounding, there are some specific requirements that you must follow, including when and how to show search suggestions, and how to use the grounding links.  Be sure to read and follow the details in the [search grounding capability guide](https://ai.google.dev/gemini-api/docs/grounding) and the [search suggestions guide](https://ai.google.dev/gemini-api/docs/grounding/search-suggestions)."
      ],
      "metadata": {
        "id": "Cp7gvdM-zOf0"
      }
    }
  ]
}