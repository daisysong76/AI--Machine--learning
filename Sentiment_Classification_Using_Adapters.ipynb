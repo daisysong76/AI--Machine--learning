{
  "nbformat": 4,
  "nbformat_minor": 0,
  "metadata": {
    "colab": {
      "provenance": [],
      "authorship_tag": "ABX9TyP8a6KVgC2TymDyOUMfIf2F",
      "include_colab_link": true
    },
    "kernelspec": {
      "name": "python3",
      "display_name": "Python 3"
    },
    "language_info": {
      "name": "python"
    }
  },
  "cells": [
    {
      "cell_type": "markdown",
      "metadata": {
        "id": "view-in-github",
        "colab_type": "text"
      },
      "source": [
        "<a href=\"https://colab.research.google.com/github/daisysong76/AI--Machine--learning/blob/main/Sentiment_Classification_Using_Adapters.ipynb\" target=\"_parent\"><img src=\"https://colab.research.google.com/assets/colab-badge.svg\" alt=\"Open In Colab\"/></a>"
      ]
    },
    {
      "cell_type": "markdown",
      "source": [
        "useing adapters for a sentiment classification task. Instead of fine-tuning all of BERT's parameters, I inserted adapter modules into the model, minimizing training time and memory requirements."
      ],
      "metadata": {
        "id": "bZUFfRCVyBDg"
      }
    },
    {
      "cell_type": "markdown",
      "source": [
        "Add Adapter layers after the feed-forward and attention layers of BERT.\n",
        "\n",
        "Keep the original model weights frozen.\n",
        "\n",
        "Fine-tune only the adapter layers for the new task."
      ],
      "metadata": {
        "id": "cKEAEVklyP5K"
      }
    },
    {
      "cell_type": "code",
      "execution_count": null,
      "metadata": {
        "id": "Ipe991ykxr84"
      },
      "outputs": [],
      "source": [
        "import torch\n",
        "from torch import nn\n",
        "from transformers import BertTokenizer, BertModel, BertConfig\n",
        "\n",
        "# Define the Adapter Module\n",
        "class Adapter(nn.Module):\n",
        "    def __init__(self, input_dim, adapter_dim=64):\n",
        "        super(Adapter, self).__init__()\n",
        "        self.down_projection = nn.Linear(input_dim, adapter_dim)\n",
        "        self.non_linearity = nn.ReLU()\n",
        "        self.up_projection = nn.Linear(adapter_dim, input_dim)\n",
        "\n",
        "    def forward(self, x):\n",
        "        residual = x  # Save the residual connection\n",
        "        x = self.down_projection(x)\n",
        "        x = self.non_linearity(x)\n",
        "        x = self.up_projection(x)\n",
        "        return x + residual  # Add residual connection\n",
        "\n",
        "\n",
        "# Define the Adapter-Enhanced BERT Model\n",
        "class BertWithAdapters(nn.Module):\n",
        "    def __init__(self, model_name=\"bert-base-uncased\", adapter_dim=64, num_labels=2):\n",
        "        super(BertWithAdapters, self).__init__()\n",
        "        self.bert = BertModel.from_pretrained(model_name)\n",
        "        self.bert.config.output_hidden_states = True  # To get intermediate layers\n",
        "\n",
        "        # Freeze BERT weights\n",
        "        for param in self.bert.parameters():\n",
        "            param.requires_grad = False\n",
        "\n",
        "        # Add adapters to each transformer layer\n",
        "        self.adapters = nn.ModuleList(\n",
        "            [Adapter(self.bert.config.hidden_size, adapter_dim) for _ in range(self.bert.config.num_hidden_layers)]\n",
        "        )\n",
        "\n",
        "        # Classification head\n",
        "        self.classifier = nn.Linear(self.bert.config.hidden_size, num_labels)\n",
        "\n",
        "    def forward(self, input_ids, attention_mask):\n",
        "        outputs = self.bert(input_ids, attention_mask=attention_mask)\n",
        "        hidden_states = outputs.hidden_states  # Get all hidden states from BERT\n",
        "\n",
        "        # Pass each layer's output through its corresponding adapter\n",
        "        adapted_outputs = []\n",
        "        for i, hidden_state in enumerate(hidden_states[1:]):  # Skip embedding layer (index 0)\n",
        "            adapted_output = self.adapters[i](hidden_state)\n",
        "            adapted_outputs.append(adapted_output)\n",
        "\n",
        "        # Use the last adapted layer's output for classification\n",
        "        final_output = adapted_outputs[-1][:, 0, :]  # CLS token output\n",
        "        logits = self.classifier(final_output)\n",
        "        return logits\n",
        "\n",
        "\n",
        "# Load Data and Train the Model\n",
        "from transformers import AdamW\n",
        "from datasets import load_dataset\n",
        "\n",
        "# Load the tokenizer and dataset\n",
        "tokenizer = BertTokenizer.from_pretrained(\"bert-base-uncased\")\n",
        "dataset = load_dataset(\"imdb\")\n",
        "\n",
        "def preprocess_function(examples):\n",
        "    return tokenizer(examples[\"text\"], truncation=True, padding=True, max_length=128)\n",
        "\n",
        "encoded_dataset = dataset.map(preprocess_function, batched=True)\n",
        "encoded_dataset.set_format(type=\"torch\", columns=[\"input_ids\", \"attention_mask\", \"label\"])\n",
        "\n",
        "# Create DataLoaders\n",
        "train_loader = torch.utils.data.DataLoader(encoded_dataset[\"train\"], batch_size=16, shuffle=True)\n",
        "test_loader = torch.utils.data.DataLoader(encoded_dataset[\"test\"], batch_size=16)\n",
        "\n",
        "# Initialize the model\n",
        "model = BertWithAdapters()\n",
        "device = torch.device(\"cuda\" if torch.cuda.is_available() else \"cpu\")\n",
        "model.to(device)\n",
        "\n",
        "# Define optimizer and loss function\n",
        "optimizer = AdamW(model.parameters(), lr=1e-4)\n",
        "criterion = nn.CrossEntropyLoss()\n",
        "\n",
        "# Training Loop\n",
        "for epoch in range(3):  # Number of epochs\n",
        "    model.train()\n",
        "    total_loss = 0\n",
        "    for batch in train_loader:\n",
        "        input_ids = batch[\"input_ids\"].to(device)\n",
        "        attention_mask = batch[\"attention_mask\"].to(device)\n",
        "        labels = batch[\"label\"].to(device)\n",
        "\n",
        "        optimizer.zero_grad()\n",
        "        outputs = model(input_ids, attention_mask)\n",
        "        loss = criterion(outputs, labels)\n",
        "        loss.backward()\n",
        "        optimizer.step()\n",
        "        total_loss += loss.item()\n",
        "\n",
        "    print(f\"Epoch {epoch+1}, Loss: {total_loss/len(train_loader)}\")\n",
        "\n",
        "# Evaluation\n",
        "model.eval()\n",
        "correct = 0\n",
        "total = 0\n",
        "with torch.no_grad():\n",
        "    for batch in test_loader:\n",
        "        input_ids = batch[\"input_ids\"].to(device)\n",
        "        attention_mask = batch[\"attention_mask\"].to(device)\n",
        "        labels = batch[\"label\"].to(device)\n",
        "\n",
        "        outputs = model(input_ids, attention_mask)\n",
        "        _, predicted = torch.max(outputs, dim=1)\n",
        "        total += labels.size(0)\n",
        "        correct += (predicted == labels).sum().item()\n",
        "\n",
        "print(f\"Accuracy: {correct/total:.2f}\")\n"
      ]
    },
    {
      "cell_type": "markdown",
      "source": [
        "Key Features of This Implementation\n",
        "Adapters:\n",
        "Each transformer layer has its own adapter to introduce trainable parameters while keeping the core model frozen.\n",
        "They consist of a down-projection, a non-linearity, and an up-projection with residual connections.\n",
        "\n",
        "Freezing the Pre-Trained Model:\n",
        "Only adapters and the classification head are trained, making the approach efficient.\n",
        "\n",
        "Modularity:\n",
        "The adapter modules can be reused or extended for different transformer architectures or tasks.\n",
        "\n",
        "Flexibility:\n",
        "You can tune only specific layers, use different adapter dimensions, or extend adapters for tasks beyond classification."
      ],
      "metadata": {
        "id": "Ap3taCH4ybZU"
      }
    }
  ]
}