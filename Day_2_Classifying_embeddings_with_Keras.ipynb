{
  "metadata": {
    "kernelspec": {
      "name": "python3",
      "display_name": "Python 3",
      "language": "python"
    },
    "language_info": {
      "name": "python",
      "version": "3.10.14",
      "mimetype": "text/x-python",
      "codemirror_mode": {
        "name": "ipython",
        "version": 3
      },
      "pygments_lexer": "ipython3",
      "nbconvert_exporter": "python",
      "file_extension": ".py"
    },
    "colab": {
      "toc_visible": true,
      "name": "Day 2 - Classifying embeddings with Keras",
      "provenance": [],
      "include_colab_link": true
    },
    "google": {
      "image_path": "/examples/train_text_classifier_embeddings_files/output_3ae76701e178_0.png",
      "keywords": [
        "examples",
        "googleai",
        "samplecode",
        "python",
        "embed"
      ]
    },
    "kaggle": {
      "accelerator": "none",
      "dataSources": [],
      "dockerImageVersionId": 30786,
      "isInternetEnabled": true,
      "language": "python",
      "sourceType": "notebook",
      "isGpuEnabled": false
    }
  },
  "nbformat_minor": 0,
  "nbformat": 4,
  "cells": [
    {
      "cell_type": "markdown",
      "metadata": {
        "id": "view-in-github",
        "colab_type": "text"
      },
      "source": [
        "<a href=\"https://colab.research.google.com/github/daisysong76/AI--Machine--learning/blob/main/Day_2_Classifying_embeddings_with_Keras.ipynb\" target=\"_parent\"><img src=\"https://colab.research.google.com/assets/colab-badge.svg\" alt=\"Open In Colab\"/></a>"
      ]
    },
    {
      "cell_type": "markdown",
      "source": [
        "##### Copyright 2024 Google LLC."
      ],
      "metadata": {
        "id": "v0WeWbFNkUSz"
      }
    },
    {
      "cell_type": "code",
      "source": [
        "# @title Licensed under the Apache License, Version 2.0 (the \"License\");\n",
        "# you may not use this file except in compliance with the License.\n",
        "# You may obtain a copy of the License at\n",
        "#\n",
        "# https://www.apache.org/licenses/LICENSE-2.0\n",
        "#\n",
        "# Unless required by applicable law or agreed to in writing, software\n",
        "# distributed under the License is distributed on an \"AS IS\" BASIS,\n",
        "# WITHOUT WARRANTIES OR CONDITIONS OF ANY KIND, either express or implied.\n",
        "# See the License for the specific language governing permissions and\n",
        "# limitations under the License."
      ],
      "metadata": {
        "cellView": "form",
        "id": "Aqwsgz9lkUst",
        "trusted": true,
        "execution": {
          "iopub.status.busy": "2024-11-08T20:12:05.315901Z",
          "iopub.execute_input": "2024-11-08T20:12:05.316321Z",
          "iopub.status.idle": "2024-11-08T20:12:05.338383Z",
          "shell.execute_reply.started": "2024-11-08T20:12:05.316282Z",
          "shell.execute_reply": "2024-11-08T20:12:05.337083Z"
        }
      },
      "outputs": [],
      "execution_count": null
    },
    {
      "cell_type": "markdown",
      "source": [
        "# Day 2 - Classifying embeddings with Keras and the Gemini API\n",
        "\n",
        "## Overview\n",
        "\n",
        "Welcome back to the Kaggle 5-day Generative AI course. In this notebook, you'll learn to use the embeddings produced by the Gemini API to train a model that can classify newsgroup posts into the categories (the newsgroup itself) from the post contents.\n",
        "\n",
        "This technique uses the Gemini API's embeddings as input, avoiding the need to train on text input directly, and as a result it is able to perform quite well using relatively few examples compared to training a text model from scratch.\n",
        "\n",
        "## For help\n",
        "\n",
        "**Common issues are covered in the [FAQ and troubleshooting guide](https://www.kaggle.com/code/markishere/day-0-troubleshooting-and-faqs).**\n"
      ],
      "metadata": {
        "id": "bhT1u-Pof10V"
      }
    },
    {
      "cell_type": "code",
      "source": [
        "%pip install -U -q \"google-generativeai>=0.8.3\""
      ],
      "metadata": {
        "id": "FXq0ygI3BCdQ",
        "trusted": true,
        "execution": {
          "iopub.status.busy": "2024-11-12T23:51:08.849119Z",
          "iopub.execute_input": "2024-11-12T23:51:08.850043Z",
          "iopub.status.idle": "2024-11-12T23:51:40.337975Z",
          "shell.execute_reply.started": "2024-11-12T23:51:08.849991Z",
          "shell.execute_reply": "2024-11-12T23:51:40.336398Z"
        },
        "outputId": "9c64371f-2bc3-4add-939f-0e6458b10055"
      },
      "outputs": [
        {
          "name": "stdout",
          "text": "Note: you may need to restart the kernel to use updated packages.\n",
          "output_type": "stream"
        }
      ],
      "execution_count": null
    },
    {
      "cell_type": "code",
      "source": [
        "import google.generativeai as genai"
      ],
      "metadata": {
        "id": "XiJjB2vWCQJP",
        "trusted": true,
        "execution": {
          "iopub.status.busy": "2024-11-12T23:52:38.396749Z",
          "iopub.execute_input": "2024-11-12T23:52:38.3972Z",
          "iopub.status.idle": "2024-11-12T23:52:38.403288Z",
          "shell.execute_reply.started": "2024-11-12T23:52:38.397158Z",
          "shell.execute_reply": "2024-11-12T23:52:38.401928Z"
        }
      },
      "outputs": [],
      "execution_count": null
    },
    {
      "cell_type": "markdown",
      "source": [
        "### Set up your API key\n",
        "\n",
        "To run the following cell, your API key must be stored it in a [Kaggle secret](https://www.kaggle.com/discussions/product-feedback/114053) named `GOOGLE_API_KEY`.\n",
        "\n",
        "If you don't already have an API key, you can grab one from [AI Studio](https://aistudio.google.com/app/apikey). You can find [detailed instructions in the docs](https://ai.google.dev/gemini-api/docs/api-key).\n",
        "\n",
        "To make the key available through Kaggle secrets, choose `Secrets` from the `Add-ons` menu and follow the instructions to add your key or enable it for this notebook."
      ],
      "metadata": {
        "id": "_mwJYXpElYJc"
      }
    },
    {
      "cell_type": "code",
      "source": [
        "from kaggle_secrets import UserSecretsClient\n",
        "\n",
        "GOOGLE_API_KEY = UserSecretsClient().get_secret(\"GOOGLE_API_KEY\")\n",
        "genai.configure(api_key=GOOGLE_API_KEY)"
      ],
      "metadata": {
        "id": "tayrk_A2lZ7A",
        "trusted": true,
        "execution": {
          "iopub.status.busy": "2024-11-12T23:52:44.057297Z",
          "iopub.execute_input": "2024-11-12T23:52:44.057801Z",
          "iopub.status.idle": "2024-11-12T23:52:44.280038Z",
          "shell.execute_reply.started": "2024-11-12T23:52:44.057756Z",
          "shell.execute_reply": "2024-11-12T23:52:44.278827Z"
        }
      },
      "outputs": [],
      "execution_count": null
    },
    {
      "cell_type": "markdown",
      "source": [
        "If you received an error response along the lines of `No user secrets exist for kernel id ...`, then you need to add your API key via `Add-ons`, `Secrets` **and** enable it.\n",
        "\n",
        "![Screenshot of the checkbox to enable GOOGLE_API_KEY secret](https://storage.googleapis.com/kaggle-media/Images/5gdai_sc_3.png)"
      ],
      "metadata": {
        "id": "c79728739642"
      }
    },
    {
      "cell_type": "markdown",
      "source": [
        "## Dataset\n",
        "\n",
        "The [20 Newsgroups Text Dataset](https://scikit-learn.org/0.19/datasets/twenty_newsgroups.html) contains 18,000 newsgroups posts on 20 topics divided into training and test sets. The split between the training and test datasets are based on messages posted before and after a specific date. For this tutorial, you will use sampled subsets of the training and test sets, and perform some processing using Pandas."
      ],
      "metadata": {
        "id": "C5B9sWq0hNEV"
      }
    },
    {
      "cell_type": "code",
      "source": [
        "from sklearn.datasets import fetch_20newsgroups\n",
        "\n",
        "newsgroups_train = fetch_20newsgroups(subset=\"train\")\n",
        "newsgroups_test = fetch_20newsgroups(subset=\"test\")\n",
        "\n",
        "# View list of class names for dataset\n",
        "newsgroups_train.target_names"
      ],
      "metadata": {
        "id": "jDoKis4om-Ea",
        "trusted": true,
        "execution": {
          "iopub.status.busy": "2024-11-12T23:52:50.611979Z",
          "iopub.execute_input": "2024-11-12T23:52:50.612485Z",
          "iopub.status.idle": "2024-11-12T23:53:02.264076Z",
          "shell.execute_reply.started": "2024-11-12T23:52:50.612431Z",
          "shell.execute_reply": "2024-11-12T23:53:02.262574Z"
        },
        "outputId": "222da818-b5b7-44de-9c45-921f46862293"
      },
      "outputs": [
        {
          "execution_count": 6,
          "output_type": "execute_result",
          "data": {
            "text/plain": "['alt.atheism',\n 'comp.graphics',\n 'comp.os.ms-windows.misc',\n 'comp.sys.ibm.pc.hardware',\n 'comp.sys.mac.hardware',\n 'comp.windows.x',\n 'misc.forsale',\n 'rec.autos',\n 'rec.motorcycles',\n 'rec.sport.baseball',\n 'rec.sport.hockey',\n 'sci.crypt',\n 'sci.electronics',\n 'sci.med',\n 'sci.space',\n 'soc.religion.christian',\n 'talk.politics.guns',\n 'talk.politics.mideast',\n 'talk.politics.misc',\n 'talk.religion.misc']"
          },
          "metadata": {}
        }
      ],
      "execution_count": null
    },
    {
      "cell_type": "markdown",
      "source": [
        "Here is an example of what a record from the training set looks like."
      ],
      "metadata": {
        "id": "hDz9MjkNl_FD"
      }
    },
    {
      "cell_type": "code",
      "source": [
        "print(newsgroups_train.data[0])"
      ],
      "metadata": {
        "id": "FPq-56AimOPX",
        "trusted": true,
        "execution": {
          "iopub.status.busy": "2024-11-12T23:54:39.433074Z",
          "iopub.execute_input": "2024-11-12T23:54:39.434059Z",
          "iopub.status.idle": "2024-11-12T23:54:39.440524Z",
          "shell.execute_reply.started": "2024-11-12T23:54:39.434009Z",
          "shell.execute_reply": "2024-11-12T23:54:39.438819Z"
        },
        "outputId": "48930f63-41c4-4de4-bf87-281d6f5a945f"
      },
      "outputs": [
        {
          "name": "stdout",
          "text": "From: lerxst@wam.umd.edu (where's my thing)\nSubject: WHAT car is this!?\nNntp-Posting-Host: rac3.wam.umd.edu\nOrganization: University of Maryland, College Park\nLines: 15\n\n I was wondering if anyone out there could enlighten me on this car I saw\nthe other day. It was a 2-door sports car, looked to be from the late 60s/\nearly 70s. It was called a Bricklin. The doors were really small. In addition,\nthe front bumper was separate from the rest of the body. This is \nall I know. If anyone can tellme a model name, engine specs, years\nof production, where this car is made, history, or whatever info you\nhave on this funky looking car, please e-mail.\n\nThanks,\n- IL\n   ---- brought to you by your neighborhood Lerxst ----\n\n\n\n\n\n",
          "output_type": "stream"
        }
      ],
      "execution_count": null
    },
    {
      "cell_type": "markdown",
      "source": [
        "Start by preprocessing the data for this tutorial in a Pandas dataframe. To remove any sensitive information like names and email addresses, you will take only the subject and body of each message. This is an optional step that transforms the input data into more generic text, rather than email posts, so that it will work in other contexts."
      ],
      "metadata": {
        "id": "A9-DD7wgCx8j"
      }
    },
    {
      "cell_type": "code",
      "source": [
        "import email\n",
        "import re\n",
        "\n",
        "import pandas as pd\n",
        "\n",
        "\n",
        "def preprocess_newsgroup_row(data):\n",
        "    # Extract only the subject and body\n",
        "    msg = email.message_from_string(data)\n",
        "    text = f\"{msg['Subject']}\\n\\n{msg.get_payload()}\"\n",
        "    # Strip any remaining email addresses\n",
        "    text = re.sub(r\"[\\w\\.-]+@[\\w\\.-]+\", \"\", text)\n",
        "    # Truncate each entry to 5,000 characters\n",
        "    text = text[:5000]\n",
        "\n",
        "    return text\n",
        "\n",
        "\n",
        "def preprocess_newsgroup_data(newsgroup_dataset):\n",
        "    # Put data points into dataframe\n",
        "    df = pd.DataFrame(\n",
        "        {\"Text\": newsgroup_dataset.data, \"Label\": newsgroup_dataset.target}\n",
        "    )\n",
        "    # Clean up the text\n",
        "    df[\"Text\"] = df[\"Text\"].apply(preprocess_newsgroup_row)\n",
        "    # Match label to target name index\n",
        "    df[\"Class Name\"] = df[\"Label\"].map(lambda l: newsgroup_dataset.target_names[l])\n",
        "\n",
        "    return df"
      ],
      "metadata": {
        "id": "urpLwp3UmPF3",
        "trusted": true,
        "execution": {
          "iopub.status.busy": "2024-11-12T23:54:45.293755Z",
          "iopub.execute_input": "2024-11-12T23:54:45.294184Z",
          "iopub.status.idle": "2024-11-12T23:54:45.786909Z",
          "shell.execute_reply.started": "2024-11-12T23:54:45.294144Z",
          "shell.execute_reply": "2024-11-12T23:54:45.785703Z"
        }
      },
      "outputs": [],
      "execution_count": null
    },
    {
      "cell_type": "code",
      "source": [
        "# Apply preprocessing function to training and test datasets\n",
        "df_train = preprocess_newsgroup_data(newsgroups_train)\n",
        "df_test = preprocess_newsgroup_data(newsgroups_test)\n",
        "\n",
        "df_train.head()"
      ],
      "metadata": {
        "id": "JMKddQdNnAOV",
        "trusted": true,
        "execution": {
          "iopub.status.busy": "2024-11-12T23:55:00.941627Z",
          "iopub.execute_input": "2024-11-12T23:55:00.942318Z",
          "iopub.status.idle": "2024-11-12T23:55:08.199005Z",
          "shell.execute_reply.started": "2024-11-12T23:55:00.942269Z",
          "shell.execute_reply": "2024-11-12T23:55:08.197571Z"
        },
        "outputId": "5c2e450c-5f19-41cb-efad-f99d71c5c059"
      },
      "outputs": [
        {
          "execution_count": 9,
          "output_type": "execute_result",
          "data": {
            "text/plain": "                                                Text  Label  \\\n0  WHAT car is this!?\\n\\n I was wondering if anyo...      7   \n1  SI Clock Poll - Final Call\\n\\nA fair number of...      4   \n2  PB questions...\\n\\nwell folks, my mac plus fin...      4   \n3  Re: Weitek P9000 ?\\n\\nRobert J.C. Kyanko () wr...      1   \n4  Re: Shuttle Launch Question\\n\\nFrom article <>...     14   \n\n              Class Name  \n0              rec.autos  \n1  comp.sys.mac.hardware  \n2  comp.sys.mac.hardware  \n3          comp.graphics  \n4              sci.space  ",
            "text/html": "<div>\n<style scoped>\n    .dataframe tbody tr th:only-of-type {\n        vertical-align: middle;\n    }\n\n    .dataframe tbody tr th {\n        vertical-align: top;\n    }\n\n    .dataframe thead th {\n        text-align: right;\n    }\n</style>\n<table border=\"1\" class=\"dataframe\">\n  <thead>\n    <tr style=\"text-align: right;\">\n      <th></th>\n      <th>Text</th>\n      <th>Label</th>\n      <th>Class Name</th>\n    </tr>\n  </thead>\n  <tbody>\n    <tr>\n      <th>0</th>\n      <td>WHAT car is this!?\\n\\n I was wondering if anyo...</td>\n      <td>7</td>\n      <td>rec.autos</td>\n    </tr>\n    <tr>\n      <th>1</th>\n      <td>SI Clock Poll - Final Call\\n\\nA fair number of...</td>\n      <td>4</td>\n      <td>comp.sys.mac.hardware</td>\n    </tr>\n    <tr>\n      <th>2</th>\n      <td>PB questions...\\n\\nwell folks, my mac plus fin...</td>\n      <td>4</td>\n      <td>comp.sys.mac.hardware</td>\n    </tr>\n    <tr>\n      <th>3</th>\n      <td>Re: Weitek P9000 ?\\n\\nRobert J.C. Kyanko () wr...</td>\n      <td>1</td>\n      <td>comp.graphics</td>\n    </tr>\n    <tr>\n      <th>4</th>\n      <td>Re: Shuttle Launch Question\\n\\nFrom article &lt;&gt;...</td>\n      <td>14</td>\n      <td>sci.space</td>\n    </tr>\n  </tbody>\n</table>\n</div>"
          },
          "metadata": {}
        }
      ],
      "execution_count": null
    },
    {
      "cell_type": "markdown",
      "source": [
        "Next, you will sample some of the data by taking 100 data points in the training dataset, and dropping a few of the categories to run through this tutorial. Choose the science categories to compare."
      ],
      "metadata": {
        "id": "ogEGbg5XDv-T"
      }
    },
    {
      "cell_type": "code",
      "source": [
        "def sample_data(df, num_samples, classes_to_keep):\n",
        "    # Sample rows, selecting num_samples of each Label.\n",
        "    df = (\n",
        "        df.groupby(\"Label\")[df.columns]\n",
        "        .apply(lambda x: x.sample(num_samples))\n",
        "        .reset_index(drop=True)\n",
        "    )\n",
        "\n",
        "    df = df[df[\"Class Name\"].str.contains(classes_to_keep)]\n",
        "\n",
        "    # We have fewer categories now, so re-calibrate the label encoding.\n",
        "    df[\"Class Name\"] = df[\"Class Name\"].astype(\"category\")\n",
        "    df[\"Encoded Label\"] = df[\"Class Name\"].cat.codes\n",
        "\n",
        "    return df"
      ],
      "metadata": {
        "id": "C2N7xXhJohLR",
        "trusted": true,
        "execution": {
          "iopub.status.busy": "2024-11-12T23:55:17.275043Z",
          "iopub.execute_input": "2024-11-12T23:55:17.275536Z",
          "iopub.status.idle": "2024-11-12T23:55:17.284138Z",
          "shell.execute_reply.started": "2024-11-12T23:55:17.27549Z",
          "shell.execute_reply": "2024-11-12T23:55:17.282757Z"
        }
      },
      "outputs": [],
      "execution_count": null
    },
    {
      "cell_type": "code",
      "source": [
        "TRAIN_NUM_SAMPLES = 100\n",
        "TEST_NUM_SAMPLES = 25\n",
        "CLASSES_TO_KEEP = \"sci\"  # Class name should contain 'sci' to keep science categories\n",
        "\n",
        "df_train = sample_data(df_train, TRAIN_NUM_SAMPLES, CLASSES_TO_KEEP)\n",
        "df_test = sample_data(df_test, TEST_NUM_SAMPLES, CLASSES_TO_KEEP)"
      ],
      "metadata": {
        "id": "jS2g_ZGupBUb",
        "trusted": true,
        "execution": {
          "iopub.status.busy": "2024-11-12T23:55:54.263973Z",
          "iopub.execute_input": "2024-11-12T23:55:54.264476Z",
          "iopub.status.idle": "2024-11-12T23:55:54.318146Z",
          "shell.execute_reply.started": "2024-11-12T23:55:54.264387Z",
          "shell.execute_reply": "2024-11-12T23:55:54.316892Z"
        }
      },
      "outputs": [],
      "execution_count": null
    },
    {
      "cell_type": "code",
      "source": [
        "df_train.value_counts(\"Class Name\")"
      ],
      "metadata": {
        "id": "j04TMPY8rV5q",
        "trusted": true,
        "execution": {
          "iopub.status.busy": "2024-11-12T23:56:03.182525Z",
          "iopub.execute_input": "2024-11-12T23:56:03.185083Z",
          "iopub.status.idle": "2024-11-12T23:56:03.19967Z",
          "shell.execute_reply.started": "2024-11-12T23:56:03.185005Z",
          "shell.execute_reply": "2024-11-12T23:56:03.198261Z"
        },
        "outputId": "e1db4d2c-0fd3-4308-c7e9-4b63a4e03a7d"
      },
      "outputs": [
        {
          "execution_count": 12,
          "output_type": "execute_result",
          "data": {
            "text/plain": "Class Name\nsci.crypt          100\nsci.electronics    100\nsci.med            100\nsci.space          100\nName: count, dtype: int64"
          },
          "metadata": {}
        }
      ],
      "execution_count": null
    },
    {
      "cell_type": "code",
      "source": [
        "df_test.value_counts(\"Class Name\")"
      ],
      "metadata": {
        "id": "qMsnfkVDsJlU",
        "trusted": true,
        "execution": {
          "iopub.status.busy": "2024-11-12T23:56:13.83783Z",
          "iopub.execute_input": "2024-11-12T23:56:13.838333Z",
          "iopub.status.idle": "2024-11-12T23:56:13.850537Z",
          "shell.execute_reply.started": "2024-11-12T23:56:13.838282Z",
          "shell.execute_reply": "2024-11-12T23:56:13.849074Z"
        },
        "outputId": "757904c4-3ca0-4d27-e1e8-052c28de6ce5"
      },
      "outputs": [
        {
          "execution_count": 13,
          "output_type": "execute_result",
          "data": {
            "text/plain": "Class Name\nsci.crypt          25\nsci.electronics    25\nsci.med            25\nsci.space          25\nName: count, dtype: int64"
          },
          "metadata": {}
        }
      ],
      "execution_count": null
    },
    {
      "cell_type": "markdown",
      "source": [
        "## Create the embeddings\n",
        "\n",
        "In this section, you will generate embeddings for each piece of text using the Gemini API embeddings endpoint. To learn more about embeddings, visit the [embeddings guide](https://ai.google.dev/docs/embeddings_guide).\n",
        "\n",
        "**NOTE**: Embeddings are computed one at a time, so large sample sizes can take a long time!"
      ],
      "metadata": {
        "id": "Kr-WlKzXjYWn"
      }
    },
    {
      "cell_type": "markdown",
      "source": [
        "### Task types\n",
        "\n",
        "The `text-embedding-004` model supports a task type parameter that generates embeddings tailored for the specific task.\n",
        "\n",
        "Task Type | Description\n",
        "---       | ---\n",
        "RETRIEVAL_QUERY\t| Specifies the given text is a query in a search/retrieval setting.\n",
        "RETRIEVAL_DOCUMENT | Specifies the given text is a document in a search/retrieval setting.\n",
        "SEMANTIC_SIMILARITY\t| Specifies the given text will be used for Semantic Textual Similarity (STS).\n",
        "CLASSIFICATION\t| Specifies that the embeddings will be used for classification.\n",
        "CLUSTERING\t| Specifies that the embeddings will be used for clustering.\n",
        "FACT_VERIFICATION | Specifies that the given text will be used for fact verification.\n",
        "\n",
        "For this example you will be performing classification."
      ],
      "metadata": {
        "id": "yPECMeE2xYA_"
      }
    },
    {
      "cell_type": "code",
      "source": [
        "from tqdm.auto import tqdm\n",
        "\n",
        "tqdm.pandas()\n",
        "\n",
        "from google.api_core import retry\n",
        "\n",
        "\n",
        "@retry.Retry(timeout=300.0)\n",
        "def embed_fn(text: str) -> list[float]:\n",
        "    # You will be performing classification, so set task_type accordingly.\n",
        "    response = genai.embed_content(\n",
        "        model=\"models/text-embedding-004\", content=text, task_type=\"classification\"\n",
        "    )\n",
        "\n",
        "    return response[\"embedding\"]\n",
        "\n",
        "\n",
        "def create_embeddings(df):\n",
        "    df[\"Embeddings\"] = df[\"Text\"].progress_apply(embed_fn)\n",
        "    return df"
      ],
      "metadata": {
        "id": "MTBGKkPQsotz",
        "trusted": true,
        "execution": {
          "iopub.status.busy": "2024-11-12T23:56:26.178801Z",
          "iopub.execute_input": "2024-11-12T23:56:26.179426Z",
          "iopub.status.idle": "2024-11-12T23:56:26.188555Z",
          "shell.execute_reply.started": "2024-11-12T23:56:26.179356Z",
          "shell.execute_reply": "2024-11-12T23:56:26.18707Z"
        }
      },
      "outputs": [],
      "execution_count": null
    },
    {
      "cell_type": "markdown",
      "source": [
        "This code is optimised for clarity, and is not particularly fast. It is left as an exercise for the reader to implement [batch](https://ai.google.dev/api/embeddings#method:-models.batchembedcontents) or parallel/asynchronous embedding generation. Running this step will take some time."
      ],
      "metadata": {
        "id": "HVDwY8F2kW2O"
      }
    },
    {
      "cell_type": "code",
      "source": [
        "df_train = create_embeddings(df_train)\n",
        "df_test = create_embeddings(df_test)"
      ],
      "metadata": {
        "id": "AH0yrHUHtHtw",
        "trusted": true,
        "execution": {
          "iopub.status.busy": "2024-11-12T23:56:32.953363Z",
          "iopub.execute_input": "2024-11-12T23:56:32.953822Z",
          "iopub.status.idle": "2024-11-12T23:59:13.77018Z",
          "shell.execute_reply.started": "2024-11-12T23:56:32.95378Z",
          "shell.execute_reply": "2024-11-12T23:59:13.768804Z"
        },
        "outputId": "1031df83-1958-4ab5-8f63-a2ccd05dd2ea",
        "colab": {
          "referenced_widgets": [
            "4a477ae377e84db8a2274489dcb5bcfb",
            "7304833ed4b549dcbd29ac053133257b"
          ]
        }
      },
      "outputs": [
        {
          "output_type": "display_data",
          "data": {
            "text/plain": "  0%|          | 0/400 [00:00<?, ?it/s]",
            "application/vnd.jupyter.widget-view+json": {
              "version_major": 2,
              "version_minor": 0,
              "model_id": "4a477ae377e84db8a2274489dcb5bcfb"
            }
          },
          "metadata": {}
        },
        {
          "output_type": "display_data",
          "data": {
            "text/plain": "  0%|          | 0/100 [00:00<?, ?it/s]",
            "application/vnd.jupyter.widget-view+json": {
              "version_major": 2,
              "version_minor": 0,
              "model_id": "7304833ed4b549dcbd29ac053133257b"
            }
          },
          "metadata": {}
        }
      ],
      "execution_count": null
    },
    {
      "cell_type": "code",
      "source": [
        "df_train.head()"
      ],
      "metadata": {
        "id": "6G5TvLlmRjHc",
        "trusted": true,
        "execution": {
          "iopub.status.busy": "2024-11-08T20:15:13.044434Z",
          "iopub.execute_input": "2024-11-08T20:15:13.044785Z",
          "iopub.status.idle": "2024-11-08T20:15:13.064043Z",
          "shell.execute_reply.started": "2024-11-08T20:15:13.04475Z",
          "shell.execute_reply": "2024-11-08T20:15:13.062556Z"
        }
      },
      "outputs": [],
      "execution_count": null
    },
    {
      "cell_type": "markdown",
      "source": [
        "## Build a simple classification model\n",
        "\n",
        "Here you will define a simple model that accepts the raw embedding data as input, has one hidden layer, and an output layer specifying the class probabilities. The prediction will correspond to the probability of a piece of text being a particular class of news.\n",
        "\n",
        "When you run the model, Keras will take care of details like shuffling the data points, calculating metrics and other ML boilerplate."
      ],
      "metadata": {
        "id": "QPYEYkIsWt_5"
      }
    },
    {
      "cell_type": "code",
      "source": [
        "import keras\n",
        "from keras import layers\n",
        "\n",
        "\n",
        "def build_classification_model(input_size: int, num_classes: int) -> keras.Model:\n",
        "    return keras.Sequential(\n",
        "        [\n",
        "            layers.Input([input_size], name=\"embedding_inputs\"),\n",
        "            layers.Dense(input_size, activation=\"relu\", name=\"hidden\"),\n",
        "            layers.Dense(num_classes, activation=\"softmax\", name=\"output_probs\"),\n",
        "        ]\n",
        "    )"
      ],
      "metadata": {
        "id": "3oLGi4w5JsQR",
        "trusted": true,
        "execution": {
          "iopub.status.busy": "2024-11-08T20:15:13.065514Z",
          "iopub.execute_input": "2024-11-08T20:15:13.065896Z",
          "iopub.status.idle": "2024-11-08T20:15:24.975921Z",
          "shell.execute_reply.started": "2024-11-08T20:15:13.065846Z",
          "shell.execute_reply": "2024-11-08T20:15:24.974464Z"
        }
      },
      "outputs": [],
      "execution_count": null
    },
    {
      "cell_type": "code",
      "source": [
        "# Derive the embedding size from observing the data. The embedding size can also be specified\n",
        "# with the `output_dimensionality` parameter to `embed_content` if you need to reduce it.\n",
        "embedding_size = len(df_train[\"Embeddings\"].iloc[0])\n",
        "\n",
        "classifier = build_classification_model(\n",
        "    embedding_size, len(df_train[\"Class Name\"].unique())\n",
        ")\n",
        "classifier.summary()\n",
        "\n",
        "classifier.compile(\n",
        "    loss=keras.losses.SparseCategoricalCrossentropy(),\n",
        "    optimizer=keras.optimizers.Adam(learning_rate=0.001),\n",
        "    metrics=[\"accuracy\"],\n",
        ")"
      ],
      "metadata": {
        "id": "kORA1Akl5GsG",
        "trusted": true,
        "execution": {
          "iopub.status.busy": "2024-11-08T20:15:24.977332Z",
          "iopub.execute_input": "2024-11-08T20:15:24.977976Z",
          "iopub.status.idle": "2024-11-08T20:15:25.090627Z",
          "shell.execute_reply.started": "2024-11-08T20:15:24.977934Z",
          "shell.execute_reply": "2024-11-08T20:15:25.089493Z"
        }
      },
      "outputs": [],
      "execution_count": null
    },
    {
      "cell_type": "markdown",
      "source": [
        "## Train the model\n",
        "\n",
        "Finally, you can train your model. This code uses early stopping to exit the training loop once the loss value stabilises, so the number of epoch loops executed may differ from the specified value."
      ],
      "metadata": {
        "id": "kbpTGGiMXDxl"
      }
    },
    {
      "cell_type": "code",
      "source": [
        "import numpy as np\n",
        "\n",
        "\n",
        "NUM_EPOCHS = 20\n",
        "BATCH_SIZE = 32\n",
        "\n",
        "# Split the x and y components of the train and validation subsets.\n",
        "y_train = df_train[\"Encoded Label\"]\n",
        "x_train = np.stack(df_train[\"Embeddings\"])\n",
        "y_val = df_test[\"Encoded Label\"]\n",
        "x_val = np.stack(df_test[\"Embeddings\"])\n",
        "\n",
        "# Specify that it's OK to stop early if accuracy stabilises.\n",
        "early_stop = keras.callbacks.EarlyStopping(monitor=\"accuracy\", patience=3)\n",
        "\n",
        "# Train the model for the desired number of epochs.\n",
        "history = classifier.fit(\n",
        "    x=x_train,\n",
        "    y=y_train,\n",
        "    validation_data=(x_val, y_val),\n",
        "    callbacks=[early_stop],\n",
        "    batch_size=BATCH_SIZE,\n",
        "    epochs=NUM_EPOCHS,\n",
        ")"
      ],
      "metadata": {
        "id": "bGgvMZGfJ1A4",
        "trusted": true,
        "execution": {
          "iopub.status.busy": "2024-11-08T20:15:25.092009Z",
          "iopub.execute_input": "2024-11-08T20:15:25.092379Z",
          "iopub.status.idle": "2024-11-08T20:15:28.950529Z",
          "shell.execute_reply.started": "2024-11-08T20:15:25.092341Z",
          "shell.execute_reply": "2024-11-08T20:15:28.94935Z"
        }
      },
      "outputs": [],
      "execution_count": null
    },
    {
      "cell_type": "markdown",
      "source": [
        "## Evaluate model performance\n",
        "\n",
        "Use Keras <a href=\"https://www.tensorflow.org/api_docs/python/tf/keras/Model#evaluate\"><code>Model.evaluate</code></a> to calculate the loss and accuracy on the test dataset."
      ],
      "metadata": {
        "id": "xGBaDHZUPdJO"
      }
    },
    {
      "cell_type": "code",
      "source": [
        "classifier.evaluate(x=x_val, y=y_val, return_dict=True)"
      ],
      "metadata": {
        "id": "d2kOeiqqQIB8",
        "trusted": true,
        "execution": {
          "iopub.status.busy": "2024-11-08T20:15:28.952087Z",
          "iopub.execute_input": "2024-11-08T20:15:28.952466Z",
          "iopub.status.idle": "2024-11-08T20:15:29.046936Z",
          "shell.execute_reply.started": "2024-11-08T20:15:28.952429Z",
          "shell.execute_reply": "2024-11-08T20:15:29.045876Z"
        }
      },
      "outputs": [],
      "execution_count": null
    },
    {
      "cell_type": "markdown",
      "source": [
        "To learn more about training models with Keras, including how to visualise the model training metrics, read [Training & evaluation with built-in methods](https://www.tensorflow.org/guide/keras/training_with_built_in_methods)."
      ],
      "metadata": {
        "id": "UyxMhiLYQXAN"
      }
    },
    {
      "cell_type": "markdown",
      "source": [
        "## Try a custom prediction\n",
        "\n",
        "Now that you have a trained model with good evaluation metrics, you can try to make a prediction with new, hand-written data. Use the provided example or try your own data to see how the model performs."
      ],
      "metadata": {
        "id": "XHyP-_torwsm"
      }
    },
    {
      "cell_type": "code",
      "source": [
        "# This example avoids any space-specific terminology to see if the model avoids\n",
        "# biases towards specific jargon.\n",
        "new_text = \"\"\"\n",
        "First-timer looking to get out of here.\n",
        "\n",
        "Hi, I'm writing about my interest in travelling to the outer limits!\n",
        "\n",
        "What kind of craft can I buy? What is easiest to access from this 3rd rock?\n",
        "\n",
        "Let me know how to do that please.\n",
        "\"\"\"\n",
        "embedded = embed_fn(new_text)"
      ],
      "metadata": {
        "id": "Lj4gR0Mdr2rb",
        "trusted": true,
        "execution": {
          "iopub.status.busy": "2024-11-08T20:15:29.048171Z",
          "iopub.execute_input": "2024-11-08T20:15:29.048527Z",
          "iopub.status.idle": "2024-11-08T20:15:29.327605Z",
          "shell.execute_reply.started": "2024-11-08T20:15:29.048492Z",
          "shell.execute_reply": "2024-11-08T20:15:29.326451Z"
        }
      },
      "outputs": [],
      "execution_count": null
    },
    {
      "cell_type": "code",
      "source": [
        "# Remember that the model takes embeddings as input, and the input must be batched,\n",
        "# so here they are passed as a list to provide a batch of 1.\n",
        "inp = np.array([embedded])\n",
        "[result] = classifier.predict(inp)\n",
        "\n",
        "for idx, category in enumerate(df_test[\"Class Name\"].cat.categories):\n",
        "    print(f\"{category}: {result[idx] * 100:0.2f}%\")"
      ],
      "metadata": {
        "id": "CKTHEMrRsbcu",
        "trusted": true,
        "execution": {
          "iopub.status.busy": "2024-11-08T20:15:29.329248Z",
          "iopub.execute_input": "2024-11-08T20:15:29.330344Z",
          "iopub.status.idle": "2024-11-08T20:15:29.441549Z",
          "shell.execute_reply.started": "2024-11-08T20:15:29.33029Z",
          "shell.execute_reply": "2024-11-08T20:15:29.440149Z"
        }
      },
      "outputs": [],
      "execution_count": null
    }
  ]
}