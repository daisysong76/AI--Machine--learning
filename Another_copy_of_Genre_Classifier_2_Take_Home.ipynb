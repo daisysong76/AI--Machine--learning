{
  "nbformat": 4,
  "nbformat_minor": 0,
  "metadata": {
    "colab": {
      "provenance": [],
      "collapsed_sections": [
        "aDja7UV2009y"
      ],
      "gpuType": "T4",
      "include_colab_link": true
    },
    "kernelspec": {
      "name": "python3",
      "display_name": "Python 3"
    },
    "language_info": {
      "name": "python"
    },
    "widgets": {
      "application/vnd.jupyter.widget-state+json": {
        "cecea94141f74d25bcf332d5588f1f65": {
          "model_module": "@jupyter-widgets/controls",
          "model_name": "HBoxModel",
          "model_module_version": "1.5.0",
          "state": {
            "_dom_classes": [],
            "_model_module": "@jupyter-widgets/controls",
            "_model_module_version": "1.5.0",
            "_model_name": "HBoxModel",
            "_view_count": null,
            "_view_module": "@jupyter-widgets/controls",
            "_view_module_version": "1.5.0",
            "_view_name": "HBoxView",
            "box_style": "",
            "children": [
              "IPY_MODEL_7e7fa1c2ae34475284b1a8c6b6be2e64",
              "IPY_MODEL_e552c70e29f74793932791ac60d22fa5",
              "IPY_MODEL_d6ba6145b5c9440f90623a80e00e8dfe"
            ],
            "layout": "IPY_MODEL_b0518128036e4933a4641674db748d6b"
          }
        },
        "7e7fa1c2ae34475284b1a8c6b6be2e64": {
          "model_module": "@jupyter-widgets/controls",
          "model_name": "HTMLModel",
          "model_module_version": "1.5.0",
          "state": {
            "_dom_classes": [],
            "_model_module": "@jupyter-widgets/controls",
            "_model_module_version": "1.5.0",
            "_model_name": "HTMLModel",
            "_view_count": null,
            "_view_module": "@jupyter-widgets/controls",
            "_view_module_version": "1.5.0",
            "_view_name": "HTMLView",
            "description": "",
            "description_tooltip": null,
            "layout": "IPY_MODEL_8fc6cad3ebe649c49d4a28be8dc8f740",
            "placeholder": "​",
            "style": "IPY_MODEL_22d49bc6f4b842128458cf1c45b85584",
            "value": "config.json: 100%"
          }
        },
        "e552c70e29f74793932791ac60d22fa5": {
          "model_module": "@jupyter-widgets/controls",
          "model_name": "FloatProgressModel",
          "model_module_version": "1.5.0",
          "state": {
            "_dom_classes": [],
            "_model_module": "@jupyter-widgets/controls",
            "_model_module_version": "1.5.0",
            "_model_name": "FloatProgressModel",
            "_view_count": null,
            "_view_module": "@jupyter-widgets/controls",
            "_view_module_version": "1.5.0",
            "_view_name": "ProgressView",
            "bar_style": "success",
            "description": "",
            "description_tooltip": null,
            "layout": "IPY_MODEL_5db078a9281944b0858dda48ab32c30a",
            "max": 4186,
            "min": 0,
            "orientation": "horizontal",
            "style": "IPY_MODEL_2f77a901166845a2b208847c584b5c6a",
            "value": 4186
          }
        },
        "d6ba6145b5c9440f90623a80e00e8dfe": {
          "model_module": "@jupyter-widgets/controls",
          "model_name": "HTMLModel",
          "model_module_version": "1.5.0",
          "state": {
            "_dom_classes": [],
            "_model_module": "@jupyter-widgets/controls",
            "_model_module_version": "1.5.0",
            "_model_name": "HTMLModel",
            "_view_count": null,
            "_view_module": "@jupyter-widgets/controls",
            "_view_module_version": "1.5.0",
            "_view_name": "HTMLView",
            "description": "",
            "description_tooltip": null,
            "layout": "IPY_MODEL_14a43c4fc9e44a2bb363b425116e70d3",
            "placeholder": "​",
            "style": "IPY_MODEL_a119020d6b3d461cab1aeb3f5eddd14d",
            "value": " 4.19k/4.19k [00:00&lt;00:00, 300kB/s]"
          }
        },
        "b0518128036e4933a4641674db748d6b": {
          "model_module": "@jupyter-widgets/base",
          "model_name": "LayoutModel",
          "model_module_version": "1.2.0",
          "state": {
            "_model_module": "@jupyter-widgets/base",
            "_model_module_version": "1.2.0",
            "_model_name": "LayoutModel",
            "_view_count": null,
            "_view_module": "@jupyter-widgets/base",
            "_view_module_version": "1.2.0",
            "_view_name": "LayoutView",
            "align_content": null,
            "align_items": null,
            "align_self": null,
            "border": null,
            "bottom": null,
            "display": null,
            "flex": null,
            "flex_flow": null,
            "grid_area": null,
            "grid_auto_columns": null,
            "grid_auto_flow": null,
            "grid_auto_rows": null,
            "grid_column": null,
            "grid_gap": null,
            "grid_row": null,
            "grid_template_areas": null,
            "grid_template_columns": null,
            "grid_template_rows": null,
            "height": null,
            "justify_content": null,
            "justify_items": null,
            "left": null,
            "margin": null,
            "max_height": null,
            "max_width": null,
            "min_height": null,
            "min_width": null,
            "object_fit": null,
            "object_position": null,
            "order": null,
            "overflow": null,
            "overflow_x": null,
            "overflow_y": null,
            "padding": null,
            "right": null,
            "top": null,
            "visibility": null,
            "width": null
          }
        },
        "8fc6cad3ebe649c49d4a28be8dc8f740": {
          "model_module": "@jupyter-widgets/base",
          "model_name": "LayoutModel",
          "model_module_version": "1.2.0",
          "state": {
            "_model_module": "@jupyter-widgets/base",
            "_model_module_version": "1.2.0",
            "_model_name": "LayoutModel",
            "_view_count": null,
            "_view_module": "@jupyter-widgets/base",
            "_view_module_version": "1.2.0",
            "_view_name": "LayoutView",
            "align_content": null,
            "align_items": null,
            "align_self": null,
            "border": null,
            "bottom": null,
            "display": null,
            "flex": null,
            "flex_flow": null,
            "grid_area": null,
            "grid_auto_columns": null,
            "grid_auto_flow": null,
            "grid_auto_rows": null,
            "grid_column": null,
            "grid_gap": null,
            "grid_row": null,
            "grid_template_areas": null,
            "grid_template_columns": null,
            "grid_template_rows": null,
            "height": null,
            "justify_content": null,
            "justify_items": null,
            "left": null,
            "margin": null,
            "max_height": null,
            "max_width": null,
            "min_height": null,
            "min_width": null,
            "object_fit": null,
            "object_position": null,
            "order": null,
            "overflow": null,
            "overflow_x": null,
            "overflow_y": null,
            "padding": null,
            "right": null,
            "top": null,
            "visibility": null,
            "width": null
          }
        },
        "22d49bc6f4b842128458cf1c45b85584": {
          "model_module": "@jupyter-widgets/controls",
          "model_name": "DescriptionStyleModel",
          "model_module_version": "1.5.0",
          "state": {
            "_model_module": "@jupyter-widgets/controls",
            "_model_module_version": "1.5.0",
            "_model_name": "DescriptionStyleModel",
            "_view_count": null,
            "_view_module": "@jupyter-widgets/base",
            "_view_module_version": "1.2.0",
            "_view_name": "StyleView",
            "description_width": ""
          }
        },
        "5db078a9281944b0858dda48ab32c30a": {
          "model_module": "@jupyter-widgets/base",
          "model_name": "LayoutModel",
          "model_module_version": "1.2.0",
          "state": {
            "_model_module": "@jupyter-widgets/base",
            "_model_module_version": "1.2.0",
            "_model_name": "LayoutModel",
            "_view_count": null,
            "_view_module": "@jupyter-widgets/base",
            "_view_module_version": "1.2.0",
            "_view_name": "LayoutView",
            "align_content": null,
            "align_items": null,
            "align_self": null,
            "border": null,
            "bottom": null,
            "display": null,
            "flex": null,
            "flex_flow": null,
            "grid_area": null,
            "grid_auto_columns": null,
            "grid_auto_flow": null,
            "grid_auto_rows": null,
            "grid_column": null,
            "grid_gap": null,
            "grid_row": null,
            "grid_template_areas": null,
            "grid_template_columns": null,
            "grid_template_rows": null,
            "height": null,
            "justify_content": null,
            "justify_items": null,
            "left": null,
            "margin": null,
            "max_height": null,
            "max_width": null,
            "min_height": null,
            "min_width": null,
            "object_fit": null,
            "object_position": null,
            "order": null,
            "overflow": null,
            "overflow_x": null,
            "overflow_y": null,
            "padding": null,
            "right": null,
            "top": null,
            "visibility": null,
            "width": null
          }
        },
        "2f77a901166845a2b208847c584b5c6a": {
          "model_module": "@jupyter-widgets/controls",
          "model_name": "ProgressStyleModel",
          "model_module_version": "1.5.0",
          "state": {
            "_model_module": "@jupyter-widgets/controls",
            "_model_module_version": "1.5.0",
            "_model_name": "ProgressStyleModel",
            "_view_count": null,
            "_view_module": "@jupyter-widgets/base",
            "_view_module_version": "1.2.0",
            "_view_name": "StyleView",
            "bar_color": null,
            "description_width": ""
          }
        },
        "14a43c4fc9e44a2bb363b425116e70d3": {
          "model_module": "@jupyter-widgets/base",
          "model_name": "LayoutModel",
          "model_module_version": "1.2.0",
          "state": {
            "_model_module": "@jupyter-widgets/base",
            "_model_module_version": "1.2.0",
            "_model_name": "LayoutModel",
            "_view_count": null,
            "_view_module": "@jupyter-widgets/base",
            "_view_module_version": "1.2.0",
            "_view_name": "LayoutView",
            "align_content": null,
            "align_items": null,
            "align_self": null,
            "border": null,
            "bottom": null,
            "display": null,
            "flex": null,
            "flex_flow": null,
            "grid_area": null,
            "grid_auto_columns": null,
            "grid_auto_flow": null,
            "grid_auto_rows": null,
            "grid_column": null,
            "grid_gap": null,
            "grid_row": null,
            "grid_template_areas": null,
            "grid_template_columns": null,
            "grid_template_rows": null,
            "height": null,
            "justify_content": null,
            "justify_items": null,
            "left": null,
            "margin": null,
            "max_height": null,
            "max_width": null,
            "min_height": null,
            "min_width": null,
            "object_fit": null,
            "object_position": null,
            "order": null,
            "overflow": null,
            "overflow_x": null,
            "overflow_y": null,
            "padding": null,
            "right": null,
            "top": null,
            "visibility": null,
            "width": null
          }
        },
        "a119020d6b3d461cab1aeb3f5eddd14d": {
          "model_module": "@jupyter-widgets/controls",
          "model_name": "DescriptionStyleModel",
          "model_module_version": "1.5.0",
          "state": {
            "_model_module": "@jupyter-widgets/controls",
            "_model_module_version": "1.5.0",
            "_model_name": "DescriptionStyleModel",
            "_view_count": null,
            "_view_module": "@jupyter-widgets/base",
            "_view_module_version": "1.2.0",
            "_view_name": "StyleView",
            "description_width": ""
          }
        },
        "9151c81d2a244d2c8b355e943a380e3c": {
          "model_module": "@jupyter-widgets/controls",
          "model_name": "HBoxModel",
          "model_module_version": "1.5.0",
          "state": {
            "_dom_classes": [],
            "_model_module": "@jupyter-widgets/controls",
            "_model_module_version": "1.5.0",
            "_model_name": "HBoxModel",
            "_view_count": null,
            "_view_module": "@jupyter-widgets/controls",
            "_view_module_version": "1.5.0",
            "_view_name": "HBoxView",
            "box_style": "",
            "children": [
              "IPY_MODEL_17559e0f4a1c49cfa7cc7bd8c9d4c3c5",
              "IPY_MODEL_5e3e1152cd9b4f21acfa9bca1290b5ab",
              "IPY_MODEL_d0094137417941279dcbb2d0cf7cb15d"
            ],
            "layout": "IPY_MODEL_a72d31d1d4014bc08f2999f8ace9cf42"
          }
        },
        "17559e0f4a1c49cfa7cc7bd8c9d4c3c5": {
          "model_module": "@jupyter-widgets/controls",
          "model_name": "HTMLModel",
          "model_module_version": "1.5.0",
          "state": {
            "_dom_classes": [],
            "_model_module": "@jupyter-widgets/controls",
            "_model_module_version": "1.5.0",
            "_model_name": "HTMLModel",
            "_view_count": null,
            "_view_module": "@jupyter-widgets/controls",
            "_view_module_version": "1.5.0",
            "_view_name": "HTMLView",
            "description": "",
            "description_tooltip": null,
            "layout": "IPY_MODEL_cb90beae50e7492881d4a5469bdc1382",
            "placeholder": "​",
            "style": "IPY_MODEL_f647aca828c44ce9a785ced65eb3f8b7",
            "value": "pytorch_model.bin: 100%"
          }
        },
        "5e3e1152cd9b4f21acfa9bca1290b5ab": {
          "model_module": "@jupyter-widgets/controls",
          "model_name": "FloatProgressModel",
          "model_module_version": "1.5.0",
          "state": {
            "_dom_classes": [],
            "_model_module": "@jupyter-widgets/controls",
            "_model_module_version": "1.5.0",
            "_model_name": "FloatProgressModel",
            "_view_count": null,
            "_view_module": "@jupyter-widgets/controls",
            "_view_module_version": "1.5.0",
            "_view_name": "ProgressView",
            "bar_style": "success",
            "description": "",
            "description_tooltip": null,
            "layout": "IPY_MODEL_ce3f422a7d07465f9e87687a9660c6af",
            "max": 605247071,
            "min": 0,
            "orientation": "horizontal",
            "style": "IPY_MODEL_b095a792601e4ab68087a2ccc0370fd7",
            "value": 605247071
          }
        },
        "d0094137417941279dcbb2d0cf7cb15d": {
          "model_module": "@jupyter-widgets/controls",
          "model_name": "HTMLModel",
          "model_module_version": "1.5.0",
          "state": {
            "_dom_classes": [],
            "_model_module": "@jupyter-widgets/controls",
            "_model_module_version": "1.5.0",
            "_model_name": "HTMLModel",
            "_view_count": null,
            "_view_module": "@jupyter-widgets/controls",
            "_view_module_version": "1.5.0",
            "_view_name": "HTMLView",
            "description": "",
            "description_tooltip": null,
            "layout": "IPY_MODEL_2c9ee69e23a848559fa985e408689f4b",
            "placeholder": "​",
            "style": "IPY_MODEL_8850e1662c5f43cc8107d409e32ce83b",
            "value": " 605M/605M [00:07&lt;00:00, 60.4MB/s]"
          }
        },
        "a72d31d1d4014bc08f2999f8ace9cf42": {
          "model_module": "@jupyter-widgets/base",
          "model_name": "LayoutModel",
          "model_module_version": "1.2.0",
          "state": {
            "_model_module": "@jupyter-widgets/base",
            "_model_module_version": "1.2.0",
            "_model_name": "LayoutModel",
            "_view_count": null,
            "_view_module": "@jupyter-widgets/base",
            "_view_module_version": "1.2.0",
            "_view_name": "LayoutView",
            "align_content": null,
            "align_items": null,
            "align_self": null,
            "border": null,
            "bottom": null,
            "display": null,
            "flex": null,
            "flex_flow": null,
            "grid_area": null,
            "grid_auto_columns": null,
            "grid_auto_flow": null,
            "grid_auto_rows": null,
            "grid_column": null,
            "grid_gap": null,
            "grid_row": null,
            "grid_template_areas": null,
            "grid_template_columns": null,
            "grid_template_rows": null,
            "height": null,
            "justify_content": null,
            "justify_items": null,
            "left": null,
            "margin": null,
            "max_height": null,
            "max_width": null,
            "min_height": null,
            "min_width": null,
            "object_fit": null,
            "object_position": null,
            "order": null,
            "overflow": null,
            "overflow_x": null,
            "overflow_y": null,
            "padding": null,
            "right": null,
            "top": null,
            "visibility": null,
            "width": null
          }
        },
        "cb90beae50e7492881d4a5469bdc1382": {
          "model_module": "@jupyter-widgets/base",
          "model_name": "LayoutModel",
          "model_module_version": "1.2.0",
          "state": {
            "_model_module": "@jupyter-widgets/base",
            "_model_module_version": "1.2.0",
            "_model_name": "LayoutModel",
            "_view_count": null,
            "_view_module": "@jupyter-widgets/base",
            "_view_module_version": "1.2.0",
            "_view_name": "LayoutView",
            "align_content": null,
            "align_items": null,
            "align_self": null,
            "border": null,
            "bottom": null,
            "display": null,
            "flex": null,
            "flex_flow": null,
            "grid_area": null,
            "grid_auto_columns": null,
            "grid_auto_flow": null,
            "grid_auto_rows": null,
            "grid_column": null,
            "grid_gap": null,
            "grid_row": null,
            "grid_template_areas": null,
            "grid_template_columns": null,
            "grid_template_rows": null,
            "height": null,
            "justify_content": null,
            "justify_items": null,
            "left": null,
            "margin": null,
            "max_height": null,
            "max_width": null,
            "min_height": null,
            "min_width": null,
            "object_fit": null,
            "object_position": null,
            "order": null,
            "overflow": null,
            "overflow_x": null,
            "overflow_y": null,
            "padding": null,
            "right": null,
            "top": null,
            "visibility": null,
            "width": null
          }
        },
        "f647aca828c44ce9a785ced65eb3f8b7": {
          "model_module": "@jupyter-widgets/controls",
          "model_name": "DescriptionStyleModel",
          "model_module_version": "1.5.0",
          "state": {
            "_model_module": "@jupyter-widgets/controls",
            "_model_module_version": "1.5.0",
            "_model_name": "DescriptionStyleModel",
            "_view_count": null,
            "_view_module": "@jupyter-widgets/base",
            "_view_module_version": "1.2.0",
            "_view_name": "StyleView",
            "description_width": ""
          }
        },
        "ce3f422a7d07465f9e87687a9660c6af": {
          "model_module": "@jupyter-widgets/base",
          "model_name": "LayoutModel",
          "model_module_version": "1.2.0",
          "state": {
            "_model_module": "@jupyter-widgets/base",
            "_model_module_version": "1.2.0",
            "_model_name": "LayoutModel",
            "_view_count": null,
            "_view_module": "@jupyter-widgets/base",
            "_view_module_version": "1.2.0",
            "_view_name": "LayoutView",
            "align_content": null,
            "align_items": null,
            "align_self": null,
            "border": null,
            "bottom": null,
            "display": null,
            "flex": null,
            "flex_flow": null,
            "grid_area": null,
            "grid_auto_columns": null,
            "grid_auto_flow": null,
            "grid_auto_rows": null,
            "grid_column": null,
            "grid_gap": null,
            "grid_row": null,
            "grid_template_areas": null,
            "grid_template_columns": null,
            "grid_template_rows": null,
            "height": null,
            "justify_content": null,
            "justify_items": null,
            "left": null,
            "margin": null,
            "max_height": null,
            "max_width": null,
            "min_height": null,
            "min_width": null,
            "object_fit": null,
            "object_position": null,
            "order": null,
            "overflow": null,
            "overflow_x": null,
            "overflow_y": null,
            "padding": null,
            "right": null,
            "top": null,
            "visibility": null,
            "width": null
          }
        },
        "b095a792601e4ab68087a2ccc0370fd7": {
          "model_module": "@jupyter-widgets/controls",
          "model_name": "ProgressStyleModel",
          "model_module_version": "1.5.0",
          "state": {
            "_model_module": "@jupyter-widgets/controls",
            "_model_module_version": "1.5.0",
            "_model_name": "ProgressStyleModel",
            "_view_count": null,
            "_view_module": "@jupyter-widgets/base",
            "_view_module_version": "1.2.0",
            "_view_name": "StyleView",
            "bar_color": null,
            "description_width": ""
          }
        },
        "2c9ee69e23a848559fa985e408689f4b": {
          "model_module": "@jupyter-widgets/base",
          "model_name": "LayoutModel",
          "model_module_version": "1.2.0",
          "state": {
            "_model_module": "@jupyter-widgets/base",
            "_model_module_version": "1.2.0",
            "_model_name": "LayoutModel",
            "_view_count": null,
            "_view_module": "@jupyter-widgets/base",
            "_view_module_version": "1.2.0",
            "_view_name": "LayoutView",
            "align_content": null,
            "align_items": null,
            "align_self": null,
            "border": null,
            "bottom": null,
            "display": null,
            "flex": null,
            "flex_flow": null,
            "grid_area": null,
            "grid_auto_columns": null,
            "grid_auto_flow": null,
            "grid_auto_rows": null,
            "grid_column": null,
            "grid_gap": null,
            "grid_row": null,
            "grid_template_areas": null,
            "grid_template_columns": null,
            "grid_template_rows": null,
            "height": null,
            "justify_content": null,
            "justify_items": null,
            "left": null,
            "margin": null,
            "max_height": null,
            "max_width": null,
            "min_height": null,
            "min_width": null,
            "object_fit": null,
            "object_position": null,
            "order": null,
            "overflow": null,
            "overflow_x": null,
            "overflow_y": null,
            "padding": null,
            "right": null,
            "top": null,
            "visibility": null,
            "width": null
          }
        },
        "8850e1662c5f43cc8107d409e32ce83b": {
          "model_module": "@jupyter-widgets/controls",
          "model_name": "DescriptionStyleModel",
          "model_module_version": "1.5.0",
          "state": {
            "_model_module": "@jupyter-widgets/controls",
            "_model_module_version": "1.5.0",
            "_model_name": "DescriptionStyleModel",
            "_view_count": null,
            "_view_module": "@jupyter-widgets/base",
            "_view_module_version": "1.2.0",
            "_view_name": "StyleView",
            "description_width": ""
          }
        },
        "de3616da73b04ca9b948bff55b27194d": {
          "model_module": "@jupyter-widgets/controls",
          "model_name": "HBoxModel",
          "model_module_version": "1.5.0",
          "state": {
            "_dom_classes": [],
            "_model_module": "@jupyter-widgets/controls",
            "_model_module_version": "1.5.0",
            "_model_name": "HBoxModel",
            "_view_count": null,
            "_view_module": "@jupyter-widgets/controls",
            "_view_module_version": "1.5.0",
            "_view_name": "HBoxView",
            "box_style": "",
            "children": [
              "IPY_MODEL_dd371758a5024af5a584a45f5a334da6",
              "IPY_MODEL_06c43416da24409787144c29a951aaea",
              "IPY_MODEL_0e3f4f1e8d8242329f18b5f5cc732d28"
            ],
            "layout": "IPY_MODEL_059ab9cbc82c48d2af12b2a657f9d5a2"
          }
        },
        "dd371758a5024af5a584a45f5a334da6": {
          "model_module": "@jupyter-widgets/controls",
          "model_name": "HTMLModel",
          "model_module_version": "1.5.0",
          "state": {
            "_dom_classes": [],
            "_model_module": "@jupyter-widgets/controls",
            "_model_module_version": "1.5.0",
            "_model_name": "HTMLModel",
            "_view_count": null,
            "_view_module": "@jupyter-widgets/controls",
            "_view_module_version": "1.5.0",
            "_view_name": "HTMLView",
            "description": "",
            "description_tooltip": null,
            "layout": "IPY_MODEL_626376feb170477e83811792115edc2e",
            "placeholder": "​",
            "style": "IPY_MODEL_3a4a80b5b4e644a5b45fcd5a623e7980",
            "value": "tokenizer_config.json: 100%"
          }
        },
        "06c43416da24409787144c29a951aaea": {
          "model_module": "@jupyter-widgets/controls",
          "model_name": "FloatProgressModel",
          "model_module_version": "1.5.0",
          "state": {
            "_dom_classes": [],
            "_model_module": "@jupyter-widgets/controls",
            "_model_module_version": "1.5.0",
            "_model_name": "FloatProgressModel",
            "_view_count": null,
            "_view_module": "@jupyter-widgets/controls",
            "_view_module_version": "1.5.0",
            "_view_name": "ProgressView",
            "bar_style": "success",
            "description": "",
            "description_tooltip": null,
            "layout": "IPY_MODEL_512c2dedee524e4abc80672a15d1d3de",
            "max": 592,
            "min": 0,
            "orientation": "horizontal",
            "style": "IPY_MODEL_5dc54f00c3ae41a5b83a573b5ab19583",
            "value": 592
          }
        },
        "0e3f4f1e8d8242329f18b5f5cc732d28": {
          "model_module": "@jupyter-widgets/controls",
          "model_name": "HTMLModel",
          "model_module_version": "1.5.0",
          "state": {
            "_dom_classes": [],
            "_model_module": "@jupyter-widgets/controls",
            "_model_module_version": "1.5.0",
            "_model_name": "HTMLModel",
            "_view_count": null,
            "_view_module": "@jupyter-widgets/controls",
            "_view_module_version": "1.5.0",
            "_view_name": "HTMLView",
            "description": "",
            "description_tooltip": null,
            "layout": "IPY_MODEL_9d48e2475c15404ea2230bac1bb4e7d9",
            "placeholder": "​",
            "style": "IPY_MODEL_6f113afa9d9549d1b738d50747e23291",
            "value": " 592/592 [00:00&lt;00:00, 31.5kB/s]"
          }
        },
        "059ab9cbc82c48d2af12b2a657f9d5a2": {
          "model_module": "@jupyter-widgets/base",
          "model_name": "LayoutModel",
          "model_module_version": "1.2.0",
          "state": {
            "_model_module": "@jupyter-widgets/base",
            "_model_module_version": "1.2.0",
            "_model_name": "LayoutModel",
            "_view_count": null,
            "_view_module": "@jupyter-widgets/base",
            "_view_module_version": "1.2.0",
            "_view_name": "LayoutView",
            "align_content": null,
            "align_items": null,
            "align_self": null,
            "border": null,
            "bottom": null,
            "display": null,
            "flex": null,
            "flex_flow": null,
            "grid_area": null,
            "grid_auto_columns": null,
            "grid_auto_flow": null,
            "grid_auto_rows": null,
            "grid_column": null,
            "grid_gap": null,
            "grid_row": null,
            "grid_template_areas": null,
            "grid_template_columns": null,
            "grid_template_rows": null,
            "height": null,
            "justify_content": null,
            "justify_items": null,
            "left": null,
            "margin": null,
            "max_height": null,
            "max_width": null,
            "min_height": null,
            "min_width": null,
            "object_fit": null,
            "object_position": null,
            "order": null,
            "overflow": null,
            "overflow_x": null,
            "overflow_y": null,
            "padding": null,
            "right": null,
            "top": null,
            "visibility": null,
            "width": null
          }
        },
        "626376feb170477e83811792115edc2e": {
          "model_module": "@jupyter-widgets/base",
          "model_name": "LayoutModel",
          "model_module_version": "1.2.0",
          "state": {
            "_model_module": "@jupyter-widgets/base",
            "_model_module_version": "1.2.0",
            "_model_name": "LayoutModel",
            "_view_count": null,
            "_view_module": "@jupyter-widgets/base",
            "_view_module_version": "1.2.0",
            "_view_name": "LayoutView",
            "align_content": null,
            "align_items": null,
            "align_self": null,
            "border": null,
            "bottom": null,
            "display": null,
            "flex": null,
            "flex_flow": null,
            "grid_area": null,
            "grid_auto_columns": null,
            "grid_auto_flow": null,
            "grid_auto_rows": null,
            "grid_column": null,
            "grid_gap": null,
            "grid_row": null,
            "grid_template_areas": null,
            "grid_template_columns": null,
            "grid_template_rows": null,
            "height": null,
            "justify_content": null,
            "justify_items": null,
            "left": null,
            "margin": null,
            "max_height": null,
            "max_width": null,
            "min_height": null,
            "min_width": null,
            "object_fit": null,
            "object_position": null,
            "order": null,
            "overflow": null,
            "overflow_x": null,
            "overflow_y": null,
            "padding": null,
            "right": null,
            "top": null,
            "visibility": null,
            "width": null
          }
        },
        "3a4a80b5b4e644a5b45fcd5a623e7980": {
          "model_module": "@jupyter-widgets/controls",
          "model_name": "DescriptionStyleModel",
          "model_module_version": "1.5.0",
          "state": {
            "_model_module": "@jupyter-widgets/controls",
            "_model_module_version": "1.5.0",
            "_model_name": "DescriptionStyleModel",
            "_view_count": null,
            "_view_module": "@jupyter-widgets/base",
            "_view_module_version": "1.2.0",
            "_view_name": "StyleView",
            "description_width": ""
          }
        },
        "512c2dedee524e4abc80672a15d1d3de": {
          "model_module": "@jupyter-widgets/base",
          "model_name": "LayoutModel",
          "model_module_version": "1.2.0",
          "state": {
            "_model_module": "@jupyter-widgets/base",
            "_model_module_version": "1.2.0",
            "_model_name": "LayoutModel",
            "_view_count": null,
            "_view_module": "@jupyter-widgets/base",
            "_view_module_version": "1.2.0",
            "_view_name": "LayoutView",
            "align_content": null,
            "align_items": null,
            "align_self": null,
            "border": null,
            "bottom": null,
            "display": null,
            "flex": null,
            "flex_flow": null,
            "grid_area": null,
            "grid_auto_columns": null,
            "grid_auto_flow": null,
            "grid_auto_rows": null,
            "grid_column": null,
            "grid_gap": null,
            "grid_row": null,
            "grid_template_areas": null,
            "grid_template_columns": null,
            "grid_template_rows": null,
            "height": null,
            "justify_content": null,
            "justify_items": null,
            "left": null,
            "margin": null,
            "max_height": null,
            "max_width": null,
            "min_height": null,
            "min_width": null,
            "object_fit": null,
            "object_position": null,
            "order": null,
            "overflow": null,
            "overflow_x": null,
            "overflow_y": null,
            "padding": null,
            "right": null,
            "top": null,
            "visibility": null,
            "width": null
          }
        },
        "5dc54f00c3ae41a5b83a573b5ab19583": {
          "model_module": "@jupyter-widgets/controls",
          "model_name": "ProgressStyleModel",
          "model_module_version": "1.5.0",
          "state": {
            "_model_module": "@jupyter-widgets/controls",
            "_model_module_version": "1.5.0",
            "_model_name": "ProgressStyleModel",
            "_view_count": null,
            "_view_module": "@jupyter-widgets/base",
            "_view_module_version": "1.2.0",
            "_view_name": "StyleView",
            "bar_color": null,
            "description_width": ""
          }
        },
        "9d48e2475c15404ea2230bac1bb4e7d9": {
          "model_module": "@jupyter-widgets/base",
          "model_name": "LayoutModel",
          "model_module_version": "1.2.0",
          "state": {
            "_model_module": "@jupyter-widgets/base",
            "_model_module_version": "1.2.0",
            "_model_name": "LayoutModel",
            "_view_count": null,
            "_view_module": "@jupyter-widgets/base",
            "_view_module_version": "1.2.0",
            "_view_name": "LayoutView",
            "align_content": null,
            "align_items": null,
            "align_self": null,
            "border": null,
            "bottom": null,
            "display": null,
            "flex": null,
            "flex_flow": null,
            "grid_area": null,
            "grid_auto_columns": null,
            "grid_auto_flow": null,
            "grid_auto_rows": null,
            "grid_column": null,
            "grid_gap": null,
            "grid_row": null,
            "grid_template_areas": null,
            "grid_template_columns": null,
            "grid_template_rows": null,
            "height": null,
            "justify_content": null,
            "justify_items": null,
            "left": null,
            "margin": null,
            "max_height": null,
            "max_width": null,
            "min_height": null,
            "min_width": null,
            "object_fit": null,
            "object_position": null,
            "order": null,
            "overflow": null,
            "overflow_x": null,
            "overflow_y": null,
            "padding": null,
            "right": null,
            "top": null,
            "visibility": null,
            "width": null
          }
        },
        "6f113afa9d9549d1b738d50747e23291": {
          "model_module": "@jupyter-widgets/controls",
          "model_name": "DescriptionStyleModel",
          "model_module_version": "1.5.0",
          "state": {
            "_model_module": "@jupyter-widgets/controls",
            "_model_module_version": "1.5.0",
            "_model_name": "DescriptionStyleModel",
            "_view_count": null,
            "_view_module": "@jupyter-widgets/base",
            "_view_module_version": "1.2.0",
            "_view_name": "StyleView",
            "description_width": ""
          }
        },
        "63a867c24e214239935570607435ff6c": {
          "model_module": "@jupyter-widgets/controls",
          "model_name": "HBoxModel",
          "model_module_version": "1.5.0",
          "state": {
            "_dom_classes": [],
            "_model_module": "@jupyter-widgets/controls",
            "_model_module_version": "1.5.0",
            "_model_name": "HBoxModel",
            "_view_count": null,
            "_view_module": "@jupyter-widgets/controls",
            "_view_module_version": "1.5.0",
            "_view_name": "HBoxView",
            "box_style": "",
            "children": [
              "IPY_MODEL_670391a422804f79a8cfd1930cdaa6cc",
              "IPY_MODEL_6f1ea2830171407592ab35c89f1a6337",
              "IPY_MODEL_566c40283166429d913ed6ab2505cc1c"
            ],
            "layout": "IPY_MODEL_583db39dfa724099b32c96d3c0c597c3"
          }
        },
        "670391a422804f79a8cfd1930cdaa6cc": {
          "model_module": "@jupyter-widgets/controls",
          "model_name": "HTMLModel",
          "model_module_version": "1.5.0",
          "state": {
            "_dom_classes": [],
            "_model_module": "@jupyter-widgets/controls",
            "_model_module_version": "1.5.0",
            "_model_name": "HTMLModel",
            "_view_count": null,
            "_view_module": "@jupyter-widgets/controls",
            "_view_module_version": "1.5.0",
            "_view_name": "HTMLView",
            "description": "",
            "description_tooltip": null,
            "layout": "IPY_MODEL_a929a37c76e645b8874849941c5bf5d0",
            "placeholder": "​",
            "style": "IPY_MODEL_f428af4cbe2d45738302bf54572ffca2",
            "value": "vocab.json: 100%"
          }
        },
        "6f1ea2830171407592ab35c89f1a6337": {
          "model_module": "@jupyter-widgets/controls",
          "model_name": "FloatProgressModel",
          "model_module_version": "1.5.0",
          "state": {
            "_dom_classes": [],
            "_model_module": "@jupyter-widgets/controls",
            "_model_module_version": "1.5.0",
            "_model_name": "FloatProgressModel",
            "_view_count": null,
            "_view_module": "@jupyter-widgets/controls",
            "_view_module_version": "1.5.0",
            "_view_name": "ProgressView",
            "bar_style": "success",
            "description": "",
            "description_tooltip": null,
            "layout": "IPY_MODEL_04afa67396e14dbc88d297c17468bc43",
            "max": 862328,
            "min": 0,
            "orientation": "horizontal",
            "style": "IPY_MODEL_142b151b65db4909a15609ccaff540e0",
            "value": 862328
          }
        },
        "566c40283166429d913ed6ab2505cc1c": {
          "model_module": "@jupyter-widgets/controls",
          "model_name": "HTMLModel",
          "model_module_version": "1.5.0",
          "state": {
            "_dom_classes": [],
            "_model_module": "@jupyter-widgets/controls",
            "_model_module_version": "1.5.0",
            "_model_name": "HTMLModel",
            "_view_count": null,
            "_view_module": "@jupyter-widgets/controls",
            "_view_module_version": "1.5.0",
            "_view_name": "HTMLView",
            "description": "",
            "description_tooltip": null,
            "layout": "IPY_MODEL_0c45b230362b49338de9d5e489adfe3d",
            "placeholder": "​",
            "style": "IPY_MODEL_82cbdc47ba664d75bb0ac3a3362615ae",
            "value": " 862k/862k [00:00&lt;00:00, 4.45MB/s]"
          }
        },
        "583db39dfa724099b32c96d3c0c597c3": {
          "model_module": "@jupyter-widgets/base",
          "model_name": "LayoutModel",
          "model_module_version": "1.2.0",
          "state": {
            "_model_module": "@jupyter-widgets/base",
            "_model_module_version": "1.2.0",
            "_model_name": "LayoutModel",
            "_view_count": null,
            "_view_module": "@jupyter-widgets/base",
            "_view_module_version": "1.2.0",
            "_view_name": "LayoutView",
            "align_content": null,
            "align_items": null,
            "align_self": null,
            "border": null,
            "bottom": null,
            "display": null,
            "flex": null,
            "flex_flow": null,
            "grid_area": null,
            "grid_auto_columns": null,
            "grid_auto_flow": null,
            "grid_auto_rows": null,
            "grid_column": null,
            "grid_gap": null,
            "grid_row": null,
            "grid_template_areas": null,
            "grid_template_columns": null,
            "grid_template_rows": null,
            "height": null,
            "justify_content": null,
            "justify_items": null,
            "left": null,
            "margin": null,
            "max_height": null,
            "max_width": null,
            "min_height": null,
            "min_width": null,
            "object_fit": null,
            "object_position": null,
            "order": null,
            "overflow": null,
            "overflow_x": null,
            "overflow_y": null,
            "padding": null,
            "right": null,
            "top": null,
            "visibility": null,
            "width": null
          }
        },
        "a929a37c76e645b8874849941c5bf5d0": {
          "model_module": "@jupyter-widgets/base",
          "model_name": "LayoutModel",
          "model_module_version": "1.2.0",
          "state": {
            "_model_module": "@jupyter-widgets/base",
            "_model_module_version": "1.2.0",
            "_model_name": "LayoutModel",
            "_view_count": null,
            "_view_module": "@jupyter-widgets/base",
            "_view_module_version": "1.2.0",
            "_view_name": "LayoutView",
            "align_content": null,
            "align_items": null,
            "align_self": null,
            "border": null,
            "bottom": null,
            "display": null,
            "flex": null,
            "flex_flow": null,
            "grid_area": null,
            "grid_auto_columns": null,
            "grid_auto_flow": null,
            "grid_auto_rows": null,
            "grid_column": null,
            "grid_gap": null,
            "grid_row": null,
            "grid_template_areas": null,
            "grid_template_columns": null,
            "grid_template_rows": null,
            "height": null,
            "justify_content": null,
            "justify_items": null,
            "left": null,
            "margin": null,
            "max_height": null,
            "max_width": null,
            "min_height": null,
            "min_width": null,
            "object_fit": null,
            "object_position": null,
            "order": null,
            "overflow": null,
            "overflow_x": null,
            "overflow_y": null,
            "padding": null,
            "right": null,
            "top": null,
            "visibility": null,
            "width": null
          }
        },
        "f428af4cbe2d45738302bf54572ffca2": {
          "model_module": "@jupyter-widgets/controls",
          "model_name": "DescriptionStyleModel",
          "model_module_version": "1.5.0",
          "state": {
            "_model_module": "@jupyter-widgets/controls",
            "_model_module_version": "1.5.0",
            "_model_name": "DescriptionStyleModel",
            "_view_count": null,
            "_view_module": "@jupyter-widgets/base",
            "_view_module_version": "1.2.0",
            "_view_name": "StyleView",
            "description_width": ""
          }
        },
        "04afa67396e14dbc88d297c17468bc43": {
          "model_module": "@jupyter-widgets/base",
          "model_name": "LayoutModel",
          "model_module_version": "1.2.0",
          "state": {
            "_model_module": "@jupyter-widgets/base",
            "_model_module_version": "1.2.0",
            "_model_name": "LayoutModel",
            "_view_count": null,
            "_view_module": "@jupyter-widgets/base",
            "_view_module_version": "1.2.0",
            "_view_name": "LayoutView",
            "align_content": null,
            "align_items": null,
            "align_self": null,
            "border": null,
            "bottom": null,
            "display": null,
            "flex": null,
            "flex_flow": null,
            "grid_area": null,
            "grid_auto_columns": null,
            "grid_auto_flow": null,
            "grid_auto_rows": null,
            "grid_column": null,
            "grid_gap": null,
            "grid_row": null,
            "grid_template_areas": null,
            "grid_template_columns": null,
            "grid_template_rows": null,
            "height": null,
            "justify_content": null,
            "justify_items": null,
            "left": null,
            "margin": null,
            "max_height": null,
            "max_width": null,
            "min_height": null,
            "min_width": null,
            "object_fit": null,
            "object_position": null,
            "order": null,
            "overflow": null,
            "overflow_x": null,
            "overflow_y": null,
            "padding": null,
            "right": null,
            "top": null,
            "visibility": null,
            "width": null
          }
        },
        "142b151b65db4909a15609ccaff540e0": {
          "model_module": "@jupyter-widgets/controls",
          "model_name": "ProgressStyleModel",
          "model_module_version": "1.5.0",
          "state": {
            "_model_module": "@jupyter-widgets/controls",
            "_model_module_version": "1.5.0",
            "_model_name": "ProgressStyleModel",
            "_view_count": null,
            "_view_module": "@jupyter-widgets/base",
            "_view_module_version": "1.2.0",
            "_view_name": "StyleView",
            "bar_color": null,
            "description_width": ""
          }
        },
        "0c45b230362b49338de9d5e489adfe3d": {
          "model_module": "@jupyter-widgets/base",
          "model_name": "LayoutModel",
          "model_module_version": "1.2.0",
          "state": {
            "_model_module": "@jupyter-widgets/base",
            "_model_module_version": "1.2.0",
            "_model_name": "LayoutModel",
            "_view_count": null,
            "_view_module": "@jupyter-widgets/base",
            "_view_module_version": "1.2.0",
            "_view_name": "LayoutView",
            "align_content": null,
            "align_items": null,
            "align_self": null,
            "border": null,
            "bottom": null,
            "display": null,
            "flex": null,
            "flex_flow": null,
            "grid_area": null,
            "grid_auto_columns": null,
            "grid_auto_flow": null,
            "grid_auto_rows": null,
            "grid_column": null,
            "grid_gap": null,
            "grid_row": null,
            "grid_template_areas": null,
            "grid_template_columns": null,
            "grid_template_rows": null,
            "height": null,
            "justify_content": null,
            "justify_items": null,
            "left": null,
            "margin": null,
            "max_height": null,
            "max_width": null,
            "min_height": null,
            "min_width": null,
            "object_fit": null,
            "object_position": null,
            "order": null,
            "overflow": null,
            "overflow_x": null,
            "overflow_y": null,
            "padding": null,
            "right": null,
            "top": null,
            "visibility": null,
            "width": null
          }
        },
        "82cbdc47ba664d75bb0ac3a3362615ae": {
          "model_module": "@jupyter-widgets/controls",
          "model_name": "DescriptionStyleModel",
          "model_module_version": "1.5.0",
          "state": {
            "_model_module": "@jupyter-widgets/controls",
            "_model_module_version": "1.5.0",
            "_model_name": "DescriptionStyleModel",
            "_view_count": null,
            "_view_module": "@jupyter-widgets/base",
            "_view_module_version": "1.2.0",
            "_view_name": "StyleView",
            "description_width": ""
          }
        },
        "f418da80d5d840618c808fe411286037": {
          "model_module": "@jupyter-widgets/controls",
          "model_name": "HBoxModel",
          "model_module_version": "1.5.0",
          "state": {
            "_dom_classes": [],
            "_model_module": "@jupyter-widgets/controls",
            "_model_module_version": "1.5.0",
            "_model_name": "HBoxModel",
            "_view_count": null,
            "_view_module": "@jupyter-widgets/controls",
            "_view_module_version": "1.5.0",
            "_view_name": "HBoxView",
            "box_style": "",
            "children": [
              "IPY_MODEL_3cbad5a4d2a842718aede9d50df461be",
              "IPY_MODEL_e24fd76307e441b5867afbbb208e1617",
              "IPY_MODEL_ee279295dce74c81a9174823b96b1c8c"
            ],
            "layout": "IPY_MODEL_07df2a837ee04b5d87ce465948a087d7"
          }
        },
        "3cbad5a4d2a842718aede9d50df461be": {
          "model_module": "@jupyter-widgets/controls",
          "model_name": "HTMLModel",
          "model_module_version": "1.5.0",
          "state": {
            "_dom_classes": [],
            "_model_module": "@jupyter-widgets/controls",
            "_model_module_version": "1.5.0",
            "_model_name": "HTMLModel",
            "_view_count": null,
            "_view_module": "@jupyter-widgets/controls",
            "_view_module_version": "1.5.0",
            "_view_name": "HTMLView",
            "description": "",
            "description_tooltip": null,
            "layout": "IPY_MODEL_b8c2c0fc0d554ed482530ca451504020",
            "placeholder": "​",
            "style": "IPY_MODEL_e37e45ac8fbd4751aca2645e34cdbf7f",
            "value": "merges.txt: 100%"
          }
        },
        "e24fd76307e441b5867afbbb208e1617": {
          "model_module": "@jupyter-widgets/controls",
          "model_name": "FloatProgressModel",
          "model_module_version": "1.5.0",
          "state": {
            "_dom_classes": [],
            "_model_module": "@jupyter-widgets/controls",
            "_model_module_version": "1.5.0",
            "_model_name": "FloatProgressModel",
            "_view_count": null,
            "_view_module": "@jupyter-widgets/controls",
            "_view_module_version": "1.5.0",
            "_view_name": "ProgressView",
            "bar_style": "success",
            "description": "",
            "description_tooltip": null,
            "layout": "IPY_MODEL_5764a8152a624e908c8e3909c6a09d8e",
            "max": 524657,
            "min": 0,
            "orientation": "horizontal",
            "style": "IPY_MODEL_ce4ece56af9a429484cb6317c2d89c67",
            "value": 524657
          }
        },
        "ee279295dce74c81a9174823b96b1c8c": {
          "model_module": "@jupyter-widgets/controls",
          "model_name": "HTMLModel",
          "model_module_version": "1.5.0",
          "state": {
            "_dom_classes": [],
            "_model_module": "@jupyter-widgets/controls",
            "_model_module_version": "1.5.0",
            "_model_name": "HTMLModel",
            "_view_count": null,
            "_view_module": "@jupyter-widgets/controls",
            "_view_module_version": "1.5.0",
            "_view_name": "HTMLView",
            "description": "",
            "description_tooltip": null,
            "layout": "IPY_MODEL_84cb5c5beaea406aa3c5a970edb9a8df",
            "placeholder": "​",
            "style": "IPY_MODEL_0582dfbb695244d0833e5e3e869a8a40",
            "value": " 525k/525k [00:00&lt;00:00, 4.04MB/s]"
          }
        },
        "07df2a837ee04b5d87ce465948a087d7": {
          "model_module": "@jupyter-widgets/base",
          "model_name": "LayoutModel",
          "model_module_version": "1.2.0",
          "state": {
            "_model_module": "@jupyter-widgets/base",
            "_model_module_version": "1.2.0",
            "_model_name": "LayoutModel",
            "_view_count": null,
            "_view_module": "@jupyter-widgets/base",
            "_view_module_version": "1.2.0",
            "_view_name": "LayoutView",
            "align_content": null,
            "align_items": null,
            "align_self": null,
            "border": null,
            "bottom": null,
            "display": null,
            "flex": null,
            "flex_flow": null,
            "grid_area": null,
            "grid_auto_columns": null,
            "grid_auto_flow": null,
            "grid_auto_rows": null,
            "grid_column": null,
            "grid_gap": null,
            "grid_row": null,
            "grid_template_areas": null,
            "grid_template_columns": null,
            "grid_template_rows": null,
            "height": null,
            "justify_content": null,
            "justify_items": null,
            "left": null,
            "margin": null,
            "max_height": null,
            "max_width": null,
            "min_height": null,
            "min_width": null,
            "object_fit": null,
            "object_position": null,
            "order": null,
            "overflow": null,
            "overflow_x": null,
            "overflow_y": null,
            "padding": null,
            "right": null,
            "top": null,
            "visibility": null,
            "width": null
          }
        },
        "b8c2c0fc0d554ed482530ca451504020": {
          "model_module": "@jupyter-widgets/base",
          "model_name": "LayoutModel",
          "model_module_version": "1.2.0",
          "state": {
            "_model_module": "@jupyter-widgets/base",
            "_model_module_version": "1.2.0",
            "_model_name": "LayoutModel",
            "_view_count": null,
            "_view_module": "@jupyter-widgets/base",
            "_view_module_version": "1.2.0",
            "_view_name": "LayoutView",
            "align_content": null,
            "align_items": null,
            "align_self": null,
            "border": null,
            "bottom": null,
            "display": null,
            "flex": null,
            "flex_flow": null,
            "grid_area": null,
            "grid_auto_columns": null,
            "grid_auto_flow": null,
            "grid_auto_rows": null,
            "grid_column": null,
            "grid_gap": null,
            "grid_row": null,
            "grid_template_areas": null,
            "grid_template_columns": null,
            "grid_template_rows": null,
            "height": null,
            "justify_content": null,
            "justify_items": null,
            "left": null,
            "margin": null,
            "max_height": null,
            "max_width": null,
            "min_height": null,
            "min_width": null,
            "object_fit": null,
            "object_position": null,
            "order": null,
            "overflow": null,
            "overflow_x": null,
            "overflow_y": null,
            "padding": null,
            "right": null,
            "top": null,
            "visibility": null,
            "width": null
          }
        },
        "e37e45ac8fbd4751aca2645e34cdbf7f": {
          "model_module": "@jupyter-widgets/controls",
          "model_name": "DescriptionStyleModel",
          "model_module_version": "1.5.0",
          "state": {
            "_model_module": "@jupyter-widgets/controls",
            "_model_module_version": "1.5.0",
            "_model_name": "DescriptionStyleModel",
            "_view_count": null,
            "_view_module": "@jupyter-widgets/base",
            "_view_module_version": "1.2.0",
            "_view_name": "StyleView",
            "description_width": ""
          }
        },
        "5764a8152a624e908c8e3909c6a09d8e": {
          "model_module": "@jupyter-widgets/base",
          "model_name": "LayoutModel",
          "model_module_version": "1.2.0",
          "state": {
            "_model_module": "@jupyter-widgets/base",
            "_model_module_version": "1.2.0",
            "_model_name": "LayoutModel",
            "_view_count": null,
            "_view_module": "@jupyter-widgets/base",
            "_view_module_version": "1.2.0",
            "_view_name": "LayoutView",
            "align_content": null,
            "align_items": null,
            "align_self": null,
            "border": null,
            "bottom": null,
            "display": null,
            "flex": null,
            "flex_flow": null,
            "grid_area": null,
            "grid_auto_columns": null,
            "grid_auto_flow": null,
            "grid_auto_rows": null,
            "grid_column": null,
            "grid_gap": null,
            "grid_row": null,
            "grid_template_areas": null,
            "grid_template_columns": null,
            "grid_template_rows": null,
            "height": null,
            "justify_content": null,
            "justify_items": null,
            "left": null,
            "margin": null,
            "max_height": null,
            "max_width": null,
            "min_height": null,
            "min_width": null,
            "object_fit": null,
            "object_position": null,
            "order": null,
            "overflow": null,
            "overflow_x": null,
            "overflow_y": null,
            "padding": null,
            "right": null,
            "top": null,
            "visibility": null,
            "width": null
          }
        },
        "ce4ece56af9a429484cb6317c2d89c67": {
          "model_module": "@jupyter-widgets/controls",
          "model_name": "ProgressStyleModel",
          "model_module_version": "1.5.0",
          "state": {
            "_model_module": "@jupyter-widgets/controls",
            "_model_module_version": "1.5.0",
            "_model_name": "ProgressStyleModel",
            "_view_count": null,
            "_view_module": "@jupyter-widgets/base",
            "_view_module_version": "1.2.0",
            "_view_name": "StyleView",
            "bar_color": null,
            "description_width": ""
          }
        },
        "84cb5c5beaea406aa3c5a970edb9a8df": {
          "model_module": "@jupyter-widgets/base",
          "model_name": "LayoutModel",
          "model_module_version": "1.2.0",
          "state": {
            "_model_module": "@jupyter-widgets/base",
            "_model_module_version": "1.2.0",
            "_model_name": "LayoutModel",
            "_view_count": null,
            "_view_module": "@jupyter-widgets/base",
            "_view_module_version": "1.2.0",
            "_view_name": "LayoutView",
            "align_content": null,
            "align_items": null,
            "align_self": null,
            "border": null,
            "bottom": null,
            "display": null,
            "flex": null,
            "flex_flow": null,
            "grid_area": null,
            "grid_auto_columns": null,
            "grid_auto_flow": null,
            "grid_auto_rows": null,
            "grid_column": null,
            "grid_gap": null,
            "grid_row": null,
            "grid_template_areas": null,
            "grid_template_columns": null,
            "grid_template_rows": null,
            "height": null,
            "justify_content": null,
            "justify_items": null,
            "left": null,
            "margin": null,
            "max_height": null,
            "max_width": null,
            "min_height": null,
            "min_width": null,
            "object_fit": null,
            "object_position": null,
            "order": null,
            "overflow": null,
            "overflow_x": null,
            "overflow_y": null,
            "padding": null,
            "right": null,
            "top": null,
            "visibility": null,
            "width": null
          }
        },
        "0582dfbb695244d0833e5e3e869a8a40": {
          "model_module": "@jupyter-widgets/controls",
          "model_name": "DescriptionStyleModel",
          "model_module_version": "1.5.0",
          "state": {
            "_model_module": "@jupyter-widgets/controls",
            "_model_module_version": "1.5.0",
            "_model_name": "DescriptionStyleModel",
            "_view_count": null,
            "_view_module": "@jupyter-widgets/base",
            "_view_module_version": "1.2.0",
            "_view_name": "StyleView",
            "description_width": ""
          }
        },
        "e420845ccbe441b480b10912d333b655": {
          "model_module": "@jupyter-widgets/controls",
          "model_name": "HBoxModel",
          "model_module_version": "1.5.0",
          "state": {
            "_dom_classes": [],
            "_model_module": "@jupyter-widgets/controls",
            "_model_module_version": "1.5.0",
            "_model_name": "HBoxModel",
            "_view_count": null,
            "_view_module": "@jupyter-widgets/controls",
            "_view_module_version": "1.5.0",
            "_view_name": "HBoxView",
            "box_style": "",
            "children": [
              "IPY_MODEL_a13d2bf242f14662818696227b452d02",
              "IPY_MODEL_472dd5275eb648a6a5effddb01aed61c",
              "IPY_MODEL_19032f00a931471e91271cac05d3d711"
            ],
            "layout": "IPY_MODEL_65aea19b178240f38a38674224806fc9"
          }
        },
        "a13d2bf242f14662818696227b452d02": {
          "model_module": "@jupyter-widgets/controls",
          "model_name": "HTMLModel",
          "model_module_version": "1.5.0",
          "state": {
            "_dom_classes": [],
            "_model_module": "@jupyter-widgets/controls",
            "_model_module_version": "1.5.0",
            "_model_name": "HTMLModel",
            "_view_count": null,
            "_view_module": "@jupyter-widgets/controls",
            "_view_module_version": "1.5.0",
            "_view_name": "HTMLView",
            "description": "",
            "description_tooltip": null,
            "layout": "IPY_MODEL_dec2fd91a84c450c854687664be9a9aa",
            "placeholder": "​",
            "style": "IPY_MODEL_e237088ec2e1480fab67cdd79e6ff472",
            "value": "special_tokens_map.json: 100%"
          }
        },
        "472dd5275eb648a6a5effddb01aed61c": {
          "model_module": "@jupyter-widgets/controls",
          "model_name": "FloatProgressModel",
          "model_module_version": "1.5.0",
          "state": {
            "_dom_classes": [],
            "_model_module": "@jupyter-widgets/controls",
            "_model_module_version": "1.5.0",
            "_model_name": "FloatProgressModel",
            "_view_count": null,
            "_view_module": "@jupyter-widgets/controls",
            "_view_module_version": "1.5.0",
            "_view_name": "ProgressView",
            "bar_style": "success",
            "description": "",
            "description_tooltip": null,
            "layout": "IPY_MODEL_beb7d7e9660a4f0a92a5cadb16f9f9cf",
            "max": 389,
            "min": 0,
            "orientation": "horizontal",
            "style": "IPY_MODEL_1fc5fc829dc44fcfb9ce2578c3eb0bc0",
            "value": 389
          }
        },
        "19032f00a931471e91271cac05d3d711": {
          "model_module": "@jupyter-widgets/controls",
          "model_name": "HTMLModel",
          "model_module_version": "1.5.0",
          "state": {
            "_dom_classes": [],
            "_model_module": "@jupyter-widgets/controls",
            "_model_module_version": "1.5.0",
            "_model_name": "HTMLModel",
            "_view_count": null,
            "_view_module": "@jupyter-widgets/controls",
            "_view_module_version": "1.5.0",
            "_view_name": "HTMLView",
            "description": "",
            "description_tooltip": null,
            "layout": "IPY_MODEL_e59fe14351c94a0695a4293193cf8ac0",
            "placeholder": "​",
            "style": "IPY_MODEL_0c725060ed7a45d6a5d06fdf5f3fb1eb",
            "value": " 389/389 [00:00&lt;00:00, 23.2kB/s]"
          }
        },
        "65aea19b178240f38a38674224806fc9": {
          "model_module": "@jupyter-widgets/base",
          "model_name": "LayoutModel",
          "model_module_version": "1.2.0",
          "state": {
            "_model_module": "@jupyter-widgets/base",
            "_model_module_version": "1.2.0",
            "_model_name": "LayoutModel",
            "_view_count": null,
            "_view_module": "@jupyter-widgets/base",
            "_view_module_version": "1.2.0",
            "_view_name": "LayoutView",
            "align_content": null,
            "align_items": null,
            "align_self": null,
            "border": null,
            "bottom": null,
            "display": null,
            "flex": null,
            "flex_flow": null,
            "grid_area": null,
            "grid_auto_columns": null,
            "grid_auto_flow": null,
            "grid_auto_rows": null,
            "grid_column": null,
            "grid_gap": null,
            "grid_row": null,
            "grid_template_areas": null,
            "grid_template_columns": null,
            "grid_template_rows": null,
            "height": null,
            "justify_content": null,
            "justify_items": null,
            "left": null,
            "margin": null,
            "max_height": null,
            "max_width": null,
            "min_height": null,
            "min_width": null,
            "object_fit": null,
            "object_position": null,
            "order": null,
            "overflow": null,
            "overflow_x": null,
            "overflow_y": null,
            "padding": null,
            "right": null,
            "top": null,
            "visibility": null,
            "width": null
          }
        },
        "dec2fd91a84c450c854687664be9a9aa": {
          "model_module": "@jupyter-widgets/base",
          "model_name": "LayoutModel",
          "model_module_version": "1.2.0",
          "state": {
            "_model_module": "@jupyter-widgets/base",
            "_model_module_version": "1.2.0",
            "_model_name": "LayoutModel",
            "_view_count": null,
            "_view_module": "@jupyter-widgets/base",
            "_view_module_version": "1.2.0",
            "_view_name": "LayoutView",
            "align_content": null,
            "align_items": null,
            "align_self": null,
            "border": null,
            "bottom": null,
            "display": null,
            "flex": null,
            "flex_flow": null,
            "grid_area": null,
            "grid_auto_columns": null,
            "grid_auto_flow": null,
            "grid_auto_rows": null,
            "grid_column": null,
            "grid_gap": null,
            "grid_row": null,
            "grid_template_areas": null,
            "grid_template_columns": null,
            "grid_template_rows": null,
            "height": null,
            "justify_content": null,
            "justify_items": null,
            "left": null,
            "margin": null,
            "max_height": null,
            "max_width": null,
            "min_height": null,
            "min_width": null,
            "object_fit": null,
            "object_position": null,
            "order": null,
            "overflow": null,
            "overflow_x": null,
            "overflow_y": null,
            "padding": null,
            "right": null,
            "top": null,
            "visibility": null,
            "width": null
          }
        },
        "e237088ec2e1480fab67cdd79e6ff472": {
          "model_module": "@jupyter-widgets/controls",
          "model_name": "DescriptionStyleModel",
          "model_module_version": "1.5.0",
          "state": {
            "_model_module": "@jupyter-widgets/controls",
            "_model_module_version": "1.5.0",
            "_model_name": "DescriptionStyleModel",
            "_view_count": null,
            "_view_module": "@jupyter-widgets/base",
            "_view_module_version": "1.2.0",
            "_view_name": "StyleView",
            "description_width": ""
          }
        },
        "beb7d7e9660a4f0a92a5cadb16f9f9cf": {
          "model_module": "@jupyter-widgets/base",
          "model_name": "LayoutModel",
          "model_module_version": "1.2.0",
          "state": {
            "_model_module": "@jupyter-widgets/base",
            "_model_module_version": "1.2.0",
            "_model_name": "LayoutModel",
            "_view_count": null,
            "_view_module": "@jupyter-widgets/base",
            "_view_module_version": "1.2.0",
            "_view_name": "LayoutView",
            "align_content": null,
            "align_items": null,
            "align_self": null,
            "border": null,
            "bottom": null,
            "display": null,
            "flex": null,
            "flex_flow": null,
            "grid_area": null,
            "grid_auto_columns": null,
            "grid_auto_flow": null,
            "grid_auto_rows": null,
            "grid_column": null,
            "grid_gap": null,
            "grid_row": null,
            "grid_template_areas": null,
            "grid_template_columns": null,
            "grid_template_rows": null,
            "height": null,
            "justify_content": null,
            "justify_items": null,
            "left": null,
            "margin": null,
            "max_height": null,
            "max_width": null,
            "min_height": null,
            "min_width": null,
            "object_fit": null,
            "object_position": null,
            "order": null,
            "overflow": null,
            "overflow_x": null,
            "overflow_y": null,
            "padding": null,
            "right": null,
            "top": null,
            "visibility": null,
            "width": null
          }
        },
        "1fc5fc829dc44fcfb9ce2578c3eb0bc0": {
          "model_module": "@jupyter-widgets/controls",
          "model_name": "ProgressStyleModel",
          "model_module_version": "1.5.0",
          "state": {
            "_model_module": "@jupyter-widgets/controls",
            "_model_module_version": "1.5.0",
            "_model_name": "ProgressStyleModel",
            "_view_count": null,
            "_view_module": "@jupyter-widgets/base",
            "_view_module_version": "1.2.0",
            "_view_name": "StyleView",
            "bar_color": null,
            "description_width": ""
          }
        },
        "e59fe14351c94a0695a4293193cf8ac0": {
          "model_module": "@jupyter-widgets/base",
          "model_name": "LayoutModel",
          "model_module_version": "1.2.0",
          "state": {
            "_model_module": "@jupyter-widgets/base",
            "_model_module_version": "1.2.0",
            "_model_name": "LayoutModel",
            "_view_count": null,
            "_view_module": "@jupyter-widgets/base",
            "_view_module_version": "1.2.0",
            "_view_name": "LayoutView",
            "align_content": null,
            "align_items": null,
            "align_self": null,
            "border": null,
            "bottom": null,
            "display": null,
            "flex": null,
            "flex_flow": null,
            "grid_area": null,
            "grid_auto_columns": null,
            "grid_auto_flow": null,
            "grid_auto_rows": null,
            "grid_column": null,
            "grid_gap": null,
            "grid_row": null,
            "grid_template_areas": null,
            "grid_template_columns": null,
            "grid_template_rows": null,
            "height": null,
            "justify_content": null,
            "justify_items": null,
            "left": null,
            "margin": null,
            "max_height": null,
            "max_width": null,
            "min_height": null,
            "min_width": null,
            "object_fit": null,
            "object_position": null,
            "order": null,
            "overflow": null,
            "overflow_x": null,
            "overflow_y": null,
            "padding": null,
            "right": null,
            "top": null,
            "visibility": null,
            "width": null
          }
        },
        "0c725060ed7a45d6a5d06fdf5f3fb1eb": {
          "model_module": "@jupyter-widgets/controls",
          "model_name": "DescriptionStyleModel",
          "model_module_version": "1.5.0",
          "state": {
            "_model_module": "@jupyter-widgets/controls",
            "_model_module_version": "1.5.0",
            "_model_name": "DescriptionStyleModel",
            "_view_count": null,
            "_view_module": "@jupyter-widgets/base",
            "_view_module_version": "1.2.0",
            "_view_name": "StyleView",
            "description_width": ""
          }
        },
        "fe23684422fd4bd98cb4620759f93e78": {
          "model_module": "@jupyter-widgets/controls",
          "model_name": "HBoxModel",
          "model_module_version": "1.5.0",
          "state": {
            "_dom_classes": [],
            "_model_module": "@jupyter-widgets/controls",
            "_model_module_version": "1.5.0",
            "_model_name": "HBoxModel",
            "_view_count": null,
            "_view_module": "@jupyter-widgets/controls",
            "_view_module_version": "1.5.0",
            "_view_name": "HBoxView",
            "box_style": "",
            "children": [
              "IPY_MODEL_7a2783f325af43409f4f1aeaeb788c98",
              "IPY_MODEL_1f4355d6e12a46dfa51f33d1a43c2483",
              "IPY_MODEL_224efb5b31f34cb383f3728c266afcf7"
            ],
            "layout": "IPY_MODEL_200b912a1fda441dac3070defe58709f"
          }
        },
        "7a2783f325af43409f4f1aeaeb788c98": {
          "model_module": "@jupyter-widgets/controls",
          "model_name": "HTMLModel",
          "model_module_version": "1.5.0",
          "state": {
            "_dom_classes": [],
            "_model_module": "@jupyter-widgets/controls",
            "_model_module_version": "1.5.0",
            "_model_name": "HTMLModel",
            "_view_count": null,
            "_view_module": "@jupyter-widgets/controls",
            "_view_module_version": "1.5.0",
            "_view_name": "HTMLView",
            "description": "",
            "description_tooltip": null,
            "layout": "IPY_MODEL_0a3b85b33e6d46bf9eb1d7909a6dceb9",
            "placeholder": "​",
            "style": "IPY_MODEL_90301b68e39842d6b25621447b3a9f4b",
            "value": "tokenizer.json: 100%"
          }
        },
        "1f4355d6e12a46dfa51f33d1a43c2483": {
          "model_module": "@jupyter-widgets/controls",
          "model_name": "FloatProgressModel",
          "model_module_version": "1.5.0",
          "state": {
            "_dom_classes": [],
            "_model_module": "@jupyter-widgets/controls",
            "_model_module_version": "1.5.0",
            "_model_name": "FloatProgressModel",
            "_view_count": null,
            "_view_module": "@jupyter-widgets/controls",
            "_view_module_version": "1.5.0",
            "_view_name": "ProgressView",
            "bar_style": "success",
            "description": "",
            "description_tooltip": null,
            "layout": "IPY_MODEL_a33af4de670e4df99c5463021be3f011",
            "max": 2224041,
            "min": 0,
            "orientation": "horizontal",
            "style": "IPY_MODEL_c70041b81fab4062bab5e1d5dcd581cd",
            "value": 2224041
          }
        },
        "224efb5b31f34cb383f3728c266afcf7": {
          "model_module": "@jupyter-widgets/controls",
          "model_name": "HTMLModel",
          "model_module_version": "1.5.0",
          "state": {
            "_dom_classes": [],
            "_model_module": "@jupyter-widgets/controls",
            "_model_module_version": "1.5.0",
            "_model_name": "HTMLModel",
            "_view_count": null,
            "_view_module": "@jupyter-widgets/controls",
            "_view_module_version": "1.5.0",
            "_view_name": "HTMLView",
            "description": "",
            "description_tooltip": null,
            "layout": "IPY_MODEL_2dad191219af459386760e03704e7b17",
            "placeholder": "​",
            "style": "IPY_MODEL_743a6100dde748b381dd037a106f72c1",
            "value": " 2.22M/2.22M [00:00&lt;00:00, 8.34MB/s]"
          }
        },
        "200b912a1fda441dac3070defe58709f": {
          "model_module": "@jupyter-widgets/base",
          "model_name": "LayoutModel",
          "model_module_version": "1.2.0",
          "state": {
            "_model_module": "@jupyter-widgets/base",
            "_model_module_version": "1.2.0",
            "_model_name": "LayoutModel",
            "_view_count": null,
            "_view_module": "@jupyter-widgets/base",
            "_view_module_version": "1.2.0",
            "_view_name": "LayoutView",
            "align_content": null,
            "align_items": null,
            "align_self": null,
            "border": null,
            "bottom": null,
            "display": null,
            "flex": null,
            "flex_flow": null,
            "grid_area": null,
            "grid_auto_columns": null,
            "grid_auto_flow": null,
            "grid_auto_rows": null,
            "grid_column": null,
            "grid_gap": null,
            "grid_row": null,
            "grid_template_areas": null,
            "grid_template_columns": null,
            "grid_template_rows": null,
            "height": null,
            "justify_content": null,
            "justify_items": null,
            "left": null,
            "margin": null,
            "max_height": null,
            "max_width": null,
            "min_height": null,
            "min_width": null,
            "object_fit": null,
            "object_position": null,
            "order": null,
            "overflow": null,
            "overflow_x": null,
            "overflow_y": null,
            "padding": null,
            "right": null,
            "top": null,
            "visibility": null,
            "width": null
          }
        },
        "0a3b85b33e6d46bf9eb1d7909a6dceb9": {
          "model_module": "@jupyter-widgets/base",
          "model_name": "LayoutModel",
          "model_module_version": "1.2.0",
          "state": {
            "_model_module": "@jupyter-widgets/base",
            "_model_module_version": "1.2.0",
            "_model_name": "LayoutModel",
            "_view_count": null,
            "_view_module": "@jupyter-widgets/base",
            "_view_module_version": "1.2.0",
            "_view_name": "LayoutView",
            "align_content": null,
            "align_items": null,
            "align_self": null,
            "border": null,
            "bottom": null,
            "display": null,
            "flex": null,
            "flex_flow": null,
            "grid_area": null,
            "grid_auto_columns": null,
            "grid_auto_flow": null,
            "grid_auto_rows": null,
            "grid_column": null,
            "grid_gap": null,
            "grid_row": null,
            "grid_template_areas": null,
            "grid_template_columns": null,
            "grid_template_rows": null,
            "height": null,
            "justify_content": null,
            "justify_items": null,
            "left": null,
            "margin": null,
            "max_height": null,
            "max_width": null,
            "min_height": null,
            "min_width": null,
            "object_fit": null,
            "object_position": null,
            "order": null,
            "overflow": null,
            "overflow_x": null,
            "overflow_y": null,
            "padding": null,
            "right": null,
            "top": null,
            "visibility": null,
            "width": null
          }
        },
        "90301b68e39842d6b25621447b3a9f4b": {
          "model_module": "@jupyter-widgets/controls",
          "model_name": "DescriptionStyleModel",
          "model_module_version": "1.5.0",
          "state": {
            "_model_module": "@jupyter-widgets/controls",
            "_model_module_version": "1.5.0",
            "_model_name": "DescriptionStyleModel",
            "_view_count": null,
            "_view_module": "@jupyter-widgets/base",
            "_view_module_version": "1.2.0",
            "_view_name": "StyleView",
            "description_width": ""
          }
        },
        "a33af4de670e4df99c5463021be3f011": {
          "model_module": "@jupyter-widgets/base",
          "model_name": "LayoutModel",
          "model_module_version": "1.2.0",
          "state": {
            "_model_module": "@jupyter-widgets/base",
            "_model_module_version": "1.2.0",
            "_model_name": "LayoutModel",
            "_view_count": null,
            "_view_module": "@jupyter-widgets/base",
            "_view_module_version": "1.2.0",
            "_view_name": "LayoutView",
            "align_content": null,
            "align_items": null,
            "align_self": null,
            "border": null,
            "bottom": null,
            "display": null,
            "flex": null,
            "flex_flow": null,
            "grid_area": null,
            "grid_auto_columns": null,
            "grid_auto_flow": null,
            "grid_auto_rows": null,
            "grid_column": null,
            "grid_gap": null,
            "grid_row": null,
            "grid_template_areas": null,
            "grid_template_columns": null,
            "grid_template_rows": null,
            "height": null,
            "justify_content": null,
            "justify_items": null,
            "left": null,
            "margin": null,
            "max_height": null,
            "max_width": null,
            "min_height": null,
            "min_width": null,
            "object_fit": null,
            "object_position": null,
            "order": null,
            "overflow": null,
            "overflow_x": null,
            "overflow_y": null,
            "padding": null,
            "right": null,
            "top": null,
            "visibility": null,
            "width": null
          }
        },
        "c70041b81fab4062bab5e1d5dcd581cd": {
          "model_module": "@jupyter-widgets/controls",
          "model_name": "ProgressStyleModel",
          "model_module_version": "1.5.0",
          "state": {
            "_model_module": "@jupyter-widgets/controls",
            "_model_module_version": "1.5.0",
            "_model_name": "ProgressStyleModel",
            "_view_count": null,
            "_view_module": "@jupyter-widgets/base",
            "_view_module_version": "1.2.0",
            "_view_name": "StyleView",
            "bar_color": null,
            "description_width": ""
          }
        },
        "2dad191219af459386760e03704e7b17": {
          "model_module": "@jupyter-widgets/base",
          "model_name": "LayoutModel",
          "model_module_version": "1.2.0",
          "state": {
            "_model_module": "@jupyter-widgets/base",
            "_model_module_version": "1.2.0",
            "_model_name": "LayoutModel",
            "_view_count": null,
            "_view_module": "@jupyter-widgets/base",
            "_view_module_version": "1.2.0",
            "_view_name": "LayoutView",
            "align_content": null,
            "align_items": null,
            "align_self": null,
            "border": null,
            "bottom": null,
            "display": null,
            "flex": null,
            "flex_flow": null,
            "grid_area": null,
            "grid_auto_columns": null,
            "grid_auto_flow": null,
            "grid_auto_rows": null,
            "grid_column": null,
            "grid_gap": null,
            "grid_row": null,
            "grid_template_areas": null,
            "grid_template_columns": null,
            "grid_template_rows": null,
            "height": null,
            "justify_content": null,
            "justify_items": null,
            "left": null,
            "margin": null,
            "max_height": null,
            "max_width": null,
            "min_height": null,
            "min_width": null,
            "object_fit": null,
            "object_position": null,
            "order": null,
            "overflow": null,
            "overflow_x": null,
            "overflow_y": null,
            "padding": null,
            "right": null,
            "top": null,
            "visibility": null,
            "width": null
          }
        },
        "743a6100dde748b381dd037a106f72c1": {
          "model_module": "@jupyter-widgets/controls",
          "model_name": "DescriptionStyleModel",
          "model_module_version": "1.5.0",
          "state": {
            "_model_module": "@jupyter-widgets/controls",
            "_model_module_version": "1.5.0",
            "_model_name": "DescriptionStyleModel",
            "_view_count": null,
            "_view_module": "@jupyter-widgets/base",
            "_view_module_version": "1.2.0",
            "_view_name": "StyleView",
            "description_width": ""
          }
        },
        "d7351e0289e243c794e073f84edc14b8": {
          "model_module": "@jupyter-widgets/controls",
          "model_name": "HBoxModel",
          "model_module_version": "1.5.0",
          "state": {
            "_dom_classes": [],
            "_model_module": "@jupyter-widgets/controls",
            "_model_module_version": "1.5.0",
            "_model_name": "HBoxModel",
            "_view_count": null,
            "_view_module": "@jupyter-widgets/controls",
            "_view_module_version": "1.5.0",
            "_view_name": "HBoxView",
            "box_style": "",
            "children": [
              "IPY_MODEL_aae793afdd45489aa6df16c339fb787e",
              "IPY_MODEL_0a8e6504d1b548c0b520e109a72d4d21",
              "IPY_MODEL_75b81da3ec56496681583d4c5613d99e"
            ],
            "layout": "IPY_MODEL_fc43df47dc6c423db778352f6b3b4c31"
          }
        },
        "aae793afdd45489aa6df16c339fb787e": {
          "model_module": "@jupyter-widgets/controls",
          "model_name": "HTMLModel",
          "model_module_version": "1.5.0",
          "state": {
            "_dom_classes": [],
            "_model_module": "@jupyter-widgets/controls",
            "_model_module_version": "1.5.0",
            "_model_name": "HTMLModel",
            "_view_count": null,
            "_view_module": "@jupyter-widgets/controls",
            "_view_module_version": "1.5.0",
            "_view_name": "HTMLView",
            "description": "",
            "description_tooltip": null,
            "layout": "IPY_MODEL_e0beffb1e3854ba695ab3d413306e5bd",
            "placeholder": "​",
            "style": "IPY_MODEL_2c352ba5524b4a1da333538baf27265c",
            "value": "preprocessor_config.json: 100%"
          }
        },
        "0a8e6504d1b548c0b520e109a72d4d21": {
          "model_module": "@jupyter-widgets/controls",
          "model_name": "FloatProgressModel",
          "model_module_version": "1.5.0",
          "state": {
            "_dom_classes": [],
            "_model_module": "@jupyter-widgets/controls",
            "_model_module_version": "1.5.0",
            "_model_name": "FloatProgressModel",
            "_view_count": null,
            "_view_module": "@jupyter-widgets/controls",
            "_view_module_version": "1.5.0",
            "_view_name": "ProgressView",
            "bar_style": "success",
            "description": "",
            "description_tooltip": null,
            "layout": "IPY_MODEL_25365928ecfa41a8972f1826dc02ec2a",
            "max": 316,
            "min": 0,
            "orientation": "horizontal",
            "style": "IPY_MODEL_a6e3aa5f21cf4aa8b807d33b74588aa1",
            "value": 316
          }
        },
        "75b81da3ec56496681583d4c5613d99e": {
          "model_module": "@jupyter-widgets/controls",
          "model_name": "HTMLModel",
          "model_module_version": "1.5.0",
          "state": {
            "_dom_classes": [],
            "_model_module": "@jupyter-widgets/controls",
            "_model_module_version": "1.5.0",
            "_model_name": "HTMLModel",
            "_view_count": null,
            "_view_module": "@jupyter-widgets/controls",
            "_view_module_version": "1.5.0",
            "_view_name": "HTMLView",
            "description": "",
            "description_tooltip": null,
            "layout": "IPY_MODEL_39dca8871d4442bd870ae559464c8d15",
            "placeholder": "​",
            "style": "IPY_MODEL_b4d50d32130d4f50af8f2cc55dc0f614",
            "value": " 316/316 [00:00&lt;00:00, 5.72kB/s]"
          }
        },
        "fc43df47dc6c423db778352f6b3b4c31": {
          "model_module": "@jupyter-widgets/base",
          "model_name": "LayoutModel",
          "model_module_version": "1.2.0",
          "state": {
            "_model_module": "@jupyter-widgets/base",
            "_model_module_version": "1.2.0",
            "_model_name": "LayoutModel",
            "_view_count": null,
            "_view_module": "@jupyter-widgets/base",
            "_view_module_version": "1.2.0",
            "_view_name": "LayoutView",
            "align_content": null,
            "align_items": null,
            "align_self": null,
            "border": null,
            "bottom": null,
            "display": null,
            "flex": null,
            "flex_flow": null,
            "grid_area": null,
            "grid_auto_columns": null,
            "grid_auto_flow": null,
            "grid_auto_rows": null,
            "grid_column": null,
            "grid_gap": null,
            "grid_row": null,
            "grid_template_areas": null,
            "grid_template_columns": null,
            "grid_template_rows": null,
            "height": null,
            "justify_content": null,
            "justify_items": null,
            "left": null,
            "margin": null,
            "max_height": null,
            "max_width": null,
            "min_height": null,
            "min_width": null,
            "object_fit": null,
            "object_position": null,
            "order": null,
            "overflow": null,
            "overflow_x": null,
            "overflow_y": null,
            "padding": null,
            "right": null,
            "top": null,
            "visibility": null,
            "width": null
          }
        },
        "e0beffb1e3854ba695ab3d413306e5bd": {
          "model_module": "@jupyter-widgets/base",
          "model_name": "LayoutModel",
          "model_module_version": "1.2.0",
          "state": {
            "_model_module": "@jupyter-widgets/base",
            "_model_module_version": "1.2.0",
            "_model_name": "LayoutModel",
            "_view_count": null,
            "_view_module": "@jupyter-widgets/base",
            "_view_module_version": "1.2.0",
            "_view_name": "LayoutView",
            "align_content": null,
            "align_items": null,
            "align_self": null,
            "border": null,
            "bottom": null,
            "display": null,
            "flex": null,
            "flex_flow": null,
            "grid_area": null,
            "grid_auto_columns": null,
            "grid_auto_flow": null,
            "grid_auto_rows": null,
            "grid_column": null,
            "grid_gap": null,
            "grid_row": null,
            "grid_template_areas": null,
            "grid_template_columns": null,
            "grid_template_rows": null,
            "height": null,
            "justify_content": null,
            "justify_items": null,
            "left": null,
            "margin": null,
            "max_height": null,
            "max_width": null,
            "min_height": null,
            "min_width": null,
            "object_fit": null,
            "object_position": null,
            "order": null,
            "overflow": null,
            "overflow_x": null,
            "overflow_y": null,
            "padding": null,
            "right": null,
            "top": null,
            "visibility": null,
            "width": null
          }
        },
        "2c352ba5524b4a1da333538baf27265c": {
          "model_module": "@jupyter-widgets/controls",
          "model_name": "DescriptionStyleModel",
          "model_module_version": "1.5.0",
          "state": {
            "_model_module": "@jupyter-widgets/controls",
            "_model_module_version": "1.5.0",
            "_model_name": "DescriptionStyleModel",
            "_view_count": null,
            "_view_module": "@jupyter-widgets/base",
            "_view_module_version": "1.2.0",
            "_view_name": "StyleView",
            "description_width": ""
          }
        },
        "25365928ecfa41a8972f1826dc02ec2a": {
          "model_module": "@jupyter-widgets/base",
          "model_name": "LayoutModel",
          "model_module_version": "1.2.0",
          "state": {
            "_model_module": "@jupyter-widgets/base",
            "_model_module_version": "1.2.0",
            "_model_name": "LayoutModel",
            "_view_count": null,
            "_view_module": "@jupyter-widgets/base",
            "_view_module_version": "1.2.0",
            "_view_name": "LayoutView",
            "align_content": null,
            "align_items": null,
            "align_self": null,
            "border": null,
            "bottom": null,
            "display": null,
            "flex": null,
            "flex_flow": null,
            "grid_area": null,
            "grid_auto_columns": null,
            "grid_auto_flow": null,
            "grid_auto_rows": null,
            "grid_column": null,
            "grid_gap": null,
            "grid_row": null,
            "grid_template_areas": null,
            "grid_template_columns": null,
            "grid_template_rows": null,
            "height": null,
            "justify_content": null,
            "justify_items": null,
            "left": null,
            "margin": null,
            "max_height": null,
            "max_width": null,
            "min_height": null,
            "min_width": null,
            "object_fit": null,
            "object_position": null,
            "order": null,
            "overflow": null,
            "overflow_x": null,
            "overflow_y": null,
            "padding": null,
            "right": null,
            "top": null,
            "visibility": null,
            "width": null
          }
        },
        "a6e3aa5f21cf4aa8b807d33b74588aa1": {
          "model_module": "@jupyter-widgets/controls",
          "model_name": "ProgressStyleModel",
          "model_module_version": "1.5.0",
          "state": {
            "_model_module": "@jupyter-widgets/controls",
            "_model_module_version": "1.5.0",
            "_model_name": "ProgressStyleModel",
            "_view_count": null,
            "_view_module": "@jupyter-widgets/base",
            "_view_module_version": "1.2.0",
            "_view_name": "StyleView",
            "bar_color": null,
            "description_width": ""
          }
        },
        "39dca8871d4442bd870ae559464c8d15": {
          "model_module": "@jupyter-widgets/base",
          "model_name": "LayoutModel",
          "model_module_version": "1.2.0",
          "state": {
            "_model_module": "@jupyter-widgets/base",
            "_model_module_version": "1.2.0",
            "_model_name": "LayoutModel",
            "_view_count": null,
            "_view_module": "@jupyter-widgets/base",
            "_view_module_version": "1.2.0",
            "_view_name": "LayoutView",
            "align_content": null,
            "align_items": null,
            "align_self": null,
            "border": null,
            "bottom": null,
            "display": null,
            "flex": null,
            "flex_flow": null,
            "grid_area": null,
            "grid_auto_columns": null,
            "grid_auto_flow": null,
            "grid_auto_rows": null,
            "grid_column": null,
            "grid_gap": null,
            "grid_row": null,
            "grid_template_areas": null,
            "grid_template_columns": null,
            "grid_template_rows": null,
            "height": null,
            "justify_content": null,
            "justify_items": null,
            "left": null,
            "margin": null,
            "max_height": null,
            "max_width": null,
            "min_height": null,
            "min_width": null,
            "object_fit": null,
            "object_position": null,
            "order": null,
            "overflow": null,
            "overflow_x": null,
            "overflow_y": null,
            "padding": null,
            "right": null,
            "top": null,
            "visibility": null,
            "width": null
          }
        },
        "b4d50d32130d4f50af8f2cc55dc0f614": {
          "model_module": "@jupyter-widgets/controls",
          "model_name": "DescriptionStyleModel",
          "model_module_version": "1.5.0",
          "state": {
            "_model_module": "@jupyter-widgets/controls",
            "_model_module_version": "1.5.0",
            "_model_name": "DescriptionStyleModel",
            "_view_count": null,
            "_view_module": "@jupyter-widgets/base",
            "_view_module_version": "1.2.0",
            "_view_name": "StyleView",
            "description_width": ""
          }
        }
      }
    },
    "accelerator": "GPU"
  },
  "cells": [
    {
      "cell_type": "markdown",
      "metadata": {
        "id": "view-in-github",
        "colab_type": "text"
      },
      "source": [
        "<a href=\"https://colab.research.google.com/github/daisysong76/AI--Machine--learning/blob/main/Another_copy_of_Genre_Classifier_2_Take_Home.ipynb\" target=\"_parent\"><img src=\"https://colab.research.google.com/assets/colab-badge.svg\" alt=\"Open In Colab\"/></a>"
      ]
    },
    {
      "cell_type": "markdown",
      "source": [
        "# 🎻 Genre Classifier\n",
        "\n",
        "The goal of this take home challenge is to train a simple genre classifier that accepts the name of a musician and predicts the most likely genre of their music out of the set:\n",
        "\n",
        "`{ jazz, opera, country, electronic, metal, rap, classical, reggae }`\n",
        "\n",
        "You will train this classifier to operate on top of a pretrained text encoder that converts artist names into embedding vectors.\n",
        "\n",
        "Feel free to use any materials you want in this take home, and make it as succint or exploratory as you want or have time for. Make a copy of this notebook and share the result back with us!"
      ],
      "metadata": {
        "id": "8ebhby_CxwW3"
      }
    },
    {
      "cell_type": "markdown",
      "source": [
        "## Dataset\n",
        "Here is a basic dataset to start with. It may require cleanup."
      ],
      "metadata": {
        "id": "aDja7UV2009y"
      }
    },
    {
      "cell_type": "code",
      "source": [
        "DATA = {\n",
        "  \"jazz\": [\n",
        "    \"1. Miles Davis\",\n",
        "    \"2. John Coltrane\",\n",
        "    \"3. Louis Armstrong\",\n",
        "    \"4. Duke Ellington\",\n",
        "    \"5. Charlie Parker\",\n",
        "    \"6. Billie Holiday\",\n",
        "    \"7. Ella Fitzgerald\",\n",
        "    \"8. Thelonious Monk\",\n",
        "    \"9. Dizzy Gillespie\",\n",
        "    \"10. Chet Baker\",\n",
        "    \"11. Stan Getz\",\n",
        "    \"12. Dave Brubeck\",\n",
        "    \"13. Bill Evans\",\n",
        "    \"14. Herbie Hancock\",\n",
        "    \"15. Charles Mingus\",\n",
        "    \"16. Sonny Rollins\",\n",
        "    \"17. Art Blakey\",\n",
        "    \"18. Oscar Peterson\",\n",
        "    \"19. Sarah Vaughan\",\n",
        "    \"20. Wynton Marsalis\"\n",
        "  ],\n",
        "  \"opera\": [\n",
        "    \"Luciano Pavarotti\",\n",
        "    \"Maria Callas\",\n",
        "    \"Pl\\u00e1cido Domingo\",\n",
        "    \"Ren\\u00e9e Fleming\",\n",
        "    \"Jos\\u00e9 Carreras\",\n",
        "    \"Anna Netrebko\",\n",
        "    \"Montserrat Caball\\u00e9\",\n",
        "    \"Dmitri Hvorostovsky\",\n",
        "    \"Joyce DiDonato\",\n",
        "    \"Juan Diego Fl\\u00f3rez\",\n",
        "    \"Jessye Norman\",\n",
        "    \"Jonas Kaufmann\",\n",
        "    \"Cecilia Bartoli\",\n",
        "    \"Kiri Te Kanawa\",\n",
        "    \"Natalie Dessay\",\n",
        "    \"Franco Corelli\",\n",
        "    \"El\\u012bna Garan\\u010da\",\n",
        "    \"Roberto Alagna\",\n",
        "    \"Diana Damrau\",\n",
        "    \"Bryn Terfel\"\n",
        "  ],\n",
        "  \"country\": [\n",
        "    \"Johnny Cash\",\n",
        "    \"Dolly Parton\",\n",
        "    \"Willie Nelson\",\n",
        "    \"Hank Williams\",\n",
        "    \"Loretta Lynn\",\n",
        "    \"Garth Brooks\",\n",
        "    \"Patsy Cline\",\n",
        "    \"George Strait\",\n",
        "    \"Tammy Wynette\",\n",
        "    \"Merle Haggard\",\n",
        "    \"Reba McEntire\",\n",
        "    \"Shania Twain\",\n",
        "    \"Toby Keith\",\n",
        "    \"Alan Jackson\",\n",
        "    \"Tim McGraw\",\n",
        "    \"Faith Hill\",\n",
        "    \"Carrie Underwood\",\n",
        "    \"Luke Bryan\",\n",
        "    \"Blake Shelton\",\n",
        "    \"Miranda Lambert\"\n",
        "  ],\n",
        "  \"electronic\": [\n",
        "    \"Aphex Twin\",\n",
        "    \"Daft Punk\",\n",
        "    \"The Chemical Brothers\",\n",
        "    \"Deadmau5\",\n",
        "    \"Kraftwerk\",\n",
        "    \"Boards of Canada\",\n",
        "    \"Massive Attack\",\n",
        "    \"Moby\",\n",
        "    \"Jean-Michel Jarre\",\n",
        "    \"Orbital\",\n",
        "    \"Portishead\",\n",
        "    \"Four Tet\",\n",
        "    \"Flying Lotus\",\n",
        "    \"Burial\",\n",
        "    \"Tangerine Dream\",\n",
        "    \"Autechre\",\n",
        "    \"Skrillex\",\n",
        "    \"Bj\\u00f6rk\",\n",
        "    \"Bonobo\",\n",
        "    \"The Prodigy\"\n",
        "  ],\n",
        "  \"metal\": [\n",
        "    \"Metallica\",\n",
        "    \"Iron Maiden\",\n",
        "    \"Slayer\",\n",
        "    \"Megadeth\",\n",
        "    \"Anthrax\",\n",
        "    \"Pantera\",\n",
        "    \"Black Sabbath\",\n",
        "    \"Judas Priest\",\n",
        "    \"Lamb of God\",\n",
        "    \"Slipknot\",\n",
        "    \"Mastodon\",\n",
        "    \"Tool\",\n",
        "    \"Death\",\n",
        "    \"Opeth\",\n",
        "    \"Meshuggah\",\n",
        "    \"Gojira\",\n",
        "    \"Amon Amarth\",\n",
        "    \"Arch Enemy\",\n",
        "    \"Children of Bodom\",\n",
        "    \"Behemoth\"\n",
        "  ],\n",
        "  \"rap\": [\n",
        "    \"Kendrick Lamar\",\n",
        "    \"J. Cole\",\n",
        "    \"Drake\",\n",
        "    \"Eminem\",\n",
        "    \"Kanye West\",\n",
        "    \"Jay-Z\",\n",
        "    \"Nas\",\n",
        "    \"Travis Scott\",\n",
        "    \"Lil Wayne\",\n",
        "    \"Nicki Minaj\",\n",
        "    \"Cardi B\",\n",
        "    \"Megan Thee Stallion\",\n",
        "    \"21 Savage\",\n",
        "    \"Future\",\n",
        "    \"Post Malone\",\n",
        "    \"DaBaby\",\n",
        "    \"Tyler, The Creator\",\n",
        "    \"A$AP Rocky\",\n",
        "    \"Meek Mill\",\n",
        "    \"Lil Baby\"\n",
        "  ],\n",
        "  \"classical\": [\n",
        "    \"Ludwig van Beethoven\",\n",
        "    \"Wolfgang Amadeus Mozart\",\n",
        "    \"Johann Sebastian Bach\",\n",
        "    \"Franz Schubert\",\n",
        "    \"Richard Wagner\",\n",
        "    \"Johannes Brahms\",\n",
        "    \"Franz Joseph Haydn\",\n",
        "    \"Peter Ilyich Tchaikovsky\",\n",
        "    \"Georg Friedrich H\\u00e4ndel\",\n",
        "    \"Igor Stravinsky\",\n",
        "    \"Claude Debussy\",\n",
        "    \"Anton\\u00edn Dvo\\u0159\\u00e1k\",\n",
        "    \"Sergei Rachmaninoff\",\n",
        "    \"Gustav Mahler\",\n",
        "    \"Frederic Chopin\",\n",
        "    \"Robert Schumann\",\n",
        "    \"Felix Mendelssohn\",\n",
        "    \"Antonio Vivaldi\",\n",
        "    \"Giuseppe Verdi\",\n",
        "    \"Richard Strauss\"\n",
        "  ],\n",
        "  \"reggae\": [\n",
        "    \"Bob Marley\",\n",
        "    \"Peter Tosh\",\n",
        "    \"Bunny Wailer\",\n",
        "    \"Gregory Isaacs\",\n",
        "    \"Burning Spear\",\n",
        "    \"Toots and the Maytals\",\n",
        "    \"Black Uhuru\",\n",
        "    \"Buju Banton\",\n",
        "    \"Sizzla\",\n",
        "    \"Capleton\",\n",
        "    \"Dennis Brown\",\n",
        "    \"Beres Hammond\",\n",
        "    \"Alpha Blondy\",\n",
        "    \"Alborosie\",\n",
        "    \"Damian Marley\",\n",
        "    \"Stephen Marley\",\n",
        "    \"Jimmy Cliff\",\n",
        "    \"Steel Pulse\",\n",
        "    \"Culture\",\n",
        "    \"Protoje\"\n",
        "  ]\n",
        "}"
      ],
      "metadata": {
        "id": "rdlP6FpY0os9"
      },
      "execution_count": null,
      "outputs": []
    },
    {
      "cell_type": "markdown",
      "source": [
        "Analysis of Edge Cases in the Data:"
      ],
      "metadata": {
        "id": "GlapXu6V0vKL"
      }
    },
    {
      "cell_type": "markdown",
      "source": [
        "Non-ASCII Characters:\n",
        "\n",
        "Several artist names contain accents or diacritics:\n",
        "Plácido Domingo (opera)\n",
        "Renée Fleming (opera)\n",
        "José Carreras (opera)\n",
        "Montserrat Caballé (opera)\n",
        "Juan Diego Flórez (opera)\n",
        "Elīna Garanča (opera)\n",
        "Björk (electronic)\n",
        "Solution: The normalization function needs to be updated to handle these characters using unicodedata.normalize."
      ],
      "metadata": {
        "id": "YsQzltij0c7n"
      }
    },
    {
      "cell_type": "markdown",
      "source": [],
      "metadata": {
        "id": "XYZsPlYz0v78"
      }
    },
    {
      "cell_type": "markdown",
      "source": [
        "Hyphens and Apostrophes:\n",
        "\n",
        "Artist names with hyphens:\n",
        "Jean-Michel Jarre (electronic)\n",
        "Solution: The regex should be modified to preserve hyphens."
      ],
      "metadata": {
        "id": "tTwKajdf0ip8"
      }
    },
    {
      "cell_type": "markdown",
      "source": [
        "Artist Aliases and Stage Names:\n",
        "\n",
        "No apparent aliases or stage names in this dataset.\n",
        "Solution: You might need to consider this if you expand the dataset or encounter aliases in real-world scenarios."
      ],
      "metadata": {
        "id": "a_HEQA_G0qyZ"
      }
    },
    {
      "cell_type": "markdown",
      "source": [
        "Setup Environment"
      ],
      "metadata": {
        "id": "tGW4Iwg_bd38"
      }
    },
    {
      "cell_type": "code",
      "source": [
        "!pip install transformers torch scikit-learn pandas numpy"
      ],
      "metadata": {
        "colab": {
          "base_uri": "https://localhost:8080/"
        },
        "id": "aUBrvVtRbXS9",
        "outputId": "70cb063f-4292-482a-8553-e924786a7279"
      },
      "execution_count": null,
      "outputs": [
        {
          "output_type": "stream",
          "name": "stdout",
          "text": [
            "Requirement already satisfied: transformers in /usr/local/lib/python3.10/dist-packages (4.47.1)\n",
            "Requirement already satisfied: torch in /usr/local/lib/python3.10/dist-packages (2.5.1+cu121)\n",
            "Requirement already satisfied: scikit-learn in /usr/local/lib/python3.10/dist-packages (1.6.0)\n",
            "Requirement already satisfied: pandas in /usr/local/lib/python3.10/dist-packages (2.2.2)\n",
            "Requirement already satisfied: numpy in /usr/local/lib/python3.10/dist-packages (1.26.4)\n",
            "Requirement already satisfied: filelock in /usr/local/lib/python3.10/dist-packages (from transformers) (3.16.1)\n",
            "Requirement already satisfied: huggingface-hub<1.0,>=0.24.0 in /usr/local/lib/python3.10/dist-packages (from transformers) (0.27.0)\n",
            "Requirement already satisfied: packaging>=20.0 in /usr/local/lib/python3.10/dist-packages (from transformers) (24.2)\n",
            "Requirement already satisfied: pyyaml>=5.1 in /usr/local/lib/python3.10/dist-packages (from transformers) (6.0.2)\n",
            "Requirement already satisfied: regex!=2019.12.17 in /usr/local/lib/python3.10/dist-packages (from transformers) (2024.11.6)\n",
            "Requirement already satisfied: requests in /usr/local/lib/python3.10/dist-packages (from transformers) (2.32.3)\n",
            "Requirement already satisfied: tokenizers<0.22,>=0.21 in /usr/local/lib/python3.10/dist-packages (from transformers) (0.21.0)\n",
            "Requirement already satisfied: safetensors>=0.4.1 in /usr/local/lib/python3.10/dist-packages (from transformers) (0.4.5)\n",
            "Requirement already satisfied: tqdm>=4.27 in /usr/local/lib/python3.10/dist-packages (from transformers) (4.67.1)\n",
            "Requirement already satisfied: typing-extensions>=4.8.0 in /usr/local/lib/python3.10/dist-packages (from torch) (4.12.2)\n",
            "Requirement already satisfied: networkx in /usr/local/lib/python3.10/dist-packages (from torch) (3.4.2)\n",
            "Requirement already satisfied: jinja2 in /usr/local/lib/python3.10/dist-packages (from torch) (3.1.4)\n",
            "Requirement already satisfied: fsspec in /usr/local/lib/python3.10/dist-packages (from torch) (2024.10.0)\n",
            "Requirement already satisfied: sympy==1.13.1 in /usr/local/lib/python3.10/dist-packages (from torch) (1.13.1)\n",
            "Requirement already satisfied: mpmath<1.4,>=1.1.0 in /usr/local/lib/python3.10/dist-packages (from sympy==1.13.1->torch) (1.3.0)\n",
            "Requirement already satisfied: scipy>=1.6.0 in /usr/local/lib/python3.10/dist-packages (from scikit-learn) (1.13.1)\n",
            "Requirement already satisfied: joblib>=1.2.0 in /usr/local/lib/python3.10/dist-packages (from scikit-learn) (1.4.2)\n",
            "Requirement already satisfied: threadpoolctl>=3.1.0 in /usr/local/lib/python3.10/dist-packages (from scikit-learn) (3.5.0)\n",
            "Requirement already satisfied: python-dateutil>=2.8.2 in /usr/local/lib/python3.10/dist-packages (from pandas) (2.8.2)\n",
            "Requirement already satisfied: pytz>=2020.1 in /usr/local/lib/python3.10/dist-packages (from pandas) (2024.2)\n",
            "Requirement already satisfied: tzdata>=2022.7 in /usr/local/lib/python3.10/dist-packages (from pandas) (2024.2)\n",
            "Requirement already satisfied: six>=1.5 in /usr/local/lib/python3.10/dist-packages (from python-dateutil>=2.8.2->pandas) (1.17.0)\n",
            "Requirement already satisfied: MarkupSafe>=2.0 in /usr/local/lib/python3.10/dist-packages (from jinja2->torch) (3.0.2)\n",
            "Requirement already satisfied: charset-normalizer<4,>=2 in /usr/local/lib/python3.10/dist-packages (from requests->transformers) (3.4.0)\n",
            "Requirement already satisfied: idna<4,>=2.5 in /usr/local/lib/python3.10/dist-packages (from requests->transformers) (3.10)\n",
            "Requirement already satisfied: urllib3<3,>=1.21.1 in /usr/local/lib/python3.10/dist-packages (from requests->transformers) (2.2.3)\n",
            "Requirement already satisfied: certifi>=2017.4.17 in /usr/local/lib/python3.10/dist-packages (from requests->transformers) (2024.12.14)\n"
          ]
        }
      ]
    },
    {
      "cell_type": "markdown",
      "source": [
        "## Step 1 -- Process Data\n",
        "\n",
        "Preprocess the data and compute an embedding vector from each artist name. We suggest using the text encoder from [open_clip](https://github.com/mlfoundations/open_clip) and saving as a pandas dataframe."
      ],
      "metadata": {
        "id": "PrKmg6s90rqS"
      }
    },
    {
      "cell_type": "code",
      "source": [
        "# Your code here!\n",
        "# Install packages\n",
        "%%capture\n",
        "!pip install argh open_clip_torch openai pandas plotly-express torch umap-learn"
      ],
      "metadata": {
        "id": "7BCtbfWzyHGZ"
      },
      "execution_count": null,
      "outputs": []
    },
    {
      "cell_type": "code",
      "source": [
        "from tqdm import tqdm\n",
        "# import logging\n",
        "# import pytest"
      ],
      "metadata": {
        "id": "PClVESgOtSRQ"
      },
      "execution_count": null,
      "outputs": []
    },
    {
      "cell_type": "markdown",
      "source": [
        "## clean data\n",
        "To remove inconsistencies, errors, or irrelevant information in the dataset.\n",
        "\n"
      ],
      "metadata": {
        "id": "WCyOoSX4dDbb"
      }
    },
    {
      "cell_type": "code",
      "source": [
        "# Your code here!\n",
        "import pandas as pd\n",
        "\n",
        "# Transform data into a DataFrame\n",
        "data = []\n",
        "for genre, artists in DATA.items():\n",
        "    for artist in artists:\n",
        "        artist_name = artist.split(\". \")[-1] if \". \" in artist else artist\n",
        "        data.append({\"artist_name\": artist_name.lower(), \"genre\": genre.lower()})\n",
        "\n",
        "df = pd.DataFrame(data)\n",
        "print(df.head())\n"
      ],
      "metadata": {
        "colab": {
          "base_uri": "https://localhost:8080/"
        },
        "id": "4zXpB19SdCbq",
        "outputId": "ba0a560e-c70b-49ae-ad05-ac1f0760af24"
      },
      "execution_count": null,
      "outputs": [
        {
          "output_type": "stream",
          "name": "stdout",
          "text": [
            "       artist_name genre\n",
            "0      miles davis  jazz\n",
            "1    john coltrane  jazz\n",
            "2  louis armstrong  jazz\n",
            "3   duke ellington  jazz\n",
            "4   charlie parker  jazz\n"
          ]
        }
      ]
    },
    {
      "cell_type": "code",
      "source": [
        "len(df)"
      ],
      "metadata": {
        "colab": {
          "base_uri": "https://localhost:8080/"
        },
        "id": "m_0uUeCyiFOA",
        "outputId": "62226780-0d71-4b14-919d-8831bbc126b6"
      },
      "execution_count": null,
      "outputs": [
        {
          "output_type": "execute_result",
          "data": {
            "text/plain": [
              "160"
            ]
          },
          "metadata": {},
          "execution_count": 84
        }
      ]
    },
    {
      "cell_type": "code",
      "source": [
        "# Remove Numbers and Extra Characters\n",
        "# Normalize Text\n",
        "# Make sure there are no duplicate artist names within or across genres\n",
        "import re\n",
        "import unicodedata\n",
        "\n",
        "def normalize_artist_name(name):\n",
        "    name = unicodedata.normalize('NFKD', name).encode('ascii', 'ignore').decode('ascii')  # Handle non-ASCII\n",
        "    name = name.lower()\n",
        "    name = re.sub(r\"^\\d+\\. \", \"\", name, flags=re.IGNORECASE)  # Remove leading numbers and dot\n",
        "    name = re.sub(r'[^\\w\\s\\'-]', '', name)  # Remove punctuation, keep hyphens and apostrophes\n",
        "    name = name.strip()\n",
        "    return name"
      ],
      "metadata": {
        "id": "vh5iskF1y-IG"
      },
      "execution_count": null,
      "outputs": []
    },
    {
      "cell_type": "code",
      "source": [
        "df['artist_name'] = df['artist_name'].apply(normalize_artist_name)"
      ],
      "metadata": {
        "id": "7QS8TwyB1Fga"
      },
      "execution_count": null,
      "outputs": []
    },
    {
      "cell_type": "markdown",
      "source": [
        "## Data validation\n",
        "To ensure the dataset is complete and consistent for training."
      ],
      "metadata": {
        "id": "0w_yIaMmiz3u"
      }
    },
    {
      "cell_type": "code",
      "source": [
        "# Check for Missing Values (names or genres) in any colum\n",
        "if df.isnull().any().any():\n",
        "    print(\"Missing values detected!\")\n",
        "    df = df.dropna()"
      ],
      "metadata": {
        "id": "eoUNl8LMinN0"
      },
      "execution_count": null,
      "outputs": []
    },
    {
      "source": [
        " # Handle invalid genres (e.g., correct, remove, or map to allowed genres)\n",
        "allowed_genres = {'jazz', 'opera', 'country', 'electronic', 'metal', 'rap', 'classical', 'reggae'}\n",
        "invalid_genres = set(df['genre'].unique()) - allowed_genres\n",
        "if invalid_genres:\n",
        "      print(f\"Invalid genres found: {invalid_genres}\")"
      ],
      "cell_type": "code",
      "metadata": {
        "id": "IZi3VjG_4fFn"
      },
      "execution_count": null,
      "outputs": []
    },
    {
      "source": [
        "if df.duplicated(subset=['artist_name']).any():\n",
        "         print(\"Duplicate artist names found!\")"
      ],
      "cell_type": "code",
      "metadata": {
        "id": "3BtFgkiK46vX"
      },
      "execution_count": null,
      "outputs": []
    },
    {
      "cell_type": "code",
      "source": [
        "assert df['artist_name'].isnull().sum() == 0, \"Missing artist names detected!\"\n",
        "assert df['genre'].isnull().sum() == 0, \"Missing genres detected!\"\n",
        "assert len(df['artist_name'].unique()) == len(df['artist_name']), \"Duplicate artist names detected!\""
      ],
      "metadata": {
        "id": "xTJhsszonqPC"
      },
      "execution_count": null,
      "outputs": []
    },
    {
      "cell_type": "code",
      "source": [
        "# Balance the Dataset\n",
        "# If not balanced, consider oversampling (SMOTE) or undersampling to balance\n",
        "genre_counts = df['genre'].value_counts()\n",
        "print(genre_counts)"
      ],
      "metadata": {
        "colab": {
          "base_uri": "https://localhost:8080/"
        },
        "id": "rRxTuZ9Ei7q3",
        "outputId": "c835f361-98d0-4dfe-b18a-7d3710240cc7"
      },
      "execution_count": null,
      "outputs": [
        {
          "output_type": "stream",
          "name": "stdout",
          "text": [
            "genre\n",
            "jazz          20\n",
            "opera         20\n",
            "country       20\n",
            "electronic    20\n",
            "metal         20\n",
            "rap           20\n",
            "classical     20\n",
            "reggae        20\n",
            "Name: count, dtype: int64\n"
          ]
        }
      ]
    },
    {
      "cell_type": "code",
      "source": [
        "# To understand the dataset better and catch imbalances early.\n",
        "import matplotlib.pyplot as plt\n",
        "\n",
        "df['genre'].value_counts().plot(kind='bar', title=\"Genre Distribution\")\n",
        "plt.xlabel(\"Genre\")\n",
        "plt.ylabel(\"Count\")\n",
        "plt.show()"
      ],
      "metadata": {
        "id": "oVEnqrJe62bC",
        "colab": {
          "base_uri": "https://localhost:8080/",
          "height": 526
        },
        "outputId": "40ecdb38-220c-4a93-b9b1-5bde5fff8294"
      },
      "execution_count": null,
      "outputs": [
        {
          "output_type": "display_data",
          "data": {
            "text/plain": [
              "<Figure size 640x480 with 1 Axes>"
            ],
            "image/png": "[encoded data removed]"
          },
          "metadata": {}
        }
      ]
    },
    {
      "source": [
        "print(df.dtypes)\n",
        "# Enforce data types if necessary (e.g., using `astype`)"
      ],
      "cell_type": "code",
      "metadata": {
        "colab": {
          "base_uri": "https://localhost:8080/"
        },
        "id": "Po248YhQ5kVT",
        "outputId": "b995b60d-f34d-44ee-b652-d7cb4fd75056"
      },
      "execution_count": null,
      "outputs": [
        {
          "output_type": "stream",
          "name": "stdout",
          "text": [
            "artist_name    object\n",
            "genre          object\n",
            "dtype: object\n"
          ]
        }
      ]
    },
    {
      "source": [
        "df['genre'] = df['genre'].astype('category')"
      ],
      "cell_type": "code",
      "metadata": {
        "id": "KEcHzmiH7ZmQ"
      },
      "execution_count": null,
      "outputs": []
    },
    {
      "source": [
        "df.to_pickle(\"artist_genre_data.pkl\")"
      ],
      "cell_type": "code",
      "metadata": {
        "id": "XM9BoiBXvXD9"
      },
      "execution_count": null,
      "outputs": []
    },
    {
      "cell_type": "code",
      "source": [
        "df.to_csv(\"artist_genre_data.csv\", index=False, encoding='utf-8')"
      ],
      "metadata": {
        "id": "L2ylkVaawVF_"
      },
      "execution_count": null,
      "outputs": []
    },
    {
      "cell_type": "markdown",
      "source": [
        "This step converts categorical labels (genres) into numerical values so they can be processed by machine learning models, which operate on numerical data rather than strings"
      ],
      "metadata": {
        "id": "Dna0u7w73iUd"
      }
    },
    {
      "cell_type": "code",
      "source": [
        "from sklearn.preprocessing import LabelEncoder\n",
        "label_encoder = LabelEncoder()\n",
        "df['genre_encoded'] = label_encoder.fit_transform(df['genre'])"
      ],
      "metadata": {
        "id": "J-ShLryI37W3"
      },
      "execution_count": null,
      "outputs": []
    },
    {
      "source": [
        "from sklearn.preprocessing import LabelEncoder\n",
        "label_encoder = LabelEncoder()\n",
        "\n",
        "# Fit the encoder to your genre labels\n",
        "label_encoder.fit(df['genre'])\n",
        "df['genre_encoded'] = label_encoder.transform(df['genre'])"
      ],
      "cell_type": "code",
      "metadata": {
        "id": "a_CoAyy58UhD"
      },
      "execution_count": null,
      "outputs": []
    },
    {
      "cell_type": "code",
      "source": [
        "df.head()"
      ],
      "metadata": {
        "colab": {
          "base_uri": "https://localhost:8080/",
          "height": 206
        },
        "id": "SfT9NgPV8hA5",
        "outputId": "2b6b5bd4-d43e-4171-fc1b-04f8291f91b5"
      },
      "execution_count": null,
      "outputs": [
        {
          "output_type": "execute_result",
          "data": {
            "text/plain": [
              "       artist_name genre  genre_encoded\n",
              "0      miles davis  jazz              3\n",
              "1    john coltrane  jazz              3\n",
              "2  louis armstrong  jazz              3\n",
              "3   duke ellington  jazz              3\n",
              "4   charlie parker  jazz              3"
            ],
            "text/html": [
              "\n",
              "  <div id=\"df-381185fb-9729-4e05-b772-cd74a75323b9\" class=\"colab-df-container\">\n",
              "    <div>\n",
              "<style scoped>\n",
              "    .dataframe tbody tr th:only-of-type {\n",
              "        vertical-align: middle;\n",
              "    }\n",
              "\n",
              "    .dataframe tbody tr th {\n",
              "        vertical-align: top;\n",
              "    }\n",
              "\n",
              "    .dataframe thead th {\n",
              "        text-align: right;\n",
              "    }\n",
              "</style>\n",
              "<table border=\"1\" class=\"dataframe\">\n",
              "  <thead>\n",
              "    <tr style=\"text-align: right;\">\n",
              "      <th></th>\n",
              "      <th>artist_name</th>\n",
              "      <th>genre</th>\n",
              "      <th>genre_encoded</th>\n",
              "    </tr>\n",
              "  </thead>\n",
              "  <tbody>\n",
              "    <tr>\n",
              "      <th>0</th>\n",
              "      <td>miles davis</td>\n",
              "      <td>jazz</td>\n",
              "      <td>3</td>\n",
              "    </tr>\n",
              "    <tr>\n",
              "      <th>1</th>\n",
              "      <td>john coltrane</td>\n",
              "      <td>jazz</td>\n",
              "      <td>3</td>\n",
              "    </tr>\n",
              "    <tr>\n",
              "      <th>2</th>\n",
              "      <td>louis armstrong</td>\n",
              "      <td>jazz</td>\n",
              "      <td>3</td>\n",
              "    </tr>\n",
              "    <tr>\n",
              "      <th>3</th>\n",
              "      <td>duke ellington</td>\n",
              "      <td>jazz</td>\n",
              "      <td>3</td>\n",
              "    </tr>\n",
              "    <tr>\n",
              "      <th>4</th>\n",
              "      <td>charlie parker</td>\n",
              "      <td>jazz</td>\n",
              "      <td>3</td>\n",
              "    </tr>\n",
              "  </tbody>\n",
              "</table>\n",
              "</div>\n",
              "    <div class=\"colab-df-buttons\">\n",
              "\n",
              "  <div class=\"colab-df-container\">\n",
              "    <button class=\"colab-df-convert\" onclick=\"convertToInteractive('df-381185fb-9729-4e05-b772-cd74a75323b9')\"\n",
              "            title=\"Convert this dataframe to an interactive table.\"\n",
              "            style=\"display:none;\">\n",
              "\n",
              "  <svg xmlns=\"http://www.w3.org/2000/svg\" height=\"24px\" viewBox=\"0 -960 960 960\">\n",
              "    <path d=\"M120-120v-720h720v720H120Zm60-500h600v-160H180v160Zm220 220h160v-160H400v160Zm0 220h160v-160H400v160ZM180-400h160v-160H180v160Zm440 0h160v-160H620v160ZM180-180h160v-160H180v160Zm440 0h160v-160H620v160Z\"/>\n",
              "  </svg>\n",
              "    </button>\n",
              "\n",
              "  <style>\n",
              "    .colab-df-container {\n",
              "      display:flex;\n",
              "      gap: 12px;\n",
              "    }\n",
              "\n",
              "    .colab-df-convert {\n",
              "      background-color: #E8F0FE;\n",
              "      border: none;\n",
              "      border-radius: 50%;\n",
              "      cursor: pointer;\n",
              "      display: none;\n",
              "      fill: #1967D2;\n",
              "      height: 32px;\n",
              "      padding: 0 0 0 0;\n",
              "      width: 32px;\n",
              "    }\n",
              "\n",
              "    .colab-df-convert:hover {\n",
              "      background-color: #E2EBFA;\n",
              "      box-shadow: 0px 1px 2px rgba(60, 64, 67, 0.3), 0px 1px 3px 1px rgba(60, 64, 67, 0.15);\n",
              "      fill: #174EA6;\n",
              "    }\n",
              "\n",
              "    .colab-df-buttons div {\n",
              "      margin-bottom: 4px;\n",
              "    }\n",
              "\n",
              "    [theme=dark] .colab-df-convert {\n",
              "      background-color: #3B4455;\n",
              "      fill: #D2E3FC;\n",
              "    }\n",
              "\n",
              "    [theme=dark] .colab-df-convert:hover {\n",
              "      background-color: #434B5C;\n",
              "      box-shadow: 0px 1px 3px 1px rgba(0, 0, 0, 0.15);\n",
              "      filter: drop-shadow(0px 1px 2px rgba(0, 0, 0, 0.3));\n",
              "      fill: #FFFFFF;\n",
              "    }\n",
              "  </style>\n",
              "\n",
              "    <script>\n",
              "      const buttonEl =\n",
              "        document.querySelector('#df-381185fb-9729-4e05-b772-cd74a75323b9 button.colab-df-convert');\n",
              "      buttonEl.style.display =\n",
              "        google.colab.kernel.accessAllowed ? 'block' : 'none';\n",
              "\n",
              "      async function convertToInteractive(key) {\n",
              "        const element = document.querySelector('#df-381185fb-9729-4e05-b772-cd74a75323b9');\n",
              "        const dataTable =\n",
              "          await google.colab.kernel.invokeFunction('convertToInteractive',\n",
              "                                                    [key], {});\n",
              "        if (!dataTable) return;\n",
              "\n",
              "        const docLinkHtml = 'Like what you see? Visit the ' +\n",
              "          '<a target=\"_blank\" href=https://colab.research.google.com/notebooks/data_table.ipynb>data table notebook</a>'\n",
              "          + ' to learn more about interactive tables.';\n",
              "        element.innerHTML = '';\n",
              "        dataTable['output_type'] = 'display_data';\n",
              "        await google.colab.output.renderOutput(dataTable, element);\n",
              "        const docLink = document.createElement('div');\n",
              "        docLink.innerHTML = docLinkHtml;\n",
              "        element.appendChild(docLink);\n",
              "      }\n",
              "    </script>\n",
              "  </div>\n",
              "\n",
              "\n",
              "<div id=\"df-389f7076-d3b0-4442-a41a-ec933003320a\">\n",
              "  <button class=\"colab-df-quickchart\" onclick=\"quickchart('df-389f7076-d3b0-4442-a41a-ec933003320a')\"\n",
              "            title=\"Suggest charts\"\n",
              "            style=\"display:none;\">\n",
              "\n",
              "<svg xmlns=\"http://www.w3.org/2000/svg\" height=\"24px\"viewBox=\"0 0 24 24\"\n",
              "     width=\"24px\">\n",
              "    <g>\n",
              "        <path d=\"M19 3H5c-1.1 0-2 .9-2 2v14c0 1.1.9 2 2 2h14c1.1 0 2-.9 2-2V5c0-1.1-.9-2-2-2zM9 17H7v-7h2v7zm4 0h-2V7h2v10zm4 0h-2v-4h2v4z\"/>\n",
              "    </g>\n",
              "</svg>\n",
              "  </button>\n",
              "\n",
              "<style>\n",
              "  .colab-df-quickchart {\n",
              "      --bg-color: #E8F0FE;\n",
              "      --fill-color: #1967D2;\n",
              "      --hover-bg-color: #E2EBFA;\n",
              "      --hover-fill-color: #174EA6;\n",
              "      --disabled-fill-color: #AAA;\n",
              "      --disabled-bg-color: #DDD;\n",
              "  }\n",
              "\n",
              "  [theme=dark] .colab-df-quickchart {\n",
              "      --bg-color: #3B4455;\n",
              "      --fill-color: #D2E3FC;\n",
              "      --hover-bg-color: #434B5C;\n",
              "      --hover-fill-color: #FFFFFF;\n",
              "      --disabled-bg-color: #3B4455;\n",
              "      --disabled-fill-color: #666;\n",
              "  }\n",
              "\n",
              "  .colab-df-quickchart {\n",
              "    background-color: var(--bg-color);\n",
              "    border: none;\n",
              "    border-radius: 50%;\n",
              "    cursor: pointer;\n",
              "    display: none;\n",
              "    fill: var(--fill-color);\n",
              "    height: 32px;\n",
              "    padding: 0;\n",
              "    width: 32px;\n",
              "  }\n",
              "\n",
              "  .colab-df-quickchart:hover {\n",
              "    background-color: var(--hover-bg-color);\n",
              "    box-shadow: 0 1px 2px rgba(60, 64, 67, 0.3), 0 1px 3px 1px rgba(60, 64, 67, 0.15);\n",
              "    fill: var(--button-hover-fill-color);\n",
              "  }\n",
              "\n",
              "  .colab-df-quickchart-complete:disabled,\n",
              "  .colab-df-quickchart-complete:disabled:hover {\n",
              "    background-color: var(--disabled-bg-color);\n",
              "    fill: var(--disabled-fill-color);\n",
              "    box-shadow: none;\n",
              "  }\n",
              "\n",
              "  .colab-df-spinner {\n",
              "    border: 2px solid var(--fill-color);\n",
              "    border-color: transparent;\n",
              "    border-bottom-color: var(--fill-color);\n",
              "    animation:\n",
              "      spin 1s steps(1) infinite;\n",
              "  }\n",
              "\n",
              "  @keyframes spin {\n",
              "    0% {\n",
              "      border-color: transparent;\n",
              "      border-bottom-color: var(--fill-color);\n",
              "      border-left-color: var(--fill-color);\n",
              "    }\n",
              "    20% {\n",
              "      border-color: transparent;\n",
              "      border-left-color: var(--fill-color);\n",
              "      border-top-color: var(--fill-color);\n",
              "    }\n",
              "    30% {\n",
              "      border-color: transparent;\n",
              "      border-left-color: var(--fill-color);\n",
              "      border-top-color: var(--fill-color);\n",
              "      border-right-color: var(--fill-color);\n",
              "    }\n",
              "    40% {\n",
              "      border-color: transparent;\n",
              "      border-right-color: var(--fill-color);\n",
              "      border-top-color: var(--fill-color);\n",
              "    }\n",
              "    60% {\n",
              "      border-color: transparent;\n",
              "      border-right-color: var(--fill-color);\n",
              "    }\n",
              "    80% {\n",
              "      border-color: transparent;\n",
              "      border-right-color: var(--fill-color);\n",
              "      border-bottom-color: var(--fill-color);\n",
              "    }\n",
              "    90% {\n",
              "      border-color: transparent;\n",
              "      border-bottom-color: var(--fill-color);\n",
              "    }\n",
              "  }\n",
              "</style>\n",
              "\n",
              "  <script>\n",
              "    async function quickchart(key) {\n",
              "      const quickchartButtonEl =\n",
              "        document.querySelector('#' + key + ' button');\n",
              "      quickchartButtonEl.disabled = true;  // To prevent multiple clicks.\n",
              "      quickchartButtonEl.classList.add('colab-df-spinner');\n",
              "      try {\n",
              "        const charts = await google.colab.kernel.invokeFunction(\n",
              "            'suggestCharts', [key], {});\n",
              "      } catch (error) {\n",
              "        console.error('Error during call to suggestCharts:', error);\n",
              "      }\n",
              "      quickchartButtonEl.classList.remove('colab-df-spinner');\n",
              "      quickchartButtonEl.classList.add('colab-df-quickchart-complete');\n",
              "    }\n",
              "    (() => {\n",
              "      let quickchartButtonEl =\n",
              "        document.querySelector('#df-389f7076-d3b0-4442-a41a-ec933003320a button');\n",
              "      quickchartButtonEl.style.display =\n",
              "        google.colab.kernel.accessAllowed ? 'block' : 'none';\n",
              "    })();\n",
              "  </script>\n",
              "</div>\n",
              "\n",
              "    </div>\n",
              "  </div>\n"
            ],
            "application/vnd.google.colaboratory.intrinsic+json": {
              "type": "dataframe",
              "variable_name": "df",
              "summary": "{\n  \"name\": \"df\",\n  \"rows\": 160,\n  \"fields\": [\n    {\n      \"column\": \"artist_name\",\n      \"properties\": {\n        \"dtype\": \"string\",\n        \"num_unique_values\": 160,\n        \"samples\": [\n          \"jay-z\",\n          \"lil wayne\",\n          \"peter tosh\"\n        ],\n        \"semantic_type\": \"\",\n        \"description\": \"\"\n      }\n    },\n    {\n      \"column\": \"genre\",\n      \"properties\": {\n        \"dtype\": \"category\",\n        \"num_unique_values\": 8,\n        \"samples\": [\n          \"opera\",\n          \"rap\",\n          \"jazz\"\n        ],\n        \"semantic_type\": \"\",\n        \"description\": \"\"\n      }\n    },\n    {\n      \"column\": \"genre_encoded\",\n      \"properties\": {\n        \"dtype\": \"number\",\n        \"std\": 2,\n        \"min\": 0,\n        \"max\": 7,\n        \"num_unique_values\": 8,\n        \"samples\": [\n          5,\n          6,\n          3\n        ],\n        \"semantic_type\": \"\",\n        \"description\": \"\"\n      }\n    }\n  ]\n}"
            }
          },
          "metadata": {},
          "execution_count": 18
        }
      ]
    },
    {
      "source": [
        "# @title genre_encoded\n",
        "\n",
        "from matplotlib import pyplot as plt\n",
        "df['genre_encoded'].plot(kind='hist', bins=20, title='genre_encoded')\n",
        "plt.gca().spines[['top', 'right',]].set_visible(False)"
      ],
      "cell_type": "code",
      "execution_count": null,
      "outputs": [
        {
          "output_type": "display_data",
          "data": {
            "text/plain": [
              "<Figure size 640x480 with 1 Axes>"
            ],
            "image/png": "[encoded data removed]"
          },
          "metadata": {}
        }
      ],
      "metadata": {
        "cellView": "form",
        "colab": {
          "base_uri": "https://localhost:8080/",
          "height": 452
        },
        "id": "6oWzsFwg7WqX",
        "outputId": "b24fd8ad-59e5-4873-b544-e8ea985356d7"
      }
    },
    {
      "cell_type": "markdown",
      "source": [
        "## Data split (test, training, validation)\n",
        "To ensure fair evaluation and prevent overfitting."
      ],
      "metadata": {
        "id": "4ewSzsawo0N2"
      }
    },
    {
      "cell_type": "code",
      "source": [
        "from sklearn.model_selection import train_test_split\n",
        "\n",
        "X = df['artist_name']\n",
        "y = df['genre_encoded']\n",
        "\n",
        "X_train, X_temp, y_train, y_temp = train_test_split(\n",
        "    X, y, test_size=0.3, stratify=y, random_state=42\n",
        ")\n",
        "\n",
        "# Second split: Validation and test\n",
        "X_val, X_test, y_val, y_test = train_test_split(\n",
        "    X_temp, y_temp, test_size=0.5, stratify=y_temp, random_state=42\n",
        ")\n",
        "\n",
        "# Output split sizes\n",
        "print(f\"Training Set: {len(X_train)}\")\n",
        "print(f\"Validation Set: {len(X_val)}\")\n",
        "print(f\"Testing Set: {len(X_test)}\")"
      ],
      "metadata": {
        "colab": {
          "base_uri": "https://localhost:8080/"
        },
        "id": "e3Mf-BB5ozAz",
        "outputId": "ada60f71-180e-465a-f4b2-643696220d21"
      },
      "execution_count": null,
      "outputs": [
        {
          "output_type": "stream",
          "name": "stdout",
          "text": [
            "Training Set: 112\n",
            "Validation Set: 24\n",
            "Testing Set: 24\n"
          ]
        }
      ]
    },
    {
      "cell_type": "markdown",
      "source": [
        "## Step 2 -- Visualize Embeddings\n",
        "\n",
        " Visualize the embeddings in a 2D projection space. We suggest using [umap](https://github.com/lmcinnes/umap) and [plotly express](https://plotly.com/python/plotly-express/)."
      ],
      "metadata": {
        "id": "57z2zGIi2esy"
      }
    },
    {
      "cell_type": "markdown",
      "source": [
        "To ensure compatibility with the embedding model."
      ],
      "metadata": {
        "id": "zDfCShUEqHWO"
      }
    },
    {
      "cell_type": "markdown",
      "source": [
        "## Could consider using another CLIP implementation, such as Hugging Face's CLIP:"
      ],
      "metadata": {
        "id": "UTIoB_y_vv0G"
      }
    },
    {
      "cell_type": "markdown",
      "source": [
        "Patch 14 models: are better at capturing fine-grained details in images, which can be beneficial for tasks where subtle visual differences are important.\n",
        "\n",
        "Patch 32 models: might be better at capturing global context and relationships between larger regions of the image due to their coarser representation."
      ],
      "metadata": {
        "id": "8k8Sj3EtxJ8O"
      }
    },
    {
      "cell_type": "code",
      "source": [
        "import torch\n",
        "from transformers import CLIPProcessor, CLIPModel\n",
        "# Load the Hugging Face CLIP model and processor\n",
        "model = CLIPModel.from_pretrained(\"openai/clip-vit-base-patch32\")\n",
        "processor = CLIPProcessor.from_pretrained(\"openai/clip-vit-base-patch32\")\n",
        "\n",
        "# Move model to the correct device\n",
        "device = torch.device(\"cuda\" if torch.cuda.is_available() else \"cpu\")\n",
        "model.to(device)"
      ],
      "metadata": {
        "colab": {
          "base_uri": "https://localhost:8080/"
        },
        "id": "CDzQgtpZ5ydL",
        "outputId": "7288cd6e-19c4-4485-f267-4b91a1cc639b"
      },
      "execution_count": null,
      "outputs": [
        {
          "output_type": "stream",
          "name": "stderr",
          "text": [
            "/usr/local/lib/python3.10/dist-packages/huggingface_hub/utils/_auth.py:94: UserWarning: \n",
            "The secret `HF_TOKEN` does not exist in your Colab secrets.\n",
            "To authenticate with the Hugging Face Hub, create a token in your settings tab (https://huggingface.co/settings/tokens), set it as secret in your Google Colab and restart your session.\n",
            "You will be able to reuse this secret in all of your notebooks.\n",
            "Please note that authentication is recommended but still optional to access public models or datasets.\n",
            "  warnings.warn(\n"
          ]
        },
        {
          "output_type": "execute_result",
          "data": {
            "text/plain": [
              "CLIPModel(\n",
              "  (text_model): CLIPTextTransformer(\n",
              "    (embeddings): CLIPTextEmbeddings(\n",
              "      (token_embedding): Embedding(49408, 512)\n",
              "      (position_embedding): Embedding(77, 512)\n",
              "    )\n",
              "    (encoder): CLIPEncoder(\n",
              "      (layers): ModuleList(\n",
              "        (0-11): 12 x CLIPEncoderLayer(\n",
              "          (self_attn): CLIPSdpaAttention(\n",
              "            (k_proj): Linear(in_features=512, out_features=512, bias=True)\n",
              "            (v_proj): Linear(in_features=512, out_features=512, bias=True)\n",
              "            (q_proj): Linear(in_features=512, out_features=512, bias=True)\n",
              "            (out_proj): Linear(in_features=512, out_features=512, bias=True)\n",
              "          )\n",
              "          (layer_norm1): LayerNorm((512,), eps=1e-05, elementwise_affine=True)\n",
              "          (mlp): CLIPMLP(\n",
              "            (activation_fn): QuickGELUActivation()\n",
              "            (fc1): Linear(in_features=512, out_features=2048, bias=True)\n",
              "            (fc2): Linear(in_features=2048, out_features=512, bias=True)\n",
              "          )\n",
              "          (layer_norm2): LayerNorm((512,), eps=1e-05, elementwise_affine=True)\n",
              "        )\n",
              "      )\n",
              "    )\n",
              "    (final_layer_norm): LayerNorm((512,), eps=1e-05, elementwise_affine=True)\n",
              "  )\n",
              "  (vision_model): CLIPVisionTransformer(\n",
              "    (embeddings): CLIPVisionEmbeddings(\n",
              "      (patch_embedding): Conv2d(3, 768, kernel_size=(32, 32), stride=(32, 32), bias=False)\n",
              "      (position_embedding): Embedding(50, 768)\n",
              "    )\n",
              "    (pre_layrnorm): LayerNorm((768,), eps=1e-05, elementwise_affine=True)\n",
              "    (encoder): CLIPEncoder(\n",
              "      (layers): ModuleList(\n",
              "        (0-11): 12 x CLIPEncoderLayer(\n",
              "          (self_attn): CLIPSdpaAttention(\n",
              "            (k_proj): Linear(in_features=768, out_features=768, bias=True)\n",
              "            (v_proj): Linear(in_features=768, out_features=768, bias=True)\n",
              "            (q_proj): Linear(in_features=768, out_features=768, bias=True)\n",
              "            (out_proj): Linear(in_features=768, out_features=768, bias=True)\n",
              "          )\n",
              "          (layer_norm1): LayerNorm((768,), eps=1e-05, elementwise_affine=True)\n",
              "          (mlp): CLIPMLP(\n",
              "            (activation_fn): QuickGELUActivation()\n",
              "            (fc1): Linear(in_features=768, out_features=3072, bias=True)\n",
              "            (fc2): Linear(in_features=3072, out_features=768, bias=True)\n",
              "          )\n",
              "          (layer_norm2): LayerNorm((768,), eps=1e-05, elementwise_affine=True)\n",
              "        )\n",
              "      )\n",
              "    )\n",
              "    (post_layernorm): LayerNorm((768,), eps=1e-05, elementwise_affine=True)\n",
              "  )\n",
              "  (visual_projection): Linear(in_features=768, out_features=512, bias=False)\n",
              "  (text_projection): Linear(in_features=512, out_features=512, bias=False)\n",
              ")"
            ]
          },
          "metadata": {},
          "execution_count": 20
        }
      ]
    },
    {
      "cell_type": "code",
      "source": [
        "# Function to generate embeddings\n",
        "def get_embeddings(names, model, processor, device):\n",
        "    \"\"\"\n",
        "    Generate embeddings for a list of names using Hugging Face CLIP.\n",
        "    \"\"\"\n",
        "    # Use processor to tokenize text\n",
        "    inputs = processor(text=names, return_tensors=\"pt\", padding=True, truncation=True).to(device)\n",
        "    with torch.no_grad():\n",
        "        embeddings = model.get_text_features(**inputs).cpu().numpy()\n",
        "    return embeddings\n",
        "\n",
        "# Process artist names in batches\n",
        "batch_size = 32\n",
        "embeddings = []\n",
        "for i in range(0, len(df), batch_size):\n",
        "    batch = df['artist_name'][i:i + batch_size].tolist()\n",
        "    batch_embeddings = get_embeddings(batch, model, processor, device)\n",
        "    embeddings.extend(batch_embeddings)\n",
        "\n",
        "# Save embeddings to the DataFrame for future using convinience\n",
        "df['embedding'] = embeddings\n",
        "\n",
        "print(df.head())"
      ],
      "metadata": {
        "colab": {
          "base_uri": "https://localhost:8080/"
        },
        "id": "880618Ep5Y4E",
        "outputId": "26f9ede0-c62a-4eb9-fe62-483461b8ccae"
      },
      "execution_count": null,
      "outputs": [
        {
          "output_type": "stream",
          "name": "stdout",
          "text": [
            "       artist_name genre  genre_encoded  \\\n",
            "0      miles davis  jazz              3   \n",
            "1    john coltrane  jazz              3   \n",
            "2  louis armstrong  jazz              3   \n",
            "3   duke ellington  jazz              3   \n",
            "4   charlie parker  jazz              3   \n",
            "\n",
            "                                           embedding  \n",
            "0  [0.2691599, -0.12869686, 0.3563133, -0.1395286...  \n",
            "1  [-0.20646375, -0.06538744, -0.01170902, 0.2023...  \n",
            "2  [0.13602737, 0.07121844, -0.18579176, 0.119622...  \n",
            "3  [0.06530248, -0.018661574, 0.08508444, -0.0513...  \n",
            "4  [0.15168992, -0.2681878, -0.24202737, -0.39467...  \n"
          ]
        }
      ]
    },
    {
      "cell_type": "code",
      "source": [
        "# Define batch size for processing large datasets, even this project is small\n",
        "batch_size = 32\n",
        "\n",
        "def generate_embeddings_batched(data, batch_size):\n",
        "    embeddings = []\n",
        "    for i in range(0, len(data), batch_size):\n",
        "        batch = data[i:i + batch_size].tolist()\n",
        "        embeddings.extend(get_embeddings(batch, model, processor, device))\n",
        "    return embeddings\n",
        "\n",
        "# Generate embeddings for training, validation, and testing data\n",
        "embeddings_train = generate_embeddings_batched(X_train, batch_size)\n",
        "embeddings_val = generate_embeddings_batched(X_val, batch_size)\n",
        "embeddings_test = generate_embeddings_batched(X_test, batch_size)"
      ],
      "metadata": {
        "id": "fljJaStHH9iy"
      },
      "execution_count": null,
      "outputs": []
    },
    {
      "cell_type": "code",
      "source": [
        "torch.save((embeddings_train, y_train.tolist()), \"train_embeddings.pt\")\n",
        "torch.save((embeddings_val, y_val.tolist()), \"val_embeddings.pt\")\n",
        "torch.save((embeddings_test, y_test.tolist()), \"test_embeddings.pt\")\n",
        "\n",
        "print(\"Embeddings generated and saved successfully for training, validation, and testing!\")"
      ],
      "metadata": {
        "colab": {
          "base_uri": "https://localhost:8080/"
        },
        "id": "_xBAZuhe9__c",
        "outputId": "4561156a-fb5f-4dc1-ae53-f6e7863308d5"
      },
      "execution_count": null,
      "outputs": [
        {
          "output_type": "stream",
          "name": "stdout",
          "text": [
            "Embeddings generated and saved successfully for training, validation, and testing!\n"
          ]
        }
      ]
    },
    {
      "cell_type": "code",
      "source": [
        "# Load and inspect saved embeddings\n",
        "train_data = torch.load(\"train_embeddings.pt\")\n",
        "val_data = torch.load(\"val_embeddings.pt\")\n",
        "test_data = torch.load(\"test_embeddings.pt\")\n",
        "\n",
        "print(\"Train Embeddings Shape:\", len(train_data[0]))\n",
        "print(\"Validation Embeddings Shape:\", len(val_data[0]))\n",
        "print(\"Test Embeddings Shape:\", len(test_data[0]))"
      ],
      "metadata": {
        "colab": {
          "base_uri": "https://localhost:8080/"
        },
        "id": "HH9XCKcn-FTB",
        "outputId": "a49d994a-20bd-4d85-dc64-90a93de35c49"
      },
      "execution_count": null,
      "outputs": [
        {
          "output_type": "stream",
          "name": "stdout",
          "text": [
            "Train Embeddings Shape: 112\n",
            "Validation Embeddings Shape: 24\n",
            "Test Embeddings Shape: 24\n"
          ]
        }
      ]
    },
    {
      "cell_type": "markdown",
      "source": [
        "Batch Size Impact: A fixed batch size of 32 may not optimize memory usage. Adapting the batch size to the available memory could improve performance."
      ],
      "metadata": {
        "id": "vZtTyHnJ8_PO"
      }
    },
    {
      "cell_type": "code",
      "source": [
        "# Save the DataFrame with embeddings to a .pkl file, Slightly slower compared to PyTorch serialization for tensor data.\n",
        "df.to_pickle(\"clip_embeddings.pkl\")\n",
        "print(\"Embeddings saved successfully to 'clip_embeddings.pkl'.\")"
      ],
      "metadata": {
        "colab": {
          "base_uri": "https://localhost:8080/"
        },
        "id": "bYyR5UZh7B_V",
        "outputId": "07d115d0-4057-4910-99b6-59cfda641ea7"
      },
      "execution_count": null,
      "outputs": [
        {
          "output_type": "stream",
          "name": "stdout",
          "text": [
            "Embeddings saved successfully to 'clip_embeddings.pkl'.\n"
          ]
        }
      ]
    },
    {
      "cell_type": "code",
      "source": [
        "import umap\n",
        "import plotly.express as px\n",
        "\n",
        "embeddings = list(df['embedding'])\n",
        "labels = df['genre']\n",
        "\n",
        "# Reduce dimensionality with UMAP\n",
        "umap_model = umap.UMAP(n_neighbors=5, min_dist=0.3, random_state=42)\n",
        "embedding_2d = umap_model.fit_transform(embeddings)\n",
        "\n",
        "# Create visualization DataFrame\n",
        "vis_df = pd.DataFrame(embedding_2d, columns=['x', 'y'])\n",
        "vis_df['genre'] = labels\n",
        "fig = px.scatter(vis_df, x='x', y='y', color='genre', title=\"UMAP Visualization of Embeddings\")\n",
        "fig.show()\n"
      ],
      "metadata": {
        "colab": {
          "base_uri": "https://localhost:8080/",
          "height": 633
        },
        "id": "WB-eUcdGrzts",
        "outputId": "7443edf2-93c3-4bc3-eab2-cb33a7efec4d"
      },
      "execution_count": null,
      "outputs": [
        {
          "output_type": "stream",
          "name": "stderr",
          "text": [
            "/usr/local/lib/python3.10/dist-packages/sklearn/utils/deprecation.py:151: FutureWarning: 'force_all_finite' was renamed to 'ensure_all_finite' in 1.6 and will be removed in 1.8.\n",
            "  warnings.warn(\n",
            "/usr/local/lib/python3.10/dist-packages/umap/umap_.py:1952: UserWarning: n_jobs value 1 overridden to 1 by setting random_state. Use no seed for parallelism.\n",
            "  warn(\n"
          ]
        },
        {
          "output_type": "display_data",
          "data": {
            "text/html": [
              "<html>\n",
              "<head><meta charset=\"utf-8\" /></head>\n",
              "<body>\n",
              "    <div>            <script src=\"https://cdnjs.cloudflare.com/ajax/libs/mathjax/2.7.5/MathJax.js?config=TeX-AMS-MML_SVG\"></script><script type=\"text/javascript\">if (window.MathJax && window.MathJax.Hub && window.MathJax.Hub.Config) {window.MathJax.Hub.Config({SVG: {font: \"STIX-Web\"}});}</script>                <script type=\"text/javascript\">window.PlotlyConfig = {MathJaxConfig: 'local'};</script>\n",
              "        <script charset=\"utf-8\" src=\"https://cdn.plot.ly/plotly-2.35.2.min.js\"></script>                <div id=\"c2477a14-05f6-42ca-91c8-56545e9cf386\" class=\"plotly-graph-div\" style=\"height:525px; width:100%;\"></div>            <script type=\"text/javascript\">                                    window.PLOTLYENV=window.PLOTLYENV || {};                                    if (document.getElementById(\"c2477a14-05f6-42ca-91c8-56545e9cf386\")) {                    Plotly.newPlot(                        \"c2477a14-05f6-42ca-91c8-56545e9cf386\",                        [{\"hovertemplate\":\"genre=jazz\\u003cbr\\u003ex=%{x}\\u003cbr\\u003ey=%{y}\\u003cextra\\u003e\\u003c\\u002fextra\\u003e\",\"legendgroup\":\"jazz\",\"marker\":{\"color\":\"#636efa\",\"symbol\":\"circle\"},\"mode\":\"markers\",\"name\":\"jazz\",\"orientation\":\"v\",\"showlegend\":true,\"x\":[5.0860863,4.525607,4.16421,3.7950988,4.8801966,3.3483622,3.466917,4.1351395,4.012197,5.3171396,5.4202433,5.052915,4.920579,0.41740587,3.8996034,4.3954663,5.220514,3.7896242,3.2735465,4.269719],\"xaxis\":\"x\",\"y\":[1.7608854,2.2171247,2.0294087,2.2496119,1.9029781,1.8667419,1.6229724,2.7783034,2.5893407,2.2480857,2.092997,2.4744608,2.6934943,0.61295295,2.78733,2.6017613,1.9461695,1.858078,1.9450706,2.2678275],\"yaxis\":\"y\",\"type\":\"scatter\"},{\"hovertemplate\":\"genre=opera\\u003cbr\\u003ex=%{x}\\u003cbr\\u003ey=%{y}\\u003cextra\\u003e\\u003c\\u002fextra\\u003e\",\"legendgroup\":\"opera\",\"marker\":{\"color\":\"#EF553B\",\"symbol\":\"circle\"},\"mode\":\"markers\",\"name\":\"opera\",\"orientation\":\"v\",\"showlegend\":true,\"x\":[1.2894548,3.0768995,1.4298525,2.499818,0.9322168,1.8715361,2.3570116,0.73911333,2.257177,0.74744487,2.8075426,0.84983486,1.4311458,1.6732783,0.6557695,0.43866333,0.91917086,1.2457525,0.6994259,1.4663279],\"xaxis\":\"x\",\"y\":[2.7055182,2.099224,2.9179416,0.6201965,3.132585,1.5099325,1.8892065,2.0252724,1.0935589,1.0863427,1.8056207,1.4460756,1.5606302,3.1283212,0.59604853,1.0119952,0.8978252,2.017883,0.6188506,2.4248166],\"yaxis\":\"y\",\"type\":\"scatter\"},{\"hovertemplate\":\"genre=country\\u003cbr\\u003ex=%{x}\\u003cbr\\u003ey=%{y}\\u003cextra\\u003e\\u003c\\u002fextra\\u003e\",\"legendgroup\":\"country\",\"marker\":{\"color\":\"#00cc96\",\"symbol\":\"circle\"},\"mode\":\"markers\",\"name\":\"country\",\"orientation\":\"v\",\"showlegend\":true,\"x\":[4.9484987,3.232417,4.6345825,4.3586454,3.6286886,4.0702085,3.4372048,4.218988,3.3231368,4.773605,2.9484415,3.2923903,4.026289,3.9814103,3.8241625,3.5256367,3.2003372,3.461217,3.7350922,2.9600928],\"xaxis\":\"x\",\"y\":[-0.3337357,0.21569224,-0.44364935,-0.4480109,0.09520982,-1.6559492,0.42748713,-1.065999,0.12668961,-0.6607672,-0.5922629,-0.71392417,-1.576312,-1.2487085,-1.4511933,-1.1903214,-1.2270132,-1.7264959,-1.501225,-0.88797283],\"yaxis\":\"y\",\"type\":\"scatter\"},{\"hovertemplate\":\"genre=electronic\\u003cbr\\u003ex=%{x}\\u003cbr\\u003ey=%{y}\\u003cextra\\u003e\\u003c\\u002fextra\\u003e\",\"legendgroup\":\"electronic\",\"marker\":{\"color\":\"#ab63fa\",\"symbol\":\"circle\"},\"mode\":\"markers\",\"name\":\"electronic\",\"orientation\":\"v\",\"showlegend\":true,\"x\":[12.45148,13.205238,13.027373,13.476733,12.916613,12.769638,13.487529,14.720698,1.0826336,14.346168,12.740132,11.378661,10.769786,15.285916,14.128082,12.171809,8.506338,8.214997,8.40485,14.978821],\"xaxis\":\"x\",\"y\":[4.337555,4.01501,4.3704395,3.0303144,4.2092133,4.0748405,4.7007594,5.4256296,2.3501966,4.06699,3.851364,4.2134805,4.0636644,5.1906047,4.6617346,4.1629896,4.8277044,5.3612905,5.586983,5.522402],\"yaxis\":\"y\",\"type\":\"scatter\"},{\"hovertemplate\":\"genre=metal\\u003cbr\\u003ex=%{x}\\u003cbr\\u003ey=%{y}\\u003cextra\\u003e\\u003c\\u002fextra\\u003e\",\"legendgroup\":\"metal\",\"marker\":{\"color\":\"#FFA15A\",\"symbol\":\"circle\"},\"mode\":\"markers\",\"name\":\"metal\",\"orientation\":\"v\",\"showlegend\":true,\"x\":[14.0501375,14.1390505,14.926459,14.316413,14.730286,14.211526,14.746103,14.029491,15.3443775,15.175774,14.987183,15.186858,15.51455,15.296017,14.919156,14.485333,15.203362,15.432014,15.496424,14.955977],\"xaxis\":\"x\",\"y\":[3.1816828,3.1523414,4.385031,2.7032032,2.4868977,3.61297,2.3806334,2.9656074,3.4201844,3.1467505,2.6469586,4.963842,5.465198,2.588962,2.937216,3.6245964,2.8041136,5.5312433,2.8887355,3.2879035],\"yaxis\":\"y\",\"type\":\"scatter\"},{\"hovertemplate\":\"genre=rap\\u003cbr\\u003ex=%{x}\\u003cbr\\u003ey=%{y}\\u003cextra\\u003e\\u003c\\u002fextra\\u003e\",\"legendgroup\":\"rap\",\"marker\":{\"color\":\"#19d3f3\",\"symbol\":\"circle\"},\"mode\":\"markers\",\"name\":\"rap\",\"orientation\":\"v\",\"showlegend\":true,\"x\":[9.662348,15.396565,9.480967,9.22886,9.721183,9.968063,9.606011,10.067292,9.94253,8.59965,8.67267,8.795143,9.45758,15.563059,9.406686,15.123438,10.266663,15.337628,9.220405,14.981127],\"xaxis\":\"x\",\"y\":[3.8000374,6.275442,3.618669,4.1066146,3.347486,3.6235468,3.6020427,4.485989,4.2414794,4.3232026,4.5886674,4.1318665,3.8662586,5.943645,5.12999,6.0316777,4.1195383,6.3149896,3.7061343,5.9109774],\"yaxis\":\"y\",\"type\":\"scatter\"},{\"hovertemplate\":\"genre=classical\\u003cbr\\u003ex=%{x}\\u003cbr\\u003ey=%{y}\\u003cextra\\u003e\\u003c\\u002fextra\\u003e\",\"legendgroup\":\"classical\",\"marker\":{\"color\":\"#FF6692\",\"symbol\":\"circle\"},\"mode\":\"markers\",\"name\":\"classical\",\"orientation\":\"v\",\"showlegend\":true,\"x\":[-1.2110598,-1.0863873,-0.87599206,-0.41013837,-0.49351594,-0.6224201,-0.4940294,0.025750386,-0.4035832,-0.17781153,-1.0679224,-1.3666668,-0.27177146,-0.0626893,-0.62379104,-0.64446783,-0.09807624,-0.93728983,0.40871817,-0.12010922],\"xaxis\":\"x\",\"y\":[2.2670236,1.9579996,2.7680779,1.9284006,3.3614023,3.4434936,3.1151934,2.2770114,1.4742786,2.718525,2.6777453,2.0986748,2.627579,2.180157,3.2505095,2.3295352,3.4328122,1.6327224,2.3850148,3.1228862],\"yaxis\":\"y\",\"type\":\"scatter\"},{\"hovertemplate\":\"genre=reggae\\u003cbr\\u003ex=%{x}\\u003cbr\\u003ey=%{y}\\u003cextra\\u003e\\u003c\\u002fextra\\u003e\",\"legendgroup\":\"reggae\",\"marker\":{\"color\":\"#B6E880\",\"symbol\":\"circle\"},\"mode\":\"markers\",\"name\":\"reggae\",\"orientation\":\"v\",\"showlegend\":true,\"x\":[9.595222,8.872039,8.643677,9.181329,8.47586,8.291272,8.302529,8.294589,8.373815,8.599216,8.871434,8.727686,9.074171,9.285974,9.471616,9.475492,9.241685,8.208086,15.582951,9.125504],\"xaxis\":\"x\",\"y\":[6.101336,7.2605805,7.014999,7.0479255,6.8820996,7.464979,7.4876485,5.9476056,6.438715,6.2540445,7.0893073,6.492907,6.6309566,5.551242,5.77761,6.22998,7.016137,7.153217,5.703693,5.4316425],\"yaxis\":\"y\",\"type\":\"scatter\"}],                        {\"template\":{\"data\":{\"histogram2dcontour\":[{\"type\":\"histogram2dcontour\",\"colorbar\":{\"outlinewidth\":0,\"ticks\":\"\"},\"colorscale\":[[0.0,\"#0d0887\"],[0.1111111111111111,\"#46039f\"],[0.2222222222222222,\"#7201a8\"],[0.3333333333333333,\"#9c179e\"],[0.4444444444444444,\"#bd3786\"],[0.5555555555555556,\"#d8576b\"],[0.6666666666666666,\"#ed7953\"],[0.7777777777777778,\"#fb9f3a\"],[0.8888888888888888,\"#fdca26\"],[1.0,\"#f0f921\"]]}],\"choropleth\":[{\"type\":\"choropleth\",\"colorbar\":{\"outlinewidth\":0,\"ticks\":\"\"}}],\"histogram2d\":[{\"type\":\"histogram2d\",\"colorbar\":{\"outlinewidth\":0,\"ticks\":\"\"},\"colorscale\":[[0.0,\"#0d0887\"],[0.1111111111111111,\"#46039f\"],[0.2222222222222222,\"#7201a8\"],[0.3333333333333333,\"#9c179e\"],[0.4444444444444444,\"#bd3786\"],[0.5555555555555556,\"#d8576b\"],[0.6666666666666666,\"#ed7953\"],[0.7777777777777778,\"#fb9f3a\"],[0.8888888888888888,\"#fdca26\"],[1.0,\"#f0f921\"]]}],\"heatmap\":[{\"type\":\"heatmap\",\"colorbar\":{\"outlinewidth\":0,\"ticks\":\"\"},\"colorscale\":[[0.0,\"#0d0887\"],[0.1111111111111111,\"#46039f\"],[0.2222222222222222,\"#7201a8\"],[0.3333333333333333,\"#9c179e\"],[0.4444444444444444,\"#bd3786\"],[0.5555555555555556,\"#d8576b\"],[0.6666666666666666,\"#ed7953\"],[0.7777777777777778,\"#fb9f3a\"],[0.8888888888888888,\"#fdca26\"],[1.0,\"#f0f921\"]]}],\"heatmapgl\":[{\"type\":\"heatmapgl\",\"colorbar\":{\"outlinewidth\":0,\"ticks\":\"\"},\"colorscale\":[[0.0,\"#0d0887\"],[0.1111111111111111,\"#46039f\"],[0.2222222222222222,\"#7201a8\"],[0.3333333333333333,\"#9c179e\"],[0.4444444444444444,\"#bd3786\"],[0.5555555555555556,\"#d8576b\"],[0.6666666666666666,\"#ed7953\"],[0.7777777777777778,\"#fb9f3a\"],[0.8888888888888888,\"#fdca26\"],[1.0,\"#f0f921\"]]}],\"contourcarpet\":[{\"type\":\"contourcarpet\",\"colorbar\":{\"outlinewidth\":0,\"ticks\":\"\"}}],\"contour\":[{\"type\":\"contour\",\"colorbar\":{\"outlinewidth\":0,\"ticks\":\"\"},\"colorscale\":[[0.0,\"#0d0887\"],[0.1111111111111111,\"#46039f\"],[0.2222222222222222,\"#7201a8\"],[0.3333333333333333,\"#9c179e\"],[0.4444444444444444,\"#bd3786\"],[0.5555555555555556,\"#d8576b\"],[0.6666666666666666,\"#ed7953\"],[0.7777777777777778,\"#fb9f3a\"],[0.8888888888888888,\"#fdca26\"],[1.0,\"#f0f921\"]]}],\"surface\":[{\"type\":\"surface\",\"colorbar\":{\"outlinewidth\":0,\"ticks\":\"\"},\"colorscale\":[[0.0,\"#0d0887\"],[0.1111111111111111,\"#46039f\"],[0.2222222222222222,\"#7201a8\"],[0.3333333333333333,\"#9c179e\"],[0.4444444444444444,\"#bd3786\"],[0.5555555555555556,\"#d8576b\"],[0.6666666666666666,\"#ed7953\"],[0.7777777777777778,\"#fb9f3a\"],[0.8888888888888888,\"#fdca26\"],[1.0,\"#f0f921\"]]}],\"mesh3d\":[{\"type\":\"mesh3d\",\"colorbar\":{\"outlinewidth\":0,\"ticks\":\"\"}}],\"scatter\":[{\"fillpattern\":{\"fillmode\":\"overlay\",\"size\":10,\"solidity\":0.2},\"type\":\"scatter\"}],\"parcoords\":[{\"type\":\"parcoords\",\"line\":{\"colorbar\":{\"outlinewidth\":0,\"ticks\":\"\"}}}],\"scatterpolargl\":[{\"type\":\"scatterpolargl\",\"marker\":{\"colorbar\":{\"outlinewidth\":0,\"ticks\":\"\"}}}],\"bar\":[{\"error_x\":{\"color\":\"#2a3f5f\"},\"error_y\":{\"color\":\"#2a3f5f\"},\"marker\":{\"line\":{\"color\":\"#E5ECF6\",\"width\":0.5},\"pattern\":{\"fillmode\":\"overlay\",\"size\":10,\"solidity\":0.2}},\"type\":\"bar\"}],\"scattergeo\":[{\"type\":\"scattergeo\",\"marker\":{\"colorbar\":{\"outlinewidth\":0,\"ticks\":\"\"}}}],\"scatterpolar\":[{\"type\":\"scatterpolar\",\"marker\":{\"colorbar\":{\"outlinewidth\":0,\"ticks\":\"\"}}}],\"histogram\":[{\"marker\":{\"pattern\":{\"fillmode\":\"overlay\",\"size\":10,\"solidity\":0.2}},\"type\":\"histogram\"}],\"scattergl\":[{\"type\":\"scattergl\",\"marker\":{\"colorbar\":{\"outlinewidth\":0,\"ticks\":\"\"}}}],\"scatter3d\":[{\"type\":\"scatter3d\",\"line\":{\"colorbar\":{\"outlinewidth\":0,\"ticks\":\"\"}},\"marker\":{\"colorbar\":{\"outlinewidth\":0,\"ticks\":\"\"}}}],\"scattermapbox\":[{\"type\":\"scattermapbox\",\"marker\":{\"colorbar\":{\"outlinewidth\":0,\"ticks\":\"\"}}}],\"scatterternary\":[{\"type\":\"scatterternary\",\"marker\":{\"colorbar\":{\"outlinewidth\":0,\"ticks\":\"\"}}}],\"scattercarpet\":[{\"type\":\"scattercarpet\",\"marker\":{\"colorbar\":{\"outlinewidth\":0,\"ticks\":\"\"}}}],\"carpet\":[{\"aaxis\":{\"endlinecolor\":\"#2a3f5f\",\"gridcolor\":\"white\",\"linecolor\":\"white\",\"minorgridcolor\":\"white\",\"startlinecolor\":\"#2a3f5f\"},\"baxis\":{\"endlinecolor\":\"#2a3f5f\",\"gridcolor\":\"white\",\"linecolor\":\"white\",\"minorgridcolor\":\"white\",\"startlinecolor\":\"#2a3f5f\"},\"type\":\"carpet\"}],\"table\":[{\"cells\":{\"fill\":{\"color\":\"#EBF0F8\"},\"line\":{\"color\":\"white\"}},\"header\":{\"fill\":{\"color\":\"#C8D4E3\"},\"line\":{\"color\":\"white\"}},\"type\":\"table\"}],\"barpolar\":[{\"marker\":{\"line\":{\"color\":\"#E5ECF6\",\"width\":0.5},\"pattern\":{\"fillmode\":\"overlay\",\"size\":10,\"solidity\":0.2}},\"type\":\"barpolar\"}],\"pie\":[{\"automargin\":true,\"type\":\"pie\"}]},\"layout\":{\"autotypenumbers\":\"strict\",\"colorway\":[\"#636efa\",\"#EF553B\",\"#00cc96\",\"#ab63fa\",\"#FFA15A\",\"#19d3f3\",\"#FF6692\",\"#B6E880\",\"#FF97FF\",\"#FECB52\"],\"font\":{\"color\":\"#2a3f5f\"},\"hovermode\":\"closest\",\"hoverlabel\":{\"align\":\"left\"},\"paper_bgcolor\":\"white\",\"plot_bgcolor\":\"#E5ECF6\",\"polar\":{\"bgcolor\":\"#E5ECF6\",\"angularaxis\":{\"gridcolor\":\"white\",\"linecolor\":\"white\",\"ticks\":\"\"},\"radialaxis\":{\"gridcolor\":\"white\",\"linecolor\":\"white\",\"ticks\":\"\"}},\"ternary\":{\"bgcolor\":\"#E5ECF6\",\"aaxis\":{\"gridcolor\":\"white\",\"linecolor\":\"white\",\"ticks\":\"\"},\"baxis\":{\"gridcolor\":\"white\",\"linecolor\":\"white\",\"ticks\":\"\"},\"caxis\":{\"gridcolor\":\"white\",\"linecolor\":\"white\",\"ticks\":\"\"}},\"coloraxis\":{\"colorbar\":{\"outlinewidth\":0,\"ticks\":\"\"}},\"colorscale\":{\"sequential\":[[0.0,\"#0d0887\"],[0.1111111111111111,\"#46039f\"],[0.2222222222222222,\"#7201a8\"],[0.3333333333333333,\"#9c179e\"],[0.4444444444444444,\"#bd3786\"],[0.5555555555555556,\"#d8576b\"],[0.6666666666666666,\"#ed7953\"],[0.7777777777777778,\"#fb9f3a\"],[0.8888888888888888,\"#fdca26\"],[1.0,\"#f0f921\"]],\"sequentialminus\":[[0.0,\"#0d0887\"],[0.1111111111111111,\"#46039f\"],[0.2222222222222222,\"#7201a8\"],[0.3333333333333333,\"#9c179e\"],[0.4444444444444444,\"#bd3786\"],[0.5555555555555556,\"#d8576b\"],[0.6666666666666666,\"#ed7953\"],[0.7777777777777778,\"#fb9f3a\"],[0.8888888888888888,\"#fdca26\"],[1.0,\"#f0f921\"]],\"diverging\":[[0,\"#8e0152\"],[0.1,\"#c51b7d\"],[0.2,\"#de77ae\"],[0.3,\"#f1b6da\"],[0.4,\"#fde0ef\"],[0.5,\"#f7f7f7\"],[0.6,\"#e6f5d0\"],[0.7,\"#b8e186\"],[0.8,\"#7fbc41\"],[0.9,\"#4d9221\"],[1,\"#276419\"]]},\"xaxis\":{\"gridcolor\":\"white\",\"linecolor\":\"white\",\"ticks\":\"\",\"title\":{\"standoff\":15},\"zerolinecolor\":\"white\",\"automargin\":true,\"zerolinewidth\":2},\"yaxis\":{\"gridcolor\":\"white\",\"linecolor\":\"white\",\"ticks\":\"\",\"title\":{\"standoff\":15},\"zerolinecolor\":\"white\",\"automargin\":true,\"zerolinewidth\":2},\"scene\":{\"xaxis\":{\"backgroundcolor\":\"#E5ECF6\",\"gridcolor\":\"white\",\"linecolor\":\"white\",\"showbackground\":true,\"ticks\":\"\",\"zerolinecolor\":\"white\",\"gridwidth\":2},\"yaxis\":{\"backgroundcolor\":\"#E5ECF6\",\"gridcolor\":\"white\",\"linecolor\":\"white\",\"showbackground\":true,\"ticks\":\"\",\"zerolinecolor\":\"white\",\"gridwidth\":2},\"zaxis\":{\"backgroundcolor\":\"#E5ECF6\",\"gridcolor\":\"white\",\"linecolor\":\"white\",\"showbackground\":true,\"ticks\":\"\",\"zerolinecolor\":\"white\",\"gridwidth\":2}},\"shapedefaults\":{\"line\":{\"color\":\"#2a3f5f\"}},\"annotationdefaults\":{\"arrowcolor\":\"#2a3f5f\",\"arrowhead\":0,\"arrowwidth\":1},\"geo\":{\"bgcolor\":\"white\",\"landcolor\":\"#E5ECF6\",\"subunitcolor\":\"white\",\"showland\":true,\"showlakes\":true,\"lakecolor\":\"white\"},\"title\":{\"x\":0.05},\"mapbox\":{\"style\":\"light\"}}},\"xaxis\":{\"anchor\":\"y\",\"domain\":[0.0,1.0],\"title\":{\"text\":\"x\"}},\"yaxis\":{\"anchor\":\"x\",\"domain\":[0.0,1.0],\"title\":{\"text\":\"y\"}},\"legend\":{\"title\":{\"text\":\"genre\"},\"tracegroupgap\":0},\"title\":{\"text\":\"UMAP Visualization of Embeddings\"}},                        {\"responsive\": true}                    ).then(function(){\n",
              "                            \n",
              "var gd = document.getElementById('c2477a14-05f6-42ca-91c8-56545e9cf386');\n",
              "var x = new MutationObserver(function (mutations, observer) {{\n",
              "        var display = window.getComputedStyle(gd).display;\n",
              "        if (!display || display === 'none') {{\n",
              "            console.log([gd, 'removed!']);\n",
              "            Plotly.purge(gd);\n",
              "            observer.disconnect();\n",
              "        }}\n",
              "}});\n",
              "\n",
              "// Listen for the removal of the full notebook cells\n",
              "var notebookContainer = gd.closest('#notebook-container');\n",
              "if (notebookContainer) {{\n",
              "    x.observe(notebookContainer, {childList: true});\n",
              "}}\n",
              "\n",
              "// Listen for the clearing of the current output cell\n",
              "var outputEl = gd.closest('.output');\n",
              "if (outputEl) {{\n",
              "    x.observe(outputEl, {childList: true});\n",
              "}}\n",
              "\n",
              "                        })                };                            </script>        </div>\n",
              "</body>\n",
              "</html>"
            ]
          },
          "metadata": {}
        }
      ]
    },
    {
      "cell_type": "markdown",
      "source": [
        "Analysis\n",
        "Clusters: Genres like jazz, opera, and country seem to form distinct clusters, indicating that the embeddings effectively capture meaningful distinctions for these genres.\n",
        "\n",
        "Genres such as electronic, metal, and rap may have some overlap, which could be due to similarities in artist names or shared stylistic features.\n",
        "\n",
        "Separation: The UMAP plot shows moderate-to-good separation of genres in the 2D space, which suggests that the embeddings are reasonably informative for the genre classification task.\n",
        "\n",
        "Outliers: Some points may appear closer to other genres, indicating potential misclassifications or ambiguity in genre-specific features extracted from the artist names."
      ],
      "metadata": {
        "id": "CE0BtECg_sNk"
      }
    },
    {
      "source": [
        "import umap\n",
        "import plotly.express as px\n",
        "\n",
        "embeddings = list(df['embedding'])\n",
        "labels = df['genre']\n",
        "\n",
        "# Reduce dimensionality with UMAP (to 3 dimensions)\n",
        "umap_model = umap.UMAP(n_neighbors=3, min_dist=0.5, n_components=3, random_state=None, n_jobs=-1)\n",
        "embedding_3d = umap_model.fit_transform(embeddings)\n",
        "\n",
        "vis_df = pd.DataFrame(embedding_3d, columns=['x', 'y', 'z'])  # Add 'z' column\n",
        "vis_df['genre'] = labels\n",
        "\n",
        "fig = px.scatter_3d(\n",
        "    vis_df,\n",
        "    x='x',\n",
        "    y='y',\n",
        "    z='z',\n",
        "    color='genre',\n",
        "    title=\"3D UMAP Visualization of Embeddings\",\n",
        ")\n",
        "# Update marker properties after creating the figure\n",
        "fig.update_traces(marker=dict(size=3, opacity=0.7))\n",
        "\n",
        "fig.show()"
      ],
      "cell_type": "code",
      "metadata": {
        "colab": {
          "base_uri": "https://localhost:8080/",
          "height": 542
        },
        "id": "7vcAb3zY5MN7",
        "outputId": "fe5f3c5c-1f06-4780-ae70-325e59a5a0c2"
      },
      "execution_count": null,
      "outputs": [
        {
          "output_type": "display_data",
          "data": {
            "text/html": [
              "<html>\n",
              "<head><meta charset=\"utf-8\" /></head>\n",
              "<body>\n",
              "    <div>            <script src=\"https://cdnjs.cloudflare.com/ajax/libs/mathjax/2.7.5/MathJax.js?config=TeX-AMS-MML_SVG\"></script><script type=\"text/javascript\">if (window.MathJax && window.MathJax.Hub && window.MathJax.Hub.Config) {window.MathJax.Hub.Config({SVG: {font: \"STIX-Web\"}});}</script>                <script type=\"text/javascript\">window.PlotlyConfig = {MathJaxConfig: 'local'};</script>\n",
              "        <script charset=\"utf-8\" src=\"https://cdn.plot.ly/plotly-2.35.2.min.js\"></script>                <div id=\"d58581b3-e25e-4f73-98cc-b511056876f0\" class=\"plotly-graph-div\" style=\"height:525px; width:100%;\"></div>            <script type=\"text/javascript\">                                    window.PLOTLYENV=window.PLOTLYENV || {};                                    if (document.getElementById(\"d58581b3-e25e-4f73-98cc-b511056876f0\")) {                    Plotly.newPlot(                        \"d58581b3-e25e-4f73-98cc-b511056876f0\",                        [{\"hovertemplate\":\"genre=jazz\\u003cbr\\u003ex=%{x}\\u003cbr\\u003ey=%{y}\\u003cbr\\u003ez=%{z}\\u003cextra\\u003e\\u003c\\u002fextra\\u003e\",\"legendgroup\":\"jazz\",\"marker\":{\"color\":\"#636efa\",\"symbol\":\"circle\",\"opacity\":0.7,\"size\":3},\"mode\":\"markers\",\"name\":\"jazz\",\"scene\":\"scene\",\"showlegend\":true,\"x\":[1.134248,0.5889589,1.7831427,1.731998,0.47321782,2.701814,2.4026,0.9946849,1.4339017,0.0224025,0.22556679,0.35540518,0.3107627,2.9417388,1.2191344,0.976488,0.6330931,2.290782,3.0451224,0.9445949],\"y\":[3.2895055,4.0228443,3.2478583,3.3286133,3.7822502,3.3842676,3.0059607,2.7373605,3.7628834,2.760267,3.0820184,2.672459,2.4090908,4.671917,2.872634,4.0888543,3.2391121,3.0761466,3.0757713,3.789535],\"z\":[7.1429973,6.3296924,6.77619,6.207052,6.6966896,6.1073403,5.8624144,6.397879,5.9996266,7.4472423,7.6280065,7.1139903,6.847284,1.5843697,6.206416,5.9919143,7.1620727,6.6223545,6.0077043,6.2249403],\"type\":\"scatter3d\"},{\"hovertemplate\":\"genre=opera\\u003cbr\\u003ex=%{x}\\u003cbr\\u003ey=%{y}\\u003cbr\\u003ez=%{z}\\u003cextra\\u003e\\u003c\\u002fextra\\u003e\",\"legendgroup\":\"opera\",\"marker\":{\"color\":\"#EF553B\",\"symbol\":\"circle\",\"opacity\":0.7,\"size\":3},\"mode\":\"markers\",\"name\":\"opera\",\"scene\":\"scene\",\"showlegend\":true,\"x\":[6.1772413,3.2473772,6.8337007,4.1559234,6.9033346,4.3382435,3.8920248,5.4268427,4.227616,2.8897595,3.5511515,3.5269227,4.7382607,7.2608304,2.2965379,3.367203,2.4713745,5.731689,2.7694356,6.1178675],\"y\":[5.739245,3.6641147,5.997947,3.9790523,5.797157,4.131755,3.928971,4.994329,4.02662,4.9651685,3.582712,5.2930093,4.323747,6.3733096,4.437193,4.969009,4.7283764,4.808017,4.430831,5.3828397],\"z\":[3.4622397,6.2990327,3.1979132,8.677314,2.632962,6.773462,6.590898,4.3020635,8.050163,1.7995234,6.363354,2.1123228,6.209892,3.2591965,1.2467405,1.9375745,1.5232494,4.7859426,1.340408,4.039074],\"type\":\"scatter3d\"},{\"hovertemplate\":\"genre=country\\u003cbr\\u003ex=%{x}\\u003cbr\\u003ey=%{y}\\u003cbr\\u003ez=%{z}\\u003cextra\\u003e\\u003c\\u002fextra\\u003e\",\"legendgroup\":\"country\",\"marker\":{\"color\":\"#00cc96\",\"symbol\":\"circle\",\"opacity\":0.7,\"size\":3},\"mode\":\"markers\",\"name\":\"country\",\"scene\":\"scene\",\"showlegend\":true,\"x\":[6.815624,1.7165515,6.9400625,6.493008,1.4565704,5.7796,2.0006804,6.0976644,1.494535,6.7043676,4.0729117,4.1149144,5.3016167,5.3595104,4.806146,4.360593,4.176379,4.5276527,4.852867,4.065497],\"y\":[2.6697378,1.9308281,2.4884617,2.9540284,1.66793,3.3606882,2.29912,3.3220313,1.6927669,2.7880194,4.000058,3.4967833,3.3971303,3.6551502,3.7949657,3.4171846,4.429597,4.301854,4.265443,4.267228],\"z\":[10.589201,5.210669,10.284163,10.339659,5.037096,10.991249,5.413266,10.616721,5.0604362,10.635429,9.320899,9.757285,11.284698,10.705787,10.811528,10.314659,10.09927,10.678857,10.749296,9.706663],\"type\":\"scatter3d\"},{\"hovertemplate\":\"genre=electronic\\u003cbr\\u003ex=%{x}\\u003cbr\\u003ey=%{y}\\u003cbr\\u003ez=%{z}\\u003cextra\\u003e\\u003c\\u002fextra\\u003e\",\"legendgroup\":\"electronic\",\"marker\":{\"color\":\"#ab63fa\",\"symbol\":\"circle\",\"opacity\":0.7,\"size\":3},\"mode\":\"markers\",\"name\":\"electronic\",\"scene\":\"scene\",\"showlegend\":true,\"x\":[9.637975,9.433664,9.300581,8.591844,9.491853,8.99033,9.228047,9.137047,6.2918887,9.158631,8.82773,9.896618,9.940086,9.318491,8.971853,9.781218,7.743963,7.348527,7.504164,8.8677435],\"y\":[9.271908,9.264314,8.858887,6.963027,9.30283,8.548708,8.328903,7.703521,4.5412664,5.5561132,8.061789,9.500479,9.426816,5.979062,7.9091854,9.420762,4.4829926,4.020541,3.695186,7.1812534],\"z\":[6.350516,7.741732,7.683617,4.524914,7.6867304,7.3287516,8.433662,9.26615,5.0876474,8.1178465,7.153287,5.24455,4.689286,8.805864,8.402131,5.7905235,6.068483,5.601249,5.526626,9.512885],\"type\":\"scatter3d\"},{\"hovertemplate\":\"genre=metal\\u003cbr\\u003ex=%{x}\\u003cbr\\u003ey=%{y}\\u003cbr\\u003ez=%{z}\\u003cextra\\u003e\\u003c\\u002fextra\\u003e\",\"legendgroup\":\"metal\",\"marker\":{\"color\":\"#FFA15A\",\"symbol\":\"circle\",\"opacity\":0.7,\"size\":3},\"mode\":\"markers\",\"name\":\"metal\",\"scene\":\"scene\",\"showlegend\":true,\"x\":[8.454546,8.348888,8.695133,8.578865,8.657638,8.805992,8.893381,8.31255,8.591674,8.7986,8.194198,8.831713,9.341234,8.153291,8.714906,9.1068,7.894563,8.815842,7.753043,8.984918],\"y\":[5.300498,5.566468,7.2138324,5.958964,5.6156645,5.1123652,5.7815127,5.0936437,6.999124,6.907125,6.764133,7.039183,6.469057,7.064701,6.6760354,5.637383,6.99529,6.629735,7.302235,6.1872487],\"z\":[6.885759,6.6815534,8.28259,6.403032,6.231993,7.5920486,6.0006704,7.1139097,7.6281466,7.3068643,6.921542,9.050854,9.411758,6.4792166,6.9762383,7.6846514,6.6818957,9.598253,6.436247,7.196419],\"type\":\"scatter3d\"},{\"hovertemplate\":\"genre=rap\\u003cbr\\u003ex=%{x}\\u003cbr\\u003ey=%{y}\\u003cbr\\u003ez=%{z}\\u003cextra\\u003e\\u003c\\u002fextra\\u003e\",\"legendgroup\":\"rap\",\"marker\":{\"color\":\"#19d3f3\",\"symbol\":\"circle\",\"opacity\":0.7,\"size\":3},\"mode\":\"markers\",\"name\":\"rap\",\"scene\":\"scene\",\"showlegend\":true,\"x\":[9.291641,9.751992,8.870916,8.624068,9.349052,9.0396595,9.544403,10.069517,9.791199,8.125949,7.6763287,8.411833,9.533377,9.4360695,7.5645933,9.68174,9.983518,9.987929,8.703023,9.837028],\"y\":[8.134731,7.07997,8.2410755,7.292589,8.3342905,8.267379,8.032294,9.372994,8.895634,7.1522865,6.7588444,7.6235337,8.454849,6.683828,1.8808079,7.240732,9.300909,7.153725,8.0016165,7.0847716],\"z\":[3.4645429,9.989992,2.5679448,3.9304397,2.7999349,2.318571,2.9206705,3.7774172,3.67669,3.466811,3.3437111,3.169992,3.5224833,9.891735,9.889803,9.616214,3.9589434,10.158192,3.0388474,9.429627],\"type\":\"scatter3d\"},{\"hovertemplate\":\"genre=classical\\u003cbr\\u003ex=%{x}\\u003cbr\\u003ey=%{y}\\u003cbr\\u003ez=%{z}\\u003cextra\\u003e\\u003c\\u002fextra\\u003e\",\"legendgroup\":\"classical\",\"marker\":{\"color\":\"#FF6692\",\"symbol\":\"circle\",\"opacity\":0.7,\"size\":3},\"mode\":\"markers\",\"name\":\"classical\",\"scene\":\"scene\",\"showlegend\":true,\"x\":[5.2686086,4.8240685,5.4036345,4.6091037,4.7788653,6.2117085,5.199582,4.9898367,4.387093,5.4328938,5.9816394,5.5579123,5.6359153,4.9756374,6.4191256,4.979888,6.7009196,4.8001685,5.552234,5.0289707],\"y\":[4.6327386,4.332524,5.223135,5.4627542,6.0375414,5.300915,5.593432,5.468752,4.891661,6.3382854,4.843512,4.4879436,6.0337105,5.653507,5.401119,5.7006197,5.543393,4.359308,5.7990794,6.120011],\"z\":[0.9212675,1.0664607,0.93215966,2.4035015,1.0317792,1.2837195,0.5502706,3.2330904,2.0595603,0.9865896,1.4598161,1.1377286,1.5074264,2.9002833,1.6440588,1.6947639,2.007821,1.4892455,3.147545,0.67221624],\"type\":\"scatter3d\"},{\"hovertemplate\":\"genre=reggae\\u003cbr\\u003ex=%{x}\\u003cbr\\u003ey=%{y}\\u003cbr\\u003ez=%{z}\\u003cextra\\u003e\\u003c\\u002fextra\\u003e\",\"legendgroup\":\"reggae\",\"marker\":{\"color\":\"#B6E880\",\"symbol\":\"circle\",\"opacity\":0.7,\"size\":3},\"mode\":\"markers\",\"name\":\"reggae\",\"scene\":\"scene\",\"showlegend\":true,\"x\":[7.9297934,8.579262,8.364579,8.501294,7.6615763,7.9835773,8.076449,7.6972694,7.770542,8.1350355,7.7583246,8.022797,7.824657,7.9740252,8.035482,8.045635,8.169947,7.6699038,9.556323,8.228359],\"y\":[1.7224274,1.468981,1.7791779,1.6242892,1.6786802,0.7008445,0.88617224,3.174349,2.6494703,2.464381,1.714135,2.3673592,2.0253413,1.5074232,1.5289838,1.6498865,1.893969,0.8009483,6.3072805,1.2691765],\"z\":[8.3915205,5.9705195,5.569459,6.536913,5.7901616,5.875653,5.895011,5.4890313,5.4520655,5.628805,6.49051,6.075593,6.9206424,9.331474,8.79411,8.100587,7.0291915,5.928941,9.88417,9.04625],\"type\":\"scatter3d\"}],                        {\"template\":{\"data\":{\"histogram2dcontour\":[{\"type\":\"histogram2dcontour\",\"colorbar\":{\"outlinewidth\":0,\"ticks\":\"\"},\"colorscale\":[[0.0,\"#0d0887\"],[0.1111111111111111,\"#46039f\"],[0.2222222222222222,\"#7201a8\"],[0.3333333333333333,\"#9c179e\"],[0.4444444444444444,\"#bd3786\"],[0.5555555555555556,\"#d8576b\"],[0.6666666666666666,\"#ed7953\"],[0.7777777777777778,\"#fb9f3a\"],[0.8888888888888888,\"#fdca26\"],[1.0,\"#f0f921\"]]}],\"choropleth\":[{\"type\":\"choropleth\",\"colorbar\":{\"outlinewidth\":0,\"ticks\":\"\"}}],\"histogram2d\":[{\"type\":\"histogram2d\",\"colorbar\":{\"outlinewidth\":0,\"ticks\":\"\"},\"colorscale\":[[0.0,\"#0d0887\"],[0.1111111111111111,\"#46039f\"],[0.2222222222222222,\"#7201a8\"],[0.3333333333333333,\"#9c179e\"],[0.4444444444444444,\"#bd3786\"],[0.5555555555555556,\"#d8576b\"],[0.6666666666666666,\"#ed7953\"],[0.7777777777777778,\"#fb9f3a\"],[0.8888888888888888,\"#fdca26\"],[1.0,\"#f0f921\"]]}],\"heatmap\":[{\"type\":\"heatmap\",\"colorbar\":{\"outlinewidth\":0,\"ticks\":\"\"},\"colorscale\":[[0.0,\"#0d0887\"],[0.1111111111111111,\"#46039f\"],[0.2222222222222222,\"#7201a8\"],[0.3333333333333333,\"#9c179e\"],[0.4444444444444444,\"#bd3786\"],[0.5555555555555556,\"#d8576b\"],[0.6666666666666666,\"#ed7953\"],[0.7777777777777778,\"#fb9f3a\"],[0.8888888888888888,\"#fdca26\"],[1.0,\"#f0f921\"]]}],\"heatmapgl\":[{\"type\":\"heatmapgl\",\"colorbar\":{\"outlinewidth\":0,\"ticks\":\"\"},\"colorscale\":[[0.0,\"#0d0887\"],[0.1111111111111111,\"#46039f\"],[0.2222222222222222,\"#7201a8\"],[0.3333333333333333,\"#9c179e\"],[0.4444444444444444,\"#bd3786\"],[0.5555555555555556,\"#d8576b\"],[0.6666666666666666,\"#ed7953\"],[0.7777777777777778,\"#fb9f3a\"],[0.8888888888888888,\"#fdca26\"],[1.0,\"#f0f921\"]]}],\"contourcarpet\":[{\"type\":\"contourcarpet\",\"colorbar\":{\"outlinewidth\":0,\"ticks\":\"\"}}],\"contour\":[{\"type\":\"contour\",\"colorbar\":{\"outlinewidth\":0,\"ticks\":\"\"},\"colorscale\":[[0.0,\"#0d0887\"],[0.1111111111111111,\"#46039f\"],[0.2222222222222222,\"#7201a8\"],[0.3333333333333333,\"#9c179e\"],[0.4444444444444444,\"#bd3786\"],[0.5555555555555556,\"#d8576b\"],[0.6666666666666666,\"#ed7953\"],[0.7777777777777778,\"#fb9f3a\"],[0.8888888888888888,\"#fdca26\"],[1.0,\"#f0f921\"]]}],\"surface\":[{\"type\":\"surface\",\"colorbar\":{\"outlinewidth\":0,\"ticks\":\"\"},\"colorscale\":[[0.0,\"#0d0887\"],[0.1111111111111111,\"#46039f\"],[0.2222222222222222,\"#7201a8\"],[0.3333333333333333,\"#9c179e\"],[0.4444444444444444,\"#bd3786\"],[0.5555555555555556,\"#d8576b\"],[0.6666666666666666,\"#ed7953\"],[0.7777777777777778,\"#fb9f3a\"],[0.8888888888888888,\"#fdca26\"],[1.0,\"#f0f921\"]]}],\"mesh3d\":[{\"type\":\"mesh3d\",\"colorbar\":{\"outlinewidth\":0,\"ticks\":\"\"}}],\"scatter\":[{\"fillpattern\":{\"fillmode\":\"overlay\",\"size\":10,\"solidity\":0.2},\"type\":\"scatter\"}],\"parcoords\":[{\"type\":\"parcoords\",\"line\":{\"colorbar\":{\"outlinewidth\":0,\"ticks\":\"\"}}}],\"scatterpolargl\":[{\"type\":\"scatterpolargl\",\"marker\":{\"colorbar\":{\"outlinewidth\":0,\"ticks\":\"\"}}}],\"bar\":[{\"error_x\":{\"color\":\"#2a3f5f\"},\"error_y\":{\"color\":\"#2a3f5f\"},\"marker\":{\"line\":{\"color\":\"#E5ECF6\",\"width\":0.5},\"pattern\":{\"fillmode\":\"overlay\",\"size\":10,\"solidity\":0.2}},\"type\":\"bar\"}],\"scattergeo\":[{\"type\":\"scattergeo\",\"marker\":{\"colorbar\":{\"outlinewidth\":0,\"ticks\":\"\"}}}],\"scatterpolar\":[{\"type\":\"scatterpolar\",\"marker\":{\"colorbar\":{\"outlinewidth\":0,\"ticks\":\"\"}}}],\"histogram\":[{\"marker\":{\"pattern\":{\"fillmode\":\"overlay\",\"size\":10,\"solidity\":0.2}},\"type\":\"histogram\"}],\"scattergl\":[{\"type\":\"scattergl\",\"marker\":{\"colorbar\":{\"outlinewidth\":0,\"ticks\":\"\"}}}],\"scatter3d\":[{\"type\":\"scatter3d\",\"line\":{\"colorbar\":{\"outlinewidth\":0,\"ticks\":\"\"}},\"marker\":{\"colorbar\":{\"outlinewidth\":0,\"ticks\":\"\"}}}],\"scattermapbox\":[{\"type\":\"scattermapbox\",\"marker\":{\"colorbar\":{\"outlinewidth\":0,\"ticks\":\"\"}}}],\"scatterternary\":[{\"type\":\"scatterternary\",\"marker\":{\"colorbar\":{\"outlinewidth\":0,\"ticks\":\"\"}}}],\"scattercarpet\":[{\"type\":\"scattercarpet\",\"marker\":{\"colorbar\":{\"outlinewidth\":0,\"ticks\":\"\"}}}],\"carpet\":[{\"aaxis\":{\"endlinecolor\":\"#2a3f5f\",\"gridcolor\":\"white\",\"linecolor\":\"white\",\"minorgridcolor\":\"white\",\"startlinecolor\":\"#2a3f5f\"},\"baxis\":{\"endlinecolor\":\"#2a3f5f\",\"gridcolor\":\"white\",\"linecolor\":\"white\",\"minorgridcolor\":\"white\",\"startlinecolor\":\"#2a3f5f\"},\"type\":\"carpet\"}],\"table\":[{\"cells\":{\"fill\":{\"color\":\"#EBF0F8\"},\"line\":{\"color\":\"white\"}},\"header\":{\"fill\":{\"color\":\"#C8D4E3\"},\"line\":{\"color\":\"white\"}},\"type\":\"table\"}],\"barpolar\":[{\"marker\":{\"line\":{\"color\":\"#E5ECF6\",\"width\":0.5},\"pattern\":{\"fillmode\":\"overlay\",\"size\":10,\"solidity\":0.2}},\"type\":\"barpolar\"}],\"pie\":[{\"automargin\":true,\"type\":\"pie\"}]},\"layout\":{\"autotypenumbers\":\"strict\",\"colorway\":[\"#636efa\",\"#EF553B\",\"#00cc96\",\"#ab63fa\",\"#FFA15A\",\"#19d3f3\",\"#FF6692\",\"#B6E880\",\"#FF97FF\",\"#FECB52\"],\"font\":{\"color\":\"#2a3f5f\"},\"hovermode\":\"closest\",\"hoverlabel\":{\"align\":\"left\"},\"paper_bgcolor\":\"white\",\"plot_bgcolor\":\"#E5ECF6\",\"polar\":{\"bgcolor\":\"#E5ECF6\",\"angularaxis\":{\"gridcolor\":\"white\",\"linecolor\":\"white\",\"ticks\":\"\"},\"radialaxis\":{\"gridcolor\":\"white\",\"linecolor\":\"white\",\"ticks\":\"\"}},\"ternary\":{\"bgcolor\":\"#E5ECF6\",\"aaxis\":{\"gridcolor\":\"white\",\"linecolor\":\"white\",\"ticks\":\"\"},\"baxis\":{\"gridcolor\":\"white\",\"linecolor\":\"white\",\"ticks\":\"\"},\"caxis\":{\"gridcolor\":\"white\",\"linecolor\":\"white\",\"ticks\":\"\"}},\"coloraxis\":{\"colorbar\":{\"outlinewidth\":0,\"ticks\":\"\"}},\"colorscale\":{\"sequential\":[[0.0,\"#0d0887\"],[0.1111111111111111,\"#46039f\"],[0.2222222222222222,\"#7201a8\"],[0.3333333333333333,\"#9c179e\"],[0.4444444444444444,\"#bd3786\"],[0.5555555555555556,\"#d8576b\"],[0.6666666666666666,\"#ed7953\"],[0.7777777777777778,\"#fb9f3a\"],[0.8888888888888888,\"#fdca26\"],[1.0,\"#f0f921\"]],\"sequentialminus\":[[0.0,\"#0d0887\"],[0.1111111111111111,\"#46039f\"],[0.2222222222222222,\"#7201a8\"],[0.3333333333333333,\"#9c179e\"],[0.4444444444444444,\"#bd3786\"],[0.5555555555555556,\"#d8576b\"],[0.6666666666666666,\"#ed7953\"],[0.7777777777777778,\"#fb9f3a\"],[0.8888888888888888,\"#fdca26\"],[1.0,\"#f0f921\"]],\"diverging\":[[0,\"#8e0152\"],[0.1,\"#c51b7d\"],[0.2,\"#de77ae\"],[0.3,\"#f1b6da\"],[0.4,\"#fde0ef\"],[0.5,\"#f7f7f7\"],[0.6,\"#e6f5d0\"],[0.7,\"#b8e186\"],[0.8,\"#7fbc41\"],[0.9,\"#4d9221\"],[1,\"#276419\"]]},\"xaxis\":{\"gridcolor\":\"white\",\"linecolor\":\"white\",\"ticks\":\"\",\"title\":{\"standoff\":15},\"zerolinecolor\":\"white\",\"automargin\":true,\"zerolinewidth\":2},\"yaxis\":{\"gridcolor\":\"white\",\"linecolor\":\"white\",\"ticks\":\"\",\"title\":{\"standoff\":15},\"zerolinecolor\":\"white\",\"automargin\":true,\"zerolinewidth\":2},\"scene\":{\"xaxis\":{\"backgroundcolor\":\"#E5ECF6\",\"gridcolor\":\"white\",\"linecolor\":\"white\",\"showbackground\":true,\"ticks\":\"\",\"zerolinecolor\":\"white\",\"gridwidth\":2},\"yaxis\":{\"backgroundcolor\":\"#E5ECF6\",\"gridcolor\":\"white\",\"linecolor\":\"white\",\"showbackground\":true,\"ticks\":\"\",\"zerolinecolor\":\"white\",\"gridwidth\":2},\"zaxis\":{\"backgroundcolor\":\"#E5ECF6\",\"gridcolor\":\"white\",\"linecolor\":\"white\",\"showbackground\":true,\"ticks\":\"\",\"zerolinecolor\":\"white\",\"gridwidth\":2}},\"shapedefaults\":{\"line\":{\"color\":\"#2a3f5f\"}},\"annotationdefaults\":{\"arrowcolor\":\"#2a3f5f\",\"arrowhead\":0,\"arrowwidth\":1},\"geo\":{\"bgcolor\":\"white\",\"landcolor\":\"#E5ECF6\",\"subunitcolor\":\"white\",\"showland\":true,\"showlakes\":true,\"lakecolor\":\"white\"},\"title\":{\"x\":0.05},\"mapbox\":{\"style\":\"light\"}}},\"scene\":{\"domain\":{\"x\":[0.0,1.0],\"y\":[0.0,1.0]},\"xaxis\":{\"title\":{\"text\":\"x\"}},\"yaxis\":{\"title\":{\"text\":\"y\"}},\"zaxis\":{\"title\":{\"text\":\"z\"}}},\"legend\":{\"title\":{\"text\":\"genre\"},\"tracegroupgap\":0},\"title\":{\"text\":\"3D UMAP Visualization of Embeddings\"}},                        {\"responsive\": true}                    ).then(function(){\n",
              "                            \n",
              "var gd = document.getElementById('d58581b3-e25e-4f73-98cc-b511056876f0');\n",
              "var x = new MutationObserver(function (mutations, observer) {{\n",
              "        var display = window.getComputedStyle(gd).display;\n",
              "        if (!display || display === 'none') {{\n",
              "            console.log([gd, 'removed!']);\n",
              "            Plotly.purge(gd);\n",
              "            observer.disconnect();\n",
              "        }}\n",
              "}});\n",
              "\n",
              "// Listen for the removal of the full notebook cells\n",
              "var notebookContainer = gd.closest('#notebook-container');\n",
              "if (notebookContainer) {{\n",
              "    x.observe(notebookContainer, {childList: true});\n",
              "}}\n",
              "\n",
              "// Listen for the clearing of the current output cell\n",
              "var outputEl = gd.closest('.output');\n",
              "if (outputEl) {{\n",
              "    x.observe(outputEl, {childList: true});\n",
              "}}\n",
              "\n",
              "                        })                };                            </script>        </div>\n",
              "</body>\n",
              "</html>"
            ]
          },
          "metadata": {}
        }
      ]
    },
    {
      "cell_type": "code",
      "source": [
        "import pandas as pd\n",
        "import umap\n",
        "import matplotlib.pyplot as plt\n",
        "import seaborn as sns\n",
        "\n",
        "# Reduce embeddings to 2D using UMAP\n",
        "reducer = umap.UMAP(n_neighbors=10, min_dist=0.1, metric=\"cosine\", random_state=42)\n",
        "embeddings_2d = reducer.fit_transform(embeddings)\n",
        "\n",
        "# Add 2D UMAP coordinates to the DataFrame\n",
        "df_umap = pd.DataFrame(embeddings_2d, columns=[\"x\", \"y\"])\n",
        "df_umap[\"genre\"] = df[\"genre\"]\n",
        "\n",
        "# Plot the UMAP visualization\n",
        "plt.figure(figsize=(10, 8))\n",
        "sns.scatterplot(\n",
        "    data=df_umap,\n",
        "    x=\"x\",\n",
        "    y=\"y\",\n",
        "    hue=\"genre\",\n",
        "    palette=\"Set2\",\n",
        "    legend=\"full\",\n",
        "    s=60,  # Adjust point size\n",
        "    alpha=0.8  # Add transparency\n",
        ")\n",
        "plt.title(\"UMAP Visualization of Embeddings\", fontsize=14)\n",
        "plt.xlabel(\"UMAP Dimension 1\", fontsize=12)\n",
        "plt.ylabel(\"UMAP Dimension 2\", fontsize=12)\n",
        "plt.grid(alpha=0.4)\n",
        "plt.legend(title=\"Genre\", loc=\"best\", fontsize=10)\n",
        "plt.tight_layout()\n",
        "plt.show()\n"
      ],
      "metadata": {
        "colab": {
          "base_uri": "https://localhost:8080/",
          "height": 878
        },
        "id": "X5b7380CCfqR",
        "outputId": "ce838beb-3ace-436c-a3d2-f33a853b6dfa"
      },
      "execution_count": null,
      "outputs": [
        {
          "output_type": "stream",
          "name": "stderr",
          "text": [
            "/usr/local/lib/python3.10/dist-packages/umap/umap_.py:1952: UserWarning:\n",
            "\n",
            "n_jobs value 1 overridden to 1 by setting random_state. Use no seed for parallelism.\n",
            "\n"
          ]
        },
        {
          "output_type": "display_data",
          "data": {
            "text/plain": [
              "<Figure size 1000x800 with 1 Axes>"
            ],
            "image/png": "[encoded data removed]"
          },
          "metadata": {}
        }
      ]
    },
    {
      "source": [
        "results = []\n",
        "for n_neighbors in [5, 10, 15]:\n",
        "    for min_dist in [0.1, 0.3, 0.5]:\n",
        "        for metric in ['euclidean', 'cosine']:  # Include metric\n",
        "            reducer = umap.UMAP(n_neighbors=n_neighbors, min_dist=min_dist, metric=metric)\n",
        "            embeddings_2d = reducer.fit_transform(embeddings)\n",
        "            results.append({\n",
        "                'n_neighbors': n_neighbors,\n",
        "                'min_dist': min_dist,\n",
        "                'metric': metric,\n",
        "                'embeddings': embeddings_2d\n",
        "            })"
      ],
      "cell_type": "code",
      "metadata": {
        "id": "fHYsWfYvluQx"
      },
      "execution_count": null,
      "outputs": []
    },
    {
      "cell_type": "code",
      "source": [
        "import plotly.express as px\n",
        "\n",
        "# Example: Interactive UMAP Plot for a Specific Combination\n",
        "result = results[2]  # Select a result to visualize\n",
        "embeddings_2d = result[\"embeddings\"]\n",
        "\n",
        "# Create a DataFrame for easier plotting\n",
        "plot_df = pd.DataFrame(embeddings_2d, columns=[\"x\", \"y\"])\n",
        "plot_df[\"genre\"] = df.loc[X_train.index, 'genre']\n",
        "plot_df[\"artist_name\"] = df.loc[X_train.index, 'artist_name']\n",
        "\n",
        "# Interactive plot\n",
        "fig = px.scatter(\n",
        "    plot_df,\n",
        "    x=\"x\",\n",
        "    y=\"y\",\n",
        "    color=\"genre\",\n",
        "    title=f\"UMAP Visualization (n_neighbors={result['n_neighbors']}, min_dist={result['min_dist']}, metric={result['metric']})\",\n",
        "    hover_data=[\"artist_name\", \"genre\"],\n",
        "    template=\"plotly_white\",\n",
        "    color_discrete_sequence=px.colors.qualitative.Set1\n",
        ")\n",
        "fig.show()\n"
      ],
      "metadata": {
        "colab": {
          "base_uri": "https://localhost:8080/",
          "height": 542
        },
        "id": "7vzm0WK8B7qU",
        "outputId": "a8939948-03b8-48fd-94d9-b814527561a4"
      },
      "execution_count": null,
      "outputs": [
        {
          "output_type": "display_data",
          "data": {
            "text/html": [
              "<html>\n",
              "<head><meta charset=\"utf-8\" /></head>\n",
              "<body>\n",
              "    <div>            <script src=\"https://cdnjs.cloudflare.com/ajax/libs/mathjax/2.7.5/MathJax.js?config=TeX-AMS-MML_SVG\"></script><script type=\"text/javascript\">if (window.MathJax && window.MathJax.Hub && window.MathJax.Hub.Config) {window.MathJax.Hub.Config({SVG: {font: \"STIX-Web\"}});}</script>                <script type=\"text/javascript\">window.PlotlyConfig = {MathJaxConfig: 'local'};</script>\n",
              "        <script charset=\"utf-8\" src=\"https://cdn.plot.ly/plotly-2.35.2.min.js\"></script>                <div id=\"b4d21eb5-5723-45c8-ad6d-29b799680dcc\" class=\"plotly-graph-div\" style=\"height:525px; width:100%;\"></div>            <script type=\"text/javascript\">                                    window.PLOTLYENV=window.PLOTLYENV || {};                                    if (document.getElementById(\"b4d21eb5-5723-45c8-ad6d-29b799680dcc\")) {                    Plotly.newPlot(                        \"b4d21eb5-5723-45c8-ad6d-29b799680dcc\",                        [{\"customdata\":[[\"miles davis\",\"jazz\"],[\"charlie parker\",\"jazz\"],[\"billie holiday\",\"jazz\"],[\"ella fitzgerald\",\"jazz\"],[\"thelonious monk\",\"jazz\"],[\"dizzy gillespie\",\"jazz\"],[\"chet baker\",\"jazz\"],[\"stan getz\",\"jazz\"],[\"dave brubeck\",\"jazz\"],[\"bill evans\",\"jazz\"],[\"sonny rollins\",\"jazz\"],[\"oscar peterson\",\"jazz\"],[\"sarah vaughan\",\"jazz\"],[\"wynton marsalis\",\"jazz\"]],\"hovertemplate\":\"genre=%{customdata[1]}\\u003cbr\\u003ex=%{x}\\u003cbr\\u003ey=%{y}\\u003cbr\\u003eartist_name=%{customdata[0]}\\u003cextra\\u003e\\u003c\\u002fextra\\u003e\",\"legendgroup\":\"jazz\",\"marker\":{\"color\":\"rgb(228,26,28)\",\"symbol\":\"circle\"},\"mode\":\"markers\",\"name\":\"jazz\",\"orientation\":\"v\",\"showlegend\":true,\"x\":[0.06905958,0.13292772,-1.6378725,-1.4392874,-0.6901448,-0.8197663,0.5735892,0.49717242,0.26546484,0.029685613,-0.6242337,-1.0320559,-1.5200871,-0.54266226],\"xaxis\":\"x\",\"y\":[4.6576266,4.565808,4.59762,4.52994,5.17667,5.363012,4.7813544,4.7870984,5.276252,5.305729,5.2926064,4.2499146,4.482994,4.657829],\"yaxis\":\"y\",\"type\":\"scatter\"},{\"customdata\":[[\"maria callas\",\"opera\"],[\"placido domingo\",\"opera\"],[\"renee fleming\",\"opera\"],[\"jose carreras\",\"opera\"],[\"anna netrebko\",\"opera\"],[\"juan diego florez\",\"opera\"],[\"jessye norman\",\"opera\"],[\"jonas kaufmann\",\"opera\"],[\"kiri te kanawa\",\"opera\"],[\"franco corelli\",\"opera\"],[\"elina garanca\",\"opera\"],[\"roberto alagna\",\"opera\"],[\"diana damrau\",\"opera\"],[\"bryn terfel\",\"opera\"]],\"hovertemplate\":\"genre=%{customdata[1]}\\u003cbr\\u003ex=%{x}\\u003cbr\\u003ey=%{y}\\u003cbr\\u003eartist_name=%{customdata[0]}\\u003cextra\\u003e\\u003c\\u002fextra\\u003e\",\"legendgroup\":\"opera\",\"marker\":{\"color\":\"rgb(77,175,74)\",\"symbol\":\"circle\"},\"mode\":\"markers\",\"name\":\"opera\",\"orientation\":\"v\",\"showlegend\":true,\"x\":[-1.6965144,-1.2636973,-2.8727143,-0.8977584,-2.2449486,-2.4542863,-1.6812221,-2.246664,-1.1979276,-2.1996562,-2.597972,-2.0718114,-2.651204,-1.5438877],\"xaxis\":\"x\",\"y\":[4.2288694,1.3348016,3.795344,1.452967,2.7796497,0.649694,3.827579,1.0121421,1.1365222,0.34654123,0.6323494,1.8038568,0.3015903,1.9910634],\"yaxis\":\"y\",\"type\":\"scatter\"},{\"customdata\":[[\"willie nelson\",\"country\"],[\"hank williams\",\"country\"],[\"loretta lynn\",\"country\"],[\"garth brooks\",\"country\"],[\"patsy cline\",\"country\"],[\"george strait\",\"country\"],[\"merle haggard\",\"country\"],[\"reba mcentire\",\"country\"],[\"toby keith\",\"country\"],[\"alan jackson\",\"country\"],[\"tim mcgraw\",\"country\"],[\"faith hill\",\"country\"],[\"carrie underwood\",\"country\"],[\"miranda lambert\",\"country\"]],\"hovertemplate\":\"genre=%{customdata[1]}\\u003cbr\\u003ex=%{x}\\u003cbr\\u003ey=%{y}\\u003cbr\\u003eartist_name=%{customdata[0]}\\u003cextra\\u003e\\u003c\\u002fextra\\u003e\",\"legendgroup\":\"country\",\"marker\":{\"color\":\"rgb(152,78,163)\",\"symbol\":\"circle\"},\"mode\":\"markers\",\"name\":\"country\",\"orientation\":\"v\",\"showlegend\":true,\"x\":[-3.1862652,-3.3079379,-2.9186223,-4.212554,-2.6345117,-3.8028078,-3.3452175,-3.5632906,-4.266394,-3.9673223,-4.1846514,-3.8278396,-4.0591683,-3.814964],\"xaxis\":\"x\",\"y\":[7.0260777,6.713389,5.819296,6.45731,5.28408,6.605196,6.989358,4.5503855,6.3006196,6.3022637,6.009158,5.56534,5.2249947,4.661424],\"yaxis\":\"y\",\"type\":\"scatter\"},{\"customdata\":[[\"aphex twin\",\"electronic\"],[\"daft punk\",\"electronic\"],[\"the chemical brothers\",\"electronic\"],[\"kraftwerk\",\"electronic\"],[\"boards of canada\",\"electronic\"],[\"moby\",\"electronic\"],[\"orbital\",\"electronic\"],[\"portishead\",\"electronic\"],[\"flying lotus\",\"electronic\"],[\"burial\",\"electronic\"],[\"tangerine dream\",\"electronic\"],[\"autechre\",\"electronic\"],[\"skrillex\",\"electronic\"],[\"bonobo\",\"electronic\"]],\"hovertemplate\":\"genre=%{customdata[1]}\\u003cbr\\u003ex=%{x}\\u003cbr\\u003ey=%{y}\\u003cbr\\u003eartist_name=%{customdata[0]}\\u003cextra\\u003e\\u003c\\u002fextra\\u003e\",\"legendgroup\":\"electronic\",\"marker\":{\"color\":\"rgb(255,127,0)\",\"symbol\":\"circle\"},\"mode\":\"markers\",\"name\":\"electronic\",\"orientation\":\"v\",\"showlegend\":true,\"x\":[11.812674,12.398677,12.199064,12.041768,11.853944,13.234281,10.931935,11.834782,10.007701,14.062027,12.729311,11.31871,8.117666,7.316787],\"xaxis\":\"x\",\"y\":[2.4125977,1.8505976,2.239943,2.203129,2.0422468,3.0720065,1.2409937,1.7283319,3.1071315,2.9941947,2.3994722,2.3799865,1.6472591,2.0439663],\"yaxis\":\"y\",\"type\":\"scatter\"},{\"customdata\":[[\"metallica\",\"metal\"],[\"iron maiden\",\"metal\"],[\"slayer\",\"metal\"],[\"anthrax\",\"metal\"],[\"pantera\",\"metal\"],[\"black sabbath\",\"metal\"],[\"lamb of god\",\"metal\"],[\"slipknot\",\"metal\"],[\"mastodon\",\"metal\"],[\"tool\",\"metal\"],[\"death\",\"metal\"],[\"amon amarth\",\"metal\"],[\"arch enemy\",\"metal\"],[\"behemoth\",\"metal\"]],\"hovertemplate\":\"genre=%{customdata[1]}\\u003cbr\\u003ex=%{x}\\u003cbr\\u003ey=%{y}\\u003cbr\\u003eartist_name=%{customdata[0]}\\u003cextra\\u003e\\u003c\\u002fextra\\u003e\",\"legendgroup\":\"metal\",\"marker\":{\"color\":\"rgb(255,255,51)\",\"symbol\":\"circle\"},\"mode\":\"markers\",\"name\":\"metal\",\"orientation\":\"v\",\"showlegend\":true,\"x\":[11.082679,11.492416,13.170895,12.162255,11.011938,12.302729,12.699819,12.753543,12.466586,13.521575,14.269439,12.696241,14.040555,11.991377],\"xaxis\":\"x\",\"y\":[0.52520907,0.26379743,2.0632455,-0.039580762,0.8120127,0.08684404,0.9321878,0.9162983,0.62614363,2.7861722,3.3082252,0.3159737,3.2459724,0.78719753],\"yaxis\":\"y\",\"type\":\"scatter\"},{\"customdata\":[[\"kendrick lamar\",\"rap\"],[\"cole\",\"rap\"],[\"drake\",\"rap\"],[\"eminem\",\"rap\"],[\"kanye west\",\"rap\"],[\"jay-z\",\"rap\"],[\"nicki minaj\",\"rap\"],[\"cardi b\",\"rap\"],[\"21 savage\",\"rap\"],[\"future\",\"rap\"],[\"post malone\",\"rap\"],[\"dababy\",\"rap\"],[\"tyler the creator\",\"rap\"],[\"aap rocky\",\"rap\"]],\"hovertemplate\":\"genre=%{customdata[1]}\\u003cbr\\u003ex=%{x}\\u003cbr\\u003ey=%{y}\\u003cbr\\u003eartist_name=%{customdata[0]}\\u003cextra\\u003e\\u003c\\u002fextra\\u003e\",\"legendgroup\":\"rap\",\"marker\":{\"color\":\"rgb(166,86,40)\",\"symbol\":\"circle\"},\"mode\":\"markers\",\"name\":\"rap\",\"orientation\":\"v\",\"showlegend\":true,\"x\":[9.3870945,13.952199,9.759142,9.373584,9.679895,9.775228,8.794828,8.607587,9.220262,14.304173,8.293309,13.764506,9.562891,13.77369],\"xaxis\":\"x\",\"y\":[2.6345515,3.7244167,2.5061946,1.5985894,2.3926215,2.8354826,1.7404826,1.9314162,2.864421,3.6834955,2.9554987,3.4716198,3.155098,3.7848418],\"yaxis\":\"y\",\"type\":\"scatter\"},{\"customdata\":[[\"ludwig van beethoven\",\"classical\"],[\"wolfgang amadeus mozart\",\"classical\"],[\"johann sebastian bach\",\"classical\"],[\"franz schubert\",\"classical\"],[\"johannes brahms\",\"classical\"],[\"georg friedrich handel\",\"classical\"],[\"igor stravinsky\",\"classical\"],[\"antonin dvorak\",\"classical\"],[\"gustav mahler\",\"classical\"],[\"robert schumann\",\"classical\"],[\"felix mendelssohn\",\"classical\"],[\"antonio vivaldi\",\"classical\"],[\"giuseppe verdi\",\"classical\"],[\"richard strauss\",\"classical\"]],\"hovertemplate\":\"genre=%{customdata[1]}\\u003cbr\\u003ex=%{x}\\u003cbr\\u003ey=%{y}\\u003cbr\\u003eartist_name=%{customdata[0]}\\u003cextra\\u003e\\u003c\\u002fextra\\u003e\",\"legendgroup\":\"classical\",\"marker\":{\"color\":\"rgb(247,129,191)\",\"symbol\":\"circle\"},\"mode\":\"markers\",\"name\":\"classical\",\"orientation\":\"v\",\"showlegend\":true,\"x\":[-0.135692,-0.39140907,-0.0014191141,-1.0470443,0.44643652,-1.375213,-0.78847617,-0.06672972,-1.2088926,-0.6248672,0.76489687,-0.82440054,-1.217914,-0.11566027],\"xaxis\":\"x\",\"y\":[-0.017222447,0.1289048,-0.48455238,-0.2782454,-0.6366998,0.021471724,-0.913857,0.18755616,-0.68317187,-0.41468677,-0.31536573,0.13056333,-0.34695792,-0.98905855],\"yaxis\":\"y\",\"type\":\"scatter\"},{\"customdata\":[[\"peter tosh\",\"reggae\"],[\"gregory isaacs\",\"reggae\"],[\"toots and the maytals\",\"reggae\"],[\"black uhuru\",\"reggae\"],[\"buju banton\",\"reggae\"],[\"sizzla\",\"reggae\"],[\"capleton\",\"reggae\"],[\"dennis brown\",\"reggae\"],[\"beres hammond\",\"reggae\"],[\"alpha blondy\",\"reggae\"],[\"stephen marley\",\"reggae\"],[\"jimmy cliff\",\"reggae\"],[\"steel pulse\",\"reggae\"],[\"culture\",\"reggae\"]],\"hovertemplate\":\"genre=%{customdata[1]}\\u003cbr\\u003ex=%{x}\\u003cbr\\u003ey=%{y}\\u003cbr\\u003eartist_name=%{customdata[0]}\\u003cextra\\u003e\\u003c\\u002fextra\\u003e\",\"legendgroup\":\"reggae\",\"marker\":{\"color\":\"rgb(153,153,153)\",\"symbol\":\"circle\"},\"mode\":\"markers\",\"name\":\"reggae\",\"orientation\":\"v\",\"showlegend\":true,\"x\":[6.3196707,6.53993,5.7605777,5.9025483,6.9712505,6.6233373,6.7809606,6.700166,6.51912,7.0967536,7.578762,6.817389,5.92136,14.367618],\"xaxis\":\"x\",\"y\":[3.379896,3.5465665,3.2701287,3.0873215,2.3795516,2.586875,2.7282066,3.3463619,2.9470932,3.331908,3.5126333,3.7113144,3.045988,3.5294156],\"yaxis\":\"y\",\"type\":\"scatter\"}],                        {\"template\":{\"data\":{\"barpolar\":[{\"marker\":{\"line\":{\"color\":\"white\",\"width\":0.5},\"pattern\":{\"fillmode\":\"overlay\",\"size\":10,\"solidity\":0.2}},\"type\":\"barpolar\"}],\"bar\":[{\"error_x\":{\"color\":\"#2a3f5f\"},\"error_y\":{\"color\":\"#2a3f5f\"},\"marker\":{\"line\":{\"color\":\"white\",\"width\":0.5},\"pattern\":{\"fillmode\":\"overlay\",\"size\":10,\"solidity\":0.2}},\"type\":\"bar\"}],\"carpet\":[{\"aaxis\":{\"endlinecolor\":\"#2a3f5f\",\"gridcolor\":\"#C8D4E3\",\"linecolor\":\"#C8D4E3\",\"minorgridcolor\":\"#C8D4E3\",\"startlinecolor\":\"#2a3f5f\"},\"baxis\":{\"endlinecolor\":\"#2a3f5f\",\"gridcolor\":\"#C8D4E3\",\"linecolor\":\"#C8D4E3\",\"minorgridcolor\":\"#C8D4E3\",\"startlinecolor\":\"#2a3f5f\"},\"type\":\"carpet\"}],\"choropleth\":[{\"colorbar\":{\"outlinewidth\":0,\"ticks\":\"\"},\"type\":\"choropleth\"}],\"contourcarpet\":[{\"colorbar\":{\"outlinewidth\":0,\"ticks\":\"\"},\"type\":\"contourcarpet\"}],\"contour\":[{\"colorbar\":{\"outlinewidth\":0,\"ticks\":\"\"},\"colorscale\":[[0.0,\"#0d0887\"],[0.1111111111111111,\"#46039f\"],[0.2222222222222222,\"#7201a8\"],[0.3333333333333333,\"#9c179e\"],[0.4444444444444444,\"#bd3786\"],[0.5555555555555556,\"#d8576b\"],[0.6666666666666666,\"#ed7953\"],[0.7777777777777778,\"#fb9f3a\"],[0.8888888888888888,\"#fdca26\"],[1.0,\"#f0f921\"]],\"type\":\"contour\"}],\"heatmapgl\":[{\"colorbar\":{\"outlinewidth\":0,\"ticks\":\"\"},\"colorscale\":[[0.0,\"#0d0887\"],[0.1111111111111111,\"#46039f\"],[0.2222222222222222,\"#7201a8\"],[0.3333333333333333,\"#9c179e\"],[0.4444444444444444,\"#bd3786\"],[0.5555555555555556,\"#d8576b\"],[0.6666666666666666,\"#ed7953\"],[0.7777777777777778,\"#fb9f3a\"],[0.8888888888888888,\"#fdca26\"],[1.0,\"#f0f921\"]],\"type\":\"heatmapgl\"}],\"heatmap\":[{\"colorbar\":{\"outlinewidth\":0,\"ticks\":\"\"},\"colorscale\":[[0.0,\"#0d0887\"],[0.1111111111111111,\"#46039f\"],[0.2222222222222222,\"#7201a8\"],[0.3333333333333333,\"#9c179e\"],[0.4444444444444444,\"#bd3786\"],[0.5555555555555556,\"#d8576b\"],[0.6666666666666666,\"#ed7953\"],[0.7777777777777778,\"#fb9f3a\"],[0.8888888888888888,\"#fdca26\"],[1.0,\"#f0f921\"]],\"type\":\"heatmap\"}],\"histogram2dcontour\":[{\"colorbar\":{\"outlinewidth\":0,\"ticks\":\"\"},\"colorscale\":[[0.0,\"#0d0887\"],[0.1111111111111111,\"#46039f\"],[0.2222222222222222,\"#7201a8\"],[0.3333333333333333,\"#9c179e\"],[0.4444444444444444,\"#bd3786\"],[0.5555555555555556,\"#d8576b\"],[0.6666666666666666,\"#ed7953\"],[0.7777777777777778,\"#fb9f3a\"],[0.8888888888888888,\"#fdca26\"],[1.0,\"#f0f921\"]],\"type\":\"histogram2dcontour\"}],\"histogram2d\":[{\"colorbar\":{\"outlinewidth\":0,\"ticks\":\"\"},\"colorscale\":[[0.0,\"#0d0887\"],[0.1111111111111111,\"#46039f\"],[0.2222222222222222,\"#7201a8\"],[0.3333333333333333,\"#9c179e\"],[0.4444444444444444,\"#bd3786\"],[0.5555555555555556,\"#d8576b\"],[0.6666666666666666,\"#ed7953\"],[0.7777777777777778,\"#fb9f3a\"],[0.8888888888888888,\"#fdca26\"],[1.0,\"#f0f921\"]],\"type\":\"histogram2d\"}],\"histogram\":[{\"marker\":{\"pattern\":{\"fillmode\":\"overlay\",\"size\":10,\"solidity\":0.2}},\"type\":\"histogram\"}],\"mesh3d\":[{\"colorbar\":{\"outlinewidth\":0,\"ticks\":\"\"},\"type\":\"mesh3d\"}],\"parcoords\":[{\"line\":{\"colorbar\":{\"outlinewidth\":0,\"ticks\":\"\"}},\"type\":\"parcoords\"}],\"pie\":[{\"automargin\":true,\"type\":\"pie\"}],\"scatter3d\":[{\"line\":{\"colorbar\":{\"outlinewidth\":0,\"ticks\":\"\"}},\"marker\":{\"colorbar\":{\"outlinewidth\":0,\"ticks\":\"\"}},\"type\":\"scatter3d\"}],\"scattercarpet\":[{\"marker\":{\"colorbar\":{\"outlinewidth\":0,\"ticks\":\"\"}},\"type\":\"scattercarpet\"}],\"scattergeo\":[{\"marker\":{\"colorbar\":{\"outlinewidth\":0,\"ticks\":\"\"}},\"type\":\"scattergeo\"}],\"scattergl\":[{\"marker\":{\"colorbar\":{\"outlinewidth\":0,\"ticks\":\"\"}},\"type\":\"scattergl\"}],\"scattermapbox\":[{\"marker\":{\"colorbar\":{\"outlinewidth\":0,\"ticks\":\"\"}},\"type\":\"scattermapbox\"}],\"scatterpolargl\":[{\"marker\":{\"colorbar\":{\"outlinewidth\":0,\"ticks\":\"\"}},\"type\":\"scatterpolargl\"}],\"scatterpolar\":[{\"marker\":{\"colorbar\":{\"outlinewidth\":0,\"ticks\":\"\"}},\"type\":\"scatterpolar\"}],\"scatter\":[{\"fillpattern\":{\"fillmode\":\"overlay\",\"size\":10,\"solidity\":0.2},\"type\":\"scatter\"}],\"scatterternary\":[{\"marker\":{\"colorbar\":{\"outlinewidth\":0,\"ticks\":\"\"}},\"type\":\"scatterternary\"}],\"surface\":[{\"colorbar\":{\"outlinewidth\":0,\"ticks\":\"\"},\"colorscale\":[[0.0,\"#0d0887\"],[0.1111111111111111,\"#46039f\"],[0.2222222222222222,\"#7201a8\"],[0.3333333333333333,\"#9c179e\"],[0.4444444444444444,\"#bd3786\"],[0.5555555555555556,\"#d8576b\"],[0.6666666666666666,\"#ed7953\"],[0.7777777777777778,\"#fb9f3a\"],[0.8888888888888888,\"#fdca26\"],[1.0,\"#f0f921\"]],\"type\":\"surface\"}],\"table\":[{\"cells\":{\"fill\":{\"color\":\"#EBF0F8\"},\"line\":{\"color\":\"white\"}},\"header\":{\"fill\":{\"color\":\"#C8D4E3\"},\"line\":{\"color\":\"white\"}},\"type\":\"table\"}]},\"layout\":{\"annotationdefaults\":{\"arrowcolor\":\"#2a3f5f\",\"arrowhead\":0,\"arrowwidth\":1},\"autotypenumbers\":\"strict\",\"coloraxis\":{\"colorbar\":{\"outlinewidth\":0,\"ticks\":\"\"}},\"colorscale\":{\"diverging\":[[0,\"#8e0152\"],[0.1,\"#c51b7d\"],[0.2,\"#de77ae\"],[0.3,\"#f1b6da\"],[0.4,\"#fde0ef\"],[0.5,\"#f7f7f7\"],[0.6,\"#e6f5d0\"],[0.7,\"#b8e186\"],[0.8,\"#7fbc41\"],[0.9,\"#4d9221\"],[1,\"#276419\"]],\"sequential\":[[0.0,\"#0d0887\"],[0.1111111111111111,\"#46039f\"],[0.2222222222222222,\"#7201a8\"],[0.3333333333333333,\"#9c179e\"],[0.4444444444444444,\"#bd3786\"],[0.5555555555555556,\"#d8576b\"],[0.6666666666666666,\"#ed7953\"],[0.7777777777777778,\"#fb9f3a\"],[0.8888888888888888,\"#fdca26\"],[1.0,\"#f0f921\"]],\"sequentialminus\":[[0.0,\"#0d0887\"],[0.1111111111111111,\"#46039f\"],[0.2222222222222222,\"#7201a8\"],[0.3333333333333333,\"#9c179e\"],[0.4444444444444444,\"#bd3786\"],[0.5555555555555556,\"#d8576b\"],[0.6666666666666666,\"#ed7953\"],[0.7777777777777778,\"#fb9f3a\"],[0.8888888888888888,\"#fdca26\"],[1.0,\"#f0f921\"]]},\"colorway\":[\"#636efa\",\"#EF553B\",\"#00cc96\",\"#ab63fa\",\"#FFA15A\",\"#19d3f3\",\"#FF6692\",\"#B6E880\",\"#FF97FF\",\"#FECB52\"],\"font\":{\"color\":\"#2a3f5f\"},\"geo\":{\"bgcolor\":\"white\",\"lakecolor\":\"white\",\"landcolor\":\"white\",\"showlakes\":true,\"showland\":true,\"subunitcolor\":\"#C8D4E3\"},\"hoverlabel\":{\"align\":\"left\"},\"hovermode\":\"closest\",\"mapbox\":{\"style\":\"light\"},\"paper_bgcolor\":\"white\",\"plot_bgcolor\":\"white\",\"polar\":{\"angularaxis\":{\"gridcolor\":\"#EBF0F8\",\"linecolor\":\"#EBF0F8\",\"ticks\":\"\"},\"bgcolor\":\"white\",\"radialaxis\":{\"gridcolor\":\"#EBF0F8\",\"linecolor\":\"#EBF0F8\",\"ticks\":\"\"}},\"scene\":{\"xaxis\":{\"backgroundcolor\":\"white\",\"gridcolor\":\"#DFE8F3\",\"gridwidth\":2,\"linecolor\":\"#EBF0F8\",\"showbackground\":true,\"ticks\":\"\",\"zerolinecolor\":\"#EBF0F8\"},\"yaxis\":{\"backgroundcolor\":\"white\",\"gridcolor\":\"#DFE8F3\",\"gridwidth\":2,\"linecolor\":\"#EBF0F8\",\"showbackground\":true,\"ticks\":\"\",\"zerolinecolor\":\"#EBF0F8\"},\"zaxis\":{\"backgroundcolor\":\"white\",\"gridcolor\":\"#DFE8F3\",\"gridwidth\":2,\"linecolor\":\"#EBF0F8\",\"showbackground\":true,\"ticks\":\"\",\"zerolinecolor\":\"#EBF0F8\"}},\"shapedefaults\":{\"line\":{\"color\":\"#2a3f5f\"}},\"ternary\":{\"aaxis\":{\"gridcolor\":\"#DFE8F3\",\"linecolor\":\"#A2B1C6\",\"ticks\":\"\"},\"baxis\":{\"gridcolor\":\"#DFE8F3\",\"linecolor\":\"#A2B1C6\",\"ticks\":\"\"},\"bgcolor\":\"white\",\"caxis\":{\"gridcolor\":\"#DFE8F3\",\"linecolor\":\"#A2B1C6\",\"ticks\":\"\"}},\"title\":{\"x\":0.05},\"xaxis\":{\"automargin\":true,\"gridcolor\":\"#EBF0F8\",\"linecolor\":\"#EBF0F8\",\"ticks\":\"\",\"title\":{\"standoff\":15},\"zerolinecolor\":\"#EBF0F8\",\"zerolinewidth\":2},\"yaxis\":{\"automargin\":true,\"gridcolor\":\"#EBF0F8\",\"linecolor\":\"#EBF0F8\",\"ticks\":\"\",\"title\":{\"standoff\":15},\"zerolinecolor\":\"#EBF0F8\",\"zerolinewidth\":2}}},\"xaxis\":{\"anchor\":\"y\",\"domain\":[0.0,1.0],\"title\":{\"text\":\"x\"}},\"yaxis\":{\"anchor\":\"x\",\"domain\":[0.0,1.0],\"title\":{\"text\":\"y\"}},\"legend\":{\"title\":{\"text\":\"genre\"},\"tracegroupgap\":0},\"title\":{\"text\":\"UMAP Visualization (n_neighbors=5, min_dist=0.3, metric=euclidean)\"}},                        {\"responsive\": true}                    ).then(function(){\n",
              "                            \n",
              "var gd = document.getElementById('b4d21eb5-5723-45c8-ad6d-29b799680dcc');\n",
              "var x = new MutationObserver(function (mutations, observer) {{\n",
              "        var display = window.getComputedStyle(gd).display;\n",
              "        if (!display || display === 'none') {{\n",
              "            console.log([gd, 'removed!']);\n",
              "            Plotly.purge(gd);\n",
              "            observer.disconnect();\n",
              "        }}\n",
              "}});\n",
              "\n",
              "// Listen for the removal of the full notebook cells\n",
              "var notebookContainer = gd.closest('#notebook-container');\n",
              "if (notebookContainer) {{\n",
              "    x.observe(notebookContainer, {childList: true});\n",
              "}}\n",
              "\n",
              "// Listen for the clearing of the current output cell\n",
              "var outputEl = gd.closest('.output');\n",
              "if (outputEl) {{\n",
              "    x.observe(outputEl, {childList: true});\n",
              "}}\n",
              "\n",
              "                        })                };                            </script>        </div>\n",
              "</body>\n",
              "</html>"
            ]
          },
          "metadata": {}
        }
      ]
    },
    {
      "source": [
        "import numpy as np\n",
        "from sklearn.manifold import TSNE\n",
        "tsne = TSNE(n_components=2, perplexity=30, random_state=42)  # Adjust parameters as needed\n",
        "embeddings_array = np.array(embeddings)\n",
        "embeddings_2d_tsne = tsne.fit_transform(embeddings_array)\n",
        "\n",
        "plot_df_tsne = pd.DataFrame(embeddings_2d_tsne, columns=[\"x\", \"y\"])\n",
        "plot_df_tsne[\"genre\"] = df.loc[X_train.index, 'genre']\n",
        "plot_df_tsne[\"artist_name\"] = df.loc[X_train.index, 'artist_name']\n",
        "\n",
        "fig_tsne = px.scatter(\n",
        "       plot_df_tsne,\n",
        "       x=\"x\",\n",
        "       y=\"y\",\n",
        "       color=\"genre\",\n",
        "       hover_data=[\"artist_name\", \"genre\"],\n",
        "       title=\"t-SNE Visualization of Embeddings\"\n",
        "   )\n",
        "fig_tsne.show()"
      ],
      "cell_type": "code",
      "metadata": {
        "colab": {
          "base_uri": "https://localhost:8080/",
          "height": 542
        },
        "id": "LXLn2zmQsqqw",
        "outputId": "44e9a8b5-c2f2-4fc0-ec7e-bd9ff99d0c80"
      },
      "execution_count": null,
      "outputs": [
        {
          "output_type": "display_data",
          "data": {
            "text/html": [
              "<html>\n",
              "<head><meta charset=\"utf-8\" /></head>\n",
              "<body>\n",
              "    <div>            <script src=\"https://cdnjs.cloudflare.com/ajax/libs/mathjax/2.7.5/MathJax.js?config=TeX-AMS-MML_SVG\"></script><script type=\"text/javascript\">if (window.MathJax && window.MathJax.Hub && window.MathJax.Hub.Config) {window.MathJax.Hub.Config({SVG: {font: \"STIX-Web\"}});}</script>                <script type=\"text/javascript\">window.PlotlyConfig = {MathJaxConfig: 'local'};</script>\n",
              "        <script charset=\"utf-8\" src=\"https://cdn.plot.ly/plotly-2.35.2.min.js\"></script>                <div id=\"3ddad998-1bd2-4117-92b8-c74493c5c06e\" class=\"plotly-graph-div\" style=\"height:525px; width:100%;\"></div>            <script type=\"text/javascript\">                                    window.PLOTLYENV=window.PLOTLYENV || {};                                    if (document.getElementById(\"3ddad998-1bd2-4117-92b8-c74493c5c06e\")) {                    Plotly.newPlot(                        \"3ddad998-1bd2-4117-92b8-c74493c5c06e\",                        [{\"customdata\":[[\"miles davis\",\"jazz\"],[\"charlie parker\",\"jazz\"],[\"billie holiday\",\"jazz\"],[\"ella fitzgerald\",\"jazz\"],[\"thelonious monk\",\"jazz\"],[\"dizzy gillespie\",\"jazz\"],[\"chet baker\",\"jazz\"],[\"stan getz\",\"jazz\"],[\"dave brubeck\",\"jazz\"],[\"bill evans\",\"jazz\"],[\"sonny rollins\",\"jazz\"],[\"oscar peterson\",\"jazz\"],[\"sarah vaughan\",\"jazz\"],[\"wynton marsalis\",\"jazz\"]],\"hovertemplate\":\"genre=%{customdata[1]}\\u003cbr\\u003ex=%{x}\\u003cbr\\u003ey=%{y}\\u003cbr\\u003eartist_name=%{customdata[0]}\\u003cextra\\u003e\\u003c\\u002fextra\\u003e\",\"legendgroup\":\"jazz\",\"marker\":{\"color\":\"#636efa\",\"symbol\":\"circle\"},\"mode\":\"markers\",\"name\":\"jazz\",\"orientation\":\"v\",\"showlegend\":true,\"x\":[8.655421,7.8214827,5.737198,6.3439546,6.812816,6.4225745,10.553355,10.245092,9.224511,9.297119,7.4117703,5.300596,6.753402,5.085961],\"xaxis\":\"x\",\"y\":[9.490016,9.827462,7.644007,7.598067,11.94317,10.690413,10.995054,10.525028,11.914185,12.211511,11.52952,9.191566,7.1767116,10.538435],\"yaxis\":\"y\",\"type\":\"scatter\"},{\"customdata\":[[\"maria callas\",\"opera\"],[\"placido domingo\",\"opera\"],[\"renee fleming\",\"opera\"],[\"jose carreras\",\"opera\"],[\"anna netrebko\",\"opera\"],[\"juan diego florez\",\"opera\"],[\"jessye norman\",\"opera\"],[\"jonas kaufmann\",\"opera\"],[\"kiri te kanawa\",\"opera\"],[\"franco corelli\",\"opera\"],[\"elina garanca\",\"opera\"],[\"roberto alagna\",\"opera\"],[\"diana damrau\",\"opera\"],[\"bryn terfel\",\"opera\"]],\"hovertemplate\":\"genre=%{customdata[1]}\\u003cbr\\u003ex=%{x}\\u003cbr\\u003ey=%{y}\\u003cbr\\u003eartist_name=%{customdata[0]}\\u003cextra\\u003e\\u003c\\u002fextra\\u003e\",\"legendgroup\":\"opera\",\"marker\":{\"color\":\"#00cc96\",\"symbol\":\"circle\"},\"mode\":\"markers\",\"name\":\"opera\",\"orientation\":\"v\",\"showlegend\":true,\"x\":[4.864348,0.3426038,10.486902,1.0981659,-5.652819,-1.8962317,5.4474983,-2.7347548,-3.9318476,-0.9244475,-2.4484456,-5.695262,-2.3485017,-4.600078],\"xaxis\":\"x\",\"y\":[7.218026,3.2182736,5.323039,3.2936554,3.065316,2.2167575,5.865151,3.3078694,2.0248682,2.0284495,1.216955,5.2737455,0.8243507,4.6534057],\"yaxis\":\"y\",\"type\":\"scatter\"},{\"customdata\":[[\"willie nelson\",\"country\"],[\"hank williams\",\"country\"],[\"loretta lynn\",\"country\"],[\"garth brooks\",\"country\"],[\"patsy cline\",\"country\"],[\"george strait\",\"country\"],[\"merle haggard\",\"country\"],[\"reba mcentire\",\"country\"],[\"toby keith\",\"country\"],[\"alan jackson\",\"country\"],[\"tim mcgraw\",\"country\"],[\"faith hill\",\"country\"],[\"carrie underwood\",\"country\"],[\"miranda lambert\",\"country\"]],\"hovertemplate\":\"genre=%{customdata[1]}\\u003cbr\\u003ex=%{x}\\u003cbr\\u003ey=%{y}\\u003cbr\\u003eartist_name=%{customdata[0]}\\u003cextra\\u003e\\u003c\\u002fextra\\u003e\",\"legendgroup\":\"country\",\"marker\":{\"color\":\"#ab63fa\",\"symbol\":\"circle\"},\"mode\":\"markers\",\"name\":\"country\",\"orientation\":\"v\",\"showlegend\":true,\"x\":[5.920501,6.7919507,7.075121,8.004611,7.157974,7.9106317,5.5315256,12.037923,8.8388,8.886973,9.562464,10.223467,11.783945,12.364],\"xaxis\":\"x\",\"y\":[1.2458093,1.8376839,3.179005,0.15405872,4.71038,0.75801694,1.8768175,2.7782288,-0.30371097,0.99325097,0.68619424,2.06665,0.89605194,1.4962505],\"yaxis\":\"y\",\"type\":\"scatter\"},{\"customdata\":[[\"aphex twin\",\"electronic\"],[\"daft punk\",\"electronic\"],[\"the chemical brothers\",\"electronic\"],[\"kraftwerk\",\"electronic\"],[\"boards of canada\",\"electronic\"],[\"moby\",\"electronic\"],[\"orbital\",\"electronic\"],[\"portishead\",\"electronic\"],[\"flying lotus\",\"electronic\"],[\"burial\",\"electronic\"],[\"tangerine dream\",\"electronic\"],[\"autechre\",\"electronic\"],[\"skrillex\",\"electronic\"],[\"bonobo\",\"electronic\"]],\"hovertemplate\":\"genre=%{customdata[1]}\\u003cbr\\u003ex=%{x}\\u003cbr\\u003ey=%{y}\\u003cbr\\u003eartist_name=%{customdata[0]}\\u003cextra\\u003e\\u003c\\u002fextra\\u003e\",\"legendgroup\":\"electronic\",\"marker\":{\"color\":\"#FFA15A\",\"symbol\":\"circle\"},\"mode\":\"markers\",\"name\":\"electronic\",\"orientation\":\"v\",\"showlegend\":true,\"x\":[-9.254435,-11.687871,-10.632208,-10.946303,-10.789406,-6.1060896,-4.9518547,-11.63636,-7.6562095,-4.145558,-7.3535414,-8.984396,-4.4861326,-6.082619],\"xaxis\":\"x\",\"y\":[-3.1244934,-3.397528,-3.8457603,-2.8678153,-4.6140614,-12.959741,-8.192455,-5.389699,-0.87774414,-10.413863,-11.546271,-2.8221054,-3.0287237,-3.315398],\"yaxis\":\"y\",\"type\":\"scatter\"},{\"customdata\":[[\"metallica\",\"metal\"],[\"iron maiden\",\"metal\"],[\"slayer\",\"metal\"],[\"anthrax\",\"metal\"],[\"pantera\",\"metal\"],[\"black sabbath\",\"metal\"],[\"lamb of god\",\"metal\"],[\"slipknot\",\"metal\"],[\"mastodon\",\"metal\"],[\"tool\",\"metal\"],[\"death\",\"metal\"],[\"amon amarth\",\"metal\"],[\"arch enemy\",\"metal\"],[\"behemoth\",\"metal\"]],\"hovertemplate\":\"genre=%{customdata[1]}\\u003cbr\\u003ex=%{x}\\u003cbr\\u003ey=%{y}\\u003cbr\\u003eartist_name=%{customdata[0]}\\u003cextra\\u003e\\u003c\\u002fextra\\u003e\",\"legendgroup\":\"metal\",\"marker\":{\"color\":\"#19d3f3\",\"symbol\":\"circle\"},\"mode\":\"markers\",\"name\":\"metal\",\"orientation\":\"v\",\"showlegend\":true,\"x\":[-7.067773,-7.5113363,-6.4311223,-10.083067,-5.643042,-9.847372,-9.257675,-10.198715,-10.455656,-5.205508,-3.6310513,-11.388907,-4.183655,-8.526815],\"xaxis\":\"x\",\"y\":[-6.9507136,-7.7415614,-10.542889,-7.199547,-7.534377,-7.1931076,-10.045997,-8.524677,-10.120722,-11.486274,-11.436494,-9.472731,-11.962459,-9.24302],\"yaxis\":\"y\",\"type\":\"scatter\"},{\"customdata\":[[\"kendrick lamar\",\"rap\"],[\"cole\",\"rap\"],[\"drake\",\"rap\"],[\"eminem\",\"rap\"],[\"kanye west\",\"rap\"],[\"jayz\",\"rap\"],[\"nicki minaj\",\"rap\"],[\"cardi b\",\"rap\"],[\"21 savage\",\"rap\"],[\"future\",\"rap\"],[\"post malone\",\"rap\"],[\"dababy\",\"rap\"],[\"tyler the creator\",\"rap\"],[\"aap rocky\",\"rap\"]],\"hovertemplate\":\"genre=%{customdata[1]}\\u003cbr\\u003ex=%{x}\\u003cbr\\u003ey=%{y}\\u003cbr\\u003eartist_name=%{customdata[0]}\\u003cextra\\u003e\\u003c\\u002fextra\\u003e\",\"legendgroup\":\"rap\",\"marker\":{\"color\":\"#FF6692\",\"symbol\":\"circle\"},\"mode\":\"markers\",\"name\":\"rap\",\"orientation\":\"v\",\"showlegend\":true,\"x\":[-1.2910991,-2.5327315,-1.5901375,-3.0505638,-2.1365929,-1.831767,-1.9154657,-1.944367,-0.23249547,-2.8441682,1.2482529,-4.012768,1.3545722,-2.7568119],\"xaxis\":\"x\",\"y\":[-6.476211,-13.23748,-8.512152,-4.8860145,-6.6710973,-8.102903,-3.3491666,-3.0170984,-5.882838,-12.067947,-3.648641,-13.482392,-7.0500126,-14.279235],\"yaxis\":\"y\",\"type\":\"scatter\"},{\"customdata\":[[\"ludwig van beethoven\",\"classical\"],[\"wolfgang amadeus mozart\",\"classical\"],[\"johann sebastian bach\",\"classical\"],[\"franz schubert\",\"classical\"],[\"johannes brahms\",\"classical\"],[\"georg friedrich handel\",\"classical\"],[\"igor stravinsky\",\"classical\"],[\"antonin dvorak\",\"classical\"],[\"gustav mahler\",\"classical\"],[\"robert schumann\",\"classical\"],[\"felix mendelssohn\",\"classical\"],[\"antonio vivaldi\",\"classical\"],[\"giuseppe verdi\",\"classical\"],[\"richard strauss\",\"classical\"]],\"hovertemplate\":\"genre=%{customdata[1]}\\u003cbr\\u003ex=%{x}\\u003cbr\\u003ey=%{y}\\u003cbr\\u003eartist_name=%{customdata[0]}\\u003cextra\\u003e\\u003c\\u002fextra\\u003e\",\"legendgroup\":\"classical\",\"marker\":{\"color\":\"#B6E880\",\"symbol\":\"circle\"},\"mode\":\"markers\",\"name\":\"classical\",\"orientation\":\"v\",\"showlegend\":true,\"x\":[0.47974703,-0.077626534,0.42914316,-1.7333676,1.2103766,-1.12475,-2.6658027,1.2154242,-2.489337,-1.3065777,0.8527676,-0.34085393,-3.1442816,-1.0930256],\"xaxis\":\"x\",\"y\":[6.962849,6.019687,7.56348,6.338679,8.647067,4.85497,8.898848,6.1113167,6.3916597,6.947005,9.7163725,5.346473,5.413539,9.129765],\"yaxis\":\"y\",\"type\":\"scatter\"},{\"customdata\":[[\"peter tosh\",\"reggae\"],[\"gregory isaacs\",\"reggae\"],[\"toots and the maytals\",\"reggae\"],[\"black uhuru\",\"reggae\"],[\"buju banton\",\"reggae\"],[\"sizzla\",\"reggae\"],[\"capleton\",\"reggae\"],[\"dennis brown\",\"reggae\"],[\"beres hammond\",\"reggae\"],[\"alpha blondy\",\"reggae\"],[\"stephen marley\",\"reggae\"],[\"jimmy cliff\",\"reggae\"],[\"steel pulse\",\"reggae\"],[\"culture\",\"reggae\"]],\"hovertemplate\":\"genre=%{customdata[1]}\\u003cbr\\u003ex=%{x}\\u003cbr\\u003ey=%{y}\\u003cbr\\u003eartist_name=%{customdata[0]}\\u003cextra\\u003e\\u003c\\u002fextra\\u003e\",\"legendgroup\":\"reggae\",\"marker\":{\"color\":\"#FF97FF\",\"symbol\":\"circle\"},\"mode\":\"markers\",\"name\":\"reggae\",\"orientation\":\"v\",\"showlegend\":true,\"x\":[6.74328,7.0234118,6.9958334,6.4182568,3.0600517,4.227669,4.549072,6.0762563,8.017014,5.1982713,4.187603,7.9075084,5.8385544,-2.6724637],\"xaxis\":\"x\",\"y\":[-4.899131,-3.8553004,-6.7203856,-5.867737,-4.7995276,-5.027926,-4.841271,-3.4402761,-4.8659306,-3.4658556,-2.5534427,-3.452781,-6.0242085,-11.886656],\"yaxis\":\"y\",\"type\":\"scatter\"}],                        {\"template\":{\"data\":{\"histogram2dcontour\":[{\"type\":\"histogram2dcontour\",\"colorbar\":{\"outlinewidth\":0,\"ticks\":\"\"},\"colorscale\":[[0.0,\"#0d0887\"],[0.1111111111111111,\"#46039f\"],[0.2222222222222222,\"#7201a8\"],[0.3333333333333333,\"#9c179e\"],[0.4444444444444444,\"#bd3786\"],[0.5555555555555556,\"#d8576b\"],[0.6666666666666666,\"#ed7953\"],[0.7777777777777778,\"#fb9f3a\"],[0.8888888888888888,\"#fdca26\"],[1.0,\"#f0f921\"]]}],\"choropleth\":[{\"type\":\"choropleth\",\"colorbar\":{\"outlinewidth\":0,\"ticks\":\"\"}}],\"histogram2d\":[{\"type\":\"histogram2d\",\"colorbar\":{\"outlinewidth\":0,\"ticks\":\"\"},\"colorscale\":[[0.0,\"#0d0887\"],[0.1111111111111111,\"#46039f\"],[0.2222222222222222,\"#7201a8\"],[0.3333333333333333,\"#9c179e\"],[0.4444444444444444,\"#bd3786\"],[0.5555555555555556,\"#d8576b\"],[0.6666666666666666,\"#ed7953\"],[0.7777777777777778,\"#fb9f3a\"],[0.8888888888888888,\"#fdca26\"],[1.0,\"#f0f921\"]]}],\"heatmap\":[{\"type\":\"heatmap\",\"colorbar\":{\"outlinewidth\":0,\"ticks\":\"\"},\"colorscale\":[[0.0,\"#0d0887\"],[0.1111111111111111,\"#46039f\"],[0.2222222222222222,\"#7201a8\"],[0.3333333333333333,\"#9c179e\"],[0.4444444444444444,\"#bd3786\"],[0.5555555555555556,\"#d8576b\"],[0.6666666666666666,\"#ed7953\"],[0.7777777777777778,\"#fb9f3a\"],[0.8888888888888888,\"#fdca26\"],[1.0,\"#f0f921\"]]}],\"heatmapgl\":[{\"type\":\"heatmapgl\",\"colorbar\":{\"outlinewidth\":0,\"ticks\":\"\"},\"colorscale\":[[0.0,\"#0d0887\"],[0.1111111111111111,\"#46039f\"],[0.2222222222222222,\"#7201a8\"],[0.3333333333333333,\"#9c179e\"],[0.4444444444444444,\"#bd3786\"],[0.5555555555555556,\"#d8576b\"],[0.6666666666666666,\"#ed7953\"],[0.7777777777777778,\"#fb9f3a\"],[0.8888888888888888,\"#fdca26\"],[1.0,\"#f0f921\"]]}],\"contourcarpet\":[{\"type\":\"contourcarpet\",\"colorbar\":{\"outlinewidth\":0,\"ticks\":\"\"}}],\"contour\":[{\"type\":\"contour\",\"colorbar\":{\"outlinewidth\":0,\"ticks\":\"\"},\"colorscale\":[[0.0,\"#0d0887\"],[0.1111111111111111,\"#46039f\"],[0.2222222222222222,\"#7201a8\"],[0.3333333333333333,\"#9c179e\"],[0.4444444444444444,\"#bd3786\"],[0.5555555555555556,\"#d8576b\"],[0.6666666666666666,\"#ed7953\"],[0.7777777777777778,\"#fb9f3a\"],[0.8888888888888888,\"#fdca26\"],[1.0,\"#f0f921\"]]}],\"surface\":[{\"type\":\"surface\",\"colorbar\":{\"outlinewidth\":0,\"ticks\":\"\"},\"colorscale\":[[0.0,\"#0d0887\"],[0.1111111111111111,\"#46039f\"],[0.2222222222222222,\"#7201a8\"],[0.3333333333333333,\"#9c179e\"],[0.4444444444444444,\"#bd3786\"],[0.5555555555555556,\"#d8576b\"],[0.6666666666666666,\"#ed7953\"],[0.7777777777777778,\"#fb9f3a\"],[0.8888888888888888,\"#fdca26\"],[1.0,\"#f0f921\"]]}],\"mesh3d\":[{\"type\":\"mesh3d\",\"colorbar\":{\"outlinewidth\":0,\"ticks\":\"\"}}],\"scatter\":[{\"fillpattern\":{\"fillmode\":\"overlay\",\"size\":10,\"solidity\":0.2},\"type\":\"scatter\"}],\"parcoords\":[{\"type\":\"parcoords\",\"line\":{\"colorbar\":{\"outlinewidth\":0,\"ticks\":\"\"}}}],\"scatterpolargl\":[{\"type\":\"scatterpolargl\",\"marker\":{\"colorbar\":{\"outlinewidth\":0,\"ticks\":\"\"}}}],\"bar\":[{\"error_x\":{\"color\":\"#2a3f5f\"},\"error_y\":{\"color\":\"#2a3f5f\"},\"marker\":{\"line\":{\"color\":\"#E5ECF6\",\"width\":0.5},\"pattern\":{\"fillmode\":\"overlay\",\"size\":10,\"solidity\":0.2}},\"type\":\"bar\"}],\"scattergeo\":[{\"type\":\"scattergeo\",\"marker\":{\"colorbar\":{\"outlinewidth\":0,\"ticks\":\"\"}}}],\"scatterpolar\":[{\"type\":\"scatterpolar\",\"marker\":{\"colorbar\":{\"outlinewidth\":0,\"ticks\":\"\"}}}],\"histogram\":[{\"marker\":{\"pattern\":{\"fillmode\":\"overlay\",\"size\":10,\"solidity\":0.2}},\"type\":\"histogram\"}],\"scattergl\":[{\"type\":\"scattergl\",\"marker\":{\"colorbar\":{\"outlinewidth\":0,\"ticks\":\"\"}}}],\"scatter3d\":[{\"type\":\"scatter3d\",\"line\":{\"colorbar\":{\"outlinewidth\":0,\"ticks\":\"\"}},\"marker\":{\"colorbar\":{\"outlinewidth\":0,\"ticks\":\"\"}}}],\"scattermapbox\":[{\"type\":\"scattermapbox\",\"marker\":{\"colorbar\":{\"outlinewidth\":0,\"ticks\":\"\"}}}],\"scatterternary\":[{\"type\":\"scatterternary\",\"marker\":{\"colorbar\":{\"outlinewidth\":0,\"ticks\":\"\"}}}],\"scattercarpet\":[{\"type\":\"scattercarpet\",\"marker\":{\"colorbar\":{\"outlinewidth\":0,\"ticks\":\"\"}}}],\"carpet\":[{\"aaxis\":{\"endlinecolor\":\"#2a3f5f\",\"gridcolor\":\"white\",\"linecolor\":\"white\",\"minorgridcolor\":\"white\",\"startlinecolor\":\"#2a3f5f\"},\"baxis\":{\"endlinecolor\":\"#2a3f5f\",\"gridcolor\":\"white\",\"linecolor\":\"white\",\"minorgridcolor\":\"white\",\"startlinecolor\":\"#2a3f5f\"},\"type\":\"carpet\"}],\"table\":[{\"cells\":{\"fill\":{\"color\":\"#EBF0F8\"},\"line\":{\"color\":\"white\"}},\"header\":{\"fill\":{\"color\":\"#C8D4E3\"},\"line\":{\"color\":\"white\"}},\"type\":\"table\"}],\"barpolar\":[{\"marker\":{\"line\":{\"color\":\"#E5ECF6\",\"width\":0.5},\"pattern\":{\"fillmode\":\"overlay\",\"size\":10,\"solidity\":0.2}},\"type\":\"barpolar\"}],\"pie\":[{\"automargin\":true,\"type\":\"pie\"}]},\"layout\":{\"autotypenumbers\":\"strict\",\"colorway\":[\"#636efa\",\"#EF553B\",\"#00cc96\",\"#ab63fa\",\"#FFA15A\",\"#19d3f3\",\"#FF6692\",\"#B6E880\",\"#FF97FF\",\"#FECB52\"],\"font\":{\"color\":\"#2a3f5f\"},\"hovermode\":\"closest\",\"hoverlabel\":{\"align\":\"left\"},\"paper_bgcolor\":\"white\",\"plot_bgcolor\":\"#E5ECF6\",\"polar\":{\"bgcolor\":\"#E5ECF6\",\"angularaxis\":{\"gridcolor\":\"white\",\"linecolor\":\"white\",\"ticks\":\"\"},\"radialaxis\":{\"gridcolor\":\"white\",\"linecolor\":\"white\",\"ticks\":\"\"}},\"ternary\":{\"bgcolor\":\"#E5ECF6\",\"aaxis\":{\"gridcolor\":\"white\",\"linecolor\":\"white\",\"ticks\":\"\"},\"baxis\":{\"gridcolor\":\"white\",\"linecolor\":\"white\",\"ticks\":\"\"},\"caxis\":{\"gridcolor\":\"white\",\"linecolor\":\"white\",\"ticks\":\"\"}},\"coloraxis\":{\"colorbar\":{\"outlinewidth\":0,\"ticks\":\"\"}},\"colorscale\":{\"sequential\":[[0.0,\"#0d0887\"],[0.1111111111111111,\"#46039f\"],[0.2222222222222222,\"#7201a8\"],[0.3333333333333333,\"#9c179e\"],[0.4444444444444444,\"#bd3786\"],[0.5555555555555556,\"#d8576b\"],[0.6666666666666666,\"#ed7953\"],[0.7777777777777778,\"#fb9f3a\"],[0.8888888888888888,\"#fdca26\"],[1.0,\"#f0f921\"]],\"sequentialminus\":[[0.0,\"#0d0887\"],[0.1111111111111111,\"#46039f\"],[0.2222222222222222,\"#7201a8\"],[0.3333333333333333,\"#9c179e\"],[0.4444444444444444,\"#bd3786\"],[0.5555555555555556,\"#d8576b\"],[0.6666666666666666,\"#ed7953\"],[0.7777777777777778,\"#fb9f3a\"],[0.8888888888888888,\"#fdca26\"],[1.0,\"#f0f921\"]],\"diverging\":[[0,\"#8e0152\"],[0.1,\"#c51b7d\"],[0.2,\"#de77ae\"],[0.3,\"#f1b6da\"],[0.4,\"#fde0ef\"],[0.5,\"#f7f7f7\"],[0.6,\"#e6f5d0\"],[0.7,\"#b8e186\"],[0.8,\"#7fbc41\"],[0.9,\"#4d9221\"],[1,\"#276419\"]]},\"xaxis\":{\"gridcolor\":\"white\",\"linecolor\":\"white\",\"ticks\":\"\",\"title\":{\"standoff\":15},\"zerolinecolor\":\"white\",\"automargin\":true,\"zerolinewidth\":2},\"yaxis\":{\"gridcolor\":\"white\",\"linecolor\":\"white\",\"ticks\":\"\",\"title\":{\"standoff\":15},\"zerolinecolor\":\"white\",\"automargin\":true,\"zerolinewidth\":2},\"scene\":{\"xaxis\":{\"backgroundcolor\":\"#E5ECF6\",\"gridcolor\":\"white\",\"linecolor\":\"white\",\"showbackground\":true,\"ticks\":\"\",\"zerolinecolor\":\"white\",\"gridwidth\":2},\"yaxis\":{\"backgroundcolor\":\"#E5ECF6\",\"gridcolor\":\"white\",\"linecolor\":\"white\",\"showbackground\":true,\"ticks\":\"\",\"zerolinecolor\":\"white\",\"gridwidth\":2},\"zaxis\":{\"backgroundcolor\":\"#E5ECF6\",\"gridcolor\":\"white\",\"linecolor\":\"white\",\"showbackground\":true,\"ticks\":\"\",\"zerolinecolor\":\"white\",\"gridwidth\":2}},\"shapedefaults\":{\"line\":{\"color\":\"#2a3f5f\"}},\"annotationdefaults\":{\"arrowcolor\":\"#2a3f5f\",\"arrowhead\":0,\"arrowwidth\":1},\"geo\":{\"bgcolor\":\"white\",\"landcolor\":\"#E5ECF6\",\"subunitcolor\":\"white\",\"showland\":true,\"showlakes\":true,\"lakecolor\":\"white\"},\"title\":{\"x\":0.05},\"mapbox\":{\"style\":\"light\"}}},\"xaxis\":{\"anchor\":\"y\",\"domain\":[0.0,1.0],\"title\":{\"text\":\"x\"}},\"yaxis\":{\"anchor\":\"x\",\"domain\":[0.0,1.0],\"title\":{\"text\":\"y\"}},\"legend\":{\"title\":{\"text\":\"genre\"},\"tracegroupgap\":0},\"title\":{\"text\":\"t-SNE Visualization of Embeddings\"}},                        {\"responsive\": true}                    ).then(function(){\n",
              "                            \n",
              "var gd = document.getElementById('3ddad998-1bd2-4117-92b8-c74493c5c06e');\n",
              "var x = new MutationObserver(function (mutations, observer) {{\n",
              "        var display = window.getComputedStyle(gd).display;\n",
              "        if (!display || display === 'none') {{\n",
              "            console.log([gd, 'removed!']);\n",
              "            Plotly.purge(gd);\n",
              "            observer.disconnect();\n",
              "        }}\n",
              "}});\n",
              "\n",
              "// Listen for the removal of the full notebook cells\n",
              "var notebookContainer = gd.closest('#notebook-container');\n",
              "if (notebookContainer) {{\n",
              "    x.observe(notebookContainer, {childList: true});\n",
              "}}\n",
              "\n",
              "// Listen for the clearing of the current output cell\n",
              "var outputEl = gd.closest('.output');\n",
              "if (outputEl) {{\n",
              "    x.observe(outputEl, {childList: true});\n",
              "}}\n",
              "\n",
              "                        })                };                            </script>        </div>\n",
              "</body>\n",
              "</html>"
            ]
          },
          "metadata": {}
        }
      ]
    },
    {
      "cell_type": "markdown",
      "source": [
        "## Feature engineer (optional)\n",
        "To enhance the dataset with useful features if needed (e.g., metadata).\n",
        "\n",
        "If the overlapping points primarily belong to specific genres or groups of artists, consider adding more features to your data that might help differentiate them. This could involve:\n",
        "\n",
        "Popularity metrics: Spotify listener counts, chart positions, etc.\n",
        "Era of activity: Birth year, years active, etc.\n",
        "Region or origin: Country, region, etc.\n",
        "Known instruments: Primary instrument(s) played.\n",
        "Lyrics or descriptions: Text-based features extracted from artist descriptions or lyrics.\n",
        "\n",
        "Feature Engineering (Reiterated): Carefully consider and incorporate additional features that might help differentiate artists within the overlapping clusters. As mentioned before, think about features beyond just the artist's name that are relevant to genre classification.\n",
        "\n",
        "Data Augmentation (Reiterated): Augment your data with variations of artist names, related artists, or subgenres to increase diversity and help the model learn more robust representations.\n"
      ],
      "metadata": {
        "id": "CrE4mQtajYQ5"
      }
    },
    {
      "cell_type": "markdown",
      "source": [
        "## Step 3 - Train Classifier\n",
        "\n",
        "Train a simple classifier to predict the genre from the embedding vector of the artist's name. It is up to you to pick an architecture, train, and evaluate the model. We suggest using [pytorch](https://pytorch.org/), but you can use any framework you want."
      ],
      "metadata": {
        "id": "WbBGquQw2gzx"
      }
    },
    {
      "cell_type": "code",
      "source": [
        "from sklearn.linear_model import LogisticRegression\n",
        "from sklearn.preprocessing import LabelEncoder\n",
        "from sklearn.metrics import classification_report\n",
        "\n",
        "# Encode genres as numerical labels\n",
        "label_encoder = LabelEncoder()\n",
        "y_train_encoded = label_encoder.fit_transform(y_train)\n",
        "y_val_encoded = label_encoder.transform(y_val)\n",
        "\n",
        "# Train Logistic Regression\n",
        "classifier = LogisticRegression(max_iter=1000, random_state=42, penalty='l2', C=5.809)\n",
        "classifier.fit(embeddings_train, y_train_encoded)\n",
        "\n",
        "# Save the classifier and label encoder\n",
        "import joblib\n",
        "joblib.dump(classifier, \"genre_classifier.pkl\")\n",
        "joblib.dump(label_encoder, \"label_encoder.pkl\")\n",
        "\n",
        "# Predict on validation set\n",
        "val_predictions = classifier.predict(embeddings_val)\n",
        "\n",
        "print(\"Validation Classification Report:\")\n",
        "target_names = [str(cls) for cls in label_encoder.classes_]\n",
        "print(classification_report(y_val_encoded, val_predictions, target_names=target_names))"
      ],
      "metadata": {
        "colab": {
          "base_uri": "https://localhost:8080/"
        },
        "id": "aI3_8WtpUGAl",
        "outputId": "30170eba-35e0-432c-ff61-3e5898067c69"
      },
      "execution_count": null,
      "outputs": [
        {
          "output_type": "stream",
          "name": "stdout",
          "text": [
            "Validation Classification Report:\n",
            "              precision    recall  f1-score   support\n",
            "\n",
            "           0       1.00      1.00      1.00         3\n",
            "           1       1.00      1.00      1.00         3\n",
            "           2       1.00      1.00      1.00         3\n",
            "           3       1.00      0.67      0.80         3\n",
            "           4       1.00      1.00      1.00         3\n",
            "           5       0.75      1.00      0.86         3\n",
            "           6       1.00      1.00      1.00         3\n",
            "           7       1.00      1.00      1.00         3\n",
            "\n",
            "    accuracy                           0.96        24\n",
            "   macro avg       0.97      0.96      0.96        24\n",
            "weighted avg       0.97      0.96      0.96        24\n",
            "\n"
          ]
        }
      ]
    },
    {
      "source": [
        "import torch\n",
        "import torch.nn as nn\n",
        "import torch.optim as optim\n",
        "from torch.utils.data import DataLoader, TensorDataset\n",
        "\n",
        "train_dataset = TensorDataset(torch.tensor(embeddings_train, dtype=torch.float32), torch.tensor(y_train_encoded, dtype=torch.long))\n",
        "val_dataset = TensorDataset(torch.tensor(embeddings_val, dtype=torch.float32), torch.tensor(y_val_encoded, dtype=torch.long))\n",
        "\n",
        "train_loader = DataLoader(train_dataset, batch_size=32, shuffle=True)\n",
        "val_loader = DataLoader(val_dataset, batch_size=32, shuffle=False)\n",
        "\n",
        "# 2. Define the MLP model\n",
        "class GenreClassifierMLP(nn.Module):\n",
        "    def __init__(self, input_dim, num_classes):\n",
        "        super(GenreClassifierMLP, self).__init__()\n",
        "        self.fc1 = nn.Linear(input_dim, 128)\n",
        "        self.fc2 = nn.Linear(128, 64)\n",
        "        self.fc3 = nn.Linear(64, num_classes)\n",
        "        self.relu = nn.ReLU()\n",
        "\n",
        "    def forward(self, x):\n",
        "        x = self.relu(self.fc1(x))\n",
        "        x = self.relu(self.fc2(x))\n",
        "        x = self.fc3(x)\n",
        "        return x\n",
        "\n",
        "# 3. Create the model, loss function, and optimizer\n",
        "input_dim = embeddings_train.shape[1]  # Dimension of embeddings\n",
        "num_classes = len(label_encoder.classes_)  # Number of genres\n",
        "model = GenreClassifierMLP(input_dim, num_classes)\n",
        "criterion = nn.CrossEntropyLoss()\n",
        "optimizer = optim.Adam(model.parameters(), lr=0.001)"
      ],
      "cell_type": "code",
      "metadata": {
        "id": "JpY2vT0jV1iS"
      },
      "execution_count": null,
      "outputs": []
    },
    {
      "source": [
        "!pip install tensorboard"
      ],
      "cell_type": "code",
      "metadata": {
        "colab": {
          "base_uri": "https://localhost:8080/"
        },
        "id": "PqmRUPQ0XB1V",
        "outputId": "077c6b99-f0e5-4777-c497-9281043305a6"
      },
      "execution_count": null,
      "outputs": [
        {
          "output_type": "stream",
          "name": "stdout",
          "text": [
            "Requirement already satisfied: tensorboard in /usr/local/lib/python3.10/dist-packages (2.17.1)\n",
            "Requirement already satisfied: absl-py>=0.4 in /usr/local/lib/python3.10/dist-packages (from tensorboard) (1.4.0)\n",
            "Requirement already satisfied: grpcio>=1.48.2 in /usr/local/lib/python3.10/dist-packages (from tensorboard) (1.68.1)\n",
            "Requirement already satisfied: markdown>=2.6.8 in /usr/local/lib/python3.10/dist-packages (from tensorboard) (3.7)\n",
            "Requirement already satisfied: numpy>=1.12.0 in /usr/local/lib/python3.10/dist-packages (from tensorboard) (1.26.4)\n",
            "Requirement already satisfied: packaging in /usr/local/lib/python3.10/dist-packages (from tensorboard) (24.2)\n",
            "Requirement already satisfied: protobuf!=4.24.0,>=3.19.6 in /usr/local/lib/python3.10/dist-packages (from tensorboard) (4.25.5)\n",
            "Requirement already satisfied: setuptools>=41.0.0 in /usr/local/lib/python3.10/dist-packages (from tensorboard) (75.1.0)\n",
            "Requirement already satisfied: six>1.9 in /usr/local/lib/python3.10/dist-packages (from tensorboard) (1.17.0)\n",
            "Requirement already satisfied: tensorboard-data-server<0.8.0,>=0.7.0 in /usr/local/lib/python3.10/dist-packages (from tensorboard) (0.7.2)\n",
            "Requirement already satisfied: werkzeug>=1.0.1 in /usr/local/lib/python3.10/dist-packages (from tensorboard) (3.1.3)\n",
            "Requirement already satisfied: MarkupSafe>=2.1.1 in /usr/local/lib/python3.10/dist-packages (from werkzeug>=1.0.1->tensorboard) (3.0.2)\n"
          ]
        }
      ]
    },
    {
      "source": [
        "from torch.utils.tensorboard import SummaryWriter\n",
        "# Create a SummaryWriter instance\n",
        "writer = SummaryWriter('runs/genre_classifier_mlp')  # Specify a log directory"
      ],
      "cell_type": "code",
      "metadata": {
        "id": "Xhu71OpIXEYp"
      },
      "execution_count": null,
      "outputs": []
    },
    {
      "source": [
        "# Training loop\n",
        "num_epochs = 200\n",
        "for epoch in range(num_epochs):\n",
        "    model.train()\n",
        "    for batch_idx, (data, target) in enumerate(train_loader):\n",
        "        optimizer.zero_grad()\n",
        "        output = model(data)\n",
        "        loss = criterion(output, target)\n",
        "        loss.backward()\n",
        "        optimizer.step()\n",
        "\n",
        "        # Log training loss to TensorBoard (per batch)\n",
        "        writer.add_scalar('training loss', loss.item(), epoch * len(train_loader) + batch_idx)\n",
        "\n",
        "        if batch_idx % 200 == 0:\n",
        "            print(f\"Epoch: {epoch+1}/{num_epochs}, Batch: {batch_idx}/{len(train_loader)}, Loss: {loss.item():.4f}\")"
      ],
      "cell_type": "code",
      "metadata": {
        "colab": {
          "base_uri": "https://localhost:8080/"
        },
        "id": "PzXWO0AwV_1u",
        "outputId": "4b73acdf-46ba-4bbb-d4ee-3d3f37409654"
      },
      "execution_count": null,
      "outputs": [
        {
          "output_type": "stream",
          "name": "stdout",
          "text": [
            "Epoch: 1/200, Batch: 0/4, Loss: 2.0757\n",
            "Epoch: 2/200, Batch: 0/4, Loss: 2.0161\n",
            "Epoch: 3/200, Batch: 0/4, Loss: 1.9025\n",
            "Epoch: 4/200, Batch: 0/4, Loss: 1.7760\n",
            "Epoch: 5/200, Batch: 0/4, Loss: 1.6398\n",
            "Epoch: 6/200, Batch: 0/4, Loss: 1.4245\n",
            "Epoch: 7/200, Batch: 0/4, Loss: 1.1440\n",
            "Epoch: 8/200, Batch: 0/4, Loss: 1.0070\n",
            "Epoch: 9/200, Batch: 0/4, Loss: 0.6740\n",
            "Epoch: 10/200, Batch: 0/4, Loss: 0.4955\n",
            "Epoch: 11/200, Batch: 0/4, Loss: 0.3182\n",
            "Epoch: 12/200, Batch: 0/4, Loss: 0.1627\n",
            "Epoch: 13/200, Batch: 0/4, Loss: 0.1346\n",
            "Epoch: 14/200, Batch: 0/4, Loss: 0.0748\n",
            "Epoch: 15/200, Batch: 0/4, Loss: 0.0499\n",
            "Epoch: 16/200, Batch: 0/4, Loss: 0.0513\n",
            "Epoch: 17/200, Batch: 0/4, Loss: 0.0361\n",
            "Epoch: 18/200, Batch: 0/4, Loss: 0.0206\n",
            "Epoch: 19/200, Batch: 0/4, Loss: 0.0199\n",
            "Epoch: 20/200, Batch: 0/4, Loss: 0.0156\n",
            "Epoch: 21/200, Batch: 0/4, Loss: 0.0131\n",
            "Epoch: 22/200, Batch: 0/4, Loss: 0.0117\n",
            "Epoch: 23/200, Batch: 0/4, Loss: 0.0109\n",
            "Epoch: 24/200, Batch: 0/4, Loss: 0.0098\n",
            "Epoch: 25/200, Batch: 0/4, Loss: 0.0096\n",
            "Epoch: 26/200, Batch: 0/4, Loss: 0.0066\n",
            "Epoch: 27/200, Batch: 0/4, Loss: 0.0065\n",
            "Epoch: 28/200, Batch: 0/4, Loss: 0.0088\n",
            "Epoch: 29/200, Batch: 0/4, Loss: 0.0060\n",
            "Epoch: 30/200, Batch: 0/4, Loss: 0.0057\n",
            "Epoch: 31/200, Batch: 0/4, Loss: 0.0053\n",
            "Epoch: 32/200, Batch: 0/4, Loss: 0.0040\n",
            "Epoch: 33/200, Batch: 0/4, Loss: 0.0057\n",
            "Epoch: 34/200, Batch: 0/4, Loss: 0.0057\n",
            "Epoch: 35/200, Batch: 0/4, Loss: 0.0055\n",
            "Epoch: 36/200, Batch: 0/4, Loss: 0.0045\n",
            "Epoch: 37/200, Batch: 0/4, Loss: 0.0035\n",
            "Epoch: 38/200, Batch: 0/4, Loss: 0.0029\n",
            "Epoch: 39/200, Batch: 0/4, Loss: 0.0031\n",
            "Epoch: 40/200, Batch: 0/4, Loss: 0.0028\n",
            "Epoch: 41/200, Batch: 0/4, Loss: 0.0023\n",
            "Epoch: 42/200, Batch: 0/4, Loss: 0.0031\n",
            "Epoch: 43/200, Batch: 0/4, Loss: 0.0027\n",
            "Epoch: 44/200, Batch: 0/4, Loss: 0.0031\n",
            "Epoch: 45/200, Batch: 0/4, Loss: 0.0031\n",
            "Epoch: 46/200, Batch: 0/4, Loss: 0.0019\n",
            "Epoch: 47/200, Batch: 0/4, Loss: 0.0030\n",
            "Epoch: 48/200, Batch: 0/4, Loss: 0.0019\n",
            "Epoch: 49/200, Batch: 0/4, Loss: 0.0021\n",
            "Epoch: 50/200, Batch: 0/4, Loss: 0.0023\n",
            "Epoch: 51/200, Batch: 0/4, Loss: 0.0021\n",
            "Epoch: 52/200, Batch: 0/4, Loss: 0.0022\n",
            "Epoch: 53/200, Batch: 0/4, Loss: 0.0017\n",
            "Epoch: 54/200, Batch: 0/4, Loss: 0.0021\n",
            "Epoch: 55/200, Batch: 0/4, Loss: 0.0024\n",
            "Epoch: 56/200, Batch: 0/4, Loss: 0.0015\n",
            "Epoch: 57/200, Batch: 0/4, Loss: 0.0013\n",
            "Epoch: 58/200, Batch: 0/4, Loss: 0.0017\n",
            "Epoch: 59/200, Batch: 0/4, Loss: 0.0012\n",
            "Epoch: 60/200, Batch: 0/4, Loss: 0.0012\n",
            "Epoch: 61/200, Batch: 0/4, Loss: 0.0015\n",
            "Epoch: 62/200, Batch: 0/4, Loss: 0.0015\n",
            "Epoch: 63/200, Batch: 0/4, Loss: 0.0009\n",
            "Epoch: 64/200, Batch: 0/4, Loss: 0.0016\n",
            "Epoch: 65/200, Batch: 0/4, Loss: 0.0016\n",
            "Epoch: 66/200, Batch: 0/4, Loss: 0.0016\n",
            "Epoch: 67/200, Batch: 0/4, Loss: 0.0014\n",
            "Epoch: 68/200, Batch: 0/4, Loss: 0.0011\n",
            "Epoch: 69/200, Batch: 0/4, Loss: 0.0017\n",
            "Epoch: 70/200, Batch: 0/4, Loss: 0.0012\n",
            "Epoch: 71/200, Batch: 0/4, Loss: 0.0010\n",
            "Epoch: 72/200, Batch: 0/4, Loss: 0.0010\n",
            "Epoch: 73/200, Batch: 0/4, Loss: 0.0016\n",
            "Epoch: 74/200, Batch: 0/4, Loss: 0.0009\n",
            "Epoch: 75/200, Batch: 0/4, Loss: 0.0011\n",
            "Epoch: 76/200, Batch: 0/4, Loss: 0.0010\n",
            "Epoch: 77/200, Batch: 0/4, Loss: 0.0009\n",
            "Epoch: 78/200, Batch: 0/4, Loss: 0.0008\n",
            "Epoch: 79/200, Batch: 0/4, Loss: 0.0007\n",
            "Epoch: 80/200, Batch: 0/4, Loss: 0.0009\n",
            "Epoch: 81/200, Batch: 0/4, Loss: 0.0010\n",
            "Epoch: 82/200, Batch: 0/4, Loss: 0.0008\n",
            "Epoch: 83/200, Batch: 0/4, Loss: 0.0009\n",
            "Epoch: 84/200, Batch: 0/4, Loss: 0.0007\n",
            "Epoch: 85/200, Batch: 0/4, Loss: 0.0011\n",
            "Epoch: 86/200, Batch: 0/4, Loss: 0.0009\n",
            "Epoch: 87/200, Batch: 0/4, Loss: 0.0008\n",
            "Epoch: 88/200, Batch: 0/4, Loss: 0.0006\n",
            "Epoch: 89/200, Batch: 0/4, Loss: 0.0006\n",
            "Epoch: 90/200, Batch: 0/4, Loss: 0.0006\n",
            "Epoch: 91/200, Batch: 0/4, Loss: 0.0008\n",
            "Epoch: 92/200, Batch: 0/4, Loss: 0.0007\n",
            "Epoch: 93/200, Batch: 0/4, Loss: 0.0008\n",
            "Epoch: 94/200, Batch: 0/4, Loss: 0.0006\n",
            "Epoch: 95/200, Batch: 0/4, Loss: 0.0006\n",
            "Epoch: 96/200, Batch: 0/4, Loss: 0.0008\n",
            "Epoch: 97/200, Batch: 0/4, Loss: 0.0006\n",
            "Epoch: 98/200, Batch: 0/4, Loss: 0.0005\n",
            "Epoch: 99/200, Batch: 0/4, Loss: 0.0005\n",
            "Epoch: 100/200, Batch: 0/4, Loss: 0.0006\n",
            "Epoch: 101/200, Batch: 0/4, Loss: 0.0006\n",
            "Epoch: 102/200, Batch: 0/4, Loss: 0.0006\n",
            "Epoch: 103/200, Batch: 0/4, Loss: 0.0005\n",
            "Epoch: 104/200, Batch: 0/4, Loss: 0.0006\n",
            "Epoch: 105/200, Batch: 0/4, Loss: 0.0005\n",
            "Epoch: 106/200, Batch: 0/4, Loss: 0.0005\n",
            "Epoch: 107/200, Batch: 0/4, Loss: 0.0005\n",
            "Epoch: 108/200, Batch: 0/4, Loss: 0.0005\n",
            "Epoch: 109/200, Batch: 0/4, Loss: 0.0006\n",
            "Epoch: 110/200, Batch: 0/4, Loss: 0.0005\n",
            "Epoch: 111/200, Batch: 0/4, Loss: 0.0005\n",
            "Epoch: 112/200, Batch: 0/4, Loss: 0.0005\n",
            "Epoch: 113/200, Batch: 0/4, Loss: 0.0005\n",
            "Epoch: 114/200, Batch: 0/4, Loss: 0.0004\n",
            "Epoch: 115/200, Batch: 0/4, Loss: 0.0004\n",
            "Epoch: 116/200, Batch: 0/4, Loss: 0.0004\n",
            "Epoch: 117/200, Batch: 0/4, Loss: 0.0005\n",
            "Epoch: 118/200, Batch: 0/4, Loss: 0.0004\n",
            "Epoch: 119/200, Batch: 0/4, Loss: 0.0003\n",
            "Epoch: 120/200, Batch: 0/4, Loss: 0.0004\n",
            "Epoch: 121/200, Batch: 0/4, Loss: 0.0005\n",
            "Epoch: 122/200, Batch: 0/4, Loss: 0.0005\n",
            "Epoch: 123/200, Batch: 0/4, Loss: 0.0004\n",
            "Epoch: 124/200, Batch: 0/4, Loss: 0.0004\n",
            "Epoch: 125/200, Batch: 0/4, Loss: 0.0004\n",
            "Epoch: 126/200, Batch: 0/4, Loss: 0.0004\n",
            "Epoch: 127/200, Batch: 0/4, Loss: 0.0004\n",
            "Epoch: 128/200, Batch: 0/4, Loss: 0.0004\n",
            "Epoch: 129/200, Batch: 0/4, Loss: 0.0004\n",
            "Epoch: 130/200, Batch: 0/4, Loss: 0.0004\n",
            "Epoch: 131/200, Batch: 0/4, Loss: 0.0003\n",
            "Epoch: 132/200, Batch: 0/4, Loss: 0.0003\n",
            "Epoch: 133/200, Batch: 0/4, Loss: 0.0003\n",
            "Epoch: 134/200, Batch: 0/4, Loss: 0.0004\n",
            "Epoch: 135/200, Batch: 0/4, Loss: 0.0004\n",
            "Epoch: 136/200, Batch: 0/4, Loss: 0.0004\n",
            "Epoch: 137/200, Batch: 0/4, Loss: 0.0003\n",
            "Epoch: 138/200, Batch: 0/4, Loss: 0.0003\n",
            "Epoch: 139/200, Batch: 0/4, Loss: 0.0003\n",
            "Epoch: 140/200, Batch: 0/4, Loss: 0.0003\n",
            "Epoch: 141/200, Batch: 0/4, Loss: 0.0003\n",
            "Epoch: 142/200, Batch: 0/4, Loss: 0.0003\n",
            "Epoch: 143/200, Batch: 0/4, Loss: 0.0002\n",
            "Epoch: 144/200, Batch: 0/4, Loss: 0.0003\n",
            "Epoch: 145/200, Batch: 0/4, Loss: 0.0003\n",
            "Epoch: 146/200, Batch: 0/4, Loss: 0.0003\n",
            "Epoch: 147/200, Batch: 0/4, Loss: 0.0003\n",
            "Epoch: 148/200, Batch: 0/4, Loss: 0.0002\n",
            "Epoch: 149/200, Batch: 0/4, Loss: 0.0003\n",
            "Epoch: 150/200, Batch: 0/4, Loss: 0.0003\n",
            "Epoch: 151/200, Batch: 0/4, Loss: 0.0003\n",
            "Epoch: 152/200, Batch: 0/4, Loss: 0.0002\n",
            "Epoch: 153/200, Batch: 0/4, Loss: 0.0003\n",
            "Epoch: 154/200, Batch: 0/4, Loss: 0.0002\n",
            "Epoch: 155/200, Batch: 0/4, Loss: 0.0002\n",
            "Epoch: 156/200, Batch: 0/4, Loss: 0.0002\n",
            "Epoch: 157/200, Batch: 0/4, Loss: 0.0002\n",
            "Epoch: 158/200, Batch: 0/4, Loss: 0.0002\n",
            "Epoch: 159/200, Batch: 0/4, Loss: 0.0003\n",
            "Epoch: 160/200, Batch: 0/4, Loss: 0.0002\n",
            "Epoch: 161/200, Batch: 0/4, Loss: 0.0002\n",
            "Epoch: 162/200, Batch: 0/4, Loss: 0.0002\n",
            "Epoch: 163/200, Batch: 0/4, Loss: 0.0003\n",
            "Epoch: 164/200, Batch: 0/4, Loss: 0.0002\n",
            "Epoch: 165/200, Batch: 0/4, Loss: 0.0002\n",
            "Epoch: 166/200, Batch: 0/4, Loss: 0.0002\n",
            "Epoch: 167/200, Batch: 0/4, Loss: 0.0003\n",
            "Epoch: 168/200, Batch: 0/4, Loss: 0.0003\n",
            "Epoch: 169/200, Batch: 0/4, Loss: 0.0002\n",
            "Epoch: 170/200, Batch: 0/4, Loss: 0.0002\n",
            "Epoch: 171/200, Batch: 0/4, Loss: 0.0002\n",
            "Epoch: 172/200, Batch: 0/4, Loss: 0.0002\n",
            "Epoch: 173/200, Batch: 0/4, Loss: 0.0003\n",
            "Epoch: 174/200, Batch: 0/4, Loss: 0.0002\n",
            "Epoch: 175/200, Batch: 0/4, Loss: 0.0002\n",
            "Epoch: 176/200, Batch: 0/4, Loss: 0.0002\n",
            "Epoch: 177/200, Batch: 0/4, Loss: 0.0002\n",
            "Epoch: 178/200, Batch: 0/4, Loss: 0.0002\n",
            "Epoch: 179/200, Batch: 0/4, Loss: 0.0001\n",
            "Epoch: 180/200, Batch: 0/4, Loss: 0.0002\n",
            "Epoch: 181/200, Batch: 0/4, Loss: 0.0002\n",
            "Epoch: 182/200, Batch: 0/4, Loss: 0.0002\n",
            "Epoch: 183/200, Batch: 0/4, Loss: 0.0002\n",
            "Epoch: 184/200, Batch: 0/4, Loss: 0.0002\n",
            "Epoch: 185/200, Batch: 0/4, Loss: 0.0002\n",
            "Epoch: 186/200, Batch: 0/4, Loss: 0.0002\n",
            "Epoch: 187/200, Batch: 0/4, Loss: 0.0002\n",
            "Epoch: 188/200, Batch: 0/4, Loss: 0.0002\n",
            "Epoch: 189/200, Batch: 0/4, Loss: 0.0002\n",
            "Epoch: 190/200, Batch: 0/4, Loss: 0.0002\n",
            "Epoch: 191/200, Batch: 0/4, Loss: 0.0001\n",
            "Epoch: 192/200, Batch: 0/4, Loss: 0.0002\n",
            "Epoch: 193/200, Batch: 0/4, Loss: 0.0002\n",
            "Epoch: 194/200, Batch: 0/4, Loss: 0.0002\n",
            "Epoch: 195/200, Batch: 0/4, Loss: 0.0002\n",
            "Epoch: 196/200, Batch: 0/4, Loss: 0.0002\n",
            "Epoch: 197/200, Batch: 0/4, Loss: 0.0002\n",
            "Epoch: 198/200, Batch: 0/4, Loss: 0.0002\n",
            "Epoch: 199/200, Batch: 0/4, Loss: 0.0001\n",
            "Epoch: 200/200, Batch: 0/4, Loss: 0.0001\n"
          ]
        }
      ]
    },
    {
      "source": [
        "model.eval()\n",
        "correct = 0\n",
        "total = 0\n",
        "with torch.no_grad():\n",
        "    for data, target in val_loader:\n",
        "        output = model(data)\n",
        "        _, predicted = torch.max(output.data, 1)  # Get predicted class labels\n",
        "        total += target.size(0)  # Total number of samples\n",
        "        correct += (predicted == target).sum().item()  # Number of correct predictions\n",
        "\n",
        "accuracy = 100 * correct / total\n",
        "print(f\"Validation Accuracy: {accuracy:.2f}%\")"
      ],
      "cell_type": "code",
      "metadata": {
        "colab": {
          "base_uri": "https://localhost:8080/"
        },
        "id": "ursd_sjnWC3k",
        "outputId": "7724f5ec-2736-4219-b0d0-ec7cc2851741"
      },
      "execution_count": null,
      "outputs": [
        {
          "output_type": "stream",
          "name": "stdout",
          "text": [
            "Validation Accuracy: 95.83%\n"
          ]
        }
      ]
    },
    {
      "source": [
        "target_names = [str(cls) for cls in label_encoder.classes_]\n",
        "print(classification_report(y_val_encoded, predicted.cpu().numpy(), target_names=target_names))"
      ],
      "cell_type": "code",
      "metadata": {
        "colab": {
          "base_uri": "https://localhost:8080/"
        },
        "id": "Xgn-BwMKWXtn",
        "outputId": "aa29b1f8-d06c-4632-b54e-02bd5810e8ee"
      },
      "execution_count": null,
      "outputs": [
        {
          "output_type": "stream",
          "name": "stdout",
          "text": [
            "              precision    recall  f1-score   support\n",
            "\n",
            "           0       1.00      1.00      1.00         3\n",
            "           1       1.00      1.00      1.00         3\n",
            "           2       1.00      1.00      1.00         3\n",
            "           3       1.00      0.67      0.80         3\n",
            "           4       1.00      1.00      1.00         3\n",
            "           5       0.75      1.00      0.86         3\n",
            "           6       1.00      1.00      1.00         3\n",
            "           7       1.00      1.00      1.00         3\n",
            "\n",
            "    accuracy                           0.96        24\n",
            "   macro avg       0.97      0.96      0.96        24\n",
            "weighted avg       0.97      0.96      0.96        24\n",
            "\n"
          ]
        }
      ]
    },
    {
      "cell_type": "code",
      "source": [
        "import torch.nn as nn\n",
        "import torch.optim as optim\n",
        "import torch\n",
        "from torch.utils.data import DataLoader, TensorDataset\n",
        "\n",
        "# Prepare PyTorch datasets\n",
        "train_dataset = TensorDataset(torch.tensor(embeddings_train, dtype=torch.float32), torch.tensor(y_train_encoded, dtype=torch.long))\n",
        "val_dataset = TensorDataset(torch.tensor(embeddings_val, dtype=torch.float32), torch.tensor(y_val_encoded, dtype=torch.long))\n",
        "\n",
        "train_loader = DataLoader(train_dataset, batch_size=32, shuffle=True)\n",
        "val_loader = DataLoader(val_dataset, batch_size=32, shuffle=False)\n",
        "\n",
        "# Define a simple neural network\n",
        "class GenreClassifier(nn.Module):\n",
        "    def __init__(self, input_dim, num_classes):\n",
        "        super(GenreClassifier, self).__init__()\n",
        "        self.fc = nn.Sequential(\n",
        "            nn.Linear(input_dim, 128),\n",
        "            nn.ReLU(),\n",
        "            nn.Linear(128, num_classes)\n",
        "        )\n",
        "\n",
        "    def forward(self, x):\n",
        "        return self.fc(x)\n",
        "\n",
        "# Initialize model, loss, and optimizer\n",
        "input_dim = len(embeddings_train[0])\n",
        "num_classes = len(label_encoder.classes_)\n",
        "model = GenreClassifier(input_dim, num_classes)\n",
        "criterion = nn.CrossEntropyLoss()\n",
        "optimizer = optim.Adam(model.parameters(), lr=0.001)\n",
        "\n",
        "# Training loop\n",
        "for epoch in range(100):\n",
        "    model.train()\n",
        "    for x_batch, y_batch in train_loader:\n",
        "        optimizer.zero_grad()\n",
        "        outputs = model(x_batch)\n",
        "        loss = criterion(outputs, y_batch)\n",
        "        loss.backward()\n",
        "        optimizer.step()\n",
        "    print(f\"Epoch {epoch+1}: Loss = {loss.item()}\")\n",
        "\n",
        "# Validate the model\n",
        "model.eval()\n",
        "val_predictions = []\n",
        "with torch.no_grad():\n",
        "    for x_batch, _ in val_loader:\n",
        "        outputs = model(x_batch)\n",
        "        val_predictions.extend(torch.argmax(outputs, axis=1).cpu().numpy())\n",
        "\n",
        "# Evaluate performance\n",
        "print(\"Validation Classification Report:\")\n",
        "\n",
        "# Convert label_encoder.classes_ to a list of strings:\n",
        "target_names = [str(cls) for cls in label_encoder.classes_]\n",
        "print(classification_report(y_val_encoded, val_predictions, target_names=target_names))"
      ],
      "metadata": {
        "colab": {
          "base_uri": "https://localhost:8080/"
        },
        "id": "WRIRPWgMDHgg",
        "outputId": "9827750f-9561-4a63-9c26-7034fbb489b4"
      },
      "execution_count": null,
      "outputs": [
        {
          "output_type": "stream",
          "name": "stdout",
          "text": [
            "Epoch 1: Loss = 1.996394395828247\n",
            "Epoch 2: Loss = 1.7890241146087646\n",
            "Epoch 3: Loss = 1.5721733570098877\n",
            "Epoch 4: Loss = 1.325194001197815\n",
            "Epoch 5: Loss = 1.1657549142837524\n",
            "Epoch 6: Loss = 0.8746593594551086\n",
            "Epoch 7: Loss = 0.679225742816925\n",
            "Epoch 8: Loss = 0.5567252039909363\n",
            "Epoch 9: Loss = 0.3719138503074646\n",
            "Epoch 10: Loss = 0.2903210520744324\n",
            "Epoch 11: Loss = 0.24828028678894043\n",
            "Epoch 12: Loss = 0.14456436038017273\n",
            "Epoch 13: Loss = 0.12209632247686386\n",
            "Epoch 14: Loss = 0.09333263337612152\n",
            "Epoch 15: Loss = 0.06860845535993576\n",
            "Epoch 16: Loss = 0.05594516545534134\n",
            "Epoch 17: Loss = 0.04897425323724747\n",
            "Epoch 18: Loss = 0.08632968366146088\n",
            "Epoch 19: Loss = 0.051102496683597565\n",
            "Epoch 20: Loss = 0.07012800127267838\n",
            "Epoch 21: Loss = 0.040998660027980804\n",
            "Epoch 22: Loss = 0.037283387035131454\n",
            "Epoch 23: Loss = 0.034359972923994064\n",
            "Epoch 24: Loss = 0.023168036714196205\n",
            "Epoch 25: Loss = 0.020607056096196175\n",
            "Epoch 26: Loss = 0.02032218873500824\n",
            "Epoch 27: Loss = 0.020861543715000153\n",
            "Epoch 28: Loss = 0.0189010351896286\n",
            "Epoch 29: Loss = 0.0194693673402071\n",
            "Epoch 30: Loss = 0.012673633173108101\n",
            "Epoch 31: Loss = 0.014063398353755474\n",
            "Epoch 32: Loss = 0.012517368420958519\n",
            "Epoch 33: Loss = 0.009974654763936996\n",
            "Epoch 34: Loss = 0.00833828840404749\n",
            "Epoch 35: Loss = 0.014139167033135891\n",
            "Epoch 36: Loss = 0.017458830028772354\n",
            "Epoch 37: Loss = 0.013760417699813843\n",
            "Epoch 38: Loss = 0.008581873029470444\n",
            "Epoch 39: Loss = 0.009511280804872513\n",
            "Epoch 40: Loss = 0.008058206178247929\n",
            "Epoch 41: Loss = 0.009289647452533245\n",
            "Epoch 42: Loss = 0.007318142801523209\n",
            "Epoch 43: Loss = 0.009464400820434093\n",
            "Epoch 44: Loss = 0.006993816699832678\n",
            "Epoch 45: Loss = 0.00607674103230238\n",
            "Epoch 46: Loss = 0.005967996548861265\n",
            "Epoch 47: Loss = 0.007717049680650234\n",
            "Epoch 48: Loss = 0.005151985213160515\n",
            "Epoch 49: Loss = 0.006348819471895695\n",
            "Epoch 50: Loss = 0.007942897267639637\n",
            "Epoch 51: Loss = 0.006315215956419706\n",
            "Epoch 52: Loss = 0.006199861876666546\n",
            "Epoch 53: Loss = 0.0034023765474557877\n",
            "Epoch 54: Loss = 0.00403599115088582\n",
            "Epoch 55: Loss = 0.003841586410999298\n",
            "Epoch 56: Loss = 0.0043052020482718945\n",
            "Epoch 57: Loss = 0.006519357208162546\n",
            "Epoch 58: Loss = 0.004994365852326155\n",
            "Epoch 59: Loss = 0.0035128514282405376\n",
            "Epoch 60: Loss = 0.0027726537082344294\n",
            "Epoch 61: Loss = 0.0027924166060984135\n",
            "Epoch 62: Loss = 0.002894530538469553\n",
            "Epoch 63: Loss = 0.003503453219309449\n",
            "Epoch 64: Loss = 0.004223748110234737\n",
            "Epoch 65: Loss = 0.004462642595171928\n",
            "Epoch 66: Loss = 0.0031984427478164434\n",
            "Epoch 67: Loss = 0.003977860324084759\n",
            "Epoch 68: Loss = 0.0033903152216225863\n",
            "Epoch 69: Loss = 0.002349392743781209\n",
            "Epoch 70: Loss = 0.003309571649879217\n",
            "Epoch 71: Loss = 0.00231066532433033\n",
            "Epoch 72: Loss = 0.0024555271957069635\n",
            "Epoch 73: Loss = 0.0037028894294053316\n",
            "Epoch 74: Loss = 0.0029081294778734446\n",
            "Epoch 75: Loss = 0.001957555301487446\n",
            "Epoch 76: Loss = 0.00304787908680737\n",
            "Epoch 77: Loss = 0.0023174008820205927\n",
            "Epoch 78: Loss = 0.0022330302745103836\n",
            "Epoch 79: Loss = 0.003131427802145481\n",
            "Epoch 80: Loss = 0.002729470608755946\n",
            "Epoch 81: Loss = 0.0016480826307088137\n",
            "Epoch 82: Loss = 0.001954663312062621\n",
            "Epoch 83: Loss = 0.002503888448700309\n",
            "Epoch 84: Loss = 0.0017863723915070295\n",
            "Epoch 85: Loss = 0.0017466252902522683\n",
            "Epoch 86: Loss = 0.002326681511476636\n",
            "Epoch 87: Loss = 0.0021913324017077684\n",
            "Epoch 88: Loss = 0.0011916551738977432\n",
            "Epoch 89: Loss = 0.0013900715857744217\n",
            "Epoch 90: Loss = 0.0016323133604601026\n",
            "Epoch 91: Loss = 0.0021008590701967478\n",
            "Epoch 92: Loss = 0.0014266886282712221\n",
            "Epoch 93: Loss = 0.0020926273427903652\n",
            "Epoch 94: Loss = 0.0013637533411383629\n",
            "Epoch 95: Loss = 0.0013402601471170783\n",
            "Epoch 96: Loss = 0.0014406885020434856\n",
            "Epoch 97: Loss = 0.00123327667824924\n",
            "Epoch 98: Loss = 0.00153766805306077\n",
            "Epoch 99: Loss = 0.001861402066424489\n",
            "Epoch 100: Loss = 0.0011706254445016384\n",
            "Validation Classification Report:\n",
            "              precision    recall  f1-score   support\n",
            "\n",
            "           0       1.00      1.00      1.00         3\n",
            "           1       1.00      1.00      1.00         3\n",
            "           2       1.00      1.00      1.00         3\n",
            "           3       1.00      0.67      0.80         3\n",
            "           4       1.00      1.00      1.00         3\n",
            "           5       1.00      1.00      1.00         3\n",
            "           6       0.75      1.00      0.86         3\n",
            "           7       1.00      1.00      1.00         3\n",
            "\n",
            "    accuracy                           0.96        24\n",
            "   macro avg       0.97      0.96      0.96        24\n",
            "weighted avg       0.97      0.96      0.96        24\n",
            "\n"
          ]
        }
      ]
    },
    {
      "source": [
        "import torch\n",
        "import torch.nn as nn\n",
        "import torch.optim as optim\n",
        "from torch.utils.data import TensorDataset, DataLoader\n",
        "\n",
        "# 1. Data Preparation\n",
        "train_data = TensorDataset(torch.tensor(embeddings_train, dtype=torch.float32), torch.tensor(y_train_encoded, dtype=torch.long))\n",
        "val_data = TensorDataset(torch.tensor(embeddings_val, dtype=torch.float32), torch.tensor(y_val_encoded, dtype=torch.long))\n",
        "train_loader = DataLoader(train_data, batch_size=32, shuffle=True)\n",
        "val_loader = DataLoader(val_data, batch_size=32, shuffle=False)\n",
        "\n",
        "# 2. Model Creation\n",
        "class GenreClassifier(nn.Module):\n",
        "    def __init__(self, input_dim, num_classes):\n",
        "        super(GenreClassifier, self).__init__()\n",
        "        self.fc = nn.Linear(input_dim, num_classes)\n",
        "\n",
        "    def forward(self, x):\n",
        "        return self.fc(x)\n",
        "\n",
        "embeddings_train = np.array(embeddings_train)\n",
        "input_dim = embeddings_train.shape[1]\n",
        "num_classes = len(np.unique(y_train_encoded))\n",
        "model = GenreClassifier(input_dim, num_classes)\n",
        "\n",
        "# 3. Training\n",
        "criterion = nn.CrossEntropyLoss()\n",
        "optimizer = optim.Adam(model.parameters())\n",
        "\n",
        "epochs = 100\n",
        "for epoch in range(epochs):\n",
        "    for batch_idx, (data, target) in enumerate(train_loader):\n",
        "        optimizer.zero_grad()\n",
        "        output = model(data)\n",
        "        loss = criterion(output, target)\n",
        "        loss.backward()\n",
        "        optimizer.step()\n",
        "\n",
        "# 4. Evaluation\n",
        "model.eval()\n",
        "val_predictions = []\n",
        "with torch.no_grad():\n",
        "    for data, target in val_loader:\n",
        "        output = model(data)\n",
        "        _, predicted = torch.max(output.data, 1)\n",
        "        val_predictions.extend(predicted.cpu().numpy())"
      ],
      "cell_type": "code",
      "metadata": {
        "id": "hwv4cBDDIpbK"
      },
      "execution_count": null,
      "outputs": []
    },
    {
      "cell_type": "code",
      "source": [
        "from sklearn.metrics import accuracy_score, precision_score, recall_score, f1_score, classification_report\n",
        "\n",
        "# Calculate metrics\n",
        "accuracy = accuracy_score(y_val_encoded, val_predictions)\n",
        "precision = precision_score(y_val_encoded, val_predictions, average='weighted')\n",
        "recall = recall_score(y_val_encoded, val_predictions, average='weighted')\n",
        "f1 = f1_score(y_val_encoded, val_predictions, average='weighted')\n",
        "\n",
        "# Print metrics\n",
        "print(f\"Accuracy: {accuracy:.4f}\")\n",
        "print(f\"Precision: {precision:.4f}\")\n",
        "print(f\"Recall: {recall:.4f}\")\n",
        "print(f\"F1-score: {f1:.4f}\")\n",
        "\n",
        "# Print classification report\n",
        "genre_names = df['genre'].unique()\n",
        "print(\"\\nClassification Report:\")\n",
        "print(classification_report(y_val_encoded, val_predictions, target_names=genre_names))"
      ],
      "metadata": {
        "colab": {
          "base_uri": "https://localhost:8080/"
        },
        "id": "a5JDyTKQJTgl",
        "outputId": "4021d463-8847-4ba4-c726-acd7ba39d15c"
      },
      "execution_count": null,
      "outputs": [
        {
          "output_type": "stream",
          "name": "stdout",
          "text": [
            "Accuracy: 0.9583\n",
            "Precision: 0.9688\n",
            "Recall: 0.9583\n",
            "F1-score: 0.9571\n",
            "\n",
            "Classification Report:\n",
            "              precision    recall  f1-score   support\n",
            "\n",
            "        jazz       1.00      1.00      1.00         3\n",
            "       opera       1.00      1.00      1.00         3\n",
            "     country       1.00      1.00      1.00         3\n",
            "  electronic       1.00      0.67      0.80         3\n",
            "       metal       1.00      1.00      1.00         3\n",
            "         rap       0.75      1.00      0.86         3\n",
            "   classical       1.00      1.00      1.00         3\n",
            "      reggae       1.00      1.00      1.00         3\n",
            "\n",
            "    accuracy                           0.96        24\n",
            "   macro avg       0.97      0.96      0.96        24\n",
            "weighted avg       0.97      0.96      0.96        24\n",
            "\n"
          ]
        }
      ]
    },
    {
      "cell_type": "markdown",
      "source": [
        "Lower Performance:\n",
        "\n",
        "Electronic: Has a lower recall of 0.67 and an F1-score of 0.80. This means the model might be missing some electronic artists (lower recall) but when it does predict electronic, it is mostly correct (precision is 1.00).\n",
        "\n",
        "Rap: Has a lower precision of 0.75, meaning that when it predicts \"rap\", it is sometimes incorrect. However, it successfully identifies all the actual rap samples (recall is 1.00)."
      ],
      "metadata": {
        "id": "ZgLiZLD0KDD_"
      }
    },
    {
      "cell_type": "markdown",
      "source": [
        "Analysis of Results Overall Metrics:\n",
        "\n",
        "Precision: 0.97: Indicates that most predicted genres are correct.\n",
        "\n",
        "Recall: 0.96: Shows the model can identify most instances of each genre.\n",
        "\n",
        "F1-score: 0.96: Balances precision and recall; the model performs very well overall.\n",
        "Per-Class Performance:\n",
        "\n",
        "High Performance:\n",
        "Genres like classical, country, electronic, metal, rap, and reggae have perfect scores (F1 = 1.00).\n",
        "\n",
        "Lower Performance:\n",
        "Jazz: Recall is 0.67, meaning the model missed one of the jazz samples.\n",
        "Opera: Precision is 0.75, suggesting one of the predictions for opera was incorrect.\n",
        "\n",
        "Possible Causes of Misclassifications: Jazz and Opera may have artist names that overlap stylistically or semantically with other genres.\n",
        "Embedding vectors for these genres may not be well-separated in the UMAP space."
      ],
      "metadata": {
        "id": "Lnjijpp9DjAK"
      }
    },
    {
      "cell_type": "markdown",
      "source": [
        "## Step 4 - Extra (optional)\n",
        "\n",
        "Feel free to expand on the problem in any way you find interesting!"
      ],
      "metadata": {
        "id": "pSiGDlo12ieE"
      }
    },
    {
      "cell_type": "code",
      "source": [
        "# Your code here!\n",
        "# Validate it on the validation embeddings.\n",
        "# Test the model on the test embeddings."
      ],
      "metadata": {
        "id": "4gTi0l1J2lQK"
      },
      "execution_count": null,
      "outputs": []
    },
    {
      "source": [
        "embeddings_val = [embeddings[i] for i in X_val.index]\n",
        "embeddings_val_np = np.array(embeddings_val)\n",
        "\n",
        "embeddings_val_2d = embeddings_val_np.reshape(-1, embeddings_val_np.shape[-1]) if embeddings_val_np.ndim == 1 else embeddings_val_np\n",
        "val_predictions = classifier.predict(embeddings_val_2d)"
      ],
      "cell_type": "code",
      "metadata": {
        "id": "5ef3mJMtFCEw"
      },
      "execution_count": null,
      "outputs": []
    },
    {
      "cell_type": "code",
      "source": [
        "# Identify misclassified samples\n",
        "misclassified_indices = [\n",
        "    i for i, (true, pred) in enumerate(zip(y_val, classifier.predict(embeddings_val)))\n",
        "    if true != pred\n",
        "]\n",
        "\n",
        "# Display misclassified samples\n",
        "for idx in misclassified_indices:\n",
        "    print(f\"Artist: {X_val.iloc[idx]}, True Genre: {label_encoder.inverse_transform([y_val_encoded[idx]])[0]}, Predicted Genre: {label_encoder.inverse_transform([val_predictions[idx]])[0]}\")\n"
      ],
      "metadata": {
        "colab": {
          "base_uri": "https://localhost:8080/"
        },
        "id": "CVkKnidnDugb",
        "outputId": "bff9f957-eb61-44a7-d0ad-143e3c352d73"
      },
      "execution_count": null,
      "outputs": [
        {
          "output_type": "stream",
          "name": "stdout",
          "text": [
            "Artist: herbie hancock, True Genre: jazz, Predicted Genre: opera\n"
          ]
        }
      ]
    },
    {
      "cell_type": "code",
      "source": [
        "subset_df = df_umap[df_umap[\"genre\"].isin([\"jazz\", \"opera\"])]\n",
        "plt.figure(figsize=(10, 8))\n",
        "sns.scatterplot(\n",
        "    data=subset_df,\n",
        "    x=\"x\",\n",
        "    y=\"y\",\n",
        "    hue=\"genre\",\n",
        "    palette=\"Set1\",\n",
        "    legend=\"full\"\n",
        ")\n",
        "plt.title(\"UMAP Visualization for Jazz and Opera\")\n",
        "plt.show()"
      ],
      "metadata": {
        "colab": {
          "base_uri": "https://localhost:8080/",
          "height": 718
        },
        "id": "DgUPMsslOHjx",
        "outputId": "3c2012ab-c1e4-4edf-988b-343c4a7c430e"
      },
      "execution_count": null,
      "outputs": [
        {
          "output_type": "display_data",
          "data": {
            "text/plain": [
              "<Figure size 1000x800 with 1 Axes>"
            ],
            "image/png": "[encoded data removed]"
          },
          "metadata": {}
        }
      ]
    },
    {
      "cell_type": "markdown",
      "source": [
        "most predictions match the true genres, which aligns with the high accuracy from the logistic regression results. However, there is one notable misclassification:\n",
        "\n",
        "Misclassified Sample\n",
        "\n",
        "Artist: Herbie Hancock\n",
        "\n",
        "True Genre: Jazz\n",
        "\n",
        "Predicted Genre: Opera\n"
      ],
      "metadata": {
        "id": "QQL97xAtEWy4"
      }
    },
    {
      "cell_type": "code",
      "source": [
        "subset_df = df_umap[df_umap[\"genre\"].isin([\"electronic\", \"rap\"])]\n",
        "plt.figure(figsize=(10, 8))\n",
        "sns.scatterplot(\n",
        "    data=subset_df,\n",
        "    x=\"x\",\n",
        "    y=\"y\",\n",
        "    hue=\"genre\",\n",
        "    palette=\"Set1\",\n",
        "    legend=\"full\"\n",
        ")\n",
        "plt.title(\"UMAP Visualization for electronic and rap\")\n",
        "plt.show()"
      ],
      "metadata": {
        "colab": {
          "base_uri": "https://localhost:8080/",
          "height": 718
        },
        "id": "Ytx_Xj0QOxXK",
        "outputId": "66b08886-193a-4815-d6e1-457a05d0ef4b"
      },
      "execution_count": null,
      "outputs": [
        {
          "output_type": "display_data",
          "data": {
            "text/plain": [
              "<Figure size 1000x800 with 1 Axes>"
            ],
            "image/png": "[encoded data removed]"
          },
          "metadata": {}
        }
      ]
    },
    {
      "source": [
        "from sklearn.metrics import confusion_matrix\n",
        "\n",
        "cm = confusion_matrix(y_val_encoded, val_predictions)\n",
        "print(\"Confusion Matrix:\")\n",
        "print(cm)\n",
        "\n",
        "label_encoder.fit(df['genre'].unique())\n",
        "electronic_index = list(label_encoder.classes_).index('electronic')\n",
        "rap_index = list(label_encoder.classes_).index('rap')\n",
        "\n",
        "# Find indices of misclassified electronic samples\n",
        "misclassified_electronic_indices = np.where((y_val_encoded == electronic_index) & (val_predictions != electronic_index))[0]\n",
        "\n",
        "# Find indices of misclassified rap samples\n",
        "misclassified_rap_indices = np.where((y_val_encoded == rap_index) & (val_predictions != rap_index))[0]\n",
        "\n",
        "# Print misclassified samples and their predicted genres\n",
        "print(\"\\nMisclassified Electronic Samples:\")\n",
        "for idx in misclassified_electronic_indices:\n",
        "    print(f\"Artist: {X_val.iloc[idx]}, True Genre: electronic, Predicted Genre: {label_encoder.inverse_transform([val_predictions[idx]])[0]}\")\n",
        "\n",
        "print(\"\\nMisclassified Rap Samples:\")\n",
        "for idx in misclassified_rap_indices:\n",
        "    print(f\"Artist: {X_val.iloc[idx]}, True Genre: rap, Predicted Genre: {label_encoder.inverse_transform([val_predictions[idx]])[0]}\")"
      ],
      "cell_type": "code",
      "metadata": {
        "colab": {
          "base_uri": "https://localhost:8080/"
        },
        "id": "dLrlUdR8KWq7",
        "outputId": "5e9a63d6-fd1d-4026-c9fd-d30a79b63ca3"
      },
      "execution_count": null,
      "outputs": [
        {
          "output_type": "stream",
          "name": "stdout",
          "text": [
            "Confusion Matrix:\n",
            "[[3 0 0 0 0 0 0 0]\n",
            " [0 3 0 0 0 0 0 0]\n",
            " [0 0 3 0 0 0 0 0]\n",
            " [0 0 0 2 0 1 0 0]\n",
            " [0 0 0 0 3 0 0 0]\n",
            " [0 0 0 0 0 3 0 0]\n",
            " [0 0 0 0 0 0 3 0]\n",
            " [0 0 0 0 0 0 0 3]]\n",
            "\n",
            "Misclassified Electronic Samples:\n",
            "Artist: four tet, True Genre: electronic, Predicted Genre: electronic\n",
            "Artist: deadmau5, True Genre: electronic, Predicted Genre: electronic\n",
            "Artist: massive attack, True Genre: electronic, Predicted Genre: electronic\n",
            "\n",
            "Misclassified Rap Samples:\n",
            "Artist: lil baby, True Genre: rap, Predicted Genre: rap\n",
            "Artist: nas, True Genre: rap, Predicted Genre: rap\n",
            "Artist: travis scott, True Genre: rap, Predicted Genre: rap\n"
          ]
        }
      ]
    },
    {
      "source": [
        "print(\"Genres in validation set:\", np.unique(y_val))"
      ],
      "cell_type": "code",
      "metadata": {
        "colab": {
          "base_uri": "https://localhost:8080/"
        },
        "id": "cIhOu3i2K-Dg",
        "outputId": "5af611ba-8f59-4a30-fe0d-970dcaf02783"
      },
      "execution_count": null,
      "outputs": [
        {
          "output_type": "stream",
          "name": "stdout",
          "text": [
            "Genres in validation set: [0 1 2 3 4 5 6 7]\n"
          ]
        }
      ]
    },
    {
      "cell_type": "markdown",
      "source": [
        "Extra Credit (Optional Enhancements)\n",
        "\n",
        "Data Augmentation: Add variations to artist names (e.g., nicknames, alternate spellings).\n",
        "\n",
        "Fine-Tuning: Fine-tune the text encoder on this specific task.\n",
        "\n",
        "Hyperparameter Tuning: Optimize the classifier using grid search or other methods."
      ],
      "metadata": {
        "id": "KMOxluJhD-zw"
      }
    },
    {
      "cell_type": "markdown",
      "source": [
        "# Example for contrastive learning fine-tuning\n",
        "\n"
      ],
      "metadata": {
        "id": "Oc90dC7HPirO"
      }
    },
    {
      "source": [
        "!pip install transformers torch scikit-learn pandas numpy\n",
        "\n",
        "import torch\n",
        "import pandas as pd\n",
        "from transformers import CLIPModel, CLIPTokenizer\n",
        "from sklearn.model_selection import train_test_split\n",
        "from sklearn.linear_model import LogisticRegression\n",
        "from sklearn.metrics import classification_report\n",
        "from torch.optim import Adam"
      ],
      "cell_type": "code",
      "metadata": {
        "colab": {
          "base_uri": "https://localhost:8080/",
          "height": 940,
          "referenced_widgets": [
            "cecea94141f74d25bcf332d5588f1f65",
            "7e7fa1c2ae34475284b1a8c6b6be2e64",
            "e552c70e29f74793932791ac60d22fa5",
            "d6ba6145b5c9440f90623a80e00e8dfe",
            "b0518128036e4933a4641674db748d6b",
            "8fc6cad3ebe649c49d4a28be8dc8f740",
            "22d49bc6f4b842128458cf1c45b85584",
            "5db078a9281944b0858dda48ab32c30a",
            "2f77a901166845a2b208847c584b5c6a",
            "14a43c4fc9e44a2bb363b425116e70d3",
            "a119020d6b3d461cab1aeb3f5eddd14d",
            "9151c81d2a244d2c8b355e943a380e3c",
            "17559e0f4a1c49cfa7cc7bd8c9d4c3c5",
            "5e3e1152cd9b4f21acfa9bca1290b5ab",
            "d0094137417941279dcbb2d0cf7cb15d",
            "a72d31d1d4014bc08f2999f8ace9cf42",
            "cb90beae50e7492881d4a5469bdc1382",
            "f647aca828c44ce9a785ced65eb3f8b7",
            "ce3f422a7d07465f9e87687a9660c6af",
            "b095a792601e4ab68087a2ccc0370fd7",
            "2c9ee69e23a848559fa985e408689f4b",
            "8850e1662c5f43cc8107d409e32ce83b",
            "de3616da73b04ca9b948bff55b27194d",
            "dd371758a5024af5a584a45f5a334da6",
            "06c43416da24409787144c29a951aaea",
            "0e3f4f1e8d8242329f18b5f5cc732d28",
            "059ab9cbc82c48d2af12b2a657f9d5a2",
            "626376feb170477e83811792115edc2e",
            "3a4a80b5b4e644a5b45fcd5a623e7980",
            "512c2dedee524e4abc80672a15d1d3de",
            "5dc54f00c3ae41a5b83a573b5ab19583",
            "9d48e2475c15404ea2230bac1bb4e7d9",
            "6f113afa9d9549d1b738d50747e23291",
            "63a867c24e214239935570607435ff6c",
            "670391a422804f79a8cfd1930cdaa6cc",
            "6f1ea2830171407592ab35c89f1a6337",
            "566c40283166429d913ed6ab2505cc1c",
            "583db39dfa724099b32c96d3c0c597c3",
            "a929a37c76e645b8874849941c5bf5d0",
            "f428af4cbe2d45738302bf54572ffca2",
            "04afa67396e14dbc88d297c17468bc43",
            "142b151b65db4909a15609ccaff540e0",
            "0c45b230362b49338de9d5e489adfe3d",
            "82cbdc47ba664d75bb0ac3a3362615ae",
            "f418da80d5d840618c808fe411286037",
            "3cbad5a4d2a842718aede9d50df461be",
            "e24fd76307e441b5867afbbb208e1617",
            "ee279295dce74c81a9174823b96b1c8c",
            "07df2a837ee04b5d87ce465948a087d7",
            "b8c2c0fc0d554ed482530ca451504020",
            "e37e45ac8fbd4751aca2645e34cdbf7f",
            "5764a8152a624e908c8e3909c6a09d8e",
            "ce4ece56af9a429484cb6317c2d89c67",
            "84cb5c5beaea406aa3c5a970edb9a8df",
            "0582dfbb695244d0833e5e3e869a8a40",
            "e420845ccbe441b480b10912d333b655",
            "a13d2bf242f14662818696227b452d02",
            "472dd5275eb648a6a5effddb01aed61c",
            "19032f00a931471e91271cac05d3d711",
            "65aea19b178240f38a38674224806fc9",
            "dec2fd91a84c450c854687664be9a9aa",
            "e237088ec2e1480fab67cdd79e6ff472",
            "beb7d7e9660a4f0a92a5cadb16f9f9cf",
            "1fc5fc829dc44fcfb9ce2578c3eb0bc0",
            "e59fe14351c94a0695a4293193cf8ac0",
            "0c725060ed7a45d6a5d06fdf5f3fb1eb",
            "fe23684422fd4bd98cb4620759f93e78",
            "7a2783f325af43409f4f1aeaeb788c98",
            "1f4355d6e12a46dfa51f33d1a43c2483",
            "224efb5b31f34cb383f3728c266afcf7",
            "200b912a1fda441dac3070defe58709f",
            "0a3b85b33e6d46bf9eb1d7909a6dceb9",
            "90301b68e39842d6b25621447b3a9f4b",
            "a33af4de670e4df99c5463021be3f011",
            "c70041b81fab4062bab5e1d5dcd581cd",
            "2dad191219af459386760e03704e7b17",
            "743a6100dde748b381dd037a106f72c1"
          ]
        },
        "id": "c-LmlcSpgnMc",
        "outputId": "ac95599b-3f09-4407-f8e6-64bc84c65669"
      },
      "execution_count": null,
      "outputs": [
        {
          "output_type": "stream",
          "name": "stdout",
          "text": [
            "Requirement already satisfied: transformers in /usr/local/lib/python3.10/dist-packages (4.47.1)\n",
            "Requirement already satisfied: torch in /usr/local/lib/python3.10/dist-packages (2.5.1+cu121)\n",
            "Requirement already satisfied: scikit-learn in /usr/local/lib/python3.10/dist-packages (1.6.0)\n",
            "Requirement already satisfied: pandas in /usr/local/lib/python3.10/dist-packages (2.2.2)\n",
            "Requirement already satisfied: numpy in /usr/local/lib/python3.10/dist-packages (1.26.4)\n",
            "Requirement already satisfied: filelock in /usr/local/lib/python3.10/dist-packages (from transformers) (3.16.1)\n",
            "Requirement already satisfied: huggingface-hub<1.0,>=0.24.0 in /usr/local/lib/python3.10/dist-packages (from transformers) (0.27.0)\n",
            "Requirement already satisfied: packaging>=20.0 in /usr/local/lib/python3.10/dist-packages (from transformers) (24.2)\n",
            "Requirement already satisfied: pyyaml>=5.1 in /usr/local/lib/python3.10/dist-packages (from transformers) (6.0.2)\n",
            "Requirement already satisfied: regex!=2019.12.17 in /usr/local/lib/python3.10/dist-packages (from transformers) (2024.11.6)\n",
            "Requirement already satisfied: requests in /usr/local/lib/python3.10/dist-packages (from transformers) (2.32.3)\n",
            "Requirement already satisfied: tokenizers<0.22,>=0.21 in /usr/local/lib/python3.10/dist-packages (from transformers) (0.21.0)\n",
            "Requirement already satisfied: safetensors>=0.4.1 in /usr/local/lib/python3.10/dist-packages (from transformers) (0.4.5)\n",
            "Requirement already satisfied: tqdm>=4.27 in /usr/local/lib/python3.10/dist-packages (from transformers) (4.67.1)\n",
            "Requirement already satisfied: typing-extensions>=4.8.0 in /usr/local/lib/python3.10/dist-packages (from torch) (4.12.2)\n",
            "Requirement already satisfied: networkx in /usr/local/lib/python3.10/dist-packages (from torch) (3.4.2)\n",
            "Requirement already satisfied: jinja2 in /usr/local/lib/python3.10/dist-packages (from torch) (3.1.4)\n",
            "Requirement already satisfied: fsspec in /usr/local/lib/python3.10/dist-packages (from torch) (2024.10.0)\n",
            "Requirement already satisfied: sympy==1.13.1 in /usr/local/lib/python3.10/dist-packages (from torch) (1.13.1)\n",
            "Requirement already satisfied: mpmath<1.4,>=1.1.0 in /usr/local/lib/python3.10/dist-packages (from sympy==1.13.1->torch) (1.3.0)\n",
            "Requirement already satisfied: scipy>=1.6.0 in /usr/local/lib/python3.10/dist-packages (from scikit-learn) (1.13.1)\n",
            "Requirement already satisfied: joblib>=1.2.0 in /usr/local/lib/python3.10/dist-packages (from scikit-learn) (1.4.2)\n",
            "Requirement already satisfied: threadpoolctl>=3.1.0 in /usr/local/lib/python3.10/dist-packages (from scikit-learn) (3.5.0)\n",
            "Requirement already satisfied: python-dateutil>=2.8.2 in /usr/local/lib/python3.10/dist-packages (from pandas) (2.8.2)\n",
            "Requirement already satisfied: pytz>=2020.1 in /usr/local/lib/python3.10/dist-packages (from pandas) (2024.2)\n",
            "Requirement already satisfied: tzdata>=2022.7 in /usr/local/lib/python3.10/dist-packages (from pandas) (2024.2)\n",
            "Requirement already satisfied: six>=1.5 in /usr/local/lib/python3.10/dist-packages (from python-dateutil>=2.8.2->pandas) (1.17.0)\n",
            "Requirement already satisfied: MarkupSafe>=2.0 in /usr/local/lib/python3.10/dist-packages (from jinja2->torch) (3.0.2)\n",
            "Requirement already satisfied: charset-normalizer<4,>=2 in /usr/local/lib/python3.10/dist-packages (from requests->transformers) (3.4.0)\n",
            "Requirement already satisfied: idna<4,>=2.5 in /usr/local/lib/python3.10/dist-packages (from requests->transformers) (3.10)\n",
            "Requirement already satisfied: urllib3<3,>=1.21.1 in /usr/local/lib/python3.10/dist-packages (from requests->transformers) (2.2.3)\n",
            "Requirement already satisfied: certifi>=2017.4.17 in /usr/local/lib/python3.10/dist-packages (from requests->transformers) (2024.12.14)\n"
          ]
        },
        {
          "output_type": "stream",
          "name": "stderr",
          "text": [
            "/usr/local/lib/python3.10/dist-packages/huggingface_hub/utils/_auth.py:94: UserWarning: \n",
            "The secret `HF_TOKEN` does not exist in your Colab secrets.\n",
            "To authenticate with the Hugging Face Hub, create a token in your settings tab (https://huggingface.co/settings/tokens), set it as secret in your Google Colab and restart your session.\n",
            "You will be able to reuse this secret in all of your notebooks.\n",
            "Please note that authentication is recommended but still optional to access public models or datasets.\n",
            "  warnings.warn(\n"
          ]
        },
        {
          "output_type": "display_data",
          "data": {
            "text/plain": [
              "config.json:   0%|          | 0.00/4.19k [00:00<?, ?B/s]"
            ],
            "application/vnd.jupyter.widget-view+json": {
              "version_major": 2,
              "version_minor": 0,
              "model_id": "cecea94141f74d25bcf332d5588f1f65"
            }
          },
          "metadata": {}
        },
        {
          "output_type": "display_data",
          "data": {
            "text/plain": [
              "pytorch_model.bin:   0%|          | 0.00/605M [00:00<?, ?B/s]"
            ],
            "application/vnd.jupyter.widget-view+json": {
              "version_major": 2,
              "version_minor": 0,
              "model_id": "9151c81d2a244d2c8b355e943a380e3c"
            }
          },
          "metadata": {}
        },
        {
          "output_type": "display_data",
          "data": {
            "text/plain": [
              "tokenizer_config.json:   0%|          | 0.00/592 [00:00<?, ?B/s]"
            ],
            "application/vnd.jupyter.widget-view+json": {
              "version_major": 2,
              "version_minor": 0,
              "model_id": "de3616da73b04ca9b948bff55b27194d"
            }
          },
          "metadata": {}
        },
        {
          "output_type": "display_data",
          "data": {
            "text/plain": [
              "vocab.json:   0%|          | 0.00/862k [00:00<?, ?B/s]"
            ],
            "application/vnd.jupyter.widget-view+json": {
              "version_major": 2,
              "version_minor": 0,
              "model_id": "63a867c24e214239935570607435ff6c"
            }
          },
          "metadata": {}
        },
        {
          "output_type": "display_data",
          "data": {
            "text/plain": [
              "merges.txt:   0%|          | 0.00/525k [00:00<?, ?B/s]"
            ],
            "application/vnd.jupyter.widget-view+json": {
              "version_major": 2,
              "version_minor": 0,
              "model_id": "f418da80d5d840618c808fe411286037"
            }
          },
          "metadata": {}
        },
        {
          "output_type": "display_data",
          "data": {
            "text/plain": [
              "special_tokens_map.json:   0%|          | 0.00/389 [00:00<?, ?B/s]"
            ],
            "application/vnd.jupyter.widget-view+json": {
              "version_major": 2,
              "version_minor": 0,
              "model_id": "e420845ccbe441b480b10912d333b655"
            }
          },
          "metadata": {}
        },
        {
          "output_type": "display_data",
          "data": {
            "text/plain": [
              "tokenizer.json:   0%|          | 0.00/2.22M [00:00<?, ?B/s]"
            ],
            "application/vnd.jupyter.widget-view+json": {
              "version_major": 2,
              "version_minor": 0,
              "model_id": "fe23684422fd4bd98cb4620759f93e78"
            }
          },
          "metadata": {}
        }
      ]
    },
    {
      "cell_type": "code",
      "source": [
        "# Load CLIP model and tokenizer\n",
        "device = torch.device(\"cuda\" if torch.cuda.is_available() else \"cpu\")\n",
        "device = torch.device(\"cpu\")\n",
        "model = CLIPModel.from_pretrained(\"openai/clip-vit-base-patch32\").to(device)\n",
        "tokenizer = CLIPTokenizer.from_pretrained(\"openai/clip-vit-base-patch32\")"
      ],
      "metadata": {
        "id": "0LnVF7qWlKgk"
      },
      "execution_count": null,
      "outputs": []
    },
    {
      "cell_type": "code",
      "source": [
        "import pandas as pd\n",
        "import numpy as np\n",
        "import torch\n",
        "import torch.nn as nn\n",
        "import torch.optim as optim\n",
        "from torch.utils.data import DataLoader, TensorDataset\n",
        "from sklearn.model_selection import train_test_split\n",
        "from sklearn.preprocessing import LabelEncoder\n",
        "from sklearn.metrics import classification_report\n",
        "from transformers import CLIPModel, CLIPProcessor\n",
        "import umap\n",
        "import plotly.express as px\n",
        "\n",
        "# Dataset\n",
        "DATA = {\n",
        "    \"jazz\": [\"Miles Davis\", \"John Coltrane\"],\n",
        "    \"opera\": [\"Luciano Pavarotti\", \"Maria Callas\"],\n",
        "    \"country\": [\"Johnny Cash\", \"Dolly Parton\"],\n",
        "    \"electronic\": [\"Aphex Twin\", \"Daft Punk\"],\n",
        "    \"metal\": [\"Metallica\", \"Iron Maiden\"],\n",
        "    \"rap\": [\"Kendrick Lamar\", \"J. Cole\"],\n",
        "    \"classical\": [\"Ludwig van Beethoven\", \"Wolfgang Amadeus Mozart\"],\n",
        "    \"reggae\": [\"Bob Marley\", \"Peter Tosh\"]\n",
        "}\n",
        "\n",
        "# Process Data\n",
        "data = []\n",
        "for genre, artists in DATA.items():\n",
        "    for artist in artists:\n",
        "        # Clean artist names by removing numbers, extra spaces, and special characters\n",
        "        artist_cleaned = ''.join([c for c in artist if c.isalpha() or c.isspace()]).strip().lower()\n",
        "        data.append({\"artist_name\": artist_cleaned, \"genre\": genre})\n",
        "\n",
        "df = pd.DataFrame(data)\n",
        "\n",
        "# Data Validation\n",
        "assert df['artist_name'].isnull().sum() == 0, \"Missing artist names detected!\"\n",
        "assert df['genre'].isnull().sum() == 0, \"Missing genres detected!\"\n",
        "assert len(df['artist_name'].unique()) == len(df['artist_name']), \"Duplicate artist names detected!\"\n",
        "\n",
        "# Encode Labels\n",
        "label_encoder = LabelEncoder()\n",
        "df['genre_encoded'] = label_encoder.fit_transform(df['genre'])\n",
        "\n",
        "# Contrastive Fine-tuning Function\n",
        "def contrastive_finetune(model, tokenizer, df, epochs=5, device='cpu'):\n",
        "    optimizer = torch.optim.Adam(model.parameters(), lr=1e-5)\n",
        "    contrastive_loss = torch.nn.CosineEmbeddingLoss()\n",
        "    device = torch.device(device)\n",
        "\n",
        "    # Early Stopping Parameters\n",
        "    early_stopping_patience = 3\n",
        "    best_loss = float('inf')\n",
        "    patience_counter = 0\n",
        "\n",
        "    for epoch in range(epochs):\n",
        "        model.train()\n",
        "        total_loss = 0  # Track epoch loss\n",
        "\n",
        "        for i in range(0, len(df), 16):  # Batch processing\n",
        "            batch_df = df.iloc[i:i+16]\n",
        "            batch_loss = 0\n",
        "\n",
        "            for j in range(len(batch_df)):\n",
        "                # Get current artist and genre\n",
        "                current_artist = batch_df.iloc[j]['artist_name']\n",
        "                current_genre = batch_df.iloc[j]['genre']\n",
        "\n",
        "                # Find positive and negative examples (Dynamic Sampling)\n",
        "                positive_examples = df[df['genre'] == current_genre]['artist_name'].sample(\n",
        "                    min(3, len(df[df['genre'] == current_genre]))\n",
        "                ).tolist()\n",
        "                negative_examples = df[df['genre'] != current_genre]['artist_name'].sample(\n",
        "                    min(3, len(df[df['genre'] != current_genre]))\n",
        "                ).tolist()\n",
        "\n",
        "                # Tokenize and get embeddings\n",
        "                current_tokens = tokenizer([current_artist], return_tensors=\"pt\", padding=True).to(device)\n",
        "                pos_tokens = tokenizer(positive_examples, return_tensors=\"pt\", padding=True).to(device)\n",
        "                neg_tokens = tokenizer(negative_examples, return_tensors=\"pt\", padding=True).to(device)\n",
        "\n",
        "                # Compute embeddings\n",
        "                current_embedding = model.get_text_features(**current_tokens).mean(dim=0).unsqueeze(0)\n",
        "                pos_embeddings = model.get_text_features(**pos_tokens).mean(dim=0).unsqueeze(0)\n",
        "                neg_embeddings = model.get_text_features(**neg_tokens).mean(dim=0).unsqueeze(0)\n",
        "\n",
        "                # Compute loss\n",
        "                pos_loss = contrastive_loss(current_embedding, pos_embeddings, torch.tensor([1]).to(device))\n",
        "                neg_loss = contrastive_loss(current_embedding, neg_embeddings, torch.tensor([-1]).to(device))\n",
        "\n",
        "                loss = (pos_loss + neg_loss) / 2.0\n",
        "                batch_loss += loss.item()\n",
        "\n",
        "                # Backpropagation\n",
        "                optimizer.zero_grad()\n",
        "                loss.backward()\n",
        "                torch.nn.utils.clip_grad_norm_(model.parameters(), max_norm=1.0)\n",
        "                optimizer.step()\n",
        "\n",
        "            total_loss += batch_loss / len(batch_df)\n",
        "\n",
        "        avg_loss = total_loss / (len(df) / 16)\n",
        "        print(f\"Epoch {epoch + 1}/{epochs}, Loss: {avg_loss:.4f}\")\n",
        "\n",
        "        # Early Stopping\n",
        "        if avg_loss < best_loss:\n",
        "            best_loss = avg_loss\n",
        "            patience_counter = 0\n",
        "        else:\n",
        "            patience_counter += 1\n",
        "            if patience_counter >= early_stopping_patience:\n",
        "                print(\"Early stopping triggered.\")\n",
        "                break\n",
        "    return model\n"
      ],
      "metadata": {
        "id": "ePA6EQjzpVRX"
      },
      "execution_count": null,
      "outputs": []
    },
    {
      "source": [
        "# Fine-tune the model\n",
        "model = contrastive_finetune(model, tokenizer, df)\n",
        "\n",
        "# Save the fine-tuned model\n",
        "torch.save(model.state_dict(), 'fine_tuned_clip_model.pth')"
      ],
      "cell_type": "code",
      "metadata": {
        "colab": {
          "base_uri": "https://localhost:8080/"
        },
        "id": "V_HmHGtTo1Pk",
        "outputId": "b2e48bb1-2b16-415c-df1a-67025140b7c6"
      },
      "execution_count": null,
      "outputs": [
        {
          "output_type": "stream",
          "name": "stdout",
          "text": [
            "Epoch 1/5, Loss: 0.0407\n",
            "Epoch 2/5, Loss: 0.0643\n",
            "Epoch 3/5, Loss: 0.0185\n",
            "Epoch 4/5, Loss: 0.0203\n",
            "Epoch 5/5, Loss: 0.0141\n"
          ]
        }
      ]
    },
    {
      "cell_type": "code",
      "source": [
        "# Function to generate embeddings\n",
        "def get_embeddings(names, model, processor, device):\n",
        "    \"\"\"\n",
        "    Generate embeddings for a list of names using Hugging Face CLIP.\n",
        "    \"\"\"\n",
        "    # Use processor to tokenize text\n",
        "    inputs = processor(text=names, return_tensors=\"pt\", padding=True, truncation=True).to(device)\n",
        "    with torch.no_grad():\n",
        "        embeddings = model.get_text_features(**inputs).cpu().numpy()\n",
        "    return embeddings\n",
        "\n",
        "# Process artist names in batches\n",
        "batch_size = 32\n",
        "embeddings = []\n",
        "for i in range(0, len(df), batch_size):\n",
        "    batch = df['artist_name'][i:i + batch_size].tolist()\n",
        "    batch_embeddings = get_embeddings(batch, model, processor, device)\n",
        "    embeddings.extend(batch_embeddings)\n",
        "\n",
        "# Save embeddings to the DataFrame for future using convinience\n",
        "df['embedding'] = embeddings\n",
        "\n",
        "print(df.head())"
      ],
      "metadata": {
        "colab": {
          "base_uri": "https://localhost:8080/"
        },
        "id": "eYyd_ckXp__O",
        "outputId": "36f05d5e-6214-472f-e0ff-f349326a785c"
      },
      "execution_count": null,
      "outputs": [
        {
          "output_type": "stream",
          "name": "stdout",
          "text": [
            "         artist_name    genre  genre_encoded  \\\n",
            "0        miles davis     jazz              3   \n",
            "1      john coltrane     jazz              3   \n",
            "2  luciano pavarotti    opera              5   \n",
            "3       maria callas    opera              5   \n",
            "4        johnny cash  country              1   \n",
            "\n",
            "                                           embedding  \n",
            "0  [0.2691603, -0.1286968, 0.3563139, -0.13952854...  \n",
            "1  [-0.20646398, -0.06538752, -0.011708915, 0.202...  \n",
            "2  [0.061344415, -0.23852952, -0.21018066, 0.3863...  \n",
            "3  [0.16419968, 0.012582369, 0.2790023, 0.2240475...  \n",
            "4  [0.053105853, -0.12561336, 0.118333, -0.210620...  \n"
          ]
        }
      ]
    },
    {
      "source": [
        "from transformers import CLIPProcessor, CLIPModel\n",
        "\n",
        "device = torch.device(\"cuda\" if torch.cuda.is_available() else \"cpu\")\n",
        "model = CLIPModel.from_pretrained(\"openai/clip-vit-base-patch32\").to(device)\n",
        "processor = CLIPProcessor.from_pretrained(\"openai/clip-vit-base-patch32\")"
      ],
      "cell_type": "code",
      "metadata": {
        "colab": {
          "base_uri": "https://localhost:8080/",
          "height": 49,
          "referenced_widgets": [
            "d7351e0289e243c794e073f84edc14b8",
            "aae793afdd45489aa6df16c339fb787e",
            "0a8e6504d1b548c0b520e109a72d4d21",
            "75b81da3ec56496681583d4c5613d99e",
            "fc43df47dc6c423db778352f6b3b4c31",
            "e0beffb1e3854ba695ab3d413306e5bd",
            "2c352ba5524b4a1da333538baf27265c",
            "25365928ecfa41a8972f1826dc02ec2a",
            "a6e3aa5f21cf4aa8b807d33b74588aa1",
            "39dca8871d4442bd870ae559464c8d15",
            "b4d50d32130d4f50af8f2cc55dc0f614"
          ]
        },
        "id": "JNviRmmeqmNC",
        "outputId": "72fc37d6-d483-428b-c034-92ddd31d399c"
      },
      "execution_count": null,
      "outputs": [
        {
          "output_type": "display_data",
          "data": {
            "text/plain": [
              "preprocessor_config.json:   0%|          | 0.00/316 [00:00<?, ?B/s]"
            ],
            "application/vnd.jupyter.widget-view+json": {
              "version_major": 2,
              "version_minor": 0,
              "model_id": "d7351e0289e243c794e073f84edc14b8"
            }
          },
          "metadata": {}
        }
      ]
    },
    {
      "cell_type": "code",
      "source": [
        "# Generate embeddings\n",
        "def get_embeddings(names):\n",
        "    inputs = tokenizer(names, return_tensors=\"pt\", padding=True, truncation=True).to(device)\n",
        "    with torch.no_grad():\n",
        "        embeddings = model.get_text_features(**inputs).cpu().numpy()\n",
        "    return embeddings"
      ],
      "metadata": {
        "id": "AojkiIiaqUxL"
      },
      "execution_count": null,
      "outputs": []
    },
    {
      "source": [
        "# Generate embeddings using the fine-tuned model\n",
        "df['embedding'] = get_embeddings(df['artist_name'].tolist(), model=model, processor=processor, device=device)"
      ],
      "cell_type": "code",
      "metadata": {
        "id": "9HfSzUXCqymJ"
      },
      "execution_count": null,
      "outputs": []
    },
    {
      "source": [
        "from collections import Counter, defaultdict\n",
        "import random\n",
        "import numpy as np\n",
        "from sklearn.model_selection import train_test_split\n",
        "\n",
        "X = df['embedding'].tolist()\n",
        "y = df['genre_encoded'].tolist()\n",
        "\n",
        "# Manual split to ensure one sample per class in val/test\n",
        "genre_indices = defaultdict(list)\n",
        "for i, genre in enumerate(y):\n",
        "    genre_indices[genre].append(i)\n",
        "\n",
        "X_train, y_train, X_val, y_val, X_test, y_test = [], [], [], [], [], []\n",
        "for genre, indices in genre_indices.items():\n",
        "    # At least one for each in val and test\n",
        "    # Check if enough samples for train/val/test split\n",
        "    if len(indices) >= 3:  # Ensure at least 3 samples for the genre\n",
        "        val_index = random.choice(indices)\n",
        "        remaining_indices = [i for i in indices if i != val_index]\n",
        "        test_index = random.choice(remaining_indices)\n",
        "\n",
        "        X_val.append(X[val_index])\n",
        "        y_val.append(y[val_index])\n",
        "        X_test.append(X[test_index])\n",
        "        y_test.append(y[test_index])\n",
        "\n",
        "        # Rest to train\n",
        "        for i in indices:\n",
        "            if i not in (val_index, test_index):\n",
        "                X_train.append(X[i])\n",
        "                y_train.append(y[i])\n",
        "    else:\n",
        "        # Handle cases with fewer than 3 samples (e.g., assign to train set)\n",
        "        X_train.extend([X[i] for i in indices])\n",
        "        y_train.extend([y[i] for i in indices])"
      ],
      "cell_type": "code",
      "metadata": {
        "id": "q5n9v7dHsP08"
      },
      "execution_count": null,
      "outputs": []
    },
    {
      "source": [
        "from collections import Counter, defaultdict\n",
        "import random\n",
        "import numpy as np\n",
        "from sklearn.linear_model import LogisticRegression\n",
        "from sklearn.model_selection import GridSearchCV, StratifiedKFold\n",
        "from sklearn.pipeline import Pipeline\n",
        "from sklearn.preprocessing import StandardScaler\n",
        "from sklearn.metrics import classification_report\n",
        "from tqdm import tqdm\n",
        "\n",
        "# ... (your dataset DATA and data preprocessing code as before)\n",
        "\n",
        "# 1. Data Preparation\n",
        "X = np.array(df['embedding'].tolist())\n",
        "X = X.reshape(-1, 1) if X.ndim == 1 else X  # Reshape if X is 1D\n",
        "y = np.array(df['genre_encoded'].tolist())\n",
        "\n",
        "# 2. Manual Split with Optimized Padding\n",
        "genre_indices = defaultdict(list)\n",
        "for i, genre in enumerate(y):\n",
        "    genre_indices[genre].append(i)\n",
        "\n",
        "X_train, y_train, X_val, y_val, X_test, y_test = [], [], [], [], [], []\n",
        "for genre, indices in genre_indices.items():\n",
        "    if len(indices) >= 3:\n",
        "        val_index = random.choice(indices)\n",
        "        remaining_indices = [i for i in indices if i != val_index]\n",
        "        test_index = random.choice(remaining_indices)\n",
        "\n",
        "        X_val.append(X[val_index])\n",
        "        y_val.append(y[val_index])\n",
        "        X_test.append(X[test_index])\n",
        "        y_test.append(y[test_index])\n",
        "\n",
        "        for i in indices:\n",
        "            if i not in (val_index, test_index):\n",
        "                X_train.append(X[i])\n",
        "                y_train.append(y[i])\n",
        "    else:\n",
        "        X_train.extend([X[i] for i in indices])\n",
        "        y_train.extend([y[i] for i in indices])\n",
        "\n",
        "min_size = 8\n",
        "if X_train:\n",
        "    estimated_size = max(min_size, len(X_train), len(X_val), len(X_test))\n",
        "\n",
        "    embedding_dim = X_train[0].shape[0]\n",
        "    X_train_padded = np.zeros((estimated_size, embedding_dim))\n",
        "    y_train_padded = np.zeros(estimated_size, dtype=int)\n",
        "    X_train_padded[:len(X_train)] = X_train\n",
        "    y_train_padded[:len(y_train)] = y_train\n",
        "\n",
        "    # ... (similar pre-allocation and padding for X_val, y_val, X_test, y_test)\n",
        "\n",
        "    X_train, y_train = X_train_padded, y_train_padded\n",
        "    # ... (assign padded arrays for X_val, y_val, X_test, y_test)\n",
        "\n",
        "# 3. Advanced Logistic Regression Training\n",
        "pipeline = Pipeline([\n",
        "    ('scaler', StandardScaler()),\n",
        "    ('classifier', LogisticRegression(max_iter=1000, random_state=42))\n",
        "])\n",
        "\n",
        "param_grid = {\n",
        "    'classifier__penalty': ['l1', 'l2'],\n",
        "    'classifier__C': np.logspace(-4, 4, 9),\n",
        "    'classifier__solver': ['liblinear', 'saga'],\n",
        "    'classifier__class_weight': [None, 'balanced']\n",
        "}\n"
      ],
      "cell_type": "code",
      "metadata": {
        "id": "OW86jzDbvKnI"
      },
      "execution_count": null,
      "outputs": []
    },
    {
      "source": [
        "from sklearn.model_selection import KFold, LeaveOneOut\n",
        "\n",
        "# Using K-Fold\n",
        "cv = KFold(n_splits=5, shuffle=True, random_state=42)\n",
        "\n",
        "# Using Leave-One-Out\n",
        "cv = LeaveOneOut()"
      ],
      "cell_type": "code",
      "metadata": {
        "id": "01T97qqFvwl3"
      },
      "execution_count": null,
      "outputs": []
    },
    {
      "source": [
        "# Using Leave-One-Out\n",
        "cv = LeaveOneOut()\n",
        "\n",
        "with tqdm(total=len(param_grid) * cv.get_n_splits(X_train), desc=\"Grid Search\") as pbar:  # Provide X_train\n",
        "    grid_search = GridSearchCV(pipeline, param_grid, cv=cv, scoring='f1_weighted', n_jobs=-1)\n",
        "    grid_search.fit(X_train, y_train)\n",
        "    pbar.update(len(param_grid) * cv.get_n_splits(X_train))  # Provide X_train again"
      ],
      "cell_type": "code",
      "metadata": {
        "colab": {
          "base_uri": "https://localhost:8080/"
        },
        "id": "byFn9kffwJg_",
        "outputId": "8d16ad09-499b-4f9b-aa68-be58b19cb15c"
      },
      "execution_count": null,
      "outputs": [
        {
          "output_type": "stream",
          "name": "stderr",
          "text": [
            "Grid Search: 100%|██████████| 64/64 [00:12<00:00,  5.04it/s]\n"
          ]
        }
      ]
    },
    {
      "cell_type": "code",
      "source": [
        "# Ensure lists are NumPy arrays for compatibility with scikit-learn models\n",
        "X_train = np.array(X_train)\n",
        "X_val = np.array(X_val)\n",
        "X_test = np.array(X_test)\n",
        "y_train = np.array(y_train)\n",
        "y_val = np.array(y_val)\n",
        "y_test = np.array(y_test)"
      ],
      "metadata": {
        "id": "mJaDjx4kulP4"
      },
      "execution_count": null,
      "outputs": []
    },
    {
      "source": [
        "import numpy as np\n",
        "from sklearn.linear_model import LogisticRegression\n",
        "from sklearn.model_selection import GridSearchCV, StratifiedKFold\n",
        "from sklearn.pipeline import Pipeline\n",
        "from sklearn.preprocessing import StandardScaler\n",
        "from sklearn.metrics import classification_report\n",
        "\n",
        "# 1. Create a Pipeline for Preprocessing and Classification\n",
        "pipeline = Pipeline([\n",
        "    ('scaler', StandardScaler()),  # Standardize features for better performance\n",
        "    ('classifier', LogisticRegression(max_iter=1000, random_state=42))\n",
        "])\n",
        "\n",
        "# 2. Define Hyperparameter Grid for Tuning\n",
        "param_grid = {\n",
        "    'classifier__penalty': ['l1', 'l2'],  # Regularization type\n",
        "    'classifier__C': np.logspace(-4, 4, 9),  # Regularization strength\n",
        "    'classifier__solver': ['liblinear', 'saga'],  # Optimization algorithms\n",
        "    'classifier__class_weight': [None, 'balanced']  # Address class imbalance\n",
        "}\n",
        "\n",
        "# 3. Set up Stratified K-Fold Cross-Validation\n",
        "cv = StratifiedKFold(n_splits=5, shuffle=True, random_state=42)\n",
        "\n",
        "# Using Leave-One-Out in GridSearchCV\n",
        "grid_search = GridSearchCV(pipeline, param_grid, cv=LeaveOneOut(), scoring='f1_weighted', n_jobs=-1)\n",
        "grid_search.fit(X_train, y_train)\n",
        "\n",
        "# 6. Get the Best Model and Its Performance\n",
        "best_model = grid_search.best_estimator_\n",
        "best_params = grid_search.best_params_\n",
        "best_score = grid_search.best_score_\n",
        "\n",
        "print(f\"Best Hyperparameters: {best_params}\")\n",
        "print(f\"Best F1-Weighted Score: {best_score:.4f}\")"
      ],
      "cell_type": "code",
      "metadata": {
        "colab": {
          "base_uri": "https://localhost:8080/"
        },
        "id": "p9AxuHEvs4kj",
        "outputId": "fbd67cb9-25c0-4db0-fc18-4bd9ebc8326a"
      },
      "execution_count": null,
      "outputs": [
        {
          "output_type": "stream",
          "name": "stdout",
          "text": [
            "Best Hyperparameters: {'classifier__C': 9.999999999999999e-05, 'classifier__class_weight': None, 'classifier__penalty': 'l1', 'classifier__solver': 'liblinear'}\n",
            "Best F1-Weighted Score: 0.1250\n"
          ]
        }
      ]
    },
    {
      "source": [
        "# ... other parts of your code ...\n",
        "\n",
        "# 7. Evaluate on Validation Set\n",
        "# Reshape X_val to a 2D array (no need for .values)\n",
        "X_val_reshaped = X_val.reshape(-1, 1)\n",
        "val_predictions = best_model.predict(X_val_reshaped)\n",
        "print(\"Validation Classification Report:\")\n",
        "print(classification_report(y_val, val_predictions, target_names=label_encoder.classes_))\n",
        "\n",
        "# ... rest of your code ..."
      ],
      "cell_type": "code",
      "metadata": {
        "colab": {
          "base_uri": "https://localhost:8080/",
          "height": 382
        },
        "id": "F7lftctSyyTN",
        "outputId": "e2c4950b-ed0e-4703-b3c0-5b989e1d91b0"
      },
      "execution_count": null,
      "outputs": [
        {
          "output_type": "error",
          "ename": "ValueError",
          "evalue": "Found array with 0 sample(s) (shape=(0, 1)) while a minimum of 1 is required by StandardScaler.",
          "traceback": [
            "\u001b[0;31m---------------------------------------------------------------------------\u001b[0m",
            "\u001b[0;31mValueError\u001b[0m                                Traceback (most recent call last)",
            "\u001b[0;32m<ipython-input-74-8b931c66148d>\u001b[0m in \u001b[0;36m<cell line: 6>\u001b[0;34m()\u001b[0m\n\u001b[1;32m      4\u001b[0m \u001b[0;31m# Reshape X_val to a 2D array (no need for .values)\u001b[0m\u001b[0;34m\u001b[0m\u001b[0;34m\u001b[0m\u001b[0m\n\u001b[1;32m      5\u001b[0m \u001b[0mX_val_reshaped\u001b[0m \u001b[0;34m=\u001b[0m \u001b[0mX_val\u001b[0m\u001b[0;34m.\u001b[0m\u001b[0mreshape\u001b[0m\u001b[0;34m(\u001b[0m\u001b[0;34m-\u001b[0m\u001b[0;36m1\u001b[0m\u001b[0;34m,\u001b[0m \u001b[0;36m1\u001b[0m\u001b[0;34m)\u001b[0m\u001b[0;34m\u001b[0m\u001b[0;34m\u001b[0m\u001b[0m\n\u001b[0;32m----> 6\u001b[0;31m \u001b[0mval_predictions\u001b[0m \u001b[0;34m=\u001b[0m \u001b[0mbest_model\u001b[0m\u001b[0;34m.\u001b[0m\u001b[0mpredict\u001b[0m\u001b[0;34m(\u001b[0m\u001b[0mX_val_reshaped\u001b[0m\u001b[0;34m)\u001b[0m\u001b[0;34m\u001b[0m\u001b[0;34m\u001b[0m\u001b[0m\n\u001b[0m\u001b[1;32m      7\u001b[0m \u001b[0mprint\u001b[0m\u001b[0;34m(\u001b[0m\u001b[0;34m\"Validation Classification Report:\"\u001b[0m\u001b[0;34m)\u001b[0m\u001b[0;34m\u001b[0m\u001b[0;34m\u001b[0m\u001b[0m\n\u001b[1;32m      8\u001b[0m \u001b[0mprint\u001b[0m\u001b[0;34m(\u001b[0m\u001b[0mclassification_report\u001b[0m\u001b[0;34m(\u001b[0m\u001b[0my_val\u001b[0m\u001b[0;34m,\u001b[0m \u001b[0mval_predictions\u001b[0m\u001b[0;34m,\u001b[0m \u001b[0mtarget_names\u001b[0m\u001b[0;34m=\u001b[0m\u001b[0mlabel_encoder\u001b[0m\u001b[0;34m.\u001b[0m\u001b[0mclasses_\u001b[0m\u001b[0;34m)\u001b[0m\u001b[0;34m)\u001b[0m\u001b[0;34m\u001b[0m\u001b[0;34m\u001b[0m\u001b[0m\n",
            "\u001b[0;32m/usr/local/lib/python3.10/dist-packages/sklearn/pipeline.py\u001b[0m in \u001b[0;36mpredict\u001b[0;34m(self, X, **params)\u001b[0m\n\u001b[1;32m    783\u001b[0m             \u001b[0;32mif\u001b[0m \u001b[0;32mnot\u001b[0m \u001b[0m_routing_enabled\u001b[0m\u001b[0;34m(\u001b[0m\u001b[0;34m)\u001b[0m\u001b[0;34m:\u001b[0m\u001b[0;34m\u001b[0m\u001b[0;34m\u001b[0m\u001b[0m\n\u001b[1;32m    784\u001b[0m                 \u001b[0;32mfor\u001b[0m \u001b[0m_\u001b[0m\u001b[0;34m,\u001b[0m \u001b[0mname\u001b[0m\u001b[0;34m,\u001b[0m \u001b[0mtransform\u001b[0m \u001b[0;32min\u001b[0m \u001b[0mself\u001b[0m\u001b[0;34m.\u001b[0m\u001b[0m_iter\u001b[0m\u001b[0;34m(\u001b[0m\u001b[0mwith_final\u001b[0m\u001b[0;34m=\u001b[0m\u001b[0;32mFalse\u001b[0m\u001b[0;34m)\u001b[0m\u001b[0;34m:\u001b[0m\u001b[0;34m\u001b[0m\u001b[0;34m\u001b[0m\u001b[0m\n\u001b[0;32m--> 785\u001b[0;31m                     \u001b[0mXt\u001b[0m \u001b[0;34m=\u001b[0m \u001b[0mtransform\u001b[0m\u001b[0;34m.\u001b[0m\u001b[0mtransform\u001b[0m\u001b[0;34m(\u001b[0m\u001b[0mXt\u001b[0m\u001b[0;34m)\u001b[0m\u001b[0;34m\u001b[0m\u001b[0;34m\u001b[0m\u001b[0m\n\u001b[0m\u001b[1;32m    786\u001b[0m                 \u001b[0;32mreturn\u001b[0m \u001b[0mself\u001b[0m\u001b[0;34m.\u001b[0m\u001b[0msteps\u001b[0m\u001b[0;34m[\u001b[0m\u001b[0;34m-\u001b[0m\u001b[0;36m1\u001b[0m\u001b[0;34m]\u001b[0m\u001b[0;34m[\u001b[0m\u001b[0;36m1\u001b[0m\u001b[0;34m]\u001b[0m\u001b[0;34m.\u001b[0m\u001b[0mpredict\u001b[0m\u001b[0;34m(\u001b[0m\u001b[0mXt\u001b[0m\u001b[0;34m,\u001b[0m \u001b[0;34m**\u001b[0m\u001b[0mparams\u001b[0m\u001b[0;34m)\u001b[0m\u001b[0;34m\u001b[0m\u001b[0;34m\u001b[0m\u001b[0m\n\u001b[1;32m    787\u001b[0m \u001b[0;34m\u001b[0m\u001b[0m\n",
            "\u001b[0;32m/usr/local/lib/python3.10/dist-packages/sklearn/utils/_set_output.py\u001b[0m in \u001b[0;36mwrapped\u001b[0;34m(self, X, *args, **kwargs)\u001b[0m\n\u001b[1;32m    317\u001b[0m     \u001b[0;34m@\u001b[0m\u001b[0mwraps\u001b[0m\u001b[0;34m(\u001b[0m\u001b[0mf\u001b[0m\u001b[0;34m)\u001b[0m\u001b[0;34m\u001b[0m\u001b[0;34m\u001b[0m\u001b[0m\n\u001b[1;32m    318\u001b[0m     \u001b[0;32mdef\u001b[0m \u001b[0mwrapped\u001b[0m\u001b[0;34m(\u001b[0m\u001b[0mself\u001b[0m\u001b[0;34m,\u001b[0m \u001b[0mX\u001b[0m\u001b[0;34m,\u001b[0m \u001b[0;34m*\u001b[0m\u001b[0margs\u001b[0m\u001b[0;34m,\u001b[0m \u001b[0;34m**\u001b[0m\u001b[0mkwargs\u001b[0m\u001b[0;34m)\u001b[0m\u001b[0;34m:\u001b[0m\u001b[0;34m\u001b[0m\u001b[0;34m\u001b[0m\u001b[0m\n\u001b[0;32m--> 319\u001b[0;31m         \u001b[0mdata_to_wrap\u001b[0m \u001b[0;34m=\u001b[0m \u001b[0mf\u001b[0m\u001b[0;34m(\u001b[0m\u001b[0mself\u001b[0m\u001b[0;34m,\u001b[0m \u001b[0mX\u001b[0m\u001b[0;34m,\u001b[0m \u001b[0;34m*\u001b[0m\u001b[0margs\u001b[0m\u001b[0;34m,\u001b[0m \u001b[0;34m**\u001b[0m\u001b[0mkwargs\u001b[0m\u001b[0;34m)\u001b[0m\u001b[0;34m\u001b[0m\u001b[0;34m\u001b[0m\u001b[0m\n\u001b[0m\u001b[1;32m    320\u001b[0m         \u001b[0;32mif\u001b[0m \u001b[0misinstance\u001b[0m\u001b[0;34m(\u001b[0m\u001b[0mdata_to_wrap\u001b[0m\u001b[0;34m,\u001b[0m \u001b[0mtuple\u001b[0m\u001b[0;34m)\u001b[0m\u001b[0;34m:\u001b[0m\u001b[0;34m\u001b[0m\u001b[0;34m\u001b[0m\u001b[0m\n\u001b[1;32m    321\u001b[0m             \u001b[0;31m# only wrap the first output for cross decomposition\u001b[0m\u001b[0;34m\u001b[0m\u001b[0;34m\u001b[0m\u001b[0m\n",
            "\u001b[0;32m/usr/local/lib/python3.10/dist-packages/sklearn/preprocessing/_data.py\u001b[0m in \u001b[0;36mtransform\u001b[0;34m(self, X, copy)\u001b[0m\n\u001b[1;32m   1060\u001b[0m \u001b[0;34m\u001b[0m\u001b[0m\n\u001b[1;32m   1061\u001b[0m         \u001b[0mcopy\u001b[0m \u001b[0;34m=\u001b[0m \u001b[0mcopy\u001b[0m \u001b[0;32mif\u001b[0m \u001b[0mcopy\u001b[0m \u001b[0;32mis\u001b[0m \u001b[0;32mnot\u001b[0m \u001b[0;32mNone\u001b[0m \u001b[0;32melse\u001b[0m \u001b[0mself\u001b[0m\u001b[0;34m.\u001b[0m\u001b[0mcopy\u001b[0m\u001b[0;34m\u001b[0m\u001b[0;34m\u001b[0m\u001b[0m\n\u001b[0;32m-> 1062\u001b[0;31m         X = validate_data(\n\u001b[0m\u001b[1;32m   1063\u001b[0m             \u001b[0mself\u001b[0m\u001b[0;34m,\u001b[0m\u001b[0;34m\u001b[0m\u001b[0;34m\u001b[0m\u001b[0m\n\u001b[1;32m   1064\u001b[0m             \u001b[0mX\u001b[0m\u001b[0;34m,\u001b[0m\u001b[0;34m\u001b[0m\u001b[0;34m\u001b[0m\u001b[0m\n",
            "\u001b[0;32m/usr/local/lib/python3.10/dist-packages/sklearn/utils/validation.py\u001b[0m in \u001b[0;36mvalidate_data\u001b[0;34m(_estimator, X, y, reset, validate_separately, skip_check_array, **check_params)\u001b[0m\n\u001b[1;32m   2942\u001b[0m             \u001b[0mout\u001b[0m \u001b[0;34m=\u001b[0m \u001b[0mX\u001b[0m\u001b[0;34m,\u001b[0m \u001b[0my\u001b[0m\u001b[0;34m\u001b[0m\u001b[0;34m\u001b[0m\u001b[0m\n\u001b[1;32m   2943\u001b[0m     \u001b[0;32melif\u001b[0m \u001b[0;32mnot\u001b[0m \u001b[0mno_val_X\u001b[0m \u001b[0;32mand\u001b[0m \u001b[0mno_val_y\u001b[0m\u001b[0;34m:\u001b[0m\u001b[0;34m\u001b[0m\u001b[0;34m\u001b[0m\u001b[0m\n\u001b[0;32m-> 2944\u001b[0;31m         \u001b[0mout\u001b[0m \u001b[0;34m=\u001b[0m \u001b[0mcheck_array\u001b[0m\u001b[0;34m(\u001b[0m\u001b[0mX\u001b[0m\u001b[0;34m,\u001b[0m \u001b[0minput_name\u001b[0m\u001b[0;34m=\u001b[0m\u001b[0;34m\"X\"\u001b[0m\u001b[0;34m,\u001b[0m \u001b[0;34m**\u001b[0m\u001b[0mcheck_params\u001b[0m\u001b[0;34m)\u001b[0m\u001b[0;34m\u001b[0m\u001b[0;34m\u001b[0m\u001b[0m\n\u001b[0m\u001b[1;32m   2945\u001b[0m     \u001b[0;32melif\u001b[0m \u001b[0mno_val_X\u001b[0m \u001b[0;32mand\u001b[0m \u001b[0;32mnot\u001b[0m \u001b[0mno_val_y\u001b[0m\u001b[0;34m:\u001b[0m\u001b[0;34m\u001b[0m\u001b[0;34m\u001b[0m\u001b[0m\n\u001b[1;32m   2946\u001b[0m         \u001b[0mout\u001b[0m \u001b[0;34m=\u001b[0m \u001b[0m_check_y\u001b[0m\u001b[0;34m(\u001b[0m\u001b[0my\u001b[0m\u001b[0;34m,\u001b[0m \u001b[0;34m**\u001b[0m\u001b[0mcheck_params\u001b[0m\u001b[0;34m)\u001b[0m\u001b[0;34m\u001b[0m\u001b[0;34m\u001b[0m\u001b[0m\n",
            "\u001b[0;32m/usr/local/lib/python3.10/dist-packages/sklearn/utils/validation.py\u001b[0m in \u001b[0;36mcheck_array\u001b[0;34m(array, accept_sparse, accept_large_sparse, dtype, order, copy, force_writeable, force_all_finite, ensure_all_finite, ensure_non_negative, ensure_2d, allow_nd, ensure_min_samples, ensure_min_features, estimator, input_name)\u001b[0m\n\u001b[1;32m   1128\u001b[0m         \u001b[0mn_samples\u001b[0m \u001b[0;34m=\u001b[0m \u001b[0m_num_samples\u001b[0m\u001b[0;34m(\u001b[0m\u001b[0marray\u001b[0m\u001b[0;34m)\u001b[0m\u001b[0;34m\u001b[0m\u001b[0;34m\u001b[0m\u001b[0m\n\u001b[1;32m   1129\u001b[0m         \u001b[0;32mif\u001b[0m \u001b[0mn_samples\u001b[0m \u001b[0;34m<\u001b[0m \u001b[0mensure_min_samples\u001b[0m\u001b[0;34m:\u001b[0m\u001b[0;34m\u001b[0m\u001b[0;34m\u001b[0m\u001b[0m\n\u001b[0;32m-> 1130\u001b[0;31m             raise ValueError(\n\u001b[0m\u001b[1;32m   1131\u001b[0m                 \u001b[0;34m\"Found array with %d sample(s) (shape=%s) while a\"\u001b[0m\u001b[0;34m\u001b[0m\u001b[0;34m\u001b[0m\u001b[0m\n\u001b[1;32m   1132\u001b[0m                 \u001b[0;34m\" minimum of %d is required%s.\"\u001b[0m\u001b[0;34m\u001b[0m\u001b[0;34m\u001b[0m\u001b[0m\n",
            "\u001b[0;31mValueError\u001b[0m: Found array with 0 sample(s) (shape=(0, 1)) while a minimum of 1 is required by StandardScaler."
          ]
        }
      ]
    },
    {
      "cell_type": "code",
      "source": [
        "\n",
        "\n",
        "# 8. (Optional) Evaluate on Test Set\n",
        "test_predictions = best_model.predict(X_test)\n",
        "print(\"Test Classification Report:\")\n",
        "print(classification_report(y_test, test_predictions, target_names=label_encoder.classes_))\n",
        "\n",
        "# 9. Save the Best Model\n",
        "joblib.dump(best_model, \"genre_classifier_advanced.pkl\")"
      ],
      "metadata": {
        "id": "Fo5k5TQiyioR"
      },
      "execution_count": null,
      "outputs": []
    },
    {
      "source": [
        "val_predictions = best_model.predict(X_val)\n",
        "print(\"Validation Classification Report:\")\n",
        "print(classification_report(y_val, val_predictions, target_names=label_encoder.classes_))"
      ],
      "cell_type": "code",
      "metadata": {
        "colab": {
          "base_uri": "https://localhost:8080/",
          "height": 305
        },
        "id": "BEc7iawXwoVo",
        "outputId": "f034088a-7031-4c4c-b44a-2a99ac865182"
      },
      "execution_count": null,
      "outputs": [
        {
          "output_type": "error",
          "ename": "AttributeError",
          "evalue": "'CLIPModel' object has no attribute 'predict'",
          "traceback": [
            "\u001b[0;31m---------------------------------------------------------------------------\u001b[0m",
            "\u001b[0;31mAttributeError\u001b[0m                            Traceback (most recent call last)",
            "\u001b[0;32m<ipython-input-70-ddba6804f0cd>\u001b[0m in \u001b[0;36m<cell line: 1>\u001b[0;34m()\u001b[0m\n\u001b[0;32m----> 1\u001b[0;31m \u001b[0mval_predictions\u001b[0m \u001b[0;34m=\u001b[0m \u001b[0mmodel\u001b[0m\u001b[0;34m.\u001b[0m\u001b[0mpredict\u001b[0m\u001b[0;34m(\u001b[0m\u001b[0mX_val\u001b[0m\u001b[0;34m)\u001b[0m\u001b[0;34m\u001b[0m\u001b[0;34m\u001b[0m\u001b[0m\n\u001b[0m\u001b[1;32m      2\u001b[0m \u001b[0mprint\u001b[0m\u001b[0;34m(\u001b[0m\u001b[0;34m\"Validation Classification Report:\"\u001b[0m\u001b[0;34m)\u001b[0m\u001b[0;34m\u001b[0m\u001b[0;34m\u001b[0m\u001b[0m\n\u001b[1;32m      3\u001b[0m \u001b[0mprint\u001b[0m\u001b[0;34m(\u001b[0m\u001b[0mclassification_report\u001b[0m\u001b[0;34m(\u001b[0m\u001b[0my_val\u001b[0m\u001b[0;34m,\u001b[0m \u001b[0mval_predictions\u001b[0m\u001b[0;34m,\u001b[0m \u001b[0mtarget_names\u001b[0m\u001b[0;34m=\u001b[0m\u001b[0mlabel_encoder\u001b[0m\u001b[0;34m.\u001b[0m\u001b[0mclasses_\u001b[0m\u001b[0;34m)\u001b[0m\u001b[0;34m)\u001b[0m\u001b[0;34m\u001b[0m\u001b[0;34m\u001b[0m\u001b[0m\n",
            "\u001b[0;32m/usr/local/lib/python3.10/dist-packages/torch/nn/modules/module.py\u001b[0m in \u001b[0;36m__getattr__\u001b[0;34m(self, name)\u001b[0m\n\u001b[1;32m   1929\u001b[0m             \u001b[0;32mif\u001b[0m \u001b[0mname\u001b[0m \u001b[0;32min\u001b[0m \u001b[0mmodules\u001b[0m\u001b[0;34m:\u001b[0m\u001b[0;34m\u001b[0m\u001b[0;34m\u001b[0m\u001b[0m\n\u001b[1;32m   1930\u001b[0m                 \u001b[0;32mreturn\u001b[0m \u001b[0mmodules\u001b[0m\u001b[0;34m[\u001b[0m\u001b[0mname\u001b[0m\u001b[0;34m]\u001b[0m\u001b[0;34m\u001b[0m\u001b[0;34m\u001b[0m\u001b[0m\n\u001b[0;32m-> 1931\u001b[0;31m         raise AttributeError(\n\u001b[0m\u001b[1;32m   1932\u001b[0m             \u001b[0;34mf\"'{type(self).__name__}' object has no attribute '{name}'\"\u001b[0m\u001b[0;34m\u001b[0m\u001b[0;34m\u001b[0m\u001b[0m\n\u001b[1;32m   1933\u001b[0m         )\n",
            "\u001b[0;31mAttributeError\u001b[0m: 'CLIPModel' object has no attribute 'predict'"
          ]
        }
      ]
    },
    {
      "cell_type": "markdown",
      "source": [
        "Feature Engineering Suggestions\n",
        "Here are a few practical and meaningful features you could engineer for this project:\n",
        "\n",
        "1. Popularity Metrics\n",
        "Why: Popularity or streaming data can signal the genre (e.g., Spotify listener counts or chart positions).\n",
        "How: Add a \"popularity score\" or \"streaming rank\" feature for each artist (if available).\n",
        "python\n",
        "Copy code\n",
        "df['popularity'] = ...  # Add external popularity data here\n",
        "2. Era of Activity\n",
        "Why: Genres are often tied to specific historical periods (e.g., classical artists vs. modern rappers).\n",
        "How: Add a feature that encodes the approximate era of the artist (e.g., birth year or years active).\n",
        "python\n",
        "Copy code\n",
        "df['era'] = [1930, 1960, 1970, ...]  # Example for jazz artists\n",
        "3. Region or Origin\n",
        "Why: Genres often have geographical roots (e.g., reggae in Jamaica, country in the U.S.).\n",
        "How: Add the artist's country or region of origin as a feature.\n",
        "python\n",
        "Copy code\n",
        "df['region'] = ['USA', 'Jamaica', 'Germany', ...]\n",
        "4. Known Instruments\n",
        "Why: Specific instruments are tied to certain genres (e.g., saxophones for jazz, turntables for rap).\n",
        "How: Add a categorical feature for the artist's primary instrument (if known).\n",
        "python\n",
        "Copy code\n",
        "df['instrument'] = ['saxophone', 'guitar', 'vocals', ...]\n",
        "5. Lyrics or Description\n",
        "Why: Lyrics or descriptions provide additional context about the artist's style.\n",
        "How: If a dataset with artist descriptions or lyrics is available, use a language model to extract features.\n",
        "6. Collaborative Networks\n",
        "Why: Artists often collaborate within their genre (e.g., jazz ensembles, rap features).\n",
        "How: Use graph embeddings to model collaboration networks.\n",
        "7. Genre Word Embedding\n",
        "Why: Adding the text description of the genre itself can guide the classification task.\n",
        "How: Append the genre name as a contextual input when generating embeddings.\n",
        "How to Integrate Features\n",
        "Append Features to Embeddings:\n",
        "\n",
        "Concatenate the additional features with the text embeddings.\n",
        "python\n",
        "Copy code\n",
        "import numpy as np\n",
        "df['enhanced_embedding'] = df.apply(\n",
        "    lambda row: np.concatenate([row['embedding'], [row['popularity'], row['era']]]), axis=1\n",
        ")\n",
        "Embed Metadata:\n",
        "\n",
        "If features like region or instruments are categorical, embed them using techniques like one-hot encoding or word embeddings.\n",
        "Train a Multi-Input Model:\n",
        "\n",
        "Use a neural network with separate inputs for embeddings and additional features.\n",
        "Combine these inputs in a dense layer.\n",
        "python\n",
        "Copy code\n",
        "class MultiInputClassifier(nn.Module):\n",
        "    def __init__(self, embedding_dim, metadata_dim, output_dim):\n",
        "        super(MultiInputClassifier, self).__init__()\n",
        "        self.embedding_fc = nn.Linear(embedding_dim, 128)\n",
        "        self.metadata_fc = nn.Linear(metadata_dim, 32)\n",
        "        self.output_fc = nn.Linear(160, output_dim)\n",
        "\n",
        "    def forward(self, embeddings, metadata):\n",
        "        embedding_out = torch.relu(self.embedding_fc(embeddings))\n",
        "        metadata_out = torch.relu(self.metadata_fc(metadata))\n",
        "        combined = torch.cat((embedding_out, metadata_out), dim=1)\n",
        "        return self.output_fc(combined)\n",
        "When to Use Feature Engineering\n",
        "Feature engineering is particularly useful when:\n",
        "\n",
        "Your dataset is relatively small, and you need additional context to compensate for limited training data.\n",
        "Your embeddings alone do not achieve satisfactory performance.\n",
        "You have access to high-quality metadata that aligns with the task.\n",
        "Final Thoughts\n",
        "While embeddings from pre-trained models like CLIP are powerful and often sufficient, incorporating additional features can improve accuracy and robustness, especially in edge cases. Metadata is also a way to make your model more interpretable by tying predictions to tangible artist attributes.\n",
        "\n",
        "If you'd like to implement one or more of these features, I can help with specific step"
      ],
      "metadata": {
        "id": "7jYYzGYkts18"
      }
    },
    {
      "cell_type": "markdown",
      "source": [
        "## Conclusion\n",
        "\n",
        "Please jot down quick notes on how much time you spent on this problem and anything in particular you want to call out for us!"
      ],
      "metadata": {
        "id": "rjDESbEa3-Ta"
      }
    }
  ]
}