{
  "cells": [
    {
      "cell_type": "markdown",
      "metadata": {
        "id": "view-in-github",
        "colab_type": "text"
      },
      "source": [
        "<a href=\"https://colab.research.google.com/github/daisysong76/AI--Machine--learning/blob/main/Lab3_Linear_Regression.ipynb\" target=\"_parent\"><img src=\"https://colab.research.google.com/assets/colab-badge.svg\" alt=\"Open In Colab\"/></a>"
      ]
    },
    {
      "cell_type": "markdown",
      "source": [],
      "metadata": {
        "id": "-r-50pWM2rvq"
      }
    },
    {
      "cell_type": "markdown",
      "metadata": {
        "id": "cLeql4si3ff-"
      },
      "source": [
        "# LAB 3 - LINEAR REGRESSION IN PYTHON\n",
        "\n",
        "This lab is comprised of two main parts. We will see two ways of running Multiple Linear Regression:\n",
        "- 1. MLR with only numerical variables\n",
        "- 2. MLR with numerical + categorical variables\n",
        "\n",
        "We will use the Linear Regression package from the `statsmodels` library. This library includes a variety of functions that are helpful for data exploration and statiscal models, its documentation can be found here: https://www.statsmodels.org/stable/index.html.\n",
        "\n",
        "For data visualization, we will first introduce `seaborn` (https://seaborn.pydata.org), which provides a high-level interface for drawing attractive and informative statistical graphics. Later, we will gradually pick up `matplotlib`, which is a more foundamental and versatile library for plotting in `Python`.\n",
        "\n",
        "\n",
        "For all packages mentioned above, if you have not done so already, you need to install the package. A common approach is to use `conda` or `pip`. In the terminal, type the following commands to install `statsmodels` (change the package name to install other packages):\n",
        "- 1. `conda install -c conda-forge statsmodels`, or\n",
        "- 2. `pip install statsmodels`\n",
        "\n",
        "More specifically, we will use Linear Regression to predict the quality of the wines as measured by their 'Auction Index'\n",
        "\n",
        "\n"
      ]
    },
    {
      "cell_type": "code",
      "source": [
        "%pip install statsmodels"
      ],
      "metadata": {
        "id": "omGIs8yt3-PP"
      },
      "execution_count": null,
      "outputs": []
    },
    {
      "cell_type": "code",
      "execution_count": null,
      "metadata": {
        "id": "XgQ8C5iq3fgB"
      },
      "outputs": [],
      "source": [
        "import numpy as np\n",
        "import pandas as pd"
      ]
    },
    {
      "cell_type": "markdown",
      "metadata": {
        "id": "OzJL8aG43fgD"
      },
      "source": [
        "As in the previous Lab, we use pandas to read the data from a `.csv` file, and consolidate it into a `Dataframe` object."
      ]
    },
    {
      "cell_type": "markdown",
      "source": [
        "### 2 ways to import csv files to Colab"
      ],
      "metadata": {
        "id": "oAdK4xaWcBEL"
      }
    },
    {
      "cell_type": "code",
      "source": [
        "# Method 1: from computer\n",
        "from google.colab import files\n",
        "\n",
        "uploaded = files.upload()"
      ],
      "metadata": {
        "id": "Zqf96w2AbqHU"
      },
      "execution_count": null,
      "outputs": []
    },
    {
      "cell_type": "code",
      "source": [
        "import io\n",
        "\n",
        "df = pd.read_csv(io.BytesIO(uploaded['Rogue-142-Spring2024.csv']))\n",
        "print(df)"
      ],
      "metadata": {
        "id": "bZMwgLekcOiy"
      },
      "execution_count": null,
      "outputs": []
    },
    {
      "cell_type": "code",
      "source": [
        "# Method 2: from Google Drive\n",
        "import os"
      ],
      "metadata": {
        "id": "B2etH3aF42wY"
      },
      "execution_count": null,
      "outputs": []
    },
    {
      "cell_type": "code",
      "source": [
        "os.getcwd()  # Check current working directory"
      ],
      "metadata": {
        "id": "ugwy14Vj46IM"
      },
      "execution_count": null,
      "outputs": []
    },
    {
      "cell_type": "code",
      "source": [
        "from google.colab import drive\n",
        "drive.mount('/content/drive')  # Mount Google Drive to Colab"
      ],
      "metadata": {
        "id": "X16d_uBb4T-6"
      },
      "execution_count": null,
      "outputs": []
    },
    {
      "cell_type": "code",
      "source": [
        "new_path = '/content/drive/MyDrive/IEOR142A-Spring24-Lab/'\n",
        "os.chdir(new_path)  # Change working directory to new_path\n",
        "print(os.getcwd())"
      ],
      "metadata": {
        "id": "oRw3rPnd4mEG"
      },
      "execution_count": null,
      "outputs": []
    },
    {
      "cell_type": "code",
      "execution_count": null,
      "metadata": {
        "id": "RF0y1fFJ3fgE"
      },
      "outputs": [],
      "source": [
        "wine = pd.read_csv('wine_agg.csv')\n",
        "wine.info()"
      ]
    },
    {
      "cell_type": "code",
      "execution_count": null,
      "metadata": {
        "id": "-qfrc27N3fgF"
      },
      "outputs": [],
      "source": [
        "wine.head(5)"
      ]
    },
    {
      "cell_type": "code",
      "execution_count": null,
      "metadata": {
        "id": "-3CUu7Ga3fgG"
      },
      "outputs": [],
      "source": [
        "# Plot scatter matrix for each pair of variables off diagonal and the histograms (or density plots) on the diagonal\n",
        "import seaborn as sns\n",
        "\n",
        "sns.pairplot(wine.iloc[:,1:9],diag_kind='kde') #kernel density estimate: plots data using a continuous probability density curve"
      ]
    },
    {
      "cell_type": "code",
      "execution_count": null,
      "metadata": {
        "id": "e5ihNOFn3fgH"
      },
      "outputs": [],
      "source": [
        "sns.pairplot(wine.iloc[:,1:9],diag_kind='hist') # try diag_kind='hist' for histograms"
      ]
    },
    {
      "cell_type": "code",
      "execution_count": null,
      "metadata": {
        "id": "6x_7DaFx3fgI"
      },
      "outputs": [],
      "source": [
        "# If you apply .corr() directly to your dataframe,\n",
        "# it will return all pairwise correlations between your columns;\n",
        "wine.corr()"
      ]
    },
    {
      "cell_type": "code",
      "source": [
        "import matplotlib.pyplot as plt\n",
        "\n",
        "correlation_mat = wine.corr()\n",
        "fig, ax = plt.subplots(figsize=(10,8))\n",
        "sns.heatmap(correlation_mat, annot = True, linewidth=0.5, ax=ax)\n",
        "plt.show()"
      ],
      "metadata": {
        "id": "LSbmSLAE3SMq"
      },
      "execution_count": null,
      "outputs": []
    },
    {
      "cell_type": "markdown",
      "metadata": {
        "id": "MPQjWjBZ3fgJ"
      },
      "source": [
        "## 1. Multiple Linear Regression (with only numerical variables)"
      ]
    },
    {
      "cell_type": "markdown",
      "metadata": {
        "id": "rpoqC8gu3fgL"
      },
      "source": [
        "### Dataset train-test splitting"
      ]
    },
    {
      "cell_type": "markdown",
      "metadata": {
        "id": "ZJbJXyd83fgM"
      },
      "source": [
        "Next, we will split the dataset into a training set and a test set. There are various ways of splitting the dataset, we will first do an example of chronological separation. Eventually we'll cover randomized splitting as well.\n",
        "\n",
        "We can do chronological splitting sing Boolean predicates, the same way we used them in the last lab:\n",
        "- A & B\n",
        "- A | B\n",
        "- A == B\n",
        "- A <= B\n",
        "- A > B\n",
        "\n"
      ]
    },
    {
      "cell_type": "code",
      "execution_count": null,
      "metadata": {
        "id": "toCloMs_3fgN"
      },
      "outputs": [],
      "source": [
        "wine_train = wine[wine['Year'] <= 1985]\n",
        "wine_test = wine[wine['Year'] > 1985]\n",
        "\n",
        "len(wine_train), len(wine_test)"
      ]
    },
    {
      "cell_type": "code",
      "execution_count": null,
      "metadata": {
        "id": "gflkMFxm3fgO"
      },
      "outputs": [],
      "source": [
        "### produce wine_train2 which consists of wine that's older than 40\n",
        "wine_train2 = wine[wine['Age'] > 40]\n",
        "\n",
        "### How many rows does this dataset have?\n",
        "len(wine_train2)"
      ]
    },
    {
      "cell_type": "code",
      "execution_count": null,
      "metadata": {
        "id": "yfxelRib3fgP"
      },
      "outputs": [],
      "source": [
        "## produce wine.train3 which is composed of wine less than Year 1985 or older than year 1990.\n",
        "wine_train3 = wine[(wine['Year'] <= 1985) | (wine['Year'] > 1990)]\n",
        "\n",
        "# How many rows are there in the rest of the dataset, other than wine.train3?\n",
        "len(wine)-len(wine_train3)"
      ]
    },
    {
      "cell_type": "markdown",
      "metadata": {
        "id": "icK5p3IG3fgQ"
      },
      "source": [
        "### Training the model\n",
        "\n",
        "We will show two ways of passing the data into the model:\n",
        "\n",
        "- We can select the columns of interest that will constitute our matrices\n",
        "\n",
        "- Or we can use syntaxis that follows R-style formulas\n",
        "\n",
        "\n"
      ]
    },
    {
      "cell_type": "markdown",
      "metadata": {
        "id": "alvHVqJD3fgQ"
      },
      "source": [
        "### 1) Training the model (matrix style)\n",
        "\n",
        "https://www.statsmodels.org/stable/examples/notebooks/generated/ols.html"
      ]
    },
    {
      "cell_type": "code",
      "execution_count": null,
      "metadata": {
        "scrolled": false,
        "id": "lbCXbqBX3fgR"
      },
      "outputs": [],
      "source": [
        "# Import the library that contains all the functions/modules related to the regression model\n",
        "import statsmodels.api as sm\n",
        "\n",
        "# Choose the features to be used\n",
        "cols = ['WinterRain', 'HarvestRain', 'GrowTemp', 'HarvestTemp', 'Age', 'FrancePop', 'USAlcConsump']\n",
        "X_train = wine_train[cols]\n",
        "y_train = wine_train['LogAuctionIndex']\n",
        "\n",
        "# We must add an intercept as the standard model doesn't automatically fit one\n",
        "X_train = sm.add_constant(X_train)\n",
        "\n",
        "print(X_train[:5])"
      ]
    },
    {
      "cell_type": "code",
      "source": [
        "# Fit the data to the model\n",
        "model1 = sm.OLS(y_train, X_train).fit() #ordinary least square\n",
        "print(model1.summary())"
      ],
      "metadata": {
        "id": "5Kn4PK5Fk1m5"
      },
      "execution_count": null,
      "outputs": []
    },
    {
      "cell_type": "markdown",
      "metadata": {
        "id": "QpN1zV0O3fgR"
      },
      "source": [
        "### Plot the coefficients and the confidence intervals\n",
        "In `R` and `ggplot2`, one can use function `ggcoef` to create such graph easily. However, there is no simple solution to this task in Python. The code below is a user-defined code credit to Jessica Forrest-Baldini\n",
        "(https://medium.com/analytics-vidhya/create-your-own-coefficient-plot-function-in-python-aadb9fe27a77). It involves some work with `Matplotlib`. You are encouraged to figure out why the code works."
      ]
    },
    {
      "cell_type": "code",
      "execution_count": null,
      "metadata": {
        "id": "arL_N2tE3fgS"
      },
      "outputs": [],
      "source": [
        "import matplotlib.pyplot as plt\n",
        "def coefplot(results):\n",
        "    '''\n",
        "    Takes in results of OLS model and returns a plot of\n",
        "    the coefficients with 95% confidence intervals.\n",
        "\n",
        "    Removes intercept, so if uncentered will return error.\n",
        "    '''\n",
        "    # Create dataframe of results summary\n",
        "    coef_df = pd.DataFrame(results.summary().tables[1].data)\n",
        "\n",
        "    # Add column names\n",
        "    coef_df.columns = coef_df.iloc[0]\n",
        "\n",
        "    # Drop the extra row with column labels\n",
        "    coef_df=coef_df.drop(0)\n",
        "\n",
        "    # Set index to variable names\n",
        "    coef_df = coef_df.set_index(coef_df.columns[0])\n",
        "\n",
        "    # Change datatype from object to float\n",
        "    coef_df = coef_df.astype(float)\n",
        "\n",
        "    # Get errors; (coef - lower bound of conf interval)\n",
        "    errors = coef_df['coef'] - coef_df['[0.025']\n",
        "\n",
        "    # Append errors column to dataframe\n",
        "    coef_df['errors'] = errors\n",
        "\n",
        "    # Drop the constant for plotting\n",
        "    coef_df = coef_df.drop(['const'])\n",
        "\n",
        "    # Sort values by coef ascending\n",
        "    coef_df = coef_df.sort_values(by=['coef'])\n",
        "\n",
        "    ### Plot Coefficients ###\n",
        "\n",
        "    # x-labels\n",
        "    variables = list(coef_df.index.values)\n",
        "\n",
        "    # Add variables column to dataframe\n",
        "    coef_df['variables'] = variables\n",
        "\n",
        "    # Set sns plot style back to 'poster'\n",
        "    # This will make bars wide on plot\n",
        "    sns.set_context(\"poster\")\n",
        "\n",
        "    # Define figure, axes, and plot\n",
        "    fig, ax = plt.subplots(figsize=(8, 5))\n",
        "\n",
        "    # Error bars for 95% confidence interval\n",
        "    # Can increase capsize to add whiskers\n",
        "    coef_df.plot(x='variables', y='coef', kind='bar',\n",
        "                 ax=ax, color='none', fontsize=22,\n",
        "                 ecolor='steelblue',capsize=0,\n",
        "                 yerr='errors', legend=False)\n",
        "\n",
        "    # Set title & labels\n",
        "    plt.title('Coefficients of Features w/ 95% Confidence Intervals',fontsize=30)\n",
        "    ax.set_ylabel('Coefficients',fontsize=22)\n",
        "    ax.set_xlabel('',fontsize=22)\n",
        "\n",
        "    # Coefficients\n",
        "    ax.scatter(x=np.arange(coef_df.shape[0]),\n",
        "               marker='o', s=80,\n",
        "               y=coef_df['coef'], color='steelblue')\n",
        "\n",
        "    # Line to define zero on the y-axis\n",
        "    ax.axhline(y=0, linestyle='--', color='red', linewidth=1)\n",
        "\n",
        "    return plt.show()\n"
      ]
    },
    {
      "cell_type": "code",
      "execution_count": null,
      "metadata": {
        "id": "dpuMQRK73fgT"
      },
      "outputs": [],
      "source": [
        "coefplot(model1)"
      ]
    },
    {
      "cell_type": "markdown",
      "metadata": {
        "id": "igQFMpnb3fgU"
      },
      "source": [
        "### 2) Training the model (using R-style formulas)\n",
        "\n",
        "https://www.statsmodels.org/stable/example_formulas.html#categorical-variables\n",
        "\n",
        "One of the main advantages of using this type of notation is the fact that categorical variables are handled automatically.\n",
        "\n",
        "Furthermore, the constant representing the intercept is generated by default in `smf.ols`.\n",
        "\n",
        "For the remaineder of this lab, we will stick with the formula style notation as presented below:"
      ]
    },
    {
      "cell_type": "code",
      "execution_count": null,
      "metadata": {
        "id": "TGXqPCJI3fgU"
      },
      "outputs": [],
      "source": [
        "import statsmodels.formula.api as smf\n",
        "\n",
        "ols = smf.ols(formula='LogAuctionIndex ~ WinterRain + HarvestRain + GrowTemp + HarvestTemp + Age + FrancePop + USAlcConsump',\n",
        "                 data=wine_train)\n",
        "model1 =ols.fit()\n",
        "print(model1.summary())"
      ]
    },
    {
      "cell_type": "markdown",
      "metadata": {
        "id": "h8g9BgoN3fgU"
      },
      "source": [
        "### Evaluating the model\n",
        "\n",
        "If we want to use evaluation metrics that are not contained in the standard package, such as Out-of-sample R^2, we can manipulate our dataframe's columns and take advantage of `numpy's` matrix operation functions"
      ]
    },
    {
      "cell_type": "markdown",
      "source": [
        "### SST, SSR, SST\n",
        "\n",
        "For observed data points $y_i$, predicted data points $\\hat{y}_i$, mean of observed data points $\\bar{y} = \\frac{1}{n}\\sum_{i=1}^n y_i$,\n",
        "\n",
        "Sum of Squares Total (SST) / Total Sum of Squares (TSS)\n",
        "\n",
        "> $\\text{SST} = Σ(y_i – \\bar{y})^2$\n",
        "\n",
        "Sum of Squares Regression (SSR) / Explained Sum of Squares (ESS)\n",
        "\n",
        "> $\\text{SSR} = Σ(\\hat{y}_i – \\bar{y})^2$\n",
        "\n",
        "Sum of Squares Error (SSE) / Residual Sum of Squares (RSS)\n",
        "\n",
        "> $\\text{SSE} = Σ(\\hat{y}_i – y_i)^2$\n"
      ],
      "metadata": {
        "id": "FDF_UuxBowgi"
      }
    },
    {
      "cell_type": "markdown",
      "source": [
        "![linear_regression_errors.jpg](data:image/jpeg;base64,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)\n",
        "\n",
        "ref:https://365datascience.com/tutorials/statistics-tutorials/sum-squares/"
      ],
      "metadata": {
        "id": "rKRl7w6xFHsR"
      }
    },
    {
      "cell_type": "markdown",
      "source": [
        "R-squared (coefficient of determination): proportion of the variance in $y_i$'s that can be explained by $\\hat{y}_i$'s\n",
        "\n",
        "> $R^2_{\\text{in-sample}} = 1- \\frac{\\text{SSE}}{\\text{SST}} = 1 -\\frac{Σ_{i=1}^n(y_i – \\hat{y}_i)^2}{Σ_{i=1}^n({y}_i – \\bar{y})^2}$ : In-Sample R-squared\n",
        "\n",
        "\n",
        "> adjusted $R^2_{\\text{in-sample}} = 1- \\frac{\\text{SSE}/(n-p-1)}{\\text{SST}/(n=1)} = 1-\\frac{n-1}{n-p-1} \\cdot \\frac{Σ_{i=1}^n(y_i – \\hat{y}_i)^2}{Σ_{i=1}^n({y}_i – \\bar{y})^2} = 1-\\frac{n-1}{n-p-1}(1-R^2)$\n",
        "\n",
        "$\\rightarrow$ Penalize by number of independent variables (prevent overfitting)\n",
        "\n",
        "\n",
        "> $R^2_{\\text{out-of-sample}} = 1-\\frac{\\sum_{j \\in T}(y_j - \\hat{y}_j)^2}{\\sum_{j \\in T} (y_j - \\bar{y})^2}$ : Out-of-Sample R-squared\n",
        "\n"
      ],
      "metadata": {
        "id": "zU9TyFIXCi7j"
      }
    },
    {
      "cell_type": "code",
      "execution_count": null,
      "metadata": {
        "id": "gCoTSnit3fgV"
      },
      "outputs": [],
      "source": [
        "# compute out-of-sample R-squared using the test set\n",
        "def OSR2(model, df_train, df_test, dependent_var):\n",
        "    y_test = df_test[dependent_var]\n",
        "    y_pred = model.predict(df_test)\n",
        "    SSE = np.sum((y_test - y_pred)**2)\n",
        "    SST = np.sum((y_test - np.mean(df_train[dependent_var]))**2)\n",
        "    return 1 - SSE/SST"
      ]
    },
    {
      "cell_type": "code",
      "execution_count": null,
      "metadata": {
        "id": "z1AQDh903fgW"
      },
      "outputs": [],
      "source": [
        "OSR2(model1, wine_train, wine_test, 'LogAuctionIndex')"
      ]
    },
    {
      "cell_type": "code",
      "source": [],
      "metadata": {
        "id": "L3pKcKVbIFpZ"
      },
      "execution_count": null,
      "outputs": []
    },
    {
      "cell_type": "markdown",
      "metadata": {
        "id": "jgkWgV0O71Zm"
      },
      "source": [
        "<font color='blue'>\n",
        "    \n",
        "### [Sidenote - Programming Exploration]\n",
        "\n",
        "Generally speaking, there are two types of programming exploration:\n",
        "\n",
        "1. Finding which function to utilize\n",
        "2. Understanding how to use a function once you've found it\n",
        "\n",
        "For 1   -- Try to target the problem you want to address as succinctly as possible in google.\n",
        "\n",
        "---------- Read the description of the function and what it returns\n",
        "\n",
        "For 2   -- What to do with new functions that you've never seen before?\n",
        "\n",
        "---------- Read the arguments carefully, look at examples, try it out and test output\n",
        "\n",
        "</font>"
      ]
    },
    {
      "cell_type": "markdown",
      "metadata": {
        "id": "qljYKXqg71Zm"
      },
      "source": [
        "### Variable Selection - Variance Inflation Factor (VIF)"
      ]
    },
    {
      "cell_type": "code",
      "source": [],
      "metadata": {
        "id": "kXlPiT5yHtnB"
      },
      "execution_count": null,
      "outputs": []
    },
    {
      "cell_type": "code",
      "execution_count": null,
      "metadata": {
        "id": "Gq9VRuht71Zm"
      },
      "outputs": [],
      "source": [
        "# calculate Variance Inflation Factor for each explanatory variable\n",
        "from statsmodels.stats.outliers_influence import variance_inflation_factor\n",
        "\n",
        "# The dataframe passed to VIF must include the intercept term. We add it the same way we did before.\n",
        "def VIF(df, columns):\n",
        "    values = sm.add_constant(df[columns]).values\n",
        "    num_columns = len(columns)+1\n",
        "    vif = [variance_inflation_factor(values, i) for i in range(num_columns)]\n",
        "    return pd.Series(vif[1:], index=columns)\n",
        "\n",
        "cols = ['WinterRain', 'HarvestRain', 'GrowTemp', 'HarvestTemp', 'Age', 'FrancePop', 'USAlcConsump']\n",
        "VIF(wine_train, cols)"
      ]
    },
    {
      "cell_type": "markdown",
      "metadata": {
        "id": "YLQfqnA_71Zm"
      },
      "source": [
        "### A better model..."
      ]
    },
    {
      "cell_type": "code",
      "execution_count": null,
      "metadata": {
        "id": "oOxA28rP71Zm"
      },
      "outputs": [],
      "source": [
        "# remove FrancePop because of its high VIF\n",
        "model2 = smf.ols(formula='LogAuctionIndex ~ WinterRain + HarvestRain + GrowTemp + HarvestTemp + Age + USAlcConsump',\n",
        "                 data=wine_train).fit()\n",
        "print(model2.summary())\n",
        "\n",
        "cols = ['WinterRain', 'HarvestRain', 'GrowTemp', 'HarvestTemp', 'Age', 'USAlcConsump']\n",
        "VIF(wine_train, cols)"
      ]
    },
    {
      "cell_type": "code",
      "execution_count": null,
      "metadata": {
        "id": "ro3NHj_c71Zm"
      },
      "outputs": [],
      "source": [
        "# remove USAlcConsump\n",
        "model3 = smf.ols(formula='LogAuctionIndex ~ WinterRain + HarvestRain + GrowTemp + HarvestTemp + Age',\n",
        "                 data=wine_train).fit()\n",
        "print(model3.summary())\n",
        "\n",
        "cols = ['WinterRain', 'HarvestRain', 'GrowTemp', 'HarvestTemp', 'Age']\n",
        "VIF(wine_train, cols)"
      ]
    },
    {
      "cell_type": "code",
      "execution_count": null,
      "metadata": {
        "id": "f54fX_HW71Zm"
      },
      "outputs": [],
      "source": [
        "# remove HarvestTemp\n",
        "model4 = smf.ols(formula='LogAuctionIndex ~ WinterRain + HarvestRain + GrowTemp + Age',\n",
        "                 data=wine_train).fit()\n",
        "print(model4.summary())\n",
        "\n",
        "cols = ['WinterRain', 'HarvestRain', 'GrowTemp', 'Age']\n",
        "VIF(wine_train, cols)"
      ]
    },
    {
      "cell_type": "code",
      "source": [
        "OSR2(model1, wine_train, wine_test, 'LogAuctionIndex')"
      ],
      "metadata": {
        "id": "PbOpXwUVxzvx"
      },
      "execution_count": null,
      "outputs": []
    },
    {
      "cell_type": "code",
      "source": [
        "OSR2(model2, wine_train, wine_test, 'LogAuctionIndex')"
      ],
      "metadata": {
        "id": "j7Gm45Pmx17v"
      },
      "execution_count": null,
      "outputs": []
    },
    {
      "cell_type": "code",
      "source": [
        "OSR2(model3, wine_train, wine_test, 'LogAuctionIndex')"
      ],
      "metadata": {
        "id": "N2ImWxOox2oF"
      },
      "execution_count": null,
      "outputs": []
    },
    {
      "cell_type": "code",
      "source": [
        "OSR2(model4, wine_train, wine_test, 'LogAuctionIndex')"
      ],
      "metadata": {
        "id": "LvMCsIWpx3Gl"
      },
      "execution_count": null,
      "outputs": []
    },
    {
      "cell_type": "markdown",
      "metadata": {
        "id": "0zYbL-3w3fgZ"
      },
      "source": [
        "### Feature Engineering"
      ]
    },
    {
      "cell_type": "code",
      "execution_count": null,
      "metadata": {
        "scrolled": false,
        "id": "6xHBWXHL3fga"
      },
      "outputs": [],
      "source": [
        "# Let us add an interaction term of GrowTemp and Age, and test its predictive power\n",
        "model5 = smf.ols(formula='LogAuctionIndex ~ WinterRain + HarvestRain + GrowTemp * Age',\n",
        "                 data=wine_train).fit()\n",
        "print(model5.summary())"
      ]
    },
    {
      "cell_type": "markdown",
      "source": [
        "## Exercises"
      ],
      "metadata": {
        "id": "KRCZx7R2669k"
      }
    },
    {
      "cell_type": "markdown",
      "source": [
        "(1) Using the same data set, wine_agg.csv, split the data into a training set and a test set as follows:\n",
        "*   training set : wine that the year is even number\n",
        "*   test set : wine that the year is odd number\n",
        "\n",
        "How many rows are in each set?\n"
      ],
      "metadata": {
        "id": "QnSEsOCd7K9v"
      }
    },
    {
      "cell_type": "markdown",
      "source": [
        "(2) Train linear regression models using only one independent variable at a time and compute the out-of-sample R-squared of each model."
      ],
      "metadata": {
        "id": "EQg3W_XV8yWw"
      }
    },
    {
      "cell_type": "markdown",
      "source": [
        "(3) Comparing the out-of-sample R-squared values, which model make sense?\n",
        "What is the 95% confidence interval for the coefficient of the independent variable of that model?"
      ],
      "metadata": {
        "id": "sz9EDDc6CbOD"
      }
    },
    {
      "cell_type": "markdown",
      "metadata": {
        "id": "KJ-VTWPU71Zm"
      },
      "source": [
        "## 2. MLR (with numerical + categorical variables)\n",
        "\n",
        "For this part, we will use a second dataset, `wine_disagg.csv`, which contains additional information related to the Wineries. The `Winery` variable is a `string object`, but we can do some transformations that will help us fit it into the continuous model"
      ]
    },
    {
      "cell_type": "code",
      "execution_count": null,
      "metadata": {
        "id": "VNEdqY3Z71Zn"
      },
      "outputs": [],
      "source": [
        "wine_new = pd.read_csv(\"wine_disagg.csv\")\n",
        "wine_new_train = wine_new[wine_new['Year'] <= 1985]\n",
        "wine_new_test = wine_new[wine_new['Year'] > 1985]\n",
        "\n",
        "wine_new.info()\n",
        "wine_new.head()"
      ]
    },
    {
      "cell_type": "markdown",
      "source": [
        "dummy variable\n",
        "winery A {1, 0}\n",
        "Winery B {1, 0}\n",
        "...\n",
        "Winery E"
      ],
      "metadata": {
        "id": "7AenZyeg8MjO"
      }
    },
    {
      "cell_type": "code",
      "execution_count": null,
      "metadata": {
        "scrolled": true,
        "id": "2NjItgZl71Zn"
      },
      "outputs": [],
      "source": [
        "# Simple regression using new data, not yet incorporating the Winery variable\n",
        "modOld = smf.ols(formula='LogAuction ~ WinterRain + HarvestRain + GrowTemp + Age',\n",
        "                 data=wine_new_train).fit()\n",
        "print(modOld.summary())"
      ]
    },
    {
      "cell_type": "code",
      "execution_count": null,
      "metadata": {
        "id": "d54u6YBZ71Zn"
      },
      "outputs": [],
      "source": [
        "# compute the out-of-sample R squared\n",
        "OSR2(modOld,wine_new_train, wine_new_test, 'LogAuction')"
      ]
    },
    {
      "cell_type": "markdown",
      "metadata": {
        "id": "twnc-qmU71Zn"
      },
      "source": [
        "Next, let us plot the price of the wine versus year, by different wineries"
      ]
    },
    {
      "cell_type": "code",
      "execution_count": null,
      "metadata": {
        "scrolled": true,
        "id": "WiGu4wjZ71Zn"
      },
      "outputs": [],
      "source": [
        "import seaborn as sns\n",
        "sns.set_theme(style=\"darkgrid\")\n",
        "# Load an example dataset with long-form data\n",
        "fmri = sns.load_dataset(\"fmri\")\n",
        "\n",
        "# Plot the responses for different events and regions\n",
        "g = sns.lineplot(x=\"Year\", y=\"LogAuction\", hue=\"Winery\", data=wine_new)\n",
        "plt.legend(bbox_to_anchor=(1.05, 1), loc=2, borderaxespad=0.) # This line is to display the lengend out of the graph region."
      ]
    },
    {
      "cell_type": "code",
      "execution_count": null,
      "metadata": {
        "id": "0LLYFgWb71Zn"
      },
      "outputs": [],
      "source": [
        "# Plot the responses for different events and regions\n",
        "g = sns.scatterplot(x=\"Year\", y=\"LogAuction\", hue=\"Winery\", data=wine_new).set_title('Log of Wine Price by Winary, Scatter Plot')\n",
        "plt.legend(bbox_to_anchor=(1.05, 1), loc=2, borderaxespad=0.)"
      ]
    },
    {
      "cell_type": "markdown",
      "metadata": {
        "id": "qz0VxTdu71Zn"
      },
      "source": [
        "### Two Wineries\n",
        "Before constructing a complete model for all the wineries, let's first attempt to regress on only 2 wineries. We pick Cheval Blanc and Cos d'Estournel as an example"
      ]
    },
    {
      "cell_type": "code",
      "execution_count": null,
      "metadata": {
        "id": "DayHfsh971Zn"
      },
      "outputs": [],
      "source": [
        "wine_two = wine_new[(wine_new['Winery'] == 'Cheval Blanc') | (wine_new['Winery'] == 'Cos d\\'Estournel')]\n",
        "\n",
        "g = sns.lineplot(x=\"Year\", y=\"LogAuction\", hue=\"Winery\", data=wine_two).set_title('Log of Wine Price, Two Winary')\n",
        "#plt.legend(bbox_to_anchor=(1.05, 1), loc=2, borderaxespad=0.)\n",
        "\n",
        "wine_two_train = wine_two[wine_two['Year'] <= 1985]\n",
        "wine_two_test = wine_two[wine_two['Year'] > 1985]\n",
        "wine_two_train.tail()"
      ]
    },
    {
      "cell_type": "markdown",
      "metadata": {
        "id": "pjZnKcwf71Zn"
      },
      "source": [
        "### Passing a categorical variable\n",
        "To use a categorical variables like `Winery`, we can simply pass it to the formula, and `smf.ols` will handle the variable."
      ]
    },
    {
      "cell_type": "code",
      "execution_count": null,
      "metadata": {
        "id": "MvmlGj-771Zo"
      },
      "outputs": [],
      "source": [
        "modTwo = smf.ols(formula='LogAuction ~ Winery + WinterRain + HarvestRain + GrowTemp + Age',\n",
        "                 data=wine_two_train).fit()\n",
        "print(modTwo.summary())"
      ]
    },
    {
      "cell_type": "markdown",
      "metadata": {
        "id": "Lbm5f2u371Zo"
      },
      "source": [
        "### More Wineries\n",
        "Now let's expand to the complete set of values that `Winery` can take:"
      ]
    },
    {
      "cell_type": "code",
      "execution_count": null,
      "metadata": {
        "id": "B4rqAydm71Zo"
      },
      "outputs": [],
      "source": [
        "modNew = smf.ols(formula='LogAuction ~ Winery + WinterRain + HarvestRain + GrowTemp + Age',\n",
        "                 data=wine_new_train).fit()\n",
        "print(modNew.summary())"
      ]
    },
    {
      "cell_type": "markdown",
      "metadata": {
        "id": "mTF0-y-q71Zo"
      },
      "source": [
        "### Evaluate our final model"
      ]
    },
    {
      "cell_type": "code",
      "execution_count": null,
      "metadata": {
        "id": "Tiks3u6x71Zo"
      },
      "outputs": [],
      "source": [
        "# compute out-of-sample R squared\n",
        "OSR2(modNew, wine_new_train, wine_new_test, 'LogAuction')"
      ]
    },
    {
      "cell_type": "code",
      "source": [],
      "metadata": {
        "id": "iGIqccMgzL6n"
      },
      "execution_count": null,
      "outputs": []
    }
  ],
  "metadata": {
    "kernelspec": {
      "display_name": "Python 3",
      "language": "python",
      "name": "python3"
    },
    "language_info": {
      "codemirror_mode": {
        "name": "ipython",
        "version": 3
      },
      "file_extension": ".py",
      "mimetype": "text/x-python",
      "name": "python",
      "nbconvert_exporter": "python",
      "pygments_lexer": "ipython3",
      "version": "3.8.8"
    },
    "colab": {
      "provenance": [],
      "include_colab_link": true
    }
  },
  "nbformat": 4,
  "nbformat_minor": 0
}
