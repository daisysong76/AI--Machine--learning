{
  "cells": [
    {
      "cell_type": "markdown",
      "metadata": {
        "id": "view-in-github",
        "colab_type": "text"
      },
      "source": [
        "<a href=\"https://colab.research.google.com/github/daisysong76/AI--Machine--learning/blob/main/proj1.ipynb\" target=\"_parent\"><img src=\"https://colab.research.google.com/assets/colab-badge.svg\" alt=\"Open In Colab\"/></a>"
      ]
    },
    {
      "cell_type": "code",
      "execution_count": null,
      "metadata": {
        "deletable": false,
        "editable": false,
        "id": "0UwtrPV391HV"
      },
      "outputs": [],
      "source": [
        "# Initialize Otter\n",
        "import otter\n",
        "grader = otter.Notebook()"
      ]
    },
    {
      "cell_type": "markdown",
      "metadata": {
        "nbgrader": {
          "grade": false,
          "grade_id": "intro-hw2",
          "locked": true,
          "schema_version": 2,
          "solution": false
        },
        "id": "3zmDYrnt91Hp"
      },
      "source": [
        "# Project 1: Food Safety\n",
        "## Cleaning and Exploring Data with Pandas\n",
        "## Due Date: Thursday 09/24, 11:59 PM\n",
        "## Collaboration Policy\n",
        "\n",
        "Data science is a collaborative activity. While you may talk with others about\n",
        "the project, we ask that you **write your solutions individually**. If you do\n",
        "discuss the assignments with others please **include their names** at the top\n",
        "of your notebook."
      ]
    },
    {
      "cell_type": "markdown",
      "metadata": {
        "id": "vfAJ0NNK91Hx"
      },
      "source": [
        "**Collaborators**: *list collaborators here*"
      ]
    },
    {
      "cell_type": "markdown",
      "metadata": {
        "id": "qZe4WAwv91Hz"
      },
      "source": [
        "\n",
        "## This Assignment\n",
        "\n",
        "In this project, we will investigate restaurant food safety scores for restaurants in San Francisco. The scores and violation information have been [made available by the San Francisco Department of Public Health](https://data.sfgov.org/Health-and-Social-Services/Restaurant-Scores-LIVES-Standard/pyih-qa8i). The main goal for this assignment is to walk through the process of Data Cleaning and EDA.\n",
        "\n",
        "\n",
        "As we clean and explore these data, you will gain practice with:\n",
        "* Reading simple csv files and using Pandas\n",
        "* Working with data at different levels of granularity\n",
        "* Identifying the type of data collected, missing values, anomalies, etc.\n",
        "* Exploring characteristics and distributions of individual variables\n",
        "\n",
        "## Score Breakdown\n",
        "Question | Points\n",
        "--- | ---\n",
        "1a | 1\n",
        "1b | 0\n",
        "1c | 0\n",
        "1d | 3\n",
        "1e | 1\n",
        "2a | 1\n",
        "2b | 1\n",
        "2ci | 1\n",
        "2cii | 1\n",
        "2d | 2\n",
        "3a | 1\n",
        "3b | 2\n",
        "3ci | 1\n",
        "3cii | 1\n",
        "3d | 3\n",
        "3e | 2\n",
        "3f | 2\n",
        "4a | 1\n",
        "4bi | 1\n",
        "4bii | 1\n",
        "4biii | 1\n",
        "4ci | 1\n",
        "4cii | 1\n",
        "4ciii | 1\n",
        "4civ | 1\n",
        "4di | 2\n",
        "4dii | 2\n",
        "4e | 2\n",
        "5a | 2\n",
        "5b | 3\n",
        "5c | 2\n",
        "5d | 2\n",
        "6a|1\n",
        "6b|2\n",
        "7a|2\n",
        "7b|1\n",
        "7ci|4\n",
        "7cii|2\n",
        "7d|2\n",
        "7e|1\n",
        "7f|1\n",
        "7g|3\n",
        "8a|4\n",
        "8b|4\n",
        "Total | 73"
      ]
    },
    {
      "cell_type": "markdown",
      "metadata": {
        "id": "dqHyy19g91H4"
      },
      "source": [
        "## Before You Start\n",
        "\n",
        "For each question in the assignment, please write down your answer in the answer cell(s) right below the question.\n",
        "\n",
        "We understand that it is helpful to have extra cells breaking down the process towards reaching your final answer. If you happen to create new cells below your answer to run codes, **NEVER** add cells between a question cell and the answer cell below it. It will cause errors when we run the autograder, and it will sometimes cause a failure to generate the PDF file.\n",
        "\n",
        "**Important note: The local autograder tests will not be comprehensive. You can pass the automated tests in your notebook but still fail tests in the autograder.** Please be sure to check your results carefully.\n",
        "\n",
        "Finally, unless we state otherwise, try to avoid using python for loops or list comprehensions.  The majority of this assignment can be done using builtin commands in Pandas and numpy.  \n"
      ]
    },
    {
      "cell_type": "code",
      "execution_count": null,
      "metadata": {
        "nbgrader": {
          "grade": false,
          "grade_id": "import",
          "locked": true,
          "schema_version": 2,
          "solution": false
        },
        "id": "7LyQ1TeY91H5"
      },
      "outputs": [],
      "source": [
        "import numpy as np\n",
        "import pandas as pd\n",
        "\n",
        "import matplotlib\n",
        "import matplotlib.pyplot as plt\n",
        "import seaborn as sns\n",
        "sns.set()\n",
        "plt.style.use('fivethirtyeight')\n",
        "\n",
        "import zipfile\n",
        "import os # Used to interact with the file system"
      ]
    },
    {
      "cell_type": "markdown",
      "metadata": {
        "nbgrader": {
          "grade": false,
          "grade_id": "download",
          "locked": true,
          "schema_version": 2,
          "solution": false
        },
        "id": "Rsl1qkU291H8"
      },
      "source": [
        "## Obtaining the Data\n",
        "\n",
        "### File Systems and I/O\n",
        "\n"
      ]
    },
    {
      "cell_type": "markdown",
      "metadata": {
        "id": "aaDck0oN91H8"
      },
      "source": [
        "In general, we will focus on using python commands to investigate files.  However, it can sometimes be easier to use shell commands in your local operating system.  The following cells demonstrate how to do this."
      ]
    },
    {
      "cell_type": "code",
      "execution_count": null,
      "metadata": {
        "id": "dhIsfcp291H-"
      },
      "outputs": [],
      "source": [
        "from pathlib import Path\n",
        "data_dir = Path('.')\n",
        "data_dir.mkdir(exist_ok = True)\n",
        "file_path = data_dir / Path('data.zip')\n",
        "dest_path = file_path"
      ]
    },
    {
      "cell_type": "markdown",
      "metadata": {
        "id": "Annv19gB91IB"
      },
      "source": [
        "After running the cell above, if you list the contents of the directory containing this notebook, you should see `data.zip`.\n",
        "\n",
        "*Note*: The command below starts with an `!`. This tells our Jupyter notebook to pass this command to the operating system. In this case, the command is the `ls` Unix command which lists files in the current directory."
      ]
    },
    {
      "cell_type": "code",
      "execution_count": null,
      "metadata": {
        "id": "nuuVfC9B91IE"
      },
      "outputs": [],
      "source": [
        "!ls"
      ]
    },
    {
      "cell_type": "markdown",
      "metadata": {
        "id": "KQ68EeNS91IF"
      },
      "source": [
        "## 1: Loading Food Safety Data\n",
        "\n",
        "We have data, but we don't have any specific questions about the data yet. Let's focus on understanding the structure of the data; this involves answering questions such as:\n",
        "\n",
        "* Is the data in a standard format or encoding?\n",
        "* Is the data organized in records?\n",
        "* What are the fields in each record?\n",
        "\n",
        "Let's start by looking at the contents of `data.zip`. It's not a just single file but rather a compressed directory of multiple files. We could inspect it by uncompressing it using a shell command such as `!unzip data.zip`, but in this project we're going to do almost everything in Python for maximum portability."
      ]
    },
    {
      "cell_type": "markdown",
      "metadata": {
        "deletable": false,
        "editable": false,
        "id": "AWmuHMiO91IF"
      },
      "source": [
        "## Question 1a: Looking Inside and Extracting the Zip Files\n",
        "\n",
        "Assign `my_zip` to a `zipfile.Zipfile` object representing `data.zip`, and assign `list_names` to a list of all the names of the contents in `data.zip`.\n",
        "\n",
        "Hint: The [Python docs](https://docs.python.org/3/library/zipfile.html) describe how to create a `zipfile.ZipFile` object.\n",
        "\n",
        "<!--\n",
        "BEGIN QUESTION\n",
        "name: q1a\n",
        "points: 1\n",
        "-->"
      ]
    },
    {
      "cell_type": "code",
      "execution_count": null,
      "metadata": {
        "id": "FXjEU8qb91IG"
      },
      "outputs": [],
      "source": [
        "my_zip = zipfile.ZipFile(dest_path, 'r')\n",
        "#list_names = [g for g in my_zip.namelist()]\n",
        "list_names = [f.filename for f in my_zip.filelist]\n",
        "list_names"
      ]
    },
    {
      "cell_type": "code",
      "execution_count": null,
      "metadata": {
        "deletable": false,
        "editable": false,
        "id": "kz9w6ZVD91IG"
      },
      "outputs": [],
      "source": [
        "grader.check(\"q1a\")"
      ]
    },
    {
      "cell_type": "markdown",
      "metadata": {
        "id": "MTfH5qN991IG"
      },
      "source": [
        "In your answer above, if you have written something like `zipfile.ZipFile('data.zip', ...)`, we suggest changing it to read `zipfile.ZipFile(dest_path, ...)`. In general, we **strongly suggest having your filenames hard coded as string literals only once** in a notebook. It is very dangerous to hard code things twice because if you change one but forget to change the other, you can end up with bugs that are very hard to find."
      ]
    },
    {
      "cell_type": "markdown",
      "metadata": {
        "id": "bnvXryv_91IH"
      },
      "source": [
        "Now display the files' names and their sizes. Format your solution by printing each file and its size on a new line.\n",
        "\n",
        "If you're not sure how to proceed, read about the attributes of a `ZipFile` object in the Python docs linked above."
      ]
    },
    {
      "cell_type": "code",
      "execution_count": null,
      "metadata": {
        "id": "jeFcMt5191IH"
      },
      "outputs": [],
      "source": [
        "for files in my_zip.filelist:\n",
        "        print(files.filename, files.file_size)"
      ]
    },
    {
      "cell_type": "markdown",
      "metadata": {
        "id": "E9pbZ-ik91II"
      },
      "source": [
        "Often when working with zipped data, we'll never unzip the actual zipfile. This saves space on our local computer. However, for this project the files are small, so we're just going to unzip everything. This has the added benefit that you can look inside the csv files using a text editor, which might be handy for understanding the structure of the files. The cell below will unzip the csv files into a subdirectory called `data`. Simply run this cell, i.e. don't modify it."
      ]
    },
    {
      "cell_type": "code",
      "execution_count": null,
      "metadata": {
        "id": "9CPrkCNf91II"
      },
      "outputs": [],
      "source": [
        "data_dir = Path('.')\n",
        "my_zip.extractall(data_dir)\n",
        "!ls {data_dir / Path(\"data\")}"
      ]
    },
    {
      "cell_type": "markdown",
      "metadata": {
        "id": "RCP_LY0l91II"
      },
      "source": [
        "The cell above created a folder called `data`, and in it there should be five CSV files. Let's open up `legend.csv` to see its contents. To do this, click on 'Jupyter' in the top left, then navigate to `fa20/proj/proj1/data/` and click on `legend.csv`. The file will open up in another tab. You should see something that looks like:\n",
        "\n",
        "    \"Minimum_Score\",\"Maximum_Score\",\"Description\"\n",
        "    0,70,\"Poor\"\n",
        "    71,85,\"Needs Improvement\"\n",
        "    86,90,\"Adequate\"\n",
        "    91,100,\"Good\""
      ]
    },
    {
      "cell_type": "markdown",
      "metadata": {
        "id": "E2NuB1Lz91IJ"
      },
      "source": [
        "## Question 1b\n",
        "\n",
        "The `legend.csv` file does indeed look like a well-formed CSV file. Let's check the other three files. Rather than opening up each file manually, let's use Python to print out the first 5 lines of each. The `ds100_utils` library has a method called `head` that will allow you to retrieve the first N lines of a file as a list. For example `ds100_utils.head('data/legend.csv', 5)` will return the first 5 lines of \"data/legend.csv\". Try using this function to print out the first 5 lines of all six files that we just extracted from the zipfile."
      ]
    },
    {
      "cell_type": "code",
      "execution_count": null,
      "metadata": {
        "id": "S3HPcLj691IK"
      },
      "outputs": [],
      "source": [
        "import ds100_utils\n",
        "#data_dir = \"./data/\"\n",
        "data_dir = \"./\"\n",
        "for f in list_names[1:]:\n",
        "    print(ds100_utils.head(data_dir + f, 5), \"\\n\")\n",
        ""
      ]
    },
    {
      "cell_type": "markdown",
      "metadata": {
        "id": "RkEUtBWU91IK"
      },
      "source": [
        "## Question 1c: Reading in the Files\n",
        "\n",
        "Based on the above information, let's attempt to load `bus.csv`, `ins2vio.csv`, `ins.csv`, and `vio.csv` into pandas dataframes with the following names: `bus`, `ins2vio`, `ins`, and `vio` respectively.\n",
        "\n",
        "*Note:* Because of character encoding issues one of the files (`bus`) will require an additional argument `encoding='ISO-8859-1'` when calling `pd.read_csv`. At some point in your future, you should read all about [character encodings](https://diveintopython3.problemsolving.io/strings.html). We won't discuss these in detail in DS100."
      ]
    },
    {
      "cell_type": "code",
      "execution_count": null,
      "metadata": {
        "id": "APPKsPzi91IL"
      },
      "outputs": [],
      "source": [
        "# path to directory containing data\n",
        "dsDir = Path('data')\n",
        "\n",
        "bus = pd.read_csv(dsDir/'bus.csv', encoding='ISO-8859-1')\n",
        "ins2vio = pd.read_csv(dsDir/'ins2vio.csv')\n",
        "ins = pd.read_csv(dsDir/'ins.csv')\n",
        "vio = pd.read_csv(dsDir/'vio.csv')\n",
        "\n",
        "\n",
        "#This code is essential for the autograder to function properly. Do not edit\n",
        "ins_test = ins"
      ]
    },
    {
      "cell_type": "markdown",
      "metadata": {
        "id": "XpEMRFhE91IL"
      },
      "source": [
        "Now that you've read in the files, let's try some `pd.DataFrame` methods ([docs](https://pandas.pydata.org/pandas-docs/version/0.21/generated/pandas.DataFrame.html)).\n",
        "Use the `DataFrame.head` method to show the top few lines of the `bus`, `ins`, and `vio` dataframes. To show multiple return outputs in one single cell, you can use `display()`."
      ]
    },
    {
      "cell_type": "code",
      "execution_count": null,
      "metadata": {
        "id": "eh0aCfjX91IM"
      },
      "outputs": [],
      "source": [
        "display(bus.head())\n",
        "display(ins.head())\n",
        "display(vio.head())"
      ]
    },
    {
      "cell_type": "markdown",
      "metadata": {
        "id": "n_OacxVK91IN"
      },
      "source": [
        "The `DataFrame.describe` method can also be handy for computing summaries of numeric columns of our dataframes. Try it out with each of our 4 dataframes."
      ]
    },
    {
      "cell_type": "code",
      "execution_count": null,
      "metadata": {
        "id": "uUFB_aVD91IP"
      },
      "outputs": [],
      "source": [
        "display(bus.describe())\n",
        "display(ins.describe())\n",
        "display(vio.describe())\n",
        "display(ins2vio.describe())"
      ]
    },
    {
      "cell_type": "markdown",
      "metadata": {
        "id": "wTLZFAvv91IQ"
      },
      "source": [
        "Now, we perform some sanity checks for you to verify that you loaded the data with the right structure. Run the following cells to load some basic utilities (you do not need to change these at all):"
      ]
    },
    {
      "cell_type": "markdown",
      "metadata": {
        "id": "mJOnKYGj91IT"
      },
      "source": [
        "First, we check the basic structure of the data frames you created:"
      ]
    },
    {
      "cell_type": "code",
      "execution_count": null,
      "metadata": {
        "id": "NiF3kWV891IV"
      },
      "outputs": [],
      "source": [
        "assert all(bus.columns == ['business id column', 'name', 'address', 'city', 'state', 'postal_code',\n",
        "                           'latitude', 'longitude', 'phone_number'])\n",
        "assert 6250 <= len(bus) <= 6260\n",
        "\n",
        "assert all(ins.columns == ['iid', 'date', 'score', 'type'])\n",
        "assert 26660 <= len(ins) <= 26670\n",
        "\n",
        "assert all(vio.columns == ['description', 'risk_category', 'vid'])\n",
        "assert 60 <= len(vio) <= 65\n",
        "\n",
        "assert all(ins2vio.columns == ['iid', 'vid'])\n",
        "assert 40210 <= len(ins2vio) <= 40220"
      ]
    },
    {
      "cell_type": "markdown",
      "metadata": {
        "id": "QttNDWlX91IX"
      },
      "source": [
        "Next we'll check that the statistics match what we expect. The following are hard-coded statistical summaries of the correct data."
      ]
    },
    {
      "cell_type": "code",
      "execution_count": null,
      "metadata": {
        "id": "L19rf9fH91IX"
      },
      "outputs": [],
      "source": [
        "bus_summary = pd.DataFrame(**{'columns': ['business id column', 'latitude', 'longitude'],\n",
        " 'data': {'business id column': {'50%': 75685.0, 'max': 102705.0, 'min': 19.0},\n",
        "  'latitude': {'50%': -9999.0, 'max': 37.824494, 'min': -9999.0},\n",
        "  'longitude': {'50%': -9999.0,\n",
        "   'max': 0.0,\n",
        "   'min': -9999.0}},\n",
        " 'index': ['min', '50%', 'max']})\n",
        "\n",
        "ins_summary = pd.DataFrame(**{'columns': ['score'],\n",
        " 'data': {'score': {'50%': 76.0, 'max': 100.0, 'min': -1.0}},\n",
        " 'index': ['min', '50%', 'max']})\n",
        "\n",
        "vio_summary = pd.DataFrame(**{'columns': ['vid'],\n",
        " 'data': {'vid': {'50%': 103135.0, 'max': 103177.0, 'min': 103102.0}},\n",
        " 'index': ['min', '50%', 'max']})\n",
        "\n",
        "from IPython.display import display\n",
        "\n",
        "print('What we expect from your Businesses dataframe:')\n",
        "display(bus_summary)\n",
        "print('What we expect from your Inspections dataframe:')\n",
        "display(ins_summary)\n",
        "print('What we expect from your Violations dataframe:')\n",
        "display(vio_summary)"
      ]
    },
    {
      "cell_type": "markdown",
      "metadata": {
        "id": "Fdjy8igT91IY"
      },
      "source": [
        "The code below defines a testing function that we'll use to verify that your data has the same statistics as what we expect. Run these cells to define the function. The `df_allclose` function has this name because we are verifying that all of the statistics for your dataframe are close to the expected values. Why not `df_allequal`? It's a bad idea in almost all cases to compare two floating point values like 37.780435, as rounding error can cause spurious failures."
      ]
    },
    {
      "cell_type": "markdown",
      "metadata": {
        "deletable": false,
        "editable": false,
        "id": "F7gWPupG91IY"
      },
      "source": [
        "## Question 1d: Verifying the data\n",
        "\n",
        "Now let's run the automated tests. If your dataframes are correct, then the following cell will seem to do nothing, which is a good thing! However, if your variables don't match the correct answers in the main summary statistics shown above, an exception will be raised.\n",
        "\n",
        "<!--\n",
        "BEGIN QUESTION\n",
        "name: q1d\n",
        "points: 3\n",
        "-->"
      ]
    },
    {
      "cell_type": "code",
      "execution_count": null,
      "metadata": {
        "id": "WUQTisCS91IY"
      },
      "outputs": [],
      "source": [
        "\"\"\"Run this cell to load this utility comparison function that we will use in various\n",
        "tests below (both tests you can see and those we run internally for grading).\n",
        "\n",
        "Do not modify the function in any way.\n",
        "\"\"\"\n",
        "\n",
        "\n",
        "def df_allclose(actual, desired, columns=None, rtol=5e-2):\n",
        "    \"\"\"Compare selected columns of two dataframes on a few summary statistics.\n",
        "\n",
        "    Compute the min, median and max of the two dataframes on the given columns, and compare\n",
        "    that they match numerically to the given relative tolerance.\n",
        "\n",
        "    If they don't match, an AssertionError is raised (by `numpy.testing`).\n",
        "    \"\"\"\n",
        "    # summary statistics to compare on\n",
        "    stats = ['min', '50%', 'max']\n",
        "\n",
        "    # For the desired values, we can provide a full DF with the same structure as\n",
        "    # the actual data, or pre-computed summary statistics.\n",
        "    # We assume a pre-computed summary was provided if columns is None. In that case,\n",
        "    # `desired` *must* have the same structure as the actual's summary\n",
        "    if columns is None:\n",
        "        des = desired\n",
        "        columns = desired.columns\n",
        "    else:\n",
        "        des = desired[columns].describe().loc[stats]\n",
        "\n",
        "    # Extract summary stats from actual DF\n",
        "    act = actual[columns].describe().loc[stats]\n",
        "\n",
        "    return np.allclose(act, des, rtol)"
      ]
    },
    {
      "cell_type": "code",
      "execution_count": null,
      "metadata": {
        "deletable": false,
        "editable": false,
        "id": "ii-WuG5191IZ"
      },
      "outputs": [],
      "source": [
        "grader.check(\"q1d\")"
      ]
    },
    {
      "cell_type": "markdown",
      "metadata": {
        "id": "HTRtBFff91IZ"
      },
      "source": [
        "### Question 1e: Identifying Issues with the Data"
      ]
    },
    {
      "cell_type": "markdown",
      "metadata": {
        "deletable": false,
        "editable": false,
        "id": "qLQFdEGh91Ix"
      },
      "source": [
        "<!-- BEGIN QUESTION -->\n",
        "\n",
        "Use the `head` command on your three files again. This time, describe at least one potential problem with the data you see. Consider issues with missing values and bad data.\n",
        "\n",
        "<!--\n",
        "BEGIN QUESTION\n",
        "name: q1e\n",
        "manual: True\n",
        "points: 1\n",
        "-->"
      ]
    },
    {
      "cell_type": "markdown",
      "metadata": {
        "id": "oTz1utqb91Iz"
      },
      "source": [
        "Solution: There appears to be some missing phone numbers (it shows -9999)in the tables, such as HEUNG YUEN RESTAURANT in bus table."
      ]
    },
    {
      "cell_type": "markdown",
      "metadata": {
        "id": "QMO-z_U491I2"
      },
      "source": [
        "<!-- END QUESTION -->\n",
        "\n",
        "\n",
        "\n",
        "We will explore each file in turn, including determining its granularity and primary keys and exploring many of the variables individually. Let's begin with the businesses file, which has been read into the `bus` dataframe."
      ]
    },
    {
      "cell_type": "markdown",
      "metadata": {
        "nbgrader": {
          "grade": false,
          "grade_id": "business-data",
          "locked": true,
          "schema_version": 2,
          "solution": false
        },
        "id": "gMQ2po4s91I3"
      },
      "source": [
        "<br/><br/><br/>\n",
        "\n",
        "---\n",
        "\n",
        "<br/><br/><br/>\n",
        "\n",
        "# 2: Examining the Business Data File\n",
        "\n",
        "From its name alone, we expect the `bus.csv` file to contain information about the restaurants. Let's investigate the granularity of this dataset."
      ]
    },
    {
      "cell_type": "code",
      "execution_count": null,
      "metadata": {
        "id": "-Qb4rusk91I3"
      },
      "outputs": [],
      "source": [
        "bus.head()"
      ]
    },
    {
      "cell_type": "markdown",
      "metadata": {
        "deletable": false,
        "editable": false,
        "id": "wRuMKutg91I4"
      },
      "source": [
        "<br/><br/><br/>\n",
        "\n",
        "---\n",
        "\n",
        "## Question 2a\n",
        "\n",
        "The `bus` dataframe contains a column called `business id column` which probably corresponds to a unique business id.  However, let's first rename that column to `bid`.  Modify the `bus` dataframe by renaming that column to `bid`.\n",
        "\n",
        "**Note**: In practice we might want to do this renaming when the table is loaded but for grading purposes we will do it here.\n",
        "\n",
        "<!--\n",
        "BEGIN QUESTION\n",
        "name: q2a\n",
        "points: 1\n",
        "-->"
      ]
    },
    {
      "cell_type": "code",
      "execution_count": null,
      "metadata": {
        "id": "IRjbm1iB91I4"
      },
      "outputs": [],
      "source": [
        "bus = bus.rename(columns={'business id column': 'bid'})"
      ]
    },
    {
      "cell_type": "code",
      "execution_count": null,
      "metadata": {
        "deletable": false,
        "editable": false,
        "id": "3kOyWllQ91I4"
      },
      "outputs": [],
      "source": [
        "grader.check(\"q2a\")"
      ]
    },
    {
      "cell_type": "markdown",
      "metadata": {
        "deletable": false,
        "editable": false,
        "nbgrader": {
          "grade": false,
          "grade_id": "q2a",
          "locked": true,
          "schema_version": 2,
          "solution": false
        },
        "id": "ecQNfW6r91I8"
      },
      "source": [
        "<br/><br/><br/>\n",
        "\n",
        "---\n",
        "\n",
        "## Question 2b\n",
        "\n",
        "Examining the entries in `bus`, is the `bid` unique for each record (i.e. each row of data)? Your code should compute the answer, i.e. don't just hard code `True` or `False`.\n",
        "\n",
        "Hint: use `value_counts()` or `unique()` to determine if the `bid` series has any duplicates.\n",
        "\n",
        "<!--\n",
        "BEGIN QUESTION\n",
        "name: q2b\n",
        "points: 1\n",
        "-->"
      ]
    },
    {
      "cell_type": "code",
      "execution_count": null,
      "metadata": {
        "ExecuteTime": {
          "end_time": "2018-08-18T01:21:53.936572Z",
          "start_time": "2018-08-18T01:21:53.927344Z"
        },
        "nbgrader": {
          "grade": false,
          "grade_id": "q2a-answer",
          "locked": false,
          "schema_version": 2,
          "solution": true
        },
        "tags": [
          "solution"
        ],
        "id": "vL5h_1iT91I9"
      },
      "outputs": [],
      "source": [
        "is_bid_unique = bus['bid'].value_counts().max() == 1"
      ]
    },
    {
      "cell_type": "code",
      "execution_count": null,
      "metadata": {
        "deletable": false,
        "editable": false,
        "id": "iA7LPpBq91I9"
      },
      "outputs": [],
      "source": [
        "grader.check(\"q2b\")"
      ]
    },
    {
      "cell_type": "markdown",
      "metadata": {
        "deletable": false,
        "editable": false,
        "id": "EQdLMonU91I9"
      },
      "source": [
        "<br/><br/><br/>\n",
        "\n",
        "---\n",
        "\n",
        "\n",
        "## Question 2c\n",
        "\n",
        "In the two cells below create two **series**\n",
        "\n",
        "1. where the index is the `name` of the business and the value is the number of records with that `name`\n",
        "2. where the index is the `address` of the business and the value is the number of records with that `address`\n",
        "\n",
        "Order both series in descending order by count. You may need to use `groupby()`, `size()`, `sort_values()`, or `value_counts()`.\n",
        "\n",
        "**Step 1**\n",
        "\n",
        "<!--\n",
        "BEGIN QUESTION\n",
        "name: q2ci\n",
        "points: 1\n",
        "-->"
      ]
    },
    {
      "cell_type": "code",
      "execution_count": null,
      "metadata": {
        "id": "hi0zQEY391I-"
      },
      "outputs": [],
      "source": [
        "name_counts = bus.groupby(\"name\").size().sort_values(ascending=False)\n",
        "name_counts.head(20)\n",
        "#list(bus['name'].value_counts().sort_values(ascending=False).index[:3]\n",
        "#name_counts = bus[bus['name'] == bus['name'].value_counts().idxmax(), index =='name']"
      ]
    },
    {
      "cell_type": "code",
      "execution_count": null,
      "metadata": {
        "deletable": false,
        "editable": false,
        "id": "sL3d4Dun91I-"
      },
      "outputs": [],
      "source": [
        "grader.check(\"q2ci\")"
      ]
    },
    {
      "cell_type": "markdown",
      "metadata": {
        "deletable": false,
        "editable": false,
        "id": "RLDsyXBK91I-"
      },
      "source": [
        "**Step 2**\n",
        "\n",
        "<!--\n",
        "BEGIN QUESTION\n",
        "name: q2cii\n",
        "points: 1\n",
        "-->"
      ]
    },
    {
      "cell_type": "code",
      "execution_count": null,
      "metadata": {
        "id": "ZaEAbBqF91I-"
      },
      "outputs": [],
      "source": [
        "address_counts = bus.groupby(\"address\").size().sort_values(ascending=False)\n",
        "#bus[bus['address'] == bus['address'].value_counts().idxmax(), index ='=address']\n",
        "address_counts.head(10)"
      ]
    },
    {
      "cell_type": "code",
      "execution_count": null,
      "metadata": {
        "deletable": false,
        "editable": false,
        "id": "jQTaIxAW91I_"
      },
      "outputs": [],
      "source": [
        "grader.check(\"q2cii\")"
      ]
    },
    {
      "cell_type": "markdown",
      "metadata": {
        "deletable": false,
        "editable": false,
        "nbgrader": {
          "grade": false,
          "grade_id": "q2b",
          "locked": true,
          "schema_version": 2,
          "solution": false
        },
        "tags": [
          "written"
        ],
        "id": "49_im69j91JA"
      },
      "source": [
        "<br/><br/><br/>\n",
        "\n",
        "---\n",
        "\n",
        "\n",
        "## Question 2d\n",
        "\n",
        "Based on the above calculations answer each of the following questions by filling the value in the variable.\n",
        "\n",
        "1. What does each record represent?  \n",
        "1. What is the minimal primary key?\n",
        "\n",
        "<!--\n",
        "BEGIN QUESTION\n",
        "name: q2d\n",
        "points: 2\n",
        "-->"
      ]
    },
    {
      "cell_type": "code",
      "execution_count": null,
      "metadata": {
        "id": "8VwP29u391JB"
      },
      "outputs": [],
      "source": [
        "# What does each record represent?  Valid answers are:\n",
        "#    \"One location of a restaurant.\"\n",
        "#    \"A chain of restaurants.\"\n",
        "#    \"A city block.\"\n",
        "q2d_part1 = \"A chain of restaurants.\"\n",
        "\n",
        "# What is the minimal primary key? Valid answers are:\n",
        "#    \"bid\"\n",
        "#    \"bid, name\"\n",
        "#    \"bid, name, address\"\n",
        "q2d_part2 = \"bid, name, address\""
      ]
    },
    {
      "cell_type": "code",
      "execution_count": null,
      "metadata": {
        "deletable": false,
        "editable": false,
        "id": "Xi1qCS9E91JC"
      },
      "outputs": [],
      "source": [
        "grader.check(\"q2d\")"
      ]
    },
    {
      "cell_type": "markdown",
      "metadata": {
        "nbgrader": {
          "grade": false,
          "grade_id": "business-data",
          "locked": true,
          "schema_version": 2,
          "solution": false
        },
        "id": "nQEJwTbB91JD"
      },
      "source": [
        "<br/><br/><br/>\n",
        "\n",
        "---\n",
        "\n",
        "<br/><br/><br/>\n",
        "\n",
        "# 3: Cleaning the Business Data Postal Codes\n",
        "\n",
        "The business data contains postal code information that we can use to aggregate the ratings over regions of the city.  Let's examine and clean the postal code field.  The postal code (sometimes also called a ZIP code) partitions the city into regions:\n",
        "\n",
        "<img src=\"https://www.usmapguide.com/wp-content/uploads/2019/03/printable-san-francisco-zip-code-map.jpg\" alt=\"ZIP Code Map\" style=\"width: 600px\">"
      ]
    },
    {
      "cell_type": "markdown",
      "metadata": {
        "deletable": false,
        "editable": false,
        "nbgrader": {
          "grade": false,
          "grade_id": "cell-a4c4a09f1ecf2f4b",
          "locked": true,
          "schema_version": 2,
          "solution": false
        },
        "id": "HdGDIeAw91JD"
      },
      "source": [
        "<br/><br/><br/>\n",
        "\n",
        "---\n",
        "\n",
        "\n",
        "## Question 3a\n",
        "\n",
        "How many restaurants are in each ZIP code?\n",
        "\n",
        "In the cell below, create a **series** where the index is the postal code and the value is the number of records with that postal code in descending order of count. You may need to use `groupby()`, `size()`, or `value_counts()`. Do you notice any odd/invalid zip codes?\n",
        "\n",
        "<!--\n",
        "BEGIN QUESTION\n",
        "name: q3a\n",
        "points: 1\n",
        "-->"
      ]
    },
    {
      "cell_type": "code",
      "execution_count": null,
      "metadata": {
        "nbgrader": {
          "grade": false,
          "grade_id": "cell-d2151d673e6c36a1",
          "locked": false,
          "schema_version": 2,
          "solution": true
        },
        "id": "In0SOcos91JD"
      },
      "outputs": [],
      "source": [
        "zip_counts = bus.groupby(\"postal_code\").size().sort_values(ascending=False)\n",
        "print(zip_counts.to_string())"
      ]
    },
    {
      "cell_type": "code",
      "execution_count": null,
      "metadata": {
        "deletable": false,
        "editable": false,
        "id": "56xA2O6a91JE"
      },
      "outputs": [],
      "source": [
        "grader.check(\"q3a\")"
      ]
    },
    {
      "cell_type": "markdown",
      "metadata": {
        "deletable": false,
        "editable": false,
        "id": "eWH7uyX391JF"
      },
      "source": [
        "<br/><br/><br/>\n",
        "\n",
        "---\n",
        "\n",
        "## Question 3b\n",
        "\n",
        "Answer the following questions about the `postal_code` column in the `bus` dataframe.\n",
        "\n",
        "1. The ZIP code column is which of the following type of data:\n",
        "    1. Quantitative Continuous\n",
        "    1. Quantitative Discrete\n",
        "    1. Qualitative Ordinal\n",
        "    1. Qualitative Nominal    \n",
        "1. What Python data type is used to represent a ZIP code?\n",
        "\n",
        "*Note*: ZIP codes and postal codes are the same thing.\n",
        "\n",
        "Please write your answers in the variables below:\n",
        "\n",
        "<!--\n",
        "BEGIN QUESTION\n",
        "name: q3b\n",
        "points: 2\n",
        "-->"
      ]
    },
    {
      "cell_type": "code",
      "execution_count": null,
      "metadata": {
        "id": "p8osmU6s91JG"
      },
      "outputs": [],
      "source": [
        "# The ZIP code column is which of the following type of data:\n",
        "#   \"Quantitative Continuous\"\n",
        "#   \"Quantitative Discrete\"\n",
        "#   \"Qualitative Ordinal\"\n",
        "#   \"Qualitative Nominal\"\n",
        "q3b_part1 = \"Qualitative Nominal\"\n",
        "\n",
        "# What Python data type is used to represent a ZIP code?\n",
        "#    \"str\"\n",
        "#    \"int\"\n",
        "#    \"bool\"\n",
        "#    \"float\"\n",
        "#bus['postal_code'].dtype\n",
        "q3b_part2 = \"str\""
      ]
    },
    {
      "cell_type": "code",
      "execution_count": null,
      "metadata": {
        "deletable": false,
        "editable": false,
        "id": "Jk7UTcKS91JI"
      },
      "outputs": [],
      "source": [
        "grader.check(\"q3b\")"
      ]
    },
    {
      "cell_type": "markdown",
      "metadata": {
        "id": "ljyOJ6xa91JJ"
      },
      "source": [
        "<br/><br/><br/>\n",
        "\n",
        "---\n",
        "\n",
        "## Question 3c\n",
        "\n",
        "In question 3a we noticed a large number of potentially invalid ZIP codes (e.g., \"Ca\").  These are likely due to data entry errors.  To get a better understanding of the potential errors in the zip codes we will:\n",
        "\n",
        "1. Import a list of valid San Francisco ZIP codes by using `pd.read_json` to load the file `data/sf_zipcodes.json` and extract a **series** of type `str` containing the valid ZIP codes.  *Hint: set `dtype` when invoking `read_json`.*\n",
        "1. Construct a `DataFrame` containing only the businesses which DO NOT have valid ZIP codes.  You will probably want to use the `Series.isin` function.\n"
      ]
    },
    {
      "cell_type": "markdown",
      "metadata": {
        "deletable": false,
        "editable": false,
        "id": "TVV3-U9w91JJ"
      },
      "source": [
        "**Step 1**\n",
        "\n",
        "<!--\n",
        "BEGIN QUESTION\n",
        "name: q3ci\n",
        "points: 1\n",
        "-->"
      ]
    },
    {
      "cell_type": "code",
      "execution_count": null,
      "metadata": {
        "id": "CWnCV-Js91JK"
      },
      "outputs": [],
      "source": [
        "\n",
        "#valid_zips = bus[bus['postal_code'].isin(allsf_zip_codes) & bus['postal_code'].notnull()]\n",
        "valid_zips = pd.read_json('data/sf_zipcodes.json', dtype={'zip_codes': 'str'})[\"zip_codes\"]\n",
        "valid_zips.head()\n",
        "#allsf_zip_codes"
      ]
    },
    {
      "cell_type": "code",
      "execution_count": null,
      "metadata": {
        "deletable": false,
        "editable": false,
        "id": "7LJm0bi291JM"
      },
      "outputs": [],
      "source": [
        "grader.check(\"q3ci\")"
      ]
    },
    {
      "cell_type": "markdown",
      "metadata": {
        "deletable": false,
        "editable": false,
        "id": "FVoHgcpA91JN"
      },
      "source": [
        "**Step 2**\n",
        "\n",
        "<!--\n",
        "BEGIN QUESTION\n",
        "name: q3cii\n",
        "points: 1\n",
        "-->"
      ]
    },
    {
      "cell_type": "code",
      "execution_count": null,
      "metadata": {
        "id": "4iOoBseM91JN"
      },
      "outputs": [],
      "source": [
        "invalid_zip_bus = bus[~bus['postal_code'].isin(valid_zips)]#& ~ bus['postal_code'].isnull()]\n",
        "invalid_zip_bus.head(20)"
      ]
    },
    {
      "cell_type": "code",
      "execution_count": null,
      "metadata": {
        "deletable": false,
        "editable": false,
        "id": "yfetA9xv91JN"
      },
      "outputs": [],
      "source": [
        "grader.check(\"q3cii\")"
      ]
    },
    {
      "cell_type": "markdown",
      "metadata": {
        "deletable": false,
        "editable": false,
        "id": "NsTIxKlo91JP"
      },
      "source": [
        "<br/><br/><br/>\n",
        "\n",
        "---\n",
        "\n",
        "## Question 3d\n",
        "\n",
        "In the previous question, many of the businesses had a common invalid postal code that was likely used to encode a MISSING postal code.  Do they all share a potentially \"interesting address\"?\n",
        "\n",
        "In the following cell, construct a **series** that counts the number of businesses at each `address` that have this single likely MISSING postal code value.  Order the series in descending order by count.\n",
        "\n",
        "After examining the output.  Answer the following question by filling in the appropriate variable. If we were to drop businesses with MISSING postal code values would a particular class of business be affected?  If you are unsure try to search the web for the most common addresses.\n",
        "\n",
        "\n",
        "<!--\n",
        "BEGIN QUESTION\n",
        "name: q3d\n",
        "points: 3\n",
        "-->"
      ]
    },
    {
      "cell_type": "code",
      "execution_count": null,
      "metadata": {
        "id": "z33HFRgq91JX"
      },
      "outputs": [],
      "source": [
        "missing_zip_address_count = bus[bus['postal_code']==\"-9999\"]['address'].value_counts(dropna=False).sort_values(ascending=False)\n",
        "missing_zip_address_count.head()"
      ]
    },
    {
      "cell_type": "code",
      "execution_count": null,
      "metadata": {
        "deletable": false,
        "editable": false,
        "id": "iLYA_gqU91JZ"
      },
      "outputs": [],
      "source": [
        "grader.check(\"q3d\")"
      ]
    },
    {
      "cell_type": "markdown",
      "metadata": {
        "deletable": false,
        "editable": false,
        "id": "wNcTq_tz91JZ"
      },
      "source": [
        "<br/><br/><br/>\n",
        "\n",
        "---\n",
        "\n",
        "## Question 3e\n",
        "\n",
        "**True or False**:  *If we were to drop businesses with MISSING postal code values, a particular class of business will be affected.*\n",
        "\n",
        "<!--\n",
        "BEGIN QUESTION\n",
        "name: q3e\n",
        "points: 2\n",
        "-->"
      ]
    },
    {
      "cell_type": "code",
      "execution_count": null,
      "metadata": {
        "id": "Y6BbNErY91Ja"
      },
      "outputs": [],
      "source": [
        "# True or False:\n",
        "#  If we were to drop businesses with MISSING postal code values\n",
        "#   a particular class of business be affected.\n",
        "q3d_true_or_false = True"
      ]
    },
    {
      "cell_type": "code",
      "execution_count": null,
      "metadata": {
        "deletable": false,
        "editable": false,
        "id": "I3wsO87M91Jc"
      },
      "outputs": [],
      "source": [
        "grader.check(\"q3e\")"
      ]
    },
    {
      "cell_type": "markdown",
      "metadata": {
        "deletable": false,
        "editable": false,
        "id": "fOElzcf991Jc"
      },
      "source": [
        "<br/><br/><br/>\n",
        "\n",
        "---\n",
        "\n",
        "## Question 3f\n",
        "\n",
        "Examine the `invalid_zip_bus` dataframe we computed above and look at the businesses that DO NOT have the special MISSING ZIP code value.  Some of the invalid postal codes are just the full 9 digit code rather than the first 5 digits.  Create a new column named `postal5` in the original `bus` dataframe which contains only the first 5 digits of the `postal_code` column.   Finally, for any of the `postal5` ZIP code entries that were not a valid San Fransisco ZIP Code (according to `valid_zips`) set the entry to `None`.  \n",
        "\n",
        "\n",
        "<!--\n",
        "BEGIN QUESTION\n",
        "name: q3f\n",
        "points: 2\n",
        "-->"
      ]
    },
    {
      "cell_type": "code",
      "execution_count": null,
      "metadata": {
        "id": "XFsBnS2-91Jd"
      },
      "outputs": [],
      "source": [
        "bus['postal5'] = None\n",
        "bus['postal5'] = bus[\"postal_code\"].str[:5]\n",
        "bus.loc[~bus['postal5'].isin(valid_zips),[\"postal5\"]]= None\n",
        "\n",
        "bus.loc[invalid_zip_bus.index, ['bid', 'name', 'postal_code', 'postal5']]"
      ]
    },
    {
      "cell_type": "code",
      "execution_count": null,
      "metadata": {
        "deletable": false,
        "editable": false,
        "id": "d72wIpgt91Jd"
      },
      "outputs": [],
      "source": [
        "grader.check(\"q3f\")"
      ]
    },
    {
      "cell_type": "markdown",
      "metadata": {
        "nbgrader": {
          "grade": false,
          "grade_id": "business-data",
          "locked": true,
          "schema_version": 2,
          "solution": false
        },
        "id": "VHVCCVO791Jd"
      },
      "source": [
        "<br/><br/><br/>\n",
        "\n",
        "---\n",
        "\n",
        "<br/><br/><br/>\n",
        "\n",
        "# 4: Investigate the Inspection Data\n",
        "\n",
        "Let's now turn to the inspection DataFrame. Earlier, we found that `ins` has 4 columns named\n",
        "`iid`, `score`, `date` and `type`.  In this section, we determine the granularity of `ins` and investigate the kinds of information provided for the inspections."
      ]
    },
    {
      "cell_type": "markdown",
      "metadata": {
        "nbgrader": {
          "grade": false,
          "grade_id": "cell-174ed23c543ad9da",
          "locked": true,
          "schema_version": 2,
          "solution": false
        },
        "id": "FUQPUPpW91Jd"
      },
      "source": [
        "Let's start by looking again at the first 5 rows of `ins` to see what we're working with."
      ]
    },
    {
      "cell_type": "code",
      "execution_count": null,
      "metadata": {
        "nbgrader": {
          "grade": false,
          "grade_id": "cell-f0fbe724a2783e33",
          "locked": true,
          "schema_version": 2,
          "solution": false
        },
        "id": "7Up_z38U91Je"
      },
      "outputs": [],
      "source": [
        "ins.head(5)"
      ]
    },
    {
      "cell_type": "markdown",
      "metadata": {
        "deletable": false,
        "editable": false,
        "id": "t8RdIt-K91Jf"
      },
      "source": [
        "<br/><br/><br/>\n",
        "\n",
        "---\n",
        "\n",
        "## Question 4a\n",
        "\n",
        "The column `iid` probably corresponds to an inspection id.  Is it a primary key?  Write an expression (line of code) that evaluates to 'True' or 'False' based on whether all the values are unique.\n",
        "\n",
        "\n",
        "<!--\n",
        "BEGIN QUESTION\n",
        "name: q4a\n",
        "points: 1\n",
        "-->"
      ]
    },
    {
      "cell_type": "code",
      "execution_count": null,
      "metadata": {
        "id": "1F35FeA291Jg"
      },
      "outputs": [],
      "source": [
        "# The number of rows in ins: ins.shape[0]\n",
        "# The number of unique iid in ins.:len(ins['iid'].unique())\n",
        "if ins.shape[0] == len(ins['iid'].unique()):\n",
        "    is_ins_iid_a_primary_key = True\n",
        "else:\n",
        "    is_ins_iid_a_primary_key = False"
      ]
    },
    {
      "cell_type": "code",
      "execution_count": null,
      "metadata": {
        "deletable": false,
        "editable": false,
        "id": "WrlASmtm91Jh"
      },
      "outputs": [],
      "source": [
        "grader.check(\"q4a\")"
      ]
    },
    {
      "cell_type": "markdown",
      "metadata": {
        "id": "BDRi2W3r91Ji"
      },
      "source": [
        "<br/><br/><br/>\n",
        "\n",
        "---\n",
        "\n",
        "## Question 4b\n",
        "\n",
        "The column `iid` appears to be the composition of two numbers and the first number looks like a business id.  \n",
        "\n",
        "**Part 1.**: Create a new column called `bid` in the `ins` dataframe containing just the business id.  You will want to use `ins['iid'].str` operations to do this.  Also be sure to convert the type of this column to `int`\n",
        "\n",
        "**Part 2.**: Then compute how many values in this new column are invalid business ids (i.e. do not appear in the `bus['bid']` column). This is verifying a foreign key relationship. Consider using the `pd.Series.isin` function.\n",
        "\n",
        "**Part 3.**: Answer True or False, `ins['bid']` is a foreign key reference to `bus['bid']`.\n",
        "\n",
        "\n",
        "**No python `for` loops or list comprehensions required!**"
      ]
    },
    {
      "cell_type": "markdown",
      "metadata": {
        "deletable": false,
        "editable": false,
        "id": "wPRCIpp691Jj"
      },
      "source": [
        "**Part 1**\n",
        "\n",
        "<!--\n",
        "BEGIN QUESTION\n",
        "name: q4bi\n",
        "points: 1\n",
        "-->"
      ]
    },
    {
      "cell_type": "code",
      "execution_count": null,
      "metadata": {
        "id": "WYm4eV4k91Jj"
      },
      "outputs": [],
      "source": [
        "ins['bid'] = None\n",
        "#ins['bid'] = ins['iid'].str.split(\"_\", expand = True).astype(int)\n",
        "ins['bid'] = ins['iid'].str.split(\"_\").str[0].astype(int)"
      ]
    },
    {
      "cell_type": "code",
      "execution_count": null,
      "metadata": {
        "deletable": false,
        "editable": false,
        "id": "TbC4XorI91Jk"
      },
      "outputs": [],
      "source": [
        "grader.check(\"q4bi\")"
      ]
    },
    {
      "cell_type": "markdown",
      "metadata": {
        "deletable": false,
        "editable": false,
        "id": "6XI6x8aJ91Jl"
      },
      "source": [
        "**Part 2**\n",
        "\n",
        "<!--\n",
        "BEGIN QUESTION\n",
        "name: q4bii\n",
        "points: 1\n",
        "-->"
      ]
    },
    {
      "cell_type": "code",
      "execution_count": null,
      "metadata": {
        "id": "pISt2KIL91Jm"
      },
      "outputs": [],
      "source": [
        "#Then compute how many values in this new column are invalid business ids\n",
        "#(i.e. do not appear in the bus['bid'] column). This is verifying a foreign key relationship.\n",
        "#Consider using the pd.Series.isin function.\n",
        "all_valid_business_ids = bus['bid']\n",
        "invalid_bid_count = len(ins[~ins[\"bid\"].isin(all_valid_business_ids)])\n",
        "\n",
        "# do not appear in the bus['bid'] column"
      ]
    },
    {
      "cell_type": "code",
      "execution_count": null,
      "metadata": {
        "deletable": false,
        "editable": false,
        "id": "0pGaI9q491Jm"
      },
      "outputs": [],
      "source": [
        "grader.check(\"q4bii\")"
      ]
    },
    {
      "cell_type": "markdown",
      "metadata": {
        "deletable": false,
        "editable": false,
        "id": "znAb7diw91Jm"
      },
      "source": [
        "**Part 3**\n",
        "\n",
        "<!--\n",
        "BEGIN QUESTION\n",
        "name: q4biii\n",
        "points: 1\n",
        "-->"
      ]
    },
    {
      "cell_type": "code",
      "execution_count": null,
      "metadata": {
        "id": "S-4IO6r491Jn"
      },
      "outputs": [],
      "source": [
        "# True or False: The column ins['bid'] is a foreign key\n",
        "#   referencing the bus['bid'] primary key.\n",
        "\n",
        "q4b_is_foreign_key = True\n",
        "\n",
        "# if invalid_bid_count == 0:\n",
        "#     q4b_is_foreign_key = True\n",
        "# else:\n",
        "#     q4b_is_foreign_key = False"
      ]
    },
    {
      "cell_type": "code",
      "execution_count": null,
      "metadata": {
        "deletable": false,
        "editable": false,
        "id": "jxlknuW-91Jn"
      },
      "outputs": [],
      "source": [
        "grader.check(\"q4biii\")"
      ]
    },
    {
      "cell_type": "markdown",
      "metadata": {
        "id": "mT49DFnj91Jn"
      },
      "source": [
        "<br/><br/><br/>\n",
        "\n",
        "---\n",
        "\n",
        "## Question 4c\n",
        "\n",
        "What if we are interested in a time component of the inspection data?  We need to examine the date column of each inspection.\n",
        "\n",
        "**Part 1:** What is the type of the individual `ins['date']` entries. You may want to grab the very first entry and use the `type` function in python.\n",
        "\n",
        "**Part 2:** Use `pd.to_datetime` to create a new `ins['timestamp']` column containing of `pd.Timestamp` objects.  These will allow us to do more date manipulation.\n",
        "\n",
        "**Part 3:** What are the earliest and latest dates in our inspection data?  *Hint: you can use `min` and `max` on dates of the correct type.*\n",
        "\n",
        "**Part 4:** We probably want to examine the inspections by year. Create an additional `ins['year']` column containing just the year of the inspection.  Consider using `pd.Series.dt.year` to do this.\n",
        "\n",
        "**No python `for` loops or list comprehensions required!**"
      ]
    },
    {
      "cell_type": "markdown",
      "metadata": {
        "deletable": false,
        "editable": false,
        "id": "Lq3pQXzP91Jo"
      },
      "source": [
        "**Part 1**\n",
        "\n",
        "<!--\n",
        "BEGIN QUESTION\n",
        "name: q4ci\n",
        "points: 1\n",
        "-->"
      ]
    },
    {
      "cell_type": "code",
      "execution_count": null,
      "metadata": {
        "id": "w6hgaFOP91Jo"
      },
      "outputs": [],
      "source": [
        "ins_date_type = type(ins['date'][0])\n",
        "ins_date_type"
      ]
    },
    {
      "cell_type": "code",
      "execution_count": null,
      "metadata": {
        "deletable": false,
        "editable": false,
        "id": "Nvm0nI8C91Jo"
      },
      "outputs": [],
      "source": [
        "grader.check(\"q4ci\")"
      ]
    },
    {
      "cell_type": "markdown",
      "metadata": {
        "deletable": false,
        "editable": false,
        "id": "pc2KLzhP91Jo"
      },
      "source": [
        "**Part 2**\n",
        "\n",
        "<!--\n",
        "BEGIN QUESTION\n",
        "name: q4cii\n",
        "points: 1\n",
        "-->"
      ]
    },
    {
      "cell_type": "code",
      "execution_count": null,
      "metadata": {
        "id": "nqdMvaX091Jp"
      },
      "outputs": [],
      "source": [
        "ins['timestamp'] = pd.to_datetime(ins['date'])\n",
        "ins"
      ]
    },
    {
      "cell_type": "code",
      "execution_count": null,
      "metadata": {
        "deletable": false,
        "editable": false,
        "id": "3tr3ONSp91Jq"
      },
      "outputs": [],
      "source": [
        "grader.check(\"q4cii\")"
      ]
    },
    {
      "cell_type": "markdown",
      "metadata": {
        "deletable": false,
        "editable": false,
        "id": "X3-i7RMX91Jq"
      },
      "source": [
        "**Part 3**\n",
        "\n",
        "<!--\n",
        "BEGIN QUESTION\n",
        "name: q4ciii\n",
        "points: 1\n",
        "-->"
      ]
    },
    {
      "cell_type": "code",
      "execution_count": null,
      "metadata": {
        "id": "yEKBLQHI91Js"
      },
      "outputs": [],
      "source": [
        "#What are the earliest and latest dates in our inspection data?\n",
        "#Hint: you can use min and max on dates of the correct type.\n",
        "earliest_date = ins['timestamp'].min()\n",
        "latest_date = ins['timestamp'].max()\n",
        "\n",
        "print(\"Earliest Date:\", earliest_date)\n",
        "print(\"Latest Date:\", latest_date)"
      ]
    },
    {
      "cell_type": "code",
      "execution_count": null,
      "metadata": {
        "deletable": false,
        "editable": false,
        "id": "4HC4inNE91Jv"
      },
      "outputs": [],
      "source": [
        "grader.check(\"q4ciii\")"
      ]
    },
    {
      "cell_type": "markdown",
      "metadata": {
        "deletable": false,
        "editable": false,
        "id": "ga8slNaz91Jx"
      },
      "source": [
        "**Part 4**\n",
        "\n",
        "<!--\n",
        "BEGIN QUESTION\n",
        "name: q4civ\n",
        "points: 1\n",
        "-->"
      ]
    },
    {
      "cell_type": "code",
      "execution_count": null,
      "metadata": {
        "id": "B_1m2jv091Jx"
      },
      "outputs": [],
      "source": [
        "ins['year'] = ins['timestamp'].dt.year"
      ]
    },
    {
      "cell_type": "code",
      "execution_count": null,
      "metadata": {
        "deletable": false,
        "editable": false,
        "id": "JLz5fVWx91Jy"
      },
      "outputs": [],
      "source": [
        "grader.check(\"q4civ\")"
      ]
    },
    {
      "cell_type": "code",
      "execution_count": null,
      "metadata": {
        "id": "SKApY3lk91Jz"
      },
      "outputs": [],
      "source": [
        "ins.head()"
      ]
    },
    {
      "cell_type": "markdown",
      "metadata": {
        "id": "-pUPNk5S91J0"
      },
      "source": [
        "<br/><br/><br/>\n",
        "\n",
        "---\n",
        "\n",
        "## Question 4d\n",
        "\n",
        "What is the relationship between the type of inspection over the 2016 to 2019 timeframe?\n",
        "\n",
        "**Part 1**\n",
        "\n",
        "Construct the following table by\n",
        "1. Using the `pivot_table` containing the number (`size`) of inspections for the given `type` and `year`.\n",
        "1. Adding an extra `Total` column to the result using `sum`\n",
        "1. Sort the results in descending order by the `Total`.\n",
        "\n",
        "<table border=\"1\" class=\"dataframe\">  <thead>    <tr style=\"text-align: right;\">      <th>year</th>      <th>2016</th>      <th>2017</th>      <th>2018</th>      <th>2019</th>      <th>Total</th>    </tr>    <tr>      <th>type</th>      <th></th>      <th></th>      <th></th>      <th></th>      <th></th>    </tr>  </thead>  <tbody>    <tr>      <th>Routine - Unscheduled</th>      <td>966</td>      <td>4057</td>      <td>4373</td>      <td>4681</td>      <td>14077</td>    </tr>    <tr>      <th>Reinspection/Followup</th>      <td>445</td>      <td>1767</td>      <td>1935</td>      <td>2292</td>      <td>6439</td>    </tr>    <tr>      <th>New Ownership</th>      <td>99</td>      <td>506</td>      <td>528</td>      <td>459</td>      <td>1592</td>    </tr>    <tr>      <th>Complaint</th>      <td>91</td>      <td>418</td>      <td>512</td>      <td>437</td>      <td>1458</td>    </tr>    <tr>      <th>New Construction</th>      <td>102</td>      <td>485</td>      <td>218</td>      <td>189</td>      <td>994</td>    </tr>    <tr>      <th>Non-inspection site visit</th>      <td>51</td>      <td>276</td>      <td>253</td>      <td>231</td>      <td>811</td>    </tr>    <tr>      <th>New Ownership - Followup</th>      <td>0</td>      <td>45</td>      <td>219</td>      <td>235</td>      <td>499</td>    </tr>    <tr>      <th>Structural Inspection</th>      <td>1</td>      <td>153</td>      <td>50</td>      <td>190</td>      <td>394</td>    </tr>    <tr>      <th>Complaint Reinspection/Followup</th>      <td>19</td>      <td>68</td>      <td>70</td>      <td>70</td>      <td>227</td>    </tr>    <tr>      <th>Foodborne Illness Investigation</th>      <td>1</td>      <td>29</td>      <td>50</td>      <td>35</td>      <td>115</td>    </tr>    <tr>      <th>Routine - Scheduled</th>      <td>0</td>      <td>9</td>      <td>8</td>      <td>29</td>      <td>46</td>    </tr>    <tr>      <th>Administrative or Document Review</th>      <td>2</td>      <td>1</td>      <td>1</td>      <td>0</td>      <td>4</td>    </tr>    <tr>      <th>Multi-agency Investigation</th>      <td>0</td>      <td>0</td>      <td>1</td>      <td>2</td>      <td>3</td>    </tr>    <tr>      <th>Special Event</th>      <td>0</td>      <td>3</td>      <td>0</td>      <td>0</td>      <td>3</td>    </tr>    <tr>      <th>Community Health Assessment</th>      <td>1</td>      <td>0</td>      <td>0</td>      <td>0</td>      <td>1</td>    </tr>  </tbody></table>\n",
        "\n",
        "**No python `for` loops or list comprehensions required!**"
      ]
    },
    {
      "cell_type": "code",
      "execution_count": null,
      "metadata": {
        "id": "bn8lNysp91J2"
      },
      "outputs": [],
      "source": [
        "#ins_pivot['Total'] = None\n",
        "#ins_pivot = ins.pivot_table(index= 'type', columns='year', aggfunc = len, fill_value = 0, margins= True, margins_name = 'Total')['bid']\n",
        "ins_pivot = ins.pivot_table(index= 'type', columns='year', aggfunc = len, fill_value = 0)['bid']\n",
        "\n",
        "ins_pivot['Total'] = ins_pivot.sum(axis=1)\n",
        "#ins_pivot\n",
        "ins_pivot_sorted = ins_pivot.sort_values(['Total'], ascending= False)\n",
        "ins_pivot_sorted"
      ]
    },
    {
      "cell_type": "code",
      "execution_count": null,
      "metadata": {
        "deletable": false,
        "editable": false,
        "id": "I_5pHaa991J2"
      },
      "outputs": [],
      "source": [
        "grader.check(\"q4di\")"
      ]
    },
    {
      "cell_type": "markdown",
      "metadata": {
        "deletable": false,
        "editable": false,
        "id": "1WwlYlqZ91J2"
      },
      "source": [
        "**Part 2**\n",
        "\n",
        "Based on the above analysis, which year appears to have had a lot of businesses in newly constructed buildings?\n",
        "<!--\n",
        "BEGIN QUESTION\n",
        "name: q4dii\n",
        "points: 2\n",
        "-->"
      ]
    },
    {
      "cell_type": "code",
      "execution_count": null,
      "metadata": {
        "id": "fBSMBJZm91J2"
      },
      "outputs": [],
      "source": [
        "year_of_new_construction = 2017"
      ]
    },
    {
      "cell_type": "code",
      "execution_count": null,
      "metadata": {
        "deletable": false,
        "editable": false,
        "id": "RFGWXe2y91J3"
      },
      "outputs": [],
      "source": [
        "grader.check(\"q4dii\")"
      ]
    },
    {
      "cell_type": "markdown",
      "metadata": {
        "id": "ACDs2BgA91J5"
      },
      "source": [
        "<br/><br/><br/>\n",
        "\n",
        "---\n",
        "\n",
        "## Question 4e\n",
        "\n",
        "Let's examine the inspection scores `ins['score']`\n",
        "\n"
      ]
    },
    {
      "cell_type": "code",
      "execution_count": null,
      "metadata": {
        "id": "qdFT7Qv391J5"
      },
      "outputs": [],
      "source": [
        "ins['score'].value_counts().head()"
      ]
    },
    {
      "cell_type": "markdown",
      "metadata": {
        "id": "crknC5h591J6"
      },
      "source": [
        "There are a large number of inspections with the `'score'` of `-1`.   These are probably missing values.  Let's see what type of inspections have scores and which do not. Create the following dataframe using steps similar to the previous question, and assign it to to the variable `ins_missing_score_pivot`.\n",
        "\n",
        "You should observe that inspection scores appear only to be assigned to `Routine - Unscheduled` inspections.\n",
        "\n",
        "\n",
        "<table border=\"1\" class=\"dataframe\">  <thead>    <tr style=\"text-align: right;\">      <th>Missing Score</th>      <th>False</th>      <th>True</th>      <th>Total</th>    </tr>    <tr>      <th>type</th>      <th></th>      <th></th>      <th></th>    </tr>  </thead>  <tbody>    <tr>      <th>Routine - Unscheduled</th>      <td>14031</td>      <td>46</td>      <td>14077</td>    </tr>    <tr>      <th>Reinspection/Followup</th>      <td>0</td>      <td>6439</td>      <td>6439</td>    </tr>    <tr>      <th>New Ownership</th>      <td>0</td>      <td>1592</td>      <td>1592</td>    </tr>    <tr>      <th>Complaint</th>      <td>0</td>      <td>1458</td>      <td>1458</td>    </tr>    <tr>      <th>New Construction</th>      <td>0</td>      <td>994</td>      <td>994</td>    </tr>    <tr>      <th>Non-inspection site visit</th>      <td>0</td>      <td>811</td>      <td>811</td>    </tr>    <tr>      <th>New Ownership - Followup</th>      <td>0</td>      <td>499</td>      <td>499</td>    </tr>    <tr>      <th>Structural Inspection</th>      <td>0</td>      <td>394</td>      <td>394</td>    </tr>    <tr>      <th>Complaint Reinspection/Followup</th>      <td>0</td>      <td>227</td>      <td>227</td>    </tr>    <tr>      <th>Foodborne Illness Investigation</th>      <td>0</td>      <td>115</td>      <td>115</td>    </tr>    <tr>      <th>Routine - Scheduled</th>      <td>0</td>      <td>46</td>      <td>46</td>    </tr>    <tr>      <th>Administrative or Document Review</th>      <td>0</td>      <td>4</td>      <td>4</td>    </tr>    <tr>      <th>Multi-agency Investigation</th>      <td>0</td>      <td>3</td>      <td>3</td>    </tr>    <tr>      <th>Special Event</th>      <td>0</td>      <td>3</td>      <td>3</td>    </tr>    <tr>      <th>Community Health Assessment</th>      <td>0</td>      <td>1</td>      <td>1</td>    </tr>  </tbody></table>\n",
        "\n"
      ]
    },
    {
      "cell_type": "code",
      "execution_count": null,
      "metadata": {
        "id": "_EijrAXc91J6"
      },
      "outputs": [],
      "source": [
        "\n",
        "ins['Missing Score'] = (ins['score'] == -1).astype(\"str\")\n",
        "ins_pivot = ins.pivot_table(index= 'type', columns='Missing Score', aggfunc = len, fill_value = 0)['bid']\n",
        "\n",
        "ins_pivot['Total'] = ins_pivot.sum(axis=1)\n",
        "ins_missing_score_pivot  = ins_pivot.sort_values(['Total'], ascending= False)\n",
        "\n",
        "ins_missing_score_pivot\n"
      ]
    },
    {
      "cell_type": "code",
      "execution_count": null,
      "metadata": {
        "deletable": false,
        "editable": false,
        "id": "dfH7-KA-91J6"
      },
      "outputs": [],
      "source": [
        "grader.check(\"q4e\")"
      ]
    },
    {
      "cell_type": "markdown",
      "metadata": {
        "id": "VQGdWHH_91J7"
      },
      "source": [
        "Notice that inspection scores appear only to be assigned to `Routine - Unscheduled` inspections. It is reasonable that for inspection types such as `New Ownership` and `Complaint` to have no associated inspection scores, but we might be curious why there are no inspection scores for the `Reinspection/Followup` inspection type."
      ]
    },
    {
      "cell_type": "markdown",
      "metadata": {
        "nbgrader": {
          "grade": false,
          "grade_id": "business-data",
          "locked": true,
          "schema_version": 2,
          "solution": false
        },
        "id": "GzZmK1iw91J7"
      },
      "source": [
        "<br/><br/><br/>\n",
        "\n",
        "---\n",
        "\n",
        "<br/><br/><br/>\n",
        "\n",
        "# 5: Joining Data Across Tables\n",
        "\n",
        "In this question we will start to connect data across mulitple tables.  We will be using the `merge` function."
      ]
    },
    {
      "cell_type": "markdown",
      "metadata": {
        "id": "PloUo0aY91J7"
      },
      "source": [
        "<br/><br/><br/>\n",
        "\n",
        "---\n",
        "\n",
        "## Question 5a\n",
        "\n",
        "Let's figure out which restaurants had the lowest scores. Before we proceed, let's filter out missing scores from `ins` so that negative scores don't influence our results."
      ]
    },
    {
      "cell_type": "code",
      "execution_count": null,
      "metadata": {
        "id": "O9GQEDKY91J7"
      },
      "outputs": [],
      "source": [
        "ins = ins[ins[\"score\"] > 0]"
      ]
    },
    {
      "cell_type": "markdown",
      "metadata": {
        "deletable": false,
        "editable": false,
        "id": "HkxQ7nXZ91J7"
      },
      "source": [
        "We'll start by creating a new dataframe called `ins_named`. It should be exactly the same as `ins`, except that it should have the name and address of every business, as determined by the `bus` dataframe. If a `business_id` in `ins` does not exist in `bus`, the name and address should be given as `NaN`.\n",
        "\n",
        "*Hint*: Use the merge method to join the `ins` dataframe with the appropriate portion of the `bus` dataframe. See the official [documentation](https://pandas.pydata.org/pandas-docs/stable/user_guide/merging.html) on how to use `merge`.\n",
        "\n",
        "*Note*: For quick reference, a pandas 'left' join keeps the keys from the left frame, so if `ins` is the left frame, all the keys from `ins` are kept and if a set of these keys don't have matches in the other frame, the columns from the other frame for these \"unmatched\" key rows contains NaNs.\n",
        "\n",
        "<!--\n",
        "BEGIN QUESTION\n",
        "name: q5a\n",
        "points: 2\n",
        "-->"
      ]
    },
    {
      "cell_type": "code",
      "execution_count": null,
      "metadata": {
        "id": "0Gd947MD91K0"
      },
      "outputs": [],
      "source": [
        "ins_named = ins.merge(bus[[\"bid\", \"name\", \"address\"]], how=\"left\", left_on = \"bid\", right_on = \"bid\") # SOLUTION\n",
        "#ins_named.sort_values(\"score\").head()\n",
        "ins_named.head()"
      ]
    },
    {
      "cell_type": "code",
      "execution_count": null,
      "metadata": {
        "deletable": false,
        "editable": false,
        "id": "4fBsodEI91K1"
      },
      "outputs": [],
      "source": [
        "grader.check(\"q5a\")"
      ]
    },
    {
      "cell_type": "markdown",
      "metadata": {
        "deletable": false,
        "editable": false,
        "id": "R2d2Awnq91K1"
      },
      "source": [
        "<br/><br/><br/>\n",
        "\n",
        "---\n",
        "\n",
        "## Question 5b\n",
        "\n",
        "Let's look at the 20 businesses with the lowest **median** score.  Order your results by the median score followed by the business id to break ties. The resulting table should look like:\n",
        "\n",
        "\n",
        "*Hint: You may find the `as_index` argument important*\n",
        "\n",
        "<table border=\"1\" class=\"dataframe\">  <thead>    <tr style=\"text-align: right;\">      <th></th>      <th>bid</th>      <th>name</th>      <th>median score</th>    </tr>  </thead>  <tbody>    <tr>      <th>3876</th>      <td>84590</td>      <td>Chaat Corner</td>      <td>54.0</td>    </tr>    <tr>      <th>4564</th>      <td>90622</td>      <td>Taqueria Lolita</td>      <td>57.0</td>    </tr>    <tr>      <th>4990</th>      <td>94351</td>      <td>VBowls LLC</td>      <td>58.0</td>    </tr>    <tr>      <th>2719</th>      <td>69282</td>      <td>New Jumbo Seafood Restaurant</td>      <td>60.5</td>    </tr>    <tr>      <th>222</th>      <td>1154</td>      <td>SUNFLOWER RESTAURANT</td>      <td>63.5</td>    </tr>    <tr>      <th>1991</th>      <td>39776</td>      <td>Duc Loi Supermarket</td>      <td>64.0</td>    </tr>    <tr>      <th>2734</th>      <td>69397</td>      <td>Minna SF Group LLC</td>      <td>64.0</td>    </tr>    <tr>      <th>3291</th>      <td>78328</td>      <td>Golden Wok</td>      <td>64.0</td>    </tr>    <tr>      <th>4870</th>      <td>93150</td>      <td>Chez Beesen</td>      <td>64.0</td>    </tr>    <tr>      <th>4911</th>      <td>93502</td>      <td>Smoky Man</td>      <td>64.0</td>    </tr>    <tr>      <th>5510</th>      <td>98995</td>      <td>Vallarta's Taco Bar</td>      <td>64.0</td>    </tr>    <tr>      <th>1457</th>      <td>10877</td>      <td>CHINA FIRST INC.</td>      <td>64.5</td>    </tr>    <tr>      <th>2890</th>      <td>71310</td>      <td>Golden King Vietnamese Restaurant</td>      <td>64.5</td>    </tr>    <tr>      <th>4352</th>      <td>89070</td>      <td>Lafayette Coffee Shop</td>      <td>64.5</td>    </tr>    <tr>      <th>505</th>      <td>2542</td>      <td>PETER D'S RESTAURANT</td>      <td>65.0</td>    </tr>    <tr>      <th>2874</th>      <td>71008</td>      <td>House of Pancakes</td>      <td>65.0</td>    </tr>    <tr>      <th>818</th>      <td>3862</td>      <td>IMPERIAL GARDEN SEAFOOD RESTAURANT</td>      <td>66.0</td>    </tr>    <tr>      <th>2141</th>      <td>61427</td>      <td>Nick's Foods</td>      <td>66.0</td>    </tr>    <tr>      <th>2954</th>      <td>72176</td>      <td>Wolfes Lunch</td>      <td>66.0</td>    </tr>    <tr>      <th>4367</th>      <td>89141</td>      <td>Cha Cha Cha on Mission</td>      <td>66.5</td>    </tr>  </tbody></table>\n",
        "\n",
        "\n",
        "<!--\n",
        "BEGIN QUESTION\n",
        "name: q5b\n",
        "points: 3\n",
        "-->"
      ]
    },
    {
      "cell_type": "code",
      "execution_count": null,
      "metadata": {
        "id": "b2j5AW6s91K3"
      },
      "outputs": [],
      "source": [
        "ins_new = ins_named.groupby(\"bid\", as_index = False).agg({'name':'first','score':'median'})\n",
        "twenty_lowest_scoring = ins_new.sort_values(['score','bid']).head(20)\n",
        "twenty_lowest_scoring = twenty_lowest_scoring.rename(columns = {'score':'median score'})\n",
        "twenty_lowest_scoring"
      ]
    },
    {
      "cell_type": "code",
      "execution_count": null,
      "metadata": {
        "deletable": false,
        "editable": false,
        "id": "BMK0Mlmc91K3"
      },
      "outputs": [],
      "source": [
        "grader.check(\"q5b\")"
      ]
    },
    {
      "cell_type": "markdown",
      "metadata": {
        "deletable": false,
        "editable": false,
        "id": "Afsk1_0791K3"
      },
      "source": [
        "<br/><br/><br/>\n",
        "\n",
        "---\n",
        "\n",
        "## Question 5c\n",
        "\n",
        "Let's now examine the descriptions of violations for inspections with `score > 0` and `score < 65`.  Construct a **Series** indexed by the `description` of the violation from the `vio` table with the value being the number of times that violation occured for inspections with the above score range.  Sort the results in descending order of the count.\n",
        "\n",
        "The first few entries should look like:\n",
        "\n",
        "```\n",
        "Unclean or unsanitary food contact surfaces                                  43\n",
        "High risk food holding temperature                                           42\n",
        "Unclean or degraded floors walls or ceilings                                 40\n",
        "Unapproved or unmaintained equipment or utensils                             39\n",
        "```\n",
        "You will need to use `merge` twice.\n",
        "\n",
        "<!--\n",
        "BEGIN QUESTION\n",
        "name: q5c\n",
        "points: 2\n",
        "-->"
      ]
    },
    {
      "cell_type": "code",
      "execution_count": null,
      "metadata": {
        "id": "WfuMGVSF91K4"
      },
      "outputs": [],
      "source": [
        "ins2vio_merged= ins2vio.merge(ins_named, how=\"inner\", left_on = \"iid\", right_on = \"iid\")\n",
        "ins2vio_merged2 = ins2vio_merged.merge(vio, how=\"inner\", left_on = \"vid\", right_on = \"vid\")\n",
        "ins2vio_merged2 = ins2vio_merged2[(ins2vio_merged2['score'] < 65) & (ins2vio_merged2['score'] > 0)]\n",
        "low_score_violations = ins2vio_merged2[\"description\"].value_counts().sort_values(ascending = False)\n",
        "low_score_violations.head(20)\n"
      ]
    },
    {
      "cell_type": "code",
      "execution_count": null,
      "metadata": {
        "deletable": false,
        "editable": false,
        "id": "4fx4LSni91K4"
      },
      "outputs": [],
      "source": [
        "grader.check(\"q5c\")"
      ]
    },
    {
      "cell_type": "markdown",
      "metadata": {
        "id": "NyJhZKqL91K4"
      },
      "source": [
        "### Question 5d\n",
        "Let's figure out which restaurant had the worst scores ever (single lowest score)."
      ]
    },
    {
      "cell_type": "code",
      "execution_count": null,
      "metadata": {
        "id": "y3FMYHLi91K4"
      },
      "outputs": [],
      "source": [
        "worst_restaurant = ins_named.sort_values(by = 'score').head(1)\n",
        "worst_restaurant"
      ]
    },
    {
      "cell_type": "markdown",
      "metadata": {
        "deletable": false,
        "editable": false,
        "id": "xFYQM9Sf91K4"
      },
      "source": [
        "<!-- BEGIN QUESTION -->\n",
        "\n",
        "**In the cell below, write the name of the restaurant** with the lowest inspection scores ever. You can also head to yelp.com and look up the reviews page for this restaurant. Feel free to add anything interesting you want to share.\n",
        "\n",
        "<!--\n",
        "BEGIN QUESTION\n",
        "name: q5d\n",
        "points: 2\n",
        "manual: True\n",
        "-->"
      ]
    },
    {
      "cell_type": "markdown",
      "metadata": {
        "id": "2Kg4EHIT91K5"
      },
      "source": [
        "Lollipot"
      ]
    },
    {
      "cell_type": "markdown",
      "metadata": {
        "id": "a3C3GYgI91K5"
      },
      "source": [
        "<!-- END QUESTION -->\n",
        "\n",
        "\n",
        "\n",
        "<br/><br/><br/><br/>\n",
        "\n",
        "---\n",
        "\n",
        "<br/><br/>\n",
        "\n",
        "## 6: Explore Inspection Scores\n",
        "\n",
        "In this part we explore some of the basic inspection score values visually."
      ]
    },
    {
      "cell_type": "markdown",
      "metadata": {
        "collapsed": true,
        "deletable": false,
        "editable": false,
        "jupyter": {
          "outputs_hidden": true
        },
        "id": "84WP28Oz91K5"
      },
      "source": [
        "<!-- BEGIN QUESTION -->\n",
        "\n",
        "<br/><br/><br/>\n",
        "\n",
        "---\n",
        "\n",
        "\n",
        "## Question 6a\n",
        "Let's look at the distribution of inspection scores. As we saw before when we called head on this data frame, inspection scores appear to be integer values. The discreteness of this variable means that we can use a barplot to visualize the distribution of the inspection score. Make a bar plot of the counts of the number of inspections receiving each score.\n",
        "\n",
        "It should look like the image below. It does not need to look exactly the same (e.g., no grid), but make sure that all labels and axes are correct.\n",
        "\n",
        "![](pics/6a.png)\n",
        "\n",
        "You might find this [matplotlib.pyplot tutorial](https://matplotlib.org/tutorials/introductory/pyplot.html) useful. Key syntax that you'll need:\n",
        "\n",
        "```\n",
        "plt.bar\n",
        "plt.xlabel\n",
        "plt.ylabel\n",
        "plt.title\n",
        "```\n",
        "\n",
        "*Note*: If you want to use another plotting library for your plots (e.g. plotly, sns) you are welcome to use that library instead so long as it works on DataHub. If you use seaborn sns.countplot(), you may need to manually set what to display on xticks.\n",
        "\n",
        "\n",
        "<!--\n",
        "BEGIN QUESTION\n",
        "name: q6a\n",
        "points: 1\n",
        "manual: True\n",
        "-->"
      ]
    },
    {
      "cell_type": "code",
      "execution_count": null,
      "metadata": {
        "scrolled": false,
        "id": "5j0zclle91K5"
      },
      "outputs": [],
      "source": [
        "score_counts = ins['score'].value_counts()\n",
        "plt.bar(score_counts.keys(), score_counts)\n",
        "plt.xlabel(\"Score\")\n",
        "plt.ylabel(\"Count\")\n",
        "plt.title(\"Distribution of Inspection Scores\")"
      ]
    },
    {
      "cell_type": "markdown",
      "metadata": {
        "deletable": false,
        "editable": false,
        "id": "7q5MsQZy91K8"
      },
      "source": [
        "<!-- END QUESTION -->"
      ]
    },
    {
      "cell_type": "code",
      "execution_count": null,
      "metadata": {
        "id": "unwBvB7491K8"
      },
      "outputs": [],
      "source": [
        "score_counts"
      ]
    },
    {
      "cell_type": "markdown",
      "metadata": {
        "deletable": false,
        "editable": false,
        "id": "km__Uu5l91K8"
      },
      "source": [
        "<!-- BEGIN QUESTION -->\n",
        "\n",
        "<br/><br/><br/>\n",
        "\n",
        "---\n",
        "\n",
        "### Question 6b\n",
        "Describe the qualities of the distribution of the inspections scores based on your bar plot. Consider the mode(s), symmetry, tails, gaps, and anomalous values. Are there any unusual features of this distribution? What do your observations imply about the scores?\n",
        "\n",
        "<!--\n",
        "BEGIN QUESTION\n",
        "name: q6b\n",
        "points: 2\n",
        "manual: True\n",
        "-->"
      ]
    },
    {
      "cell_type": "markdown",
      "metadata": {
        "id": "4W9gAVz891K9"
      },
      "source": [
        "The plot is not symmetry. The distribution is skewed left (as expected with a variable bounded on the right).\n",
        "It has a long left tail with some restaurants receiving scores(50, 60, and 70).Most of these restaruants has a relativele high score, greater than 70.\n",
        "\n",
        "\n",
        "One unusal feature of the distribution is the bumpiness with even numbers having higher counts than odd. This may be becausethe violations result in penalties of 2, 4, 10, etc."
      ]
    },
    {
      "cell_type": "markdown",
      "metadata": {
        "id": "m34tvsHY91K9"
      },
      "source": [
        "<!-- END QUESTION -->\n",
        "\n",
        "\n",
        "\n",
        "<br/><br/><br/><br/>\n",
        "\n",
        "---\n",
        "\n",
        "<br/><br/>\n",
        "\n",
        "## 7: Restaurant Ratings Over Time\n",
        "\n",
        "Let's consider various scenarios involving restaurants with multiple ratings over time.\n",
        "\n"
      ]
    },
    {
      "cell_type": "markdown",
      "metadata": {
        "id": "1pqLQ6WJ91LB"
      },
      "source": [
        "<br/><br/><br/>\n",
        "\n",
        "---\n",
        "\n",
        "### Question 7a\n",
        "\n",
        "Let's see which restaurant has had the most extreme improvement in its rating, aka scores. Let the \"swing\" of a restaurant be defined as the difference between its highest-ever and lowest-ever rating. **Only consider restaurants with at least 3 ratings, aka rated for at least 3 times (3 scores)!** Using whatever technique you want to use, assign `max_swing` to the name of restaurant that has the maximum swing.\n",
        "\n",
        "*Note*: The \"swing\" is of a specific business. There might be some restaurants with multiple locations; each location has its own \"swing\"."
      ]
    },
    {
      "cell_type": "markdown",
      "metadata": {
        "deletable": false,
        "editable": false,
        "id": "t2nMfXZq91LD"
      },
      "source": [
        "The city would like to know if the state of food safety has been getting better, worse, or about average. This is a pretty vague and broad question, which you should expect as part of your future job as a data scientist! However for the ease of grading for this assignment, we are going to guide you through it and offer some specific directions to consider.\n",
        "\n",
        "<!--\n",
        "BEGIN QUESTION\n",
        "name: q7a\n",
        "points: 2\n",
        "-->"
      ]
    },
    {
      "cell_type": "code",
      "execution_count": null,
      "metadata": {
        "id": "PwhdINcc91LD"
      },
      "outputs": [],
      "source": [
        "def swing(s):\n",
        "    if len(s) < 3:\n",
        "        return 0\n",
        "    else:\n",
        "        return max(s) - min(s)\n",
        "\n",
        "swing_series = ins_named['score'].groupby(ins_named['bid']).agg(swing).rename('swing')\n",
        "swing_series\n",
        "bus_swing = pd.concat([bus.set_index('bid'), swing_series], axis=1).sort_values(\"swing\", ascending=False)\n",
        "bus_swing\n",
        "\n",
        "max_swing = bus_swing.iloc[0]['name']\n",
        "max_swing"
      ]
    },
    {
      "cell_type": "code",
      "execution_count": null,
      "metadata": {
        "deletable": false,
        "editable": false,
        "id": "x4SB0PyZ91LE"
      },
      "outputs": [],
      "source": [
        "grader.check(\"q7a\")"
      ]
    },
    {
      "cell_type": "markdown",
      "metadata": {
        "deletable": false,
        "editable": false,
        "id": "ur_-ZkZY91LH"
      },
      "source": [
        "<br/><br/><br/>\n",
        "\n",
        "---\n",
        "\n",
        "### Question 7b\n",
        "\n",
        "To get a sense of the number of times each restaurant has been inspected, create a multi-indexed dataframe called `inspections_by_id_and_year` where each row corresponds to data about a given business in a single year, and there is a single data column named count that represents the number of inspections for that business in that year. The first index in the MultiIndex should be on `bid`, and the second should be on year.\n",
        "\n",
        "For example, a sample row in this dataframe will tell you that for `bid` 573, in `year` 2017, the total number of inspections was 4.\n",
        "\n",
        "Hint: Use `groupby` to group based on both the `bid` and the `year`.\n",
        "\n",
        "Hint: Use `rename` to change the name of the column to count.\n",
        "\n",
        "<!--\n",
        "BEGIN QUESTION\n",
        "name: q7b\n",
        "points: 1\n",
        "-->"
      ]
    },
    {
      "cell_type": "code",
      "execution_count": null,
      "metadata": {
        "id": "dScgDkIG91LI"
      },
      "outputs": [],
      "source": [
        "inspections_by_id_and_year = ins.groupby([ins['bid'], ins['year']]).size().rename(\"count\").to_frame()\n",
        "inspections_by_id_and_year.head()"
      ]
    },
    {
      "cell_type": "code",
      "execution_count": null,
      "metadata": {
        "deletable": false,
        "editable": false,
        "id": "PlqV1ZZL91LI"
      },
      "outputs": [],
      "source": [
        "grader.check(\"q7b\")"
      ]
    },
    {
      "cell_type": "markdown",
      "metadata": {
        "id": "W-gHU5ti91LI"
      },
      "source": [
        "You should see that some businesses are inspected many times in a single year. Let's get a sense of the distribution of the counts of the number of inspections by calling `value_counts`. There are quite a lot of businesses with 2 inspections in the same year, so it seems like it might be interesting to see what we can learn from such businesses."
      ]
    },
    {
      "cell_type": "code",
      "execution_count": null,
      "metadata": {
        "id": "CHELEpfV91LJ"
      },
      "outputs": [],
      "source": [
        "inspections_by_id_and_year['count'].value_counts()"
      ]
    },
    {
      "cell_type": "markdown",
      "metadata": {
        "deletable": false,
        "editable": false,
        "id": "gpp3z5oT91LJ"
      },
      "source": [
        "<br/><br/><br/>\n",
        "\n",
        "---\n",
        "\n",
        "\n",
        "### Question 7c\n",
        "\n",
        "What's the relationship between the first and second scores for the businesses with 2 inspections in a year? Do they typically improve? For simplicity, let's focus on only 2018 for this problem, using `ins2018` data frame that will be created for you below.\n",
        "\n",
        "First, make a dataframe called `scores_pairs_by_business` indexed by `business_id` (containing only businesses with exactly 2 inspections in 2018). This dataframe contains the field score_pair consisting of the score pairs ordered chronologically [first_score, second_score].\n",
        "\n",
        "Plot these scores. That is, make a scatter plot to display these pairs of scores. Include on the plot a reference line with slope 1.\n",
        "\n",
        "You may find the functions `sort_values`, `groupby`, `filter` and `agg` helpful, though not all necessary.\n",
        "\n",
        "The first few rows of the resulting table should look something like:\n",
        "\n",
        "|  **bid**   | **score_pair** |\n",
        "|-----|------------|\n",
        "| 48  | [94, 87]   |\n",
        "| 66  | [98, 98]   |\n",
        "| 146  | [81, 90]   |\n",
        "| 184  | [90, 96]  |\n",
        "| 273  | [83, 84]   |\n",
        "\n",
        "In the cell below, create `scores_pairs_by_business` as described above.\n",
        "\n",
        "Note: Each score pair must be a list type; numpy arrays will not pass the autograder.\n",
        "\n",
        "Hint: Use the filter method from lecture 5 to create a new dataframe that only contains restaurants that received exactly 2 inspections.\n",
        "\n",
        "Hint: Our code that creates the needed DataFrame is a single line of code that uses `sort_values`, `groupby`, `filter`, `groupby`, `agg`, and `rename` in that order. Your answer does not need to use these exact methods.\n",
        "\n",
        "<!--\n",
        "BEGIN QUESTION\n",
        "name: q7ci\n",
        "points: 4\n",
        "-->"
      ]
    },
    {
      "cell_type": "code",
      "execution_count": null,
      "metadata": {
        "id": "fYPgRrMS91LL"
      },
      "outputs": [],
      "source": [
        "ins2018 = ins[ins['year'] == 2018]\n",
        "# Create the dataframe here\n",
        "scores_pairs_by_business = (ins2018.sort_values('date')\n",
        "                            .loc[:, ['bid', 'score']]\n",
        "                            .groupby('bid')\n",
        "                            .filter(lambda group: len(group)==2)\n",
        "                            .groupby('bid')\n",
        "                            .agg(list)\n",
        "                            .rename(columns={'score':'score_pair'}))\n",
        "scores_pairs_by_business.head(5)"
      ]
    },
    {
      "cell_type": "code",
      "execution_count": null,
      "metadata": {
        "deletable": false,
        "editable": false,
        "id": "g_omxCqa91LL"
      },
      "outputs": [],
      "source": [
        "grader.check(\"q7ci\")"
      ]
    },
    {
      "cell_type": "markdown",
      "metadata": {
        "deletable": false,
        "editable": false,
        "id": "h0htTylA91LL"
      },
      "source": [
        "<!-- BEGIN QUESTION -->\n",
        "\n",
        "Now, create your scatter plot in the cell below. It does not need to look exactly the same (e.g., no grid) as the sample below, but make sure that all labels, axes and data itself are correct.\n",
        "\n",
        "![](pics/7c.png)\n",
        "\n",
        "Key pieces of syntax you'll need:\n",
        "\n",
        "`plt.scatter` plots a set of points. Use `facecolors='none'` and `edgecolors=b` to make circle markers with blue borders.\n",
        "\n",
        "`plt.plot` for the reference line.\n",
        "\n",
        "`plt.xlabel`, `plt.ylabel`, `plt.axis`, and `plt.title`.\n",
        "\n",
        "Hint: You may find it convenient to use the `zip()` function to unzip scores in the list.\n",
        "\n",
        "<!--\n",
        "BEGIN QUESTION\n",
        "name: q7cii\n",
        "points: 2\n",
        "manual: True\n",
        "-->"
      ]
    },
    {
      "cell_type": "code",
      "execution_count": null,
      "metadata": {
        "id": "URDG2QCj91LL"
      },
      "outputs": [],
      "source": [
        "# * unpacking operators\n",
        "first_score, second_score = zip(*scores_pairs_by_business['score_pair'])\n",
        "plt.scatter(first_score,second_score, facecolors = 'none', edgecolors = 'b')\n",
        "plt.plot([55,100],[55,100],'r-')\n",
        "plt.xlabel('First Score')\n",
        "plt.ylabel('Second Score')\n",
        "plt.axis([55,100,55,100])\n",
        "plt.title(\"First Inspection Score vs. Second Inspection Score\");"
      ]
    },
    {
      "cell_type": "markdown",
      "metadata": {
        "deletable": false,
        "editable": false,
        "id": "A9dWS29I91LM"
      },
      "source": [
        "<!-- END QUESTION -->\n",
        "\n",
        "<!-- BEGIN QUESTION -->\n",
        "\n",
        "<br/><br/><br/>\n",
        "\n",
        "\n",
        "---\n",
        "\n",
        "\n",
        "### Question 7d\n",
        "\n",
        "Another way to compare the scores from the two inspections is to examine the difference in scores. Subtract the first score from the second in `scores_pairs_by_business`. Make a histogram of these differences in the scores. We might expect these differences to be positive, indicating an improvement from the first to the second inspection.\n",
        "\n",
        "The histogram should look like this:\n",
        "\n",
        "![](pics/7d.png)\n",
        "\n",
        "Hint: Use `second_score` and `first_score` created in the scatter plot code above.\n",
        "\n",
        "Hint: Convert the scores into numpy arrays to make them easier to deal with.\n",
        "\n",
        "Hint: Use `plt.hist()` Try changing the number of bins when you call `plt.hist()`.\n",
        "\n",
        "<!--\n",
        "BEGIN QUESTION\n",
        "name: q7d\n",
        "points: 2\n",
        "manual: True\n",
        "-->"
      ]
    },
    {
      "cell_type": "code",
      "execution_count": null,
      "metadata": {
        "id": "nWk7QCzc91LM"
      },
      "outputs": [],
      "source": [
        "#Convert the scores into numpy arrays\n",
        "difference = np.array(second_score) - np.array(first_score)\n",
        "#plt.hist(difference)\n",
        "plt.hist(difference, bins=30)\n",
        "plt.xlabel('Score Difference(Second Score-First Score)')\n",
        "plt.ylabel('Count')\n",
        "plt.title(\"Districution of Score Differences\");"
      ]
    },
    {
      "cell_type": "markdown",
      "metadata": {
        "deletable": false,
        "editable": false,
        "id": "cOnG7h8-91LM"
      },
      "source": [
        "<!-- END QUESTION -->\n",
        "\n",
        "<!-- BEGIN QUESTION -->\n",
        "\n",
        "<br/><br/><br/>\n",
        "\n",
        "\n",
        "---\n",
        "\n",
        "\n",
        "### Question 7e\n",
        "\n",
        "If restaurants' scores tend to improve from the first to the second inspection, what do you expect to see in the scatter plot that you made in question 7c? What do you oberve from the plot? Are your observations consistent with your expectations?\n",
        "\n",
        "Hint: What does the slope represent?\n",
        "\n",
        "<!--\n",
        "BEGIN QUESTION\n",
        "name: q7e\n",
        "points: 1\n",
        "manual: True\n",
        "-->"
      ]
    },
    {
      "cell_type": "markdown",
      "metadata": {
        "id": "3-p3R_RW91LM"
      },
      "source": [
        "If it is, we would see the points in the scatter plot fall above the line of slope 1.\n",
        "\n",
        "I saw, averagely, the first inspection and second inspection is almost same.\n",
        "\n",
        "I think second inspection will better than first inspection. Interestingly, we don't see this. The second inspection often is worse than first.\n",
        "\n",
        "the slope represent if first inspection result = second inspection score, then the spot will fall on the slope."
      ]
    },
    {
      "cell_type": "markdown",
      "metadata": {
        "deletable": false,
        "editable": false,
        "id": "Be3T_8lK91MV"
      },
      "source": [
        "<!-- END QUESTION -->\n",
        "\n",
        "<!-- BEGIN QUESTION -->\n",
        "\n",
        "<br/><br/><br/>\n",
        "\n",
        "---\n",
        "\n",
        "### Question 7f\n",
        "\n",
        "If a restaurant's score improves from the first to the second inspection, how would this be reflected in the histogram of the difference in the scores that you made in question 7d? What do you oberve from the plot? Are your observations consistent with your expectations? Explain your observations in the language of Statistics: for instance, the center, the spread, the deviation etc.\n",
        "\n",
        "<!--\n",
        "BEGIN QUESTION\n",
        "name: q7f\n",
        "points: 1\n",
        "manual: True\n",
        "-->"
      ]
    },
    {
      "cell_type": "markdown",
      "metadata": {
        "id": "m6zik-am91MV"
      },
      "source": [
        "If it is, We would see the histogram of the difference in scores to be shifted toward right(to the\n",
        "positive values).\n",
        "\n",
        "I think the second inspection on the above histogram should better than the first one. However, the histogram shows the second inspectio is worse than the first inspection.\n",
        "\n",
        "It also shows that the histogram of differences shows a unimodal distribution centered at 0, which means, on average, that the restaurants do not change in score between their first and second inspection.\n",
        "This distribution has long tails with some scores being as low as -20 and others as high as 20-30.\n"
      ]
    },
    {
      "cell_type": "markdown",
      "metadata": {
        "deletable": false,
        "editable": false,
        "id": "DD_395t691MV"
      },
      "source": [
        "<!-- END QUESTION -->\n",
        "\n",
        "<!-- BEGIN QUESTION -->\n",
        "\n",
        "<br/><br/><br/>\n",
        "\n",
        "---\n",
        "\n",
        "### Question 7g\n",
        "To wrap up our analysis of the restaurant ratings over time, one final metric we will be looking at is the distribution of restaurant scores over time. Create a side-by-side boxplot that shows the distribution of these scores for each different risk category from 2017 to 2019. Use a figure size of at least 12 by 8.\n",
        "\n",
        "The boxplot should look similar to the sample below. Make sure the boxes are in the correct order!\n",
        "\n",
        "![](pics/7g.png)\n",
        "\n",
        "**Hint**: Use `sns.boxplot()`. Try taking a look at the first several parameters. [The documentation is linked here!](https://seaborn.pydata.org/generated/seaborn.boxplot.html)\n",
        "\n",
        "**Hint**: Use `plt.figure()` to adjust the figure size of your plot.\n",
        "\n",
        "<!--\n",
        "BEGIN QUESTION\n",
        "name: q7g\n",
        "points: 3\n",
        "manual: True\n",
        "-->"
      ]
    },
    {
      "cell_type": "code",
      "execution_count": null,
      "metadata": {
        "scrolled": true,
        "id": "636AMgYo91MW"
      },
      "outputs": [],
      "source": [
        "# Do not modify this line\n",
        "sns.set()\n",
        "df=ins.query('year > = 2017').merge(ins2vio, on = \"iid\").merge(vio, on = \"vid\")\n",
        "plt.figure(figsize=(12,8))\n",
        "sns.boxplot(x =\"year\", y=\"score\", hue=\"risk_category\", data= df, hue_order =['Low Risk','Moderate Risk', 'High Risk'], palette=\"Set1\")\n"
      ]
    },
    {
      "cell_type": "markdown",
      "metadata": {
        "id": "-Fa060Il91MW"
      },
      "source": [
        "<!-- END QUESTION -->\n",
        "\n",
        "\n",
        "\n",
        "## Summary of Inspections Data\n",
        "\n",
        "We have done a lot in this project! Below are some examples of what we have learned about the inspections data through some cool visualizations!\n",
        "\n",
        "- We found that the records are at the inspection level and that we have inspections for multiple years.\n",
        "- We also found that many restaurants have more than one inspection a year.\n",
        "- By joining the business and inspection data, we identified the name of the restaurant with the worst rating and optionally the names of the restaurants with the best rating.\n",
        "- We identified the restaurant that had the largest swing in rating over time.\n",
        "- We also examined the change of scores over time! Many restaurants are not actually doing better."
      ]
    },
    {
      "cell_type": "markdown",
      "metadata": {
        "deletable": false,
        "editable": false,
        "id": "DxIWPzaE91MX"
      },
      "source": [
        "<!-- BEGIN QUESTION -->\n",
        "\n",
        "<br/><br/><br/>\n",
        "\n",
        "---\n",
        "\n",
        "<br/><br/><br/>\n",
        "\n",
        "# 8: Open Ended Question\n",
        "## Question 8a\n",
        "\n",
        "### Compute Something Interesting\n",
        "\n",
        "Play with the data and try to compute something interesting about the data. Please try to use at least one of groupby, pivot, or merge (or all of the above).  \n",
        "\n",
        "Please show your work in the cell below and describe in words what you found in the same cell. This question will be graded leniently but good solutions may be used to create future homework problems.\n",
        "\n",
        "### Grading ###\n",
        "\n",
        "Since the question is more open ended, we will have a more relaxed rubric, classifying your answers into the following three categories:\n",
        "\n",
        "- **Great** (4 points): Uses a combination of pandas operations (such as groupby, pivot, merge) to answer a relevant question about the data. The text description provides a reasonable interpretation of the result.\n",
        "- **Passing** (1-3 points): Computation is flawed or very simple. The text description is incomplete but makes some sense.\n",
        "- **Unsatisfactory** (0 points): No computation is performed, or a computation with completely wrong results.\n",
        "\n",
        "\n",
        "**Please have both your code and your explanation in the same one cell below. Any work in any other cell will not be graded.**\n",
        "\n",
        "\n",
        "<!--\n",
        "BEGIN QUESTION\n",
        "name: q8a\n",
        "points: 4\n",
        "manual: True\n",
        "-->\n",
        "\n"
      ]
    },
    {
      "cell_type": "code",
      "execution_count": null,
      "metadata": {
        "id": "16lw7ofe91MX"
      },
      "outputs": [],
      "source": [
        "#YOUR CODE HERE\n",
        "ins_grouped1 = ins.groupby(\"year\").size().to_frame()\n",
        "ins_grouped2 = ins.groupby(\"year\")['score'].mean().to_frame()\n",
        "df = ins_grouped1.merge(ins_grouped2, on = 'year')\n",
        "df = df.rename(columns = {'score':'mean', 0 : 'counts'})\n",
        "df.head()\n",
        "\n",
        "#.iloc[0]\n",
        "\n",
        "#YOUR EXPLANATION HERE (in a comment)\n",
        "#I want to count how many inspections per year, and get the mean score of each year,\n",
        "#then we can see the diffrent between each year.\n",
        "#I expect the score will be improved each year, and I also expect the more inspections, the better score we will get,\n",
        "#however, from the result, it did not show any improvement by year or improvement because of more inspections.\n",
        "#It means only inspection does not help to push the resturaunt(what does they mean? what's pattern in the result.)"
      ]
    },
    {
      "cell_type": "markdown",
      "metadata": {
        "id": "OVHrO2fO91MX"
      },
      "source": [
        "<!-- END QUESTION -->\n",
        "\n",
        "\n",
        "\n",
        "<br/><br/><br/><br/>\n",
        "\n",
        "---\n",
        "\n",
        "<br/><br/>\n",
        "\n",
        "## Question 8b\n",
        "\n",
        "### Create some more cool visualizations!\n",
        "\n",
        "<br/>"
      ]
    },
    {
      "cell_type": "markdown",
      "metadata": {
        "id": "MgnzdN-N91MY"
      },
      "source": [
        "Play with the data, and try to produce some visualizations to answer one question that you find interesting regarding the data. You might want to use `merge`/`groupby`/`pivot` to process the data before creating visualizations.\n",
        "\n",
        "Please show your work in the cells below (feel free to use extra cells if you want), and describe in words what you found in the same cell. This question will be graded leniently, but good solutions may be used to create future homework problems.\n",
        "\n",
        "\n"
      ]
    },
    {
      "cell_type": "markdown",
      "metadata": {
        "deletable": false,
        "editable": false,
        "id": "ZRJNfweY91MY"
      },
      "source": [
        "<!-- BEGIN QUESTION -->\n",
        "\n",
        "### Grading ###\n",
        "\n",
        "Since the question is more open ended, we will have a more relaxed rubric, classifying your answers into the following three categories:\n",
        "\n",
        "- **Great** (4 points): The chart is well designed, and the data computation is correct. The text written articulates a reasonable metric and correctly describes the relevant insight and answer to the question you are interested in.\n",
        "- **Passing** (1-3 points): A chart is produced but with some flaws such as bad encoding. The text written is incomplete but makes some sense.\n",
        "- **Unsatisfactory** (0 points): No chart is created, or a chart with completely wrong results.\n",
        "\n",
        "We will lean towards being generous with the grading. We might also either discuss in discussion or post on Piazza some examplar analysis you have done (with your permission)!\n",
        "\n",
        "You should have the following in your answers:\n",
        "* a few visualizations; Please limit your visualizations to 5 plots.\n",
        "* a few sentences (not too long please!)\n",
        "\n",
        "Please note that you will only receive support in OH and Piazza for Matplotlib and seaborn questions. However, you may use some other Python libraries to help you create you visualizations. If you do so, make sure it is compatible with the PDF export (e.g., Plotly does not create PDFs properly, which we need for Gradescope).\n",
        "\n",
        "<!--\n",
        "BEGIN QUESTION\n",
        "name: q8b\n",
        "points: 4\n",
        "manual: True\n",
        "-->"
      ]
    },
    {
      "cell_type": "code",
      "execution_count": null,
      "metadata": {
        "id": "5KpXDLgB91MY"
      },
      "outputs": [],
      "source": [
        "df2 = ins.merge(ins2vio, on = \"iid\").merge(vio, on = \"vid\").groupby(['year','risk_category'])['score'].mean().to_frame()\n",
        "df2 = df2.reset_index()\n",
        "df2 = df2.rename(columns={'score': 'mean_of_score'})\n",
        "df2"
      ]
    },
    {
      "cell_type": "code",
      "execution_count": null,
      "metadata": {
        "id": "P_JwyYpN91MY"
      },
      "outputs": [],
      "source": [
        "sns.set()\n",
        "plt.figure(figsize=(12,8))\n",
        "sns.lineplot(x =\"year\", y =\"mean_of_score\", hue=\"risk_category\", data= df2, hue_order =['Low Risk','Moderate Risk', 'High Risk'], palette=\"Set1\")\n",
        "\n",
        "# YOUR EXPLANATION HERE (in a comment)\n",
        "# I want to see the mean score of each risk category in each year, and watch the changing of the score and trend from 2016 to 2019.\n",
        "# Then I use lineplot to plot the data to visulize it.\n",
        "\n",
        "# From the result, I can see the the risk categories were related in each year,\n",
        "# they had the same trend and changing along these years."
      ]
    },
    {
      "cell_type": "markdown",
      "metadata": {
        "deletable": false,
        "editable": false,
        "id": "w1Zym7bp91MY"
      },
      "source": [
        "<!-- END QUESTION -->"
      ]
    },
    {
      "cell_type": "code",
      "execution_count": null,
      "metadata": {
        "id": "lFFWMpV291MZ"
      },
      "outputs": [],
      "source": [
        "df_total_each_year=ins.merge(ins2vio, on = \"iid\").merge(vio, on = \"vid\").groupby('year').size().to_frame()\n",
        "df4=ins.merge(ins2vio, on = \"iid\").merge(vio, on = \"vid\").groupby(['year','risk_category']).size().to_frame()\n",
        "df4 = df4.reset_index('risk_category')\n",
        "df5 =df4.merge(df_total_each_year, on = 'year')\n",
        "\n",
        "subtotal = df5['0_x']\n",
        "total = df5['0_y']\n",
        "df5['propotion'] = subtotal.div(total, level='total') * 100\n",
        "df5 = df5.reset_index()\n",
        "df5"
      ]
    },
    {
      "cell_type": "code",
      "execution_count": null,
      "metadata": {
        "id": "mnYSU_Vt91MZ"
      },
      "outputs": [],
      "source": [
        "# YOUR DATA PROCESSING AND PLOTTING HERE\n",
        "sns.set()\n",
        "plt.figure(figsize=(12,8))\n",
        "sns.lineplot(x =\"year\", y =\"propotion\", hue=\"risk_category\", data= df5, hue_order =['Low Risk','Moderate Risk', 'High Risk'], palette=\"Set1\")\n",
        "\n",
        "# YOUR EXPLANATION HERE (in a comment)\n",
        "#I want to know the propotion of the risk category in each year,\n",
        "#and also want to know the changing of the propotion from 2016 to 2019.\n",
        "#Then use lineplot to plot and show the changing.\n",
        "\n",
        "#The result shows that the portation of low risk became lower, the portation of moderate risk and high risk became higher.\n",
        "#The result will push people to think about it and find the solution about it."
      ]
    },
    {
      "cell_type": "code",
      "execution_count": null,
      "metadata": {
        "id": "Iyuo-y3w91MZ"
      },
      "outputs": [],
      "source": [
        "# THIS CELL AND ANY CELLS ADDED BELOW WILL NOT BE GRADED"
      ]
    },
    {
      "cell_type": "markdown",
      "metadata": {
        "id": "OSaInIdp91Ma"
      },
      "source": [
        "## Congratulations! You have finished Project 1! ##"
      ]
    },
    {
      "cell_type": "markdown",
      "metadata": {
        "deletable": false,
        "editable": false,
        "id": "7ywYnp1i91Ma"
      },
      "source": [
        "---\n",
        "\n",
        "To double-check your work, the cell below will rerun all of the autograder tests."
      ]
    },
    {
      "cell_type": "code",
      "execution_count": null,
      "metadata": {
        "deletable": false,
        "editable": false,
        "id": "UGE3RxWt91Ma"
      },
      "outputs": [],
      "source": [
        "grader.check_all()"
      ]
    },
    {
      "cell_type": "markdown",
      "metadata": {
        "deletable": false,
        "editable": false,
        "id": "jBoyQ8c_91Ma"
      },
      "source": [
        "## Submission\n",
        "\n",
        "Make sure you have run all cells in your notebook in order before running the cell below, so that all images/graphs appear in the output. The cell below will generate a zip file for you to submit. **Please save before exporting!**"
      ]
    },
    {
      "cell_type": "code",
      "execution_count": null,
      "metadata": {
        "deletable": false,
        "editable": false,
        "id": "CqkDGXe891Ma"
      },
      "outputs": [],
      "source": [
        "# Save your notebook first, then run this cell to export your submission.\n",
        "grader.export(\"proj1.ipynb\")"
      ]
    },
    {
      "cell_type": "markdown",
      "metadata": {
        "id": "WTcQ8TGj91Mb"
      },
      "source": [
        ""
      ]
    }
  ],
  "metadata": {
    "celltoolbar": "Create Assignment",
    "kernelspec": {
      "display_name": "Python 3",
      "language": "python",
      "name": "python3"
    },
    "language_info": {
      "codemirror_mode": {
        "name": "ipython",
        "version": 3
      },
      "file_extension": ".py",
      "mimetype": "text/x-python",
      "name": "python",
      "nbconvert_exporter": "python",
      "pygments_lexer": "ipython3",
      "version": "3.8.5"
    },
    "colab": {
      "provenance": [],
      "include_colab_link": true
    }
  },
  "nbformat": 4,
  "nbformat_minor": 0
}
