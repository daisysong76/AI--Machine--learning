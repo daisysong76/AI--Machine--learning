{
  "nbformat": 4,
  "nbformat_minor": 0,
  "metadata": {
    "colab": {
      "provenance": [],
      "authorship_tag": "ABX9TyPM97dBx5aX1QqPHrUL67wD",
      "include_colab_link": true
    },
    "kernelspec": {
      "name": "python3",
      "display_name": "Python 3"
    },
    "language_info": {
      "name": "python"
    }
  },
  "cells": [
    {
      "cell_type": "markdown",
      "metadata": {
        "id": "view-in-github",
        "colab_type": "text"
      },
      "source": [
        "<a href=\"https://colab.research.google.com/github/daisysong76/AI--Machine--learning/blob/main/Text_to_SQL_T5.ipynb\" target=\"_parent\"><img src=\"https://colab.research.google.com/assets/colab-badge.svg\" alt=\"Open In Colab\"/></a>"
      ]
    },
    {
      "cell_type": "markdown",
      "source": [
        "Natural Language Query Parsing:\n",
        "Use a pre-trained LLM (e.g., OpenAI GPT or Hugging Face T5) to convert user queries into SQL statements.\n",
        "\n",
        "\n",
        "Database Schema Understanding:\n",
        "Dynamically retrieve the schema of the connected database to ensure SQL generation aligns with database structure.\n",
        "\n",
        "\n",
        "Feedback Loop for Query Optimization:\n",
        "Implement real-time query evaluation and refinement based on database execution results.\n",
        "\n",
        "\n",
        "Fine-tuned Model:\n",
        "Fine-tune a pre-trained model (e.g., T5 or Codex) on a Text-to-SQL dataset like Spider to improve domain-specific query translation.\n"
      ],
      "metadata": {
        "id": "VfTNXez83iee"
      }
    },
    {
      "cell_type": "code",
      "source": [
        "pip install transformers psycopg2 pandas openai\n"
      ],
      "metadata": {
        "id": "HmF-bWkI3kvC"
      },
      "execution_count": null,
      "outputs": []
    },
    {
      "cell_type": "code",
      "source": [
        "import psycopg2\n",
        "\n",
        "def get_db_schema(connection):\n",
        "    query = \"\"\"\n",
        "    SELECT table_name, column_name, data_type\n",
        "    FROM information_schema.columns\n",
        "    WHERE table_schema = 'public';\n",
        "    \"\"\"\n",
        "    cursor = connection.cursor()\n",
        "    cursor.execute(query)\n",
        "    schema = cursor.fetchall()\n",
        "    cursor.close()\n",
        "    return schema\n",
        "\n",
        "# Connect to PostgreSQL\n",
        "connection = psycopg2.connect(\n",
        "    dbname=\"your_database\",\n",
        "    user=\"your_user\",\n",
        "    password=\"your_password\",\n",
        "    host=\"localhost\",\n",
        "    port=\"5432\"\n",
        ")\n",
        "schema = get_db_schema(connection)\n",
        "print(\"Database Schema:\", schema)\n"
      ],
      "metadata": {
        "id": "_m4AY1TJ3r99"
      },
      "execution_count": null,
      "outputs": []
    },
    {
      "cell_type": "code",
      "source": [
        "from transformers import pipeline\n",
        "\n",
        "# Load a pre-trained Text-to-SQL model\n",
        "generator = pipeline(\"text2text-generation\", model=\"t5-small\")\n",
        "\n",
        "def generate_sql(query, schema):\n",
        "    schema_str = \"\\n\".join([f\"{table}.{column}\" for table, column, _ in schema])\n",
        "    input_text = f\"Schema: {schema_str}\\nQuery: {query}\\nSQL:\"\n",
        "    sql = generator(input_text, max_length=128, num_return_sequences=1)\n",
        "    return sql[0]['generated_text']\n",
        "\n",
        "user_query = \"Show me the names of customers who made purchases over $500.\"\n",
        "sql_query = generate_sql(user_query, schema)\n",
        "print(\"Generated SQL:\", sql_query)\n"
      ],
      "metadata": {
        "id": "JSxubTNA3w-s"
      },
      "execution_count": null,
      "outputs": []
    },
    {
      "cell_type": "code",
      "source": [
        "def execute_sql(connection, sql_query):\n",
        "    cursor = connection.cursor()\n",
        "    try:\n",
        "        cursor.execute(sql_query)\n",
        "        results = cursor.fetchall()\n",
        "        return results\n",
        "    except Exception as e:\n",
        "        print(\"Error executing query:\", e)\n",
        "    finally:\n",
        "        cursor.close()\n",
        "\n",
        "results = execute_sql(connection, sql_query)\n",
        "print(\"Query Results:\", results)\n"
      ],
      "metadata": {
        "id": "NxJH6vBF32It"
      },
      "execution_count": null,
      "outputs": []
    },
    {
      "cell_type": "code",
      "source": [
        "def refine_sql(user_query, sql_query, feedback):\n",
        "    # Append feedback to fine-tuning dataset\n",
        "    with open(\"fine_tuning_data.txt\", \"a\") as file:\n",
        "        file.write(f\"Query: {user_query}\\nSQL: {sql_query}\\nFeedback: {feedback}\\n\\n\")\n",
        "    print(\"Feedback saved for refinement.\")\n",
        "\n",
        "refine_sql(user_query, sql_query, \"SQL syntax error: column name mismatch.\")\n"
      ],
      "metadata": {
        "id": "sN4XPLih34l1"
      },
      "execution_count": null,
      "outputs": []
    },
    {
      "cell_type": "code",
      "source": [
        "python run_seq2seq.py \\\n",
        "    --model_name_or_path t5-small \\\n",
        "    --do_train \\\n",
        "    --train_file fine_tuning_data.json \\\n",
        "    --output_dir text_to_sql_model \\\n",
        "    --num_train_epochs 3 \\\n",
        "    --per_device_train_batch_size 8\n"
      ],
      "metadata": {
        "id": "tAIbtWtJ37XA"
      },
      "execution_count": null,
      "outputs": []
    },
    {
      "cell_type": "code",
      "source": [],
      "metadata": {
        "id": "4PBhtbt93_OP"
      },
      "execution_count": null,
      "outputs": []
    },
    {
      "cell_type": "markdown",
      "source": [
        "Additional Enhancements\n",
        "Front-End Interface:\n",
        "Build a simple UI using Flask or FastAPI to accept user queries and display SQL results.\n",
        "\n",
        "Context Awareness:\n",
        "Maintain query context for multi-step user interactions (e.g., follow-up questions).\n",
        "\n",
        "Caching and Optimization:\n",
        "Cache frequently executed queries to reduce latency."
      ],
      "metadata": {
        "id": "raRIuDud3_cT"
      }
    }
  ]
}