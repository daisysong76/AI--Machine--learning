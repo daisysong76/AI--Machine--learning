{
  "cells": [
    {
      "cell_type": "markdown",
      "metadata": {
        "id": "view-in-github",
        "colab_type": "text"
      },
      "source": [
        "<a href=\"https://colab.research.google.com/github/daisysong76/AI--Machine--learning/blob/main/pruning_learning_start.ipynb\" target=\"_parent\"><img src=\"https://colab.research.google.com/assets/colab-badge.svg\" alt=\"Open In Colab\"/></a>"
      ]
    },
    {
      "cell_type": "markdown",
      "metadata": {
        "id": "6RWxX5PodphD"
      },
      "source": [
        "\n",
        "# Pruning Quickstart\n",
        "\n",
        "Model pruning is a technique to reduce the model size and computation by reducing model weight size or intermediate state size.\n",
        "There are three common practices for pruning a DNN model:\n",
        "\n",
        "#. Pre-training a model -> Pruning the model -> Fine-tuning the pruned model\n",
        "#. Pruning a model during training (i.e., pruning aware training) -> Fine-tuning the pruned model\n",
        "#. Pruning a model -> Training the pruned model from scratch\n",
        "\n",
        "NNI supports all of the above pruning practices by working on the key pruning stage.\n",
        "Following this tutorial for a quick look at how to use NNI to prune a model in a common practice.\n"
      ]
    },
    {
      "cell_type": "markdown",
      "metadata": {
        "id": "sxVEHXRedphE"
      },
      "source": [
        "## Preparation\n",
        "\n",
        "In this tutorial, we use a simple model and pre-trained on MNIST dataset.\n",
        "If you are familiar with defining a model and training in pytorch, you can skip directly to `Pruning Model`_.\n",
        "\n"
      ]
    },
    {
      "cell_type": "code",
      "execution_count": null,
      "metadata": {
        "id": "_YKnFdQQdphF"
      },
      "outputs": [],
      "source": [
        "import torch\n",
        "import torch.nn.functional as F\n",
        "from torch.optim import SGD\n",
        "\n",
        "from nni_assets.compression.mnist_model import TorchModel, trainer, evaluator, device\n",
        "\n",
        "# define the model\n",
        "model = TorchModel().to(device)\n",
        "\n",
        "# show the model structure, note that pruner will wrap the model layer.\n",
        "print(model)"
      ]
    },
    {
      "cell_type": "code",
      "execution_count": null,
      "metadata": {
        "id": "TVSe-BPxdphF"
      },
      "outputs": [],
      "source": [
        "# define the optimizer and criterion for pre-training\n",
        "\n",
        "optimizer = SGD(model.parameters(), 1e-2)\n",
        "criterion = F.nll_loss\n",
        "\n",
        "# pre-train and evaluate the model on MNIST dataset\n",
        "for epoch in range(3):\n",
        "    trainer(model, optimizer, criterion)\n",
        "    evaluator(model)"
      ]
    },
    {
      "cell_type": "markdown",
      "metadata": {
        "id": "za8Gm8s3dphF"
      },
      "source": [
        "## Pruning Model\n",
        "\n",
        "Using L1NormPruner to prune the model and generate the masks.\n",
        "Usually, a pruner requires original model and ``config_list`` as its inputs.\n",
        "Detailed about how to write ``config_list`` please refer :doc:`compression config specification <../compression/config_list>`.\n",
        "\n",
        "The following `config_list` means all layers whose type is `Linear` or `Conv2d` will be pruned,\n",
        "except the layer named `fc3`, because `fc3` is `exclude`.\n",
        "The final sparsity ratio for each layer is 50%. The layer named `fc3` will not be pruned.\n",
        "\n"
      ]
    },
    {
      "cell_type": "code",
      "execution_count": null,
      "metadata": {
        "id": "Rgw6IVWqdphG"
      },
      "outputs": [],
      "source": [
        "config_list = [{\n",
        "    'op_types': ['Linear', 'Conv2d'],\n",
        "    'exclude_op_names': ['fc3'],\n",
        "    'sparse_ratio': 0.5\n",
        "}]"
      ]
    },
    {
      "cell_type": "markdown",
      "metadata": {
        "id": "GJFwBuq0dphG"
      },
      "source": [
        "Pruners usually require `model` and `config_list` as input arguments.\n",
        "\n"
      ]
    },
    {
      "cell_type": "code",
      "execution_count": null,
      "metadata": {
        "id": "VzpG8IaqdphG"
      },
      "outputs": [],
      "source": [
        "from nni.compression.pruning import L1NormPruner\n",
        "pruner = L1NormPruner(model, config_list)\n",
        "\n",
        "# show the wrapped model structure, `PrunerModuleWrapper` have wrapped the layers that configured in the config_list.\n",
        "print(model)"
      ]
    },
    {
      "cell_type": "code",
      "execution_count": null,
      "metadata": {
        "id": "2CXXb34pdphG"
      },
      "outputs": [],
      "source": [
        "# compress the model and generate the masks\n",
        "_, masks = pruner.compress()\n",
        "# show the masks sparsity\n",
        "for name, mask in masks.items():\n",
        "    print(name, ' sparsity : ', '{:.2}'.format(mask['weight'].sum() / mask['weight'].numel()))"
      ]
    },
    {
      "cell_type": "markdown",
      "metadata": {
        "id": "D7z9M5HBdphG"
      },
      "source": [
        "Speedup the original model with masks, note that `ModelSpeedup` requires an unwrapped model.\n",
        "The model becomes smaller after speedup,\n",
        "and reaches a higher sparsity ratio because `ModelSpeedup` will propagate the masks across layers.\n",
        "\n"
      ]
    },
    {
      "cell_type": "code",
      "execution_count": null,
      "metadata": {
        "id": "myT_iPHgdphG"
      },
      "outputs": [],
      "source": [
        "# need to unwrap the model, if the model is wrapped before speedup\n",
        "pruner.unwrap_model()\n",
        "\n",
        "# speedup the model, for more information about speedup, please refer :doc:`pruning_speedup`.\n",
        "from nni.compression.speedup import ModelSpeedup\n",
        "\n",
        "ModelSpeedup(model, torch.rand(3, 1, 28, 28).to(device), masks).speedup_model()"
      ]
    },
    {
      "cell_type": "markdown",
      "metadata": {
        "id": "yhW-PocWdphH"
      },
      "source": [
        "the model will become real smaller after speedup\n",
        "\n"
      ]
    },
    {
      "cell_type": "code",
      "execution_count": null,
      "metadata": {
        "id": "hMYbnsF1dphH"
      },
      "outputs": [],
      "source": [
        "print(model)"
      ]
    },
    {
      "cell_type": "markdown",
      "metadata": {
        "id": "EmnoFH-mdphH"
      },
      "source": [
        "## Fine-tuning Compacted Model\n",
        "Note that if the model has been sped up, you need to re-initialize a new optimizer for fine-tuning.\n",
        "Because speedup will replace the masked big layers with dense small ones.\n",
        "\n"
      ]
    },
    {
      "cell_type": "code",
      "execution_count": null,
      "metadata": {
        "id": "nBYqboeIdphH"
      },
      "outputs": [],
      "source": [
        "optimizer = SGD(model.parameters(), 1e-2)\n",
        "for epoch in range(3):\n",
        "    trainer(model, optimizer, criterion)"
      ]
    }
  ],
  "metadata": {
    "kernelspec": {
      "display_name": "Python 3",
      "language": "python",
      "name": "python3"
    },
    "language_info": {
      "codemirror_mode": {
        "name": "ipython",
        "version": 3
      },
      "file_extension": ".py",
      "mimetype": "text/x-python",
      "name": "python",
      "nbconvert_exporter": "python",
      "pygments_lexer": "ipython3",
      "version": "3.10.11"
    },
    "colab": {
      "provenance": [],
      "include_colab_link": true
    }
  },
  "nbformat": 4,
  "nbformat_minor": 0
}