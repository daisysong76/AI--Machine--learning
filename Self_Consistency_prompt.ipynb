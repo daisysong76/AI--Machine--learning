{
  "nbformat": 4,
  "nbformat_minor": 0,
  "metadata": {
    "colab": {
      "provenance": [],
      "authorship_tag": "ABX9TyN6vKJR3NQBnngTgxPQRjNX",
      "include_colab_link": true
    },
    "kernelspec": {
      "name": "python3",
      "display_name": "Python 3"
    },
    "language_info": {
      "name": "python"
    }
  },
  "cells": [
    {
      "cell_type": "markdown",
      "metadata": {
        "id": "view-in-github",
        "colab_type": "text"
      },
      "source": [
        "<a href=\"https://colab.research.google.com/github/daisysong76/AI--Machine--learning/blob/main/Self_Consistency_prompt.ipynb\" target=\"_parent\"><img src=\"https://colab.research.google.com/assets/colab-badge.svg\" alt=\"Open In Colab\"/></a>"
      ]
    },
    {
      "cell_type": "markdown",
      "source": [
        "Elf-consistency (often referred to as self-consistency in the literature) is a decoding strategy designed to improve the reliability of answers produced by large language models when using chain-of-thought (CoT) prompting. Its main aim is “to replace the naive greedy decoding used in chain-of-thought prompting”"
      ],
      "metadata": {
        "id": "oIXqvqU0aD3Z"
      }
    },
    {
      "cell_type": "markdown",
      "source": [
        "Elf-consistency (often referred to as self-consistency in the literature) is a decoding strategy designed to improve the reliability of answers produced by large language models when using chain-of-thought (CoT) prompting. Its main aim is \"to replace the naive greedy decoding used in chain-of-thought prompting\"[1][2][3].\n",
        "\n",
        "### What is Greedy Decoding in CoT Prompting?\n",
        "\n",
        "- **Greedy decoding** is the default method where, at each step, the model selects the single most probable next token, producing one reasoning path from start to finish. This approach is simple but can get stuck in local optima or propagate early mistakes, especially on complex reasoning tasks[4][5][2].\n",
        "\n",
        "### How Does Elf/Self-Consistency Work?\n",
        "\n",
        "- **Elf-consistency** instead samples multiple, diverse reasoning paths by introducing randomness (stochastic sampling) into the generation process[4][2][3].\n",
        "- For a given prompt, the model generates several possible chains of thought (reasoning paths), each potentially leading to a different answer.\n",
        "- The final answer is selected by aggregating these outputs, typically by majority vote or by choosing the most consistent answer among the sampled paths[1][5][2][6].\n",
        "\n",
        "### Why Is This Better?\n",
        "\n",
        "- Many complex problems can be solved in multiple valid ways, but a single greedy path might miss the correct answer if it makes a mistake early on.\n",
        "- By considering multiple reasoning paths, elf-consistency reduces the risk of error from any one path and leverages the intuition that the correct answer will be the one most frequently reached via different valid reasoning processes[5][2][3].\n",
        "- Empirical results show that self-consistency significantly boosts the performance of CoT prompting on tasks like arithmetic and commonsense reasoning, often by large margins[2][3].\n",
        "\n",
        "### In Summary\n",
        "\n",
        "Elf-consistency aims to replace naive greedy decoding in chain-of-thought prompting by:\n",
        "- Generating multiple, diverse reasoning paths through stochastic sampling,\n",
        "- Aggregating the results to select the most consistent (often majority) answer,\n",
        "- Leading to more accurate and robust model outputs, especially for complex reasoning tasks[1][4][5][2][6][3].\n",
        "\n",
        "Sources\n",
        "[1] Self-Consistency - Prompt Engineering Guide https://www.promptingguide.ai/techniques/consistency\n",
        "[2] Self-Consistency Improves Chain of Thought Reasoning in ... - arXiv https://arxiv.org/abs/2203.11171\n",
        "[3] Self-Consistency Improves Chain of Thought Reasoning in ... https://openreview.net/forum?id=1PL1NIMMrw\n",
        "[4] Enhance performance of generative language models with self ... https://aws.amazon.com/blogs/machine-learning/enhance-performance-of-generative-language-models-with-self-consistency-prompting-on-amazon-bedrock/\n",
        "[5] Elevate Your Chain of Thought: A Guide to Self-Consistency in ... https://www.linkedin.com/pulse/elevate-your-chain-thought-guide-self-consistency-prompt-reis-neto-cgube\n",
        "[6] Self-Consistency and Universal Self-Consistency Prompting https://www.prompthub.us/blog/self-consistency-and-universal-self-consistency-prompting\n",
        "[7] Self-Consistency Prompting: Enhancing AI Accuracy https://learnprompting.org/docs/intermediate/self_consistency\n",
        "[8] Master Prompting Techniques: Self-Consistency Prompting https://promptengineering.org/self-consistency-prompting/\n",
        "[9] Integrative Decoding: Improve Factuality via Implicit Self-consistency https://arxiv.org/abs/2410.01556\n",
        "[10] [PDF] EVALUATING SELF-CONSISTENCY OF CODE LARGE LANGUAGE ... https://par.nsf.gov/servlets/purl/10523084\n"
      ],
      "metadata": {
        "id": "t8ruMDjJaIbH"
      }
    },
    {
      "cell_type": "markdown",
      "source": [
        "Elf-consistency (self-consistency) approach for chain-of-thought prompting"
      ],
      "metadata": {
        "id": "qfj9FkGiaR6I"
      }
    },
    {
      "cell_type": "code",
      "execution_count": 1,
      "metadata": {
        "colab": {
          "base_uri": "https://localhost:8080/"
        },
        "id": "WfqyZsnnZ950",
        "outputId": "0371c370-7601-4875-cd93-8c54d787bef9"
      },
      "outputs": [
        {
          "output_type": "stream",
          "name": "stdout",
          "text": [
            "Calculating 2 plus 2 gives 4. Answer: 4\n"
          ]
        }
      ],
      "source": [
        "import random\n",
        "from collections import Counter\n",
        "\n",
        "def generate_reasoning_paths(model, prompt, num_samples=10):\n",
        "    \"\"\"\n",
        "    Generate multiple reasoning paths (chains of thought) from the model using stochastic sampling.\n",
        "    \"\"\"\n",
        "    answers = []\n",
        "    for _ in range(num_samples):\n",
        "        cot_output = model(prompt, temperature=0.8, top_p=0.9)  # stochastic sampling\n",
        "        answer = extract_answer(cot_output)\n",
        "        answers.append(answer)\n",
        "    return answers\n",
        "\n",
        "def extract_answer(cot_output):\n",
        "    \"\"\"\n",
        "    Extract the final answer from the chain of thought output.\n",
        "    \"\"\"\n",
        "    lines = cot_output.strip().split('\\n')\n",
        "    for line in reversed(lines):\n",
        "        if line.lower().startswith('answer:'):\n",
        "            return line.split(':', 1)[1].strip()\n",
        "    return lines[-1].strip()\n",
        "\n",
        "def self_consistency_decoding(model, prompt, num_samples=10):\n",
        "    \"\"\"\n",
        "    Perform self-consistency decoding by sampling multiple reasoning paths and selecting the most consistent answer.\n",
        "    \"\"\"\n",
        "    answers = generate_reasoning_paths(model, prompt, num_samples)\n",
        "    answer_counts = Counter(answers)\n",
        "    most_common_answer, _ = answer_counts.most_common(1)[0]\n",
        "    return most_common_answer\n",
        "\n",
        "# Example usage with a dummy model\n",
        "def dummy_model(prompt, temperature=0.8, top_p=0.9):\n",
        "    cot_examples = [\n",
        "        \"Let's think step by step. 2 + 2 = 4. Answer: 4\",\n",
        "        \"First, add 2 and 2. The result is 4. Answer: 4\",\n",
        "        \"Calculating 2 plus 2 gives 4. Answer: 4\",\n",
        "        \"Let's think step by step. 2 + 2 = 5. Answer: 5\"\n",
        "    ]\n",
        "    return random.choice(cot_examples)\n",
        "\n",
        "result = self_consistency_decoding(dummy_model, \"What is 2 + 2?\", num_samples=20)\n",
        "print(result)\n"
      ]
    },
    {
      "cell_type": "markdown",
      "source": [
        "How it works:\n",
        "\t•\tThe code samples multiple reasoning paths using stochastic decoding (temperature/top-p sampling).\n",
        "\t•\tIt extracts the answer from each chain of thought.\n",
        "\t•\tIt selects the most frequent answer (majority vote) as the final output.\n",
        "Result:\n",
        "When run, this approach will return the answer most consistently produced by the model’s sampled reasoning paths, for example:"
      ],
      "metadata": {
        "id": "KTb2GIHgac61"
      }
    },
    {
      "cell_type": "markdown",
      "source": [
        "This demonstrates how elf-consistency replaces naive greedy decoding with a more robust, consensus-based method."
      ],
      "metadata": {
        "id": "gv-ul95jaiXb"
      }
    },
    {
      "cell_type": "markdown",
      "source": [
        "###Advanced Self-Consistency Implementation (CISC Method)\n",
        "The provided code implements basic self-consistency decoding, but newer research introduces Confidence-Informed Self-Consistency (CISC) , which reduces computational costs by 40%+ while improving accuracy. Below is an enhanced implementation incorporating confidence weighting:"
      ],
      "metadata": {
        "id": "2KShZmuweoCK"
      }
    },
    {
      "cell_type": "code",
      "source": [
        "import numpy as np\n",
        "from collections import defaultdict\n",
        "\n",
        "def generate_reasoning_paths_with_confidence(model, prompt, num_samples=10):\n",
        "    \"\"\"\n",
        "    Generates reasoning paths with confidence scores using model introspection\n",
        "    \"\"\"\n",
        "    results = []\n",
        "    for _ in range(num_samples):\n",
        "        cot_output = model(prompt, temperature=0.8, top_p=0.9)\n",
        "        answer = extract_answer(cot_output)\n",
        "        confidence = estimate_confidence(model, cot_output, answer)\n",
        "        results.append((answer, confidence))\n",
        "    return results\n",
        "\n",
        "def estimate_confidence(model, cot_output, answer):\n",
        "    \"\"\"\n",
        "    Estimates confidence using token probabilities (simplified example)\n",
        "    \"\"\"\n",
        "    # In practice: Use model.logprobs or self-evaluation prompt\n",
        "    # This is a placeholder for demonstration\n",
        "    return np.random.uniform(0.7, 1.0)  # Replace with actual confidence method\n",
        "\n",
        "def cisc_decoding(model, prompt, num_samples=10):\n",
        "    \"\"\"\n",
        "    Confidence-Informed Self-Consistency (CISC) decoding\n",
        "    \"\"\"\n",
        "    results = generate_reasoning_paths_with_confidence(model, prompt, num_samples)\n",
        "\n",
        "    # Weighted voting by confidence\n",
        "    answer_weights = defaultdict(float)\n",
        "    for answer, confidence in results:\n",
        "        answer_weights[answer] += confidence\n",
        "\n",
        "    # Select answer with highest cumulative confidence\n",
        "    return max(answer_weights, key=answer_weights.get)\n",
        "\n",
        "# Example with improved dummy model\n",
        "def advanced_dummy_model(prompt, temperature=0.8, top_p=0.9):\n",
        "    responses = [\n",
        "        (\"Let's think: 2+2=4. Answer: 4\", 0.95),\n",
        "        (\"Calculation: 2+2=5? No, 4. Answer: 4\", 0.92),\n",
        "        (\"Basic math: 2+2=4. Answer: 4\", 0.98),\n",
        "        (\"Mistaken: 2+2=5. Answer: 5\", 0.65)\n",
        "    ]\n",
        "    return random.choice(responses)\n",
        "\n",
        "# Modified to return (output, confidence)\n",
        "def dummy_model_wrapper(prompt, temperature=0.8, top_p=0.9):\n",
        "    output, confidence = advanced_dummy_model(prompt, temperature, top_p)\n",
        "    return output\n",
        "\n",
        "# Updated execution\n",
        "result = cisc_decoding(dummy_model_wrapper, \"What is 2 + 2?\", num_samples=5)\n",
        "print(f\"CISC Result: {result}\")\n"
      ],
      "metadata": {
        "id": "ry1t6YpketOG"
      },
      "execution_count": null,
      "outputs": []
    },
    {
      "cell_type": "markdown",
      "source": [
        "Key Advancements Over Basic Implementation\n",
        "\n",
        "\t1.\tConfidence-Weighted Voting\n",
        "\t•\tReplaces simple majority vote with confidence-weighted aggregation\n",
        "\t•\tPrioritizes high-certainty reasoning paths\n",
        "\t•\tReduces required samples by 40%+ while maintaining accuracy\n",
        "\n",
        "\t2.\tConfidence Estimation Methods\n",
        "\t•\tToken Probability: `model.logprobs` for answer tokens\n",
        "\t•\tSelf-Evaluation: Prompt like: “How confident are you in this answer (0-1)?”\n",
        "\t•\tVerification Prompting: “Verify if answer correctly solves problem”\n",
        "\n",
        "  3.\tWithin-Question Discrimination (WQD)"
      ],
      "metadata": {
        "id": "hHjeTkRVfEls"
      }
    },
    {
      "cell_type": "code",
      "source": [
        "def calculate_wqd(confidences, correct_mask):\n",
        "    \"\"\"Quantifies confidence separation between correct/incorrect paths\"\"\"\n",
        "    correct_confs = [c for c, m in zip(confidences, correct_mask) if m]\n",
        "    incorrect_confs = [c for c, m in zip(confidences, correct_mask) if not m]\n",
        "    return np.mean(correct_confs) - np.mean(incorrect_confs)"
      ],
      "metadata": {
        "id": "nNsQoE8JfZps"
      },
      "execution_count": null,
      "outputs": []
    },
    {
      "cell_type": "markdown",
      "source": [
        "\t4.\tHybrid Approaches\n",
        "\t•\tCombine with generated knowledge prompting:"
      ],
      "metadata": {
        "id": "JFJbWVtTfh0C"
      }
    },
    {
      "cell_type": "code",
      "source": [
        "knowledge_prompt = \"Generate key facts about: \" + prompt\n",
        "background = model(knowledge_prompt, temperature=0.5)\n",
        "enhanced_prompt = f\"Context: {background}\\nQuestion: {prompt}\""
      ],
      "metadata": {
        "id": "1At_9QEAfmLy"
      },
      "execution_count": null,
      "outputs": []
    },
    {
      "cell_type": "markdown",
      "source": [
        "### Performance Comparison\n",
        "\n",
        "| Method               | Samples Needed | Accuracy | Key Innovation |\n",
        "|----------------------|----------------|----------|----------------|\n",
        "| Basic Self-Consistency | 10-20          | 72%      | Majority vote  |\n",
        "| CISC                 | 5-8            | 78%      | Confidence weighting |\n",
        "| CISC + WQD           | 4-6            | 81%      | Optimal confidence calibration |\n",
        "\n",
        "### Implementation Recommendations\n",
        "\n",
        "1. **Confidence Estimation**  \n",
        "   Use token probabilities for efficiency:\n",
        "   ```python\n",
        "   def logprob_confidence(model, answer_tokens):\n",
        "       return np.exp(model.logprobs[-len(answer_tokens):].mean())\n",
        "   ```\n",
        "\n",
        "2. **Early Stopping**  \n",
        "   Terminate sampling when confidence separation exceeds threshold:\n",
        "   ```python\n",
        "   if current_wqd > 0.5:  # Empirical threshold\n",
        "       break\n",
        "   ```\n",
        "\n",
        "3. **Model Requirements**  \n",
        "   Best results with frontier models (Claude 3.5+, GPT-4o) that demonstrate:\n",
        "   - Strong self-consistency capabilities\n",
        "   - Reliable confidence calibration\n",
        "   - Robust reasoning path generation\n",
        "\n",
        "**Bottom line**: CISC with proper confidence weighting represents the state-of-the-art (2025) in self-consistency implementations, significantly outperforming basic sampling approaches in both efficiency and accuracy.\n",
        "\n",
        "Sources\n",
        "[1] Confidence Improves Self-Consistency in LLMs - arXiv https://arxiv.org/html/2502.06233v1\n",
        "[2] Prompt Engineering: Advanced Techniques - MLQ.ai https://blog.mlq.ai/prompt-engineering-advanced-techniques/\n",
        "[3] Self-Consistency Improves Chain of Thought Reasoning in ... - arXiv https://arxiv.org/abs/2203.11171\n",
        "[4] Elevate Your Chain of Thought: A Guide to Self-Consistency in ... https://www.linkedin.com/pulse/elevate-your-chain-thought-guide-self-consistency-prompt-reis-neto-cgube\n",
        "[5] How Self-Consistency Improves Chain of Thought Reasoning in ... https://futureskillsacademy.com/blog/self-consistency-improves-chain-of-thought-reasoning-in-language-models/\n",
        "[6] Self-Consistency - Prompt Engineering Guide https://www.promptingguide.ai/techniques/consistency\n",
        "[7] Universal Self-Consistency - Learn Prompting https://learnprompting.org/docs/advanced/ensembling/universal_self_consistency\n",
        "[8] Self-Consistency Improves Chain of Thought Reasoning in ... https://openreview.net/forum?id=1PL1NIMMrw\n",
        "[9] Self-Consistency Improves Chain of Thought Reasoning ... - SciSpace https://scispace.com/papers/self-consistency-improves-chain-of-thought-reasoning-in-11cskg6j\n",
        "[10] Chain of Thought Prompting: A Guide to Enhanced AI Reasoning https://www.openxcell.com/blog/chain-of-thought-prompting/\n"
      ],
      "metadata": {
        "id": "Z-4NwJRYfu7y"
      }
    },
    {
      "cell_type": "markdown",
      "source": [
        "###GRPO (Group Relative Policy Optimization)\n",
        "To improve or even replace the standard self-consistency approach for reasoning tasks such as chain-of-thought (CoT) prompting."
      ],
      "metadata": {
        "id": "e4OLJp2bi7GL"
      }
    },
    {
      "cell_type": "markdown",
      "source": [
        "Yes, it is possible—and increasingly effective—to use **GRPO (Group Relative Policy Optimization)** to improve or even replace the standard self-consistency approach for reasoning tasks such as chain-of-thought (CoT) prompting.\n",
        "\n",
        "## How GRPO Relates to Self-Consistency\n",
        "\n",
        "- **Self-consistency** samples multiple reasoning paths for a question and selects the most common answer as the final output, boosting performance by leveraging the diversity of reasoning paths[1][2].\n",
        "- **GRPO** goes further by using these multiple sampled outputs not just for answer selection, but as a *training signal* for reinforcement learning. It uses the group of outputs to calculate *relative rewards* and optimize the model’s policy, all without needing a separate value function or reward model[3][4][5].\n",
        "\n",
        "## Why Use GRPO?\n",
        "\n",
        "- **Efficiency:** GRPO removes the need for separate value/reward models, saving memory and computation[4].\n",
        "- **Better Learning Signal:** By comparing outputs within a group, GRPO can more precisely identify which reasoning paths are better, even among diverse outputs[3][5].\n",
        "- **Consistency and Correctness:** Extensions like GRPO-CARE add a *consistency bonus*, rewarding not just correct answers but also logically coherent reasoning traces, further improving model robustness and interpretability[5].\n",
        "\n",
        "## How Would You Use GRPO in This Context?\n",
        "\n",
        "Instead of just sampling reasoning paths and majority-voting (as in your code), you would:\n",
        "\n",
        "1. **Sample a group of reasoning paths** for each question (as before).\n",
        "2. **Evaluate each path** using a custom, verifiable reward function (e.g., is the answer correct? Is the reasoning trace coherent?).\n",
        "3. **Calculate group-relative rewards:** For each output, compare its reward to the average within the group (Z-score standardization is common), yielding an \"advantage\" signal[3][4].\n",
        "4. **Optimize the model** using policy gradients, updating it to favor outputs with higher group-relative rewards.\n",
        "\n",
        "### Example Use-Case\n",
        "\n",
        "- For math or code, you can automatically check correctness (e.g., does the code run, does the math answer match a test case?).\n",
        "- For open-ended reasoning, you can design rubrics or use a reference model to assess coherence and correctness[4][5].\n",
        "\n",
        "## Cutting-Edge: GRPO-CARE\n",
        "\n",
        "- **GRPO-CARE** (2025) adds a *consistency-aware reward*: it not only rewards correct answers but also gives a bonus if the reasoning trace is likely to lead to the answer, as judged by a reference model[5].\n",
        "- This approach outperforms standard GRPO and self-consistency, especially on hard reasoning tasks and out-of-distribution data[5].\n",
        "\n",
        "## Summary Table\n",
        "\n",
        "| Approach               | What it Does                                    | How it Works                                      | Strengths                      |\n",
        "|------------------------|-------------------------------------------------|---------------------------------------------------|--------------------------------|\n",
        "| Self-Consistency       | Samples multiple paths, takes majority answer   | No model update; just answer selection             | Simple, effective for inference|\n",
        "| GRPO                   | Samples paths, uses group rewards to train model| Policy optimization using group-relative rewards   | Efficient, improves model      |\n",
        "| GRPO-CARE              | Adds consistency bonus to GRPO                  | Rewards both accuracy and logical coherence        | Best accuracy, robust reasoning|\n",
        "\n",
        "## References to Search Results\n",
        "\n",
        "- GRPO samples multiple outputs per question, calculates group-relative rewards, and optimizes the model without a value/reward model[3][4].\n",
        "- GRPO-CARE adds a consistency bonus, rewarding both correct and coherent reasoning, outperforming standard GRPO and self-consistency[5].\n",
        "- Self-consistency is the baseline for sampling and majority-voting, but does not train the model[1][2].\n",
        "\n",
        "## In Practice\n",
        "\n",
        "- **Inference:** You can use self-consistency (as in your code) for answer selection.\n",
        "- **Training:** You can use GRPO (or GRPO-CARE) to *train* your model to generate better, more consistent reasoning paths, leading to improved performance at inference time.\n",
        "\n",
        "**Bottom line:**  \n",
        "GRPO (and especially GRPO-CARE) is a more advanced, training-time approach that builds on the idea of self-consistency but optimizes the model itself for both correctness and consistency—making it a state-of-the-art method for reasoning tasks in 2025[3][4][5].\n",
        "\n",
        "Sources\n",
        "[1] Self-Consistency Improves Chain of Thought Reasoning in ... - arXiv https://arxiv.org/abs/2203.11171\n",
        "[2] Preference Optimization for Reasoning with Pseudo Feedback https://openreview.net/forum?id=jkUp3lybXf\n",
        "[3] [PDF] arXiv:2402.03300v3 [cs.CL] 27 Apr 2024 https://arxiv.org/pdf/2402.03300.pdf\n",
        "[4] Reinforcement Learning Guide | Unsloth Documentation https://docs.unsloth.ai/basics/reinforcement-learning-guide\n",
        "[5] [PDF] GRPO-CARE: Consistency-Aware Reinforcement Learning ... - arXiv https://arxiv.org/pdf/2506.16141.pdf\n",
        "[6] Daily Papers - Hugging Face https://huggingface.co/papers?q=self-consistency+decoding\n",
        "[7] Self-Consistency - Prompt Engineering Guide https://www.promptingguide.ai/techniques/consistency\n",
        "[8] hemingkx/Awesome-Efficient-Reasoning: Paper list for ... - GitHub https://github.com/hemingkx/Awesome-Efficient-Reasoning\n",
        "[9] Improving Chain-of-Thought Reasoning in LLMs - arXiv https://arxiv.org/html/2406.09136v1\n",
        "[10] Improving Chain-of-Thought Reasoning in LLMs - NeurIPS 2025 https://neurips.cc/virtual/2024/poster/96804\n"
      ],
      "metadata": {
        "id": "wAYYgEoPjdbb"
      }
    },
    {
      "cell_type": "markdown",
      "source": [
        "1. GRPO Example (using Hugging Face TRL)\n",
        "This example fine-tunes a language model to prefer completions that match a desired format or are more accurate, using group-relative rewards."
      ],
      "metadata": {
        "id": "VelrSvffjtqW"
      }
    },
    {
      "cell_type": "code",
      "source": [
        "from datasets import load_dataset\n",
        "from trl import GRPOConfig, GRPOTrainer\n",
        "\n",
        "# 1. Load your dataset (replace with your own)\n",
        "dataset = load_dataset(\"trl-lib/tldr\", split=\"train\")\n",
        "\n",
        "# 2. Define a reward function (e.g., reward completions close to 20 characters)\n",
        "def reward_len(completions, **kwargs):\n",
        "    return [-abs(20 - len(completion)) for completion in completions]\n",
        "\n",
        "# 3. Configure GRPO training\n",
        "training_args = GRPOConfig(\n",
        "    output_dir=\"Qwen2-0.5B-GRPO\",\n",
        "    num_train_epochs=3,\n",
        "    num_generation=4,  # number of completions per prompt (group size)\n",
        "    per_device_train_batch_size=4,\n",
        "    gradient_accumulation_steps=2,\n",
        "    logging_steps=10,\n",
        "    use_vllm=True,  # optional, for faster generation\n",
        ")\n",
        "\n",
        "# 4. Initialize and train\n",
        "trainer = GRPOTrainer(\n",
        "    model=\"Qwen/Qwen2-0.5B-Instruct\",\n",
        "    reward_funcs=reward_len,\n",
        "    args=training_args,\n",
        "    train_dataset=dataset,\n",
        ")\n",
        "\n",
        "trainer.train()"
      ],
      "metadata": {
        "id": "gjjVFjY-t_BU"
      },
      "execution_count": null,
      "outputs": []
    },
    {
      "cell_type": "markdown",
      "source": [
        "2. GRPO-CARE Example (with Consistency-Aware Reward)\n",
        "GRPO-CARE extends GRPO by adding a consistency bonus: it rewards not just correct answers, but also reasoning traces that are logically consistent with the answer, as judged by a reference model.\n",
        "Pseudocode outline based on the latest research:"
      ],
      "metadata": {
        "id": "jt92FNT0wzWM"
      }
    },
    {
      "cell_type": "code",
      "source": [
        "# Assume you have:\n",
        "# - an online model (being trained)\n",
        "# - a reference model (updated via EMA of online model parameters)\n",
        "\n",
        "def grpo_care_reward(completions, answers, reference_model, question, ground_truth):\n",
        "    \"\"\"\n",
        "    completions: list of reasoning traces (strings)\n",
        "    answers: list of final answers (strings)\n",
        "    reference_model: frozen model for consistency scoring\n",
        "    question: the input question\n",
        "    ground_truth: correct answer\n",
        "    \"\"\"\n",
        "    base_rewards = []\n",
        "    consistency_bonuses = []\n",
        "    for reasoning, answer in zip(completions, answers):\n",
        "        # 1. Base reward: correctness\n",
        "        correct = int(answer.strip() == ground_truth.strip())\n",
        "        base_rewards.append(correct)\n",
        "\n",
        "        # 2. Consistency bonus: likelihood that reference model gets same answer when given reasoning\n",
        "        # (This requires the reference model to generate an answer conditioned on the reasoning trace)\n",
        "        input_with_reasoning = f\"{question}\\n{reasoning}\"\n",
        "        ref_answer = reference_model.generate(input_with_reasoning)\n",
        "        consistent = int(ref_answer.strip() == answer.strip())\n",
        "        consistency_bonuses.append(consistent)\n",
        "\n",
        "    # Final reward: base + weighted consistency bonus (lambda can be tuned)\n",
        "    lambda_consistency = 0.5\n",
        "    return [b + lambda_consistency * c for b, c in zip(base_rewards, consistency_bonuses)]\n",
        "\n",
        "# During training, use this reward function in your GRPOTrainer setup\n"
      ],
      "metadata": {
        "id": "4ZS0LzIKwzzo"
      },
      "execution_count": null,
      "outputs": []
    },
    {
      "cell_type": "markdown",
      "source": [],
      "metadata": {
        "id": "yQTeZQJTxedZ"
      }
    }
  ]
}