{
  "metadata": {
    "kernelspec": {
      "name": "python3",
      "display_name": "Python 3",
      "language": "python"
    },
    "language_info": {
      "name": "python",
      "version": "3.10.14",
      "mimetype": "text/x-python",
      "codemirror_mode": {
        "name": "ipython",
        "version": 3
      },
      "pygments_lexer": "ipython3",
      "nbconvert_exporter": "python",
      "file_extension": ".py"
    },
    "colab": {
      "toc_visible": true,
      "name": "Day 4 - Fine tuning a custom model",
      "provenance": [],
      "include_colab_link": true
    },
    "kaggle": {
      "accelerator": "none",
      "dataSources": [],
      "dockerImageVersionId": 30786,
      "isInternetEnabled": true,
      "language": "python",
      "sourceType": "notebook",
      "isGpuEnabled": false
    }
  },
  "nbformat_minor": 0,
  "nbformat": 4,
  "cells": [
    {
      "cell_type": "markdown",
      "metadata": {
        "id": "view-in-github",
        "colab_type": "text"
      },
      "source": [
        "<a href=\"https://colab.research.google.com/github/daisysong76/AI--Machine--learning/blob/main/Day_4_Fine_tuning_a_custom_model.ipynb\" target=\"_parent\"><img src=\"https://colab.research.google.com/assets/colab-badge.svg\" alt=\"Open In Colab\"/></a>"
      ]
    },
    {
      "cell_type": "markdown",
      "source": [
        "##### Copyright 2024 Google LLC."
      ],
      "metadata": {
        "id": "b6e13eef3f5d"
      }
    },
    {
      "cell_type": "code",
      "source": [
        "# @title Licensed under the Apache License, Version 2.0 (the \"License\");\n",
        "# you may not use this file except in compliance with the License.\n",
        "# You may obtain a copy of the License at\n",
        "#\n",
        "# https://www.apache.org/licenses/LICENSE-2.0\n",
        "#\n",
        "# Unless required by applicable law or agreed to in writing, software\n",
        "# distributed under the License is distributed on an \"AS IS\" BASIS,\n",
        "# WITHOUT WARRANTIES OR CONDITIONS OF ANY KIND, either express or implied.\n",
        "# See the License for the specific language governing permissions and\n",
        "# limitations under the License."
      ],
      "metadata": {
        "cellView": "form",
        "id": "d6597b11df14",
        "jupyter": {
          "source_hidden": true
        },
        "trusted": true,
        "execution": {
          "iopub.status.busy": "2024-11-14T03:23:58.909404Z",
          "iopub.execute_input": "2024-11-14T03:23:58.909977Z",
          "iopub.status.idle": "2024-11-14T03:23:58.933914Z",
          "shell.execute_reply.started": "2024-11-14T03:23:58.909929Z",
          "shell.execute_reply": "2024-11-14T03:23:58.932716Z"
        }
      },
      "outputs": [],
      "execution_count": null
    },
    {
      "cell_type": "markdown",
      "source": [
        "# Day 4 - Fine tuning a custom model\n",
        "\n",
        "Welcome back to the Kaggle 5-day Generative AI course!\n",
        "\n",
        "In this notebook you will use the Gemini API to fine-tune a custom, task-specific model. Fine-tuning can be used for a variety of tasks from classic NLP problems like entity extraction or summarisation, to creative tasks like stylised generation. You will fine-tune a model to classify the category a piece of text (a newsgroup post) into the category it belongs to (the newsgroup name).\n",
        "\n",
        "This codelab walks you tuning a model with the API. [AI Studio](https://aistudio.google.com/app/tune) also supports creating new tuned models directly in the web UI, allowing you to quickly create and monitor models using data from Google Sheets, Drive or your own files."
      ],
      "metadata": {
        "id": "4KDIFPAL2EnL"
      }
    },
    {
      "cell_type": "code",
      "source": [
        "%pip install -U -q 'google-generativeai>=0.8.3'"
      ],
      "metadata": {
        "id": "9wafTyEH1_xF",
        "trusted": true,
        "execution": {
          "iopub.status.busy": "2024-11-16T03:10:43.704065Z",
          "iopub.execute_input": "2024-11-16T03:10:43.704451Z",
          "iopub.status.idle": "2024-11-16T03:11:10.668654Z",
          "shell.execute_reply.started": "2024-11-16T03:10:43.704411Z",
          "shell.execute_reply": "2024-11-16T03:11:10.66722Z"
        },
        "outputId": "652e2289-7e43-4474-c4f1-4af630b927bc"
      },
      "outputs": [
        {
          "name": "stdout",
          "text": "Note: you may need to restart the kernel to use updated packages.\n",
          "output_type": "stream"
        }
      ],
      "execution_count": null
    },
    {
      "cell_type": "markdown",
      "source": [
        "Note that you do not have to restart the kernel."
      ],
      "metadata": {
        "id": "CEAc6XLN-Yh3"
      }
    },
    {
      "cell_type": "code",
      "source": [
        "import google.generativeai as genai"
      ],
      "metadata": {
        "id": "T0CBG9xL2PvT",
        "trusted": true,
        "execution": {
          "iopub.status.busy": "2024-11-16T03:11:20.441559Z",
          "iopub.execute_input": "2024-11-16T03:11:20.441961Z",
          "iopub.status.idle": "2024-11-16T03:11:21.576882Z",
          "shell.execute_reply.started": "2024-11-16T03:11:20.441922Z",
          "shell.execute_reply": "2024-11-16T03:11:21.5758Z"
        }
      },
      "outputs": [],
      "execution_count": null
    },
    {
      "cell_type": "markdown",
      "source": [
        "### Set up your API key\n",
        "\n",
        "To run the following cell, your API key must be stored it in a [Kaggle secret](https://www.kaggle.com/discussions/product-feedback/114053) named `GOOGLE_API_KEY`.\n",
        "\n",
        "If you don't already have an API key, you can grab one from [AI Studio](https://aistudio.google.com/app/apikey). You can find [detailed instructions in the docs](https://ai.google.dev/gemini-api/docs/api-key).\n",
        "\n",
        "To make the key available through Kaggle secrets, choose `Secrets` from the `Add-ons` menu and follow the instructions to add your key or enable it for this notebook."
      ],
      "metadata": {
        "id": "P4bYX2T72ScK"
      }
    },
    {
      "cell_type": "code",
      "source": [
        "from kaggle_secrets import UserSecretsClient\n",
        "\n",
        "GOOGLE_API_KEY = UserSecretsClient().get_secret(\"GOOGLE_API_KEY\")\n",
        "genai.configure(api_key=GOOGLE_API_KEY)"
      ],
      "metadata": {
        "id": "VuJPY3GK2SLZ",
        "trusted": true,
        "execution": {
          "iopub.status.busy": "2024-11-16T03:11:29.228662Z",
          "iopub.execute_input": "2024-11-16T03:11:29.229987Z",
          "iopub.status.idle": "2024-11-16T03:11:29.338934Z",
          "shell.execute_reply.started": "2024-11-16T03:11:29.229945Z",
          "shell.execute_reply": "2024-11-16T03:11:29.337615Z"
        }
      },
      "outputs": [],
      "execution_count": null
    },
    {
      "cell_type": "markdown",
      "source": [
        "If you received an error response along the lines of `No user secrets exist for kernel id ...`, then you need to add your API key via `Add-ons`, `Secrets` **and** enable it.\n",
        "\n",
        "![Screenshot of the checkbox to enable GOOGLE_API_KEY secret](https://storage.googleapis.com/kaggle-media/Images/5gdai_sc_3.png)"
      ],
      "metadata": {
        "id": "25b2127c2052"
      }
    },
    {
      "cell_type": "markdown",
      "source": [
        "### Explore available models\n",
        "\n",
        "You will be using the [`TunedModel.create`](https://ai.google.dev/api/tuning#method:-tunedmodels.create) API method to start the fine-tuning job and create your custom model. Find a model that supports it through the [`models.list`](https://ai.google.dev/api/models#method:-models.list) endpoint. You can also find more information about tuning models in [the model tuning docs](https://ai.google.dev/gemini-api/docs/model-tuning/tutorial?lang=python)."
      ],
      "metadata": {
        "id": "CqVA5QFO6n4z"
      }
    },
    {
      "cell_type": "code",
      "source": [
        "for model in genai.list_models():\n",
        "    if \"createTunedModel\" in model.supported_generation_methods:\n",
        "        print(model.name)"
      ],
      "metadata": {
        "id": "coEacWAB6o0G",
        "trusted": true,
        "execution": {
          "iopub.status.busy": "2024-11-16T03:11:45.2205Z",
          "iopub.execute_input": "2024-11-16T03:11:45.220925Z",
          "iopub.status.idle": "2024-11-16T03:11:45.418777Z",
          "shell.execute_reply.started": "2024-11-16T03:11:45.220885Z",
          "shell.execute_reply": "2024-11-16T03:11:45.417657Z"
        },
        "outputId": "7ed4020a-bf4f-4ed2-cd8d-30e92c65a46f"
      },
      "outputs": [
        {
          "name": "stdout",
          "text": "models/gemini-1.0-pro-001\nmodels/gemini-1.5-flash-001-tuning\n",
          "output_type": "stream"
        }
      ],
      "execution_count": null
    },
    {
      "cell_type": "markdown",
      "source": [
        "## Download the dataset\n",
        "\n",
        "In this activity, you will use the same newsgroups dataset that you used to train a classifier in Keras. In this example you will use a fine-tuned Gemini model to achieve the same goal.\n",
        "\n",
        "The [20 Newsgroups Text Dataset](https://scikit-learn.org/0.19/datasets/twenty_newsgroups.html) contains 18,000 newsgroups posts on 20 topics divided into training and test sets."
      ],
      "metadata": {
        "id": "peFm0w_0c1CO"
      }
    },
    {
      "cell_type": "code",
      "source": [
        "from sklearn.datasets import fetch_20newsgroups\n",
        "\n",
        "newsgroups_train = fetch_20newsgroups(subset=\"train\")\n",
        "newsgroups_test = fetch_20newsgroups(subset=\"test\")\n",
        "\n",
        "# View list of class names for dataset\n",
        "newsgroups_train.target_names"
      ],
      "metadata": {
        "id": "bX_kpgnQ9b-Z",
        "trusted": true,
        "execution": {
          "iopub.status.busy": "2024-11-16T03:11:50.869268Z",
          "iopub.execute_input": "2024-11-16T03:11:50.869678Z",
          "iopub.status.idle": "2024-11-16T03:12:02.10191Z",
          "shell.execute_reply.started": "2024-11-16T03:11:50.869643Z",
          "shell.execute_reply": "2024-11-16T03:12:02.100784Z"
        },
        "outputId": "064f4db4-9c12-4f27-e064-5bf1598db42d"
      },
      "outputs": [
        {
          "execution_count": 5,
          "output_type": "execute_result",
          "data": {
            "text/plain": "['alt.atheism',\n 'comp.graphics',\n 'comp.os.ms-windows.misc',\n 'comp.sys.ibm.pc.hardware',\n 'comp.sys.mac.hardware',\n 'comp.windows.x',\n 'misc.forsale',\n 'rec.autos',\n 'rec.motorcycles',\n 'rec.sport.baseball',\n 'rec.sport.hockey',\n 'sci.crypt',\n 'sci.electronics',\n 'sci.med',\n 'sci.space',\n 'soc.religion.christian',\n 'talk.politics.guns',\n 'talk.politics.mideast',\n 'talk.politics.misc',\n 'talk.religion.misc']"
          },
          "metadata": {}
        }
      ],
      "execution_count": null
    },
    {
      "cell_type": "markdown",
      "source": [
        "Here's what a single row looks like."
      ],
      "metadata": {
        "id": "ipafe6ptZFjt"
      }
    },
    {
      "cell_type": "code",
      "source": [
        "print(newsgroups_train.data[0])"
      ],
      "metadata": {
        "id": "EtEXcdT39hCB",
        "trusted": true,
        "execution": {
          "iopub.status.busy": "2024-11-16T03:12:17.418091Z",
          "iopub.execute_input": "2024-11-16T03:12:17.41852Z",
          "iopub.status.idle": "2024-11-16T03:12:17.424555Z",
          "shell.execute_reply.started": "2024-11-16T03:12:17.418478Z",
          "shell.execute_reply": "2024-11-16T03:12:17.423436Z"
        },
        "outputId": "35584cf9-c300-4da0-b2f8-871ae3f6a576"
      },
      "outputs": [
        {
          "name": "stdout",
          "text": "From: lerxst@wam.umd.edu (where's my thing)\nSubject: WHAT car is this!?\nNntp-Posting-Host: rac3.wam.umd.edu\nOrganization: University of Maryland, College Park\nLines: 15\n\n I was wondering if anyone out there could enlighten me on this car I saw\nthe other day. It was a 2-door sports car, looked to be from the late 60s/\nearly 70s. It was called a Bricklin. The doors were really small. In addition,\nthe front bumper was separate from the rest of the body. This is \nall I know. If anyone can tellme a model name, engine specs, years\nof production, where this car is made, history, or whatever info you\nhave on this funky looking car, please e-mail.\n\nThanks,\n- IL\n   ---- brought to you by your neighborhood Lerxst ----\n\n\n\n\n\n",
          "output_type": "stream"
        }
      ],
      "execution_count": null
    },
    {
      "cell_type": "markdown",
      "source": [
        "## Prepare the dataset\n",
        "\n",
        "You'll use the same pre-processing code you used for the custom model on day 2. This pre-processing removes personal information, which can be used to \"shortcut\" to known users of a forum, and formats the text to appear a bit more like regular text and less like a newsgroup post (e.g. by removing the mail headers). This normalisation allows the model to generalise to regular text and not over-depend on specific fields. If your input data is always going to be newsgroup posts, it may be helpful to leave this structure in place if they provide genuine signals."
      ],
      "metadata": {
        "id": "03lDs1O4ZQ0-"
      }
    },
    {
      "cell_type": "code",
      "source": [
        "import email\n",
        "import re\n",
        "\n",
        "import pandas as pd\n",
        "\n",
        "\n",
        "def preprocess_newsgroup_row(data):\n",
        "    # Extract only the subject and body\n",
        "    msg = email.message_from_string(data)\n",
        "    text = f\"{msg['Subject']}\\n\\n{msg.get_payload()}\"\n",
        "    # Strip any remaining email addresses\n",
        "    text = re.sub(r\"[\\w\\.-]+@[\\w\\.-]+\", \"\", text)\n",
        "    # Truncate the text to fit within the input limits\n",
        "    text = text[:40000]\n",
        "\n",
        "    return text\n",
        "\n",
        "\n",
        "def preprocess_newsgroup_data(newsgroup_dataset):\n",
        "    # Put data points into dataframe\n",
        "    df = pd.DataFrame(\n",
        "        {\"Text\": newsgroup_dataset.data, \"Label\": newsgroup_dataset.target}\n",
        "    )\n",
        "    # Clean up the text\n",
        "    df[\"Text\"] = df[\"Text\"].apply(preprocess_newsgroup_row)\n",
        "    # Match label to target name index\n",
        "    df[\"Class Name\"] = df[\"Label\"].map(lambda l: newsgroup_dataset.target_names[l])\n",
        "\n",
        "    return df"
      ],
      "metadata": {
        "id": "IoNYTxpoZgB0",
        "trusted": true,
        "execution": {
          "iopub.status.busy": "2024-11-16T03:12:23.551682Z",
          "iopub.execute_input": "2024-11-16T03:12:23.552092Z",
          "iopub.status.idle": "2024-11-16T03:12:23.976533Z",
          "shell.execute_reply.started": "2024-11-16T03:12:23.552054Z",
          "shell.execute_reply": "2024-11-16T03:12:23.975622Z"
        }
      },
      "outputs": [],
      "execution_count": null
    },
    {
      "cell_type": "code",
      "source": [
        "# Apply preprocessing to training and test datasets\n",
        "df_train = preprocess_newsgroup_data(newsgroups_train)\n",
        "df_test = preprocess_newsgroup_data(newsgroups_test)\n",
        "\n",
        "df_train.head()"
      ],
      "metadata": {
        "id": "kvOsUSRWaW4g",
        "trusted": true,
        "execution": {
          "iopub.status.busy": "2024-11-16T03:12:31.909084Z",
          "iopub.execute_input": "2024-11-16T03:12:31.909704Z",
          "iopub.status.idle": "2024-11-16T03:12:35.864627Z",
          "shell.execute_reply.started": "2024-11-16T03:12:31.909664Z",
          "shell.execute_reply": "2024-11-16T03:12:35.863593Z"
        },
        "outputId": "ad1cdc9d-80d4-4a93-c39b-ef8833705cbc"
      },
      "outputs": [
        {
          "execution_count": 8,
          "output_type": "execute_result",
          "data": {
            "text/plain": "                                                Text  Label  \\\n0  WHAT car is this!?\\n\\n I was wondering if anyo...      7   \n1  SI Clock Poll - Final Call\\n\\nA fair number of...      4   \n2  PB questions...\\n\\nwell folks, my mac plus fin...      4   \n3  Re: Weitek P9000 ?\\n\\nRobert J.C. Kyanko () wr...      1   \n4  Re: Shuttle Launch Question\\n\\nFrom article <>...     14   \n\n              Class Name  \n0              rec.autos  \n1  comp.sys.mac.hardware  \n2  comp.sys.mac.hardware  \n3          comp.graphics  \n4              sci.space  ",
            "text/html": "<div>\n<style scoped>\n    .dataframe tbody tr th:only-of-type {\n        vertical-align: middle;\n    }\n\n    .dataframe tbody tr th {\n        vertical-align: top;\n    }\n\n    .dataframe thead th {\n        text-align: right;\n    }\n</style>\n<table border=\"1\" class=\"dataframe\">\n  <thead>\n    <tr style=\"text-align: right;\">\n      <th></th>\n      <th>Text</th>\n      <th>Label</th>\n      <th>Class Name</th>\n    </tr>\n  </thead>\n  <tbody>\n    <tr>\n      <th>0</th>\n      <td>WHAT car is this!?\\n\\n I was wondering if anyo...</td>\n      <td>7</td>\n      <td>rec.autos</td>\n    </tr>\n    <tr>\n      <th>1</th>\n      <td>SI Clock Poll - Final Call\\n\\nA fair number of...</td>\n      <td>4</td>\n      <td>comp.sys.mac.hardware</td>\n    </tr>\n    <tr>\n      <th>2</th>\n      <td>PB questions...\\n\\nwell folks, my mac plus fin...</td>\n      <td>4</td>\n      <td>comp.sys.mac.hardware</td>\n    </tr>\n    <tr>\n      <th>3</th>\n      <td>Re: Weitek P9000 ?\\n\\nRobert J.C. Kyanko () wr...</td>\n      <td>1</td>\n      <td>comp.graphics</td>\n    </tr>\n    <tr>\n      <th>4</th>\n      <td>Re: Shuttle Launch Question\\n\\nFrom article &lt;&gt;...</td>\n      <td>14</td>\n      <td>sci.space</td>\n    </tr>\n  </tbody>\n</table>\n</div>"
          },
          "metadata": {}
        }
      ],
      "execution_count": null
    },
    {
      "cell_type": "markdown",
      "source": [
        "Now sample the data. You will keep 50 rows for each category for training. Note that this is even fewer than the Keras example, as this technique (parameter-efficient fine-tuning, or PEFT) updates a relatively small number of parameters and does not require training a new model or updating the large model."
      ],
      "metadata": {
        "id": "XSKcj5WtadaR"
      }
    },
    {
      "cell_type": "code",
      "source": [
        "def sample_data(df, num_samples, classes_to_keep):\n",
        "    # Sample rows, selecting num_samples of each Label.\n",
        "    df = (\n",
        "        df.groupby(\"Label\")[df.columns]\n",
        "        .apply(lambda x: x.sample(num_samples))\n",
        "        .reset_index(drop=True)\n",
        "    )\n",
        "\n",
        "    df = df[df[\"Class Name\"].str.contains(classes_to_keep)]\n",
        "    df[\"Class Name\"] = df[\"Class Name\"].astype(\"category\")\n",
        "\n",
        "    return df\n",
        "\n",
        "\n",
        "TRAIN_NUM_SAMPLES = 50\n",
        "TEST_NUM_SAMPLES = 10\n",
        "# Keep rec.* and sci.*\n",
        "CLASSES_TO_KEEP = \"^rec|^sci\"\n",
        "\n",
        "df_train = sample_data(df_train, TRAIN_NUM_SAMPLES, CLASSES_TO_KEEP)\n",
        "df_test = sample_data(df_test, TEST_NUM_SAMPLES, CLASSES_TO_KEEP)"
      ],
      "metadata": {
        "id": "0t9Xu6X5akkt",
        "trusted": true,
        "execution": {
          "iopub.status.busy": "2024-11-16T03:12:56.312331Z",
          "iopub.execute_input": "2024-11-16T03:12:56.312821Z",
          "iopub.status.idle": "2024-11-16T03:12:56.364823Z",
          "shell.execute_reply.started": "2024-11-16T03:12:56.312782Z",
          "shell.execute_reply": "2024-11-16T03:12:56.363319Z"
        }
      },
      "outputs": [],
      "execution_count": null
    },
    {
      "cell_type": "markdown",
      "source": [
        "## Evaluate baseline performance\n",
        "\n",
        "Before you start tuning a model, it's good practice to perform an evaluation on the available models to ensure you can measure how much the tuning helps.\n",
        "\n",
        "First identify a single sample row to use for visual inspection."
      ],
      "metadata": {
        "id": "m2zBBqrg-Yh8"
      }
    },
    {
      "cell_type": "code",
      "source": [
        "sample_idx = 0\n",
        "sample_row = preprocess_newsgroup_row(newsgroups_test.data[sample_idx])\n",
        "sample_label = newsgroups_test.target_names[newsgroups_test.target[sample_idx]]\n",
        "\n",
        "print(sample_row)\n",
        "print('---')\n",
        "print('Label:', sample_label)"
      ],
      "metadata": {
        "trusted": true,
        "execution": {
          "iopub.status.busy": "2024-11-16T03:13:03.987593Z",
          "iopub.execute_input": "2024-11-16T03:13:03.988571Z",
          "iopub.status.idle": "2024-11-16T03:13:03.994594Z",
          "shell.execute_reply.started": "2024-11-16T03:13:03.988529Z",
          "shell.execute_reply": "2024-11-16T03:13:03.993547Z"
        },
        "id": "SFRUdOPd-Yh8",
        "outputId": "a2f24e3f-88a7-4300-de2e-532acc3ff6f9"
      },
      "outputs": [
        {
          "name": "stdout",
          "text": "Need info on 88-89 Bonneville\n\n\n I am a little confused on all of the models of the 88-89 bonnevilles.\nI have heard of the LE SE LSE SSE SSEI. Could someone tell me the\ndifferences are far as features or performance. I am also curious to\nknow what the book value is for prefereably the 89 model. And how much\nless than book value can you usually get them for. In other words how\nmuch are they in demand this time of year. I have heard that the mid-spring\nearly summer is the best time to buy.\n\n\t\t\tNeil Gandler\n\n---\nLabel: rec.autos\n",
          "output_type": "stream"
        }
      ],
      "execution_count": null
    },
    {
      "cell_type": "markdown",
      "source": [
        "Passing the text directly in as a prompt does not yield the desired results. The model will attempt to respond to the message."
      ],
      "metadata": {
        "id": "0ZsUa4A8-Yh9"
      }
    },
    {
      "cell_type": "code",
      "source": [
        "baseline_model = genai.GenerativeModel(\"gemini-1.5-flash-001\")\n",
        "response = baseline_model.generate_content(sample_row)\n",
        "print(response.text)"
      ],
      "metadata": {
        "trusted": true,
        "execution": {
          "iopub.status.busy": "2024-11-16T03:13:13.291352Z",
          "iopub.execute_input": "2024-11-16T03:13:13.291794Z",
          "iopub.status.idle": "2024-11-16T03:13:17.202859Z",
          "shell.execute_reply.started": "2024-11-16T03:13:13.291753Z",
          "shell.execute_reply": "2024-11-16T03:13:17.201587Z"
        },
        "id": "8LofDRLf-Yh9",
        "outputId": "9d8d2c1b-d2ad-4cb4-9ad2-dcc03622502b"
      },
      "outputs": [
        {
          "name": "stdout",
          "text": "You're right, the 1988-1989 Bonneville lineup was a bit confusing! Let's break it down and answer your questions:\n\n**The Bonneville Models:**\n\n* **LE:**  The base model, offering standard features like power steering, brakes, and windows. It might have cloth upholstery and fewer creature comforts.\n* **SE:**  The SE stood for \"Special Edition\" and typically added more features like:\n    *  A slightly nicer interior with possibly leather seating or upgraded fabrics.\n    *  Additional amenities like cruise control and a premium stereo system.\n    *  Cosmetic enhancements like chrome accents or unique wheel designs.\n* **LSE:**  The LSE was a luxurious option, typically featuring:\n    *  Leather interior with heated seats.\n    *  A powerful engine upgrade, likely the 3.8L V6 with more horsepower.\n    *  Advanced features like a sunroof and power mirrors.\n* **SSE:**  The SSE (Sport Sedan Edition) was the performance model. It offered:\n    *  The largest engine option (likely the 3.8L V6 with the highest horsepower rating).\n    *  Sportier suspension tuning for better handling.\n    *  Unique bodywork, wheels, and styling elements.\n* **SSEi:**  The SSEi (Sport Sedan Edition Injection) was the highest performance trim. It added:\n    *  Multiport fuel injection for improved fuel economy and power.\n    *  Even more aggressive suspension tuning.\n    *  Possibly a limited-slip differential for better traction.\n\n**Book Value and Pricing:**\n\n* **Book Value:**  To get a good idea of book value, I recommend using online resources like Kelley Blue Book (KBB) or Edmunds.  They let you select the specific model (LE, SE, etc.), year, mileage, and condition, and provide an estimated value.\n* **Negotiation:**  The price you can negotiate for a 1989 Bonneville will depend on:\n    * **Condition:** A well-maintained, low-mileage car will fetch a higher price.\n    * **Demand:** Mid-spring to early summer is generally a good time to buy, as dealerships may be looking to move inventory. However, this also depends on the specific market and the model in question.\n    * **Seller's motivation:** If the seller is in a hurry to sell, you might have more leverage.\n* **Typical Discount:**  You can often negotiate a price 10-20% below book value, but this is not always guaranteed.  \n\n**Things to Consider:**\n\n* **Reliability:** 1988-1989 Bonnevilles were generally reliable cars, but as with any older vehicle, there's a chance of mechanical issues. \n* **Fuel Economy:** These models are not known for their fuel efficiency. Be prepared to pay more at the pump.\n* **Parts Availability:** Parts for older Bonnevilles are still readily available, but may not be as common as for newer models.\n\n**Recommendation:**\n\n1. **Define Your Needs:**  Do you prioritize luxury, performance, or fuel efficiency?\n2. **Research Models:**  Use KBB and Edmunds to compare features and prices for each trim level.\n3. **Get a Pre-Purchase Inspection:**  Before you buy, have a trusted mechanic thoroughly inspect the car.\n\nI hope this helps you in your search for a 1989 Bonneville! \n\n",
          "output_type": "stream"
        }
      ],
      "execution_count": null
    },
    {
      "cell_type": "markdown",
      "source": [
        "You can use the prompt engineering techniques you have learned this week to induce the model to perform the desired task. Try some of your own ideas and see what is effective, or check out the following cells for different approaches. Note that they have different levels of effectiveness!"
      ],
      "metadata": {
        "id": "haFm6SSP-Yh9"
      }
    },
    {
      "cell_type": "code",
      "source": [
        "# Ask the model directly in a zero-shot prompt.\n",
        "\n",
        "prompt = \"From what newsgroup does the following message originate?\"\n",
        "baseline_response = baseline_model.generate_content([prompt, sample_row])\n",
        "print(baseline_response.text)"
      ],
      "metadata": {
        "trusted": true,
        "execution": {
          "iopub.status.busy": "2024-11-16T03:13:23.605988Z",
          "iopub.execute_input": "2024-11-16T03:13:23.606413Z",
          "iopub.status.idle": "2024-11-16T03:13:24.316646Z",
          "shell.execute_reply.started": "2024-11-16T03:13:23.606373Z",
          "shell.execute_reply": "2024-11-16T03:13:24.315608Z"
        },
        "id": "J6u-qWAR-Yh9",
        "outputId": "dfae40cc-9397-40c2-a78f-c404d8a8e6e0"
      },
      "outputs": [
        {
          "name": "stdout",
          "text": "The message originates from the **rec.autos.pontiac** newsgroup. \n\nThis can be inferred from the subject matter (Bonneville models), the specific details discussed (LE, SE, LSE, SSE, SSEI), and the overall tone of the message, which suggests an inquiry within a community of Pontiac enthusiasts. \n\n",
          "output_type": "stream"
        }
      ],
      "execution_count": null
    },
    {
      "cell_type": "markdown",
      "source": [
        "That technique produces quite a verbose response. You could try and pick out the relevant text, or refine the prompt even further."
      ],
      "metadata": {
        "id": "UMiTVwTg-Yh9"
      }
    },
    {
      "cell_type": "code",
      "source": [
        "from google.api_core import retry\n",
        "\n",
        "# You can use a system instruction to do more direct prompting, and get a\n",
        "# more succinct answer.\n",
        "\n",
        "system_instruct = \"\"\"\n",
        "You are a classification service. You will be passed input that represents\n",
        "a newsgroup post and you must respond with the newsgroup from which the post\n",
        "originates.\n",
        "\"\"\"\n",
        "\n",
        "instructed_model = genai.GenerativeModel(\"gemini-1.5-flash-001\",\n",
        "                                         system_instruction=system_instruct)\n",
        "\n",
        "retry_policy = {\"retry\": retry.Retry(predicate=retry.if_transient_error)}\n",
        "\n",
        "# If you want to evaluate your own technique, replace this function with your\n",
        "# model, prompt and other code and return the predicted answer.\n",
        "def predict_label(post: str) -> str:\n",
        "    response = instructed_model.generate_content(post, request_options=retry_policy)\n",
        "    rc = response.candidates[0]\n",
        "\n",
        "    # Any errors, filters, recitation, etc we can mark as a general error\n",
        "    if rc.finish_reason.name != \"STOP\":\n",
        "        return \"(error)\"\n",
        "    else:\n",
        "        # Clean up the response.\n",
        "        return response.text.strip()\n",
        "\n",
        "\n",
        "prediction = predict_label(sample_row)\n",
        "\n",
        "print(prediction)\n",
        "print()\n",
        "print(\"Correct!\" if prediction == sample_label else \"Incorrect.\")"
      ],
      "metadata": {
        "trusted": true,
        "execution": {
          "iopub.status.busy": "2024-11-16T03:13:32.240046Z",
          "iopub.execute_input": "2024-11-16T03:13:32.240484Z",
          "iopub.status.idle": "2024-11-16T03:13:32.608267Z",
          "shell.execute_reply.started": "2024-11-16T03:13:32.240446Z",
          "shell.execute_reply": "2024-11-16T03:13:32.606859Z"
        },
        "id": "6m0qer5P-Yh9",
        "outputId": "7a1e7ab3-5c40-4897-fd91-d9c76046cb23"
      },
      "outputs": [
        {
          "name": "stdout",
          "text": "rec.autos.misc\n\nIncorrect.\n",
          "output_type": "stream"
        }
      ],
      "execution_count": null
    },
    {
      "cell_type": "markdown",
      "source": [
        "Now run a short evaluation using the function defined above. The test set is further sampled to ensure the experiment runs smoothly on the API's free tier. In practice you would evaluate over the whole set."
      ],
      "metadata": {
        "id": "X9UVxU-7-Yh-"
      }
    },
    {
      "cell_type": "code",
      "source": [
        "from tqdm.rich import tqdm\n",
        "\n",
        "tqdm.pandas()\n",
        "\n",
        "\n",
        "# Further sample the test data to be mindful of the free-tier quota.\n",
        "df_baseline_eval = sample_data(df_test, 2, '.*')\n",
        "\n",
        "# Make predictions using the sampled data.\n",
        "df_baseline_eval['Prediction'] = df_baseline_eval['Text'].progress_apply(predict_label)\n",
        "\n",
        "# And calculate the accuracy.\n",
        "accuracy = (df_baseline_eval[\"Class Name\"] == df_baseline_eval[\"Prediction\"]).sum() / len(df_baseline_eval)\n",
        "print(f\"Accuracy: {accuracy:.2%}\")"
      ],
      "metadata": {
        "trusted": true,
        "execution": {
          "iopub.status.busy": "2024-11-16T03:13:39.88744Z",
          "iopub.execute_input": "2024-11-16T03:13:39.887869Z",
          "iopub.status.idle": "2024-11-16T03:13:45.001326Z",
          "shell.execute_reply.started": "2024-11-16T03:13:39.887832Z",
          "shell.execute_reply": "2024-11-16T03:13:45.000253Z"
        },
        "id": "tRuIMny0-Yh-",
        "outputId": "c031edb8-f29f-4d5b-e650-249ec7a3844b"
      },
      "outputs": [
        {
          "output_type": "display_data",
          "data": {
            "text/plain": "\u001b[35m 100%\u001b[0m \u001b[38;2;114;156;31m━━━━━━━━━━━━━━━━━━━━━━━━━━━━━━━━━━━━━━━━━━━━━━━━━━━━━━━━━━━━━━━━━━━━━━━\u001b[0m \u001b[32m16/16 \u001b[0m [ \u001b[33m0:00:04\u001b[0m < \u001b[36m0:00:00\u001b[0m , \u001b[31m3 it/s\u001b[0m ]\n",
            "text/html": "<pre style=\"white-space:pre;overflow-x:auto;line-height:normal;font-family:Menlo,'DejaVu Sans Mono',consolas,'Courier New',monospace\"><span style=\"color: #800080; text-decoration-color: #800080\"> 100%</span> <span style=\"color: #729c1f; text-decoration-color: #729c1f\">━━━━━━━━━━━━━━━━━━━━━━━━━━━━━━━━━━━━━━━━━━━━━━━━━━━━━━━━━━━━━━━━━━━━━━━</span> <span style=\"color: #008000; text-decoration-color: #008000\">16/16 </span> [ <span style=\"color: #808000; text-decoration-color: #808000\">0:00:04</span> &lt; <span style=\"color: #008080; text-decoration-color: #008080\">0:00:00</span> , <span style=\"color: #800000; text-decoration-color: #800000\">3 it/s</span> ]\n</pre>\n"
          },
          "metadata": {}
        },
        {
          "output_type": "display_data",
          "data": {
            "text/plain": "",
            "text/html": "<pre style=\"white-space:pre;overflow-x:auto;line-height:normal;font-family:Menlo,'DejaVu Sans Mono',consolas,'Courier New',monospace\"></pre>\n"
          },
          "metadata": {}
        },
        {
          "output_type": "display_data",
          "data": {
            "text/plain": "\n",
            "text/html": "<pre style=\"white-space:pre;overflow-x:auto;line-height:normal;font-family:Menlo,'DejaVu Sans Mono',consolas,'Courier New',monospace\">\n</pre>\n"
          },
          "metadata": {}
        },
        {
          "name": "stdout",
          "text": "Accuracy: 31.25%\n",
          "output_type": "stream"
        }
      ],
      "execution_count": null
    },
    {
      "cell_type": "markdown",
      "source": [
        "Now take a look at the dataframe to compare the predictions with the labels."
      ],
      "metadata": {
        "id": "m6fpIlT_-Yh-"
      }
    },
    {
      "cell_type": "code",
      "source": [
        "df_baseline_eval"
      ],
      "metadata": {
        "trusted": true,
        "execution": {
          "iopub.status.busy": "2024-11-16T03:13:48.837891Z",
          "iopub.execute_input": "2024-11-16T03:13:48.838735Z",
          "iopub.status.idle": "2024-11-16T03:13:48.851737Z",
          "shell.execute_reply.started": "2024-11-16T03:13:48.838692Z",
          "shell.execute_reply": "2024-11-16T03:13:48.850459Z"
        },
        "id": "17lIrwsp-Yh-",
        "outputId": "2ff51c59-1b71-4778-afd3-fe8ad666070d"
      },
      "outputs": [
        {
          "execution_count": 15,
          "output_type": "execute_result",
          "data": {
            "text/plain": "                                                 Text  Label  \\\n0   Info about Audi 90 (used)\\n\\nI am thinking of ...      7   \n1   States that charges sales tax after trade-in?\\...      7   \n2   Re:  Shaft-drives and Wheelies\\n\\nIn article <...      8   \n3   Re: Touring the southwest\\n\\nIn article <>,  (...      8   \n4   Mea Culpa -- Bosio no-no\\n\\nLike Clinton and R...      9   \n5   Rusty's religion\\n\\nAs I recall from Kieth Her...      9   \n6   Re: Wings will win\\n\\nIn article <>  (Randy A....     10   \n7   Re: ESPN\\n\\nIn article <>  (Robert Andolina) w...     10   \n8   Re: Key Registering Bodies\\n\\nIn <>  (John Nag...     11   \n9   Re: Clipper considered harmful\\n\\nIn article <...     11   \n10  Re: Development tools for 65C816?\\n\\nIn articl...     12   \n11  HD-TV SOUND SYSTEMS\\n\\nI would like to get som...     12   \n12  Re: What's a bone scan?\\n\\nIn article <>,  (Ci...     13   \n13  IS THIS A SCAM?\\n\\n    Jim Haynes wants to kno...     13   \n14  Re: Long term Human Missions\\n\\n (grungy) writ...     14   \n15  Re: I want that Billion\\n\\nIn article <>  writ...     14   \n\n            Class Name                  Prediction  \n0            rec.autos              rec.autos.cars  \n1            rec.autos                   rec.autos  \n2      rec.motorcycles             rec.motorcycles  \n3      rec.motorcycles             rec.motorcycles  \n4   rec.sport.baseball  alt.sports.baseball.redsox  \n5   rec.sport.baseball          rec.sport.baseball  \n6     rec.sport.hockey           rec.sports.hockey  \n7     rec.sport.hockey           rec.sports.hockey  \n8            sci.crypt                  misc.legal  \n9            sci.crypt                     (error)  \n10     sci.electronics        comp.sys.apple.ii.gs  \n11     sci.electronics              rec.audio.home  \n12             sci.med         misc.health.medical  \n13             sci.med          alt.folklore.urban  \n14           sci.space                   sci.space  \n15           sci.space            alt.space.launch  ",
            "text/html": "<div>\n<style scoped>\n    .dataframe tbody tr th:only-of-type {\n        vertical-align: middle;\n    }\n\n    .dataframe tbody tr th {\n        vertical-align: top;\n    }\n\n    .dataframe thead th {\n        text-align: right;\n    }\n</style>\n<table border=\"1\" class=\"dataframe\">\n  <thead>\n    <tr style=\"text-align: right;\">\n      <th></th>\n      <th>Text</th>\n      <th>Label</th>\n      <th>Class Name</th>\n      <th>Prediction</th>\n    </tr>\n  </thead>\n  <tbody>\n    <tr>\n      <th>0</th>\n      <td>Info about Audi 90 (used)\\n\\nI am thinking of ...</td>\n      <td>7</td>\n      <td>rec.autos</td>\n      <td>rec.autos.cars</td>\n    </tr>\n    <tr>\n      <th>1</th>\n      <td>States that charges sales tax after trade-in?\\...</td>\n      <td>7</td>\n      <td>rec.autos</td>\n      <td>rec.autos</td>\n    </tr>\n    <tr>\n      <th>2</th>\n      <td>Re:  Shaft-drives and Wheelies\\n\\nIn article &lt;...</td>\n      <td>8</td>\n      <td>rec.motorcycles</td>\n      <td>rec.motorcycles</td>\n    </tr>\n    <tr>\n      <th>3</th>\n      <td>Re: Touring the southwest\\n\\nIn article &lt;&gt;,  (...</td>\n      <td>8</td>\n      <td>rec.motorcycles</td>\n      <td>rec.motorcycles</td>\n    </tr>\n    <tr>\n      <th>4</th>\n      <td>Mea Culpa -- Bosio no-no\\n\\nLike Clinton and R...</td>\n      <td>9</td>\n      <td>rec.sport.baseball</td>\n      <td>alt.sports.baseball.redsox</td>\n    </tr>\n    <tr>\n      <th>5</th>\n      <td>Rusty's religion\\n\\nAs I recall from Kieth Her...</td>\n      <td>9</td>\n      <td>rec.sport.baseball</td>\n      <td>rec.sport.baseball</td>\n    </tr>\n    <tr>\n      <th>6</th>\n      <td>Re: Wings will win\\n\\nIn article &lt;&gt;  (Randy A....</td>\n      <td>10</td>\n      <td>rec.sport.hockey</td>\n      <td>rec.sports.hockey</td>\n    </tr>\n    <tr>\n      <th>7</th>\n      <td>Re: ESPN\\n\\nIn article &lt;&gt;  (Robert Andolina) w...</td>\n      <td>10</td>\n      <td>rec.sport.hockey</td>\n      <td>rec.sports.hockey</td>\n    </tr>\n    <tr>\n      <th>8</th>\n      <td>Re: Key Registering Bodies\\n\\nIn &lt;&gt;  (John Nag...</td>\n      <td>11</td>\n      <td>sci.crypt</td>\n      <td>misc.legal</td>\n    </tr>\n    <tr>\n      <th>9</th>\n      <td>Re: Clipper considered harmful\\n\\nIn article &lt;...</td>\n      <td>11</td>\n      <td>sci.crypt</td>\n      <td>(error)</td>\n    </tr>\n    <tr>\n      <th>10</th>\n      <td>Re: Development tools for 65C816?\\n\\nIn articl...</td>\n      <td>12</td>\n      <td>sci.electronics</td>\n      <td>comp.sys.apple.ii.gs</td>\n    </tr>\n    <tr>\n      <th>11</th>\n      <td>HD-TV SOUND SYSTEMS\\n\\nI would like to get som...</td>\n      <td>12</td>\n      <td>sci.electronics</td>\n      <td>rec.audio.home</td>\n    </tr>\n    <tr>\n      <th>12</th>\n      <td>Re: What's a bone scan?\\n\\nIn article &lt;&gt;,  (Ci...</td>\n      <td>13</td>\n      <td>sci.med</td>\n      <td>misc.health.medical</td>\n    </tr>\n    <tr>\n      <th>13</th>\n      <td>IS THIS A SCAM?\\n\\n    Jim Haynes wants to kno...</td>\n      <td>13</td>\n      <td>sci.med</td>\n      <td>alt.folklore.urban</td>\n    </tr>\n    <tr>\n      <th>14</th>\n      <td>Re: Long term Human Missions\\n\\n (grungy) writ...</td>\n      <td>14</td>\n      <td>sci.space</td>\n      <td>sci.space</td>\n    </tr>\n    <tr>\n      <th>15</th>\n      <td>Re: I want that Billion\\n\\nIn article &lt;&gt;  writ...</td>\n      <td>14</td>\n      <td>sci.space</td>\n      <td>alt.space.launch</td>\n    </tr>\n  </tbody>\n</table>\n</div>"
          },
          "metadata": {}
        }
      ],
      "execution_count": null
    },
    {
      "cell_type": "markdown",
      "source": [
        "## Tune a custom model\n",
        "\n",
        "In this example you'll use tuning to help create a model that requires no prompting or system instructions and outputs succinct text from the classes you provide in the training data.\n",
        "\n",
        "The data contains both input text (the processed posts) and output text (the category, or newsgroup), which you can use to start tuning a model.\n",
        "\n",
        "The Python SDK for tuning supports Pandas dataframes as input, so you don't need any custom data generators or pipelines. Just specify the input and the relevant columns as the `input_key` and `output_key`.\n",
        "\n",
        "When calling `create_tuned_model`, you can specify model tuning hyperparameters too:\n",
        " - `epoch_count`: defines how many times to loop through the data,\n",
        " - `batch_size`: defines how many rows to process in a single step, and\n",
        " - `learning_rate`: defines the scaling factor for updating model weights at each step.\n",
        "\n",
        "You can also choose to omit them and use the defaults. [Learn more](https://developers.google.com/machine-learning/crash-course/linear-regression/hyperparameters) about these parameters and how they work. For this example these parameters were selected by running some tuning jobs and selecting parameters that were both effective and quick."
      ],
      "metadata": {
        "id": "Ok7ugrLzcghX"
      }
    },
    {
      "cell_type": "code",
      "source": [
        "from collections.abc import Iterable\n",
        "import random\n",
        "\n",
        "\n",
        "# Append a random number to the model ID so you can re-run with a higher chance\n",
        "# of creating a unique model ID.\n",
        "model_id = f\"newsgroup-classifier-{random.randint(10000, 99999)}\"\n",
        "\n",
        "# Upload the training data and queue the tuning job.\n",
        "tuning_op = genai.create_tuned_model(\n",
        "    \"models/gemini-1.5-flash-001-tuning\",\n",
        "    training_data=df_train,\n",
        "    input_key=\"Text\",  # the column to use as input\n",
        "    output_key=\"Class Name\",  # the column to use as output\n",
        "    id=model_id,\n",
        "    display_name=\"Newsgroup classification model\",\n",
        "    batch_size=16,\n",
        "    epoch_count=2,\n",
        ")\n",
        "\n",
        "print(model_id)"
      ],
      "metadata": {
        "id": "pWOZlspfY8dV",
        "trusted": true,
        "execution": {
          "iopub.status.busy": "2024-11-16T03:14:16.32751Z",
          "iopub.execute_input": "2024-11-16T03:14:16.327929Z",
          "iopub.status.idle": "2024-11-16T03:14:16.700639Z",
          "shell.execute_reply.started": "2024-11-16T03:14:16.327892Z",
          "shell.execute_reply": "2024-11-16T03:14:16.699455Z"
        },
        "outputId": "4a4cdf06-414d-42ec-d2ec-5c4872549a9e"
      },
      "outputs": [
        {
          "name": "stdout",
          "text": "newsgroup-classifier-43220\n",
          "output_type": "stream"
        }
      ],
      "execution_count": null
    },
    {
      "cell_type": "markdown",
      "source": [
        "This has created a tuning job that will run in the background. To inspect the progress of the tuning job, run this cell to plot the current status and loss curve. Once the status reaches `ACTIVE`, tuning is complete and the model is ready to use.\n",
        "\n",
        "Tuning jobs are queued, so it may look like no training steps have been taken initially but it will progress. Tuning can take upwards of 20 minutes, depending on factors like your dataset size and how busy the tuning infrastrature is. Why not treat yourself to a nice cup of tea while you wait, or come and say \"Hi!\" to [yours truly](https://discord.com/users/132124213132787712) in the group [Discord](https://discord.com/invite/kaggle).\n",
        "\n",
        "It is safe to stop this cell at any point. It will not stop the tuning job."
      ],
      "metadata": {
        "id": "NQ3YZ2MBubCY"
      }
    },
    {
      "cell_type": "code",
      "source": [
        "import time\n",
        "import seaborn as sns\n",
        "\n",
        "\n",
        "while (tuned_model := genai.get_tuned_model(f\"tunedModels/{model_id}\")).state.name != 'ACTIVE':\n",
        "\n",
        "    print(tuned_model.state)\n",
        "    time.sleep(60)\n",
        "\n",
        "print(f\"Done! The model is {tuned_model.state.name}\")\n",
        "\n",
        "# Plot the loss curve.\n",
        "snapshots = pd.DataFrame(tuned_model.tuning_task.snapshots)\n",
        "sns.lineplot(data=snapshots, x=\"step\", y=\"mean_loss\")\n"
      ],
      "metadata": {
        "id": "c4ef5f13692d",
        "trusted": true,
        "execution": {
          "iopub.status.busy": "2024-11-16T03:14:23.784848Z",
          "iopub.execute_input": "2024-11-16T03:14:23.78523Z"
        },
        "outputId": "949d88bc-7fd6-4219-dfec-874ce0169b12"
      },
      "outputs": [
        {
          "name": "stdout",
          "text": "State.CREATING\nState.CREATING\nState.CREATING\n",
          "output_type": "stream"
        }
      ],
      "execution_count": null
    },
    {
      "cell_type": "markdown",
      "source": [
        "Note that the `seaborn` module may output warnings containing `FutureWarning: use_inf_as_na option is deprecated`. These are expected and can be ignored."
      ],
      "metadata": {
        "id": "9-qiIdK4u80z"
      }
    },
    {
      "cell_type": "markdown",
      "source": [
        "## Use the new model\n",
        "\n",
        "Now that you have a tuned model, try it out with custom data. You use the same API as a normal Gemini API interaction, but you specify your new model as the model name, using the `tunedModels/` prefix."
      ],
      "metadata": {
        "id": "tDF5Ch0L-Yh_"
      }
    },
    {
      "cell_type": "code",
      "source": [
        "your_model = genai.GenerativeModel(f\"tunedModels/{model_id}\")\n",
        "\n",
        "new_text = \"\"\"\n",
        "First-timer looking to get out of here.\n",
        "\n",
        "Hi, I'm writing about my interest in travelling to the outer limits!\n",
        "\n",
        "What kind of craft can I buy? What is easiest to access from this 3rd rock?\n",
        "\n",
        "Let me know how to do that please.\n",
        "\"\"\"\n",
        "\n",
        "response = your_model.generate_content(new_text)\n",
        "print(response.text)"
      ],
      "metadata": {
        "id": "hyO2-MXLvM6a",
        "trusted": true,
        "execution": {
          "iopub.status.busy": "2024-11-14T03:32:10.410531Z",
          "iopub.execute_input": "2024-11-14T03:32:10.411522Z",
          "iopub.status.idle": "2024-11-14T03:32:17.642646Z",
          "shell.execute_reply.started": "2024-11-14T03:32:10.411455Z",
          "shell.execute_reply": "2024-11-14T03:32:17.641197Z"
        }
      },
      "outputs": [],
      "execution_count": null
    },
    {
      "cell_type": "markdown",
      "source": [
        "### Evaluation\n",
        "\n",
        "You can see that the model outputs labels that correspond to those in the training data, and without any system instructions or prompting, which is already a great improvement. Now see how well it performs on the test set.\n",
        "\n",
        "Note that there is no parallelism in this example; classifying the test sub-set will take a few minutes."
      ],
      "metadata": {
        "id": "xajLek9DySH_"
      }
    },
    {
      "cell_type": "code",
      "source": [
        "def classify_text(text: str) -> str:\n",
        "    \"\"\"Classify the provided text into a known newsgroup.\"\"\"\n",
        "    response = your_model.generate_content(text, request_options=retry_policy)\n",
        "    rc = response.candidates[0]\n",
        "\n",
        "    # Any errors, filters, recitation, etc we can mark as a general error\n",
        "    if rc.finish_reason.name != \"STOP\":\n",
        "        return \"(error)\"\n",
        "    else:\n",
        "        return rc.content.parts[0].text\n",
        "\n",
        "\n",
        "# The sampling here is just to minimise your quota usage. If you can, you should\n",
        "# evaluate the whole test set with `df_model_eval = df_test.copy()`.\n",
        "df_model_eval = sample_data(df_test, 4, '.*')\n",
        "\n",
        "\n",
        "df_model_eval[\"Prediction\"] = df_model_eval[\"Text\"].progress_apply(classify_text)\n",
        "\n",
        "accuracy = (df_model_eval[\"Class Name\"] == df_model_eval[\"Prediction\"]).sum() / len(df_model_eval)\n",
        "print(f\"Accuracy: {accuracy:.2%}\")"
      ],
      "metadata": {
        "id": "6T2Y3ZApvbMw",
        "trusted": true,
        "execution": {
          "iopub.status.busy": "2024-11-14T03:32:17.644082Z",
          "iopub.execute_input": "2024-11-14T03:32:17.644483Z",
          "iopub.status.idle": "2024-11-14T03:33:05.035916Z",
          "shell.execute_reply.started": "2024-11-14T03:32:17.644443Z",
          "shell.execute_reply": "2024-11-14T03:33:05.034747Z"
        }
      },
      "outputs": [],
      "execution_count": null
    },
    {
      "cell_type": "markdown",
      "source": [
        "## Compare token usage\n",
        "\n",
        "AI Studio and the Gemini API provide model tuning at no cost, however normal limits and charges apply for *use* of a tuned model.\n",
        "\n",
        "The size of the input prompt and other generation config like system instructions, as well as the number of generated output tokens, all contribute to the overall cost of a request."
      ],
      "metadata": {
        "id": "Q-BLp9c4-YiF"
      }
    },
    {
      "cell_type": "code",
      "source": [
        "# Calculate the *input* cost of the baseline model with system instructions.\n",
        "sysint_tokens = instructed_model.count_tokens(sample_row).total_tokens\n",
        "print(f'System instructed baseline model: {sysint_tokens} (input)')\n",
        "\n",
        "# Calculate the input cost of the tuned model.\n",
        "tuned_tokens = your_model.count_tokens(sample_row).total_tokens\n",
        "print(f'Tuned model: {tuned_tokens} (input)')\n",
        "\n",
        "savings = (sysint_tokens - tuned_tokens) / tuned_tokens\n",
        "print(f'Token savings: {savings:.2%}')  # Note that this is only n=1."
      ],
      "metadata": {
        "trusted": true,
        "execution": {
          "iopub.status.busy": "2024-11-14T03:33:05.039144Z",
          "iopub.execute_input": "2024-11-14T03:33:05.03965Z",
          "iopub.status.idle": "2024-11-14T03:33:05.399134Z",
          "shell.execute_reply.started": "2024-11-14T03:33:05.039596Z",
          "shell.execute_reply": "2024-11-14T03:33:05.397806Z"
        },
        "id": "rqLWVfFK-YiF"
      },
      "outputs": [],
      "execution_count": null
    },
    {
      "cell_type": "markdown",
      "source": [
        "The earlier verbose model also produced more output tokens than needed for this task."
      ],
      "metadata": {
        "id": "bGxB07Wk-YiG"
      }
    },
    {
      "cell_type": "code",
      "source": [
        "baseline_token_output = baseline_response.usage_metadata.candidates_token_count\n",
        "print('Baseline (verbose) output tokens:', baseline_token_output)\n",
        "\n",
        "tuned_model_output = your_model.generate_content(sample_row)\n",
        "tuned_tokens_output = tuned_model_output.usage_metadata.candidates_token_count\n",
        "print('Tuned output tokens:', tuned_tokens_output)"
      ],
      "metadata": {
        "trusted": true,
        "execution": {
          "iopub.status.busy": "2024-11-14T03:33:05.400739Z",
          "iopub.execute_input": "2024-11-14T03:33:05.401116Z",
          "iopub.status.idle": "2024-11-14T03:33:06.369214Z",
          "shell.execute_reply.started": "2024-11-14T03:33:05.401076Z",
          "shell.execute_reply": "2024-11-14T03:33:06.367883Z"
        },
        "id": "O7Ym-Yh--YiG"
      },
      "outputs": [],
      "execution_count": null
    },
    {
      "cell_type": "markdown",
      "source": [
        "## Next steps\n",
        "\n",
        "Now that you have tuned a classification model, try some other tasks, like tuning a model to respond with a specific tone or style using hand-written examples (or even generated examples!). Kaggle hosts [a number of datasets](https://www.kaggle.com/datasets) you can try out.\n",
        "\n",
        "Learn about [when supervised fine-tuning is most effective](https://cloud.google.com/blog/products/ai-machine-learning/supervised-fine-tuning-for-gemini-llm).\n",
        "\n",
        "And check out the [fine-tuning tutorial](https://ai.google.dev/gemini-api/docs/model-tuning/tutorial?hl=en&lang=python) for another example that shows a tuned model extending beyond the training data to new, unseen inputs."
      ],
      "metadata": {
        "id": "6c1204a5d0ab"
      }
    }
  ]
}