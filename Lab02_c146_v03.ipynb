{
  "cells": [
    {
      "cell_type": "markdown",
      "metadata": {
        "id": "view-in-github",
        "colab_type": "text"
      },
      "source": [
        "<a href=\"https://colab.research.google.com/github/daisysong76/AI--Machine--learning/blob/main/Lab02_c146_v03.ipynb\" target=\"_parent\"><img src=\"https://colab.research.google.com/assets/colab-badge.svg\" alt=\"Open In Colab\"/></a>"
      ]
    },
    {
      "cell_type": "markdown",
      "metadata": {
        "id": "C-E9lxymgktn"
      },
      "source": [
        "# Lab 2: STR Algorithms\n",
        "v.1\n",
        "### Data Science for Biology\n",
        "Developed by Sarp Dora Kurtoglu. <br> Adapted and inspired from Harvard CS50x from 2021 with permission from David Malan. <br>\n",
        "At https://cs50.harvard.edu/x/2021/psets/6/dna/. <br>\n",
        "Please see the video at that link for another introduction to this topic."
      ]
    },
    {
      "cell_type": "code",
      "execution_count": null,
      "metadata": {
        "id": "Fd9kjpX9gktr"
      },
      "outputs": [],
      "source": [
        "from datascience import Table\n",
        "a, b, c = ... # answer key"
      ]
    },
    {
      "cell_type": "markdown",
      "metadata": {
        "id": "iBuDTjUCgkts"
      },
      "source": [
        "## Background"
      ]
    },
    {
      "cell_type": "markdown",
      "metadata": {
        "id": "w5Sn8B09gktt"
      },
      "source": [
        "#### Short Tandem Repeats (STRs)\n",
        "Short tandem repeats (STRs) are short sequences of DNA that repeat *consecutively* at specific locations on the human genome. Within the human population, the numbers of times specific STRs repeat vary greatly, which leads to ways of differentiating people given their STR counts. Different people have each type of STR repeated different numbers of times within their genomes.\n",
        "\n",
        "For example, in the sequence below, the STR with the sequence \"agat\" repeats 6 times:\n",
        "\n",
        "dna = aatgtc<mark>agatagatagatagatagatagat</mark>ccgttga"
      ]
    },
    {
      "cell_type": "markdown",
      "metadata": {
        "id": "eSx2xfvMgktt"
      },
      "source": [
        "#### STR Analysis in Forensics\n",
        "Everyone has a fixed number of STRs at different locations on their chromosomes, with varying numbers for each individual within the population. Law enforcement, including FBI, use STR analysis to perform computational forensics analyses and fingerprinting. The FBI uses 20 different CODIS (Combined DNA Index System) core loci to perform forensics analyses. In this lab, we will take a simplified approach and explore only a few STR sequences in an unknown individual's DNA sequence.\n",
        "\n",
        "\n",
        "If you would like to learn more about how STRs are used in forensic analyses by FBI, you can find more details here: https://www.fbi.gov/services/laboratory/biometric-analysis/codis/codis-and-ndis-fact-sheet"
      ]
    },
    {
      "cell_type": "markdown",
      "source": [],
      "metadata": {
        "id": "kJ49XnqmtDRz"
      }
    },
    {
      "cell_type": "markdown",
      "metadata": {
        "id": "vRgFno_Mgktu"
      },
      "source": [
        "## Python Review"
      ]
    },
    {
      "cell_type": "markdown",
      "metadata": {
        "id": "B3s85wmTgktv"
      },
      "source": [
        "### While Loops\n",
        "#####**Syntax:** while [condition]:\n",
        "            \n",
        "While loops will continue to run the lines of code under it as long as the condition is true. Once the condition turns false, the code under the while loop will not run anymore.\n",
        "\n",
        "To count how many T nucleotides are present in the first 30 nucleotides-long section of a DNA sequence, we can use the while loop. See the example below:"
      ]
    },
    {
      "cell_type": "code",
      "execution_count": null,
      "metadata": {
        "id": "CfXpSkYKgktw",
        "outputId": "51e622ef-5c61-4726-8cc5-5167c54d51ea"
      },
      "outputs": [
        {
          "name": "stdout",
          "output_type": "stream",
          "text": [
            "Number of t nucleotides is 7\n"
          ]
        }
      ],
      "source": [
        "dna = \"gtagctagctacattatagctgagcggccgtcgattgctagtgctagcatgcgttagctagcatc\"\n",
        "\n",
        "index = 0\n",
        "t_count = 0\n",
        "dna_len = 30\n",
        "while index < dna_len:\n",
        "    if dna[index] == \"t\":\n",
        "        t_count += 1 # everytime we see a t, we increase our count by 1\n",
        "    index += 1 # we have to increase our index by 1 everytime, or the while loop will run forever\n",
        "\n",
        "print(\"Number of t nucleotides is\", t_count)\n"
      ]
    },
    {
      "cell_type": "markdown",
      "metadata": {
        "id": "XPhnWvAxgktz"
      },
      "source": [
        "### For Loops\n",
        "##### **Syntax:** for [index] in [iterable]:\n",
        "\n",
        "For loops will iterate through each element of an iterable object (could also be a string) in order. For example, the for loop can be used to iterate through each nucleotide in a DNA sequence and count how many t nucleotides are present in the whole sequence. See the example below:"
      ]
    },
    {
      "cell_type": "code",
      "execution_count": null,
      "metadata": {
        "id": "aCJazuXxgkt1",
        "outputId": "9163e245-9b3b-4e3c-9bc1-8da2d38e1822"
      },
      "outputs": [
        {
          "name": "stdout",
          "output_type": "stream",
          "text": [
            "18\n"
          ]
        }
      ],
      "source": [
        "dna = \"gtagctagctacattatagctgagcggccgtcgattgctagtgctagcatgcgttagctagcatc\"\n",
        "\n",
        "t_count = 0\n",
        "for nuc in dna: # everytime the for loop runs, nuc takes on the next character in the dna string\n",
        "    if nuc == \"t\":\n",
        "        t_count += 1\n",
        "print(t_count)\n"
      ]
    },
    {
      "cell_type": "markdown",
      "metadata": {
        "id": "vYsdFgYygkt2"
      },
      "source": [
        "To count the number of t nucleotides present only in the first 30-nucleotides long section of the DNA, we will need to run the for loop for a certain number of times. See the example below:"
      ]
    },
    {
      "cell_type": "code",
      "execution_count": null,
      "metadata": {
        "id": "1LssFjORgkt3",
        "outputId": "c87a5fdb-7270-4a52-8ce9-66940d9c67b9"
      },
      "outputs": [
        {
          "name": "stdout",
          "output_type": "stream",
          "text": [
            "7\n"
          ]
        }
      ],
      "source": [
        "dna = \"gtagctagctacattatagctgagcggccgtcgattgctagtgctagcatgcgttagctagcatc\"\n",
        "\n",
        "t_count = 0\n",
        "for index in range(30): #range(x) creates a list of integers from 0 to x-1\n",
        "    if dna[index] == \"t\":\n",
        "        t_count += 1\n",
        "print(t_count)"
      ]
    },
    {
      "cell_type": "markdown",
      "metadata": {
        "id": "HgqEwnKCgkt3"
      },
      "source": [
        "Or, you can also accomplish this by using <mark> break</mark>. Once the program encounters break in a loop, it leaves that loop immediately:"
      ]
    },
    {
      "cell_type": "markdown",
      "source": [],
      "metadata": {
        "id": "JlTI_kdxt1E3"
      }
    },
    {
      "cell_type": "code",
      "execution_count": null,
      "metadata": {
        "id": "TSqw6qRxgkt3",
        "outputId": "1198fe47-aaea-4891-dc15-903f84ee3924"
      },
      "outputs": [
        {
          "name": "stdout",
          "output_type": "stream",
          "text": [
            "7\n"
          ]
        }
      ],
      "source": [
        "dna = \"gtagctagctacattatagctgagcggccgtcgattgctagtgctagcatgcgttagctagcatc\"\n",
        "\n",
        "t_count = 0\n",
        "index = 0\n",
        "for nuc in dna:\n",
        "    if index == 30:\n",
        "        break # break exits the loop it is called in\n",
        "    if nuc == \"t\":\n",
        "        t_count += 1\n",
        "    index += 1 # we need to increment it to keep track of how many times the for loop ran\n",
        "\n",
        "print(t_count)"
      ]
    },
    {
      "cell_type": "markdown",
      "metadata": {
        "id": "kBzHmpFqgkt4"
      },
      "source": [
        "Lastly, the most efficient and concise way to tackle the same problem could be as following:"
      ]
    },
    {
      "cell_type": "code",
      "execution_count": null,
      "metadata": {
        "id": "7yH9BR3Ggkt5",
        "outputId": "e63d46b4-92dd-419b-a579-f33fb6e6d8c9"
      },
      "outputs": [
        {
          "name": "stdout",
          "output_type": "stream",
          "text": [
            "7\n"
          ]
        }
      ],
      "source": [
        "t_count = 0\n",
        "for nuc in dna[0:30]: # everytime the for loop runs, nuc takes on the next character in the dna string\n",
        "    if nuc == \"t\":\n",
        "        t_count += 1\n",
        "\n",
        "print(t_count)"
      ]
    },
    {
      "cell_type": "markdown",
      "metadata": {
        "id": "wx-Wvs8egkt5"
      },
      "source": [
        "### Nested Loops\n",
        "We can also combine multiple loops together, in what is called nested loops, to parse through non-linear structures. In nested loops, one loop is inside another one, so at each iteration of the outer loop, the inner loop runs to completion. For example, to iterate through each cell of a 4x4 matrix, we would need to use a nested loop, as shown below:"
      ]
    },
    {
      "cell_type": "code",
      "execution_count": null,
      "metadata": {
        "id": "L1B0IFCsgkt5",
        "outputId": "24de66b2-d613-4e63-f241-618d124bcbdf"
      },
      "outputs": [
        {
          "name": "stdout",
          "output_type": "stream",
          "text": [
            "0\n",
            "1\n",
            "2\n",
            "3\n",
            "\n",
            "\n",
            "4\n",
            "5\n",
            "6\n",
            "7\n",
            "\n",
            "\n",
            "8\n",
            "9\n",
            "10\n",
            "11\n",
            "\n",
            "\n",
            "12\n",
            "13\n",
            "14\n",
            "15\n",
            "\n",
            "\n"
          ]
        }
      ],
      "source": [
        "\n",
        "matrix = [[0, 1, 2, 3], [4, 5, 6, 7], [8, 9, 10, 11], [12, 13, 14, 15]]\n",
        "matrix # This is a 4x4 matrix.\n",
        "# You can imagine each inner list as a column. The first row would be the first elements of each inner list: [0, 4, 8, 12]\n",
        "# [0, 4, 8, 12 ]\n",
        "# [1, 5, 9, 13 ]\n",
        "# [2, 6, 10, 14]\n",
        "# [3, 7, 11, 15]\n",
        "\n",
        "for i in range(len(matrix)): #iterates through the # of column\n",
        "    for j in range(len(matrix[i])): #iterates through the # of row\n",
        "        print(matrix[i][j]) #prints each column completely in order\n",
        "    print(\"\\n\")\n"
      ]
    },
    {
      "cell_type": "markdown",
      "metadata": {
        "id": "06Y4vYNhgkt6"
      },
      "source": [
        "We could also do set up our nested loops to accomplish the same thing:"
      ]
    },
    {
      "cell_type": "code",
      "execution_count": null,
      "metadata": {
        "scrolled": true,
        "id": "YvTpf7uggkt6",
        "outputId": "820ad7ee-3c2a-49e6-a0f1-4be76b3b5bfe"
      },
      "outputs": [
        {
          "name": "stdout",
          "output_type": "stream",
          "text": [
            "0\n",
            "1\n",
            "2\n",
            "3\n",
            "\n",
            "\n",
            "4\n",
            "5\n",
            "6\n",
            "7\n",
            "\n",
            "\n",
            "8\n",
            "9\n",
            "10\n",
            "11\n",
            "\n",
            "\n",
            "12\n",
            "13\n",
            "14\n",
            "15\n",
            "\n",
            "\n"
          ]
        }
      ],
      "source": [
        "# [0, 4, 8, 12 ]\n",
        "# [1, 5, 9, 13 ]\n",
        "# [2, 6, 10, 14]\n",
        "# [3, 7, 11, 15]\n",
        "\n",
        "for i in range(len(matrix)): #iterates through the # of column\n",
        "    for j in matrix[i]: #iterates trough the column, j stands for each element of a particular column (matrix[i])\n",
        "        print(j) #prints each column completely in order\n",
        "    print(\"\\n\")"
      ]
    },
    {
      "cell_type": "markdown",
      "metadata": {
        "id": "Ad__EJQTgkt7"
      },
      "source": [
        "### Exercise\n",
        "In the above examples, we were able to print each column separately, but we lost the columns. Now, print out the matrix from the above examples in the shape of a matrix (4x4), retaining the columns and rows:"
      ]
    },
    {
      "cell_type": "code",
      "execution_count": null,
      "metadata": {
        "id": "1I9okEb-gkt7"
      },
      "outputs": [],
      "source": [
        "# Exercise\n",
        "\n",
        "# Your output should exactly look like this matrix:\n",
        "# [0, 4, 8, 12 ]\n",
        "# [1, 5, 9, 13 ]\n",
        "# [2, 6, 10, 14]\n",
        "# [3, 7, 11, 15]\n"
      ]
    },
    {
      "cell_type": "markdown",
      "metadata": {
        "id": "I0RhqjTZgkt7"
      },
      "source": [
        "### Example with Nested Loops\n",
        "Let's do a harder example with nested loops for better understanding. Let's say we want to calculate the longest length of a DNA sequence where there is no Thymine nucleotide present.\n",
        "\n",
        "One way to do this is to start at position 0 in the string, and successivly look at each nucleotide of the DNA sequence <mark> seq</mark> one at a time, and count the number of nucleotides until we encounter the first “t”. Then we could do the same thing starting at position 1. Then at position 2. And… you get the idea.\n",
        "\n",
        "So, we calculate the longest sections of DNA, starting at each position, without Thymine. Then\n",
        "we can take the highest value, which would be equivalent to the length of the longuest section of\n",
        "the DNA sequence without a Thymine. We can do this as shown below:"
      ]
    },
    {
      "cell_type": "code",
      "execution_count": null,
      "metadata": {
        "id": "QrIPRlLtgkt8",
        "outputId": "6fed0f3e-78dd-4fed-c438-c44f1c995613"
      },
      "outputs": [
        {
          "data": {
            "text/plain": [
              "51"
            ]
          },
          "execution_count": 39,
          "metadata": {},
          "output_type": "execute_result"
        }
      ],
      "source": [
        "seq = \"atatatagagcacgagcagcatcgacatcagcagcgacgacagcacgacagaggagcagcacccggcgcgcgagcagcattagcagcatc\"\n",
        "\n",
        "max = 0 # our maximum length without a Thymine, we start at 0 and will update it throughout\n",
        "for index in range(len(seq)): # index iterates through the sequence, takes on the position of each nucleotide\n",
        "    cur_max = 0 # this is to count the longuest run of the sequence without a Thymine starting from the index positioned nucleotide\n",
        "    for nuc in seq[index:]: # seq[index:] gets rid of the nucleotides of the sequence with positions smaller than index (for simplicity)\n",
        "        if nuc == \"t\":\n",
        "            if (cur_max > max): # once we see a Thymine, compare the overall maximum count with our current count and update max if needed\n",
        "                max = cur_max\n",
        "            break # leaves the inner loop\n",
        "        else:\n",
        "            cur_max += 1 # increases the count as long as we don't see a Thymine\n",
        "max"
      ]
    },
    {
      "cell_type": "markdown",
      "metadata": {
        "id": "PLIp-oZygkt9"
      },
      "source": [
        "## Trying to Identify a Match\n",
        "You are a forensics analyst at the FBI. One day, your coworkers bring you a DNA sample from a nearby crime scene. Your task is to try to find if this DNA sample has any matches in your DNA databases!"
      ]
    },
    {
      "cell_type": "markdown",
      "metadata": {
        "id": "t64a-QNOgkt9"
      },
      "source": [
        "We have acquired the following DNA sequence <mark> sample_dna</mark> from the crime scene:"
      ]
    },
    {
      "cell_type": "code",
      "execution_count": null,
      "metadata": {
        "id": "3zii_XsLgkuA"
      },
      "outputs": [],
      "source": [
        "sample_dna = 'GGGGGACGGTTTGTCTCACGCCTGTTGGTACCCTGAGTCCCCCACAATACCACAACCGTCGATCTTGAACGGTACCCTCATAGCGATAGAGACCCTTGCGGCTGAATTGCAATTACTCCAGTCACTTCCTGCCGGTGACCTGTCATGTATGAACAGGAGTCTCCTACTGGAGTAGTCACTTTTTGTAGACACAACTCGTGACTCACGGCGGGCGTGACTCCGCCTTATCACTTGGTTTGTATAGGGCCACTGGAGCCTGCGCTTGAGTCTTCGCTTGTAGCAGTAACGTTCCGGGAACACCCGTTGGCTATTCGGCGCCCGCGAGGTGCAGCGTAGCATTTTCGCGCCTCCAACGTCATATTAACATCCGAAAGGACCTATCTGGAACCAGACATCTTCGTTGCGTTCTATATATCCGCCCCACGTGGATGGATGTCGGGCTCGTTGCCAATAGAGCCTTATTAGCGTTTTCTGGACAATCGCAAGCAGGTCTGAGATGACTGCACCTATTTTCATGGGCACGAGTCTCTTGTCGGCACCTACGACTTATGAACCCGAACATGCATTGTTCCCGAGCACAGCGGACACGCAGTCGCCTTCCCTTACGCCATAGTCTGGGCCCCCACGGACTATCCCTCTAAGCACCTCGTCCGCTGACTATATTTCGAGTGAGTAACCGCTCCACGTGATGCCCCGGTTTGACAACATTACGCAGAGTCTCACAGCCATTGCTTCCGCCATGACATTCCGCTGGCTTCAACATAAATACACCCTACACAGAGACGGTTCTTCGGTCCGAAGTTCGGAGCTGCTTAGGTTGCAAGCAAAACCCTTAGGTCGCCAACCGTGTAGTTAGTCTCTGGGGGCGGGATGGGTCCTAGCCAGAATGATGATTGAAGAACCGTTCAGCAATTTTTGTTAGCGACTTTCCAGACGCGGTACCATGCGGTAGTACCGAAGGAGTACCCAAAGGTGGGCTCCGTTTTAAAAAAGGTAGCTGGGGCACCGGGAGCATCACGAGTTGGGTCGACTGTGAGAGTTTAGCACCAGACTTAGCGCTGTACCTACGACCTGGCTGTTGCACACGTAATACCGAAGTATAAATCACCTGTTAAACACGATGGACTAGTGACTTGTAGCGGTCTCCGCGAAAGAAAGAAAGAAAGAAAGAAAGAAAGAAAGAAAGAAAGAAAGAAAGAAAGAAAGAAAGAAAGAAAGAAAGAAAGAAAGAAAGAAAGAAAGAAAGAAAGAAAGAAAGAAAGAAAGAAAGAAACCGTAAGAAGATAACTAACACCCCTGATTGTACTATGATAAGGTGATATCTAACCATCAATCAATTGGAAACATTATAAATATAAGTCTTTGTGGTCGCTATCCTTGACTCGCAATGATCAAGGACACGGCTGCCTGATGTGGTCCGCCCTTATTTTTAACTCGAGGGACGGCCAAGGGGGTATATGCGACAGCCACCAAACCATCCTGACTCGCAAATCCCAACCATTAATGATGCTTAATTTGTTGGACGATAGGTAAATATATCTATCTATCTATCTATCTATCTATCTATCTATCTATCTATCTATCTATCTATCTATCTATCTATCTATCTATCTATCTATCTATCTATCTATCTATCTATCTATCTATCTATCTATCTATCTATCTATCTATCTATCTATCTATCTATCTATCTATCTATCTATCTATCTATCTATCTATCTATCGACTGGAAGTCCTTCAGCACGACCCGAGATCATGGCCAGATATCTCCCGGCTACGACCAATGAATGAATGAATGAATGAATGAATGAATGAATGAATGAATGAATGAATGAATGAATGAATGAATGAATGCGAGCGTGATTATAGACGACCATCCACTTCACTTGTGTTTCTGTAGGTCATCAGATCACGTCATCACCGAGGAATAGCTGTGACAATCCGTTAAACTATGGACGCGAAGGGCGAGATGTTATCAGAACCTTACCGTTGCCGCGAGCAGGAGCGTACTACAGGCGGGGGCGCACGTGCCTCTAGTCCGGCTGTGAAAAAGTTGGTCCAGCACTACGTTCTGCCGCCCACAAGTGGAGTACGCCAGTGGGGGTGATGCTGCATTCTGCGCTCCAATGGTTACGTCGGTCCAGTTTTTTCTTTTTTTCTTTTTTTCTTTTTTTCTTTTTTTCTTTTTTTCTTTTTTTCTTTTTTTCTTTTTTTCTTTTTTTCTTTTTTTCTTTTTTTCTTTTTTTCTTTTTTTCTTTTTTTCTTTTTTTCTTTTTTTCTTTTTTTCTTTTTTTCTTTTTTTCTTTTTTTCTTTTTTTCTTTTTTTCTTTTTTTCTTTTTTTCTTTTTTTCTTTTTTTCTTTTTTTCTTTTTTTCTTTTTTTCTTTTTTTCTGACCACTATATCAAGGTGTCTTTCGGTCCAGGCTAGGAGGAACTTACCTCGCGGGAATAAGATCCCCAGTCCTTTTTAGCTCGACATTCGTGTTTTCTTGGGGACAGTAACTCATCATCCAAGGTGTAAAAGTATTCTAAGGTGCTCTCTTCTATGATCACACACTGCATCCGCTACTCAACATAGCTCGCGGGCCAACAACGTAGCGAAAGGTCGATTCTCCATACAAAAATATCATACTAGCCGGTTAACTAAACGGATTACCTCTTCCGCCGGAACATCTGAATCCATTACTACCGTGTGGTGCATGTTCACATCTTCGCGGTACATGCAGGAACAGTATGTAATGCTCTCGCGAGCCCTATGTGGCCAGGCTAAATGGGTTTACTGCTCAGCTAGTCCCGCCGAAATGACCATCAAATTGCCCGCTCACCCTTATCGCAGACTTCTACGAGAACGAGGTCCCGTTGGGATCAGAGGGAACCCCCAATTGTCAACGCTCCGTGGGTAGGAAAGATCACACCATGTTATCGAAAACATGGGTCCTCTGTATGTCGTAAAGGACCCAGCGAAAAAATTTATTAACGTGGATGGTTACCAGCTTGTTTTAAGAGCACGTCGACCGACACCAAGTCAATCTATTCCCCTCCATATCACGTTGCGAAGAGGTGCAGAGGTCTGTCTGTCTGTCTGTCTGTCTGTCTGTCTGTCTGTCTGTCTGTCTGTCTGTCTGTCTGTCTGTCTGTCTGTCTGTCTGTCTGTCTGTCTGTCTGTCTGTCTGTCTGTCTGTCTGTCTGTCTGTCTGTCTGTCTGTCTGTCTGAGGGCATCACACGGCGGTATACGCATTCAGACCTACACGATGTAAACGCCCAGTTAGGCGCAGATTATCACTGTACACCGACGTTCACCGCTGATAGGGTACTACCTCTCTAGAAGATAGATAGATAGATAGATAGATAGATAGATAGATAGATAGATAGATAGATAGATAGATAGATAGATAGATAGATAGATAGATAGATAGATAGATAGATAGATAAGATCAGATCAGATCAGATCAGATCAGATCAGATCAGATCAGATCAGATCAGATCAGATCAGATCAGATCAGATCAGATCAGATCAGATCAGATCAGATCAGATCAGATCAGATCAGATCAGATCAGATCAGATCAGATCAGATCAGATCAGATCAGATCAGATCAGATCAGATCAGATCAGATCAGATCAGATCAGATCAGATCAGATCAGATCGTTCCTAGTTGCTACCCAACTTGCCTCAATCGGTAGCACCTGAGCACTACGTGTAAACCTAGTAATGTTATGTACCGTGTGGCCGGAGTCTCAGCGACCAGAGAGTGCGAATTGCTCGAATATAGCCTCCGCCAAGTGATATCATAGTCCGGGTAACCAAGTAGTCTCTGTCCGACTAGGCCGCAAGCTTAGTCTAATCTAGTCTAGTCTAGTCTAGTCTAGTCTAGTCTAGTCTAGTCTAGTCTAGTCTAGTCTAGTCTAGTCTAGTCTAGTCTAGTCTAGTCTAGTCTAGTCTAGTCTAGTCTAGTCTAGTCTAGTCTAGACCAACCTAAGTCCTTCGCGTGGGCTTTGACGGTCGGAAAAGGCAGGCCTGCCTTTCTCAATGTTGGATACAGTACCACACATCACTCCGCCGTGTTAGAGCGTAGGGAGACGTTGAGAACCGAACTACCGTGTCGCACATCATGATTTGCTTAATCAATTATTCGGTTACGGTATTCACGCGGACTCCGACGTATAGAATATAAGGTTTACACATGCGAAGAGCCCTGTGTATAGTTGCCCGCATCGAGGGTAACTATGTAAGCTATTGTGTGTGAGTAGTTAGCTACTAACGTGAGCCACCTTAAAACGCTTTGCAGTGAGTTAGGACCTTCGGGGTCCGTGCCACCTTACGTTCGGCACTTCTCTACTTCCTGGCCACCAGCGTTCAGTCGACGCAGGGTAACCGTTCGCGCCACCAAGATAGAAAAGCGGGTCAGGGAGATAATGTACTATTTACTCTATACTACATCACAGGATAATGGTAGAAGCGTCTGAAATCCACCATCGCTCTCCAAATGGGTGGTCGTTAGTGCATTGAGGACTGATCATGCGGCCGCTTTGACGAGCAGGGAGATCTTATGCTGTATCAGGATATGTCGGAGCTTATCCAGCGGCCACGCCGAAGGGTCACCCCATCAACCAGTCGGCCATGTATGTATCCCACCGAACCTGTGATAGTCACTGATTCCGGACTAAGACAGCCGAGTATACAACAGTTTCGCCACATGACGCAGGGGACTATGTCGACCGATACGACTTCCAGTATCTTCTGTACCTACAGATTCCACTGCATAACTGTTAATAGCAGAAGAGAGTCTGCATACGATGGCTAATTAACGGGTCTACCGAACTGCGTCCCTGGCAGATCTTGCTAGCACTCCGCTGCAAGCACACTGAGGCTTAAGCTATTATACCATCTTGCTCTGGTTGCAGACAGGTATGATTCACTCTGTACCTCCGGATCTTTAGCCTTGCATTTACGTCCGGCCGTAACGCAGAAAATTATCTACATGTCTGTCAGTCTCGCGGCCTGCACCGAGTGCTCGTCGACGCTCTGGCCAGGGCGAAGATCAGATTCCGTTTGACTTAAGGGTAGTTAGTAGGCGGCCAACGTCTGGTGAAAGGGCTGTTAGACTTGTAGACTTCCGTCATTGGGTCTAATACTGCTATTGATCTATGCCTGCCAATAACACGATGATTAGCTGTATAGTGGGTAATCAGGGAACGTTTACGTTCCTCAAGAAAGAACTCAAAGCCCCAGATAGAAAATACAGACTACCCAACTTGCGGGTTCCACTATATGTTCACCCGTTACTTGCTGCAAACCGAGATCACCCAGCATTTCGACCACGAGCCTTAGATCCAAATGCCACACACCAGTTTAGCGATGAATGTGTATAACGGGTTCTTACAGAGAACTACCAATCCGTAGCCTACGACACCACGGACTCTAATCACCAGGAAGATACAGAACTTGTGGCTGTCTACTGACCGTACGGGTTTGGCCAAAATGAAGCCGCCTAATGGTGTCACCGAGACAGTGTCTCGCTTACCAAGTCCGAGGCCCCATCACGAAGCGTCTGTAGATAAGGATCCGTTCCGGCGCCTGGGACCCGATCGAGAGTTCAGCTGCTGAAAGGGGTGGCGTCGTATGCATCCTTACCTACATCAGTTACGTGCCTCCACCGTTCACAGGGTGGGAGCCTTGACTCTTGCGGAGGGCGGACTGCTTTTAGCGCCTACAGGTCGTACTGATTTAACAAAGCAGAAGCGCTGCCGGGGTCTCATATGGACTATATAAGCGACACACCTTGGACCGCAACTCGAAGACTTCTGGCCGCTAGTGCCCAGGATGTAAACCGAACTACGCCAAGTTGGGAAGAGAAAATCCATCTGACTGCACGGTTCTGTGGAAGATAATGGCCCTAACTTTGCTCTATTAATAAACTATTGACGCCCAAAAAGAACATGTACGGACTGACTGGTACTTCAATTAGCCACTGGTAGTAGTCCTCGATTCAAGGAATCTGTGACAGTCGTACCGCTATATTAATAAATCGCTAAGTGCCAAAGGTCCGACCGTACTGACTGCTGATGTACTTGATTCACGGGATGTTAATAGGAGCTTTGCAATGTGTGCTTAAGTCCAGTCATCTACGCGCTTGCGGCTTGATCCCAGAGTATAACACATAAATCAGACTGTAGCG'"
      ]
    },
    {
      "cell_type": "markdown",
      "metadata": {
        "id": "bep07McIgkuB"
      },
      "source": [
        "### Import the Data\n",
        "You have a database containing information about possible suspects and information about their genomes, specifically their STR counts. Let's import this database:"
      ]
    },
    {
      "cell_type": "code",
      "execution_count": null,
      "metadata": {
        "id": "k8XDYscLgkuB"
      },
      "outputs": [],
      "source": []
    },
    {
      "cell_type": "markdown",
      "metadata": {
        "id": "RyrwjvlmgkuB"
      },
      "source": [
        "The table above shows each individual's STR types and the longest run of consecutive repeats of the STR in their DNA sequence. Each row in the table corresponds to an individual and each column corresponds to a specific STR and its counts in corresponding individuals' genomes. Every row after the first one corresponds to a person."
      ]
    },
    {
      "cell_type": "markdown",
      "metadata": {
        "id": "10cVzUB1gkuB"
      },
      "source": [
        "### Getting the STR Counts from the Sample DNA\n",
        "To be able to match the sample DNA to an individual in the database, we first need to calculate the STR counts (or the longest run consecutive repeats of each STR) sequence in the sample sequence. We will build the algorithm step by step.\n",
        "\n",
        "We recommend you to watch this walkthrough video to get an idea of what the overall goal of our algorithm is: https://www.youtube.com/watch?v=j84b_EgntcQ. Please ignore minutes 4:03-5.15 because we will be transforming the database in CSV form into a table as in the datascience package.\n",
        "\n",
        "Note: The questions in this lab build up on each other, eventually leading you to the final solution. The final solution is quite long, that's why the questions try to tackle the problem step by step.\n"
      ]
    },
    {
      "cell_type": "markdown",
      "metadata": {
        "id": "0iaN9jp6gkuB"
      },
      "source": [
        "##### Question  1\n",
        "To be able to find the longest run of consecutive STRs, we need to look at each nucleotide of the sequence at a time and compare with a specific STR sequence to see if that nucleotide is the start of consecutive STR sequences. For this, first design a loop that parses through the <mark> sample_dna</mark> sequence:"
      ]
    },
    {
      "cell_type": "code",
      "execution_count": null,
      "metadata": {
        "id": "GDYQnzgxgkuB"
      },
      "outputs": [],
      "source": [
        "# Question 1"
      ]
    },
    {
      "cell_type": "markdown",
      "metadata": {
        "id": "KU_uUKtNgkuC"
      },
      "source": [
        "##### Question 2\n",
        "Next, let's gather all of the possible STR types together. Create a list called <mark> str_list</mark>, which contains all of the STR types (as strings) in it. Hint: The first row of the database can be used for which STRs (short DNA sequences) to look for in the given DNA. You can use the first row of the database provided and add each STR name into a list. You can also use the <mark> list.append()</mark> to add items to the list. Do not hardcode str_list, use the database provided:"
      ]
    },
    {
      "cell_type": "code",
      "execution_count": null,
      "metadata": {
        "id": "Jiho21gpgkuC"
      },
      "outputs": [],
      "source": [
        "# Question 2\n",
        "str_list = []"
      ]
    },
    {
      "cell_type": "markdown",
      "metadata": {
        "id": "Qz1TJVx2gkuC"
      },
      "source": [
        "##### Question 3\n",
        "Write a function called <mark> str_match(i, str, dna)</mark> that takes a start position integer <mark> i</mark>, a string type <mark>str</mark>, and a DNA sequence string <mark> dna</mark> as inputs. This function will prove to be useful later on and will help us simplify our code. The function should check whether the DNA's ith position and onward matches the chosen str. It should return True if it matches and False otherwise. Hint: Use dna[i : j] to take a substring and compare with str. Also, you can use len() to take the length of the str sequence and determine the jth position to take a substring:"
      ]
    },
    {
      "cell_type": "code",
      "execution_count": null,
      "metadata": {
        "id": "5vgS7qNKgkuC"
      },
      "outputs": [],
      "source": [
        "# Question 3, fill in the ellipsis\n",
        "\n",
        "# Output: True or False\n",
        "def str_match(i, str, dna):\n",
        "  # Your Code Here\n",
        "  ...\n",
        "  return ...\n",
        "\n"
      ]
    },
    {
      "cell_type": "code",
      "source": [
        "# Test Case for Question 3\n",
        "\n",
        "def test_q3():\n",
        "  output1 = str_match(3, 'aagt', 'gtcaagt')\n",
        "  output2 = str_match(2, 'cgta', 'cgtac')\n",
        "  if (output1 == True) & (output2 == False):\n",
        "    print('Test Case Passed!')\n",
        "  else:\n",
        "    print('Test Case Failed')\n",
        "\n",
        "test_q3()"
      ],
      "metadata": {
        "colab": {
          "base_uri": "https://localhost:8080/"
        },
        "id": "zL2imXPM57LK",
        "outputId": "10666e6e-b53d-4606-bacb-6f220155deab"
      },
      "execution_count": null,
      "outputs": [
        {
          "output_type": "stream",
          "name": "stdout",
          "text": [
            "Test Case Passed!\n"
          ]
        }
      ]
    },
    {
      "cell_type": "markdown",
      "metadata": {
        "id": "eOEzTQnQgkuD"
      },
      "source": [
        "##### Question 4\n",
        "Now, incorporate the str_match() function with the for loop from Question 1. If str_match matches an str at a particular nucleotide on the DNA sequence, it should continue to check whether the following pieces of DNA at the same length as the str also match the str sequence until finally it does not match. Hint: You will need to use a nested loop."
      ]
    },
    {
      "cell_type": "code",
      "execution_count": null,
      "metadata": {
        "id": "TK77yf8LgkuD"
      },
      "outputs": [],
      "source": [
        "# Question 4\n",
        "# For now, only check for the first str from the str_list for simplicity as provided below.\n",
        "# str = str_list[0] #Uncomment this line of code once you have built str_list\n",
        "\n",
        "for i in ... :\n",
        "  for j in ... :\n",
        "\n",
        "\n",
        "# Assign your answer to this variable\n",
        "matches = ..."
      ]
    },
    {
      "cell_type": "code",
      "source": [
        "# DO NOT MODIFY THE CONTENTS OF THIS CELL\n",
        "assert matches == a"
      ],
      "metadata": {
        "id": "DImXIq21Vr5c"
      },
      "execution_count": null,
      "outputs": []
    },
    {
      "cell_type": "markdown",
      "metadata": {
        "id": "AUdabWGNgkuJ"
      },
      "source": [
        "##### Question 5\n",
        "Next, introduce a way to count the maximum number of consecutive STRs matched. Again, only do it on one type of str for simplicity. Your code should look at each nucleotide in sample_dna, calculate the longest run of the str starting from that nucleotide, and after having checked each nucleotide, return the maximum number of consecutive STRs."
      ]
    },
    {
      "cell_type": "code",
      "execution_count": null,
      "metadata": {
        "id": "4FNzG9RygkuJ"
      },
      "outputs": [],
      "source": [
        "# Question 5\n",
        "\n",
        "\n",
        "\n",
        "# Assign your answer to this variable\n",
        "max_consec_str = ..."
      ]
    },
    {
      "cell_type": "code",
      "source": [
        "# DO NOT MODIFY THE CONTENTS OF THIS CELL\n",
        "assert max_consec_str == b"
      ],
      "metadata": {
        "id": "BD4bE4yyV-lP"
      },
      "execution_count": null,
      "outputs": []
    },
    {
      "cell_type": "markdown",
      "metadata": {
        "id": "QJgXPbmqgkuK"
      },
      "source": [
        "##### Question 6\n",
        "Make what you have in Question 5 into a function called <mark> strCounting(dna, str_list)</mark>. The inputs are the DNA sequence and the str_list that you have built previously. The function should print the STR counts for each of the STRs. When printing, print the STR sequence and the STR count together. The only difference of this function and the loop from Question 5 is that the function should calculate the maximum number of consecutive STRs for *each* STR in the str_list. Hint: Use a for loop to parse through str_list and apply your code from Question 5 to each different str."
      ]
    },
    {
      "cell_type": "code",
      "execution_count": null,
      "metadata": {
        "id": "1kuiD-bbgkuK"
      },
      "outputs": [],
      "source": [
        "# Question 6, fill in the ellipsis\n",
        "\n",
        "# Output: Print the STR counts for each of the STRs\n",
        "def strCounting(dna, str_list):\n",
        "  # Your code here\n",
        "\n",
        "  for str in ... :  # Calculate the max number of consecutive STRs for each STR\n",
        "    ...\n",
        "    print(...)"
      ]
    },
    {
      "cell_type": "code",
      "source": [
        "# DO NOT MODIFY THE CONTENTS OF THIS CELL\n",
        "assert strCounting() == c"
      ],
      "metadata": {
        "id": "8kT62iEK4Wr_"
      },
      "execution_count": null,
      "outputs": []
    },
    {
      "cell_type": "markdown",
      "metadata": {
        "id": "1XTwLASZgkuK"
      },
      "source": [
        "### Build a STR Table for the Sample DNA\n",
        "##### Question 7\n",
        "Now that we know the STR counts in the DNA sequence, change the function you created in Question 6 so that it adds every STR count and the STR sequence into a table called <mark> sample_dna_strs</mark> (should not print the STR counts anymore). The table should be in the same structure as the database provided in the beginning. It should have 2 rows only (one of them being all of the STR titles and the other the STR counts for each of the STR titles)."
      ]
    },
    {
      "cell_type": "code",
      "execution_count": null,
      "metadata": {
        "id": "6ODeH1ragkuK"
      },
      "outputs": [],
      "source": [
        "# Question 7, fill in the ellipsis\n",
        "\n",
        "sample_dna_strs = Table()     # Create a table that will store STR counts\n",
        "\n",
        "# Output: A table containing 2 rows, one containing the STR titles and one containing STR counts\n",
        "def strCounting_table(dna, str_list):\n",
        "  # Your code here\n",
        "  sample_dna_strs.append(...)   # append the STR titles\n",
        "\n",
        "  for str in ... :\n",
        "    ...\n",
        "    sample_dna_strs.append(...)     # add the max STR counts into the table\n",
        "\n",
        "  return sample_dna_strs     # Return the table\n"
      ]
    },
    {
      "cell_type": "code",
      "source": [
        "# DO NOT MODIFY THE CONTENTS OF THIS CELL\n",
        "sample_dna_strs.head()"
      ],
      "metadata": {
        "id": "JUC_50m64G6B"
      },
      "execution_count": null,
      "outputs": []
    },
    {
      "cell_type": "markdown",
      "metadata": {
        "id": "RRJLnXpBgkuL"
      },
      "source": [
        "### Who Is the Match?\n",
        "##### Question 8\n",
        "Having found all of the STR counts in the sample DNA sequence, now let's find who it matches to! Write a function called <mark> match(sample_dna_data, database)</mark>, which takes two tables and prints out the name from the database that matches the sample DNA's STR counts. If no match is found, the function should print \"No match found!\" Hint: The <mark> match()</mark> function should take <mark> sample_dna_strs</mark> and <mark> database</mark> as inputs:"
      ]
    },
    {
      "cell_type": "code",
      "execution_count": null,
      "metadata": {
        "id": "aCz8uQThgkuL"
      },
      "outputs": [],
      "source": [
        "# Question 8\n",
        "def match(sample_dna_strs, database):\n",
        "    print(\"\")"
      ]
    },
    {
      "cell_type": "markdown",
      "metadata": {
        "id": "G1iKrYsjgkuL"
      },
      "source": [
        "##### Question 9\n",
        "Finally, use the match() function you have just created to find out who is the match!"
      ]
    },
    {
      "cell_type": "code",
      "execution_count": null,
      "metadata": {
        "id": "tdQYSEMQgkuL"
      },
      "outputs": [],
      "source": [
        "# Question 9"
      ]
    },
    {
      "cell_type": "markdown",
      "metadata": {
        "id": "Obsebb31gkuM"
      },
      "source": [
        "Congrats! You have finished LAB 2!"
      ]
    }
  ],
  "metadata": {
    "kernelspec": {
      "display_name": "Python 3",
      "language": "python",
      "name": "python3"
    },
    "language_info": {
      "codemirror_mode": {
        "name": "ipython",
        "version": 3
      },
      "file_extension": ".py",
      "mimetype": "text/x-python",
      "name": "python",
      "nbconvert_exporter": "python",
      "pygments_lexer": "ipython3",
      "version": "3.8.5"
    },
    "colab": {
      "provenance": [],
      "include_colab_link": true
    }
  },
  "nbformat": 4,
  "nbformat_minor": 0
}