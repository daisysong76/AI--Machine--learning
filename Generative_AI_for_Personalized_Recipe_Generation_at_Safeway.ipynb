{
  "nbformat": 4,
  "nbformat_minor": 0,
  "metadata": {
    "colab": {
      "provenance": [],
      "authorship_tag": "ABX9TyOS/qgZjuhxyVM61WaBmPf7",
      "include_colab_link": true
    },
    "kernelspec": {
      "name": "python3",
      "display_name": "Python 3"
    },
    "language_info": {
      "name": "python"
    }
  },
  "cells": [
    {
      "cell_type": "markdown",
      "metadata": {
        "id": "view-in-github",
        "colab_type": "text"
      },
      "source": [
        "<a href=\"https://colab.research.google.com/github/daisysong76/AI--Machine--learning/blob/main/Generative_AI_for_Personalized_Recipe_Generation_at_Safeway.ipynb\" target=\"_parent\"><img src=\"https://colab.research.google.com/assets/colab-badge.svg\" alt=\"Open In Colab\"/></a>"
      ]
    },
    {
      "cell_type": "markdown",
      "source": [
        "To implement the most advanced approach for Generative AI for Personalized Recipe Generation at Safeway, the system can be built around a fine-tuned GPT/LLama/Claudo model that not only generates personalized recipes but also integrates with Safeway's product data, customer preferences, and dietary restrictions. This system can dynamically generate recipe ideas and suggest complementary products, ultimately enhancing cross-selling and upselling opportunities."
      ],
      "metadata": {
        "id": "dO919g0SIYEy"
      }
    },
    {
      "cell_type": "markdown",
      "source": [
        "1. Data Collection and Preparation\n",
        "Customer Purchase History: Collect customer purchase data (e.g., past purchases, product categories, favorite items) and store it in a database.\n",
        "Product Data: Catalog all products with detailed metadata (e.g., ingredients, nutrition facts, dietary information, stock availability, prices).\n",
        "Dietary Preferences and Restrictions: Allow customers to input dietary preferences (e.g., vegetarian, vegan, gluten-free) and restrictions (e.g., allergies to nuts, lactose intolerance).\n",
        "Local Sales Data: Integrate current promotions and local sales data for recommending products that are on discount or in abundance."
      ],
      "metadata": {
        "id": "Ms3NRsj8IjDE"
      }
    },
    {
      "cell_type": "code",
      "execution_count": null,
      "metadata": {
        "id": "RUvVCJhnIXi-"
      },
      "outputs": [],
      "source": [
        "import pandas as pd\n",
        "\n",
        "# Load product data\n",
        "products = pd.read_csv('product_catalog.csv')\n",
        "\n",
        "# Example product data structure\n",
        "product_data = {\n",
        "    'product_id': [1, 2, 3, 4],\n",
        "    'name': ['Pasta', 'Olive Oil', 'Cheese', 'Tomatoes'],\n",
        "    'category': ['Grain', 'Oil', 'Dairy', 'Vegetable'],\n",
        "    'price': [2.99, 5.49, 3.99, 1.49],\n",
        "    'dietary_tags': ['vegetarian', 'vegan', 'gluten-free', ''],\n",
        "    'in_stock': [True, True, False, True]\n",
        "}\n",
        "\n",
        "# Customer dietary preferences and restrictions\n",
        "customer_preferences = {\n",
        "    'vegetarian': True,\n",
        "    'gluten_free': False,\n",
        "    'nut_allergy': True\n",
        "}\n",
        "\n",
        "# Sales data\n",
        "local_sales = {\n",
        "    'Pasta': 0.10,  # 10% discount\n",
        "    'Tomatoes': 0.15  # 15% discount\n",
        "}\n"
      ]
    },
    {
      "cell_type": "code",
      "source": [
        "2. Fine-Tuning a GPT Model for Recipe Generation\n",
        "Model Choice: Use an advanced generative model such as GPT-4 or a fine-tuned variant like T5 for text generation, fine-tuned on a recipe dataset.\n",
        "Fine-Tuning: Fine-tune the GPT model on a dataset of recipes, incorporating ingredients, cooking steps, and metadata (dietary labels, meal types, etc.).\n",
        "Data for Fine-Tuning: Datasets like RecipeNLG can be used to fine-tune the model to generate recipes dynamically.\n",
        "Fine-Tuning Code Example (Using Hugging Face Transformers):"
      ],
      "metadata": {
        "id": "CzlII7FTIs1H"
      },
      "execution_count": null,
      "outputs": []
    },
    {
      "cell_type": "code",
      "source": [
        "from transformers import GPT2Tokenizer, GPT2LMHeadModel, Trainer, TrainingArguments\n",
        "\n",
        "# Load pretrained GPT-2 model and tokenizer\n",
        "tokenizer = GPT2Tokenizer.from_pretrained('gpt2')\n",
        "model = GPT2LMHeadModel.from_pretrained('gpt2')\n",
        "\n",
        "# Fine-tune on recipe dataset\n",
        "train_data = tokenizer(\"data/recipe_dataset.txt\", return_tensors='pt', padding=True, truncation=True)\n",
        "\n",
        "# Define training arguments\n",
        "training_args = TrainingArguments(\n",
        "    output_dir='./results',\n",
        "    per_device_train_batch_size=4,\n",
        "    num_train_epochs=3,\n",
        "    save_steps=10_000,\n",
        "    save_total_limit=2,\n",
        ")\n",
        "\n",
        "trainer = Trainer(\n",
        "    model=model,\n",
        "    args=training_args,\n",
        "    train_dataset=train_data\n",
        ")\n",
        "\n",
        "# Start training\n",
        "trainer.train()\n"
      ],
      "metadata": {
        "id": "EQj6dwBRIvSN"
      },
      "execution_count": null,
      "outputs": []
    },
    {
      "cell_type": "markdown",
      "source": [
        "3. Generating Personalized Recipes\n",
        "The fine-tuned model will generate personalized recipes based on a customer's purchase history and preferences. The model should dynamically adjust the recipe depending on available products, dietary restrictions, and current sales. For instance, if the customer bought pasta, the system would suggest a pasta recipe while incorporating local sales (e.g., olive oil on discount).\n",
        "\n",
        "Advanced Approach:\n",
        "\n",
        "Product Matching: Match the customer’s past purchases with products in the inventory.\n",
        "Dietary Consideration: Filter recipe ingredients based on customer preferences and dietary restrictions (e.g., vegetarian, gluten-free).\n",
        "Sales Integration: Highlight ingredients that are currently on sale to increase cross-selling.\n",
        "Code Example for Personalized Recipe Generation:"
      ],
      "metadata": {
        "id": "95LufxmGIzFC"
      }
    },
    {
      "cell_type": "code",
      "source": [
        "def generate_personalized_recipe(purchase_history, dietary_preferences, product_data, local_sales):\n",
        "    # Use GPT model to generate a recipe based on the customer's past purchases\n",
        "    prompt = f\"Generate a recipe for {', '.join(purchase_history)} considering the following dietary preferences: {', '.join([key for key, value in dietary_preferences.items() if value])}.\"\n",
        "\n",
        "    input_ids = tokenizer.encode(prompt, return_tensors='pt')\n",
        "    generated_ids = model.generate(input_ids, max_length=150, num_return_sequences=1)\n",
        "\n",
        "    recipe = tokenizer.decode(generated_ids[0], skip_special_tokens=True)\n",
        "\n",
        "    # Suggest complementary ingredients and apply discounts\n",
        "    suggested_products = []\n",
        "    for product in product_data['name']:\n",
        "        if product in local_sales:\n",
        "            suggested_products.append(f\"{product} (on sale: {local_sales[product] * 100}% off)\")\n",
        "        else:\n",
        "            suggested_products.append(product)\n",
        "\n",
        "    return recipe, suggested_products\n",
        "\n",
        "# Example usage\n",
        "purchase_history = ['Pasta', 'Tomatoes']\n",
        "recipe, suggestions = generate_personalized_recipe(purchase_history, customer_preferences, product_data, local_sales)\n",
        "print(f\"Recipe: {recipe}\")\n",
        "print(f\"Suggested products: {suggestions}\")\n"
      ],
      "metadata": {
        "id": "FJbjdHzhI1bb"
      },
      "execution_count": null,
      "outputs": []
    },
    {
      "cell_type": "markdown",
      "source": [
        "4. Cross-Selling and Upselling\n",
        "After generating the recipe, the system should recommend complementary products (e.g., olive oil, cheese) that the customer can easily add to their shopping cart.\n",
        "By using the customer's purchase history and sales data, the system can highlight discounts to encourage cross-selling and upselling.\n",
        "Advanced Features:\n",
        "\n",
        "Dynamic Suggestions: As new products go on sale or items go out of stock, the system can update its recommendations in real-time.\n",
        "Shopping Cart Integration: Allow customers to click and add all suggested ingredients to their cart directly from the recipe page.\n",
        "Code Example for Adding to Cart:"
      ],
      "metadata": {
        "id": "8ioQUDLhI57k"
      }
    },
    {
      "cell_type": "code",
      "source": [
        "def suggest_complementary_products(recipe_ingredients, product_data):\n",
        "    complementary_products = []\n",
        "    for ingredient in recipe_ingredients:\n",
        "        product_match = product_data[product_data['name'].str.contains(ingredient)]\n",
        "        if not product_match.empty and product_match['in_stock'].values[0]:\n",
        "            complementary_products.append({\n",
        "                'name': product_match['name'].values[0],\n",
        "                'price': product_match['price'].values[0],\n",
        "                'on_sale': local_sales.get(product_match['name'].values[0], 0)\n",
        "            })\n",
        "    return complementary_products\n",
        "\n",
        "# Example complementary products for the generated recipe\n",
        "complementary_products = suggest_complementary_products(['Pasta', 'Olive Oil'], product_data)\n",
        "print(complementary_products)\n"
      ],
      "metadata": {
        "id": "ttDvetfyI7I_"
      },
      "execution_count": null,
      "outputs": []
    },
    {
      "cell_type": "markdown",
      "source": [
        "5. Real-Time Product Availability and Sales Integration\n",
        "Integrate the system with Safeway’s inventory management to ensure that only available products are recommended.\n",
        "If certain ingredients are unavailable or on sale, the system can adapt the recipe accordingly.\n",
        "Code Example (Checking Real-Time Availability):"
      ],
      "metadata": {
        "id": "Q91MTctfJBDh"
      }
    },
    {
      "cell_type": "code",
      "source": [
        "def check_availability_and_sales(ingredient, product_data, local_sales):\n",
        "    product_match = product_data[product_data['name'].str.contains(ingredient)]\n",
        "    if not product_match.empty:\n",
        "        product_info = product_match.iloc[0]\n",
        "        availability = product_info['in_stock']\n",
        "        sale = local_sales.get(product_info['name'], 0)\n",
        "        return availability, sale\n",
        "    return False, 0\n",
        "\n",
        "# Example check for a specific product\n",
        "availability, sale = check_availability_and_sales('Pasta', product_data, local_sales)\n",
        "if availability:\n",
        "    print(f\"Pasta is available with {sale * 100}% off\")\n"
      ],
      "metadata": {
        "id": "r28LasXQJCJn"
      },
      "execution_count": null,
      "outputs": []
    },
    {
      "cell_type": "markdown",
      "source": [
        "6. Deployment and Scaling\n",
        "Deploy the system on cloud infrastructure such as AWS Lambda or Google Cloud Functions for scalable serverless architecture.\n",
        "APIs can be created to allow integration with Safeway’s mobile app or website, where customers can receive personalized recipe suggestions in real-time.\n",
        "API Endpoint Example Using Flask:"
      ],
      "metadata": {
        "id": "1GNHlsW4JHLA"
      }
    },
    {
      "cell_type": "code",
      "source": [
        "from flask import Flask, request, jsonify\n",
        "\n",
        "app = Flask(__name__)\n",
        "\n",
        "@app.route('/generate_recipe', methods=['POST'])\n",
        "def generate_recipe():\n",
        "    data = request.json\n",
        "    purchase_history = data.get('purchase_history')\n",
        "    recipe, suggestions = generate_personalized_recipe(purchase_history, customer_preferences, product_data, local_sales)\n",
        "    return jsonify({'recipe': recipe, 'suggestions': suggestions})\n",
        "\n",
        "if __name__ == '__main__':\n",
        "    app.run(host='0.0.0.0', port=5000)\n"
      ],
      "metadata": {
        "id": "FylQPJbmJIcc"
      },
      "execution_count": null,
      "outputs": []
    },
    {
      "cell_type": "markdown",
      "source": [
        "Advanced Features to Consider:\n",
        "Recipe Customization: Allow customers to tweak recipes (e.g., change serving size or substitute ingredients based on availability).\n",
        "Voice Integration: Implement voice commands for generating recipes using Amazon Alexa or Google Assistant.\n",
        "Nutritional Information: Automatically calculate and display nutritional values for the generated recipes based on product data."
      ],
      "metadata": {
        "id": "xnF2gleKJPNt"
      }
    },
    {
      "cell_type": "markdown",
      "source": [
        "This advanced approach leverages a fine-tuned GPT model to generate personalized recipes based on customer preferences, past purchases, and local sales. It integrates real-time product availability and suggests complementary items to enhance cross-selling and upselling opportunities, ultimately creating a seamless shopping experience for Safeway customers."
      ],
      "metadata": {
        "id": "1hj6bn57JWH-"
      }
    }
  ]
}