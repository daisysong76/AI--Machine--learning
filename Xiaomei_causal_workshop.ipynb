{
  "nbformat": 4,
  "nbformat_minor": 0,
  "metadata": {
    "colab": {
      "provenance": [],
      "toc_visible": true,
      "include_colab_link": true
    },
    "kernelspec": {
      "display_name": "Python 3",
      "language": "python",
      "name": "python3"
    }
  },
  "cells": [
    {
      "cell_type": "markdown",
      "metadata": {
        "id": "view-in-github",
        "colab_type": "text"
      },
      "source": [
        "<a href=\"https://colab.research.google.com/github/daisysong76/AI--Machine--learning/blob/main/Xiaomei_causal_workshop.ipynb\" target=\"_parent\"><img src=\"https://colab.research.google.com/assets/colab-badge.svg\" alt=\"Open In Colab\"/></a>"
      ]
    },
    {
      "metadata": {
        "id": "T0NWGbpnV1bT"
      },
      "cell_type": "markdown",
      "source": [
        "# Introduction to Causal Inference Workshop\n",
        "\n",
        "Hands-on Workshops by Xiaomei Song\n",
        "\n",
        "---\n",
        "- [`doWhy` GitHub repo](https://github.com/Microsoft/dowhy)\n",
        "- [`doWhy` document](https://causalinference.gitlab.io/dowhy/)\n",
        "\n",
        "\n",
        "## Before running all cells, please go to `FILE > Save a copy in Drive` to save the colab notebook to your own Google Drive."
      ]
    },
    {
      "metadata": {
        "id": "EwIDXHM2WWel"
      },
      "cell_type": "markdown",
      "source": [
        "### [0.1] Install dependencies\n"
      ]
    },
    {
      "metadata": {
        "id": "NnDIirFdIrpn"
      },
      "cell_type": "markdown",
      "source": [
        "We recommend you to use VM provided by Google colab due to package version compatibility. It may take a minute to initialize the VM and install the following dependencies and packages.\n"
      ]
    },
    {
      "metadata": {
        "id": "eX5xc3A1PrAe"
      },
      "cell_type": "code",
      "source": [
        "%%capture\n",
        "!git clone https://github.com/Microsoft/dowhy.git\n",
        "!sudo apt install graphviz libgraphviz-dev graphviz-dev pkg-config\n",
        "!pip install pygraphviz \\\n",
        " --install-option=\"--include-path=/usr/include/graphviz\" \\\n",
        " --install-option=\"--library-path=/usr/lib/graphviz/\"\n",
        "!pip install -r ./dowhy/requirements.txt\n",
        "!pip install --upgrade pandas\n",
        "!pip install --upgrade statsmodels\n",
        "!python ./dowhy/setup.py install\n",
        "!wget -P ./dowhy/dowhy/causal_estimators/ \\\n",
        "https://raw.githubusercontent.com/ckbjimmy/2019_tokyo/master/supp/logistic_regression_estimator.py"
      ],
      "execution_count": 1,
      "outputs": []
    },
    {
      "metadata": {
        "id": "DH2G5cM3KVot"
      },
      "cell_type": "markdown",
      "source": [
        "### Reload the updated packages by manually running `Runtime > Restart runtime` or `Ctrl + M .`\n",
        "\n",
        "Make sure that you do this.\n",
        "\n",
        "![runtime](https://raw.githubusercontent.com/ckbjimmy/2019_tokyo/master/supp/runtime.png =600x)"
      ]
    },
    {
      "metadata": {
        "id": "JQFOkSX8XGyQ"
      },
      "cell_type": "markdown",
      "source": [
        "### [0.2] Load packages"
      ]
    },
    {
      "metadata": {
        "id": "LAbALlVwP0A7"
      },
      "cell_type": "code",
      "source": [
        "import sys\n",
        "sys.path.append('dowhy')\n",
        "import random\n",
        "import numpy as np\n",
        "import pandas as pd\n",
        "pd.set_option('display.max_columns', 100)\n",
        "from scipy import stats\n",
        "from IPython.display import Image, display\n",
        "\n",
        "from dowhy.do_why import CausalModel\n",
        "import dowhy.datasets\n",
        "from sklearn.linear_model import LogisticRegression"
      ],
      "execution_count": null,
      "outputs": []
    },
    {
      "metadata": {
        "id": "slp2jsuUXCa6"
      },
      "cell_type": "markdown",
      "source": [
        "### [0.3] Create a data simulator and define a graph"
      ]
    },
    {
      "metadata": {
        "id": "0Jjek0bmVe7O"
      },
      "cell_type": "code",
      "source": [
        "class DataSimulator(object):\n",
        "    def __init__(self):\n",
        "        # Specify the model parameters\n",
        "        self.sample_size = 5000\n",
        "\n",
        "        # Specify the prevalence of A (exposure)\n",
        "        self.p_A = 0.2\n",
        "\n",
        "        self.a_0 = np.log(0.05/(1 - 0.05))\n",
        "        self.a_LA = np.log(10.0)\n",
        "\n",
        "        # Parameters for the odds of Y (outcome)\n",
        "        self.y_0 = np.log(0.05/(1 - 0.05)) # log odds of Y for ref group (A = 0, L = 0, and S = 0)\n",
        "        self.y_AY = np.log(1.0) # log OR for effect of A on log odds of Y (OR = 1.0) no effect\n",
        "        self.y_LY = np.log(5.0) # log OR for effect of L on log odds of Y (OR = 5.0)\n",
        "\n",
        "        # Parameters for the odds of S (selection)\n",
        "        self.s_0 = np.log(0.10/(1 - 0.10)) # log odds of S for ref group (A = 0 and L = 0)\n",
        "        self.s_AS = np.log(5.0) # log OR for effect of A on log odds of selection (OR = 5.0)\n",
        "        self.s_LS = np.log(5.0) # log OR for effect of L on log odds of selection (OR = 5.0)\n",
        "        self.s_LA = np.log(1.0) # log OR for interaction between A and L (OR = 1.0)\n",
        "\n",
        "    def prob_A(self, L):\n",
        "        return np.exp(self.a_0 + self.a_LA*L)/(1 + np.exp(self.a_0 + self.a_LA*L))\n",
        "\n",
        "    def prob_S(self, A, L):\n",
        "        return np.exp(self.s_0 + self.s_AS*A + self.s_LS*L + self.s_LA*L*A) / (1 + np.exp(self.s_0 + self.s_AS*A + self.s_LS*L + self.s_LA*L*A))\n",
        "\n",
        "    def prob_Y(self, A, L):\n",
        "        return np.exp(self.y_0 + self.y_AY*A +  self.y_LY*L) / (1 + np.exp(self.y_0 + self.y_AY*A +  self.y_LY*L))\n",
        "\n",
        "    def get_graph(self, task):\n",
        "        if task == 'confounder':\n",
        "            g = '''\n",
        "            graph [\n",
        "            directed 1\n",
        "            node[id \"A\" label \"A\"]\n",
        "            node[id \"Y\" label \"Y\"]\n",
        "            node[id \"L\" label \"L\"]\n",
        "            edge[source \"L\" target \"A\" weight 1]\n",
        "            edge[source \"L\" target \"Y\" weight 1]\n",
        "            ]\n",
        "            '''\n",
        "\n",
        "            d = '''\n",
        "            digraph {\n",
        "            L -> A;\n",
        "            L -> Y;\n",
        "            }\n",
        "            '''\n",
        "\n",
        "        elif task == 'collider':\n",
        "            g = '''\n",
        "            graph [\n",
        "            directed 1\n",
        "            node[id \"A\" label \"A\"]\n",
        "            node[id \"Y\" label \"Y\"]\n",
        "            node[id \"S\" label \"S\"]\n",
        "            node[id \"L\" label \"L\"]\n",
        "            edge[source \"A\" target \"S\" weight 1]\n",
        "            edge[source \"L\" target \"A\" weight 1]\n",
        "            edge[source \"L\" target \"Y\" weight 1]\n",
        "            edge[source \"L\" target \"S\" weight 1]\n",
        "            ]\n",
        "            '''\n",
        "\n",
        "            d = '''\n",
        "            digraph {\n",
        "            A -> S;\n",
        "            L -> A;\n",
        "            L -> Y;\n",
        "            L -> S;\n",
        "            }\n",
        "            '''\n",
        "\n",
        "        return g, d\n",
        "\n",
        "    def get_data(self, task):\n",
        "        np.random.seed(777)\n",
        "        g, d = self.get_graph(task)\n",
        "\n",
        "        if task == 'confounder':\n",
        "            ls_L = stats.norm.rvs(size=self.sample_size, loc=0, scale=1)\n",
        "            p_A = [self.prob_A(ls_L[i]) for i in range(self.sample_size)]\n",
        "            r = stats.uniform.rvs(size=self.sample_size, loc=0, scale=1)\n",
        "            ls_A = [1 if p_A[i] > r[i] else 0 for i in range(len(p_A))]\n",
        "            p_Y = [self.prob_Y(ls_A[i], ls_L[i]) for i in range(self.sample_size)]\n",
        "            r = stats.uniform.rvs(size=self.sample_size, loc=0, scale=1)\n",
        "            ls_Y = [1 if p_Y[i] > r[i] else 0 for i in range(len(p_Y))]\n",
        "            return pd.DataFrame({\n",
        "                'L': ls_L,\n",
        "                'A': ls_A,\n",
        "                'prob_A': p_A,\n",
        "                'Y': ls_Y,\n",
        "                'prob_Y': p_Y\n",
        "            }, columns=['L', 'A', 'prob_A', 'Y', 'prob_Y']), g, d\n",
        "\n",
        "        if task == 'collider':\n",
        "            ls_A = stats.binom.rvs(size=self.sample_size, n=1, p=self.p_A)\n",
        "            ls_L = stats.norm.rvs(size=self.sample_size, loc=0, scale=1)\n",
        "            p_S = [self.prob_S(ls_A[i], ls_L[i]) for i in range(self.sample_size)]\n",
        "            p_Y = [self.prob_Y(ls_A[i], ls_L[i]) for i in range(self.sample_size)]\n",
        "            return pd.DataFrame({\n",
        "                'L': ls_L,\n",
        "                'A': ls_A,\n",
        "                'S': stats.binom.rvs(size=self.sample_size, n=1, p=p_S),\n",
        "                'prob_S': p_S,\n",
        "                'Y': stats.binom.rvs(size=self.sample_size, n=1, p=p_Y),\n",
        "                'prob_Y': p_Y\n",
        "            }, columns=['L', 'A', 'S', 'prob_S', 'Y', 'prob_Y']), g, d\n"
      ],
      "execution_count": null,
      "outputs": []
    },
    {
      "metadata": {
        "id": "Y2DsSr6jjkz3"
      },
      "cell_type": "markdown",
      "source": [
        "### In the lecture part, we learned the basic concept of DAG.\n",
        "- DAG is a very useful tool to identify the relationship among variables.\n",
        "- DAG enables you to find what will happen if you condition on variables.\n",
        "  - If you condition on a confounder, you can close a backdoor path.\n",
        "  - if you condition on a collider, you will open a backdoor path.\n",
        "  - This helps you how to ditiguish \"association\" and \"effect\"\n",
        "   \n",
        "### The goal of this hands on is to quantify confounding and selection bias.\n",
        "- We use simulated data, otherwise we cannot qunatify the magnitude of bias.\n",
        "- We will give our simulated data one example context to make it easily understood.\n",
        "  - Study period: 1972 to 1992\n",
        "  - Population: 5000 cigarette smokers\n",
        "  - Treatment =  A:  quit smoking during 1972 to 1975\n",
        "    - A=1 : yes\n",
        "    - A=0 : no  \n",
        "  - Outcome = Y : death by 1992\n",
        "    - Y=1 : yes\n",
        "    - Y=0 : no\n",
        "  - Confounder = L : age at baseline\n",
        "    - continuous radndome variable ~N(  ,   )\n",
        "  - Collider/Censoring = S : death by 1992 is missing\n",
        "    - Y=1 : yes\n",
        "    - Y=0 : no\n",
        "\n",
        "### Let's say, we will work on one observational research. The aim of this research is to estimate the averge treatment effect of smoking cessation on death. Our effect measure is odds ratio. Through estimating the odds of death comparing treatment group (A=1) to non-treatment group (A =0) over the study period from the simulated data with statistical models, we will estimate our estimand (the average treatment effect)\n",
        "\n",
        "---\n",
        "### The goal of this hands-on is to quantify confounding and selection bias. Before getting into our coding practice, please let me do a quick lecture about \"Counterfactual Model for Causal Inference\""
      ]
    },
    {
      "metadata": {
        "id": "yv-JUrisYI2_"
      },
      "cell_type": "markdown",
      "source": [
        "![lec1](https://raw.githubusercontent.com/ckbjimmy/2019_tokyo/master/supp/lec1.png =800x)\n",
        "\n",
        "<br>\n",
        "***\n",
        "<br>\n",
        "\n",
        "![lec2](https://raw.githubusercontent.com/ckbjimmy/2019_tokyo/master/supp/lec2.png =800x)\n",
        "\n",
        "<br>\n",
        "***\n",
        "<br>\n",
        "\n",
        "![lec3](https://raw.githubusercontent.com/ckbjimmy/2019_tokyo/master/supp/lec3.png =800x)\n",
        "\n",
        "<br>\n",
        "***\n",
        "<br>\n",
        "\n",
        "![lec4](https://raw.githubusercontent.com/ckbjimmy/2019_tokyo/master/supp/lec4.png =800x)\n",
        "\n",
        "<br>\n",
        "***\n",
        "<br>\n",
        "\n",
        "![lec5](https://raw.githubusercontent.com/ckbjimmy/2019_tokyo/master/supp/lec5.png =800x)\n",
        "\n",
        "<br>\n",
        "***\n",
        "<br>\n",
        "\n",
        "![lec6](https://raw.githubusercontent.com/ckbjimmy/2019_tokyo/master/supp/lec6.png =800x)\n",
        "\n",
        "<br>\n",
        "***\n",
        "<br>\n",
        "\n",
        "![lec7](https://raw.githubusercontent.com/ckbjimmy/2019_tokyo/master/supp/lec7.png =800x)\n"
      ]
    },
    {
      "metadata": {
        "id": "Xn53uukSki53"
      },
      "cell_type": "markdown",
      "source": [
        "## 1. Confounding bias"
      ]
    },
    {
      "metadata": {
        "id": "m2zs4Mj-tjHO"
      },
      "cell_type": "markdown",
      "source": [
        "### [1.1] Load and inspect data\n",
        "\n",
        "First, we simulate some data where a treatment (A) has no effect on an outcome (Y). And we create one more continuous variable age (L)"
      ]
    },
    {
      "metadata": {
        "id": "IGUqmilaLq6A"
      },
      "cell_type": "code",
      "source": [
        "task = 'confounder'\n",
        "\n",
        "sim = DataSimulator()\n",
        "data = {}\n",
        "data['df'], g, d = sim.get_data(task)\n",
        "data['treatment_name'] = 'A'\n",
        "data['outcome_name'] = 'Y'\n",
        "data['gml_graph'] = g.replace('\\n', '')\n",
        "data['dot_graph'] = d.replace('\\n', '')"
      ],
      "execution_count": null,
      "outputs": []
    },
    {
      "metadata": {
        "id": "cRMchwCXHOkg",
        "outputId": "491917f9-f243-4fcc-d14c-f29ca2db364d",
        "colab": {
          "base_uri": "https://localhost:8080/",
          "height": 1227
        }
      },
      "cell_type": "code",
      "source": [
        "data"
      ],
      "execution_count": null,
      "outputs": [
        {
          "output_type": "execute_result",
          "data": {
            "text/plain": [
              "{'df':              L  A    prob_A  Y    prob_Y\n",
              " 0    -0.468209  0  0.017593  0  0.024174\n",
              " 1    -0.822825  0  0.007852  0  0.013806\n",
              " 2    -0.065380  0  0.043315  0  0.045232\n",
              " 3    -0.713362  0  0.010081  0  0.016422\n",
              " 4     0.906351  0  0.297864  0  0.184564\n",
              " 5     0.766237  0  0.235032  0  0.153004\n",
              " 6     0.826054  1  0.260691  0  0.165902\n",
              " 7    -1.323683  0  0.002492  0  0.006213\n",
              " 8    -1.752445  0  0.000930  0  0.003126\n",
              " 9     1.002449  0  0.346103  0  0.208984\n",
              " 10    0.544809  0  0.155780  0  0.112286\n",
              " 11    1.895161  1  0.805233  1  0.526402\n",
              " 12   -0.769357  0  0.008872  0  0.015028\n",
              " 13   -1.403096  0  0.002076  0  0.005472\n",
              " 14   -0.632468  0  0.012119  0  0.018663\n",
              " 15   -0.558874  0  0.014325  0  0.020961\n",
              " 16   -1.233231  0  0.003067  0  0.007180\n",
              " 17   -0.439504  0  0.018772  0  0.025288\n",
              " 18    0.914787  0  0.301943  0  0.186617\n",
              " 19    0.265041  1  0.088333  0  0.074615\n",
              " 20   -1.383370  0  0.002172  0  0.005647\n",
              " 21    0.685512  1  0.203269  0  0.136915\n",
              " 22    0.456091  1  0.130761  1  0.098821\n",
              " 23   -0.461374  0  0.017867  0  0.024435\n",
              " 24    0.094700  0  0.061434  0  0.057757\n",
              " 25   -1.542812  0  0.001506  0  0.004375\n",
              " 26    2.479370  1  0.940728  0  0.739997\n",
              " 27    0.456867  0  0.130964  0  0.098933\n",
              " 28   -0.313873  0  0.024912  0  0.030781\n",
              " 29    0.021037  0  0.052352  0  0.051633\n",
              " ...        ... ..       ... ..       ...\n",
              " 4970 -0.532266  0  0.015217  0  0.021858\n",
              " 4971  0.763868  1  0.234052  0  0.152511\n",
              " 4972  1.769179  1  0.755700  1  0.475755\n",
              " 4973  2.003835  1  0.841517  0  0.569695\n",
              " 4974 -4.179179  0  0.000003  0  0.000063\n",
              " 4975  0.583246  0  0.167777  1  0.118601\n",
              " 4976 -0.103100  0  0.039855  0  0.042681\n",
              " 4977  1.483871  1  0.615928  0  0.364418\n",
              " 4978  0.003630  0  0.050399  0  0.050278\n",
              " 4979  1.265082  0  0.492131  1  0.287334\n",
              " 4980 -1.264284  0  0.002856  0  0.006832\n",
              " 4981  0.012248  0  0.051357  0  0.050945\n",
              " 4982  1.177232  1  0.441824  0  0.259272\n",
              " 4983  0.465264  0  0.133180  0  0.100144\n",
              " 4984 -0.455969  0  0.018086  0  0.024643\n",
              " 4985  1.364373  0  0.549127  0  0.321134\n",
              " 4986  0.700650  0  0.208972  0  0.139820\n",
              " 4987 -1.317380  0  0.002528  0  0.006276\n",
              " 4988  0.871442  0  0.281331  0  0.176258\n",
              " 4989 -0.136559  0  0.037009  0  0.040535\n",
              " 4990  1.006639  0  0.348289  0  0.210101\n",
              " 4991 -1.140808  0  0.003791  0  0.008322\n",
              " 4992 -0.888991  0  0.006750  0  0.012429\n",
              " 4993 -0.457714  0  0.018015  0  0.024576\n",
              " 4994 -2.675446  0  0.000111  0  0.000709\n",
              " 4995 -0.314820  0  0.024860  0  0.030735\n",
              " 4996 -1.851414  0  0.000740  0  0.002667\n",
              " 4997 -1.087555  0  0.004284  0  0.009060\n",
              " 4998 -0.980103  0  0.005480  0  0.010752\n",
              " 4999  0.151171  0  0.069373  0  0.062906\n",
              " \n",
              " [5000 rows x 5 columns],\n",
              " 'dot_graph': '            digraph {            L -> A;            L -> Y;            }            ',\n",
              " 'gml_graph': '            graph [            directed 1            node[id \"A\" label \"A\"]            node[id \"Y\" label \"Y\"]            node[id \"L\" label \"L\"]            edge[source \"L\" target \"A\" weight 1]            edge[source \"L\" target \"Y\" weight 1]            ]            ',\n",
              " 'outcome_name': 'Y',\n",
              " 'treatment_name': 'A'}"
            ]
          },
          "metadata": {
            "tags": []
          },
          "execution_count": 29
        }
      ]
    },
    {
      "metadata": {
        "id": "FqWymQQvQCRw",
        "outputId": "8f3ef67c-822e-44d9-b7ab-bdb5743c9931",
        "colab": {
          "base_uri": "https://localhost:8080/",
          "height": 277
        }
      },
      "cell_type": "code",
      "source": [
        "data['df'].describe()"
      ],
      "execution_count": null,
      "outputs": [
        {
          "output_type": "execute_result",
          "data": {
            "text/html": [
              "<div>\n",
              "<style scoped>\n",
              "    .dataframe tbody tr th:only-of-type {\n",
              "        vertical-align: middle;\n",
              "    }\n",
              "\n",
              "    .dataframe tbody tr th {\n",
              "        vertical-align: top;\n",
              "    }\n",
              "\n",
              "    .dataframe thead th {\n",
              "        text-align: right;\n",
              "    }\n",
              "</style>\n",
              "<table border=\"1\" class=\"dataframe\">\n",
              "  <thead>\n",
              "    <tr style=\"text-align: right;\">\n",
              "      <th></th>\n",
              "      <th>L</th>\n",
              "      <th>A</th>\n",
              "      <th>prob_A</th>\n",
              "      <th>Y</th>\n",
              "      <th>prob_Y</th>\n",
              "    </tr>\n",
              "  </thead>\n",
              "  <tbody>\n",
              "    <tr>\n",
              "      <th>count</th>\n",
              "      <td>5000.000000</td>\n",
              "      <td>5000.00000</td>\n",
              "      <td>5000.000000</td>\n",
              "      <td>5000.000000</td>\n",
              "      <td>5000.000000</td>\n",
              "    </tr>\n",
              "    <tr>\n",
              "      <th>mean</th>\n",
              "      <td>0.011264</td>\n",
              "      <td>0.16280</td>\n",
              "      <td>0.157455</td>\n",
              "      <td>0.117200</td>\n",
              "      <td>0.109711</td>\n",
              "    </tr>\n",
              "    <tr>\n",
              "      <th>std</th>\n",
              "      <td>1.005935</td>\n",
              "      <td>0.36922</td>\n",
              "      <td>0.226192</td>\n",
              "      <td>0.321691</td>\n",
              "      <td>0.147397</td>\n",
              "    </tr>\n",
              "    <tr>\n",
              "      <th>min</th>\n",
              "      <td>-4.179179</td>\n",
              "      <td>0.00000</td>\n",
              "      <td>0.000003</td>\n",
              "      <td>0.000000</td>\n",
              "      <td>0.000063</td>\n",
              "    </tr>\n",
              "    <tr>\n",
              "      <th>25%</th>\n",
              "      <td>-0.649716</td>\n",
              "      <td>0.00000</td>\n",
              "      <td>0.011653</td>\n",
              "      <td>0.000000</td>\n",
              "      <td>0.018162</td>\n",
              "    </tr>\n",
              "    <tr>\n",
              "      <th>50%</th>\n",
              "      <td>0.008526</td>\n",
              "      <td>0.00000</td>\n",
              "      <td>0.050941</td>\n",
              "      <td>0.000000</td>\n",
              "      <td>0.050656</td>\n",
              "    </tr>\n",
              "    <tr>\n",
              "      <th>75%</th>\n",
              "      <td>0.676582</td>\n",
              "      <td>0.00000</td>\n",
              "      <td>0.199959</td>\n",
              "      <td>0.000000</td>\n",
              "      <td>0.135226</td>\n",
              "    </tr>\n",
              "    <tr>\n",
              "      <th>max</th>\n",
              "      <td>4.270708</td>\n",
              "      <td>1.00000</td>\n",
              "      <td>0.998982</td>\n",
              "      <td>1.000000</td>\n",
              "      <td>0.980716</td>\n",
              "    </tr>\n",
              "  </tbody>\n",
              "</table>\n",
              "</div>"
            ],
            "text/plain": [
              "                 L           A       prob_A            Y       prob_Y\n",
              "count  5000.000000  5000.00000  5000.000000  5000.000000  5000.000000\n",
              "mean      0.011264     0.16280     0.157455     0.117200     0.109711\n",
              "std       1.005935     0.36922     0.226192     0.321691     0.147397\n",
              "min      -4.179179     0.00000     0.000003     0.000000     0.000063\n",
              "25%      -0.649716     0.00000     0.011653     0.000000     0.018162\n",
              "50%       0.008526     0.00000     0.050941     0.000000     0.050656\n",
              "75%       0.676582     0.00000     0.199959     0.000000     0.135226\n",
              "max       4.270708     1.00000     0.998982     1.000000     0.980716"
            ]
          },
          "metadata": {
            "tags": []
          },
          "execution_count": 30
        }
      ]
    },
    {
      "metadata": {
        "id": "Z2zzWnnBfCPl"
      },
      "cell_type": "markdown",
      "source": [
        "### [1.2] Ignore the presence of confounder\n",
        "\n",
        "Here, we think there is no confouder. We put only the treatment in our logitstic regression model."
      ]
    },
    {
      "metadata": {
        "id": "RF5g451Iev13",
        "outputId": "510a39dc-d43b-486a-ab2f-19483d702fc2",
        "colab": {
          "base_uri": "https://localhost:8080/",
          "height": 35
        }
      },
      "cell_type": "code",
      "source": [
        "df = data['df']\n",
        "model = LogisticRegression(solver='lbfgs')\n",
        "result = model.fit(df[['A']], df['Y']) # not conditioning on the confounder L\n",
        "result.coef_"
      ],
      "execution_count": null,
      "outputs": [
        {
          "output_type": "execute_result",
          "data": {
            "text/plain": [
              "array([[1.79758921]])"
            ]
          },
          "metadata": {
            "tags": []
          },
          "execution_count": 31
        }
      ]
    },
    {
      "metadata": {
        "id": "P9S2OpbNNkB2"
      },
      "cell_type": "markdown",
      "source": [
        "We got the estimated regression coefficient of treatment 1.80, which means the estimated odds ratio ($\\hat{OR}$) of death comparing the treatment group(A=1) to the non-treatment group (A=0) over the study period  is $\\exp(1.80) = 6.05$. This doesn't match what we simulated. The $\\hat{OR}$  should be close to 1.  We are looking at the confounding bias here."
      ]
    },
    {
      "metadata": {
        "id": "fTJwIHWhfIu0"
      },
      "cell_type": "markdown",
      "source": [
        "### [1.3]\n",
        "From now we will follow 3 steps. Through following these steps, we can avoid esimating the average treatment effecte with bias.\n",
        "\n",
        "\n",
        "- Step 1 - Create a causal DAG  based on your expert knowledge\n",
        "- Step 2 - Identification -> assessing Identifiability\n",
        "- Step 3 - Estimate the average treatment effect from your observed data by statistical models."
      ]
    },
    {
      "metadata": {
        "id": "PY6sQ26fwhlZ"
      },
      "cell_type": "markdown",
      "source": [
        "Step 1 - Create a causal DAG from your expert knowledge. Then we identify confounders.\n",
        "\n",
        "### By using DAG, we find that age (L) can confound the association between smoking cessation and death. In other words, we can assume age (L) is a confounder of the association between A and Y.\n"
      ]
    },
    {
      "metadata": {
        "id": "P1wNrpdGLwWr",
        "outputId": "1ca43057-7e52-4505-a3fc-28a2f8c62ffc",
        "colab": {
          "base_uri": "https://localhost:8080/",
          "height": 242
        }
      },
      "cell_type": "code",
      "source": [
        "model = CausalModel(\n",
        "    data=data[\"df\"],\n",
        "    treatment=data[\"treatment_name\"],\n",
        "    outcome=data[\"outcome_name\"],\n",
        "    graph=data[\"gml_graph\"])\n",
        "\n",
        "model.view_model()\n",
        "display(Image(filename=\"causal_model.png\"))"
      ],
      "execution_count": null,
      "outputs": [
        {
          "output_type": "stream",
          "text": [
            "['L']\n",
            "yes\n",
            "{'observed': 'yes'}\n",
            "Model to find the causal effect of treatment A on outcome Y\n"
          ],
          "name": "stdout"
        },
        {
          "output_type": "display_data",
          "data": {
            "image/png": "[encoded data removed]",
            "text/plain": [
              "<IPython.core.display.Image object>"
            ]
          },
          "metadata": {
            "tags": []
          }
        }
      ]
    },
    {
      "metadata": {
        "id": "LPJ-iF1SO4ec"
      },
      "cell_type": "markdown",
      "source": [
        "Step 2 - Identification -> assessing Identifiability\n",
        "   - Identifiability is the condition for identification, where (conditional) exchangenability, consistency, and positivity assumption are valid. Then, the average treatment effect in counterfactual model can be estimated as the quantities that are estimated by applying statistical models to your data.\n",
        "  - This hands on section does not have enough time to explain why we need identification process.\n",
        "  \n",
        "### In this hands on session, we only focus on conditional exhangenability.  And we can assume conditional exchangenability holds when we condition on age (L). Thus, we think that the average treatment effect can be estimated as the odds ratio of death (Y) comparing treatment group (A=1) to non-treatment group (A=0) ovar the study period  conditional on age (L) ."
      ]
    },
    {
      "metadata": {
        "id": "gGnSUa0qkm_d",
        "outputId": "8a4f2031-2bb5-40aa-ef46-c0b516734ccd",
        "colab": {
          "base_uri": "https://localhost:8080/",
          "height": 315
        }
      },
      "cell_type": "code",
      "source": [
        "identified_estimand = model.identify_effect()\n",
        "print(identified_estimand)"
      ],
      "execution_count": null,
      "outputs": [
        {
          "output_type": "stream",
          "text": [
            "INFO:dowhy.causal_identifier:Common causes of treatment and outcome:{'U', 'L'}\n"
          ],
          "name": "stderr"
        },
        {
          "output_type": "stream",
          "text": [
            "{'label': 'Unobserved Confounders', 'observed': 'no'}\n",
            "There are unobserved common causes. Causal effect cannot be identified.\n",
            "WARN: Do you want to continue by ignoring these unobserved confounders? [y/n] y\n"
          ],
          "name": "stdout"
        },
        {
          "output_type": "stream",
          "text": [
            "INFO:dowhy.causal_identifier:Instrumental variables for treatment and outcome:[]\n"
          ],
          "name": "stderr"
        },
        {
          "output_type": "stream",
          "text": [
            "Estimand type: ate\n",
            "### Estimand : 1\n",
            "Estimand name: backdoor\n",
            "Estimand expression:\n",
            "d                   \n",
            "──(Expectation(Y|L))\n",
            "dA                  \n",
            "Estimand assumption 1, Unconfoundedness: If U→A and U→Y then P(Y|A,L,U) = P(Y|A,L)\n",
            "### Estimand : 2\n",
            "Estimand name: iv\n",
            "No such variable found!\n",
            "\n"
          ],
          "name": "stdout"
        }
      ]
    },
    {
      "metadata": {
        "id": "4lKQm_eBPGGm"
      },
      "cell_type": "markdown",
      "source": [
        "Step 3 - Estimate the average treatment effec of A on Y with statistical models.\n",
        "We choose a logistic regression model in this case. You may change the method to `backdoor.linear_regression` if your outcome is a continuous variable."
      ]
    },
    {
      "metadata": {
        "id": "Nhr-i0PdkueT",
        "outputId": "2a43328e-0a0c-42b0-cba2-cc5d92f97d83",
        "colab": {
          "base_uri": "https://localhost:8080/",
          "height": 492
        }
      },
      "cell_type": "code",
      "source": [
        "estimate = model.estimate_effect(\n",
        "    identified_estimand,\n",
        "    method_name=\"backdoor.logistic_regression\")\n",
        "print(estimate)\n",
        "print(\"Causal Estimate is \" + str(estimate.value))"
      ],
      "execution_count": null,
      "outputs": [
        {
          "output_type": "stream",
          "text": [
            "INFO:dowhy.causal_estimator:INFO: Using Logistic Regression Estimator\n",
            "INFO:dowhy.causal_estimator:b: Y~A+L\n"
          ],
          "name": "stderr"
        },
        {
          "output_type": "stream",
          "text": [
            "LogisticRegressionEstimator\n",
            "*** Causal Estimate ***\n",
            "\n",
            "## Target estimand\n",
            "Estimand type: ate\n",
            "### Estimand : 1\n",
            "Estimand name: backdoor\n",
            "Estimand expression:\n",
            "d                   \n",
            "──(Expectation(Y|L))\n",
            "dA                  \n",
            "Estimand assumption 1, Unconfoundedness: If U→A and U→Y then P(Y|A,L,U) = P(Y|A,L)\n",
            "### Estimand : 2\n",
            "Estimand name: iv\n",
            "No such variable found!\n",
            "\n",
            "## Realized estimand\n",
            "b: Y~A+L\n",
            "## Estimate\n",
            "Value: 0.10146292584442974\n",
            "\n",
            "Causal Estimate is 0.10146292584442974\n"
          ],
          "name": "stdout"
        },
        {
          "output_type": "stream",
          "text": [
            "/usr/local/lib/python3.6/dist-packages/sklearn/linear_model/logistic.py:433: FutureWarning: Default solver will be changed to 'lbfgs' in 0.22. Specify a solver to silence this warning.\n",
            "  FutureWarning)\n"
          ],
          "name": "stderr"
        }
      ]
    },
    {
      "metadata": {
        "id": "cGjmqzdnPcOo"
      },
      "cell_type": "markdown",
      "source": [
        "Here we find that the estimate of the regression coefficient is 0.10 after conditioning on the confounder (L), which means the OR^ of Y comparing A=1 to A=0 with conditioning on  L is very close to 1 (no effect). This result matchs to what we expected. The $\\hat{OR}$ is the estmate of the avearge treatment effect of A on Y."
      ]
    },
    {
      "metadata": {
        "id": "JVGZEBcpuakA"
      },
      "cell_type": "markdown",
      "source": [
        "Of course, we can get the same result without using `doWhy` library."
      ]
    },
    {
      "metadata": {
        "id": "ZWgBMP-UuVoM",
        "outputId": "255b6521-14d4-4f70-b361-8567a8029475",
        "colab": {
          "base_uri": "https://localhost:8080/",
          "height": 90
        }
      },
      "cell_type": "code",
      "source": [
        "df = data['df']\n",
        "model = LogisticRegression() # adjusting the confounder L\n",
        "result = model.fit(df[['A', 'L']], df['Y'])\n",
        "result.coef_"
      ],
      "execution_count": null,
      "outputs": [
        {
          "output_type": "stream",
          "text": [
            "/usr/local/lib/python3.6/dist-packages/sklearn/linear_model/logistic.py:433: FutureWarning: Default solver will be changed to 'lbfgs' in 0.22. Specify a solver to silence this warning.\n",
            "  FutureWarning)\n"
          ],
          "name": "stderr"
        },
        {
          "output_type": "execute_result",
          "data": {
            "text/plain": [
              "array([[0.10146293, 1.49088619]])"
            ]
          },
          "metadata": {
            "tags": []
          },
          "execution_count": 35
        }
      ]
    },
    {
      "metadata": {
        "id": "lh9f1NAplTWe"
      },
      "cell_type": "markdown",
      "source": [
        "## 2. Selection bias"
      ]
    },
    {
      "metadata": {
        "id": "q3f_jAV5t1X0"
      },
      "cell_type": "markdown",
      "source": [
        "### [2.1] Load and inspect data\n",
        "\n",
        "Next, we consider selection bias. Again, we start from data simulation. The simulation generates data in which the treatment (A) has no effect on the outcome (Y) but has the effect on a collider (S). In this part, age (L) has both the effect on the outcome and the effect on the collider, but not on the treatment.\n",
        "\n",
        "  - Study period: 1972 to 1992\n",
        "  - Population: 5000 cigarette smokers\n",
        "  - Treatment =  A:  quit smoking during 1972 to 1975\n",
        "    - A=1 : yes\n",
        "    - A=0 : no  \n",
        "  - Outcome = Y : death by 1992\n",
        "    - Y=1 : yes\n",
        "    - Y=0 : no\n",
        "  - Variable = L : age at baseline\n",
        "    - continuous radndome variable ~N(  ,   )\n",
        "  - Collider/Censoring = S : death by 1992 is missing\n",
        "    - Y=1 : yes\n",
        "    - Y=0 : no"
      ]
    },
    {
      "metadata": {
        "id": "6KA3llGWlQtH"
      },
      "cell_type": "code",
      "source": [
        "task = 'collider'\n",
        "\n",
        "sim = DataSimulator()\n",
        "data = {}\n",
        "data['df'], g, d = sim.get_data(task)\n",
        "data['treatment_name'] = 'A'\n",
        "data['outcome_name'] = 'Y'\n",
        "data['gml_graph'] = g.replace('\\n', '')\n",
        "data['dot_graph'] = d.replace('\\n', '')"
      ],
      "execution_count": null,
      "outputs": []
    },
    {
      "metadata": {
        "id": "2XAp-BD5QrK1",
        "outputId": "4acd11cc-c3c6-4f29-821f-11ee24190b7f",
        "colab": {
          "base_uri": "https://localhost:8080/",
          "height": 1227
        }
      },
      "cell_type": "code",
      "source": [
        "data"
      ],
      "execution_count": null,
      "outputs": [
        {
          "output_type": "execute_result",
          "data": {
            "text/plain": [
              "{'df':              L  A  S    prob_S  Y    prob_Y\n",
              " 0    -0.960179  0  0  0.023145  0  0.011098\n",
              " 1    -0.656002  0  0  0.037219  0  0.017982\n",
              " 2     1.830391  0  0  0.678890  1  0.500366\n",
              " 3     1.280116  0  1  0.465814  0  0.292314\n",
              " 4     0.997199  1  1  0.734416  0  0.207591\n",
              " 5     0.744937  1  1  0.648202  1  0.148615\n",
              " 6     0.797930  0  0  0.286385  0  0.159732\n",
              " 7    -0.777192  0  0  0.030827  0  0.014843\n",
              " 8    -0.839310  0  0  0.027976  0  0.013450\n",
              " 9     0.315866  0  0  0.155926  1  0.080463\n",
              " 10    0.441038  0  1  0.184312  0  0.096685\n",
              " 11   -0.780473  0  0  0.030669  0  0.014766\n",
              " 12    0.027689  0  0  0.104083  0  0.052160\n",
              " 13    0.738012  0  1  0.267090  0  0.147210\n",
              " 14   -0.246299  1  0  0.272061  0  0.034196\n",
              " 15   -1.108701  0  0  0.018314  0  0.008759\n",
              " 16   -0.018315  0  0  0.097378  0  0.048618\n",
              " 17    0.844254  0  0  0.301861  0  0.169995\n",
              " 18    0.299237  0  0  0.152436  0  0.078505\n",
              " 19   -0.652545  0  0  0.037418  0  0.018081\n",
              " 20   -0.423308  0  0  0.053226  0  0.025939\n",
              " 21   -0.443605  0  0  0.051604  0  0.025126\n",
              " 22    0.083183  0  0  0.112711  1  0.056756\n",
              " 23    2.035166  0  0  0.746163  1  0.582011\n",
              " 24   -0.863724  0  0  0.026927  0  0.012938\n",
              " 25    0.612436  1  1  0.598181  0  0.123601\n",
              " 26    1.089335  0  0  0.390786  0  0.233040\n",
              " 27   -0.411983  0  0  0.054152  0  0.026403\n",
              " 28    0.092738  0  0  0.114258  0  0.057585\n",
              " 29    1.826380  1  1  0.913066  1  0.498751\n",
              " ...        ... .. ..       ... ..       ...\n",
              " 4970  1.118489  0  0  0.402013  1  0.241532\n",
              " 4971 -0.327187  1  0  0.247056  0  0.030148\n",
              " 4972 -1.101452  0  0  0.018525  0  0.008861\n",
              " 4973  0.069945  0  0  0.110598  0  0.055626\n",
              " 4974 -1.287035  0  0  0.013808  0  0.006588\n",
              " 4975 -0.315145  0  0  0.062712  0  0.030720\n",
              " 4976  0.766382  0  1  0.276122  0  0.153035\n",
              " 4977 -0.943728  1  1  0.108451  0  0.011393\n",
              " 4978  0.444357  0  1  0.185116  0  0.097152\n",
              " 4979 -0.120238  1  1  0.314039  0  0.041569\n",
              " 4980  0.633734  0  1  0.235544  0  0.127362\n",
              " 4981 -2.240300  0  0  0.003010  0  0.001428\n",
              " 4982 -0.384416  0  0  0.056470  0  0.027568\n",
              " 4983 -0.812751  0  0  0.029162  0  0.014029\n",
              " 4984  0.262671  0  0  0.144987  0  0.074352\n",
              " 4985 -0.992679  0  0  0.021991  0  0.010539\n",
              " 4986  0.200890  1  0  0.434266  0  0.067792\n",
              " 4987  0.459679  0  0  0.188865  1  0.099337\n",
              " 4988 -1.449258  1  0  0.051160  0  0.005082\n",
              " 4989  1.655331  0  1  0.614657  1  0.430384\n",
              " 4990 -1.394765  0  0  0.011635  0  0.005545\n",
              " 4991  0.942795  1  1  0.716991  0  0.193556\n",
              " 4992  1.568881  0  1  0.581222  1  0.396655\n",
              " 4993 -0.066012  1  0  0.333137  0  0.045188\n",
              " 4994 -1.087847  0  0  0.018927  0  0.009056\n",
              " 4995 -0.279222  0  0  0.066198  0  0.032489\n",
              " 4996  0.924695  0  0  0.329823  0  0.189049\n",
              " 4997 -2.841764  0  0  0.001145  0  0.000543\n",
              " 4998 -0.313374  0  0  0.062880  0  0.030805\n",
              " 4999  1.524793  1  1  0.866027  1  0.379804\n",
              " \n",
              " [5000 rows x 6 columns],\n",
              " 'dot_graph': '            digraph {            A -> S;            L -> A;            L -> Y;            L -> S;            }            ',\n",
              " 'gml_graph': '            graph [            directed 1            node[id \"A\" label \"A\"]            node[id \"Y\" label \"Y\"]            node[id \"S\" label \"S\"]            node[id \"L\" label \"L\"]            edge[source \"A\" target \"S\" weight 1]            edge[source \"L\" target \"A\" weight 1]            edge[source \"L\" target \"Y\" weight 1]            edge[source \"L\" target \"S\" weight 1]            ]            ',\n",
              " 'outcome_name': 'Y',\n",
              " 'treatment_name': 'A'}"
            ]
          },
          "metadata": {
            "tags": []
          },
          "execution_count": 37
        }
      ]
    },
    {
      "metadata": {
        "id": "yaJlBdaqQtdN",
        "outputId": "a3a7e374-fcb0-40c7-a3ec-d9a8ef5ba63b",
        "colab": {
          "base_uri": "https://localhost:8080/",
          "height": 277
        }
      },
      "cell_type": "code",
      "source": [
        "data['df'].describe()"
      ],
      "execution_count": null,
      "outputs": [
        {
          "output_type": "execute_result",
          "data": {
            "text/html": [
              "<div>\n",
              "<style scoped>\n",
              "    .dataframe tbody tr th:only-of-type {\n",
              "        vertical-align: middle;\n",
              "    }\n",
              "\n",
              "    .dataframe tbody tr th {\n",
              "        vertical-align: top;\n",
              "    }\n",
              "\n",
              "    .dataframe thead th {\n",
              "        text-align: right;\n",
              "    }\n",
              "</style>\n",
              "<table border=\"1\" class=\"dataframe\">\n",
              "  <thead>\n",
              "    <tr style=\"text-align: right;\">\n",
              "      <th></th>\n",
              "      <th>L</th>\n",
              "      <th>A</th>\n",
              "      <th>S</th>\n",
              "      <th>prob_S</th>\n",
              "      <th>Y</th>\n",
              "      <th>prob_Y</th>\n",
              "    </tr>\n",
              "  </thead>\n",
              "  <tbody>\n",
              "    <tr>\n",
              "      <th>count</th>\n",
              "      <td>5000.000000</td>\n",
              "      <td>5000.000000</td>\n",
              "      <td>5000.000000</td>\n",
              "      <td>5000.000000</td>\n",
              "      <td>5000.000000</td>\n",
              "      <td>5000.000000</td>\n",
              "    </tr>\n",
              "    <tr>\n",
              "      <th>mean</th>\n",
              "      <td>0.007029</td>\n",
              "      <td>0.195200</td>\n",
              "      <td>0.224400</td>\n",
              "      <td>0.222725</td>\n",
              "      <td>0.113600</td>\n",
              "      <td>0.109269</td>\n",
              "    </tr>\n",
              "    <tr>\n",
              "      <th>std</th>\n",
              "      <td>1.006872</td>\n",
              "      <td>0.396394</td>\n",
              "      <td>0.417228</td>\n",
              "      <td>0.232482</td>\n",
              "      <td>0.317357</td>\n",
              "      <td>0.145197</td>\n",
              "    </tr>\n",
              "    <tr>\n",
              "      <th>min</th>\n",
              "      <td>-4.179179</td>\n",
              "      <td>0.000000</td>\n",
              "      <td>0.000000</td>\n",
              "      <td>0.000133</td>\n",
              "      <td>0.000000</td>\n",
              "      <td>0.000063</td>\n",
              "    </tr>\n",
              "    <tr>\n",
              "      <th>25%</th>\n",
              "      <td>-0.669800</td>\n",
              "      <td>0.000000</td>\n",
              "      <td>0.000000</td>\n",
              "      <td>0.043864</td>\n",
              "      <td>0.000000</td>\n",
              "      <td>0.017594</td>\n",
              "    </tr>\n",
              "    <tr>\n",
              "      <th>50%</th>\n",
              "      <td>-0.009911</td>\n",
              "      <td>0.000000</td>\n",
              "      <td>0.000000</td>\n",
              "      <td>0.129043</td>\n",
              "      <td>0.000000</td>\n",
              "      <td>0.049248</td>\n",
              "    </tr>\n",
              "    <tr>\n",
              "      <th>75%</th>\n",
              "      <td>0.700925</td>\n",
              "      <td>0.000000</td>\n",
              "      <td>0.000000</td>\n",
              "      <td>0.336197</td>\n",
              "      <td>0.000000</td>\n",
              "      <td>0.139873</td>\n",
              "    </tr>\n",
              "    <tr>\n",
              "      <th>max</th>\n",
              "      <td>3.399006</td>\n",
              "      <td>1.000000</td>\n",
              "      <td>1.000000</td>\n",
              "      <td>0.992480</td>\n",
              "      <td>1.000000</td>\n",
              "      <td>0.925948</td>\n",
              "    </tr>\n",
              "  </tbody>\n",
              "</table>\n",
              "</div>"
            ],
            "text/plain": [
              "                 L            A            S       prob_S            Y  \\\n",
              "count  5000.000000  5000.000000  5000.000000  5000.000000  5000.000000   \n",
              "mean      0.007029     0.195200     0.224400     0.222725     0.113600   \n",
              "std       1.006872     0.396394     0.417228     0.232482     0.317357   \n",
              "min      -4.179179     0.000000     0.000000     0.000133     0.000000   \n",
              "25%      -0.669800     0.000000     0.000000     0.043864     0.000000   \n",
              "50%      -0.009911     0.000000     0.000000     0.129043     0.000000   \n",
              "75%       0.700925     0.000000     0.000000     0.336197     0.000000   \n",
              "max       3.399006     1.000000     1.000000     0.992480     1.000000   \n",
              "\n",
              "            prob_Y  \n",
              "count  5000.000000  \n",
              "mean      0.109269  \n",
              "std       0.145197  \n",
              "min       0.000063  \n",
              "25%       0.017594  \n",
              "50%       0.049248  \n",
              "75%       0.139873  \n",
              "max       0.925948  "
            ]
          },
          "metadata": {
            "tags": []
          },
          "execution_count": 38
        }
      ]
    },
    {
      "metadata": {
        "id": "5_dy8uhplgbm"
      },
      "cell_type": "markdown",
      "source": [
        "### [2.2] Conditioning on the collider (S) induces selection bias\n",
        "\n",
        "This time, we erroneously condition on the collider by restriciting our samples with S==0, which means our outcome has no missing (Complete case analysis).Then We will find selection bias arises as the consequence of conditioning on the collider (S)."
      ]
    },
    {
      "metadata": {
        "id": "mIovnJivlQyp",
        "outputId": "5e13de86-858a-4ca5-aa57-19007185c5dd",
        "colab": {
          "base_uri": "https://localhost:8080/",
          "height": 35
        }
      },
      "cell_type": "code",
      "source": [
        "df = data['df']\n",
        "df = df[df['S'] == 0]  #restriciting our samples with S==0 -> no missing in the outcome\n",
        "model = LogisticRegression(solver='lbfgs')\n",
        "result = model.fit(df[['A']], df['Y'])\n",
        "result.coef_"
      ],
      "execution_count": null,
      "outputs": [
        {
          "output_type": "execute_result",
          "data": {
            "text/plain": [
              "array([[-0.34343617]])"
            ]
          },
          "metadata": {
            "tags": []
          },
          "execution_count": 39
        }
      ]
    },
    {
      "metadata": {
        "id": "yn3t-jMBQ8uW"
      },
      "cell_type": "markdown",
      "source": [
        "We get the estimated regression coefficient -0.343, i.e. the estimated odds ratio of Y comparing A=1 to A=0 is $\\exp(-0.343) = 0.709$. This is not what we expected because our expectation is no effect of the exposure on the outcome (the $\\hat{OR}$ should be close to 1)."
      ]
    },
    {
      "metadata": {
        "id": "Nb0n2xyrljnK"
      },
      "cell_type": "markdown",
      "source": [
        "### [2.3] Consider causal graph\n",
        "\n",
        "- Step 1 - Create a causal DAG  based on your expert knowledge\n",
        "- Step 2 - Identification -> assessing Identifiability\n",
        "- Step 3 - Estimate from data by statistical models\n",
        "\n",
        "We want to mention that even though there is an arrow from the confounder to the treatment, there is no effect between them since the coefficient in the simulator is set to be $\\log(1.0) = 0$. (Dowhy library does not allow us to create DAG without confounders)"
      ]
    },
    {
      "metadata": {
        "id": "ruH3zyQU-n1P"
      },
      "cell_type": "markdown",
      "source": [
        "Step 1 - Create a causal DAG from your expert knowledge. We identify  S  as the collider."
      ]
    },
    {
      "metadata": {
        "id": "u0DID8Ij-zLz",
        "outputId": "2648814a-6dbf-49a1-cc8e-6a83f9ae56ff",
        "colab": {
          "base_uri": "https://localhost:8080/",
          "height": 338
        }
      },
      "cell_type": "code",
      "source": [
        "model = CausalModel(\n",
        "    data=data[\"df\"],\n",
        "    treatment=data[\"treatment_name\"],\n",
        "    outcome=data[\"outcome_name\"],\n",
        "    graph=data[\"gml_graph\"])\n",
        "\n",
        "model.view_model()\n",
        "display(Image(filename=\"causal_model.png\"))"
      ],
      "execution_count": null,
      "outputs": [
        {
          "output_type": "stream",
          "text": [
            "['L']\n",
            "yes\n",
            "{'observed': 'yes'}\n",
            "Model to find the causal effect of treatment A on outcome Y\n"
          ],
          "name": "stdout"
        },
        {
          "output_type": "display_data",
          "data": {
            "image/png": "[encoded data removed]",
            "text/plain": [
              "<IPython.core.display.Image object>"
            ]
          },
          "metadata": {
            "tags": []
          }
        }
      ]
    },
    {
      "metadata": {
        "id": "ItFg9r8HCSsg"
      },
      "cell_type": "markdown",
      "source": [
        "Here, we find S is the collider of A and Y. To avoid causing selection bias, We should not restrict our patient without missing (S==0). If we did, we would get the biased result like we did in the last part."
      ]
    },
    {
      "metadata": {
        "id": "MsgBWUis-vt3"
      },
      "cell_type": "markdown",
      "source": [
        "\n",
        "\n",
        "\n",
        "- Step 2 - Identification -> assessing Identifiability\n",
        "\n",
        "    - In this case, thre are no confouders. Thus we do not need to condition on confouders. Exhangenability assumption is expected to hold like in Rondamized Contrl Trial."
      ]
    },
    {
      "metadata": {
        "id": "EgAYaBpWlQ5r",
        "outputId": "254b1e38-f80f-4317-d42c-a8162306426e",
        "colab": {
          "base_uri": "https://localhost:8080/",
          "height": 315
        }
      },
      "cell_type": "code",
      "source": [
        "identified_estimand = model.identify_effect()\n",
        "print(identified_estimand)"
      ],
      "execution_count": null,
      "outputs": [
        {
          "output_type": "stream",
          "text": [
            "INFO:dowhy.causal_identifier:Common causes of treatment and outcome:{'U', 'L'}\n"
          ],
          "name": "stderr"
        },
        {
          "output_type": "stream",
          "text": [
            "{'label': 'Unobserved Confounders', 'observed': 'no'}\n",
            "There are unobserved common causes. Causal effect cannot be identified.\n",
            "WARN: Do you want to continue by ignoring these unobserved confounders? [y/n] y\n"
          ],
          "name": "stdout"
        },
        {
          "output_type": "stream",
          "text": [
            "INFO:dowhy.causal_identifier:Instrumental variables for treatment and outcome:[]\n"
          ],
          "name": "stderr"
        },
        {
          "output_type": "stream",
          "text": [
            "Estimand type: ate\n",
            "### Estimand : 1\n",
            "Estimand name: backdoor\n",
            "Estimand expression:\n",
            "d                   \n",
            "──(Expectation(Y|L))\n",
            "dA                  \n",
            "Estimand assumption 1, Unconfoundedness: If U→A and U→Y then P(Y|A,L,U) = P(Y|A,L)\n",
            "### Estimand : 2\n",
            "Estimand name: iv\n",
            "No such variable found!\n",
            "\n"
          ],
          "name": "stdout"
        }
      ]
    },
    {
      "metadata": {
        "id": "CoLy-2kEARq1"
      },
      "cell_type": "markdown",
      "source": [
        "- Step 3 - Estimate the average treatment effect from your observed data by statistical models"
      ]
    },
    {
      "metadata": {
        "id": "KTW-3TBJAQWi",
        "outputId": "02ff2070-04bb-44f3-b914-68f6647fb2b1",
        "colab": {
          "base_uri": "https://localhost:8080/",
          "height": 492
        }
      },
      "cell_type": "code",
      "source": [
        "estimate = model.estimate_effect(\n",
        "    identified_estimand,\n",
        "    method_name=\"backdoor.logistic_regression\")\n",
        "\n",
        "print(estimate)\n",
        "print(\"Causal Estimate is \" + str(estimate.value))"
      ],
      "execution_count": null,
      "outputs": [
        {
          "output_type": "stream",
          "text": [
            "INFO:dowhy.causal_estimator:INFO: Using Logistic Regression Estimator\n",
            "INFO:dowhy.causal_estimator:b: Y~A+L\n"
          ],
          "name": "stderr"
        },
        {
          "output_type": "stream",
          "text": [
            "LogisticRegressionEstimator\n",
            "*** Causal Estimate ***\n",
            "\n",
            "## Target estimand\n",
            "Estimand type: ate\n",
            "### Estimand : 1\n",
            "Estimand name: backdoor\n",
            "Estimand expression:\n",
            "d                   \n",
            "──(Expectation(Y|L))\n",
            "dA                  \n",
            "Estimand assumption 1, Unconfoundedness: If U→A and U→Y then P(Y|A,L,U) = P(Y|A,L)\n",
            "### Estimand : 2\n",
            "Estimand name: iv\n",
            "No such variable found!\n",
            "\n",
            "## Realized estimand\n",
            "b: Y~A+L\n",
            "## Estimate\n",
            "Value: 0.06435684610388824\n",
            "\n",
            "Causal Estimate is 0.06435684610388824\n"
          ],
          "name": "stdout"
        },
        {
          "output_type": "stream",
          "text": [
            "/usr/local/lib/python3.6/dist-packages/sklearn/linear_model/logistic.py:433: FutureWarning: Default solver will be changed to 'lbfgs' in 0.22. Specify a solver to silence this warning.\n",
            "  FutureWarning)\n"
          ],
          "name": "stderr"
        }
      ]
    },
    {
      "metadata": {
        "id": "ELok62HF-ooe"
      },
      "cell_type": "markdown",
      "source": [
        "Here we find that the estimate of regression coefficient of A is 0.06 (the estimated odds ratio is very close to 1) when we do not condition on the collider (S) (not restricting our sample with S=0)\n",
        "\n",
        "Again, we can get the very similar result without using `doWhy` library."
      ]
    },
    {
      "metadata": {
        "id": "lf5EJc3D9j2z",
        "outputId": "4d295dd5-51f4-422d-d277-d66ab0e11ac7",
        "colab": {
          "base_uri": "https://localhost:8080/",
          "height": 125
        }
      },
      "cell_type": "code",
      "source": [
        "df = data['df']\n",
        "model = LogisticRegression()\n",
        "result = model.fit(df[['A']], df[['Y']])\n",
        "result.coef_"
      ],
      "execution_count": null,
      "outputs": [
        {
          "output_type": "stream",
          "text": [
            "/usr/local/lib/python3.6/dist-packages/sklearn/linear_model/logistic.py:433: FutureWarning: Default solver will be changed to 'lbfgs' in 0.22. Specify a solver to silence this warning.\n",
            "  FutureWarning)\n",
            "/usr/local/lib/python3.6/dist-packages/sklearn/utils/validation.py:761: DataConversionWarning: A column-vector y was passed when a 1d array was expected. Please change the shape of y to (n_samples, ), for example using ravel().\n",
            "  y = column_or_1d(y, warn=True)\n"
          ],
          "name": "stderr"
        },
        {
          "output_type": "execute_result",
          "data": {
            "text/plain": [
              "array([[0.07009847]])"
            ]
          },
          "metadata": {
            "tags": []
          },
          "execution_count": 43
        }
      ]
    },
    {
      "metadata": {
        "id": "Wibqu5KveWfR"
      },
      "cell_type": "markdown",
      "source": [
        "By resticting our subjects without missing value of outcome , the selection biase arise. Do you have any idea of how to deal with this?"
      ]
    },
    {
      "metadata": {
        "id": "hTrBfq5X1Wn_"
      },
      "cell_type": "markdown",
      "source": [
        "## 3.(Extra) Hands-on exercise: NHEFS data"
      ]
    },
    {
      "metadata": {
        "id": "Nyk-sck3gzY9"
      },
      "cell_type": "markdown",
      "source": [
        "If we have extrat time, let's play with NHEFS data. The aim of this session/research is to quantifying the effect of quit smoking on the weight gain over the study period. Please follow the 3 steps we have learned through this workshop.\n",
        "\n",
        "- Step 1 - Create a causal DAG  based on your expert knowledge\n",
        "- Step 2 - Identification -> assessing Identifiability\n",
        "- Step 3 - Estimate from data by statistical models\n",
        "\n"
      ]
    },
    {
      "metadata": {
        "id": "BSCCg4sv0bGF",
        "outputId": "510fdb1b-6fba-48a2-ed3e-69f1f6bfbfc6",
        "colab": {
          "base_uri": "https://localhost:8080/",
          "height": 221
        }
      },
      "cell_type": "code",
      "source": [
        "nhefs = pd.ExcelFile('https://www.dropbox.com/s/nchp1pezska7bim/nhefs.xlsx?dl=1').parse('2017')\n",
        "nhefs.columns"
      ],
      "execution_count": null,
      "outputs": [
        {
          "output_type": "execute_result",
          "data": {
            "text/plain": [
              "Index(['seqn', 'qsmk', 'death', 'yrdth', 'modth', 'dadth', 'sbp', 'dbp', 'sex',\n",
              "       'age', 'race', 'income', 'marital', 'school', 'education', 'ht', 'wt71',\n",
              "       'wt82', 'wt82_71', 'birthplace', 'smokeintensity', 'smkintensity82_71',\n",
              "       'smokeyrs', 'asthma', 'bronch', 'tb', 'hf', 'hbp', 'pepticulcer',\n",
              "       'colitis', 'hepatitis', 'chroniccough', 'hayfever', 'diabetes', 'polio',\n",
              "       'tumor', 'nervousbreak', 'alcoholpy', 'alcoholfreq', 'alcoholtype',\n",
              "       'alcoholhowmuch', 'pica', 'headache', 'otherpain', 'weakheart',\n",
              "       'allergies', 'nerves', 'lackpep', 'hbpmed', 'boweltrouble', 'wtloss',\n",
              "       'infection', 'active', 'exercise', 'birthcontrol', 'pregnancies',\n",
              "       'cholesterol', 'hightax82', 'price71', 'price82', 'tax71', 'tax82',\n",
              "       'price71_82', 'tax71_82'],\n",
              "      dtype='object')"
            ]
          },
          "metadata": {
            "tags": []
          },
          "execution_count": 21
        }
      ]
    },
    {
      "metadata": {
        "id": "kLhXTKdpnurs",
        "outputId": "0702cdea-c92b-4e58-967c-ac46a2b43b39",
        "colab": {
          "base_uri": "https://localhost:8080/",
          "height": 224
        }
      },
      "cell_type": "code",
      "source": [
        "nhefs.head(5)"
      ],
      "execution_count": null,
      "outputs": [
        {
          "output_type": "execute_result",
          "data": {
            "text/html": [
              "<div>\n",
              "<style scoped>\n",
              "    .dataframe tbody tr th:only-of-type {\n",
              "        vertical-align: middle;\n",
              "    }\n",
              "\n",
              "    .dataframe tbody tr th {\n",
              "        vertical-align: top;\n",
              "    }\n",
              "\n",
              "    .dataframe thead th {\n",
              "        text-align: right;\n",
              "    }\n",
              "</style>\n",
              "<table border=\"1\" class=\"dataframe\">\n",
              "  <thead>\n",
              "    <tr style=\"text-align: right;\">\n",
              "      <th></th>\n",
              "      <th>seqn</th>\n",
              "      <th>qsmk</th>\n",
              "      <th>death</th>\n",
              "      <th>yrdth</th>\n",
              "      <th>modth</th>\n",
              "      <th>dadth</th>\n",
              "      <th>sbp</th>\n",
              "      <th>dbp</th>\n",
              "      <th>sex</th>\n",
              "      <th>age</th>\n",
              "      <th>race</th>\n",
              "      <th>income</th>\n",
              "      <th>marital</th>\n",
              "      <th>school</th>\n",
              "      <th>education</th>\n",
              "      <th>ht</th>\n",
              "      <th>wt71</th>\n",
              "      <th>wt82</th>\n",
              "      <th>wt82_71</th>\n",
              "      <th>birthplace</th>\n",
              "      <th>smokeintensity</th>\n",
              "      <th>smkintensity82_71</th>\n",
              "      <th>smokeyrs</th>\n",
              "      <th>asthma</th>\n",
              "      <th>bronch</th>\n",
              "      <th>tb</th>\n",
              "      <th>hf</th>\n",
              "      <th>hbp</th>\n",
              "      <th>pepticulcer</th>\n",
              "      <th>colitis</th>\n",
              "      <th>hepatitis</th>\n",
              "      <th>chroniccough</th>\n",
              "      <th>hayfever</th>\n",
              "      <th>diabetes</th>\n",
              "      <th>polio</th>\n",
              "      <th>tumor</th>\n",
              "      <th>nervousbreak</th>\n",
              "      <th>alcoholpy</th>\n",
              "      <th>alcoholfreq</th>\n",
              "      <th>alcoholtype</th>\n",
              "      <th>alcoholhowmuch</th>\n",
              "      <th>pica</th>\n",
              "      <th>headache</th>\n",
              "      <th>otherpain</th>\n",
              "      <th>weakheart</th>\n",
              "      <th>allergies</th>\n",
              "      <th>nerves</th>\n",
              "      <th>lackpep</th>\n",
              "      <th>hbpmed</th>\n",
              "      <th>boweltrouble</th>\n",
              "      <th>wtloss</th>\n",
              "      <th>infection</th>\n",
              "      <th>active</th>\n",
              "      <th>exercise</th>\n",
              "      <th>birthcontrol</th>\n",
              "      <th>pregnancies</th>\n",
              "      <th>cholesterol</th>\n",
              "      <th>hightax82</th>\n",
              "      <th>price71</th>\n",
              "      <th>price82</th>\n",
              "      <th>tax71</th>\n",
              "      <th>tax82</th>\n",
              "      <th>price71_82</th>\n",
              "      <th>tax71_82</th>\n",
              "    </tr>\n",
              "  </thead>\n",
              "  <tbody>\n",
              "    <tr>\n",
              "      <th>0</th>\n",
              "      <td>233</td>\n",
              "      <td>0</td>\n",
              "      <td>0</td>\n",
              "      <td>NaN</td>\n",
              "      <td>NaN</td>\n",
              "      <td>NaN</td>\n",
              "      <td>175.0</td>\n",
              "      <td>96.0</td>\n",
              "      <td>0</td>\n",
              "      <td>42</td>\n",
              "      <td>1</td>\n",
              "      <td>19.0</td>\n",
              "      <td>2</td>\n",
              "      <td>7</td>\n",
              "      <td>1</td>\n",
              "      <td>174.1875</td>\n",
              "      <td>79.04</td>\n",
              "      <td>68.946040</td>\n",
              "      <td>-10.093960</td>\n",
              "      <td>47.0</td>\n",
              "      <td>30</td>\n",
              "      <td>-10</td>\n",
              "      <td>29</td>\n",
              "      <td>0</td>\n",
              "      <td>0</td>\n",
              "      <td>0</td>\n",
              "      <td>0</td>\n",
              "      <td>1</td>\n",
              "      <td>1</td>\n",
              "      <td>0</td>\n",
              "      <td>0</td>\n",
              "      <td>0</td>\n",
              "      <td>0</td>\n",
              "      <td>1</td>\n",
              "      <td>0</td>\n",
              "      <td>0</td>\n",
              "      <td>0</td>\n",
              "      <td>1</td>\n",
              "      <td>1</td>\n",
              "      <td>3</td>\n",
              "      <td>7.0</td>\n",
              "      <td>0</td>\n",
              "      <td>1</td>\n",
              "      <td>0</td>\n",
              "      <td>0</td>\n",
              "      <td>0</td>\n",
              "      <td>0</td>\n",
              "      <td>0</td>\n",
              "      <td>1</td>\n",
              "      <td>0</td>\n",
              "      <td>0</td>\n",
              "      <td>0</td>\n",
              "      <td>0</td>\n",
              "      <td>2</td>\n",
              "      <td>2</td>\n",
              "      <td>NaN</td>\n",
              "      <td>197.0</td>\n",
              "      <td>0.0</td>\n",
              "      <td>2.183594</td>\n",
              "      <td>1.739990</td>\n",
              "      <td>1.102295</td>\n",
              "      <td>0.461975</td>\n",
              "      <td>0.443787</td>\n",
              "      <td>0.640381</td>\n",
              "    </tr>\n",
              "    <tr>\n",
              "      <th>1</th>\n",
              "      <td>235</td>\n",
              "      <td>0</td>\n",
              "      <td>0</td>\n",
              "      <td>NaN</td>\n",
              "      <td>NaN</td>\n",
              "      <td>NaN</td>\n",
              "      <td>123.0</td>\n",
              "      <td>80.0</td>\n",
              "      <td>0</td>\n",
              "      <td>36</td>\n",
              "      <td>0</td>\n",
              "      <td>18.0</td>\n",
              "      <td>2</td>\n",
              "      <td>9</td>\n",
              "      <td>2</td>\n",
              "      <td>159.3750</td>\n",
              "      <td>58.63</td>\n",
              "      <td>61.234970</td>\n",
              "      <td>2.604970</td>\n",
              "      <td>42.0</td>\n",
              "      <td>20</td>\n",
              "      <td>-10</td>\n",
              "      <td>24</td>\n",
              "      <td>0</td>\n",
              "      <td>0</td>\n",
              "      <td>0</td>\n",
              "      <td>0</td>\n",
              "      <td>0</td>\n",
              "      <td>0</td>\n",
              "      <td>0</td>\n",
              "      <td>0</td>\n",
              "      <td>0</td>\n",
              "      <td>0</td>\n",
              "      <td>0</td>\n",
              "      <td>0</td>\n",
              "      <td>0</td>\n",
              "      <td>0</td>\n",
              "      <td>1</td>\n",
              "      <td>0</td>\n",
              "      <td>1</td>\n",
              "      <td>4.0</td>\n",
              "      <td>0</td>\n",
              "      <td>1</td>\n",
              "      <td>0</td>\n",
              "      <td>0</td>\n",
              "      <td>0</td>\n",
              "      <td>0</td>\n",
              "      <td>0</td>\n",
              "      <td>0</td>\n",
              "      <td>0</td>\n",
              "      <td>0</td>\n",
              "      <td>1</td>\n",
              "      <td>0</td>\n",
              "      <td>0</td>\n",
              "      <td>2</td>\n",
              "      <td>NaN</td>\n",
              "      <td>301.0</td>\n",
              "      <td>0.0</td>\n",
              "      <td>2.346680</td>\n",
              "      <td>1.797363</td>\n",
              "      <td>1.364990</td>\n",
              "      <td>0.571899</td>\n",
              "      <td>0.549316</td>\n",
              "      <td>0.792969</td>\n",
              "    </tr>\n",
              "    <tr>\n",
              "      <th>2</th>\n",
              "      <td>244</td>\n",
              "      <td>0</td>\n",
              "      <td>0</td>\n",
              "      <td>NaN</td>\n",
              "      <td>NaN</td>\n",
              "      <td>NaN</td>\n",
              "      <td>115.0</td>\n",
              "      <td>75.0</td>\n",
              "      <td>1</td>\n",
              "      <td>56</td>\n",
              "      <td>1</td>\n",
              "      <td>15.0</td>\n",
              "      <td>3</td>\n",
              "      <td>11</td>\n",
              "      <td>2</td>\n",
              "      <td>168.5000</td>\n",
              "      <td>56.81</td>\n",
              "      <td>66.224486</td>\n",
              "      <td>9.414486</td>\n",
              "      <td>51.0</td>\n",
              "      <td>20</td>\n",
              "      <td>-14</td>\n",
              "      <td>26</td>\n",
              "      <td>0</td>\n",
              "      <td>0</td>\n",
              "      <td>0</td>\n",
              "      <td>0</td>\n",
              "      <td>0</td>\n",
              "      <td>0</td>\n",
              "      <td>0</td>\n",
              "      <td>0</td>\n",
              "      <td>0</td>\n",
              "      <td>1</td>\n",
              "      <td>0</td>\n",
              "      <td>0</td>\n",
              "      <td>1</td>\n",
              "      <td>0</td>\n",
              "      <td>1</td>\n",
              "      <td>3</td>\n",
              "      <td>4</td>\n",
              "      <td>NaN</td>\n",
              "      <td>0</td>\n",
              "      <td>1</td>\n",
              "      <td>1</td>\n",
              "      <td>0</td>\n",
              "      <td>0</td>\n",
              "      <td>1</td>\n",
              "      <td>0</td>\n",
              "      <td>0</td>\n",
              "      <td>0</td>\n",
              "      <td>0</td>\n",
              "      <td>0</td>\n",
              "      <td>0</td>\n",
              "      <td>2</td>\n",
              "      <td>0</td>\n",
              "      <td>2.0</td>\n",
              "      <td>157.0</td>\n",
              "      <td>0.0</td>\n",
              "      <td>1.569580</td>\n",
              "      <td>1.513428</td>\n",
              "      <td>0.551270</td>\n",
              "      <td>0.230988</td>\n",
              "      <td>0.056198</td>\n",
              "      <td>0.320251</td>\n",
              "    </tr>\n",
              "    <tr>\n",
              "      <th>3</th>\n",
              "      <td>245</td>\n",
              "      <td>0</td>\n",
              "      <td>1</td>\n",
              "      <td>85.0</td>\n",
              "      <td>2.0</td>\n",
              "      <td>14.0</td>\n",
              "      <td>148.0</td>\n",
              "      <td>78.0</td>\n",
              "      <td>0</td>\n",
              "      <td>68</td>\n",
              "      <td>1</td>\n",
              "      <td>15.0</td>\n",
              "      <td>3</td>\n",
              "      <td>5</td>\n",
              "      <td>1</td>\n",
              "      <td>170.1875</td>\n",
              "      <td>59.42</td>\n",
              "      <td>64.410117</td>\n",
              "      <td>4.990117</td>\n",
              "      <td>37.0</td>\n",
              "      <td>3</td>\n",
              "      <td>4</td>\n",
              "      <td>53</td>\n",
              "      <td>0</td>\n",
              "      <td>0</td>\n",
              "      <td>0</td>\n",
              "      <td>0</td>\n",
              "      <td>1</td>\n",
              "      <td>0</td>\n",
              "      <td>0</td>\n",
              "      <td>0</td>\n",
              "      <td>0</td>\n",
              "      <td>0</td>\n",
              "      <td>0</td>\n",
              "      <td>0</td>\n",
              "      <td>0</td>\n",
              "      <td>0</td>\n",
              "      <td>1</td>\n",
              "      <td>2</td>\n",
              "      <td>3</td>\n",
              "      <td>4.0</td>\n",
              "      <td>0</td>\n",
              "      <td>0</td>\n",
              "      <td>1</td>\n",
              "      <td>1</td>\n",
              "      <td>0</td>\n",
              "      <td>0</td>\n",
              "      <td>0</td>\n",
              "      <td>0</td>\n",
              "      <td>0</td>\n",
              "      <td>0</td>\n",
              "      <td>0</td>\n",
              "      <td>1</td>\n",
              "      <td>2</td>\n",
              "      <td>2</td>\n",
              "      <td>NaN</td>\n",
              "      <td>174.0</td>\n",
              "      <td>0.0</td>\n",
              "      <td>1.506592</td>\n",
              "      <td>1.451904</td>\n",
              "      <td>0.524902</td>\n",
              "      <td>0.219971</td>\n",
              "      <td>0.054794</td>\n",
              "      <td>0.304993</td>\n",
              "    </tr>\n",
              "    <tr>\n",
              "      <th>4</th>\n",
              "      <td>252</td>\n",
              "      <td>0</td>\n",
              "      <td>0</td>\n",
              "      <td>NaN</td>\n",
              "      <td>NaN</td>\n",
              "      <td>NaN</td>\n",
              "      <td>118.0</td>\n",
              "      <td>77.0</td>\n",
              "      <td>0</td>\n",
              "      <td>40</td>\n",
              "      <td>0</td>\n",
              "      <td>18.0</td>\n",
              "      <td>2</td>\n",
              "      <td>11</td>\n",
              "      <td>2</td>\n",
              "      <td>181.8750</td>\n",
              "      <td>87.09</td>\n",
              "      <td>92.079251</td>\n",
              "      <td>4.989251</td>\n",
              "      <td>42.0</td>\n",
              "      <td>20</td>\n",
              "      <td>0</td>\n",
              "      <td>19</td>\n",
              "      <td>0</td>\n",
              "      <td>0</td>\n",
              "      <td>0</td>\n",
              "      <td>0</td>\n",
              "      <td>0</td>\n",
              "      <td>0</td>\n",
              "      <td>0</td>\n",
              "      <td>0</td>\n",
              "      <td>0</td>\n",
              "      <td>0</td>\n",
              "      <td>0</td>\n",
              "      <td>0</td>\n",
              "      <td>0</td>\n",
              "      <td>0</td>\n",
              "      <td>1</td>\n",
              "      <td>2</td>\n",
              "      <td>1</td>\n",
              "      <td>2.0</td>\n",
              "      <td>0</td>\n",
              "      <td>1</td>\n",
              "      <td>0</td>\n",
              "      <td>0</td>\n",
              "      <td>0</td>\n",
              "      <td>0</td>\n",
              "      <td>0</td>\n",
              "      <td>0</td>\n",
              "      <td>1</td>\n",
              "      <td>0</td>\n",
              "      <td>0</td>\n",
              "      <td>1</td>\n",
              "      <td>1</td>\n",
              "      <td>2</td>\n",
              "      <td>NaN</td>\n",
              "      <td>216.0</td>\n",
              "      <td>0.0</td>\n",
              "      <td>2.346680</td>\n",
              "      <td>1.797363</td>\n",
              "      <td>1.364990</td>\n",
              "      <td>0.571899</td>\n",
              "      <td>0.549316</td>\n",
              "      <td>0.792969</td>\n",
              "    </tr>\n",
              "  </tbody>\n",
              "</table>\n",
              "</div>"
            ],
            "text/plain": [
              "   seqn  qsmk  death  yrdth  modth  dadth    sbp   dbp  sex  age  race  \\\n",
              "0   233     0      0    NaN    NaN    NaN  175.0  96.0    0   42     1   \n",
              "1   235     0      0    NaN    NaN    NaN  123.0  80.0    0   36     0   \n",
              "2   244     0      0    NaN    NaN    NaN  115.0  75.0    1   56     1   \n",
              "3   245     0      1   85.0    2.0   14.0  148.0  78.0    0   68     1   \n",
              "4   252     0      0    NaN    NaN    NaN  118.0  77.0    0   40     0   \n",
              "\n",
              "   income  marital  school  education        ht   wt71       wt82    wt82_71  \\\n",
              "0    19.0        2       7          1  174.1875  79.04  68.946040 -10.093960   \n",
              "1    18.0        2       9          2  159.3750  58.63  61.234970   2.604970   \n",
              "2    15.0        3      11          2  168.5000  56.81  66.224486   9.414486   \n",
              "3    15.0        3       5          1  170.1875  59.42  64.410117   4.990117   \n",
              "4    18.0        2      11          2  181.8750  87.09  92.079251   4.989251   \n",
              "\n",
              "   birthplace  smokeintensity  smkintensity82_71  smokeyrs  asthma  bronch  \\\n",
              "0        47.0              30                -10        29       0       0   \n",
              "1        42.0              20                -10        24       0       0   \n",
              "2        51.0              20                -14        26       0       0   \n",
              "3        37.0               3                  4        53       0       0   \n",
              "4        42.0              20                  0        19       0       0   \n",
              "\n",
              "   tb  hf  hbp  pepticulcer  colitis  hepatitis  chroniccough  hayfever  \\\n",
              "0   0   0    1            1        0          0             0         0   \n",
              "1   0   0    0            0        0          0             0         0   \n",
              "2   0   0    0            0        0          0             0         1   \n",
              "3   0   0    1            0        0          0             0         0   \n",
              "4   0   0    0            0        0          0             0         0   \n",
              "\n",
              "   diabetes  polio  tumor  nervousbreak  alcoholpy  alcoholfreq  alcoholtype  \\\n",
              "0         1      0      0             0          1            1            3   \n",
              "1         0      0      0             0          1            0            1   \n",
              "2         0      0      1             0          1            3            4   \n",
              "3         0      0      0             0          1            2            3   \n",
              "4         0      0      0             0          1            2            1   \n",
              "\n",
              "   alcoholhowmuch  pica  headache  otherpain  weakheart  allergies  nerves  \\\n",
              "0             7.0     0         1          0          0          0       0   \n",
              "1             4.0     0         1          0          0          0       0   \n",
              "2             NaN     0         1          1          0          0       1   \n",
              "3             4.0     0         0          1          1          0       0   \n",
              "4             2.0     0         1          0          0          0       0   \n",
              "\n",
              "   lackpep  hbpmed  boweltrouble  wtloss  infection  active  exercise  \\\n",
              "0        0       1             0       0          0       0         2   \n",
              "1        0       0             0       0          1       0         0   \n",
              "2        0       0             0       0          0       0         2   \n",
              "3        0       0             0       0          0       1         2   \n",
              "4        0       0             1       0          0       1         1   \n",
              "\n",
              "   birthcontrol  pregnancies  cholesterol  hightax82   price71   price82  \\\n",
              "0             2          NaN        197.0        0.0  2.183594  1.739990   \n",
              "1             2          NaN        301.0        0.0  2.346680  1.797363   \n",
              "2             0          2.0        157.0        0.0  1.569580  1.513428   \n",
              "3             2          NaN        174.0        0.0  1.506592  1.451904   \n",
              "4             2          NaN        216.0        0.0  2.346680  1.797363   \n",
              "\n",
              "      tax71     tax82  price71_82  tax71_82  \n",
              "0  1.102295  0.461975    0.443787  0.640381  \n",
              "1  1.364990  0.571899    0.549316  0.792969  \n",
              "2  0.551270  0.230988    0.056198  0.320251  \n",
              "3  0.524902  0.219971    0.054794  0.304993  \n",
              "4  1.364990  0.571899    0.549316  0.792969  "
            ]
          },
          "metadata": {
            "tags": []
          },
          "execution_count": 22
        }
      ]
    },
    {
      "metadata": {
        "id": "nCZPnwHh0x0Z",
        "outputId": "fcbf86a4-f7eb-446c-8e4f-d987b4bdd745",
        "colab": {
          "base_uri": "https://localhost:8080/",
          "height": 466
        }
      },
      "cell_type": "code",
      "source": [
        "g = '''\n",
        "graph [\n",
        "directed 1\n",
        "node[id \"qsmk\" label \"qsmk\"]\n",
        "node[id \"wt82_71\" label \"wt82_71\"]\n",
        "node[id \"age\" label \"age\"]\n",
        "node[id \"diabetes\" label \"diabetes\"]\n",
        "node[id \"exercise\" label \"exercise\"]\n",
        "edge[source \"qsmk\" target \"wt82_71\" weight 1]\n",
        "edge[source \"qsmk\" target \"exercise\" weight 1]\n",
        "edge[source \"wt82_71\" target \"exercise\" weight 1]\n",
        "edge[source \"age\" target \"qsmk\" weight 1]\n",
        "edge[source \"age\" target \"wt82_71\" weight 1]\n",
        "edge[source \"diabetes\" target \"qsmk\" weight 1]\n",
        "edge[source \"diabetes\" target \"wt82_71\" weight 1]\n",
        "]\n",
        "'''\n",
        "\n",
        "d = '''\n",
        "digraph {\n",
        "qsmk -> wt82_71;\n",
        "qsmk -> exercise;\n",
        "age -> qsmk;\n",
        "age -> wt82_71;\n",
        "diabetes -> qsmk;\n",
        "diabetes -> wt82_71;\n",
        "wt82_71 -> exercise;\n",
        "U[label=\"Unobserved Confounders\"];\n",
        "U -> qsmk;\n",
        "U -> wt82_71;\n",
        "}\n",
        "'''\n",
        "\n",
        "selected = ['age', 'diabetes', 'qsmk', 'wt82_71', 'exercise']\n",
        "\n",
        "data = {}\n",
        "data['df'] = nhefs[selected]\n",
        "data['treatment_name'] = 'qsmk'\n",
        "data['outcome_name'] = 'wt82_71'\n",
        "data['gml_graph'] = g.replace('\\n', '')\n",
        "data['dot_graph'] = d.replace('\\n', '')\n",
        "\n",
        "model = CausalModel(\n",
        "    data=data[\"df\"],\n",
        "    treatment=data[\"treatment_name\"],\n",
        "    outcome=data[\"outcome_name\"],\n",
        "    graph=data[\"gml_graph\"])\n",
        "\n",
        "model.view_model()\n",
        "display(Image(filename=\"causal_model.png\"))"
      ],
      "execution_count": null,
      "outputs": [
        {
          "output_type": "stream",
          "text": [
            "['diabetes', 'age']\n",
            "yes\n",
            "{'observed': 'yes'}\n",
            "yes\n",
            "{'observed': 'yes'}\n",
            "Model to find the causal effect of treatment qsmk on outcome wt82_71\n"
          ],
          "name": "stdout"
        },
        {
          "output_type": "display_data",
          "data": {
            "image/png": "[encoded data removed]",
            "text/plain": [
              "<IPython.core.display.Image object>"
            ]
          },
          "metadata": {
            "tags": []
          }
        }
      ]
    },
    {
      "metadata": {
        "id": "TpErJ32aefgL",
        "outputId": "0ac237c1-103b-4919-a7bb-ea0533f0b4dc",
        "colab": {
          "base_uri": "https://localhost:8080/",
          "height": 1442
        }
      },
      "cell_type": "code",
      "source": [
        "identified_estimand = model.identify_effect()\n",
        "print(identified_estimand)\n",
        "\n",
        "estimate = model.estimate_effect(\n",
        "    identified_estimand,\n",
        "    method_name=\"backdoor.linear_regression\",\n",
        "    test_significance=True)\n",
        "\n",
        "print(estimate)\n",
        "print(\"Causal Estimate is \" + str(estimate.value))"
      ],
      "execution_count": null,
      "outputs": [
        {
          "output_type": "stream",
          "text": [
            "INFO:dowhy.causal_identifier:Common causes of treatment and outcome:{'diabetes', 'U', 'age'}\n"
          ],
          "name": "stderr"
        },
        {
          "output_type": "stream",
          "text": [
            "{'observed': 'yes'}\n",
            "{'label': 'Unobserved Confounders', 'observed': 'no'}\n",
            "There are unobserved common causes. Causal effect cannot be identified.\n",
            "WARN: Do you want to continue by ignoring these unobserved confounders? [y/n] y\n"
          ],
          "name": "stdout"
        },
        {
          "output_type": "stream",
          "text": [
            "INFO:dowhy.causal_identifier:Instrumental variables for treatment and outcome:[]\n",
            "INFO:dowhy.causal_estimator:INFO: Using Linear Regression Estimator\n",
            "INFO:dowhy.causal_estimator:b: wt82_71~qsmk+diabetes+age\n"
          ],
          "name": "stderr"
        },
        {
          "output_type": "stream",
          "text": [
            "Estimand type: ate\n",
            "### Estimand : 1\n",
            "Estimand name: backdoor\n",
            "Estimand expression:\n",
            "  d                                     \n",
            "─────(Expectation(wt82_71|diabetes,age))\n",
            "dqsmk                                   \n",
            "Estimand assumption 1, Unconfoundedness: If U→qsmk and U→wt82_71 then P(wt82_71|qsmk,diabetes,age,U) = P(wt82_71|qsmk,diabetes,age)\n",
            "### Estimand : 2\n",
            "Estimand name: iv\n",
            "No such variable found!\n",
            "\n",
            "LinearRegressionEstimator\n"
          ],
          "name": "stdout"
        },
        {
          "output_type": "error",
          "ename": "ValueError",
          "evalue": "ignored",
          "traceback": [
            "\u001b[0;31m---------------------------------------------------------------------------\u001b[0m",
            "\u001b[0;31mValueError\u001b[0m                                Traceback (most recent call last)",
            "\u001b[0;32m<ipython-input-24-4caeec7a100e>\u001b[0m in \u001b[0;36m<module>\u001b[0;34m()\u001b[0m\n\u001b[1;32m      5\u001b[0m     \u001b[0midentified_estimand\u001b[0m\u001b[0;34m,\u001b[0m\u001b[0;34m\u001b[0m\u001b[0;34m\u001b[0m\u001b[0m\n\u001b[1;32m      6\u001b[0m     \u001b[0mmethod_name\u001b[0m\u001b[0;34m=\u001b[0m\u001b[0;34m\"backdoor.linear_regression\"\u001b[0m\u001b[0;34m,\u001b[0m\u001b[0;34m\u001b[0m\u001b[0;34m\u001b[0m\u001b[0m\n\u001b[0;32m----> 7\u001b[0;31m     test_significance=True)\n\u001b[0m\u001b[1;32m      8\u001b[0m \u001b[0;34m\u001b[0m\u001b[0m\n\u001b[1;32m      9\u001b[0m \u001b[0mprint\u001b[0m\u001b[0;34m(\u001b[0m\u001b[0mestimate\u001b[0m\u001b[0;34m)\u001b[0m\u001b[0;34m\u001b[0m\u001b[0;34m\u001b[0m\u001b[0m\n",
            "\u001b[0;32m/content/dowhy/dowhy/do_why.py\u001b[0m in \u001b[0;36mestimate_effect\u001b[0;34m(self, identified_estimand, method_name, test_significance, method_params)\u001b[0m\n\u001b[1;32m    156\u001b[0m                 \u001b[0mparams\u001b[0m\u001b[0;34m=\u001b[0m\u001b[0mmethod_params\u001b[0m\u001b[0;34m\u001b[0m\u001b[0;34m\u001b[0m\u001b[0m\n\u001b[1;32m    157\u001b[0m             )\n\u001b[0;32m--> 158\u001b[0;31m             \u001b[0mestimate\u001b[0m \u001b[0;34m=\u001b[0m \u001b[0mcausal_estimator\u001b[0m\u001b[0;34m.\u001b[0m\u001b[0mestimate_effect\u001b[0m\u001b[0;34m(\u001b[0m\u001b[0;34m)\u001b[0m\u001b[0;34m\u001b[0m\u001b[0;34m\u001b[0m\u001b[0m\n\u001b[0m\u001b[1;32m    159\u001b[0m             estimate.add_params(\n\u001b[1;32m    160\u001b[0m                 \u001b[0mestimand_type\u001b[0m\u001b[0;34m=\u001b[0m\u001b[0midentified_estimand\u001b[0m\u001b[0;34m.\u001b[0m\u001b[0mestimand_type\u001b[0m\u001b[0;34m,\u001b[0m\u001b[0;34m\u001b[0m\u001b[0;34m\u001b[0m\u001b[0m\n",
            "\u001b[0;32m/content/dowhy/dowhy/causal_estimator.py\u001b[0m in \u001b[0;36mestimate_effect\u001b[0;34m(self)\u001b[0m\n\u001b[1;32m     49\u001b[0m         \u001b[0mself\u001b[0m\u001b[0;34m.\u001b[0m\u001b[0m_treatment\u001b[0m \u001b[0;34m=\u001b[0m \u001b[0mself\u001b[0m\u001b[0;34m.\u001b[0m\u001b[0m_data\u001b[0m\u001b[0;34m[\u001b[0m\u001b[0mself\u001b[0m\u001b[0;34m.\u001b[0m\u001b[0m_treatment_name\u001b[0m\u001b[0;34m]\u001b[0m\u001b[0;34m\u001b[0m\u001b[0;34m\u001b[0m\u001b[0m\n\u001b[1;32m     50\u001b[0m         \u001b[0mself\u001b[0m\u001b[0;34m.\u001b[0m\u001b[0m_outcome\u001b[0m \u001b[0;34m=\u001b[0m \u001b[0mself\u001b[0m\u001b[0;34m.\u001b[0m\u001b[0m_data\u001b[0m\u001b[0;34m[\u001b[0m\u001b[0mself\u001b[0m\u001b[0;34m.\u001b[0m\u001b[0m_outcome_name\u001b[0m\u001b[0;34m]\u001b[0m\u001b[0;34m\u001b[0m\u001b[0;34m\u001b[0m\u001b[0m\n\u001b[0;32m---> 51\u001b[0;31m         \u001b[0mest\u001b[0m \u001b[0;34m=\u001b[0m \u001b[0mself\u001b[0m\u001b[0;34m.\u001b[0m\u001b[0m_estimate_effect\u001b[0m\u001b[0;34m(\u001b[0m\u001b[0;34m)\u001b[0m\u001b[0;34m\u001b[0m\u001b[0;34m\u001b[0m\u001b[0m\n\u001b[0m\u001b[1;32m     52\u001b[0m         \u001b[0;31m# self._estimate = est\u001b[0m\u001b[0;34m\u001b[0m\u001b[0;34m\u001b[0m\u001b[0;34m\u001b[0m\u001b[0m\n\u001b[1;32m     53\u001b[0m \u001b[0;34m\u001b[0m\u001b[0m\n",
            "\u001b[0;32m/content/dowhy/dowhy/causal_estimators/linear_regression_estimator.py\u001b[0m in \u001b[0;36m_estimate_effect\u001b[0;34m(self)\u001b[0m\n\u001b[1;32m     32\u001b[0m                                   axis=1)\n\u001b[1;32m     33\u001b[0m         \u001b[0mself\u001b[0m\u001b[0;34m.\u001b[0m\u001b[0m_linear_model\u001b[0m \u001b[0;34m=\u001b[0m \u001b[0mlinear_model\u001b[0m\u001b[0;34m.\u001b[0m\u001b[0mLinearRegression\u001b[0m\u001b[0;34m(\u001b[0m\u001b[0;34m)\u001b[0m\u001b[0;34m\u001b[0m\u001b[0;34m\u001b[0m\u001b[0m\n\u001b[0;32m---> 34\u001b[0;31m         \u001b[0mself\u001b[0m\u001b[0;34m.\u001b[0m\u001b[0m_linear_model\u001b[0m\u001b[0;34m.\u001b[0m\u001b[0mfit\u001b[0m\u001b[0;34m(\u001b[0m\u001b[0mfeatures\u001b[0m\u001b[0;34m,\u001b[0m \u001b[0mself\u001b[0m\u001b[0;34m.\u001b[0m\u001b[0m_outcome\u001b[0m\u001b[0;34m)\u001b[0m\u001b[0;34m\u001b[0m\u001b[0;34m\u001b[0m\u001b[0m\n\u001b[0m\u001b[1;32m     35\u001b[0m         \u001b[0mcoefficients\u001b[0m \u001b[0;34m=\u001b[0m \u001b[0mself\u001b[0m\u001b[0;34m.\u001b[0m\u001b[0m_linear_model\u001b[0m\u001b[0;34m.\u001b[0m\u001b[0mcoef_\u001b[0m\u001b[0;34m\u001b[0m\u001b[0;34m\u001b[0m\u001b[0m\n\u001b[1;32m     36\u001b[0m         self.logger.debug(\"Coefficients of the fitted linear model: \" +\n",
            "\u001b[0;32m/usr/local/lib/python3.6/dist-packages/sklearn/linear_model/base.py\u001b[0m in \u001b[0;36mfit\u001b[0;34m(self, X, y, sample_weight)\u001b[0m\n\u001b[1;32m    456\u001b[0m         \u001b[0mn_jobs_\u001b[0m \u001b[0;34m=\u001b[0m \u001b[0mself\u001b[0m\u001b[0;34m.\u001b[0m\u001b[0mn_jobs\u001b[0m\u001b[0;34m\u001b[0m\u001b[0;34m\u001b[0m\u001b[0m\n\u001b[1;32m    457\u001b[0m         X, y = check_X_y(X, y, accept_sparse=['csr', 'csc', 'coo'],\n\u001b[0;32m--> 458\u001b[0;31m                          y_numeric=True, multi_output=True)\n\u001b[0m\u001b[1;32m    459\u001b[0m \u001b[0;34m\u001b[0m\u001b[0m\n\u001b[1;32m    460\u001b[0m         \u001b[0;32mif\u001b[0m \u001b[0msample_weight\u001b[0m \u001b[0;32mis\u001b[0m \u001b[0;32mnot\u001b[0m \u001b[0;32mNone\u001b[0m \u001b[0;32mand\u001b[0m \u001b[0mnp\u001b[0m\u001b[0;34m.\u001b[0m\u001b[0matleast_1d\u001b[0m\u001b[0;34m(\u001b[0m\u001b[0msample_weight\u001b[0m\u001b[0;34m)\u001b[0m\u001b[0;34m.\u001b[0m\u001b[0mndim\u001b[0m \u001b[0;34m>\u001b[0m \u001b[0;36m1\u001b[0m\u001b[0;34m:\u001b[0m\u001b[0;34m\u001b[0m\u001b[0;34m\u001b[0m\u001b[0m\n",
            "\u001b[0;32m/usr/local/lib/python3.6/dist-packages/sklearn/utils/validation.py\u001b[0m in \u001b[0;36mcheck_X_y\u001b[0;34m(X, y, accept_sparse, accept_large_sparse, dtype, order, copy, force_all_finite, ensure_2d, allow_nd, multi_output, ensure_min_samples, ensure_min_features, y_numeric, warn_on_dtype, estimator)\u001b[0m\n\u001b[1;32m    757\u001b[0m     \u001b[0;32mif\u001b[0m \u001b[0mmulti_output\u001b[0m\u001b[0;34m:\u001b[0m\u001b[0;34m\u001b[0m\u001b[0;34m\u001b[0m\u001b[0m\n\u001b[1;32m    758\u001b[0m         y = check_array(y, 'csr', force_all_finite=True, ensure_2d=False,\n\u001b[0;32m--> 759\u001b[0;31m                         dtype=None)\n\u001b[0m\u001b[1;32m    760\u001b[0m     \u001b[0;32melse\u001b[0m\u001b[0;34m:\u001b[0m\u001b[0;34m\u001b[0m\u001b[0;34m\u001b[0m\u001b[0m\n\u001b[1;32m    761\u001b[0m         \u001b[0my\u001b[0m \u001b[0;34m=\u001b[0m \u001b[0mcolumn_or_1d\u001b[0m\u001b[0;34m(\u001b[0m\u001b[0my\u001b[0m\u001b[0;34m,\u001b[0m \u001b[0mwarn\u001b[0m\u001b[0;34m=\u001b[0m\u001b[0;32mTrue\u001b[0m\u001b[0;34m)\u001b[0m\u001b[0;34m\u001b[0m\u001b[0;34m\u001b[0m\u001b[0m\n",
            "\u001b[0;32m/usr/local/lib/python3.6/dist-packages/sklearn/utils/validation.py\u001b[0m in \u001b[0;36mcheck_array\u001b[0;34m(array, accept_sparse, accept_large_sparse, dtype, order, copy, force_all_finite, ensure_2d, allow_nd, ensure_min_samples, ensure_min_features, warn_on_dtype, estimator)\u001b[0m\n\u001b[1;32m    571\u001b[0m         \u001b[0;32mif\u001b[0m \u001b[0mforce_all_finite\u001b[0m\u001b[0;34m:\u001b[0m\u001b[0;34m\u001b[0m\u001b[0;34m\u001b[0m\u001b[0m\n\u001b[1;32m    572\u001b[0m             _assert_all_finite(array,\n\u001b[0;32m--> 573\u001b[0;31m                                allow_nan=force_all_finite == 'allow-nan')\n\u001b[0m\u001b[1;32m    574\u001b[0m \u001b[0;34m\u001b[0m\u001b[0m\n\u001b[1;32m    575\u001b[0m     \u001b[0mshape_repr\u001b[0m \u001b[0;34m=\u001b[0m \u001b[0m_shape_repr\u001b[0m\u001b[0;34m(\u001b[0m\u001b[0marray\u001b[0m\u001b[0;34m.\u001b[0m\u001b[0mshape\u001b[0m\u001b[0;34m)\u001b[0m\u001b[0;34m\u001b[0m\u001b[0;34m\u001b[0m\u001b[0m\n",
            "\u001b[0;32m/usr/local/lib/python3.6/dist-packages/sklearn/utils/validation.py\u001b[0m in \u001b[0;36m_assert_all_finite\u001b[0;34m(X, allow_nan)\u001b[0m\n\u001b[1;32m     54\u001b[0m                 not allow_nan and not np.isfinite(X).all()):\n\u001b[1;32m     55\u001b[0m             \u001b[0mtype_err\u001b[0m \u001b[0;34m=\u001b[0m \u001b[0;34m'infinity'\u001b[0m \u001b[0;32mif\u001b[0m \u001b[0mallow_nan\u001b[0m \u001b[0;32melse\u001b[0m \u001b[0;34m'NaN, infinity'\u001b[0m\u001b[0;34m\u001b[0m\u001b[0;34m\u001b[0m\u001b[0m\n\u001b[0;32m---> 56\u001b[0;31m             \u001b[0;32mraise\u001b[0m \u001b[0mValueError\u001b[0m\u001b[0;34m(\u001b[0m\u001b[0mmsg_err\u001b[0m\u001b[0;34m.\u001b[0m\u001b[0mformat\u001b[0m\u001b[0;34m(\u001b[0m\u001b[0mtype_err\u001b[0m\u001b[0;34m,\u001b[0m \u001b[0mX\u001b[0m\u001b[0;34m.\u001b[0m\u001b[0mdtype\u001b[0m\u001b[0;34m)\u001b[0m\u001b[0;34m)\u001b[0m\u001b[0;34m\u001b[0m\u001b[0;34m\u001b[0m\u001b[0m\n\u001b[0m\u001b[1;32m     57\u001b[0m \u001b[0;34m\u001b[0m\u001b[0m\n\u001b[1;32m     58\u001b[0m \u001b[0;34m\u001b[0m\u001b[0m\n",
            "\u001b[0;31mValueError\u001b[0m: Input contains NaN, infinity or a value too large for dtype('float64')."
          ]
        }
      ]
    },
    {
      "metadata": {
        "id": "9NB0vjlPoV3I",
        "outputId": "169d78b7-9cff-4c5f-e09c-9974db97a74b",
        "colab": {
          "base_uri": "https://localhost:8080/",
          "height": 35
        }
      },
      "cell_type": "code",
      "source": [
        "nhefs[selected].isnull().values.any()"
      ],
      "execution_count": null,
      "outputs": [
        {
          "output_type": "execute_result",
          "data": {
            "text/plain": [
              "True"
            ]
          },
          "metadata": {
            "tags": []
          },
          "execution_count": 21
        }
      ]
    },
    {
      "metadata": {
        "id": "Omnf9mMMl-CC",
        "outputId": "627069b6-5461-40a6-f7dc-33177de54b33",
        "colab": {
          "base_uri": "https://localhost:8080/",
          "height": 1421
        }
      },
      "cell_type": "code",
      "source": [
        "from sklearn.preprocessing import Imputer\n",
        "\n",
        "nhefs_imputed = nhefs\n",
        "for i in selected:\n",
        "  imputer = Imputer(missing_values=\"NaN\", strategy=\"mean\")\n",
        "  nhefs_imputed[i] = imputer.fit_transform(nhefs[[i]])\n",
        "\n",
        "data = {}\n",
        "data['df'] = nhefs_imputed\n",
        "data['treatment_name'] = 'qsmk'\n",
        "data['outcome_name'] = 'wt82_71'\n",
        "data['gml_graph'] = g.replace('\\n', '')\n",
        "data['dot_graph'] = d.replace('\\n', '')\n",
        "\n",
        "model = CausalModel(\n",
        "    data=data[\"df\"],\n",
        "    treatment=data[\"treatment_name\"],\n",
        "    outcome=data[\"outcome_name\"],\n",
        "    graph=data[\"gml_graph\"])\n",
        "\n",
        "model.view_model()\n",
        "display(Image(filename=\"causal_model.png\"))\n",
        "\n",
        "identified_estimand = model.identify_effect()\n",
        "print(identified_estimand)\n",
        "\n",
        "estimate = model.estimate_effect(\n",
        "    identified_estimand,\n",
        "    method_name=\"backdoor.linear_regression\",\n",
        "    test_significance=True)\n",
        "\n",
        "print(estimate)\n",
        "print(\"Causal Estimate is \" + str(estimate.value))"
      ],
      "execution_count": null,
      "outputs": [
        {
          "output_type": "stream",
          "text": [
            "['diabetes', 'age']\n",
            "yes\n",
            "{'observed': 'yes'}\n",
            "yes\n",
            "{'observed': 'yes'}\n",
            "Model to find the causal effect of treatment qsmk on outcome wt82_71\n"
          ],
          "name": "stdout"
        },
        {
          "output_type": "stream",
          "text": [
            "/usr/local/lib/python3.6/dist-packages/sklearn/utils/deprecation.py:58: DeprecationWarning: Class Imputer is deprecated; Imputer was deprecated in version 0.20 and will be removed in 0.22. Import impute.SimpleImputer from sklearn instead.\n",
            "  warnings.warn(msg, category=DeprecationWarning)\n",
            "/usr/local/lib/python3.6/dist-packages/sklearn/utils/deprecation.py:58: DeprecationWarning: Class Imputer is deprecated; Imputer was deprecated in version 0.20 and will be removed in 0.22. Import impute.SimpleImputer from sklearn instead.\n",
            "  warnings.warn(msg, category=DeprecationWarning)\n",
            "/usr/local/lib/python3.6/dist-packages/sklearn/utils/deprecation.py:58: DeprecationWarning: Class Imputer is deprecated; Imputer was deprecated in version 0.20 and will be removed in 0.22. Import impute.SimpleImputer from sklearn instead.\n",
            "  warnings.warn(msg, category=DeprecationWarning)\n",
            "/usr/local/lib/python3.6/dist-packages/sklearn/utils/deprecation.py:58: DeprecationWarning: Class Imputer is deprecated; Imputer was deprecated in version 0.20 and will be removed in 0.22. Import impute.SimpleImputer from sklearn instead.\n",
            "  warnings.warn(msg, category=DeprecationWarning)\n",
            "/usr/local/lib/python3.6/dist-packages/sklearn/utils/deprecation.py:58: DeprecationWarning: Class Imputer is deprecated; Imputer was deprecated in version 0.20 and will be removed in 0.22. Import impute.SimpleImputer from sklearn instead.\n",
            "  warnings.warn(msg, category=DeprecationWarning)\n"
          ],
          "name": "stderr"
        },
        {
          "output_type": "display_data",
          "data": {
            "image/png": "[encoded data removed]",
            "text/plain": [
              "<IPython.core.display.Image object>"
            ]
          },
          "metadata": {
            "tags": []
          }
        },
        {
          "output_type": "stream",
          "text": [
            "INFO:dowhy.causal_identifier:Common causes of treatment and outcome:{'diabetes', 'U', 'age'}\n"
          ],
          "name": "stderr"
        },
        {
          "output_type": "stream",
          "text": [
            "{'observed': 'yes'}\n",
            "{'label': 'Unobserved Confounders', 'observed': 'no'}\n",
            "There are unobserved common causes. Causal effect cannot be identified.\n",
            "WARN: Do you want to continue by ignoring these unobserved confounders? [y/n] y\n"
          ],
          "name": "stdout"
        },
        {
          "output_type": "stream",
          "text": [
            "INFO:dowhy.causal_identifier:Instrumental variables for treatment and outcome:[]\n",
            "INFO:dowhy.causal_estimator:INFO: Using Linear Regression Estimator\n",
            "INFO:dowhy.causal_estimator:b: wt82_71~qsmk+diabetes+age\n"
          ],
          "name": "stderr"
        },
        {
          "output_type": "stream",
          "text": [
            "Estimand type: ate\n",
            "### Estimand : 1\n",
            "Estimand name: backdoor\n",
            "Estimand expression:\n",
            "  d                                     \n",
            "─────(Expectation(wt82_71|diabetes,age))\n",
            "dqsmk                                   \n",
            "Estimand assumption 1, Unconfoundedness: If U→qsmk and U→wt82_71 then P(wt82_71|qsmk,diabetes,age,U) = P(wt82_71|qsmk,diabetes,age)\n",
            "### Estimand : 2\n",
            "Estimand name: iv\n",
            "No such variable found!\n",
            "\n",
            "LinearRegressionEstimator\n",
            "*** Causal Estimate ***\n",
            "\n",
            "## Target estimand\n",
            "Estimand type: ate\n",
            "### Estimand : 1\n",
            "Estimand name: backdoor\n",
            "Estimand expression:\n",
            "  d                                     \n",
            "─────(Expectation(wt82_71|diabetes,age))\n",
            "dqsmk                                   \n",
            "Estimand assumption 1, Unconfoundedness: If U→qsmk and U→wt82_71 then P(wt82_71|qsmk,diabetes,age,U) = P(wt82_71|qsmk,diabetes,age)\n",
            "### Estimand : 2\n",
            "Estimand name: iv\n",
            "No such variable found!\n",
            "\n",
            "## Realized estimand\n",
            "b: wt82_71~qsmk+diabetes+age\n",
            "## Estimate\n",
            "Value: 2.991085165842603\n",
            "\n",
            "## Statistical Significance\n",
            "p-value: <0.001\n",
            "\n",
            "Causal Estimate is 2.991085165842603\n"
          ],
          "name": "stdout"
        }
      ]
    },
    {
      "metadata": {
        "id": "TVI-UQ1Vmuap"
      },
      "cell_type": "code",
      "source": [],
      "execution_count": null,
      "outputs": []
    },
    {
      "metadata": {
        "id": "vdQSNS7xGAdM"
      },
      "cell_type": "code",
      "source": [
        "# df = data['df']\n",
        "# df['Y'] = df['Y'] + np.random.normal(size=len(df)) # without noise, the variance in Y|X, Z is zero, and mcmc fails.\n",
        "\n",
        "# cdf = CausalDataFrame(df)\n",
        "# cdf.causal.do(x={'A': 1},\n",
        "#               variable_types={'A': 'b', 'C': 'c', 'Y': 'b', 'S': 'b'},\n",
        "#               outcome='Y',\n",
        "#               method='mcmc',\n",
        "#               common_causes=['C'],\n",
        "#               keep_original_treatment=True,\n",
        "#               proceed_when_unidentifiable=True).groupby('A').mean().plot(y='Y', kind='bar')\n",
        "\n",
        "# cdf = CausalDataFrame(df)\n",
        "\n",
        "# cdf_1 = cdf.causal.do(x={'A': 1},\n",
        "#               variable_types={'A': 'b', 'C': 'c', 'Y': 'b', 'S': 'b'},\n",
        "#               outcome='Y',\n",
        "#               method='mcmc',\n",
        "#               dot_graph=data['dot_graph'],\n",
        "#               proceed_when_unidentifiable=True)\n",
        "\n",
        "# cdf_0 = cdf.causal.do(x={'A': 0},\n",
        "#               variable_types={'A': 'b', 'C': 'c', 'Y': 'b', 'S': 'b'},\n",
        "#               outcome='Y',\n",
        "#               method='mcmc',\n",
        "#               dot_graph=data['dot_graph'],\n",
        "#               proceed_when_unidentifiable=True,\n",
        "#               use_previous_sampler=True)\n",
        "\n",
        "# print((cdf_1['Y'] - cdf_0['Y']).mean())\n",
        "# print(1.96*(cdf_1['Y'] - cdf_0['Y']).std() / np.sqrt(len(cdf)))\n",
        "\n",
        "# cdf_do = cdf.causal.do(x={'A': 0},\n",
        "#               variable_types={'A': 'b', 'C': 'c', 'Y': 'c'},\n",
        "#               outcome='Y',\n",
        "#               method='mcmc',\n",
        "#               common_causes=['C'],\n",
        "#               keep_original_treatment=True,\n",
        "#               proceed_when_unidentifiable=True).groupby('A').mean().plot(y='Y', kind='bar')"
      ],
      "execution_count": null,
      "outputs": []
    }
  ]
}