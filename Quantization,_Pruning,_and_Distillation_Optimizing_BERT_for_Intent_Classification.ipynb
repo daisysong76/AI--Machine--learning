{
  "nbformat": 4,
  "nbformat_minor": 0,
  "metadata": {
    "colab": {
      "provenance": [],
      "authorship_tag": "ABX9TyO4QZpAyPGMwBWAPPBSOt6V",
      "include_colab_link": true
    },
    "kernelspec": {
      "name": "python3",
      "display_name": "Python 3"
    },
    "language_info": {
      "name": "python"
    }
  },
  "cells": [
    {
      "cell_type": "markdown",
      "metadata": {
        "id": "view-in-github",
        "colab_type": "text"
      },
      "source": [
        "<a href=\"https://colab.research.google.com/github/daisysong76/AI--Machine--learning/blob/main/Quantization%2C_Pruning%2C_and_Distillation_Optimizing_BERT_for_Intent_Classification.ipynb\" target=\"_parent\"><img src=\"https://colab.research.google.com/assets/colab-badge.svg\" alt=\"Open In Colab\"/></a>"
      ]
    },
    {
      "cell_type": "code",
      "execution_count": null,
      "metadata": {
        "id": "e0fyU4NRPEmA"
      },
      "outputs": [],
      "source": [
        "!pip install transformers torch\n"
      ]
    },
    {
      "cell_type": "code",
      "source": [
        "import torch\n",
        "from transformers import BertForSequenceClassification, DistilBertForSequenceClassification, Trainer, TrainingArguments\n",
        "from datasets import load_dataset\n",
        "\n",
        "# Load BERT (teacher) and DistilBERT (student) models\n",
        "teacher_model = BertForSequenceClassification.from_pretrained(\"bert-base-uncased\", num_labels=3)\n",
        "student_model = DistilBertForSequenceClassification.from_pretrained(\"distilbert-base-uncased\", num_labels=3)\n",
        "\n",
        "# Load a sample intent classification dataset (e.g., banking77 from Hugging Face)\n",
        "dataset = load_dataset(\"banking77\", split=\"train[:5%]\")  # For demo purposes\n"
      ],
      "metadata": {
        "id": "tU6cwvbZPJ_-"
      },
      "execution_count": null,
      "outputs": []
    },
    {
      "cell_type": "code",
      "source": [
        "from torch.nn import functional as F\n",
        "\n",
        "# Custom distillation loss function\n",
        "def distillation_loss(student_outputs, teacher_outputs, labels, alpha=0.5, temperature=2.0):\n",
        "    # Softmax temperature for distillation\n",
        "    soft_teacher_logits = F.log_softmax(teacher_outputs.logits / temperature, dim=-1)\n",
        "    soft_student_logits = F.log_softmax(student_outputs.logits / temperature, dim=-1)\n",
        "\n",
        "    # KL divergence loss\n",
        "    distill_loss = F.kl_div(soft_student_logits, soft_teacher_logits, reduction=\"batchmean\") * (temperature ** 2)\n",
        "\n",
        "    # Cross-entropy with ground truth labels\n",
        "    hard_loss = F.cross_entropy(student_outputs.logits, labels)\n",
        "\n",
        "    return alpha * distill_loss + (1 - alpha) * hard_loss\n",
        "\n",
        "# Define a custom Trainer for distillation\n",
        "class DistillationTrainer(Trainer):\n",
        "    def compute_loss(self, model, inputs, return_outputs=False):\n",
        "        labels = inputs.pop(\"labels\")\n",
        "        outputs = model(**inputs)\n",
        "        with torch.no_grad():\n",
        "            teacher_outputs = teacher_model(**inputs)\n",
        "        loss = distillation_loss(outputs, teacher_outputs, labels)\n",
        "        return (loss, outputs) if return_outputs else loss\n",
        "\n",
        "# Set up Trainer with distillation loss\n",
        "training_args = TrainingArguments(\n",
        "    output_dir=\"./distilled_student\",\n",
        "    evaluation_strategy=\"epoch\",\n",
        "    learning_rate=5e-5,\n",
        "    per_device_train_batch_size=16,\n",
        "    num_train_epochs=3,\n",
        ")\n",
        "trainer = DistillationTrainer(\n",
        "    model=student_model,\n",
        "    args=training_args,\n",
        "    train_dataset=dataset,\n",
        ")\n",
        "trainer.train()\n"
      ],
      "metadata": {
        "id": "o-zsR4JoPMPg"
      },
      "execution_count": null,
      "outputs": []
    },
    {
      "cell_type": "code",
      "source": [
        "import torch.nn.utils.prune as prune\n",
        "\n",
        "# Function to prune linear layers\n",
        "def prune_model(model, amount=0.3):\n",
        "    for name, module in model.named_modules():\n",
        "        if isinstance(module, torch.nn.Linear):\n",
        "            prune.l1_unstructured(module, name=\"weight\", amount=amount)\n",
        "            prune.remove(module, 'weight')  # Make pruning permanent\n",
        "\n",
        "# Apply pruning\n",
        "prune_model(student_model, amount=0.3)\n"
      ],
      "metadata": {
        "id": "awtEcqbQPhOT"
      },
      "execution_count": null,
      "outputs": []
    },
    {
      "cell_type": "code",
      "source": [
        "# Apply dynamic quantization\n",
        "quantized_model = torch.quantization.quantize_dynamic(\n",
        "    student_model, {torch.nn.Linear}, dtype=torch.qint8\n",
        ")\n"
      ],
      "metadata": {
        "id": "4ygO4ZUnPmZE"
      },
      "execution_count": null,
      "outputs": []
    },
    {
      "cell_type": "code",
      "source": [
        "def evaluate(model, dataset):\n",
        "    model.eval()\n",
        "    correct, total = 0, 0\n",
        "    for batch in dataset:\n",
        "        inputs = tokenizer(batch[\"text\"], return_tensors=\"pt\", padding=True, truncation=True)\n",
        "        labels = torch.tensor(batch[\"label\"]).unsqueeze(0)\n",
        "        outputs = model(**inputs)\n",
        "        _, predicted = torch.max(outputs.logits, 1)\n",
        "        correct += (predicted == labels).sum().item()\n",
        "        total += labels.size(0)\n",
        "    print(f\"Accuracy: {correct / total * 100:.2f}%\")\n",
        "\n",
        "# Test the quantized model\n",
        "evaluate(quantized_model, dataset)\n"
      ],
      "metadata": {
        "id": "2QVwOyQ3PrIQ"
      },
      "execution_count": null,
      "outputs": []
    }
  ]
}